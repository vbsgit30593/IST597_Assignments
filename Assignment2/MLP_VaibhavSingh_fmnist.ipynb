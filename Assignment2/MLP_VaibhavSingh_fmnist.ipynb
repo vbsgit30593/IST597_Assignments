{
  "cells": [
    {
      "cell_type": "markdown",
      "metadata": {
        "id": "71kdFp0QgF4K"
      },
      "source": [
        "# IST597:- Multi-Layer Perceptron"
      ]
    },
    {
      "cell_type": "markdown",
      "metadata": {
        "id": "C2yHcl5xgPV1"
      },
      "source": [
        "## Load the libraries"
      ]
    },
    {
      "cell_type": "code",
      "execution_count": 40,
      "metadata": {
        "id": "2DPwxLR2gSLC"
      },
      "outputs": [],
      "source": [
        "import os\n",
        "import numpy as np\n",
        "import time\n",
        "import tensorflow as tf\n",
        "seed = 5308\n",
        "np.random.seed(seed)\n",
        "tf.random.set_seed(seed)"
      ]
    },
    {
      "cell_type": "code",
      "execution_count": 41,
      "metadata": {
        "colab": {
          "base_uri": "https://localhost:8080/"
        },
        "id": "wV-3kEaggcO8",
        "outputId": "f261d651-a7c7-4853-85eb-b6f4552916cd"
      },
      "outputs": [
        {
          "output_type": "execute_result",
          "data": {
            "text/plain": [
              "[PhysicalDevice(name='/physical_device:GPU:0', device_type='GPU')]"
            ]
          },
          "metadata": {},
          "execution_count": 41
        }
      ],
      "source": [
        "tf.config.list_physical_devices('GPU')"
      ]
    },
    {
      "cell_type": "code",
      "source": [
        "tf.executing_eagerly()"
      ],
      "metadata": {
        "colab": {
          "base_uri": "https://localhost:8080/"
        },
        "id": "3QnP3yO1RIr2",
        "outputId": "a83899de-941b-441c-b75c-bd107807c3e0"
      },
      "execution_count": 42,
      "outputs": [
        {
          "output_type": "execute_result",
          "data": {
            "text/plain": [
              "True"
            ]
          },
          "metadata": {},
          "execution_count": 42
        }
      ]
    },
    {
      "cell_type": "markdown",
      "metadata": {
        "id": "iw78jw6pDqSM"
      },
      "source": [
        "#Get number of Gpu's and id's in the system or else you can also use Nvidia-smi in command prompt."
      ]
    },
    {
      "cell_type": "markdown",
      "metadata": {
        "id": "7Dk_S2TMg_6_"
      },
      "source": [
        "## Generate random data"
      ]
    },
    {
      "cell_type": "code",
      "execution_count": 45,
      "metadata": {
        "id": "BMIEpXCV3phf"
      },
      "outputs": [],
      "source": [
        "#Getting the datasets - mnist : digit dataset, fashion_mnist : labelled fashion images\n",
        "#mnist = tf.keras.datasets.mnist\n",
        "fashion_mnist = tf.keras.datasets.fashion_mnist"
      ]
    },
    {
      "cell_type": "code",
      "execution_count": 46,
      "metadata": {
        "id": "sdXQMJCi1fhL",
        "colab": {
          "base_uri": "https://localhost:8080/"
        },
        "outputId": "bf95d234-2486-417c-9861-574660c27cc9"
      },
      "outputs": [
        {
          "output_type": "execute_result",
          "data": {
            "text/plain": [
              "((60000, 28, 28), (10000, 28, 28))"
            ]
          },
          "metadata": {},
          "execution_count": 46
        }
      ],
      "source": [
        "(X_train, y_train), (X_test, y_test) = fashion_mnist.load_data()\n",
        "X_train.shape, X_test.shape"
      ]
    },
    {
      "cell_type": "code",
      "execution_count": 71,
      "metadata": {
        "colab": {
          "base_uri": "https://localhost:8080/"
        },
        "id": "40XlFnwho7D8",
        "outputId": "46ed0dbd-8d3c-4c1b-fc1c-3e2da892b4b9"
      },
      "outputs": [
        {
          "output_type": "stream",
          "name": "stdout",
          "text": [
            "10000,60000\n"
          ]
        }
      ],
      "source": [
        "size_input = 784\n",
        "size_hidden_1 = 256 \n",
        "size_hidden_2 = 128\n",
        "size_output = 10 #should be 10 since digits are from 0-9\n",
        "number_of_train_examples = X_train.shape[0]\n",
        "number_of_test_examples = X_test.shape[0]\n",
        "print (f\"{number_of_test_examples},{number_of_train_examples}\")"
      ]
    },
    {
      "cell_type": "code",
      "source": [
        "#Normalizing data\n",
        "#X_train = X_train/255.0\n",
        "#X_test = X_test/255.0"
      ],
      "metadata": {
        "id": "OSjdXlNjYWho"
      },
      "execution_count": null,
      "outputs": []
    },
    {
      "cell_type": "code",
      "source": [
        "X_train = X_train.reshape(number_of_train_examples, -1)\n",
        "X_test = X_test.reshape(number_of_test_examples, -1)\n",
        "X_test.shape, X_train.shape"
      ],
      "metadata": {
        "colab": {
          "base_uri": "https://localhost:8080/"
        },
        "id": "fHt0LYO5QHfm",
        "outputId": "c235411c-882e-47f5-e85e-fe80873cc81c"
      },
      "execution_count": 49,
      "outputs": [
        {
          "output_type": "execute_result",
          "data": {
            "text/plain": [
              "((10000, 784), (60000, 784))"
            ]
          },
          "metadata": {},
          "execution_count": 49
        }
      ]
    },
    {
      "cell_type": "code",
      "source": [
        "#Normalizing data\n",
        "X_train = X_train/255.0\n",
        "X_test = X_test/255.0"
      ],
      "metadata": {
        "id": "JwGxAPGGWNVq"
      },
      "execution_count": 50,
      "outputs": []
    },
    {
      "cell_type": "code",
      "source": [
        "y_train[0]"
      ],
      "metadata": {
        "colab": {
          "base_uri": "https://localhost:8080/"
        },
        "id": "kC5TsYcqFikI",
        "outputId": "2026641c-a1cb-477e-f6ea-2a7d74300dab"
      },
      "execution_count": null,
      "outputs": [
        {
          "output_type": "execute_result",
          "data": {
            "text/plain": [
              "5"
            ]
          },
          "metadata": {},
          "execution_count": 18
        }
      ]
    },
    {
      "cell_type": "code",
      "source": [
        "num_classes = 10\n",
        "y_train = tf.keras.utils.to_categorical(y_train, num_classes)\n",
        "y_test = tf.keras.utils.to_categorical(y_test, num_classes)\n",
        "y_train[0]"
      ],
      "metadata": {
        "colab": {
          "base_uri": "https://localhost:8080/"
        },
        "id": "fMQYG61RUFkA",
        "outputId": "a916c32a-4c14-4244-9702-2303cb2d96b4"
      },
      "execution_count": 51,
      "outputs": [
        {
          "output_type": "execute_result",
          "data": {
            "text/plain": [
              "array([0., 0., 0., 0., 0., 0., 0., 0., 0., 1.], dtype=float32)"
            ]
          },
          "metadata": {},
          "execution_count": 51
        }
      ]
    },
    {
      "cell_type": "code",
      "execution_count": 52,
      "metadata": {
        "colab": {
          "base_uri": "https://localhost:8080/"
        },
        "id": "aigqKFFF5BM2",
        "outputId": "dbff4c90-ead7-4b88-d8f0-d561f90aa053"
      },
      "outputs": [
        {
          "output_type": "execute_result",
          "data": {
            "text/plain": [
              "(<BatchDataset shapes: ((None, 784), (None, 10)), types: (tf.float64, tf.float32)>,\n",
              " <BatchDataset shapes: ((None, 784), (None, 10)), types: (tf.float64, tf.float32)>)"
            ]
          },
          "metadata": {},
          "execution_count": 52
        }
      ],
      "source": [
        "# Split dataset into batches\n",
        "train_ds = tf.data.Dataset.from_tensor_slices((X_train, y_train)).batch(16)\n",
        "test_ds = tf.data.Dataset.from_tensor_slices((X_test, y_test)).batch(4)\n",
        "train_ds,test_ds"
      ]
    },
    {
      "cell_type": "markdown",
      "metadata": {
        "id": "Eb4hOoVbnzSJ"
      },
      "source": [
        "# Build MLP using Eager Execution"
      ]
    },
    {
      "cell_type": "markdown",
      "source": [
        "## Combined model with L2 and dropout enable knobs"
      ],
      "metadata": {
        "id": "sWtvkkTosLov"
      }
    },
    {
      "cell_type": "code",
      "source": [
        "# Combined model with L2 and dropout enable knobs\n",
        "import sys\n",
        "from tensorflow.python.ops.gen_math_ops import square\n",
        "import numpy as np\n",
        "# Define class to build mlp model\n",
        "class MLP_combined(object):\n",
        "  def __init__(self, size_input, size_hidden_1, size_hidden_2, size_output, reg_mode = \"default\", lambda_l2 = 0.8, dropout = 0.3, lr = 0.05, device=None):\n",
        "    \"\"\"\n",
        "    size_input: int, size of input layer\n",
        "    size_hidden: int, size of hidden layer\n",
        "    size_output: int, size of output layer\n",
        "    device: str or None, either 'cpu' or 'gpu' or None. If None, the device to be used will be decided automatically during Eager Execution\n",
        "    \"\"\"\n",
        "    import sys\n",
        "    self.size_input, self.size_hidden_1, self.size_hidden_2, self.size_output, self.reg_mode, self.lambda_l2, self.dropout, self.lr, self.device =\\\n",
        "    size_input, size_hidden_1, size_hidden_2, size_output, reg_mode, lambda_l2, dropout, lr, device\n",
        "    \n",
        "    # Initialize weights between input layer and hidden layer 1 - (128, 128)\n",
        "    self.W1 = tf.Variable(tf.random.normal([self.size_input, self.size_hidden_1]))\n",
        "    # Initialize biases for hidden layer 1 - (1,128)\n",
        "    self.b1 = tf.Variable(tf.random.normal([1, self.size_hidden_1]))\n",
        "\n",
        "    # Initialize weights between hidden layer 1 and hidden layer 2 - (128, 128)\n",
        "    self.W2 = tf.Variable(tf.random.normal([self.size_hidden_1, self.size_hidden_2]))\n",
        "    # Initialize biases for hidden layer 2 - (1, 128)\n",
        "    self.b2 = tf.Variable(tf.random.normal([1, self.size_hidden_2]))\n",
        "\n",
        "    # Initialize weights between hidden layer 2 and output layer - (128, 10)\n",
        "    self.W3 = tf.Variable(tf.random.normal([self.size_hidden_2, self.size_output]))\n",
        "    # Initialize biases for output layer - (1,10)\n",
        "    self.b3 = tf.Variable(tf.random.normal([1, self.size_output]))\n",
        "\n",
        "    # Define variables to be updated during backpropagation\n",
        "    self.variables = [self.W1, self.W2, self.W3, self.b1, self.b2, self.b3]\n",
        "    \n",
        "  def forward(self, X):\n",
        "    \"\"\"\n",
        "    forward pass\n",
        "    X: Tensor, inputs\n",
        "    \"\"\"\n",
        "    if self.device is not None:\n",
        "      with tf.device('gpu:0' if self.device=='gpu' else 'cpu'):\n",
        "        self.y = self.compute_output(X)\n",
        "    else:\n",
        "      self.y = self.compute_output(X)\n",
        "      \n",
        "    return self.y\n",
        "  \n",
        "  def loss(self, y_pred, y_true):\n",
        "    '''\n",
        "    y_pred - Tensor of shape (batch_size, size_output)\n",
        "    y_true - Tensor of shape (batch_size, size_output)\n",
        "    '''\n",
        "\n",
        "    #Use categorical cross entropy in place of MSE\n",
        "    cce = tf.keras.losses.CategoricalCrossentropy()\n",
        "    #loss = tf.nn.softmax_cross_entropy_with_logits(y_true, y_pred)\n",
        "    loss = cce(y_true, y_pred)\n",
        "\n",
        "    if self.reg_mode == \"L2\":\n",
        "      #Applying L2 regularization\n",
        "      #print (\"#Applying L2 regularization\")\n",
        "      para_list = [self.W1, self.W2, self.W3]\n",
        "      regularizer = sum([tf.reduce_sum(tf.square(_var)) for _var in para_list])\n",
        "      #loss = self.lambda_l2 * loss +  ((1 - self.lambda_l2)/ number_of_train_examples) * regularizer\n",
        "      loss = loss +  ((self.lambda_l2/(2 * number_of_train_examples)) * regularizer)\n",
        "\n",
        "    return loss\n",
        "  \n",
        "  def backward(self, X_train, y_train):\n",
        "    \"\"\"\n",
        "    backward pass\n",
        "    \"\"\"\n",
        "    optimizer = tf.keras.optimizers.SGD(learning_rate=self.lr)\n",
        "    #optimizer = tf.keras.optimizers.Adam(learning_rate=self.lr)\n",
        "    with tf.GradientTape() as tape:\n",
        "      predicted = self.forward(X_train)\n",
        "      current_loss = self.loss(predicted, y_train)\n",
        "      grads = tape.gradient(current_loss, self.variables)\n",
        "      optimizer.apply_gradients(zip(grads, self.variables))\n",
        "        \n",
        "        \n",
        "  def compute_output(self, X):\n",
        "    \"\"\"\n",
        "    Custom method to obtain output tensor during forward pass\n",
        "    \"\"\"\n",
        "    # Cast X to float32\n",
        "    X_tf = tf.cast(X, dtype=tf.float32)\n",
        "    \n",
        "    #Remember to normalize your dataset before moving forward\n",
        "    \n",
        "    # Compute values in hidden layer 1\n",
        "    w1hat = tf.matmul(X_tf, self.W1) + self.b1\n",
        "    h1hat = tf.nn.relu(w1hat)\n",
        "\n",
        "    # Compute values in hidden layer 2\n",
        "    w2hat = tf.matmul(h1hat, self.W2) + self.b2\n",
        "    h2hat = tf.nn.relu(w2hat)\n",
        "\n",
        "    if self.reg_mode == \"dropout\":\n",
        "      # Adding dropout on layer 2\n",
        "      #print (\"# Adding dropout on layer 2\")\n",
        "      h2hat = tf.nn.dropout(h2hat, self.dropout)\n",
        "\n",
        "    # Compute output\n",
        "    output = tf.matmul(h2hat, self.W3) + self.b3\n",
        "    #Now consider two things , First look at inbuild loss functions if they work with softmax or not and then change this\n",
        "    #Second add tf.Softmax(output) and then return this variable\n",
        "    output = tf.nn.softmax(output)\n",
        "    #print (f\"Output : {output}\")\n",
        "    return output"
      ],
      "metadata": {
        "id": "KSuUBLvrlCJU"
      },
      "execution_count": 72,
      "outputs": []
    },
    {
      "cell_type": "markdown",
      "metadata": {
        "id": "cUDFOuNk618X"
      },
      "source": [
        "## Train Model"
      ]
    },
    {
      "cell_type": "markdown",
      "source": [
        "# Function to train a model and prints cross entropy and accuracy"
      ],
      "metadata": {
        "id": "2OmKgHvFsjyI"
      }
    },
    {
      "cell_type": "code",
      "source": [
        "# Function to train a model and prints cross entropy and accuracy\n",
        "from tqdm import tqdm\n",
        "def train_model(mlp, num_epochs, seed, shuffle_size, batch_size):\n",
        "  time_start = time.time()\n",
        "  for epoch in tqdm(range(0, num_epochs)):\n",
        "    loss_total = tf.zeros([1,1], dtype=tf.float32)\n",
        "    correct_preds_total = 0\n",
        "    #lt = 0\n",
        "    train_ds = tf.data.Dataset.from_tensor_slices((X_train, y_train)).shuffle(shuffle_size, seed=epoch*(seed)).batch(batch_size)\n",
        "    for inputs, outputs in train_ds:\n",
        "      preds = mlp.forward(inputs)\n",
        "      loss_batch = mlp.loss(preds, outputs)\n",
        "      loss_total = loss_total + loss_batch\n",
        "      #lt = lt + mlp.loss(preds, outputs)\n",
        "      \n",
        "      y_pred_argmax = np.argmax(preds, 1)\n",
        "\n",
        "      y_true_argmax = np.argmax(outputs, 1)\n",
        "      \n",
        "      k = (y_pred_argmax == y_true_argmax)\n",
        "      correct_preds_batch = len(k[k == True])\n",
        "      correct_preds_total += correct_preds_batch\n",
        "\n",
        "      mlp.backward(inputs, outputs)\n",
        "    #print (correct_preds_total)\n",
        "    #sys.exit()\n",
        "    accuracy_epoch = correct_preds_total / X_train.shape[0]\n",
        "    print('Number of Epoch = {} - Average CCE:= {} - Average Accuracy:= {}%'.format(epoch + 1, np.sum(loss_total) / X_train.shape[0], accuracy_epoch * 100))\n",
        "    \n",
        "  time_taken = time.time() - time_start\n",
        "  print('\\nTotal time taken (in seconds): {:.2f}'.format(time_taken))"
      ],
      "metadata": {
        "id": "-0nDF7Xkm_cC"
      },
      "execution_count": 73,
      "outputs": []
    },
    {
      "cell_type": "code",
      "execution_count": 55,
      "metadata": {
        "id": "FZPVUu0YDa-_"
      },
      "outputs": [],
      "source": [
        "# Set number of epochs\n",
        "NUM_EPOCHS = 10\n",
        "NUM_EPOCHS = 20"
      ]
    },
    {
      "cell_type": "code",
      "source": [
        "#default training\n",
        "mlp_default = MLP_combined(size_input, size_hidden_1, size_hidden_2, size_output, reg_mode = \"default\", lr = 0.05, device='gpu')\n",
        "train_model(mlp_default, NUM_EPOCHS, seed, 1000,512)"
      ],
      "metadata": {
        "colab": {
          "base_uri": "https://localhost:8080/"
        },
        "id": "_-_XNGeRgxzM",
        "outputId": "4049e811-d399-4f19-8243-e8f3e08e44c8"
      },
      "execution_count": 74,
      "outputs": [
        {
          "output_type": "stream",
          "name": "stderr",
          "text": [
            "  5%|▌         | 1/20 [00:02<00:50,  2.63s/it]"
          ]
        },
        {
          "output_type": "stream",
          "name": "stdout",
          "text": [
            "Number of Epoch = 1 - Average CCE:= 0.02209373372395833 - Average Accuracy:= 30.12666666666667%\n"
          ]
        },
        {
          "output_type": "stream",
          "name": "stderr",
          "text": [
            "\r 10%|█         | 2/20 [00:05<00:47,  2.62s/it]"
          ]
        },
        {
          "output_type": "stream",
          "name": "stdout",
          "text": [
            "Number of Epoch = 2 - Average CCE:= 0.02059483846028646 - Average Accuracy:= 35.03666666666667%\n"
          ]
        },
        {
          "output_type": "stream",
          "name": "stderr",
          "text": [
            "\r 15%|█▌        | 3/20 [00:07<00:44,  2.61s/it]"
          ]
        },
        {
          "output_type": "stream",
          "name": "stdout",
          "text": [
            "Number of Epoch = 3 - Average CCE:= 0.020531095377604166 - Average Accuracy:= 35.14%\n"
          ]
        },
        {
          "output_type": "stream",
          "name": "stderr",
          "text": [
            "\r 20%|██        | 4/20 [00:10<00:41,  2.62s/it]"
          ]
        },
        {
          "output_type": "stream",
          "name": "stdout",
          "text": [
            "Number of Epoch = 4 - Average CCE:= 0.020283174641927082 - Average Accuracy:= 36.03333333333333%\n"
          ]
        },
        {
          "output_type": "stream",
          "name": "stderr",
          "text": [
            "\r 25%|██▌       | 5/20 [00:13<00:39,  2.63s/it]"
          ]
        },
        {
          "output_type": "stream",
          "name": "stdout",
          "text": [
            "Number of Epoch = 5 - Average CCE:= 0.02030714314778646 - Average Accuracy:= 35.901666666666664%\n"
          ]
        },
        {
          "output_type": "stream",
          "name": "stderr",
          "text": [
            "\r 30%|███       | 6/20 [00:15<00:36,  2.62s/it]"
          ]
        },
        {
          "output_type": "stream",
          "name": "stdout",
          "text": [
            "Number of Epoch = 6 - Average CCE:= 0.02011389363606771 - Average Accuracy:= 36.555%\n"
          ]
        },
        {
          "output_type": "stream",
          "name": "stderr",
          "text": [
            "\r 35%|███▌      | 7/20 [00:18<00:34,  2.62s/it]"
          ]
        },
        {
          "output_type": "stream",
          "name": "stdout",
          "text": [
            "Number of Epoch = 7 - Average CCE:= 0.02009644775390625 - Average Accuracy:= 36.56333333333333%\n"
          ]
        },
        {
          "output_type": "stream",
          "name": "stderr",
          "text": [
            "\r 40%|████      | 8/20 [00:20<00:31,  2.62s/it]"
          ]
        },
        {
          "output_type": "stream",
          "name": "stdout",
          "text": [
            "Number of Epoch = 8 - Average CCE:= 0.020031374104817708 - Average Accuracy:= 36.80833333333333%\n"
          ]
        },
        {
          "output_type": "stream",
          "name": "stderr",
          "text": [
            "\r 45%|████▌     | 9/20 [00:23<00:28,  2.60s/it]"
          ]
        },
        {
          "output_type": "stream",
          "name": "stdout",
          "text": [
            "Number of Epoch = 9 - Average CCE:= 0.018962601725260417 - Average Accuracy:= 40.065%\n"
          ]
        },
        {
          "output_type": "stream",
          "name": "stderr",
          "text": [
            "\r 50%|█████     | 10/20 [00:26<00:26,  2.60s/it]"
          ]
        },
        {
          "output_type": "stream",
          "name": "stdout",
          "text": [
            "Number of Epoch = 10 - Average CCE:= 0.018187717692057292 - Average Accuracy:= 42.55833333333333%\n"
          ]
        },
        {
          "output_type": "stream",
          "name": "stderr",
          "text": [
            "\r 55%|█████▌    | 11/20 [00:28<00:23,  2.60s/it]"
          ]
        },
        {
          "output_type": "stream",
          "name": "stdout",
          "text": [
            "Number of Epoch = 11 - Average CCE:= 0.01782474568684896 - Average Accuracy:= 43.675000000000004%\n"
          ]
        },
        {
          "output_type": "stream",
          "name": "stderr",
          "text": [
            "\r 60%|██████    | 12/20 [00:31<00:20,  2.62s/it]"
          ]
        },
        {
          "output_type": "stream",
          "name": "stdout",
          "text": [
            "Number of Epoch = 12 - Average CCE:= 0.017619441731770834 - Average Accuracy:= 44.32%\n"
          ]
        },
        {
          "output_type": "stream",
          "name": "stderr",
          "text": [
            "\r 65%|██████▌   | 13/20 [00:34<00:18,  2.66s/it]"
          ]
        },
        {
          "output_type": "stream",
          "name": "stdout",
          "text": [
            "Number of Epoch = 13 - Average CCE:= 0.017497157796223958 - Average Accuracy:= 44.733333333333334%\n"
          ]
        },
        {
          "output_type": "stream",
          "name": "stderr",
          "text": [
            "\r 70%|███████   | 14/20 [00:36<00:15,  2.65s/it]"
          ]
        },
        {
          "output_type": "stream",
          "name": "stdout",
          "text": [
            "Number of Epoch = 14 - Average CCE:= 0.017451737467447916 - Average Accuracy:= 44.87%\n"
          ]
        },
        {
          "output_type": "stream",
          "name": "stderr",
          "text": [
            "\r 75%|███████▌  | 15/20 [00:39<00:13,  2.64s/it]"
          ]
        },
        {
          "output_type": "stream",
          "name": "stdout",
          "text": [
            "Number of Epoch = 15 - Average CCE:= 0.017353316243489583 - Average Accuracy:= 45.21333333333333%\n"
          ]
        },
        {
          "output_type": "stream",
          "name": "stderr",
          "text": [
            "\r 80%|████████  | 16/20 [00:41<00:10,  2.63s/it]"
          ]
        },
        {
          "output_type": "stream",
          "name": "stdout",
          "text": [
            "Number of Epoch = 16 - Average CCE:= 0.01734417724609375 - Average Accuracy:= 45.17333333333333%\n"
          ]
        },
        {
          "output_type": "stream",
          "name": "stderr",
          "text": [
            "\r 85%|████████▌ | 17/20 [00:44<00:07,  2.65s/it]"
          ]
        },
        {
          "output_type": "stream",
          "name": "stdout",
          "text": [
            "Number of Epoch = 17 - Average CCE:= 0.01738275349934896 - Average Accuracy:= 45.141666666666666%\n"
          ]
        },
        {
          "output_type": "stream",
          "name": "stderr",
          "text": [
            "\r 90%|█████████ | 18/20 [00:47<00:05,  2.64s/it]"
          ]
        },
        {
          "output_type": "stream",
          "name": "stdout",
          "text": [
            "Number of Epoch = 18 - Average CCE:= 0.017302909342447916 - Average Accuracy:= 45.35333333333333%\n"
          ]
        },
        {
          "output_type": "stream",
          "name": "stderr",
          "text": [
            "\r 95%|█████████▌| 19/20 [00:49<00:02,  2.63s/it]"
          ]
        },
        {
          "output_type": "stream",
          "name": "stdout",
          "text": [
            "Number of Epoch = 19 - Average CCE:= 0.01727609659830729 - Average Accuracy:= 45.425%\n"
          ]
        },
        {
          "output_type": "stream",
          "name": "stderr",
          "text": [
            "100%|██████████| 20/20 [00:52<00:00,  2.63s/it]"
          ]
        },
        {
          "output_type": "stream",
          "name": "stdout",
          "text": [
            "Number of Epoch = 20 - Average CCE:= 0.01724445597330729 - Average Accuracy:= 45.565%\n",
            "\n",
            "Total time taken (in seconds): 52.57\n"
          ]
        },
        {
          "output_type": "stream",
          "name": "stderr",
          "text": [
            "\n"
          ]
        }
      ]
    },
    {
      "cell_type": "code",
      "source": [
        "#l2reg training\n",
        "mlp_l2 = MLP_combined(size_input, size_hidden_1, size_hidden_2, size_output, reg_mode = \"L2\", lambda_l2 = 0.05, device='gpu')\n",
        "train_model(mlp_l2, NUM_EPOCHS, seed, 1000,512)"
      ],
      "metadata": {
        "colab": {
          "base_uri": "https://localhost:8080/"
        },
        "id": "d0v2JlE1wlUs",
        "outputId": "1f954f3a-ecfd-4670-ee44-993c59169552"
      },
      "execution_count": 57,
      "outputs": [
        {
          "output_type": "stream",
          "name": "stderr",
          "text": [
            "  5%|▌         | 1/20 [00:05<01:43,  5.45s/it]"
          ]
        },
        {
          "output_type": "stream",
          "name": "stdout",
          "text": [
            "Number of Epoch = 1 - Average CCE:= 0.020915535481770834 - Average Accuracy:= 33.78666666666666%\n"
          ]
        },
        {
          "output_type": "stream",
          "name": "stderr",
          "text": [
            "\r 10%|█         | 2/20 [00:09<01:18,  4.37s/it]"
          ]
        },
        {
          "output_type": "stream",
          "name": "stdout",
          "text": [
            "Number of Epoch = 2 - Average CCE:= 0.016667029825846353 - Average Accuracy:= 47.20666666666667%\n"
          ]
        },
        {
          "output_type": "stream",
          "name": "stderr",
          "text": [
            "\r 15%|█▌        | 3/20 [00:12<01:04,  3.77s/it]"
          ]
        },
        {
          "output_type": "stream",
          "name": "stdout",
          "text": [
            "Number of Epoch = 3 - Average CCE:= 0.015419090779622396 - Average Accuracy:= 51.24833333333333%\n"
          ]
        },
        {
          "output_type": "stream",
          "name": "stderr",
          "text": [
            "\r 20%|██        | 4/20 [00:15<00:55,  3.48s/it]"
          ]
        },
        {
          "output_type": "stream",
          "name": "stdout",
          "text": [
            "Number of Epoch = 4 - Average CCE:= 0.015046382649739584 - Average Accuracy:= 52.505%\n"
          ]
        },
        {
          "output_type": "stream",
          "name": "stderr",
          "text": [
            "\r 25%|██▌       | 5/20 [00:18<00:49,  3.33s/it]"
          ]
        },
        {
          "output_type": "stream",
          "name": "stdout",
          "text": [
            "Number of Epoch = 5 - Average CCE:= 0.014820987955729167 - Average Accuracy:= 53.295%\n"
          ]
        },
        {
          "output_type": "stream",
          "name": "stderr",
          "text": [
            "\r 30%|███       | 6/20 [00:21<00:45,  3.26s/it]"
          ]
        },
        {
          "output_type": "stream",
          "name": "stdout",
          "text": [
            "Number of Epoch = 6 - Average CCE:= 0.014670736694335938 - Average Accuracy:= 53.754999999999995%\n"
          ]
        },
        {
          "output_type": "stream",
          "name": "stderr",
          "text": [
            "\r 35%|███▌      | 7/20 [00:24<00:41,  3.19s/it]"
          ]
        },
        {
          "output_type": "stream",
          "name": "stdout",
          "text": [
            "Number of Epoch = 7 - Average CCE:= 0.014544120279947916 - Average Accuracy:= 54.155%\n"
          ]
        },
        {
          "output_type": "stream",
          "name": "stderr",
          "text": [
            "\r 40%|████      | 8/20 [00:27<00:37,  3.16s/it]"
          ]
        },
        {
          "output_type": "stream",
          "name": "stdout",
          "text": [
            "Number of Epoch = 8 - Average CCE:= 0.014517920939127604 - Average Accuracy:= 54.245%\n"
          ]
        },
        {
          "output_type": "stream",
          "name": "stderr",
          "text": [
            "\r 45%|████▌     | 9/20 [00:30<00:34,  3.14s/it]"
          ]
        },
        {
          "output_type": "stream",
          "name": "stdout",
          "text": [
            "Number of Epoch = 9 - Average CCE:= 0.01448380839029948 - Average Accuracy:= 54.428333333333335%\n"
          ]
        },
        {
          "output_type": "stream",
          "name": "stderr",
          "text": [
            "\r 50%|█████     | 10/20 [00:33<00:31,  3.11s/it]"
          ]
        },
        {
          "output_type": "stream",
          "name": "stdout",
          "text": [
            "Number of Epoch = 10 - Average CCE:= 0.014452718098958333 - Average Accuracy:= 54.471666666666664%\n"
          ]
        },
        {
          "output_type": "stream",
          "name": "stderr",
          "text": [
            "\r 55%|█████▌    | 11/20 [00:36<00:27,  3.09s/it]"
          ]
        },
        {
          "output_type": "stream",
          "name": "stdout",
          "text": [
            "Number of Epoch = 11 - Average CCE:= 0.014299826049804688 - Average Accuracy:= 54.94%\n"
          ]
        },
        {
          "output_type": "stream",
          "name": "stderr",
          "text": [
            "\r 60%|██████    | 12/20 [00:39<00:24,  3.11s/it]"
          ]
        },
        {
          "output_type": "stream",
          "name": "stdout",
          "text": [
            "Number of Epoch = 12 - Average CCE:= 0.014283812459309896 - Average Accuracy:= 55.04333333333334%\n"
          ]
        },
        {
          "output_type": "stream",
          "name": "stderr",
          "text": [
            "\r 65%|██████▌   | 13/20 [00:42<00:21,  3.09s/it]"
          ]
        },
        {
          "output_type": "stream",
          "name": "stdout",
          "text": [
            "Number of Epoch = 13 - Average CCE:= 0.014275003051757813 - Average Accuracy:= 55.02666666666667%\n"
          ]
        },
        {
          "output_type": "stream",
          "name": "stderr",
          "text": [
            "\r 70%|███████   | 14/20 [00:45<00:18,  3.08s/it]"
          ]
        },
        {
          "output_type": "stream",
          "name": "stdout",
          "text": [
            "Number of Epoch = 14 - Average CCE:= 0.014276292928059896 - Average Accuracy:= 55.078333333333326%\n"
          ]
        },
        {
          "output_type": "stream",
          "name": "stderr",
          "text": [
            "\r 75%|███████▌  | 15/20 [00:49<00:15,  3.09s/it]"
          ]
        },
        {
          "output_type": "stream",
          "name": "stdout",
          "text": [
            "Number of Epoch = 15 - Average CCE:= 0.014193074544270833 - Average Accuracy:= 55.273333333333326%\n"
          ]
        },
        {
          "output_type": "stream",
          "name": "stderr",
          "text": [
            "\r 80%|████████  | 16/20 [00:52<00:12,  3.08s/it]"
          ]
        },
        {
          "output_type": "stream",
          "name": "stdout",
          "text": [
            "Number of Epoch = 16 - Average CCE:= 0.014189101155598958 - Average Accuracy:= 55.26333333333333%\n"
          ]
        },
        {
          "output_type": "stream",
          "name": "stderr",
          "text": [
            "\r 85%|████████▌ | 17/20 [00:55<00:09,  3.08s/it]"
          ]
        },
        {
          "output_type": "stream",
          "name": "stdout",
          "text": [
            "Number of Epoch = 17 - Average CCE:= 0.014114401245117187 - Average Accuracy:= 55.541666666666664%\n"
          ]
        },
        {
          "output_type": "stream",
          "name": "stderr",
          "text": [
            "\r 90%|█████████ | 18/20 [00:58<00:06,  3.08s/it]"
          ]
        },
        {
          "output_type": "stream",
          "name": "stdout",
          "text": [
            "Number of Epoch = 18 - Average CCE:= 0.014114368693033855 - Average Accuracy:= 55.51166666666667%\n"
          ]
        },
        {
          "output_type": "stream",
          "name": "stderr",
          "text": [
            "\r 95%|█████████▌| 19/20 [01:01<00:03,  3.09s/it]"
          ]
        },
        {
          "output_type": "stream",
          "name": "stdout",
          "text": [
            "Number of Epoch = 19 - Average CCE:= 0.01410935770670573 - Average Accuracy:= 55.601666666666674%\n"
          ]
        },
        {
          "output_type": "stream",
          "name": "stderr",
          "text": [
            "100%|██████████| 20/20 [01:04<00:00,  3.22s/it]"
          ]
        },
        {
          "output_type": "stream",
          "name": "stdout",
          "text": [
            "Number of Epoch = 20 - Average CCE:= 0.014083284505208333 - Average Accuracy:= 55.60000000000001%\n",
            "\n",
            "Total time taken (in seconds): 64.45\n"
          ]
        },
        {
          "output_type": "stream",
          "name": "stderr",
          "text": [
            "\n"
          ]
        }
      ]
    },
    {
      "cell_type": "code",
      "source": [
        "#dropout training\n",
        "mlp_dropout = MLP_combined(size_input, size_hidden_1, size_hidden_2, size_output, reg_mode = \"dropout\", dropout = 0.3, device='gpu')\n",
        "train_model(mlp_dropout, NUM_EPOCHS, seed, 1000,512)"
      ],
      "metadata": {
        "colab": {
          "base_uri": "https://localhost:8080/"
        },
        "id": "_zCi2BG5wwre",
        "outputId": "bb1105d3-dfef-4567-9333-2f156469fb58"
      },
      "execution_count": 60,
      "outputs": [
        {
          "output_type": "stream",
          "name": "stderr",
          "text": [
            "  5%|▌         | 1/20 [00:05<01:43,  5.45s/it]"
          ]
        },
        {
          "output_type": "stream",
          "name": "stdout",
          "text": [
            "Number of Epoch = 1 - Average CCE:= 0.026429695638020834 - Average Accuracy:= 16.28333333333333%\n"
          ]
        },
        {
          "output_type": "stream",
          "name": "stderr",
          "text": [
            "\r 10%|█         | 2/20 [00:10<01:38,  5.45s/it]"
          ]
        },
        {
          "output_type": "stream",
          "name": "stdout",
          "text": [
            "Number of Epoch = 2 - Average CCE:= 0.02117415771484375 - Average Accuracy:= 32.62833333333333%\n"
          ]
        },
        {
          "output_type": "stream",
          "name": "stderr",
          "text": [
            "\r 15%|█▌        | 3/20 [00:21<02:12,  7.79s/it]"
          ]
        },
        {
          "output_type": "stream",
          "name": "stdout",
          "text": [
            "Number of Epoch = 3 - Average CCE:= 0.016149870808919272 - Average Accuracy:= 48.42166666666667%\n"
          ]
        },
        {
          "output_type": "stream",
          "name": "stderr",
          "text": [
            "\r 20%|██        | 4/20 [00:24<01:32,  5.81s/it]"
          ]
        },
        {
          "output_type": "stream",
          "name": "stdout",
          "text": [
            "Number of Epoch = 4 - Average CCE:= 0.014405016072591146 - Average Accuracy:= 53.97%\n"
          ]
        },
        {
          "output_type": "stream",
          "name": "stderr",
          "text": [
            "\r 25%|██▌       | 5/20 [00:27<01:10,  4.71s/it]"
          ]
        },
        {
          "output_type": "stream",
          "name": "stdout",
          "text": [
            "Number of Epoch = 5 - Average CCE:= 0.01330240478515625 - Average Accuracy:= 57.46333333333333%\n"
          ]
        },
        {
          "output_type": "stream",
          "name": "stderr",
          "text": [
            "\r 30%|███       | 6/20 [00:29<00:56,  4.06s/it]"
          ]
        },
        {
          "output_type": "stream",
          "name": "stdout",
          "text": [
            "Number of Epoch = 6 - Average CCE:= 0.012681621297200522 - Average Accuracy:= 59.35333333333334%\n"
          ]
        },
        {
          "output_type": "stream",
          "name": "stderr",
          "text": [
            "\r 35%|███▌      | 7/20 [00:32<00:47,  3.64s/it]"
          ]
        },
        {
          "output_type": "stream",
          "name": "stdout",
          "text": [
            "Number of Epoch = 7 - Average CCE:= 0.01234231669108073 - Average Accuracy:= 60.465%\n"
          ]
        },
        {
          "output_type": "stream",
          "name": "stderr",
          "text": [
            "\r 40%|████      | 8/20 [00:35<00:40,  3.35s/it]"
          ]
        },
        {
          "output_type": "stream",
          "name": "stdout",
          "text": [
            "Number of Epoch = 8 - Average CCE:= 0.012076310221354167 - Average Accuracy:= 61.40833333333333%\n"
          ]
        },
        {
          "output_type": "stream",
          "name": "stderr",
          "text": [
            "\r 45%|████▌     | 9/20 [00:38<00:35,  3.19s/it]"
          ]
        },
        {
          "output_type": "stream",
          "name": "stdout",
          "text": [
            "Number of Epoch = 9 - Average CCE:= 0.011779537963867187 - Average Accuracy:= 62.265%\n"
          ]
        },
        {
          "output_type": "stream",
          "name": "stderr",
          "text": [
            "\r 50%|█████     | 10/20 [00:40<00:30,  3.05s/it]"
          ]
        },
        {
          "output_type": "stream",
          "name": "stdout",
          "text": [
            "Number of Epoch = 10 - Average CCE:= 0.011593248494466146 - Average Accuracy:= 62.85833333333334%\n"
          ]
        },
        {
          "output_type": "stream",
          "name": "stderr",
          "text": [
            "\r 55%|█████▌    | 11/20 [00:43<00:26,  2.98s/it]"
          ]
        },
        {
          "output_type": "stream",
          "name": "stdout",
          "text": [
            "Number of Epoch = 11 - Average CCE:= 0.01138704121907552 - Average Accuracy:= 63.54333333333333%\n"
          ]
        },
        {
          "output_type": "stream",
          "name": "stderr",
          "text": [
            "\r 60%|██████    | 12/20 [00:46<00:23,  2.92s/it]"
          ]
        },
        {
          "output_type": "stream",
          "name": "stdout",
          "text": [
            "Number of Epoch = 12 - Average CCE:= 0.01127926025390625 - Average Accuracy:= 63.77%\n"
          ]
        },
        {
          "output_type": "stream",
          "name": "stderr",
          "text": [
            "\r 65%|██████▌   | 13/20 [00:49<00:20,  2.87s/it]"
          ]
        },
        {
          "output_type": "stream",
          "name": "stdout",
          "text": [
            "Number of Epoch = 13 - Average CCE:= 0.011086100260416667 - Average Accuracy:= 64.495%\n"
          ]
        },
        {
          "output_type": "stream",
          "name": "stderr",
          "text": [
            "\r 70%|███████   | 14/20 [00:52<00:17,  2.85s/it]"
          ]
        },
        {
          "output_type": "stream",
          "name": "stdout",
          "text": [
            "Number of Epoch = 14 - Average CCE:= 0.010968011474609376 - Average Accuracy:= 64.74499999999999%\n"
          ]
        },
        {
          "output_type": "stream",
          "name": "stderr",
          "text": [
            "\r 75%|███████▌  | 15/20 [00:54<00:14,  2.83s/it]"
          ]
        },
        {
          "output_type": "stream",
          "name": "stdout",
          "text": [
            "Number of Epoch = 15 - Average CCE:= 0.010917418416341146 - Average Accuracy:= 64.98666666666666%\n"
          ]
        },
        {
          "output_type": "stream",
          "name": "stderr",
          "text": [
            "\r 80%|████████  | 16/20 [00:57<00:11,  2.81s/it]"
          ]
        },
        {
          "output_type": "stream",
          "name": "stdout",
          "text": [
            "Number of Epoch = 16 - Average CCE:= 0.01082879638671875 - Average Accuracy:= 65.25%\n"
          ]
        },
        {
          "output_type": "stream",
          "name": "stderr",
          "text": [
            "\r 85%|████████▌ | 17/20 [01:00<00:08,  2.81s/it]"
          ]
        },
        {
          "output_type": "stream",
          "name": "stdout",
          "text": [
            "Number of Epoch = 17 - Average CCE:= 0.010733749389648438 - Average Accuracy:= 65.57166666666666%\n"
          ]
        },
        {
          "output_type": "stream",
          "name": "stderr",
          "text": [
            "\r 90%|█████████ | 18/20 [01:03<00:05,  2.80s/it]"
          ]
        },
        {
          "output_type": "stream",
          "name": "stdout",
          "text": [
            "Number of Epoch = 18 - Average CCE:= 0.01068144022623698 - Average Accuracy:= 65.78666666666668%\n"
          ]
        },
        {
          "output_type": "stream",
          "name": "stderr",
          "text": [
            "\r 95%|█████████▌| 19/20 [01:05<00:02,  2.79s/it]"
          ]
        },
        {
          "output_type": "stream",
          "name": "stdout",
          "text": [
            "Number of Epoch = 19 - Average CCE:= 0.010597724405924479 - Average Accuracy:= 65.97666666666666%\n"
          ]
        },
        {
          "output_type": "stream",
          "name": "stderr",
          "text": [
            "100%|██████████| 20/20 [01:08<00:00,  3.44s/it]"
          ]
        },
        {
          "output_type": "stream",
          "name": "stdout",
          "text": [
            "Number of Epoch = 20 - Average CCE:= 0.010526710001627604 - Average Accuracy:= 66.24666666666667%\n",
            "\n",
            "Total time taken (in seconds): 68.79\n"
          ]
        },
        {
          "output_type": "stream",
          "name": "stderr",
          "text": [
            "\n"
          ]
        }
      ]
    },
    {
      "cell_type": "markdown",
      "metadata": {
        "id": "PXe-2MENCOjq"
      },
      "source": [
        "## One Step Inference"
      ]
    },
    {
      "cell_type": "markdown",
      "source": [
        "#function to test the model and return CCE and Accuracy"
      ],
      "metadata": {
        "id": "H3SmU9jJvbJm"
      }
    },
    {
      "cell_type": "code",
      "source": [
        "#function to test the model and return CCE and Accuracy\n",
        "def test_model(mlp):\n",
        "  test_loss_total = tf.Variable(0, dtype=tf.float32)\n",
        "  correct_preds_total = 0\n",
        "  #test_loss_total = 0.0\n",
        "  for inputs, outputs in test_ds:\n",
        "    preds = mlp.forward(inputs)\n",
        "    test_loss_total = test_loss_total + mlp.loss(preds, outputs)\n",
        "    y_pred_argmax = np.argmax(preds, 1)\n",
        "    y_true_argmax = np.argmax(outputs, 1)\n",
        "    k = (y_pred_argmax == y_true_argmax)\n",
        "    correct_preds_batch = len(k[k == True])\n",
        "\n",
        "    correct_preds_total += correct_preds_batch\n",
        "  \n",
        "  tot_cce = np.sum(test_loss_total.numpy()) / X_test.shape[0]\n",
        "  tot_acc = correct_preds_total/X_test.shape[0]\n",
        "  print('Test CCE: {:.4f}, Accuracy : {}'.format(tot_cce, tot_acc))\n",
        "  return (tot_cce, tot_acc)"
      ],
      "metadata": {
        "id": "2urT0GJqtQ5P"
      },
      "execution_count": 61,
      "outputs": []
    },
    {
      "cell_type": "code",
      "source": [
        "#testing default\n",
        "test_ds = tf.data.Dataset.from_tensor_slices((X_test, y_test)).batch(100)\n",
        "test_model(mlp_default)"
      ],
      "metadata": {
        "colab": {
          "base_uri": "https://localhost:8080/"
        },
        "id": "R-7ERjKyuW-Q",
        "outputId": "beeef24c-8045-4fc9-c388-c9c55323d9ed"
      },
      "execution_count": 62,
      "outputs": [
        {
          "output_type": "stream",
          "name": "stdout",
          "text": [
            "Test CCE: 0.0763, Accuracy : 0.5233\n"
          ]
        },
        {
          "output_type": "execute_result",
          "data": {
            "text/plain": [
              "(0.07634425048828125, 0.5233)"
            ]
          },
          "metadata": {},
          "execution_count": 62
        }
      ]
    },
    {
      "cell_type": "code",
      "source": [
        "#testing L2 model\n",
        "test_ds = tf.data.Dataset.from_tensor_slices((X_test, y_test)).batch(100)\n",
        "test_model(mlp_l2)"
      ],
      "metadata": {
        "colab": {
          "base_uri": "https://localhost:8080/"
        },
        "id": "rfYgLvb-zdqC",
        "outputId": "c23067c3-ba2b-43da-ad0c-0401beec7af0"
      },
      "execution_count": 63,
      "outputs": [
        {
          "output_type": "stream",
          "name": "stdout",
          "text": [
            "Test CCE: 0.0877, Accuracy : 0.4578\n"
          ]
        },
        {
          "output_type": "execute_result",
          "data": {
            "text/plain": [
              "(0.08767657470703125, 0.4578)"
            ]
          },
          "metadata": {},
          "execution_count": 63
        }
      ]
    },
    {
      "cell_type": "code",
      "source": [
        "#testing dropout model\n",
        "test_ds = tf.data.Dataset.from_tensor_slices((X_test, y_test)).batch(100)\n",
        "test_model(mlp_dropout)"
      ],
      "metadata": {
        "colab": {
          "base_uri": "https://localhost:8080/"
        },
        "id": "_B24CJ8nz5bH",
        "outputId": "bffa5381-6c09-4af9-d4c4-c08eed63b45d"
      },
      "execution_count": 64,
      "outputs": [
        {
          "output_type": "stream",
          "name": "stdout",
          "text": [
            "Test CCE: 0.0543, Accuracy : 0.6577\n"
          ]
        },
        {
          "output_type": "execute_result",
          "data": {
            "text/plain": [
              "(0.054267138671875, 0.6577)"
            ]
          },
          "metadata": {},
          "execution_count": 64
        }
      ]
    },
    {
      "cell_type": "code",
      "source": [
        "# Obtaining inferences for all three models - 10 iteration per model\n",
        "from tqdm import tqdm\n",
        "\n",
        "############## Setting values as per dataset ##############\n",
        "size_input = 784\n",
        "size_hidden_1 = 100 \n",
        "size_hidden_2 = 100\n",
        "size_output = 10 \n",
        "number_of_train_examples = X_train.shape[0]\n",
        "number_of_test_examples = X_test.shape[0]\n",
        "print (f\"{number_of_test_examples},{number_of_train_examples}\")\n",
        "\n",
        "########################################################\n",
        "'''\n",
        "Additional steps done above\n",
        "1. Reshape to flatten\n",
        "2. Normalization\n",
        "3. One hot encoding\n",
        "'''\n",
        "\n",
        "#######################################################\n",
        "reg_type_list = [\"default\", \"L2\", \"dropout\"]\n",
        "inference_stats_dict = {\"default\":{}, \"L2\": {}, \"dropout\": {}}\n",
        "lambda_val = 0.05\n",
        "dropout_val = 0.3\n",
        "NUM_EPOCHS = 20\n",
        "random_seeds = list(np.random.randint(low=4000, high=5000, size=10))\n",
        "inf_iters = 10\n",
        "device_type = 'gpu'\n",
        "shuffle_size = 1000\n",
        "batch_size = 512\n",
        "learning_rate = 0.05\n",
        "test_ds = tf.data.Dataset.from_tensor_slices((X_test, y_test)).batch(100)\n",
        "####################################################\n",
        "\n",
        "for reg_type in reg_type_list:\n",
        "  print (f\"## START: Current Model: {reg_type} ##\")\n",
        "  cce_list = []\n",
        "  acc_list = []\n",
        "  for iter in tqdm(range(inf_iters)):\n",
        "    print(f\"\\n** Inference Iteration: {iter} **\")\n",
        "    cur_seed = random_seeds[iter]\n",
        "    print (f\"\\n#Training {reg_type} model with seed {cur_seed}#\")\n",
        "    np.random.seed(cur_seed)\n",
        "    tf.random.set_seed(cur_seed)\n",
        "\n",
        "    # Model initialization as per regularization type - regularization code triggers only if knob is on\n",
        "    mlp = MLP_combined(size_input, size_hidden_1, size_hidden_2, size_output, reg_mode = reg_type, lambda_l2 = lambda_val, dropout = dropout_val, lr = learning_rate, device=device_type)\n",
        "    train_model(mlp, NUM_EPOCHS, cur_seed, shuffle_size, batch_size)\n",
        "\n",
        "    # Testing the data\n",
        "    (cce, acc) = test_model(mlp)\n",
        "    print(f\"seed: {cur_seed}, Cross Entropy loss: {cce}, Accuracy: {acc}\")\n",
        "\n",
        "    cce_list.append(cce)\n",
        "    acc_list.append(acc)\n",
        "\n",
        "  inference_stats_dict[reg_type][\"cce_list\"] = cce_list\n",
        "  inference_stats_dict[reg_type][\"acc_list\"] = acc_list\n",
        "  print (f\"## END: Current Model: {reg_type}##\")\n",
        "  print (f\"Current inference results: {inference_stats_dict}\")\n",
        "################################   "
      ],
      "metadata": {
        "colab": {
          "base_uri": "https://localhost:8080/"
        },
        "id": "WFlQ4IQADRx3",
        "outputId": "f2ee7ab1-a470-4960-a9a1-440cbb74e244"
      },
      "execution_count": 65,
      "outputs": [
        {
          "metadata": {
            "tags": null
          },
          "name": "stdout",
          "output_type": "stream",
          "text": [
            "10000,60000\n",
            "## START: Current Model: default ##\n"
          ]
        },
        {
          "metadata": {
            "tags": null
          },
          "name": "stderr",
          "output_type": "stream",
          "text": [
            "\r  0%|          | 0/10 [00:00<?, ?it/s]"
          ]
        },
        {
          "metadata": {
            "tags": null
          },
          "name": "stdout",
          "output_type": "stream",
          "text": [
            "\n",
            "** Inference Iteration: 0 **\n",
            "\n",
            "#Training default model with seed 4225#\n"
          ]
        },
        {
          "metadata": {
            "tags": null
          },
          "name": "stderr",
          "output_type": "stream",
          "text": [
            "\n",
            "  0%|          | 0/20 [00:00<?, ?it/s]\u001b[A\n",
            "  5%|▌         | 1/20 [00:02<00:50,  2.64s/it]\u001b[A"
          ]
        },
        {
          "metadata": {
            "tags": null
          },
          "name": "stdout",
          "output_type": "stream",
          "text": [
            "Number of Epoch = 1 - Average CCE:= 0.02594561767578125 - Average Accuracy:= 18.14%\n"
          ]
        },
        {
          "metadata": {
            "tags": null
          },
          "name": "stderr",
          "output_type": "stream",
          "text": [
            "\n",
            " 10%|█         | 2/20 [00:05<00:48,  2.67s/it]\u001b[A"
          ]
        },
        {
          "metadata": {
            "tags": null
          },
          "name": "stdout",
          "output_type": "stream",
          "text": [
            "Number of Epoch = 2 - Average CCE:= 0.025430790201822918 - Average Accuracy:= 19.756666666666668%\n"
          ]
        },
        {
          "metadata": {
            "tags": null
          },
          "name": "stderr",
          "output_type": "stream",
          "text": [
            "\n",
            " 15%|█▌        | 3/20 [00:08<00:45,  2.68s/it]\u001b[A"
          ]
        },
        {
          "metadata": {
            "tags": null
          },
          "name": "stdout",
          "output_type": "stream",
          "text": [
            "Number of Epoch = 3 - Average CCE:= 0.025394026692708332 - Average Accuracy:= 19.883333333333333%\n"
          ]
        },
        {
          "metadata": {
            "tags": null
          },
          "name": "stderr",
          "output_type": "stream",
          "text": [
            "\n",
            " 20%|██        | 4/20 [00:10<00:42,  2.66s/it]\u001b[A"
          ]
        },
        {
          "metadata": {
            "tags": null
          },
          "name": "stdout",
          "output_type": "stream",
          "text": [
            "Number of Epoch = 4 - Average CCE:= 0.025376200358072917 - Average Accuracy:= 19.916666666666664%\n"
          ]
        },
        {
          "metadata": {
            "tags": null
          },
          "name": "stderr",
          "output_type": "stream",
          "text": [
            "\n",
            " 25%|██▌       | 5/20 [00:13<00:40,  2.68s/it]\u001b[A"
          ]
        },
        {
          "metadata": {
            "tags": null
          },
          "name": "stdout",
          "output_type": "stream",
          "text": [
            "Number of Epoch = 5 - Average CCE:= 0.023844716389973958 - Average Accuracy:= 24.663333333333334%\n"
          ]
        },
        {
          "metadata": {
            "tags": null
          },
          "name": "stderr",
          "output_type": "stream",
          "text": [
            "\n",
            " 30%|███       | 6/20 [00:15<00:37,  2.66s/it]\u001b[A"
          ]
        },
        {
          "metadata": {
            "tags": null
          },
          "name": "stdout",
          "output_type": "stream",
          "text": [
            "Number of Epoch = 6 - Average CCE:= 0.023036403401692707 - Average Accuracy:= 27.284999999999997%\n"
          ]
        },
        {
          "metadata": {
            "tags": null
          },
          "name": "stderr",
          "output_type": "stream",
          "text": [
            "\n",
            " 35%|███▌      | 7/20 [00:18<00:34,  2.65s/it]\u001b[A"
          ]
        },
        {
          "metadata": {
            "tags": null
          },
          "name": "stdout",
          "output_type": "stream",
          "text": [
            "Number of Epoch = 7 - Average CCE:= 0.022884454345703124 - Average Accuracy:= 27.816666666666666%\n"
          ]
        },
        {
          "metadata": {
            "tags": null
          },
          "name": "stderr",
          "output_type": "stream",
          "text": [
            "\n",
            " 40%|████      | 8/20 [00:21<00:31,  2.65s/it]\u001b[A"
          ]
        },
        {
          "metadata": {
            "tags": null
          },
          "name": "stdout",
          "output_type": "stream",
          "text": [
            "Number of Epoch = 8 - Average CCE:= 0.022805019124348958 - Average Accuracy:= 28.076666666666668%\n"
          ]
        },
        {
          "metadata": {
            "tags": null
          },
          "name": "stderr",
          "output_type": "stream",
          "text": [
            "\n",
            " 45%|████▌     | 9/20 [00:23<00:29,  2.66s/it]\u001b[A"
          ]
        },
        {
          "metadata": {
            "tags": null
          },
          "name": "stdout",
          "output_type": "stream",
          "text": [
            "Number of Epoch = 9 - Average CCE:= 0.022778759765625 - Average Accuracy:= 28.116666666666667%\n"
          ]
        },
        {
          "metadata": {
            "tags": null
          },
          "name": "stderr",
          "output_type": "stream",
          "text": [
            "\n",
            " 50%|█████     | 10/20 [00:26<00:26,  2.67s/it]\u001b[A"
          ]
        },
        {
          "metadata": {
            "tags": null
          },
          "name": "stdout",
          "output_type": "stream",
          "text": [
            "Number of Epoch = 10 - Average CCE:= 0.022724344889322918 - Average Accuracy:= 28.243333333333332%\n"
          ]
        },
        {
          "metadata": {
            "tags": null
          },
          "name": "stderr",
          "output_type": "stream",
          "text": [
            "\n",
            " 55%|█████▌    | 11/20 [00:29<00:23,  2.66s/it]\u001b[A"
          ]
        },
        {
          "metadata": {
            "tags": null
          },
          "name": "stdout",
          "output_type": "stream",
          "text": [
            "Number of Epoch = 11 - Average CCE:= 0.022767584228515624 - Average Accuracy:= 28.15666666666667%\n"
          ]
        },
        {
          "metadata": {
            "tags": null
          },
          "name": "stderr",
          "output_type": "stream",
          "text": [
            "\n",
            " 60%|██████    | 12/20 [00:31<00:21,  2.66s/it]\u001b[A"
          ]
        },
        {
          "metadata": {
            "tags": null
          },
          "name": "stdout",
          "output_type": "stream",
          "text": [
            "Number of Epoch = 12 - Average CCE:= 0.022721051025390626 - Average Accuracy:= 28.316666666666666%\n"
          ]
        },
        {
          "metadata": {
            "tags": null
          },
          "name": "stderr",
          "output_type": "stream",
          "text": [
            "\n",
            " 65%|██████▌   | 13/20 [00:34<00:18,  2.65s/it]\u001b[A"
          ]
        },
        {
          "metadata": {
            "tags": null
          },
          "name": "stdout",
          "output_type": "stream",
          "text": [
            "Number of Epoch = 13 - Average CCE:= 0.022724652099609374 - Average Accuracy:= 28.27%\n"
          ]
        },
        {
          "metadata": {
            "tags": null
          },
          "name": "stderr",
          "output_type": "stream",
          "text": [
            "\n",
            " 70%|███████   | 14/20 [00:37<00:15,  2.64s/it]\u001b[A"
          ]
        },
        {
          "metadata": {
            "tags": null
          },
          "name": "stdout",
          "output_type": "stream",
          "text": [
            "Number of Epoch = 14 - Average CCE:= 0.022665545654296876 - Average Accuracy:= 28.42%\n"
          ]
        },
        {
          "metadata": {
            "tags": null
          },
          "name": "stderr",
          "output_type": "stream",
          "text": [
            "\n",
            " 75%|███████▌  | 15/20 [00:39<00:13,  2.65s/it]\u001b[A"
          ]
        },
        {
          "metadata": {
            "tags": null
          },
          "name": "stdout",
          "output_type": "stream",
          "text": [
            "Number of Epoch = 15 - Average CCE:= 0.022697617594401042 - Average Accuracy:= 28.383333333333333%\n"
          ]
        },
        {
          "metadata": {
            "tags": null
          },
          "name": "stderr",
          "output_type": "stream",
          "text": [
            "\n",
            " 80%|████████  | 16/20 [00:42<00:10,  2.66s/it]\u001b[A"
          ]
        },
        {
          "metadata": {
            "tags": null
          },
          "name": "stdout",
          "output_type": "stream",
          "text": [
            "Number of Epoch = 16 - Average CCE:= 0.022692401123046876 - Average Accuracy:= 28.381666666666668%\n"
          ]
        },
        {
          "metadata": {
            "tags": null
          },
          "name": "stderr",
          "output_type": "stream",
          "text": [
            "\n",
            " 85%|████████▌ | 17/20 [00:45<00:07,  2.66s/it]\u001b[A"
          ]
        },
        {
          "metadata": {
            "tags": null
          },
          "name": "stdout",
          "output_type": "stream",
          "text": [
            "Number of Epoch = 17 - Average CCE:= 0.0226991455078125 - Average Accuracy:= 28.433333333333334%\n"
          ]
        },
        {
          "metadata": {
            "tags": null
          },
          "name": "stderr",
          "output_type": "stream",
          "text": [
            "\n",
            " 90%|█████████ | 18/20 [00:47<00:05,  2.66s/it]\u001b[A"
          ]
        },
        {
          "metadata": {
            "tags": null
          },
          "name": "stdout",
          "output_type": "stream",
          "text": [
            "Number of Epoch = 18 - Average CCE:= 0.0226588623046875 - Average Accuracy:= 28.485%\n"
          ]
        },
        {
          "metadata": {
            "tags": null
          },
          "name": "stderr",
          "output_type": "stream",
          "text": [
            "\n",
            " 95%|█████████▌| 19/20 [00:50<00:02,  2.65s/it]\u001b[A"
          ]
        },
        {
          "metadata": {
            "tags": null
          },
          "name": "stdout",
          "output_type": "stream",
          "text": [
            "Number of Epoch = 19 - Average CCE:= 0.02266981404622396 - Average Accuracy:= 28.47833333333333%\n"
          ]
        },
        {
          "metadata": {
            "tags": null
          },
          "name": "stderr",
          "output_type": "stream",
          "text": [
            "\n",
            "100%|██████████| 20/20 [00:53<00:00,  2.65s/it]"
          ]
        },
        {
          "metadata": {
            "tags": null
          },
          "name": "stdout",
          "output_type": "stream",
          "text": [
            "Number of Epoch = 20 - Average CCE:= 0.02266427205403646 - Average Accuracy:= 28.51%\n",
            "\n",
            "Total time taken (in seconds): 53.08\n"
          ]
        },
        {
          "metadata": {
            "tags": null
          },
          "name": "stderr",
          "output_type": "stream",
          "text": [
            "\n",
            " 10%|█         | 1/10 [00:53<08:02, 53.61s/it]"
          ]
        },
        {
          "metadata": {
            "tags": null
          },
          "name": "stdout",
          "output_type": "stream",
          "text": [
            "Test CCE: 0.1152, Accuracy : 0.2849\n",
            "seed: 4225, Cross Entropy loss: 0.11522347412109375, Accuracy: 0.2849\n",
            "\n",
            "** Inference Iteration: 1 **\n",
            "\n",
            "#Training default model with seed 4555#\n"
          ]
        },
        {
          "metadata": {
            "tags": null
          },
          "name": "stderr",
          "output_type": "stream",
          "text": [
            "\n",
            "  0%|          | 0/20 [00:00<?, ?it/s]\u001b[A\n",
            "  5%|▌         | 1/20 [00:03<01:12,  3.80s/it]\u001b[A"
          ]
        },
        {
          "metadata": {
            "tags": null
          },
          "name": "stdout",
          "output_type": "stream",
          "text": [
            "Number of Epoch = 1 - Average CCE:= 0.02315363972981771 - Average Accuracy:= 26.765%\n"
          ]
        },
        {
          "metadata": {
            "tags": null
          },
          "name": "stderr",
          "output_type": "stream",
          "text": [
            "\n",
            " 10%|█         | 2/20 [00:06<00:56,  3.13s/it]\u001b[A"
          ]
        },
        {
          "metadata": {
            "tags": null
          },
          "name": "stdout",
          "output_type": "stream",
          "text": [
            "Number of Epoch = 2 - Average CCE:= 0.018631343587239585 - Average Accuracy:= 41.03666666666667%\n"
          ]
        },
        {
          "metadata": {
            "tags": null
          },
          "name": "stderr",
          "output_type": "stream",
          "text": [
            "\n",
            " 15%|█▌        | 3/20 [00:09<00:49,  2.90s/it]\u001b[A"
          ]
        },
        {
          "metadata": {
            "tags": null
          },
          "name": "stdout",
          "output_type": "stream",
          "text": [
            "Number of Epoch = 3 - Average CCE:= 0.01769992472330729 - Average Accuracy:= 43.998333333333335%\n"
          ]
        },
        {
          "metadata": {
            "tags": null
          },
          "name": "stderr",
          "output_type": "stream",
          "text": [
            "\n",
            " 20%|██        | 4/20 [00:11<00:45,  2.82s/it]\u001b[A"
          ]
        },
        {
          "metadata": {
            "tags": null
          },
          "name": "stdout",
          "output_type": "stream",
          "text": [
            "Number of Epoch = 4 - Average CCE:= 0.017231805419921874 - Average Accuracy:= 45.49333333333333%\n"
          ]
        },
        {
          "metadata": {
            "tags": null
          },
          "name": "stderr",
          "output_type": "stream",
          "text": [
            "\n",
            " 25%|██▌       | 5/20 [00:14<00:42,  2.82s/it]\u001b[A"
          ]
        },
        {
          "metadata": {
            "tags": null
          },
          "name": "stdout",
          "output_type": "stream",
          "text": [
            "Number of Epoch = 5 - Average CCE:= 0.01702577107747396 - Average Accuracy:= 46.20333333333333%\n"
          ]
        },
        {
          "metadata": {
            "tags": null
          },
          "name": "stderr",
          "output_type": "stream",
          "text": [
            "\n",
            " 30%|███       | 6/20 [00:17<00:38,  2.76s/it]\u001b[A"
          ]
        },
        {
          "metadata": {
            "tags": null
          },
          "name": "stdout",
          "output_type": "stream",
          "text": [
            "Number of Epoch = 6 - Average CCE:= 0.016914224243164064 - Average Accuracy:= 46.56666666666667%\n"
          ]
        },
        {
          "metadata": {
            "tags": null
          },
          "name": "stderr",
          "output_type": "stream",
          "text": [
            "\n",
            " 35%|███▌      | 7/20 [00:19<00:35,  2.73s/it]\u001b[A"
          ]
        },
        {
          "metadata": {
            "tags": null
          },
          "name": "stdout",
          "output_type": "stream",
          "text": [
            "Number of Epoch = 7 - Average CCE:= 0.016789077758789062 - Average Accuracy:= 46.916666666666664%\n"
          ]
        },
        {
          "metadata": {
            "tags": null
          },
          "name": "stderr",
          "output_type": "stream",
          "text": [
            "\n",
            " 40%|████      | 8/20 [00:22<00:32,  2.70s/it]\u001b[A"
          ]
        },
        {
          "metadata": {
            "tags": null
          },
          "name": "stdout",
          "output_type": "stream",
          "text": [
            "Number of Epoch = 8 - Average CCE:= 0.016736268107096355 - Average Accuracy:= 47.10333333333334%\n"
          ]
        },
        {
          "metadata": {
            "tags": null
          },
          "name": "stderr",
          "output_type": "stream",
          "text": [
            "\n",
            " 45%|████▌     | 9/20 [00:25<00:29,  2.69s/it]\u001b[A"
          ]
        },
        {
          "metadata": {
            "tags": null
          },
          "name": "stdout",
          "output_type": "stream",
          "text": [
            "Number of Epoch = 9 - Average CCE:= 0.016766741943359375 - Average Accuracy:= 47.13166666666667%\n"
          ]
        },
        {
          "metadata": {
            "tags": null
          },
          "name": "stderr",
          "output_type": "stream",
          "text": [
            "\n",
            " 50%|█████     | 10/20 [00:27<00:26,  2.68s/it]\u001b[A"
          ]
        },
        {
          "metadata": {
            "tags": null
          },
          "name": "stdout",
          "output_type": "stream",
          "text": [
            "Number of Epoch = 10 - Average CCE:= 0.016685369873046876 - Average Accuracy:= 47.281666666666666%\n"
          ]
        },
        {
          "metadata": {
            "tags": null
          },
          "name": "stderr",
          "output_type": "stream",
          "text": [
            "\n",
            " 55%|█████▌    | 11/20 [00:30<00:25,  2.80s/it]\u001b[A"
          ]
        },
        {
          "metadata": {
            "tags": null
          },
          "name": "stdout",
          "output_type": "stream",
          "text": [
            "Number of Epoch = 11 - Average CCE:= 0.016683863321940103 - Average Accuracy:= 47.30333333333333%\n"
          ]
        },
        {
          "metadata": {
            "tags": null
          },
          "name": "stderr",
          "output_type": "stream",
          "text": [
            "\n",
            " 60%|██████    | 12/20 [00:33<00:22,  2.76s/it]\u001b[A"
          ]
        },
        {
          "metadata": {
            "tags": null
          },
          "name": "stdout",
          "output_type": "stream",
          "text": [
            "Number of Epoch = 12 - Average CCE:= 0.016635696411132814 - Average Accuracy:= 47.42666666666667%\n"
          ]
        },
        {
          "metadata": {
            "tags": null
          },
          "name": "stderr",
          "output_type": "stream",
          "text": [
            "\n",
            " 65%|██████▌   | 13/20 [00:36<00:19,  2.73s/it]\u001b[A"
          ]
        },
        {
          "metadata": {
            "tags": null
          },
          "name": "stdout",
          "output_type": "stream",
          "text": [
            "Number of Epoch = 13 - Average CCE:= 0.01661275126139323 - Average Accuracy:= 47.5%\n"
          ]
        },
        {
          "metadata": {
            "tags": null
          },
          "name": "stderr",
          "output_type": "stream",
          "text": [
            "\n",
            " 70%|███████   | 14/20 [00:38<00:16,  2.68s/it]\u001b[A"
          ]
        },
        {
          "metadata": {
            "tags": null
          },
          "name": "stdout",
          "output_type": "stream",
          "text": [
            "Number of Epoch = 14 - Average CCE:= 0.0165866455078125 - Average Accuracy:= 47.57%\n"
          ]
        },
        {
          "metadata": {
            "tags": null
          },
          "name": "stderr",
          "output_type": "stream",
          "text": [
            "\n",
            " 75%|███████▌  | 15/20 [00:41<00:13,  2.65s/it]\u001b[A"
          ]
        },
        {
          "metadata": {
            "tags": null
          },
          "name": "stdout",
          "output_type": "stream",
          "text": [
            "Number of Epoch = 15 - Average CCE:= 0.016555511474609375 - Average Accuracy:= 47.67666666666667%\n"
          ]
        },
        {
          "metadata": {
            "tags": null
          },
          "name": "stderr",
          "output_type": "stream",
          "text": [
            "\n",
            " 80%|████████  | 16/20 [00:44<00:10,  2.64s/it]\u001b[A"
          ]
        },
        {
          "metadata": {
            "tags": null
          },
          "name": "stdout",
          "output_type": "stream",
          "text": [
            "Number of Epoch = 16 - Average CCE:= 0.01654585673014323 - Average Accuracy:= 47.715%\n"
          ]
        },
        {
          "metadata": {
            "tags": null
          },
          "name": "stderr",
          "output_type": "stream",
          "text": [
            "\n",
            " 85%|████████▌ | 17/20 [00:46<00:07,  2.66s/it]\u001b[A"
          ]
        },
        {
          "metadata": {
            "tags": null
          },
          "name": "stdout",
          "output_type": "stream",
          "text": [
            "Number of Epoch = 17 - Average CCE:= 0.01653895263671875 - Average Accuracy:= 47.75833333333333%\n"
          ]
        },
        {
          "metadata": {
            "tags": null
          },
          "name": "stderr",
          "output_type": "stream",
          "text": [
            "\n",
            " 90%|█████████ | 18/20 [00:49<00:05,  2.65s/it]\u001b[A"
          ]
        },
        {
          "metadata": {
            "tags": null
          },
          "name": "stdout",
          "output_type": "stream",
          "text": [
            "Number of Epoch = 18 - Average CCE:= 0.01653692118326823 - Average Accuracy:= 47.76166666666667%\n"
          ]
        },
        {
          "metadata": {
            "tags": null
          },
          "name": "stderr",
          "output_type": "stream",
          "text": [
            "\n",
            " 95%|█████████▌| 19/20 [00:52<00:02,  2.67s/it]\u001b[A"
          ]
        },
        {
          "metadata": {
            "tags": null
          },
          "name": "stdout",
          "output_type": "stream",
          "text": [
            "Number of Epoch = 19 - Average CCE:= 0.016503786214192708 - Average Accuracy:= 47.86333333333334%\n"
          ]
        },
        {
          "metadata": {
            "tags": null
          },
          "name": "stderr",
          "output_type": "stream",
          "text": [
            "\n",
            "100%|██████████| 20/20 [00:54<00:00,  2.74s/it]"
          ]
        },
        {
          "metadata": {
            "tags": null
          },
          "name": "stdout",
          "output_type": "stream",
          "text": [
            "Number of Epoch = 20 - Average CCE:= 0.016528872680664063 - Average Accuracy:= 47.858333333333334%\n",
            "\n",
            "Total time taken (in seconds): 54.82\n"
          ]
        },
        {
          "metadata": {
            "tags": null
          },
          "name": "stderr",
          "output_type": "stream",
          "text": [
            "\n",
            " 20%|██        | 2/10 [01:48<07:17, 54.63s/it]"
          ]
        },
        {
          "metadata": {
            "tags": null
          },
          "name": "stdout",
          "output_type": "stream",
          "text": [
            "Test CCE: 0.0847, Accuracy : 0.4742\n",
            "seed: 4555, Cross Entropy loss: 0.08467548828125, Accuracy: 0.4742\n",
            "\n",
            "** Inference Iteration: 2 **\n",
            "\n",
            "#Training default model with seed 4193#\n"
          ]
        },
        {
          "metadata": {
            "tags": null
          },
          "name": "stderr",
          "output_type": "stream",
          "text": [
            "\n",
            "  0%|          | 0/20 [00:00<?, ?it/s]\u001b[A\n",
            "  5%|▌         | 1/20 [00:03<00:58,  3.08s/it]\u001b[A"
          ]
        },
        {
          "metadata": {
            "tags": null
          },
          "name": "stdout",
          "output_type": "stream",
          "text": [
            "Number of Epoch = 1 - Average CCE:= 0.0238388671875 - Average Accuracy:= 24.51%\n"
          ]
        },
        {
          "metadata": {
            "tags": null
          },
          "name": "stderr",
          "output_type": "stream",
          "text": [
            "\n",
            " 10%|█         | 2/20 [00:05<00:51,  2.84s/it]\u001b[A"
          ]
        },
        {
          "metadata": {
            "tags": null
          },
          "name": "stdout",
          "output_type": "stream",
          "text": [
            "Number of Epoch = 2 - Average CCE:= 0.02199444376627604 - Average Accuracy:= 30.47666666666667%\n"
          ]
        },
        {
          "metadata": {
            "tags": null
          },
          "name": "stderr",
          "output_type": "stream",
          "text": [
            "\n",
            " 15%|█▌        | 3/20 [00:08<00:46,  2.75s/it]\u001b[A"
          ]
        },
        {
          "metadata": {
            "tags": null
          },
          "name": "stdout",
          "output_type": "stream",
          "text": [
            "Number of Epoch = 3 - Average CCE:= 0.021533915201822917 - Average Accuracy:= 31.919999999999998%\n"
          ]
        },
        {
          "metadata": {
            "tags": null
          },
          "name": "stderr",
          "output_type": "stream",
          "text": [
            "\n",
            " 20%|██        | 4/20 [00:11<00:43,  2.70s/it]\u001b[A"
          ]
        },
        {
          "metadata": {
            "tags": null
          },
          "name": "stdout",
          "output_type": "stream",
          "text": [
            "Number of Epoch = 4 - Average CCE:= 0.021354146321614583 - Average Accuracy:= 32.46%\n"
          ]
        },
        {
          "metadata": {
            "tags": null
          },
          "name": "stderr",
          "output_type": "stream",
          "text": [
            "\n",
            " 25%|██▌       | 5/20 [00:13<00:40,  2.67s/it]\u001b[A"
          ]
        },
        {
          "metadata": {
            "tags": null
          },
          "name": "stdout",
          "output_type": "stream",
          "text": [
            "Number of Epoch = 5 - Average CCE:= 0.021160245768229165 - Average Accuracy:= 33.15166666666667%\n"
          ]
        },
        {
          "metadata": {
            "tags": null
          },
          "name": "stderr",
          "output_type": "stream",
          "text": [
            "\n",
            " 30%|███       | 6/20 [00:16<00:37,  2.65s/it]\u001b[A"
          ]
        },
        {
          "metadata": {
            "tags": null
          },
          "name": "stdout",
          "output_type": "stream",
          "text": [
            "Number of Epoch = 6 - Average CCE:= 0.021103800455729165 - Average Accuracy:= 33.29333333333334%\n"
          ]
        },
        {
          "metadata": {
            "tags": null
          },
          "name": "stderr",
          "output_type": "stream",
          "text": [
            "\n",
            " 35%|███▌      | 7/20 [00:18<00:34,  2.65s/it]\u001b[A"
          ]
        },
        {
          "metadata": {
            "tags": null
          },
          "name": "stdout",
          "output_type": "stream",
          "text": [
            "Number of Epoch = 7 - Average CCE:= 0.021024285888671876 - Average Accuracy:= 33.55833333333334%\n"
          ]
        },
        {
          "metadata": {
            "tags": null
          },
          "name": "stderr",
          "output_type": "stream",
          "text": [
            "\n",
            " 40%|████      | 8/20 [00:21<00:31,  2.65s/it]\u001b[A"
          ]
        },
        {
          "metadata": {
            "tags": null
          },
          "name": "stdout",
          "output_type": "stream",
          "text": [
            "Number of Epoch = 8 - Average CCE:= 0.02089759521484375 - Average Accuracy:= 33.89666666666667%\n"
          ]
        },
        {
          "metadata": {
            "tags": null
          },
          "name": "stderr",
          "output_type": "stream",
          "text": [
            "\n",
            " 45%|████▌     | 9/20 [00:24<00:29,  2.65s/it]\u001b[A"
          ]
        },
        {
          "metadata": {
            "tags": null
          },
          "name": "stdout",
          "output_type": "stream",
          "text": [
            "Number of Epoch = 9 - Average CCE:= 0.020909478759765624 - Average Accuracy:= 33.94333333333333%\n"
          ]
        },
        {
          "metadata": {
            "tags": null
          },
          "name": "stderr",
          "output_type": "stream",
          "text": [
            "\n",
            " 50%|█████     | 10/20 [00:26<00:26,  2.62s/it]\u001b[A"
          ]
        },
        {
          "metadata": {
            "tags": null
          },
          "name": "stdout",
          "output_type": "stream",
          "text": [
            "Number of Epoch = 10 - Average CCE:= 0.02078170166015625 - Average Accuracy:= 34.376666666666665%\n"
          ]
        },
        {
          "metadata": {
            "tags": null
          },
          "name": "stderr",
          "output_type": "stream",
          "text": [
            "\n",
            " 55%|█████▌    | 11/20 [00:29<00:23,  2.62s/it]\u001b[A"
          ]
        },
        {
          "metadata": {
            "tags": null
          },
          "name": "stdout",
          "output_type": "stream",
          "text": [
            "Number of Epoch = 11 - Average CCE:= 0.020732143147786458 - Average Accuracy:= 34.51166666666667%\n"
          ]
        },
        {
          "metadata": {
            "tags": null
          },
          "name": "stderr",
          "output_type": "stream",
          "text": [
            "\n",
            " 60%|██████    | 12/20 [00:32<00:21,  2.64s/it]\u001b[A"
          ]
        },
        {
          "metadata": {
            "tags": null
          },
          "name": "stdout",
          "output_type": "stream",
          "text": [
            "Number of Epoch = 12 - Average CCE:= 0.020722322591145835 - Average Accuracy:= 34.52333333333333%\n"
          ]
        },
        {
          "metadata": {
            "tags": null
          },
          "name": "stderr",
          "output_type": "stream",
          "text": [
            "\n",
            " 65%|██████▌   | 13/20 [00:34<00:18,  2.64s/it]\u001b[A"
          ]
        },
        {
          "metadata": {
            "tags": null
          },
          "name": "stdout",
          "output_type": "stream",
          "text": [
            "Number of Epoch = 13 - Average CCE:= 0.019485282389322917 - Average Accuracy:= 38.388333333333335%\n"
          ]
        },
        {
          "metadata": {
            "tags": null
          },
          "name": "stderr",
          "output_type": "stream",
          "text": [
            "\n",
            " 70%|███████   | 14/20 [00:37<00:15,  2.64s/it]\u001b[A"
          ]
        },
        {
          "metadata": {
            "tags": null
          },
          "name": "stdout",
          "output_type": "stream",
          "text": [
            "Number of Epoch = 14 - Average CCE:= 0.018235213216145834 - Average Accuracy:= 42.303333333333335%\n"
          ]
        },
        {
          "metadata": {
            "tags": null
          },
          "name": "stderr",
          "output_type": "stream",
          "text": [
            "\n",
            " 75%|███████▌  | 15/20 [00:39<00:13,  2.64s/it]\u001b[A"
          ]
        },
        {
          "metadata": {
            "tags": null
          },
          "name": "stdout",
          "output_type": "stream",
          "text": [
            "Number of Epoch = 15 - Average CCE:= 0.018035251871744793 - Average Accuracy:= 42.968333333333334%\n"
          ]
        },
        {
          "metadata": {
            "tags": null
          },
          "name": "stderr",
          "output_type": "stream",
          "text": [
            "\n",
            " 80%|████████  | 16/20 [00:42<00:10,  2.64s/it]\u001b[A"
          ]
        },
        {
          "metadata": {
            "tags": null
          },
          "name": "stdout",
          "output_type": "stream",
          "text": [
            "Number of Epoch = 16 - Average CCE:= 0.0179955078125 - Average Accuracy:= 43.13166666666667%\n"
          ]
        },
        {
          "metadata": {
            "tags": null
          },
          "name": "stderr",
          "output_type": "stream",
          "text": [
            "\n",
            " 85%|████████▌ | 17/20 [00:45<00:08,  2.70s/it]\u001b[A"
          ]
        },
        {
          "metadata": {
            "tags": null
          },
          "name": "stdout",
          "output_type": "stream",
          "text": [
            "Number of Epoch = 17 - Average CCE:= 0.017941886393229165 - Average Accuracy:= 43.288333333333334%\n"
          ]
        },
        {
          "metadata": {
            "tags": null
          },
          "name": "stderr",
          "output_type": "stream",
          "text": [
            "\n",
            " 90%|█████████ | 18/20 [00:48<00:05,  2.67s/it]\u001b[A"
          ]
        },
        {
          "metadata": {
            "tags": null
          },
          "name": "stdout",
          "output_type": "stream",
          "text": [
            "Number of Epoch = 18 - Average CCE:= 0.018031752522786458 - Average Accuracy:= 43.08166666666667%\n"
          ]
        },
        {
          "metadata": {
            "tags": null
          },
          "name": "stderr",
          "output_type": "stream",
          "text": [
            "\n",
            " 95%|█████████▌| 19/20 [00:50<00:02,  2.66s/it]\u001b[A"
          ]
        },
        {
          "metadata": {
            "tags": null
          },
          "name": "stdout",
          "output_type": "stream",
          "text": [
            "Number of Epoch = 19 - Average CCE:= 0.01782324015299479 - Average Accuracy:= 43.65%\n"
          ]
        },
        {
          "metadata": {
            "tags": null
          },
          "name": "stderr",
          "output_type": "stream",
          "text": [
            "\n",
            "100%|██████████| 20/20 [00:53<00:00,  2.67s/it]"
          ]
        },
        {
          "metadata": {
            "tags": null
          },
          "name": "stdout",
          "output_type": "stream",
          "text": [
            "Number of Epoch = 20 - Average CCE:= 0.017746702067057293 - Average Accuracy:= 43.89333333333333%\n",
            "\n",
            "Total time taken (in seconds): 53.36\n"
          ]
        },
        {
          "metadata": {
            "tags": null
          },
          "name": "stderr",
          "output_type": "stream",
          "text": [
            "\n",
            " 30%|███       | 3/10 [02:42<06:20, 54.29s/it]"
          ]
        },
        {
          "metadata": {
            "tags": null
          },
          "name": "stdout",
          "output_type": "stream",
          "text": [
            "Test CCE: 0.0858, Accuracy : 0.4646\n",
            "seed: 4193, Cross Entropy loss: 0.08576741333007812, Accuracy: 0.4646\n",
            "\n",
            "** Inference Iteration: 3 **\n",
            "\n",
            "#Training default model with seed 4027#\n"
          ]
        },
        {
          "metadata": {
            "tags": null
          },
          "name": "stderr",
          "output_type": "stream",
          "text": [
            "\n",
            "  0%|          | 0/20 [00:00<?, ?it/s]\u001b[A\n",
            "  5%|▌         | 1/20 [00:02<00:49,  2.62s/it]\u001b[A"
          ]
        },
        {
          "metadata": {
            "tags": null
          },
          "name": "stdout",
          "output_type": "stream",
          "text": [
            "Number of Epoch = 1 - Average CCE:= 0.026040976969401042 - Average Accuracy:= 17.666666666666668%\n"
          ]
        },
        {
          "metadata": {
            "tags": null
          },
          "name": "stderr",
          "output_type": "stream",
          "text": [
            "\n",
            " 10%|█         | 2/20 [00:05<00:47,  2.62s/it]\u001b[A"
          ]
        },
        {
          "metadata": {
            "tags": null
          },
          "name": "stdout",
          "output_type": "stream",
          "text": [
            "Number of Epoch = 2 - Average CCE:= 0.024289349365234376 - Average Accuracy:= 23.215%\n"
          ]
        },
        {
          "metadata": {
            "tags": null
          },
          "name": "stderr",
          "output_type": "stream",
          "text": [
            "\n",
            " 15%|█▌        | 3/20 [00:07<00:45,  2.65s/it]\u001b[A"
          ]
        },
        {
          "metadata": {
            "tags": null
          },
          "name": "stdout",
          "output_type": "stream",
          "text": [
            "Number of Epoch = 3 - Average CCE:= 0.023439276123046877 - Average Accuracy:= 25.865%\n"
          ]
        },
        {
          "metadata": {
            "tags": null
          },
          "name": "stderr",
          "output_type": "stream",
          "text": [
            "\n",
            " 20%|██        | 4/20 [00:10<00:42,  2.65s/it]\u001b[A"
          ]
        },
        {
          "metadata": {
            "tags": null
          },
          "name": "stdout",
          "output_type": "stream",
          "text": [
            "Number of Epoch = 4 - Average CCE:= 0.023070654296875 - Average Accuracy:= 27.145000000000003%\n"
          ]
        },
        {
          "metadata": {
            "tags": null
          },
          "name": "stderr",
          "output_type": "stream",
          "text": [
            "\n",
            " 25%|██▌       | 5/20 [00:13<00:39,  2.65s/it]\u001b[A"
          ]
        },
        {
          "metadata": {
            "tags": null
          },
          "name": "stdout",
          "output_type": "stream",
          "text": [
            "Number of Epoch = 5 - Average CCE:= 0.022866762288411457 - Average Accuracy:= 27.79333333333333%\n"
          ]
        },
        {
          "metadata": {
            "tags": null
          },
          "name": "stderr",
          "output_type": "stream",
          "text": [
            "\n",
            " 30%|███       | 6/20 [00:15<00:36,  2.64s/it]\u001b[A"
          ]
        },
        {
          "metadata": {
            "tags": null
          },
          "name": "stdout",
          "output_type": "stream",
          "text": [
            "Number of Epoch = 6 - Average CCE:= 0.022761735026041667 - Average Accuracy:= 28.103333333333335%\n"
          ]
        },
        {
          "metadata": {
            "tags": null
          },
          "name": "stderr",
          "output_type": "stream",
          "text": [
            "\n",
            " 35%|███▌      | 7/20 [00:18<00:34,  2.64s/it]\u001b[A"
          ]
        },
        {
          "metadata": {
            "tags": null
          },
          "name": "stdout",
          "output_type": "stream",
          "text": [
            "Number of Epoch = 7 - Average CCE:= 0.022722613525390626 - Average Accuracy:= 28.22833333333333%\n"
          ]
        },
        {
          "metadata": {
            "tags": null
          },
          "name": "stderr",
          "output_type": "stream",
          "text": [
            "\n",
            " 40%|████      | 8/20 [00:21<00:31,  2.63s/it]\u001b[A"
          ]
        },
        {
          "metadata": {
            "tags": null
          },
          "name": "stdout",
          "output_type": "stream",
          "text": [
            "Number of Epoch = 8 - Average CCE:= 0.022696262613932292 - Average Accuracy:= 28.30666666666667%\n"
          ]
        },
        {
          "metadata": {
            "tags": null
          },
          "name": "stderr",
          "output_type": "stream",
          "text": [
            "\n",
            " 45%|████▌     | 9/20 [00:23<00:28,  2.62s/it]\u001b[A"
          ]
        },
        {
          "metadata": {
            "tags": null
          },
          "name": "stdout",
          "output_type": "stream",
          "text": [
            "Number of Epoch = 9 - Average CCE:= 0.02266845703125 - Average Accuracy:= 28.410000000000004%\n"
          ]
        },
        {
          "metadata": {
            "tags": null
          },
          "name": "stderr",
          "output_type": "stream",
          "text": [
            "\n",
            " 50%|█████     | 10/20 [00:26<00:26,  2.63s/it]\u001b[A"
          ]
        },
        {
          "metadata": {
            "tags": null
          },
          "name": "stdout",
          "output_type": "stream",
          "text": [
            "Number of Epoch = 10 - Average CCE:= 0.022645845540364584 - Average Accuracy:= 28.488333333333333%\n"
          ]
        },
        {
          "metadata": {
            "tags": null
          },
          "name": "stderr",
          "output_type": "stream",
          "text": [
            "\n",
            " 55%|█████▌    | 11/20 [00:29<00:23,  2.64s/it]\u001b[A"
          ]
        },
        {
          "metadata": {
            "tags": null
          },
          "name": "stdout",
          "output_type": "stream",
          "text": [
            "Number of Epoch = 11 - Average CCE:= 0.022625567626953124 - Average Accuracy:= 28.573333333333334%\n"
          ]
        },
        {
          "metadata": {
            "tags": null
          },
          "name": "stderr",
          "output_type": "stream",
          "text": [
            "\n",
            " 60%|██████    | 12/20 [00:31<00:21,  2.64s/it]\u001b[A"
          ]
        },
        {
          "metadata": {
            "tags": null
          },
          "name": "stdout",
          "output_type": "stream",
          "text": [
            "Number of Epoch = 12 - Average CCE:= 0.022607049560546873 - Average Accuracy:= 28.663333333333334%\n"
          ]
        },
        {
          "metadata": {
            "tags": null
          },
          "name": "stderr",
          "output_type": "stream",
          "text": [
            "\n",
            " 65%|██████▌   | 13/20 [00:34<00:18,  2.64s/it]\u001b[A"
          ]
        },
        {
          "metadata": {
            "tags": null
          },
          "name": "stdout",
          "output_type": "stream",
          "text": [
            "Number of Epoch = 13 - Average CCE:= 0.022591343180338543 - Average Accuracy:= 28.66166666666667%\n"
          ]
        },
        {
          "metadata": {
            "tags": null
          },
          "name": "stderr",
          "output_type": "stream",
          "text": [
            "\n",
            " 70%|███████   | 14/20 [00:36<00:15,  2.63s/it]\u001b[A"
          ]
        },
        {
          "metadata": {
            "tags": null
          },
          "name": "stdout",
          "output_type": "stream",
          "text": [
            "Number of Epoch = 14 - Average CCE:= 0.022568351236979166 - Average Accuracy:= 28.765%\n"
          ]
        },
        {
          "metadata": {
            "tags": null
          },
          "name": "stderr",
          "output_type": "stream",
          "text": [
            "\n",
            " 75%|███████▌  | 15/20 [00:39<00:13,  2.65s/it]\u001b[A"
          ]
        },
        {
          "metadata": {
            "tags": null
          },
          "name": "stdout",
          "output_type": "stream",
          "text": [
            "Number of Epoch = 15 - Average CCE:= 0.022518587239583332 - Average Accuracy:= 28.865000000000002%\n"
          ]
        },
        {
          "metadata": {
            "tags": null
          },
          "name": "stderr",
          "output_type": "stream",
          "text": [
            "\n",
            " 80%|████████  | 16/20 [00:42<00:10,  2.66s/it]\u001b[A"
          ]
        },
        {
          "metadata": {
            "tags": null
          },
          "name": "stdout",
          "output_type": "stream",
          "text": [
            "Number of Epoch = 16 - Average CCE:= 0.02248896484375 - Average Accuracy:= 28.933333333333334%\n"
          ]
        },
        {
          "metadata": {
            "tags": null
          },
          "name": "stderr",
          "output_type": "stream",
          "text": [
            "\n",
            " 85%|████████▌ | 17/20 [00:44<00:08,  2.67s/it]\u001b[A"
          ]
        },
        {
          "metadata": {
            "tags": null
          },
          "name": "stdout",
          "output_type": "stream",
          "text": [
            "Number of Epoch = 17 - Average CCE:= 0.02250472412109375 - Average Accuracy:= 28.95%\n"
          ]
        },
        {
          "metadata": {
            "tags": null
          },
          "name": "stderr",
          "output_type": "stream",
          "text": [
            "\n",
            " 90%|█████████ | 18/20 [00:47<00:05,  2.65s/it]\u001b[A"
          ]
        },
        {
          "metadata": {
            "tags": null
          },
          "name": "stdout",
          "output_type": "stream",
          "text": [
            "Number of Epoch = 18 - Average CCE:= 0.022520540364583334 - Average Accuracy:= 28.916666666666668%\n"
          ]
        },
        {
          "metadata": {
            "tags": null
          },
          "name": "stderr",
          "output_type": "stream",
          "text": [
            "\n",
            " 95%|█████████▌| 19/20 [00:50<00:02,  2.65s/it]\u001b[A"
          ]
        },
        {
          "metadata": {
            "tags": null
          },
          "name": "stdout",
          "output_type": "stream",
          "text": [
            "Number of Epoch = 19 - Average CCE:= 0.0225129150390625 - Average Accuracy:= 28.968333333333334%\n"
          ]
        },
        {
          "metadata": {
            "tags": null
          },
          "name": "stderr",
          "output_type": "stream",
          "text": [
            "\n",
            "100%|██████████| 20/20 [00:52<00:00,  2.65s/it]"
          ]
        },
        {
          "metadata": {
            "tags": null
          },
          "name": "stdout",
          "output_type": "stream",
          "text": [
            "Number of Epoch = 20 - Average CCE:= 0.022500217692057293 - Average Accuracy:= 28.988333333333333%\n",
            "\n",
            "Total time taken (in seconds): 52.96\n"
          ]
        },
        {
          "metadata": {
            "tags": null
          },
          "name": "stderr",
          "output_type": "stream",
          "text": [
            "\n",
            " 40%|████      | 4/10 [03:36<05:24, 54.03s/it]"
          ]
        },
        {
          "metadata": {
            "tags": null
          },
          "name": "stdout",
          "output_type": "stream",
          "text": [
            "Test CCE: 0.1145, Accuracy : 0.2888\n",
            "seed: 4027, Cross Entropy loss: 0.1145487060546875, Accuracy: 0.2888\n",
            "\n",
            "** Inference Iteration: 4 **\n",
            "\n",
            "#Training default model with seed 4747#\n"
          ]
        },
        {
          "metadata": {
            "tags": null
          },
          "name": "stderr",
          "output_type": "stream",
          "text": [
            "\n",
            "  0%|          | 0/20 [00:00<?, ?it/s]\u001b[A\n",
            "  5%|▌         | 1/20 [00:02<00:49,  2.62s/it]\u001b[A"
          ]
        },
        {
          "metadata": {
            "tags": null
          },
          "name": "stdout",
          "output_type": "stream",
          "text": [
            "Number of Epoch = 1 - Average CCE:= 0.02526605021158854 - Average Accuracy:= 20.153333333333336%\n"
          ]
        },
        {
          "metadata": {
            "tags": null
          },
          "name": "stderr",
          "output_type": "stream",
          "text": [
            "\n",
            " 10%|█         | 2/20 [00:05<00:47,  2.64s/it]\u001b[A"
          ]
        },
        {
          "metadata": {
            "tags": null
          },
          "name": "stdout",
          "output_type": "stream",
          "text": [
            "Number of Epoch = 2 - Average CCE:= 0.022855196126302085 - Average Accuracy:= 27.778333333333332%\n"
          ]
        },
        {
          "metadata": {
            "tags": null
          },
          "name": "stderr",
          "output_type": "stream",
          "text": [
            "\n",
            " 15%|█▌        | 3/20 [00:07<00:44,  2.64s/it]\u001b[A"
          ]
        },
        {
          "metadata": {
            "tags": null
          },
          "name": "stdout",
          "output_type": "stream",
          "text": [
            "Number of Epoch = 3 - Average CCE:= 0.020336612955729166 - Average Accuracy:= 35.70166666666667%\n"
          ]
        },
        {
          "metadata": {
            "tags": null
          },
          "name": "stderr",
          "output_type": "stream",
          "text": [
            "\n",
            " 20%|██        | 4/20 [00:10<00:41,  2.62s/it]\u001b[A"
          ]
        },
        {
          "metadata": {
            "tags": null
          },
          "name": "stdout",
          "output_type": "stream",
          "text": [
            "Number of Epoch = 4 - Average CCE:= 0.01946334025065104 - Average Accuracy:= 38.47666666666667%\n"
          ]
        },
        {
          "metadata": {
            "tags": null
          },
          "name": "stderr",
          "output_type": "stream",
          "text": [
            "\n",
            " 25%|██▌       | 5/20 [00:13<00:39,  2.63s/it]\u001b[A"
          ]
        },
        {
          "metadata": {
            "tags": null
          },
          "name": "stdout",
          "output_type": "stream",
          "text": [
            "Number of Epoch = 5 - Average CCE:= 0.018608754475911458 - Average Accuracy:= 41.11833333333333%\n"
          ]
        },
        {
          "metadata": {
            "tags": null
          },
          "name": "stderr",
          "output_type": "stream",
          "text": [
            "\n",
            " 30%|███       | 6/20 [00:15<00:36,  2.63s/it]\u001b[A"
          ]
        },
        {
          "metadata": {
            "tags": null
          },
          "name": "stdout",
          "output_type": "stream",
          "text": [
            "Number of Epoch = 6 - Average CCE:= 0.01813922119140625 - Average Accuracy:= 42.614999999999995%\n"
          ]
        },
        {
          "metadata": {
            "tags": null
          },
          "name": "stderr",
          "output_type": "stream",
          "text": [
            "\n",
            " 35%|███▌      | 7/20 [00:18<00:34,  2.64s/it]\u001b[A"
          ]
        },
        {
          "metadata": {
            "tags": null
          },
          "name": "stdout",
          "output_type": "stream",
          "text": [
            "Number of Epoch = 7 - Average CCE:= 0.01783348388671875 - Average Accuracy:= 43.571666666666665%\n"
          ]
        },
        {
          "metadata": {
            "tags": null
          },
          "name": "stderr",
          "output_type": "stream",
          "text": [
            "\n",
            " 40%|████      | 8/20 [00:21<00:31,  2.65s/it]\u001b[A"
          ]
        },
        {
          "metadata": {
            "tags": null
          },
          "name": "stdout",
          "output_type": "stream",
          "text": [
            "Number of Epoch = 8 - Average CCE:= 0.017548492431640625 - Average Accuracy:= 44.46333333333333%\n"
          ]
        },
        {
          "metadata": {
            "tags": null
          },
          "name": "stderr",
          "output_type": "stream",
          "text": [
            "\n",
            " 45%|████▌     | 9/20 [00:23<00:29,  2.67s/it]\u001b[A"
          ]
        },
        {
          "metadata": {
            "tags": null
          },
          "name": "stdout",
          "output_type": "stream",
          "text": [
            "Number of Epoch = 9 - Average CCE:= 0.017441107177734377 - Average Accuracy:= 44.88166666666666%\n"
          ]
        },
        {
          "metadata": {
            "tags": null
          },
          "name": "stderr",
          "output_type": "stream",
          "text": [
            "\n",
            " 50%|█████     | 10/20 [00:26<00:26,  2.68s/it]\u001b[A"
          ]
        },
        {
          "metadata": {
            "tags": null
          },
          "name": "stdout",
          "output_type": "stream",
          "text": [
            "Number of Epoch = 10 - Average CCE:= 0.017337296549479166 - Average Accuracy:= 45.184999999999995%\n"
          ]
        },
        {
          "metadata": {
            "tags": null
          },
          "name": "stderr",
          "output_type": "stream",
          "text": [
            "\n",
            " 55%|█████▌    | 11/20 [00:29<00:24,  2.68s/it]\u001b[A"
          ]
        },
        {
          "metadata": {
            "tags": null
          },
          "name": "stdout",
          "output_type": "stream",
          "text": [
            "Number of Epoch = 11 - Average CCE:= 0.01725211181640625 - Average Accuracy:= 45.37%\n"
          ]
        },
        {
          "metadata": {
            "tags": null
          },
          "name": "stderr",
          "output_type": "stream",
          "text": [
            "\n",
            " 60%|██████    | 12/20 [00:31<00:21,  2.68s/it]\u001b[A"
          ]
        },
        {
          "metadata": {
            "tags": null
          },
          "name": "stdout",
          "output_type": "stream",
          "text": [
            "Number of Epoch = 12 - Average CCE:= 0.017215372721354167 - Average Accuracy:= 45.629999999999995%\n"
          ]
        },
        {
          "metadata": {
            "tags": null
          },
          "name": "stderr",
          "output_type": "stream",
          "text": [
            "\n",
            " 65%|██████▌   | 13/20 [00:34<00:18,  2.66s/it]\u001b[A"
          ]
        },
        {
          "metadata": {
            "tags": null
          },
          "name": "stdout",
          "output_type": "stream",
          "text": [
            "Number of Epoch = 13 - Average CCE:= 0.01726268513997396 - Average Accuracy:= 45.49166666666667%\n"
          ]
        },
        {
          "metadata": {
            "tags": null
          },
          "name": "stderr",
          "output_type": "stream",
          "text": [
            "\n",
            " 70%|███████   | 14/20 [00:37<00:15,  2.67s/it]\u001b[A"
          ]
        },
        {
          "metadata": {
            "tags": null
          },
          "name": "stdout",
          "output_type": "stream",
          "text": [
            "Number of Epoch = 14 - Average CCE:= 0.017171258544921877 - Average Accuracy:= 45.721666666666664%\n"
          ]
        },
        {
          "metadata": {
            "tags": null
          },
          "name": "stderr",
          "output_type": "stream",
          "text": [
            "\n",
            " 75%|███████▌  | 15/20 [00:39<00:13,  2.66s/it]\u001b[A"
          ]
        },
        {
          "metadata": {
            "tags": null
          },
          "name": "stdout",
          "output_type": "stream",
          "text": [
            "Number of Epoch = 15 - Average CCE:= 0.01709778035481771 - Average Accuracy:= 45.97333333333333%\n"
          ]
        },
        {
          "metadata": {
            "tags": null
          },
          "name": "stderr",
          "output_type": "stream",
          "text": [
            "\n",
            " 80%|████████  | 16/20 [00:42<00:10,  2.64s/it]\u001b[A"
          ]
        },
        {
          "metadata": {
            "tags": null
          },
          "name": "stdout",
          "output_type": "stream",
          "text": [
            "Number of Epoch = 16 - Average CCE:= 0.01709178466796875 - Average Accuracy:= 45.99333333333334%\n"
          ]
        },
        {
          "metadata": {
            "tags": null
          },
          "name": "stderr",
          "output_type": "stream",
          "text": [
            "\n",
            " 85%|████████▌ | 17/20 [00:45<00:07,  2.64s/it]\u001b[A"
          ]
        },
        {
          "metadata": {
            "tags": null
          },
          "name": "stdout",
          "output_type": "stream",
          "text": [
            "Number of Epoch = 17 - Average CCE:= 0.017087408447265626 - Average Accuracy:= 45.998333333333335%\n"
          ]
        },
        {
          "metadata": {
            "tags": null
          },
          "name": "stderr",
          "output_type": "stream",
          "text": [
            "\n",
            " 90%|█████████ | 18/20 [00:47<00:05,  2.64s/it]\u001b[A"
          ]
        },
        {
          "metadata": {
            "tags": null
          },
          "name": "stdout",
          "output_type": "stream",
          "text": [
            "Number of Epoch = 18 - Average CCE:= 0.017044069417317707 - Average Accuracy:= 46.07666666666667%\n"
          ]
        },
        {
          "metadata": {
            "tags": null
          },
          "name": "stderr",
          "output_type": "stream",
          "text": [
            "\n",
            " 95%|█████████▌| 19/20 [00:50<00:02,  2.65s/it]\u001b[A"
          ]
        },
        {
          "metadata": {
            "tags": null
          },
          "name": "stdout",
          "output_type": "stream",
          "text": [
            "Number of Epoch = 19 - Average CCE:= 0.016983209228515626 - Average Accuracy:= 46.33833333333333%\n"
          ]
        },
        {
          "metadata": {
            "tags": null
          },
          "name": "stderr",
          "output_type": "stream",
          "text": [
            "\n",
            "100%|██████████| 20/20 [00:52<00:00,  2.65s/it]"
          ]
        },
        {
          "metadata": {
            "tags": null
          },
          "name": "stdout",
          "output_type": "stream",
          "text": [
            "Number of Epoch = 20 - Average CCE:= 0.01695918172200521 - Average Accuracy:= 46.379999999999995%\n",
            "\n",
            "Total time taken (in seconds): 52.99\n"
          ]
        },
        {
          "metadata": {
            "tags": null
          },
          "name": "stderr",
          "output_type": "stream",
          "text": [
            "\n",
            " 50%|█████     | 5/10 [04:29<04:29, 53.85s/it]"
          ]
        },
        {
          "metadata": {
            "tags": null
          },
          "name": "stdout",
          "output_type": "stream",
          "text": [
            "Test CCE: 0.0864, Accuracy : 0.4625\n",
            "seed: 4747, Cross Entropy loss: 0.08642153930664062, Accuracy: 0.4625\n",
            "\n",
            "** Inference Iteration: 5 **\n",
            "\n",
            "#Training default model with seed 4106#\n"
          ]
        },
        {
          "metadata": {
            "tags": null
          },
          "name": "stderr",
          "output_type": "stream",
          "text": [
            "\n",
            "  0%|          | 0/20 [00:00<?, ?it/s]\u001b[A\n",
            "  5%|▌         | 1/20 [00:02<00:50,  2.64s/it]\u001b[A"
          ]
        },
        {
          "metadata": {
            "tags": null
          },
          "name": "stdout",
          "output_type": "stream",
          "text": [
            "Number of Epoch = 1 - Average CCE:= 0.02605791219075521 - Average Accuracy:= 17.62333333333333%\n"
          ]
        },
        {
          "metadata": {
            "tags": null
          },
          "name": "stderr",
          "output_type": "stream",
          "text": [
            "\n",
            " 10%|█         | 2/20 [00:05<00:47,  2.65s/it]\u001b[A"
          ]
        },
        {
          "metadata": {
            "tags": null
          },
          "name": "stdout",
          "output_type": "stream",
          "text": [
            "Number of Epoch = 2 - Average CCE:= 0.02325450236002604 - Average Accuracy:= 26.451666666666668%\n"
          ]
        },
        {
          "metadata": {
            "tags": null
          },
          "name": "stderr",
          "output_type": "stream",
          "text": [
            "\n",
            " 15%|█▌        | 3/20 [00:07<00:44,  2.65s/it]\u001b[A"
          ]
        },
        {
          "metadata": {
            "tags": null
          },
          "name": "stdout",
          "output_type": "stream",
          "text": [
            "Number of Epoch = 3 - Average CCE:= 0.020475429280598957 - Average Accuracy:= 35.260000000000005%\n"
          ]
        },
        {
          "metadata": {
            "tags": null
          },
          "name": "stderr",
          "output_type": "stream",
          "text": [
            "\n",
            " 20%|██        | 4/20 [00:10<00:42,  2.66s/it]\u001b[A"
          ]
        },
        {
          "metadata": {
            "tags": null
          },
          "name": "stdout",
          "output_type": "stream",
          "text": [
            "Number of Epoch = 4 - Average CCE:= 0.02000513916015625 - Average Accuracy:= 36.75666666666667%\n"
          ]
        },
        {
          "metadata": {
            "tags": null
          },
          "name": "stderr",
          "output_type": "stream",
          "text": [
            "\n",
            " 25%|██▌       | 5/20 [00:13<00:39,  2.67s/it]\u001b[A"
          ]
        },
        {
          "metadata": {
            "tags": null
          },
          "name": "stdout",
          "output_type": "stream",
          "text": [
            "Number of Epoch = 5 - Average CCE:= 0.01989879150390625 - Average Accuracy:= 37.18%\n"
          ]
        },
        {
          "metadata": {
            "tags": null
          },
          "name": "stderr",
          "output_type": "stream",
          "text": [
            "\n",
            " 30%|███       | 6/20 [00:15<00:37,  2.65s/it]\u001b[A"
          ]
        },
        {
          "metadata": {
            "tags": null
          },
          "name": "stdout",
          "output_type": "stream",
          "text": [
            "Number of Epoch = 6 - Average CCE:= 0.019815543619791667 - Average Accuracy:= 37.415%\n"
          ]
        },
        {
          "metadata": {
            "tags": null
          },
          "name": "stderr",
          "output_type": "stream",
          "text": [
            "\n",
            " 35%|███▌      | 7/20 [00:18<00:34,  2.66s/it]\u001b[A"
          ]
        },
        {
          "metadata": {
            "tags": null
          },
          "name": "stdout",
          "output_type": "stream",
          "text": [
            "Number of Epoch = 7 - Average CCE:= 0.019779437255859376 - Average Accuracy:= 37.52666666666667%\n"
          ]
        },
        {
          "metadata": {
            "tags": null
          },
          "name": "stderr",
          "output_type": "stream",
          "text": [
            "\n",
            " 40%|████      | 8/20 [00:21<00:32,  2.69s/it]\u001b[A"
          ]
        },
        {
          "metadata": {
            "tags": null
          },
          "name": "stdout",
          "output_type": "stream",
          "text": [
            "Number of Epoch = 8 - Average CCE:= 0.019745491536458333 - Average Accuracy:= 37.64333333333333%\n"
          ]
        },
        {
          "metadata": {
            "tags": null
          },
          "name": "stderr",
          "output_type": "stream",
          "text": [
            "\n",
            " 45%|████▌     | 9/20 [00:24<00:29,  2.68s/it]\u001b[A"
          ]
        },
        {
          "metadata": {
            "tags": null
          },
          "name": "stdout",
          "output_type": "stream",
          "text": [
            "Number of Epoch = 9 - Average CCE:= 0.019717508951822917 - Average Accuracy:= 37.78%\n"
          ]
        },
        {
          "metadata": {
            "tags": null
          },
          "name": "stderr",
          "output_type": "stream",
          "text": [
            "\n",
            " 50%|█████     | 10/20 [00:26<00:26,  2.68s/it]\u001b[A"
          ]
        },
        {
          "metadata": {
            "tags": null
          },
          "name": "stdout",
          "output_type": "stream",
          "text": [
            "Number of Epoch = 10 - Average CCE:= 0.019648746744791667 - Average Accuracy:= 37.97666666666667%\n"
          ]
        },
        {
          "metadata": {
            "tags": null
          },
          "name": "stderr",
          "output_type": "stream",
          "text": [
            "\n",
            " 55%|█████▌    | 11/20 [00:29<00:24,  2.67s/it]\u001b[A"
          ]
        },
        {
          "metadata": {
            "tags": null
          },
          "name": "stdout",
          "output_type": "stream",
          "text": [
            "Number of Epoch = 11 - Average CCE:= 0.019655487060546876 - Average Accuracy:= 37.943333333333335%\n"
          ]
        },
        {
          "metadata": {
            "tags": null
          },
          "name": "stderr",
          "output_type": "stream",
          "text": [
            "\n",
            " 60%|██████    | 12/20 [00:31<00:21,  2.66s/it]\u001b[A"
          ]
        },
        {
          "metadata": {
            "tags": null
          },
          "name": "stdout",
          "output_type": "stream",
          "text": [
            "Number of Epoch = 12 - Average CCE:= 0.019619755045572916 - Average Accuracy:= 38.05833333333333%\n"
          ]
        },
        {
          "metadata": {
            "tags": null
          },
          "name": "stderr",
          "output_type": "stream",
          "text": [
            "\n",
            " 65%|██████▌   | 13/20 [00:34<00:18,  2.65s/it]\u001b[A"
          ]
        },
        {
          "metadata": {
            "tags": null
          },
          "name": "stdout",
          "output_type": "stream",
          "text": [
            "Number of Epoch = 13 - Average CCE:= 0.01960706583658854 - Average Accuracy:= 38.08166666666667%\n"
          ]
        },
        {
          "metadata": {
            "tags": null
          },
          "name": "stderr",
          "output_type": "stream",
          "text": [
            "\n",
            " 70%|███████   | 14/20 [00:37<00:15,  2.67s/it]\u001b[A"
          ]
        },
        {
          "metadata": {
            "tags": null
          },
          "name": "stdout",
          "output_type": "stream",
          "text": [
            "Number of Epoch = 14 - Average CCE:= 0.019639430745442707 - Average Accuracy:= 37.98166666666667%\n"
          ]
        },
        {
          "metadata": {
            "tags": null
          },
          "name": "stderr",
          "output_type": "stream",
          "text": [
            "\n",
            " 75%|███████▌  | 15/20 [00:40<00:13,  2.72s/it]\u001b[A"
          ]
        },
        {
          "metadata": {
            "tags": null
          },
          "name": "stdout",
          "output_type": "stream",
          "text": [
            "Number of Epoch = 15 - Average CCE:= 0.01964643351236979 - Average Accuracy:= 37.99%\n"
          ]
        },
        {
          "metadata": {
            "tags": null
          },
          "name": "stderr",
          "output_type": "stream",
          "text": [
            "\n",
            " 80%|████████  | 16/20 [00:42<00:10,  2.70s/it]\u001b[A"
          ]
        },
        {
          "metadata": {
            "tags": null
          },
          "name": "stdout",
          "output_type": "stream",
          "text": [
            "Number of Epoch = 16 - Average CCE:= 0.019644942220052083 - Average Accuracy:= 38.035000000000004%\n"
          ]
        },
        {
          "metadata": {
            "tags": null
          },
          "name": "stderr",
          "output_type": "stream",
          "text": [
            "\n",
            " 85%|████████▌ | 17/20 [00:45<00:08,  2.68s/it]\u001b[A"
          ]
        },
        {
          "metadata": {
            "tags": null
          },
          "name": "stdout",
          "output_type": "stream",
          "text": [
            "Number of Epoch = 17 - Average CCE:= 0.019567510986328127 - Average Accuracy:= 38.205%\n"
          ]
        },
        {
          "metadata": {
            "tags": null
          },
          "name": "stderr",
          "output_type": "stream",
          "text": [
            "\n",
            " 90%|█████████ | 18/20 [00:48<00:05,  2.68s/it]\u001b[A"
          ]
        },
        {
          "metadata": {
            "tags": null
          },
          "name": "stdout",
          "output_type": "stream",
          "text": [
            "Number of Epoch = 18 - Average CCE:= 0.019598480224609374 - Average Accuracy:= 38.129999999999995%\n"
          ]
        },
        {
          "metadata": {
            "tags": null
          },
          "name": "stderr",
          "output_type": "stream",
          "text": [
            "\n",
            " 95%|█████████▌| 19/20 [00:50<00:02,  2.66s/it]\u001b[A"
          ]
        },
        {
          "metadata": {
            "tags": null
          },
          "name": "stdout",
          "output_type": "stream",
          "text": [
            "Number of Epoch = 19 - Average CCE:= 0.019582484944661457 - Average Accuracy:= 38.22%\n"
          ]
        },
        {
          "metadata": {
            "tags": null
          },
          "name": "stderr",
          "output_type": "stream",
          "text": [
            "\n",
            "100%|██████████| 20/20 [00:53<00:00,  2.67s/it]"
          ]
        },
        {
          "metadata": {
            "tags": null
          },
          "name": "stdout",
          "output_type": "stream",
          "text": [
            "Number of Epoch = 20 - Average CCE:= 0.019526521809895832 - Average Accuracy:= 38.29833333333333%\n",
            "\n",
            "Total time taken (in seconds): 53.37\n"
          ]
        },
        {
          "metadata": {
            "tags": null
          },
          "name": "stderr",
          "output_type": "stream",
          "text": [
            "\n",
            " 60%|██████    | 6/10 [05:23<03:35, 53.86s/it]"
          ]
        },
        {
          "metadata": {
            "tags": null
          },
          "name": "stdout",
          "output_type": "stream",
          "text": [
            "Test CCE: 0.0996, Accuracy : 0.3818\n",
            "seed: 4106, Cross Entropy loss: 0.09960307006835938, Accuracy: 0.3818\n",
            "\n",
            "** Inference Iteration: 6 **\n",
            "\n",
            "#Training default model with seed 4079#\n"
          ]
        },
        {
          "metadata": {
            "tags": null
          },
          "name": "stderr",
          "output_type": "stream",
          "text": [
            "\n",
            "  0%|          | 0/20 [00:00<?, ?it/s]\u001b[A\n",
            "  5%|▌         | 1/20 [00:02<00:50,  2.64s/it]\u001b[A"
          ]
        },
        {
          "metadata": {
            "tags": null
          },
          "name": "stdout",
          "output_type": "stream",
          "text": [
            "Number of Epoch = 1 - Average CCE:= 0.022580733235677084 - Average Accuracy:= 28.366666666666667%\n"
          ]
        },
        {
          "metadata": {
            "tags": null
          },
          "name": "stderr",
          "output_type": "stream",
          "text": [
            "\n",
            " 10%|█         | 2/20 [00:05<00:47,  2.65s/it]\u001b[A"
          ]
        },
        {
          "metadata": {
            "tags": null
          },
          "name": "stdout",
          "output_type": "stream",
          "text": [
            "Number of Epoch = 2 - Average CCE:= 0.020781038411458334 - Average Accuracy:= 34.26166666666667%\n"
          ]
        },
        {
          "metadata": {
            "tags": null
          },
          "name": "stderr",
          "output_type": "stream",
          "text": [
            "\n",
            " 15%|█▌        | 3/20 [00:07<00:44,  2.62s/it]\u001b[A"
          ]
        },
        {
          "metadata": {
            "tags": null
          },
          "name": "stdout",
          "output_type": "stream",
          "text": [
            "Number of Epoch = 3 - Average CCE:= 0.018464544677734375 - Average Accuracy:= 41.53666666666667%\n"
          ]
        },
        {
          "metadata": {
            "tags": null
          },
          "name": "stderr",
          "output_type": "stream",
          "text": [
            "\n",
            " 20%|██        | 4/20 [00:10<00:42,  2.65s/it]\u001b[A"
          ]
        },
        {
          "metadata": {
            "tags": null
          },
          "name": "stdout",
          "output_type": "stream",
          "text": [
            "Number of Epoch = 4 - Average CCE:= 0.01752227986653646 - Average Accuracy:= 44.50833333333333%\n"
          ]
        },
        {
          "metadata": {
            "tags": null
          },
          "name": "stderr",
          "output_type": "stream",
          "text": [
            "\n",
            " 25%|██▌       | 5/20 [00:13<00:39,  2.65s/it]\u001b[A"
          ]
        },
        {
          "metadata": {
            "tags": null
          },
          "name": "stdout",
          "output_type": "stream",
          "text": [
            "Number of Epoch = 5 - Average CCE:= 0.017350590006510416 - Average Accuracy:= 45.055%\n"
          ]
        },
        {
          "metadata": {
            "tags": null
          },
          "name": "stderr",
          "output_type": "stream",
          "text": [
            "\n",
            " 30%|███       | 6/20 [00:15<00:37,  2.65s/it]\u001b[A"
          ]
        },
        {
          "metadata": {
            "tags": null
          },
          "name": "stdout",
          "output_type": "stream",
          "text": [
            "Number of Epoch = 6 - Average CCE:= 0.017184771728515624 - Average Accuracy:= 45.663333333333334%\n"
          ]
        },
        {
          "metadata": {
            "tags": null
          },
          "name": "stderr",
          "output_type": "stream",
          "text": [
            "\n",
            " 35%|███▌      | 7/20 [00:18<00:34,  2.68s/it]\u001b[A"
          ]
        },
        {
          "metadata": {
            "tags": null
          },
          "name": "stdout",
          "output_type": "stream",
          "text": [
            "Number of Epoch = 7 - Average CCE:= 0.017087563069661457 - Average Accuracy:= 45.94833333333334%\n"
          ]
        },
        {
          "metadata": {
            "tags": null
          },
          "name": "stderr",
          "output_type": "stream",
          "text": [
            "\n",
            " 40%|████      | 8/20 [00:21<00:31,  2.66s/it]\u001b[A"
          ]
        },
        {
          "metadata": {
            "tags": null
          },
          "name": "stdout",
          "output_type": "stream",
          "text": [
            "Number of Epoch = 8 - Average CCE:= 0.016962947591145833 - Average Accuracy:= 46.300000000000004%\n"
          ]
        },
        {
          "metadata": {
            "tags": null
          },
          "name": "stderr",
          "output_type": "stream",
          "text": [
            "\n",
            " 45%|████▌     | 9/20 [00:23<00:29,  2.65s/it]\u001b[A"
          ]
        },
        {
          "metadata": {
            "tags": null
          },
          "name": "stdout",
          "output_type": "stream",
          "text": [
            "Number of Epoch = 9 - Average CCE:= 0.015673518880208334 - Average Accuracy:= 50.305%\n"
          ]
        },
        {
          "metadata": {
            "tags": null
          },
          "name": "stderr",
          "output_type": "stream",
          "text": [
            "\n",
            " 50%|█████     | 10/20 [00:26<00:26,  2.65s/it]\u001b[A"
          ]
        },
        {
          "metadata": {
            "tags": null
          },
          "name": "stdout",
          "output_type": "stream",
          "text": [
            "Number of Epoch = 10 - Average CCE:= 0.01524581298828125 - Average Accuracy:= 51.64666666666666%\n"
          ]
        },
        {
          "metadata": {
            "tags": null
          },
          "name": "stderr",
          "output_type": "stream",
          "text": [
            "\n",
            " 55%|█████▌    | 11/20 [00:29<00:23,  2.65s/it]\u001b[A"
          ]
        },
        {
          "metadata": {
            "tags": null
          },
          "name": "stdout",
          "output_type": "stream",
          "text": [
            "Number of Epoch = 11 - Average CCE:= 0.01515699462890625 - Average Accuracy:= 52.00333333333334%\n"
          ]
        },
        {
          "metadata": {
            "tags": null
          },
          "name": "stderr",
          "output_type": "stream",
          "text": [
            "\n",
            " 60%|██████    | 12/20 [00:31<00:21,  2.66s/it]\u001b[A"
          ]
        },
        {
          "metadata": {
            "tags": null
          },
          "name": "stdout",
          "output_type": "stream",
          "text": [
            "Number of Epoch = 12 - Average CCE:= 0.015133585611979167 - Average Accuracy:= 52.108333333333334%\n"
          ]
        },
        {
          "metadata": {
            "tags": null
          },
          "name": "stderr",
          "output_type": "stream",
          "text": [
            "\n",
            " 65%|██████▌   | 13/20 [00:34<00:18,  2.64s/it]\u001b[A"
          ]
        },
        {
          "metadata": {
            "tags": null
          },
          "name": "stdout",
          "output_type": "stream",
          "text": [
            "Number of Epoch = 13 - Average CCE:= 0.01506563212076823 - Average Accuracy:= 52.300000000000004%\n"
          ]
        },
        {
          "metadata": {
            "tags": null
          },
          "name": "stderr",
          "output_type": "stream",
          "text": [
            "\n",
            " 70%|███████   | 14/20 [00:37<00:15,  2.62s/it]\u001b[A"
          ]
        },
        {
          "metadata": {
            "tags": null
          },
          "name": "stdout",
          "output_type": "stream",
          "text": [
            "Number of Epoch = 14 - Average CCE:= 0.014958922322591146 - Average Accuracy:= 52.625%\n"
          ]
        },
        {
          "metadata": {
            "tags": null
          },
          "name": "stderr",
          "output_type": "stream",
          "text": [
            "\n",
            " 75%|███████▌  | 15/20 [00:39<00:13,  2.64s/it]\u001b[A"
          ]
        },
        {
          "metadata": {
            "tags": null
          },
          "name": "stdout",
          "output_type": "stream",
          "text": [
            "Number of Epoch = 15 - Average CCE:= 0.01491202392578125 - Average Accuracy:= 52.795%\n"
          ]
        },
        {
          "metadata": {
            "tags": null
          },
          "name": "stderr",
          "output_type": "stream",
          "text": [
            "\n",
            " 80%|████████  | 16/20 [00:42<00:10,  2.66s/it]\u001b[A"
          ]
        },
        {
          "metadata": {
            "tags": null
          },
          "name": "stdout",
          "output_type": "stream",
          "text": [
            "Number of Epoch = 16 - Average CCE:= 0.01485692850748698 - Average Accuracy:= 52.99166666666667%\n"
          ]
        },
        {
          "metadata": {
            "tags": null
          },
          "name": "stderr",
          "output_type": "stream",
          "text": [
            "\n",
            " 85%|████████▌ | 17/20 [00:45<00:07,  2.67s/it]\u001b[A"
          ]
        },
        {
          "metadata": {
            "tags": null
          },
          "name": "stdout",
          "output_type": "stream",
          "text": [
            "Number of Epoch = 17 - Average CCE:= 0.014833481852213542 - Average Accuracy:= 53.025%\n"
          ]
        },
        {
          "metadata": {
            "tags": null
          },
          "name": "stderr",
          "output_type": "stream",
          "text": [
            "\n",
            " 90%|█████████ | 18/20 [00:47<00:05,  2.67s/it]\u001b[A"
          ]
        },
        {
          "metadata": {
            "tags": null
          },
          "name": "stdout",
          "output_type": "stream",
          "text": [
            "Number of Epoch = 18 - Average CCE:= 0.014838429768880208 - Average Accuracy:= 53.04%\n"
          ]
        },
        {
          "metadata": {
            "tags": null
          },
          "name": "stderr",
          "output_type": "stream",
          "text": [
            "\n",
            " 95%|█████████▌| 19/20 [00:50<00:02,  2.68s/it]\u001b[A"
          ]
        },
        {
          "metadata": {
            "tags": null
          },
          "name": "stdout",
          "output_type": "stream",
          "text": [
            "Number of Epoch = 19 - Average CCE:= 0.014816666666666667 - Average Accuracy:= 53.14%\n"
          ]
        },
        {
          "metadata": {
            "tags": null
          },
          "name": "stderr",
          "output_type": "stream",
          "text": [
            "\n",
            "100%|██████████| 20/20 [00:53<00:00,  2.66s/it]"
          ]
        },
        {
          "metadata": {
            "tags": null
          },
          "name": "stdout",
          "output_type": "stream",
          "text": [
            "Number of Epoch = 20 - Average CCE:= 0.01485717569986979 - Average Accuracy:= 52.95333333333333%\n",
            "\n",
            "Total time taken (in seconds): 53.17\n"
          ]
        },
        {
          "metadata": {
            "tags": null
          },
          "name": "stderr",
          "output_type": "stream",
          "text": [
            "\n",
            " 70%|███████   | 7/10 [06:17<02:41, 53.81s/it]"
          ]
        },
        {
          "metadata": {
            "tags": null
          },
          "name": "stdout",
          "output_type": "stream",
          "text": [
            "Test CCE: 0.0754, Accuracy : 0.5296\n",
            "seed: 4079, Cross Entropy loss: 0.07544818725585938, Accuracy: 0.5296\n",
            "\n",
            "** Inference Iteration: 7 **\n",
            "\n",
            "#Training default model with seed 4285#\n"
          ]
        },
        {
          "metadata": {
            "tags": null
          },
          "name": "stderr",
          "output_type": "stream",
          "text": [
            "\n",
            "  0%|          | 0/20 [00:00<?, ?it/s]\u001b[A\n",
            "  5%|▌         | 1/20 [00:02<00:50,  2.66s/it]\u001b[A"
          ]
        },
        {
          "metadata": {
            "tags": null
          },
          "name": "stdout",
          "output_type": "stream",
          "text": [
            "Number of Epoch = 1 - Average CCE:= 0.02511528116861979 - Average Accuracy:= 20.603333333333335%\n"
          ]
        },
        {
          "metadata": {
            "tags": null
          },
          "name": "stderr",
          "output_type": "stream",
          "text": [
            "\n",
            " 10%|█         | 2/20 [00:05<00:47,  2.65s/it]\u001b[A"
          ]
        },
        {
          "metadata": {
            "tags": null
          },
          "name": "stdout",
          "output_type": "stream",
          "text": [
            "Number of Epoch = 2 - Average CCE:= 0.02315734659830729 - Average Accuracy:= 26.69166666666667%\n"
          ]
        },
        {
          "metadata": {
            "tags": null
          },
          "name": "stderr",
          "output_type": "stream",
          "text": [
            "\n",
            " 15%|█▌        | 3/20 [00:08<00:45,  2.68s/it]\u001b[A"
          ]
        },
        {
          "metadata": {
            "tags": null
          },
          "name": "stdout",
          "output_type": "stream",
          "text": [
            "Number of Epoch = 3 - Average CCE:= 0.022090122477213543 - Average Accuracy:= 30.18166666666667%\n"
          ]
        },
        {
          "metadata": {
            "tags": null
          },
          "name": "stderr",
          "output_type": "stream",
          "text": [
            "\n",
            " 20%|██        | 4/20 [00:10<00:42,  2.65s/it]\u001b[A"
          ]
        },
        {
          "metadata": {
            "tags": null
          },
          "name": "stdout",
          "output_type": "stream",
          "text": [
            "Number of Epoch = 4 - Average CCE:= 0.02160371297200521 - Average Accuracy:= 31.68166666666667%\n"
          ]
        },
        {
          "metadata": {
            "tags": null
          },
          "name": "stderr",
          "output_type": "stream",
          "text": [
            "\n",
            " 25%|██▌       | 5/20 [00:13<00:39,  2.64s/it]\u001b[A"
          ]
        },
        {
          "metadata": {
            "tags": null
          },
          "name": "stdout",
          "output_type": "stream",
          "text": [
            "Number of Epoch = 5 - Average CCE:= 0.02127116902669271 - Average Accuracy:= 32.70333333333333%\n"
          ]
        },
        {
          "metadata": {
            "tags": null
          },
          "name": "stderr",
          "output_type": "stream",
          "text": [
            "\n",
            " 30%|███       | 6/20 [00:15<00:37,  2.65s/it]\u001b[A"
          ]
        },
        {
          "metadata": {
            "tags": null
          },
          "name": "stdout",
          "output_type": "stream",
          "text": [
            "Number of Epoch = 6 - Average CCE:= 0.02114580891927083 - Average Accuracy:= 33.125%\n"
          ]
        },
        {
          "metadata": {
            "tags": null
          },
          "name": "stderr",
          "output_type": "stream",
          "text": [
            "\n",
            " 35%|███▌      | 7/20 [00:18<00:34,  2.65s/it]\u001b[A"
          ]
        },
        {
          "metadata": {
            "tags": null
          },
          "name": "stdout",
          "output_type": "stream",
          "text": [
            "Number of Epoch = 7 - Average CCE:= 0.021089937337239583 - Average Accuracy:= 33.36833333333333%\n"
          ]
        },
        {
          "metadata": {
            "tags": null
          },
          "name": "stderr",
          "output_type": "stream",
          "text": [
            "\n",
            " 40%|████      | 8/20 [00:21<00:31,  2.64s/it]\u001b[A"
          ]
        },
        {
          "metadata": {
            "tags": null
          },
          "name": "stdout",
          "output_type": "stream",
          "text": [
            "Number of Epoch = 8 - Average CCE:= 0.021021653238932292 - Average Accuracy:= 33.513333333333335%\n"
          ]
        },
        {
          "metadata": {
            "tags": null
          },
          "name": "stderr",
          "output_type": "stream",
          "text": [
            "\n",
            " 45%|████▌     | 9/20 [00:23<00:28,  2.63s/it]\u001b[A"
          ]
        },
        {
          "metadata": {
            "tags": null
          },
          "name": "stdout",
          "output_type": "stream",
          "text": [
            "Number of Epoch = 9 - Average CCE:= 0.020922395833333333 - Average Accuracy:= 33.879999999999995%\n"
          ]
        },
        {
          "metadata": {
            "tags": null
          },
          "name": "stderr",
          "output_type": "stream",
          "text": [
            "\n",
            " 50%|█████     | 10/20 [00:26<00:26,  2.63s/it]\u001b[A"
          ]
        },
        {
          "metadata": {
            "tags": null
          },
          "name": "stdout",
          "output_type": "stream",
          "text": [
            "Number of Epoch = 10 - Average CCE:= 0.02094102783203125 - Average Accuracy:= 33.82333333333333%\n"
          ]
        },
        {
          "metadata": {
            "tags": null
          },
          "name": "stderr",
          "output_type": "stream",
          "text": [
            "\n",
            " 55%|█████▌    | 11/20 [00:29<00:23,  2.63s/it]\u001b[A"
          ]
        },
        {
          "metadata": {
            "tags": null
          },
          "name": "stdout",
          "output_type": "stream",
          "text": [
            "Number of Epoch = 11 - Average CCE:= 0.02080554402669271 - Average Accuracy:= 34.27333333333333%\n"
          ]
        },
        {
          "metadata": {
            "tags": null
          },
          "name": "stderr",
          "output_type": "stream",
          "text": [
            "\n",
            " 60%|██████    | 12/20 [00:31<00:21,  2.65s/it]\u001b[A"
          ]
        },
        {
          "metadata": {
            "tags": null
          },
          "name": "stdout",
          "output_type": "stream",
          "text": [
            "Number of Epoch = 12 - Average CCE:= 0.020780513509114584 - Average Accuracy:= 34.288333333333334%\n"
          ]
        },
        {
          "metadata": {
            "tags": null
          },
          "name": "stderr",
          "output_type": "stream",
          "text": [
            "\n",
            " 65%|██████▌   | 13/20 [00:34<00:18,  2.66s/it]\u001b[A"
          ]
        },
        {
          "metadata": {
            "tags": null
          },
          "name": "stdout",
          "output_type": "stream",
          "text": [
            "Number of Epoch = 13 - Average CCE:= 0.020836692301432293 - Average Accuracy:= 34.18833333333333%\n"
          ]
        },
        {
          "metadata": {
            "tags": null
          },
          "name": "stderr",
          "output_type": "stream",
          "text": [
            "\n",
            " 70%|███████   | 14/20 [00:37<00:15,  2.67s/it]\u001b[A"
          ]
        },
        {
          "metadata": {
            "tags": null
          },
          "name": "stdout",
          "output_type": "stream",
          "text": [
            "Number of Epoch = 14 - Average CCE:= 0.02078763224283854 - Average Accuracy:= 34.355000000000004%\n"
          ]
        },
        {
          "metadata": {
            "tags": null
          },
          "name": "stderr",
          "output_type": "stream",
          "text": [
            "\n",
            " 75%|███████▌  | 15/20 [00:39<00:13,  2.67s/it]\u001b[A"
          ]
        },
        {
          "metadata": {
            "tags": null
          },
          "name": "stdout",
          "output_type": "stream",
          "text": [
            "Number of Epoch = 15 - Average CCE:= 0.020675297037760415 - Average Accuracy:= 34.718333333333334%\n"
          ]
        },
        {
          "metadata": {
            "tags": null
          },
          "name": "stderr",
          "output_type": "stream",
          "text": [
            "\n",
            " 80%|████████  | 16/20 [00:42<00:10,  2.72s/it]\u001b[A"
          ]
        },
        {
          "metadata": {
            "tags": null
          },
          "name": "stdout",
          "output_type": "stream",
          "text": [
            "Number of Epoch = 16 - Average CCE:= 0.020703741455078126 - Average Accuracy:= 34.64%\n"
          ]
        },
        {
          "metadata": {
            "tags": null
          },
          "name": "stderr",
          "output_type": "stream",
          "text": [
            "\n",
            " 85%|████████▌ | 17/20 [00:45<00:08,  2.71s/it]\u001b[A"
          ]
        },
        {
          "metadata": {
            "tags": null
          },
          "name": "stdout",
          "output_type": "stream",
          "text": [
            "Number of Epoch = 17 - Average CCE:= 0.02061739705403646 - Average Accuracy:= 34.825%\n"
          ]
        },
        {
          "metadata": {
            "tags": null
          },
          "name": "stderr",
          "output_type": "stream",
          "text": [
            "\n",
            " 90%|█████████ | 18/20 [00:47<00:05,  2.69s/it]\u001b[A"
          ]
        },
        {
          "metadata": {
            "tags": null
          },
          "name": "stdout",
          "output_type": "stream",
          "text": [
            "Number of Epoch = 18 - Average CCE:= 0.0206431640625 - Average Accuracy:= 34.765%\n"
          ]
        },
        {
          "metadata": {
            "tags": null
          },
          "name": "stderr",
          "output_type": "stream",
          "text": [
            "\n",
            " 95%|█████████▌| 19/20 [00:50<00:02,  2.68s/it]\u001b[A"
          ]
        },
        {
          "metadata": {
            "tags": null
          },
          "name": "stdout",
          "output_type": "stream",
          "text": [
            "Number of Epoch = 19 - Average CCE:= 0.020610489908854168 - Average Accuracy:= 34.9%\n"
          ]
        },
        {
          "metadata": {
            "tags": null
          },
          "name": "stderr",
          "output_type": "stream",
          "text": [
            "\n",
            "100%|██████████| 20/20 [00:53<00:00,  2.66s/it]"
          ]
        },
        {
          "metadata": {
            "tags": null
          },
          "name": "stdout",
          "output_type": "stream",
          "text": [
            "Number of Epoch = 20 - Average CCE:= 0.020618353271484376 - Average Accuracy:= 34.92%\n",
            "\n",
            "Total time taken (in seconds): 53.30\n"
          ]
        },
        {
          "metadata": {
            "tags": null
          },
          "name": "stderr",
          "output_type": "stream",
          "text": [
            "\n",
            " 80%|████████  | 8/10 [07:11<01:47, 53.81s/it]"
          ]
        },
        {
          "metadata": {
            "tags": null
          },
          "name": "stdout",
          "output_type": "stream",
          "text": [
            "Test CCE: 0.1049, Accuracy : 0.3482\n",
            "seed: 4285, Cross Entropy loss: 0.104943408203125, Accuracy: 0.3482\n",
            "\n",
            "** Inference Iteration: 8 **\n",
            "\n",
            "#Training default model with seed 4648#\n"
          ]
        },
        {
          "metadata": {
            "tags": null
          },
          "name": "stderr",
          "output_type": "stream",
          "text": [
            "\n",
            "  0%|          | 0/20 [00:00<?, ?it/s]\u001b[A\n",
            "  5%|▌         | 1/20 [00:02<00:49,  2.61s/it]\u001b[A"
          ]
        },
        {
          "metadata": {
            "tags": null
          },
          "name": "stdout",
          "output_type": "stream",
          "text": [
            "Number of Epoch = 1 - Average CCE:= 0.026278466796875 - Average Accuracy:= 17.011666666666667%\n"
          ]
        },
        {
          "metadata": {
            "tags": null
          },
          "name": "stderr",
          "output_type": "stream",
          "text": [
            "\n",
            " 10%|█         | 2/20 [00:05<00:47,  2.64s/it]\u001b[A"
          ]
        },
        {
          "metadata": {
            "tags": null
          },
          "name": "stdout",
          "output_type": "stream",
          "text": [
            "Number of Epoch = 2 - Average CCE:= 0.025603023274739584 - Average Accuracy:= 19.2%\n"
          ]
        },
        {
          "metadata": {
            "tags": null
          },
          "name": "stderr",
          "output_type": "stream",
          "text": [
            "\n",
            " 15%|█▌        | 3/20 [00:07<00:44,  2.65s/it]\u001b[A"
          ]
        },
        {
          "metadata": {
            "tags": null
          },
          "name": "stdout",
          "output_type": "stream",
          "text": [
            "Number of Epoch = 3 - Average CCE:= 0.02542512003580729 - Average Accuracy:= 19.708333333333332%\n"
          ]
        },
        {
          "metadata": {
            "tags": null
          },
          "name": "stderr",
          "output_type": "stream",
          "text": [
            "\n",
            " 20%|██        | 4/20 [00:10<00:43,  2.71s/it]\u001b[A"
          ]
        },
        {
          "metadata": {
            "tags": null
          },
          "name": "stdout",
          "output_type": "stream",
          "text": [
            "Number of Epoch = 4 - Average CCE:= 0.025200577799479165 - Average Accuracy:= 20.348333333333333%\n"
          ]
        },
        {
          "metadata": {
            "tags": null
          },
          "name": "stderr",
          "output_type": "stream",
          "text": [
            "\n",
            " 25%|██▌       | 5/20 [00:13<00:40,  2.72s/it]\u001b[A"
          ]
        },
        {
          "metadata": {
            "tags": null
          },
          "name": "stdout",
          "output_type": "stream",
          "text": [
            "Number of Epoch = 5 - Average CCE:= 0.02464393717447917 - Average Accuracy:= 22.138333333333332%\n"
          ]
        },
        {
          "metadata": {
            "tags": null
          },
          "name": "stderr",
          "output_type": "stream",
          "text": [
            "\n",
            " 30%|███       | 6/20 [00:16<00:37,  2.69s/it]\u001b[A"
          ]
        },
        {
          "metadata": {
            "tags": null
          },
          "name": "stdout",
          "output_type": "stream",
          "text": [
            "Number of Epoch = 6 - Average CCE:= 0.022618121337890627 - Average Accuracy:= 28.438333333333333%\n"
          ]
        },
        {
          "metadata": {
            "tags": null
          },
          "name": "stderr",
          "output_type": "stream",
          "text": [
            "\n",
            " 35%|███▌      | 7/20 [00:18<00:34,  2.66s/it]\u001b[A"
          ]
        },
        {
          "metadata": {
            "tags": null
          },
          "name": "stdout",
          "output_type": "stream",
          "text": [
            "Number of Epoch = 7 - Average CCE:= 0.021821573893229168 - Average Accuracy:= 30.89666666666667%\n"
          ]
        },
        {
          "metadata": {
            "tags": null
          },
          "name": "stderr",
          "output_type": "stream",
          "text": [
            "\n",
            " 40%|████      | 8/20 [00:21<00:31,  2.65s/it]\u001b[A"
          ]
        },
        {
          "metadata": {
            "tags": null
          },
          "name": "stdout",
          "output_type": "stream",
          "text": [
            "Number of Epoch = 8 - Average CCE:= 0.021606229654947916 - Average Accuracy:= 31.655%\n"
          ]
        },
        {
          "metadata": {
            "tags": null
          },
          "name": "stderr",
          "output_type": "stream",
          "text": [
            "\n",
            " 45%|████▌     | 9/20 [00:23<00:29,  2.64s/it]\u001b[A"
          ]
        },
        {
          "metadata": {
            "tags": null
          },
          "name": "stdout",
          "output_type": "stream",
          "text": [
            "Number of Epoch = 9 - Average CCE:= 0.021557071940104165 - Average Accuracy:= 31.881666666666668%\n"
          ]
        },
        {
          "metadata": {
            "tags": null
          },
          "name": "stderr",
          "output_type": "stream",
          "text": [
            "\n",
            " 50%|█████     | 10/20 [00:26<00:26,  2.63s/it]\u001b[A"
          ]
        },
        {
          "metadata": {
            "tags": null
          },
          "name": "stdout",
          "output_type": "stream",
          "text": [
            "Number of Epoch = 10 - Average CCE:= 0.021397298177083333 - Average Accuracy:= 32.37166666666666%\n"
          ]
        },
        {
          "metadata": {
            "tags": null
          },
          "name": "stderr",
          "output_type": "stream",
          "text": [
            "\n",
            " 55%|█████▌    | 11/20 [00:29<00:23,  2.64s/it]\u001b[A"
          ]
        },
        {
          "metadata": {
            "tags": null
          },
          "name": "stdout",
          "output_type": "stream",
          "text": [
            "Number of Epoch = 11 - Average CCE:= 0.021445467122395832 - Average Accuracy:= 32.22333333333333%\n"
          ]
        },
        {
          "metadata": {
            "tags": null
          },
          "name": "stderr",
          "output_type": "stream",
          "text": [
            "\n",
            " 60%|██████    | 12/20 [00:31<00:21,  2.63s/it]\u001b[A"
          ]
        },
        {
          "metadata": {
            "tags": null
          },
          "name": "stdout",
          "output_type": "stream",
          "text": [
            "Number of Epoch = 12 - Average CCE:= 0.021295424397786457 - Average Accuracy:= 32.67%\n"
          ]
        },
        {
          "metadata": {
            "tags": null
          },
          "name": "stderr",
          "output_type": "stream",
          "text": [
            "\n",
            " 65%|██████▌   | 13/20 [00:34<00:18,  2.63s/it]\u001b[A"
          ]
        },
        {
          "metadata": {
            "tags": null
          },
          "name": "stdout",
          "output_type": "stream",
          "text": [
            "Number of Epoch = 13 - Average CCE:= 0.021294476318359373 - Average Accuracy:= 32.695%\n"
          ]
        },
        {
          "metadata": {
            "tags": null
          },
          "name": "stderr",
          "output_type": "stream",
          "text": [
            "\n",
            " 70%|███████   | 14/20 [00:37<00:15,  2.64s/it]\u001b[A"
          ]
        },
        {
          "metadata": {
            "tags": null
          },
          "name": "stdout",
          "output_type": "stream",
          "text": [
            "Number of Epoch = 14 - Average CCE:= 0.021198372395833335 - Average Accuracy:= 33.005%\n"
          ]
        },
        {
          "metadata": {
            "tags": null
          },
          "name": "stderr",
          "output_type": "stream",
          "text": [
            "\n",
            " 75%|███████▌  | 15/20 [00:39<00:13,  2.64s/it]\u001b[A"
          ]
        },
        {
          "metadata": {
            "tags": null
          },
          "name": "stdout",
          "output_type": "stream",
          "text": [
            "Number of Epoch = 15 - Average CCE:= 0.021214040120442708 - Average Accuracy:= 32.95666666666667%\n"
          ]
        },
        {
          "metadata": {
            "tags": null
          },
          "name": "stderr",
          "output_type": "stream",
          "text": [
            "\n",
            " 80%|████████  | 16/20 [00:42<00:10,  2.64s/it]\u001b[A"
          ]
        },
        {
          "metadata": {
            "tags": null
          },
          "name": "stdout",
          "output_type": "stream",
          "text": [
            "Number of Epoch = 16 - Average CCE:= 0.021192879231770833 - Average Accuracy:= 33.068333333333335%\n"
          ]
        },
        {
          "metadata": {
            "tags": null
          },
          "name": "stderr",
          "output_type": "stream",
          "text": [
            "\n",
            " 85%|████████▌ | 17/20 [00:45<00:07,  2.65s/it]\u001b[A"
          ]
        },
        {
          "metadata": {
            "tags": null
          },
          "name": "stdout",
          "output_type": "stream",
          "text": [
            "Number of Epoch = 17 - Average CCE:= 0.021219842529296876 - Average Accuracy:= 32.95333333333333%\n"
          ]
        },
        {
          "metadata": {
            "tags": null
          },
          "name": "stderr",
          "output_type": "stream",
          "text": [
            "\n",
            " 90%|█████████ | 18/20 [00:47<00:05,  2.64s/it]\u001b[A"
          ]
        },
        {
          "metadata": {
            "tags": null
          },
          "name": "stdout",
          "output_type": "stream",
          "text": [
            "Number of Epoch = 18 - Average CCE:= 0.021325663248697918 - Average Accuracy:= 32.571666666666665%\n"
          ]
        },
        {
          "metadata": {
            "tags": null
          },
          "name": "stderr",
          "output_type": "stream",
          "text": [
            "\n",
            " 95%|█████████▌| 19/20 [00:50<00:02,  2.64s/it]\u001b[A"
          ]
        },
        {
          "metadata": {
            "tags": null
          },
          "name": "stdout",
          "output_type": "stream",
          "text": [
            "Number of Epoch = 19 - Average CCE:= 0.021081431070963542 - Average Accuracy:= 33.375%\n"
          ]
        },
        {
          "metadata": {
            "tags": null
          },
          "name": "stderr",
          "output_type": "stream",
          "text": [
            "\n",
            "100%|██████████| 20/20 [00:52<00:00,  2.65s/it]"
          ]
        },
        {
          "metadata": {
            "tags": null
          },
          "name": "stdout",
          "output_type": "stream",
          "text": [
            "Number of Epoch = 20 - Average CCE:= 0.021041843668619793 - Average Accuracy:= 33.50833333333333%\n",
            "\n",
            "Total time taken (in seconds): 52.98\n"
          ]
        },
        {
          "metadata": {
            "tags": null
          },
          "name": "stderr",
          "output_type": "stream",
          "text": [
            "\n",
            " 90%|█████████ | 9/10 [08:04<00:53, 53.72s/it]"
          ]
        },
        {
          "metadata": {
            "tags": null
          },
          "name": "stdout",
          "output_type": "stream",
          "text": [
            "Test CCE: 0.1073, Accuracy : 0.333\n",
            "seed: 4648, Cross Entropy loss: 0.1073142578125, Accuracy: 0.333\n",
            "\n",
            "** Inference Iteration: 9 **\n",
            "\n",
            "#Training default model with seed 4912#\n"
          ]
        },
        {
          "metadata": {
            "tags": null
          },
          "name": "stderr",
          "output_type": "stream",
          "text": [
            "\n",
            "  0%|          | 0/20 [00:00<?, ?it/s]\u001b[A\n",
            "  5%|▌         | 1/20 [00:02<00:50,  2.65s/it]\u001b[A"
          ]
        },
        {
          "metadata": {
            "tags": null
          },
          "name": "stdout",
          "output_type": "stream",
          "text": [
            "Number of Epoch = 1 - Average CCE:= 0.02856790568033854 - Average Accuracy:= 9.853333333333333%\n"
          ]
        },
        {
          "metadata": {
            "tags": null
          },
          "name": "stderr",
          "output_type": "stream",
          "text": [
            "\n",
            " 10%|█         | 2/20 [00:05<00:47,  2.64s/it]\u001b[A"
          ]
        },
        {
          "metadata": {
            "tags": null
          },
          "name": "stdout",
          "output_type": "stream",
          "text": [
            "Number of Epoch = 2 - Average CCE:= 0.028366507975260417 - Average Accuracy:= 10.451666666666666%\n"
          ]
        },
        {
          "metadata": {
            "tags": null
          },
          "name": "stderr",
          "output_type": "stream",
          "text": [
            "\n",
            " 15%|█▌        | 3/20 [00:07<00:44,  2.64s/it]\u001b[A"
          ]
        },
        {
          "metadata": {
            "tags": null
          },
          "name": "stdout",
          "output_type": "stream",
          "text": [
            "Number of Epoch = 3 - Average CCE:= 0.02621431681315104 - Average Accuracy:= 17.196666666666665%\n"
          ]
        },
        {
          "metadata": {
            "tags": null
          },
          "name": "stderr",
          "output_type": "stream",
          "text": [
            "\n",
            " 20%|██        | 4/20 [00:10<00:43,  2.71s/it]\u001b[A"
          ]
        },
        {
          "metadata": {
            "tags": null
          },
          "name": "stdout",
          "output_type": "stream",
          "text": [
            "Number of Epoch = 4 - Average CCE:= 0.026028167724609374 - Average Accuracy:= 17.868333333333332%\n"
          ]
        },
        {
          "metadata": {
            "tags": null
          },
          "name": "stderr",
          "output_type": "stream",
          "text": [
            "\n",
            " 25%|██▌       | 5/20 [00:13<00:40,  2.67s/it]\u001b[A"
          ]
        },
        {
          "metadata": {
            "tags": null
          },
          "name": "stdout",
          "output_type": "stream",
          "text": [
            "Number of Epoch = 5 - Average CCE:= 0.026000840250651042 - Average Accuracy:= 17.945%\n"
          ]
        },
        {
          "metadata": {
            "tags": null
          },
          "name": "stderr",
          "output_type": "stream",
          "text": [
            "\n",
            " 30%|███       | 6/20 [00:15<00:36,  2.64s/it]\u001b[A"
          ]
        },
        {
          "metadata": {
            "tags": null
          },
          "name": "stdout",
          "output_type": "stream",
          "text": [
            "Number of Epoch = 6 - Average CCE:= 0.02599074503580729 - Average Accuracy:= 18.016666666666666%\n"
          ]
        },
        {
          "metadata": {
            "tags": null
          },
          "name": "stderr",
          "output_type": "stream",
          "text": [
            "\n",
            " 35%|███▌      | 7/20 [00:18<00:34,  2.63s/it]\u001b[A"
          ]
        },
        {
          "metadata": {
            "tags": null
          },
          "name": "stdout",
          "output_type": "stream",
          "text": [
            "Number of Epoch = 7 - Average CCE:= 0.02596362508138021 - Average Accuracy:= 18.09166666666667%\n"
          ]
        },
        {
          "metadata": {
            "tags": null
          },
          "name": "stderr",
          "output_type": "stream",
          "text": [
            "\n",
            " 40%|████      | 8/20 [00:21<00:31,  2.64s/it]\u001b[A"
          ]
        },
        {
          "metadata": {
            "tags": null
          },
          "name": "stdout",
          "output_type": "stream",
          "text": [
            "Number of Epoch = 8 - Average CCE:= 0.025920475260416666 - Average Accuracy:= 18.208333333333336%\n"
          ]
        },
        {
          "metadata": {
            "tags": null
          },
          "name": "stderr",
          "output_type": "stream",
          "text": [
            "\n",
            " 45%|████▌     | 9/20 [00:23<00:28,  2.64s/it]\u001b[A"
          ]
        },
        {
          "metadata": {
            "tags": null
          },
          "name": "stdout",
          "output_type": "stream",
          "text": [
            "Number of Epoch = 9 - Average CCE:= 0.025928865559895833 - Average Accuracy:= 18.185000000000002%\n"
          ]
        },
        {
          "metadata": {
            "tags": null
          },
          "name": "stderr",
          "output_type": "stream",
          "text": [
            "\n",
            " 50%|█████     | 10/20 [00:26<00:26,  2.63s/it]\u001b[A"
          ]
        },
        {
          "metadata": {
            "tags": null
          },
          "name": "stdout",
          "output_type": "stream",
          "text": [
            "Number of Epoch = 10 - Average CCE:= 0.02594441121419271 - Average Accuracy:= 18.133333333333333%\n"
          ]
        },
        {
          "metadata": {
            "tags": null
          },
          "name": "stderr",
          "output_type": "stream",
          "text": [
            "\n",
            " 55%|█████▌    | 11/20 [00:29<00:23,  2.61s/it]\u001b[A"
          ]
        },
        {
          "metadata": {
            "tags": null
          },
          "name": "stdout",
          "output_type": "stream",
          "text": [
            "Number of Epoch = 11 - Average CCE:= 0.02591331787109375 - Average Accuracy:= 18.224999999999998%\n"
          ]
        },
        {
          "metadata": {
            "tags": null
          },
          "name": "stderr",
          "output_type": "stream",
          "text": [
            "\n",
            " 60%|██████    | 12/20 [00:31<00:21,  2.63s/it]\u001b[A"
          ]
        },
        {
          "metadata": {
            "tags": null
          },
          "name": "stdout",
          "output_type": "stream",
          "text": [
            "Number of Epoch = 12 - Average CCE:= 0.025881168619791665 - Average Accuracy:= 18.325%\n"
          ]
        },
        {
          "metadata": {
            "tags": null
          },
          "name": "stderr",
          "output_type": "stream",
          "text": [
            "\n",
            " 65%|██████▌   | 13/20 [00:34<00:18,  2.65s/it]\u001b[A"
          ]
        },
        {
          "metadata": {
            "tags": null
          },
          "name": "stdout",
          "output_type": "stream",
          "text": [
            "Number of Epoch = 13 - Average CCE:= 0.025879010009765627 - Average Accuracy:= 18.32%\n"
          ]
        },
        {
          "metadata": {
            "tags": null
          },
          "name": "stderr",
          "output_type": "stream",
          "text": [
            "\n",
            " 70%|███████   | 14/20 [00:37<00:15,  2.65s/it]\u001b[A"
          ]
        },
        {
          "metadata": {
            "tags": null
          },
          "name": "stdout",
          "output_type": "stream",
          "text": [
            "Number of Epoch = 14 - Average CCE:= 0.025904754638671874 - Average Accuracy:= 18.278333333333332%\n"
          ]
        },
        {
          "metadata": {
            "tags": null
          },
          "name": "stderr",
          "output_type": "stream",
          "text": [
            "\n",
            " 75%|███████▌  | 15/20 [00:39<00:13,  2.65s/it]\u001b[A"
          ]
        },
        {
          "metadata": {
            "tags": null
          },
          "name": "stdout",
          "output_type": "stream",
          "text": [
            "Number of Epoch = 15 - Average CCE:= 0.025849312337239583 - Average Accuracy:= 18.4%\n"
          ]
        },
        {
          "metadata": {
            "tags": null
          },
          "name": "stderr",
          "output_type": "stream",
          "text": [
            "\n",
            " 80%|████████  | 16/20 [00:42<00:10,  2.64s/it]\u001b[A"
          ]
        },
        {
          "metadata": {
            "tags": null
          },
          "name": "stdout",
          "output_type": "stream",
          "text": [
            "Number of Epoch = 16 - Average CCE:= 0.02586114298502604 - Average Accuracy:= 18.423333333333332%\n"
          ]
        },
        {
          "metadata": {
            "tags": null
          },
          "name": "stderr",
          "output_type": "stream",
          "text": [
            "\n",
            " 85%|████████▌ | 17/20 [00:44<00:07,  2.63s/it]\u001b[A"
          ]
        },
        {
          "metadata": {
            "tags": null
          },
          "name": "stdout",
          "output_type": "stream",
          "text": [
            "Number of Epoch = 17 - Average CCE:= 0.02569632568359375 - Average Accuracy:= 18.866666666666667%\n"
          ]
        },
        {
          "metadata": {
            "tags": null
          },
          "name": "stderr",
          "output_type": "stream",
          "text": [
            "\n",
            " 90%|█████████ | 18/20 [00:47<00:05,  2.63s/it]\u001b[A"
          ]
        },
        {
          "metadata": {
            "tags": null
          },
          "name": "stdout",
          "output_type": "stream",
          "text": [
            "Number of Epoch = 18 - Average CCE:= 0.02384840291341146 - Average Accuracy:= 24.676666666666666%\n"
          ]
        },
        {
          "metadata": {
            "tags": null
          },
          "name": "stderr",
          "output_type": "stream",
          "text": [
            "\n",
            " 95%|█████████▌| 19/20 [00:50<00:02,  2.63s/it]\u001b[A"
          ]
        },
        {
          "metadata": {
            "tags": null
          },
          "name": "stdout",
          "output_type": "stream",
          "text": [
            "Number of Epoch = 19 - Average CCE:= 0.02335660400390625 - Average Accuracy:= 26.266666666666666%\n"
          ]
        },
        {
          "metadata": {
            "tags": null
          },
          "name": "stderr",
          "output_type": "stream",
          "text": [
            "\n",
            "100%|██████████| 20/20 [00:52<00:00,  2.64s/it]"
          ]
        },
        {
          "metadata": {
            "tags": null
          },
          "name": "stdout",
          "output_type": "stream",
          "text": [
            "Number of Epoch = 20 - Average CCE:= 0.02321048583984375 - Average Accuracy:= 26.77%\n",
            "\n",
            "Total time taken (in seconds): 52.85\n"
          ]
        },
        {
          "metadata": {
            "tags": null
          },
          "name": "stderr",
          "output_type": "stream",
          "text": [
            "\n",
            "100%|██████████| 10/10 [08:58<00:00, 53.83s/it]\n"
          ]
        },
        {
          "metadata": {
            "tags": null
          },
          "name": "stdout",
          "output_type": "stream",
          "text": [
            "Test CCE: 0.1183, Accuracy : 0.2655\n",
            "seed: 4912, Cross Entropy loss: 0.11834266357421876, Accuracy: 0.2655\n",
            "## END: Current Model: default##\n",
            "Current inference results: {'default': {'cce_list': [0.11522347412109375, 0.08467548828125, 0.08576741333007812, 0.1145487060546875, 0.08642153930664062, 0.09960307006835938, 0.07544818725585938, 0.104943408203125, 0.1073142578125, 0.11834266357421876], 'acc_list': [0.2849, 0.4742, 0.4646, 0.2888, 0.4625, 0.3818, 0.5296, 0.3482, 0.333, 0.2655]}, 'L2': {}, 'dropout': {}}\n",
            "## START: Current Model: L2 ##\n"
          ]
        },
        {
          "metadata": {
            "tags": null
          },
          "name": "stderr",
          "output_type": "stream",
          "text": [
            "\r  0%|          | 0/10 [00:00<?, ?it/s]"
          ]
        },
        {
          "metadata": {
            "tags": null
          },
          "name": "stdout",
          "output_type": "stream",
          "text": [
            "\n",
            "** Inference Iteration: 0 **\n",
            "\n",
            "#Training L2 model with seed 4225#\n"
          ]
        },
        {
          "metadata": {
            "tags": null
          },
          "name": "stderr",
          "output_type": "stream",
          "text": [
            "\n",
            "  0%|          | 0/20 [00:00<?, ?it/s]\u001b[A\n",
            "  5%|▌         | 1/20 [00:02<00:56,  2.99s/it]\u001b[A"
          ]
        },
        {
          "metadata": {
            "tags": null
          },
          "name": "stdout",
          "output_type": "stream",
          "text": [
            "Number of Epoch = 1 - Average CCE:= 0.025989921061197917 - Average Accuracy:= 18.21666666666667%\n"
          ]
        },
        {
          "metadata": {
            "tags": null
          },
          "name": "stderr",
          "output_type": "stream",
          "text": [
            "\n",
            " 10%|█         | 2/20 [00:06<00:54,  3.04s/it]\u001b[A"
          ]
        },
        {
          "metadata": {
            "tags": null
          },
          "name": "stdout",
          "output_type": "stream",
          "text": [
            "Number of Epoch = 2 - Average CCE:= 0.025495438639322916 - Average Accuracy:= 19.79%\n"
          ]
        },
        {
          "metadata": {
            "tags": null
          },
          "name": "stderr",
          "output_type": "stream",
          "text": [
            "\n",
            " 15%|█▌        | 3/20 [00:09<00:51,  3.04s/it]\u001b[A"
          ]
        },
        {
          "metadata": {
            "tags": null
          },
          "name": "stdout",
          "output_type": "stream",
          "text": [
            "Number of Epoch = 3 - Average CCE:= 0.02545881144205729 - Average Accuracy:= 19.905%\n"
          ]
        },
        {
          "metadata": {
            "tags": null
          },
          "name": "stderr",
          "output_type": "stream",
          "text": [
            "\n",
            " 20%|██        | 4/20 [00:12<00:48,  3.03s/it]\u001b[A"
          ]
        },
        {
          "metadata": {
            "tags": null
          },
          "name": "stdout",
          "output_type": "stream",
          "text": [
            "Number of Epoch = 4 - Average CCE:= 0.02489470418294271 - Average Accuracy:= 21.538333333333334%\n"
          ]
        },
        {
          "metadata": {
            "tags": null
          },
          "name": "stderr",
          "output_type": "stream",
          "text": [
            "\n",
            " 25%|██▌       | 5/20 [00:15<00:45,  3.03s/it]\u001b[A"
          ]
        },
        {
          "metadata": {
            "tags": null
          },
          "name": "stdout",
          "output_type": "stream",
          "text": [
            "Number of Epoch = 5 - Average CCE:= 0.02324149373372396 - Average Accuracy:= 26.834999999999997%\n"
          ]
        },
        {
          "metadata": {
            "tags": null
          },
          "name": "stderr",
          "output_type": "stream",
          "text": [
            "\n",
            " 30%|███       | 6/20 [00:18<00:42,  3.02s/it]\u001b[A"
          ]
        },
        {
          "metadata": {
            "tags": null
          },
          "name": "stdout",
          "output_type": "stream",
          "text": [
            "Number of Epoch = 6 - Average CCE:= 0.023009381103515626 - Average Accuracy:= 27.615000000000002%\n"
          ]
        },
        {
          "metadata": {
            "tags": null
          },
          "name": "stderr",
          "output_type": "stream",
          "text": [
            "\n",
            " 35%|███▌      | 7/20 [00:21<00:39,  3.02s/it]\u001b[A"
          ]
        },
        {
          "metadata": {
            "tags": null
          },
          "name": "stdout",
          "output_type": "stream",
          "text": [
            "Number of Epoch = 7 - Average CCE:= 0.022957958984375 - Average Accuracy:= 27.82%\n"
          ]
        },
        {
          "metadata": {
            "tags": null
          },
          "name": "stderr",
          "output_type": "stream",
          "text": [
            "\n",
            " 40%|████      | 8/20 [00:24<00:36,  3.03s/it]\u001b[A"
          ]
        },
        {
          "metadata": {
            "tags": null
          },
          "name": "stdout",
          "output_type": "stream",
          "text": [
            "Number of Epoch = 8 - Average CCE:= 0.022958079020182293 - Average Accuracy:= 27.826666666666668%\n"
          ]
        },
        {
          "metadata": {
            "tags": null
          },
          "name": "stderr",
          "output_type": "stream",
          "text": [
            "\n",
            " 45%|████▌     | 9/20 [00:27<00:33,  3.04s/it]\u001b[A"
          ]
        },
        {
          "metadata": {
            "tags": null
          },
          "name": "stdout",
          "output_type": "stream",
          "text": [
            "Number of Epoch = 9 - Average CCE:= 0.02290143025716146 - Average Accuracy:= 27.96666666666667%\n"
          ]
        },
        {
          "metadata": {
            "tags": null
          },
          "name": "stderr",
          "output_type": "stream",
          "text": [
            "\n",
            " 50%|█████     | 10/20 [00:30<00:30,  3.06s/it]\u001b[A"
          ]
        },
        {
          "metadata": {
            "tags": null
          },
          "name": "stdout",
          "output_type": "stream",
          "text": [
            "Number of Epoch = 10 - Average CCE:= 0.022836769612630207 - Average Accuracy:= 28.133333333333333%\n"
          ]
        },
        {
          "metadata": {
            "tags": null
          },
          "name": "stderr",
          "output_type": "stream",
          "text": [
            "\n",
            " 55%|█████▌    | 11/20 [00:33<00:27,  3.06s/it]\u001b[A"
          ]
        },
        {
          "metadata": {
            "tags": null
          },
          "name": "stdout",
          "output_type": "stream",
          "text": [
            "Number of Epoch = 11 - Average CCE:= 0.02284367472330729 - Average Accuracy:= 28.166666666666668%\n"
          ]
        },
        {
          "metadata": {
            "tags": null
          },
          "name": "stderr",
          "output_type": "stream",
          "text": [
            "\n",
            " 60%|██████    | 12/20 [00:38<00:30,  3.77s/it]\u001b[A"
          ]
        },
        {
          "metadata": {
            "tags": null
          },
          "name": "stdout",
          "output_type": "stream",
          "text": [
            "Number of Epoch = 12 - Average CCE:= 0.022833846028645834 - Average Accuracy:= 28.19333333333333%\n"
          ]
        },
        {
          "metadata": {
            "tags": null
          },
          "name": "stderr",
          "output_type": "stream",
          "text": [
            "\n",
            " 65%|██████▌   | 13/20 [00:41<00:24,  3.55s/it]\u001b[A"
          ]
        },
        {
          "metadata": {
            "tags": null
          },
          "name": "stdout",
          "output_type": "stream",
          "text": [
            "Number of Epoch = 13 - Average CCE:= 0.022816357421875 - Average Accuracy:= 28.21%\n"
          ]
        },
        {
          "metadata": {
            "tags": null
          },
          "name": "stderr",
          "output_type": "stream",
          "text": [
            "\n",
            " 70%|███████   | 14/20 [00:44<00:20,  3.39s/it]\u001b[A"
          ]
        },
        {
          "metadata": {
            "tags": null
          },
          "name": "stdout",
          "output_type": "stream",
          "text": [
            "Number of Epoch = 14 - Average CCE:= 0.022811409505208335 - Average Accuracy:= 28.176666666666666%\n"
          ]
        },
        {
          "metadata": {
            "tags": null
          },
          "name": "stderr",
          "output_type": "stream",
          "text": [
            "\n",
            " 75%|███████▌  | 15/20 [00:47<00:16,  3.26s/it]\u001b[A"
          ]
        },
        {
          "metadata": {
            "tags": null
          },
          "name": "stdout",
          "output_type": "stream",
          "text": [
            "Number of Epoch = 15 - Average CCE:= 0.022831001790364583 - Average Accuracy:= 28.196666666666665%\n"
          ]
        },
        {
          "metadata": {
            "tags": null
          },
          "name": "stderr",
          "output_type": "stream",
          "text": [
            "\n",
            " 80%|████████  | 16/20 [00:50<00:12,  3.20s/it]\u001b[A"
          ]
        },
        {
          "metadata": {
            "tags": null
          },
          "name": "stdout",
          "output_type": "stream",
          "text": [
            "Number of Epoch = 16 - Average CCE:= 0.02279054158528646 - Average Accuracy:= 28.299999999999997%\n"
          ]
        },
        {
          "metadata": {
            "tags": null
          },
          "name": "stderr",
          "output_type": "stream",
          "text": [
            "\n",
            " 85%|████████▌ | 17/20 [00:54<00:09,  3.17s/it]\u001b[A"
          ]
        },
        {
          "metadata": {
            "tags": null
          },
          "name": "stdout",
          "output_type": "stream",
          "text": [
            "Number of Epoch = 17 - Average CCE:= 0.02278144734700521 - Average Accuracy:= 28.410000000000004%\n"
          ]
        },
        {
          "metadata": {
            "tags": null
          },
          "name": "stderr",
          "output_type": "stream",
          "text": [
            "\n",
            " 90%|█████████ | 18/20 [00:57<00:06,  3.13s/it]\u001b[A"
          ]
        },
        {
          "metadata": {
            "tags": null
          },
          "name": "stdout",
          "output_type": "stream",
          "text": [
            "Number of Epoch = 18 - Average CCE:= 0.022751277669270834 - Average Accuracy:= 28.428333333333335%\n"
          ]
        },
        {
          "metadata": {
            "tags": null
          },
          "name": "stderr",
          "output_type": "stream",
          "text": [
            "\n",
            " 95%|█████████▌| 19/20 [01:00<00:03,  3.11s/it]\u001b[A"
          ]
        },
        {
          "metadata": {
            "tags": null
          },
          "name": "stdout",
          "output_type": "stream",
          "text": [
            "Number of Epoch = 19 - Average CCE:= 0.02278056437174479 - Average Accuracy:= 28.35666666666667%\n"
          ]
        },
        {
          "metadata": {
            "tags": null
          },
          "name": "stderr",
          "output_type": "stream",
          "text": [
            "\n",
            "100%|██████████| 20/20 [01:03<00:00,  3.16s/it]"
          ]
        },
        {
          "metadata": {
            "tags": null
          },
          "name": "stdout",
          "output_type": "stream",
          "text": [
            "Number of Epoch = 20 - Average CCE:= 0.022766522216796876 - Average Accuracy:= 28.415000000000003%\n",
            "\n",
            "Total time taken (in seconds): 63.12\n"
          ]
        },
        {
          "metadata": {
            "tags": null
          },
          "name": "stderr",
          "output_type": "stream",
          "text": [
            "\n",
            " 10%|█         | 1/10 [01:03<09:33, 63.75s/it]"
          ]
        },
        {
          "metadata": {
            "tags": null
          },
          "name": "stdout",
          "output_type": "stream",
          "text": [
            "Test CCE: 0.1158, Accuracy : 0.2839\n",
            "seed: 4225, Cross Entropy loss: 0.11575765380859375, Accuracy: 0.2839\n",
            "\n",
            "** Inference Iteration: 1 **\n",
            "\n",
            "#Training L2 model with seed 4555#\n"
          ]
        },
        {
          "metadata": {
            "tags": null
          },
          "name": "stderr",
          "output_type": "stream",
          "text": [
            "\n",
            "  0%|          | 0/20 [00:00<?, ?it/s]\u001b[A\n",
            "  5%|▌         | 1/20 [00:03<00:58,  3.08s/it]\u001b[A"
          ]
        },
        {
          "metadata": {
            "tags": null
          },
          "name": "stdout",
          "output_type": "stream",
          "text": [
            "Number of Epoch = 1 - Average CCE:= 0.0231696044921875 - Average Accuracy:= 26.966666666666665%\n"
          ]
        },
        {
          "metadata": {
            "tags": null
          },
          "name": "stderr",
          "output_type": "stream",
          "text": [
            "\n",
            " 10%|█         | 2/20 [00:06<00:55,  3.10s/it]\u001b[A"
          ]
        },
        {
          "metadata": {
            "tags": null
          },
          "name": "stdout",
          "output_type": "stream",
          "text": [
            "Number of Epoch = 2 - Average CCE:= 0.019531184895833335 - Average Accuracy:= 38.41%\n"
          ]
        },
        {
          "metadata": {
            "tags": null
          },
          "name": "stderr",
          "output_type": "stream",
          "text": [
            "\n",
            " 15%|█▌        | 3/20 [00:09<00:52,  3.07s/it]\u001b[A"
          ]
        },
        {
          "metadata": {
            "tags": null
          },
          "name": "stdout",
          "output_type": "stream",
          "text": [
            "Number of Epoch = 3 - Average CCE:= 0.018387164306640624 - Average Accuracy:= 42.02333333333333%\n"
          ]
        },
        {
          "metadata": {
            "tags": null
          },
          "name": "stderr",
          "output_type": "stream",
          "text": [
            "\n",
            " 20%|██        | 4/20 [00:12<00:48,  3.05s/it]\u001b[A"
          ]
        },
        {
          "metadata": {
            "tags": null
          },
          "name": "stdout",
          "output_type": "stream",
          "text": [
            "Number of Epoch = 4 - Average CCE:= 0.017734562174479166 - Average Accuracy:= 44.085%\n"
          ]
        },
        {
          "metadata": {
            "tags": null
          },
          "name": "stderr",
          "output_type": "stream",
          "text": [
            "\n",
            " 25%|██▌       | 5/20 [00:15<00:45,  3.05s/it]\u001b[A"
          ]
        },
        {
          "metadata": {
            "tags": null
          },
          "name": "stdout",
          "output_type": "stream",
          "text": [
            "Number of Epoch = 5 - Average CCE:= 0.01710538533528646 - Average Accuracy:= 46.089999999999996%\n"
          ]
        },
        {
          "metadata": {
            "tags": null
          },
          "name": "stderr",
          "output_type": "stream",
          "text": [
            "\n",
            " 30%|███       | 6/20 [00:18<00:42,  3.05s/it]\u001b[A"
          ]
        },
        {
          "metadata": {
            "tags": null
          },
          "name": "stdout",
          "output_type": "stream",
          "text": [
            "Number of Epoch = 6 - Average CCE:= 0.016286489868164063 - Average Accuracy:= 48.66166666666666%\n"
          ]
        },
        {
          "metadata": {
            "tags": null
          },
          "name": "stderr",
          "output_type": "stream",
          "text": [
            "\n",
            " 35%|███▌      | 7/20 [00:21<00:39,  3.02s/it]\u001b[A"
          ]
        },
        {
          "metadata": {
            "tags": null
          },
          "name": "stdout",
          "output_type": "stream",
          "text": [
            "Number of Epoch = 7 - Average CCE:= 0.015795700073242186 - Average Accuracy:= 50.18833333333333%\n"
          ]
        },
        {
          "metadata": {
            "tags": null
          },
          "name": "stderr",
          "output_type": "stream",
          "text": [
            "\n",
            " 40%|████      | 8/20 [00:24<00:36,  3.03s/it]\u001b[A"
          ]
        },
        {
          "metadata": {
            "tags": null
          },
          "name": "stdout",
          "output_type": "stream",
          "text": [
            "Number of Epoch = 8 - Average CCE:= 0.015582288614908854 - Average Accuracy:= 50.88%\n"
          ]
        },
        {
          "metadata": {
            "tags": null
          },
          "name": "stderr",
          "output_type": "stream",
          "text": [
            "\n",
            " 45%|████▌     | 9/20 [00:27<00:33,  3.04s/it]\u001b[A"
          ]
        },
        {
          "metadata": {
            "tags": null
          },
          "name": "stdout",
          "output_type": "stream",
          "text": [
            "Number of Epoch = 9 - Average CCE:= 0.015391566975911458 - Average Accuracy:= 51.49666666666667%\n"
          ]
        },
        {
          "metadata": {
            "tags": null
          },
          "name": "stderr",
          "output_type": "stream",
          "text": [
            "\n",
            " 50%|█████     | 10/20 [00:30<00:30,  3.02s/it]\u001b[A"
          ]
        },
        {
          "metadata": {
            "tags": null
          },
          "name": "stdout",
          "output_type": "stream",
          "text": [
            "Number of Epoch = 10 - Average CCE:= 0.015236728922526041 - Average Accuracy:= 52.03%\n"
          ]
        },
        {
          "metadata": {
            "tags": null
          },
          "name": "stderr",
          "output_type": "stream",
          "text": [
            "\n",
            " 55%|█████▌    | 11/20 [00:33<00:27,  3.02s/it]\u001b[A"
          ]
        },
        {
          "metadata": {
            "tags": null
          },
          "name": "stdout",
          "output_type": "stream",
          "text": [
            "Number of Epoch = 11 - Average CCE:= 0.01526416727701823 - Average Accuracy:= 51.916666666666664%\n"
          ]
        },
        {
          "metadata": {
            "tags": null
          },
          "name": "stderr",
          "output_type": "stream",
          "text": [
            "\n",
            " 60%|██████    | 12/20 [00:36<00:24,  3.03s/it]\u001b[A"
          ]
        },
        {
          "metadata": {
            "tags": null
          },
          "name": "stdout",
          "output_type": "stream",
          "text": [
            "Number of Epoch = 12 - Average CCE:= 0.015158437093098958 - Average Accuracy:= 52.24166666666667%\n"
          ]
        },
        {
          "metadata": {
            "tags": null
          },
          "name": "stderr",
          "output_type": "stream",
          "text": [
            "\n",
            " 65%|██████▌   | 13/20 [00:39<00:21,  3.03s/it]\u001b[A"
          ]
        },
        {
          "metadata": {
            "tags": null
          },
          "name": "stdout",
          "output_type": "stream",
          "text": [
            "Number of Epoch = 13 - Average CCE:= 0.015131270345052083 - Average Accuracy:= 52.38166666666667%\n"
          ]
        },
        {
          "metadata": {
            "tags": null
          },
          "name": "stderr",
          "output_type": "stream",
          "text": [
            "\n",
            " 70%|███████   | 14/20 [00:42<00:18,  3.02s/it]\u001b[A"
          ]
        },
        {
          "metadata": {
            "tags": null
          },
          "name": "stdout",
          "output_type": "stream",
          "text": [
            "Number of Epoch = 14 - Average CCE:= 0.014999045817057292 - Average Accuracy:= 52.71666666666667%\n"
          ]
        },
        {
          "metadata": {
            "tags": null
          },
          "name": "stderr",
          "output_type": "stream",
          "text": [
            "\n",
            " 75%|███████▌  | 15/20 [00:45<00:15,  3.03s/it]\u001b[A"
          ]
        },
        {
          "metadata": {
            "tags": null
          },
          "name": "stdout",
          "output_type": "stream",
          "text": [
            "Number of Epoch = 15 - Average CCE:= 0.015081232706705729 - Average Accuracy:= 52.449999999999996%\n"
          ]
        },
        {
          "metadata": {
            "tags": null
          },
          "name": "stderr",
          "output_type": "stream",
          "text": [
            "\n",
            " 80%|████████  | 16/20 [00:48<00:12,  3.03s/it]\u001b[A"
          ]
        },
        {
          "metadata": {
            "tags": null
          },
          "name": "stdout",
          "output_type": "stream",
          "text": [
            "Number of Epoch = 16 - Average CCE:= 0.014997983805338542 - Average Accuracy:= 52.72%\n"
          ]
        },
        {
          "metadata": {
            "tags": null
          },
          "name": "stderr",
          "output_type": "stream",
          "text": [
            "\n",
            " 85%|████████▌ | 17/20 [00:51<00:09,  3.03s/it]\u001b[A"
          ]
        },
        {
          "metadata": {
            "tags": null
          },
          "name": "stdout",
          "output_type": "stream",
          "text": [
            "Number of Epoch = 17 - Average CCE:= 0.01496422119140625 - Average Accuracy:= 52.87333333333334%\n"
          ]
        },
        {
          "metadata": {
            "tags": null
          },
          "name": "stderr",
          "output_type": "stream",
          "text": [
            "\n",
            " 90%|█████████ | 18/20 [00:54<00:06,  3.04s/it]\u001b[A"
          ]
        },
        {
          "metadata": {
            "tags": null
          },
          "name": "stdout",
          "output_type": "stream",
          "text": [
            "Number of Epoch = 18 - Average CCE:= 0.014800936889648437 - Average Accuracy:= 53.44%\n"
          ]
        },
        {
          "metadata": {
            "tags": null
          },
          "name": "stderr",
          "output_type": "stream",
          "text": [
            "\n",
            " 95%|█████████▌| 19/20 [00:57<00:03,  3.04s/it]\u001b[A"
          ]
        },
        {
          "metadata": {
            "tags": null
          },
          "name": "stdout",
          "output_type": "stream",
          "text": [
            "Number of Epoch = 19 - Average CCE:= 0.01480702616373698 - Average Accuracy:= 53.388333333333335%\n"
          ]
        },
        {
          "metadata": {
            "tags": null
          },
          "name": "stderr",
          "output_type": "stream",
          "text": [
            "\n",
            "100%|██████████| 20/20 [01:00<00:00,  3.04s/it]"
          ]
        },
        {
          "metadata": {
            "tags": null
          },
          "name": "stdout",
          "output_type": "stream",
          "text": [
            "Number of Epoch = 20 - Average CCE:= 0.014930022176106771 - Average Accuracy:= 53.06166666666666%\n",
            "\n",
            "Total time taken (in seconds): 60.74\n"
          ]
        },
        {
          "metadata": {
            "tags": null
          },
          "name": "stderr",
          "output_type": "stream",
          "text": [
            "\n",
            " 20%|██        | 2/10 [02:05<08:18, 62.35s/it]"
          ]
        },
        {
          "metadata": {
            "tags": null
          },
          "name": "stdout",
          "output_type": "stream",
          "text": [
            "Test CCE: 0.0807, Accuracy : 0.5004\n",
            "seed: 4555, Cross Entropy loss: 0.08069005737304688, Accuracy: 0.5004\n",
            "\n",
            "** Inference Iteration: 2 **\n",
            "\n",
            "#Training L2 model with seed 4193#\n"
          ]
        },
        {
          "metadata": {
            "tags": null
          },
          "name": "stderr",
          "output_type": "stream",
          "text": [
            "\n",
            "  0%|          | 0/20 [00:00<?, ?it/s]\u001b[A\n",
            "  5%|▌         | 1/20 [00:03<00:57,  3.01s/it]\u001b[A"
          ]
        },
        {
          "metadata": {
            "tags": null
          },
          "name": "stdout",
          "output_type": "stream",
          "text": [
            "Number of Epoch = 1 - Average CCE:= 0.024134602864583334 - Average Accuracy:= 23.843333333333334%\n"
          ]
        },
        {
          "metadata": {
            "tags": null
          },
          "name": "stderr",
          "output_type": "stream",
          "text": [
            "\n",
            " 10%|█         | 2/20 [00:06<00:55,  3.07s/it]\u001b[A"
          ]
        },
        {
          "metadata": {
            "tags": null
          },
          "name": "stdout",
          "output_type": "stream",
          "text": [
            "Number of Epoch = 2 - Average CCE:= 0.022005900065104167 - Average Accuracy:= 30.66833333333333%\n"
          ]
        },
        {
          "metadata": {
            "tags": null
          },
          "name": "stderr",
          "output_type": "stream",
          "text": [
            "\n",
            " 15%|█▌        | 3/20 [00:09<00:52,  3.08s/it]\u001b[A"
          ]
        },
        {
          "metadata": {
            "tags": null
          },
          "name": "stdout",
          "output_type": "stream",
          "text": [
            "Number of Epoch = 3 - Average CCE:= 0.02244050089518229 - Average Accuracy:= 29.278333333333332%\n"
          ]
        },
        {
          "metadata": {
            "tags": null
          },
          "name": "stderr",
          "output_type": "stream",
          "text": [
            "\n",
            " 20%|██        | 4/20 [00:12<00:48,  3.05s/it]\u001b[A"
          ]
        },
        {
          "metadata": {
            "tags": null
          },
          "name": "stdout",
          "output_type": "stream",
          "text": [
            "Number of Epoch = 4 - Average CCE:= 0.021455308024088543 - Average Accuracy:= 32.38166666666666%\n"
          ]
        },
        {
          "metadata": {
            "tags": null
          },
          "name": "stderr",
          "output_type": "stream",
          "text": [
            "\n",
            " 25%|██▌       | 5/20 [00:15<00:45,  3.02s/it]\u001b[A"
          ]
        },
        {
          "metadata": {
            "tags": null
          },
          "name": "stdout",
          "output_type": "stream",
          "text": [
            "Number of Epoch = 5 - Average CCE:= 0.021266701253255207 - Average Accuracy:= 33.02833333333333%\n"
          ]
        },
        {
          "metadata": {
            "tags": null
          },
          "name": "stderr",
          "output_type": "stream",
          "text": [
            "\n",
            " 30%|███       | 6/20 [00:18<00:42,  3.03s/it]\u001b[A"
          ]
        },
        {
          "metadata": {
            "tags": null
          },
          "name": "stdout",
          "output_type": "stream",
          "text": [
            "Number of Epoch = 6 - Average CCE:= 0.021074300130208334 - Average Accuracy:= 33.61833333333333%\n"
          ]
        },
        {
          "metadata": {
            "tags": null
          },
          "name": "stderr",
          "output_type": "stream",
          "text": [
            "\n",
            " 35%|███▌      | 7/20 [00:21<00:39,  3.04s/it]\u001b[A"
          ]
        },
        {
          "metadata": {
            "tags": null
          },
          "name": "stdout",
          "output_type": "stream",
          "text": [
            "Number of Epoch = 7 - Average CCE:= 0.020954052734375 - Average Accuracy:= 34.01166666666667%\n"
          ]
        },
        {
          "metadata": {
            "tags": null
          },
          "name": "stderr",
          "output_type": "stream",
          "text": [
            "\n",
            " 40%|████      | 8/20 [00:24<00:36,  3.04s/it]\u001b[A"
          ]
        },
        {
          "metadata": {
            "tags": null
          },
          "name": "stdout",
          "output_type": "stream",
          "text": [
            "Number of Epoch = 8 - Average CCE:= 0.02083866170247396 - Average Accuracy:= 34.346666666666664%\n"
          ]
        },
        {
          "metadata": {
            "tags": null
          },
          "name": "stderr",
          "output_type": "stream",
          "text": [
            "\n",
            " 45%|████▌     | 9/20 [00:27<00:33,  3.04s/it]\u001b[A"
          ]
        },
        {
          "metadata": {
            "tags": null
          },
          "name": "stdout",
          "output_type": "stream",
          "text": [
            "Number of Epoch = 9 - Average CCE:= 0.020815079752604167 - Average Accuracy:= 34.473333333333336%\n"
          ]
        },
        {
          "metadata": {
            "tags": null
          },
          "name": "stderr",
          "output_type": "stream",
          "text": [
            "\n",
            " 50%|█████     | 10/20 [00:30<00:30,  3.03s/it]\u001b[A"
          ]
        },
        {
          "metadata": {
            "tags": null
          },
          "name": "stdout",
          "output_type": "stream",
          "text": [
            "Number of Epoch = 10 - Average CCE:= 0.020756569417317707 - Average Accuracy:= 34.68333333333333%\n"
          ]
        },
        {
          "metadata": {
            "tags": null
          },
          "name": "stderr",
          "output_type": "stream",
          "text": [
            "\n",
            " 55%|█████▌    | 11/20 [00:33<00:27,  3.04s/it]\u001b[A"
          ]
        },
        {
          "metadata": {
            "tags": null
          },
          "name": "stdout",
          "output_type": "stream",
          "text": [
            "Number of Epoch = 11 - Average CCE:= 0.02078494873046875 - Average Accuracy:= 34.54833333333333%\n"
          ]
        },
        {
          "metadata": {
            "tags": null
          },
          "name": "stderr",
          "output_type": "stream",
          "text": [
            "\n",
            " 60%|██████    | 12/20 [00:36<00:24,  3.02s/it]\u001b[A"
          ]
        },
        {
          "metadata": {
            "tags": null
          },
          "name": "stdout",
          "output_type": "stream",
          "text": [
            "Number of Epoch = 12 - Average CCE:= 0.020695182291666666 - Average Accuracy:= 34.84833333333333%\n"
          ]
        },
        {
          "metadata": {
            "tags": null
          },
          "name": "stderr",
          "output_type": "stream",
          "text": [
            "\n",
            " 65%|██████▌   | 13/20 [00:39<00:21,  3.03s/it]\u001b[A"
          ]
        },
        {
          "metadata": {
            "tags": null
          },
          "name": "stdout",
          "output_type": "stream",
          "text": [
            "Number of Epoch = 13 - Average CCE:= 0.019478422037760415 - Average Accuracy:= 38.64333333333334%\n"
          ]
        },
        {
          "metadata": {
            "tags": null
          },
          "name": "stderr",
          "output_type": "stream",
          "text": [
            "\n",
            " 70%|███████   | 14/20 [00:42<00:18,  3.03s/it]\u001b[A"
          ]
        },
        {
          "metadata": {
            "tags": null
          },
          "name": "stdout",
          "output_type": "stream",
          "text": [
            "Number of Epoch = 14 - Average CCE:= 0.018276987711588543 - Average Accuracy:= 42.38666666666667%\n"
          ]
        },
        {
          "metadata": {
            "tags": null
          },
          "name": "stderr",
          "output_type": "stream",
          "text": [
            "\n",
            " 75%|███████▌  | 15/20 [00:45<00:15,  3.04s/it]\u001b[A"
          ]
        },
        {
          "metadata": {
            "tags": null
          },
          "name": "stdout",
          "output_type": "stream",
          "text": [
            "Number of Epoch = 15 - Average CCE:= 0.018147493489583333 - Average Accuracy:= 42.86666666666667%\n"
          ]
        },
        {
          "metadata": {
            "tags": null
          },
          "name": "stderr",
          "output_type": "stream",
          "text": [
            "\n",
            " 80%|████████  | 16/20 [00:48<00:12,  3.03s/it]\u001b[A"
          ]
        },
        {
          "metadata": {
            "tags": null
          },
          "name": "stdout",
          "output_type": "stream",
          "text": [
            "Number of Epoch = 16 - Average CCE:= 0.018094193522135416 - Average Accuracy:= 43.02333333333333%\n"
          ]
        },
        {
          "metadata": {
            "tags": null
          },
          "name": "stderr",
          "output_type": "stream",
          "text": [
            "\n",
            " 85%|████████▌ | 17/20 [00:51<00:09,  3.03s/it]\u001b[A"
          ]
        },
        {
          "metadata": {
            "tags": null
          },
          "name": "stdout",
          "output_type": "stream",
          "text": [
            "Number of Epoch = 17 - Average CCE:= 0.01801573486328125 - Average Accuracy:= 43.29666666666667%\n"
          ]
        },
        {
          "metadata": {
            "tags": null
          },
          "name": "stderr",
          "output_type": "stream",
          "text": [
            "\n",
            " 90%|█████████ | 18/20 [00:54<00:06,  3.03s/it]\u001b[A"
          ]
        },
        {
          "metadata": {
            "tags": null
          },
          "name": "stdout",
          "output_type": "stream",
          "text": [
            "Number of Epoch = 18 - Average CCE:= 0.017998575846354167 - Average Accuracy:= 43.39%\n"
          ]
        },
        {
          "metadata": {
            "tags": null
          },
          "name": "stderr",
          "output_type": "stream",
          "text": [
            "\n",
            " 95%|█████████▌| 19/20 [00:57<00:03,  3.03s/it]\u001b[A"
          ]
        },
        {
          "metadata": {
            "tags": null
          },
          "name": "stdout",
          "output_type": "stream",
          "text": [
            "Number of Epoch = 19 - Average CCE:= 0.01795149739583333 - Average Accuracy:= 43.5%\n"
          ]
        },
        {
          "metadata": {
            "tags": null
          },
          "name": "stderr",
          "output_type": "stream",
          "text": [
            "\n",
            "100%|██████████| 20/20 [01:00<00:00,  3.04s/it]"
          ]
        },
        {
          "metadata": {
            "tags": null
          },
          "name": "stdout",
          "output_type": "stream",
          "text": [
            "Number of Epoch = 20 - Average CCE:= 0.017853664143880208 - Average Accuracy:= 43.79833333333333%\n",
            "\n",
            "Total time taken (in seconds): 60.72\n"
          ]
        },
        {
          "metadata": {
            "tags": null
          },
          "name": "stderr",
          "output_type": "stream",
          "text": [
            "\n",
            " 30%|███       | 3/10 [03:06<07:13, 61.90s/it]"
          ]
        },
        {
          "metadata": {
            "tags": null
          },
          "name": "stdout",
          "output_type": "stream",
          "text": [
            "Test CCE: 0.0915, Accuracy : 0.4335\n",
            "seed: 4193, Cross Entropy loss: 0.09145341186523437, Accuracy: 0.4335\n",
            "\n",
            "** Inference Iteration: 3 **\n",
            "\n",
            "#Training L2 model with seed 4027#\n"
          ]
        },
        {
          "metadata": {
            "tags": null
          },
          "name": "stderr",
          "output_type": "stream",
          "text": [
            "\n",
            "  0%|          | 0/20 [00:00<?, ?it/s]\u001b[A\n",
            "  5%|▌         | 1/20 [00:02<00:56,  3.00s/it]\u001b[A"
          ]
        },
        {
          "metadata": {
            "tags": null
          },
          "name": "stdout",
          "output_type": "stream",
          "text": [
            "Number of Epoch = 1 - Average CCE:= 0.025868290201822918 - Average Accuracy:= 18.43%\n"
          ]
        },
        {
          "metadata": {
            "tags": null
          },
          "name": "stderr",
          "output_type": "stream",
          "text": [
            "\n",
            " 10%|█         | 2/20 [00:05<00:53,  3.00s/it]\u001b[A"
          ]
        },
        {
          "metadata": {
            "tags": null
          },
          "name": "stdout",
          "output_type": "stream",
          "text": [
            "Number of Epoch = 2 - Average CCE:= 0.02407547403971354 - Average Accuracy:= 24.104999999999997%\n"
          ]
        },
        {
          "metadata": {
            "tags": null
          },
          "name": "stderr",
          "output_type": "stream",
          "text": [
            "\n",
            " 15%|█▌        | 3/20 [00:09<00:51,  3.02s/it]\u001b[A"
          ]
        },
        {
          "metadata": {
            "tags": null
          },
          "name": "stdout",
          "output_type": "stream",
          "text": [
            "Number of Epoch = 3 - Average CCE:= 0.023393465169270832 - Average Accuracy:= 26.261666666666667%\n"
          ]
        },
        {
          "metadata": {
            "tags": null
          },
          "name": "stderr",
          "output_type": "stream",
          "text": [
            "\n",
            " 20%|██        | 4/20 [00:12<00:48,  3.04s/it]\u001b[A"
          ]
        },
        {
          "metadata": {
            "tags": null
          },
          "name": "stdout",
          "output_type": "stream",
          "text": [
            "Number of Epoch = 4 - Average CCE:= 0.023095308430989583 - Average Accuracy:= 27.321666666666665%\n"
          ]
        },
        {
          "metadata": {
            "tags": null
          },
          "name": "stderr",
          "output_type": "stream",
          "text": [
            "\n",
            " 25%|██▌       | 5/20 [00:15<00:45,  3.04s/it]\u001b[A"
          ]
        },
        {
          "metadata": {
            "tags": null
          },
          "name": "stdout",
          "output_type": "stream",
          "text": [
            "Number of Epoch = 5 - Average CCE:= 0.022941947428385418 - Average Accuracy:= 27.779999999999998%\n"
          ]
        },
        {
          "metadata": {
            "tags": null
          },
          "name": "stderr",
          "output_type": "stream",
          "text": [
            "\n",
            " 30%|███       | 6/20 [00:18<00:42,  3.04s/it]\u001b[A"
          ]
        },
        {
          "metadata": {
            "tags": null
          },
          "name": "stdout",
          "output_type": "stream",
          "text": [
            "Number of Epoch = 6 - Average CCE:= 0.022833203125 - Average Accuracy:= 28.08833333333333%\n"
          ]
        },
        {
          "metadata": {
            "tags": null
          },
          "name": "stderr",
          "output_type": "stream",
          "text": [
            "\n",
            " 35%|███▌      | 7/20 [00:21<00:39,  3.06s/it]\u001b[A"
          ]
        },
        {
          "metadata": {
            "tags": null
          },
          "name": "stdout",
          "output_type": "stream",
          "text": [
            "Number of Epoch = 7 - Average CCE:= 0.022803666178385418 - Average Accuracy:= 28.196666666666665%\n"
          ]
        },
        {
          "metadata": {
            "tags": null
          },
          "name": "stderr",
          "output_type": "stream",
          "text": [
            "\n",
            " 40%|████      | 8/20 [00:24<00:36,  3.04s/it]\u001b[A"
          ]
        },
        {
          "metadata": {
            "tags": null
          },
          "name": "stdout",
          "output_type": "stream",
          "text": [
            "Number of Epoch = 8 - Average CCE:= 0.0227518310546875 - Average Accuracy:= 28.381666666666668%\n"
          ]
        },
        {
          "metadata": {
            "tags": null
          },
          "name": "stderr",
          "output_type": "stream",
          "text": [
            "\n",
            " 45%|████▌     | 9/20 [00:27<00:33,  3.04s/it]\u001b[A"
          ]
        },
        {
          "metadata": {
            "tags": null
          },
          "name": "stdout",
          "output_type": "stream",
          "text": [
            "Number of Epoch = 9 - Average CCE:= 0.022694612630208333 - Average Accuracy:= 28.561666666666667%\n"
          ]
        },
        {
          "metadata": {
            "tags": null
          },
          "name": "stderr",
          "output_type": "stream",
          "text": [
            "\n",
            " 50%|█████     | 10/20 [00:30<00:30,  3.05s/it]\u001b[A"
          ]
        },
        {
          "metadata": {
            "tags": null
          },
          "name": "stdout",
          "output_type": "stream",
          "text": [
            "Number of Epoch = 10 - Average CCE:= 0.02268752237955729 - Average Accuracy:= 28.566666666666666%\n"
          ]
        },
        {
          "metadata": {
            "tags": null
          },
          "name": "stderr",
          "output_type": "stream",
          "text": [
            "\n",
            " 55%|█████▌    | 11/20 [00:33<00:27,  3.08s/it]\u001b[A"
          ]
        },
        {
          "metadata": {
            "tags": null
          },
          "name": "stdout",
          "output_type": "stream",
          "text": [
            "Number of Epoch = 11 - Average CCE:= 0.022664935302734376 - Average Accuracy:= 28.68%\n"
          ]
        },
        {
          "metadata": {
            "tags": null
          },
          "name": "stderr",
          "output_type": "stream",
          "text": [
            "\n",
            " 60%|██████    | 12/20 [00:38<00:30,  3.78s/it]\u001b[A"
          ]
        },
        {
          "metadata": {
            "tags": null
          },
          "name": "stdout",
          "output_type": "stream",
          "text": [
            "Number of Epoch = 12 - Average CCE:= 0.022681170654296874 - Average Accuracy:= 28.665000000000003%\n"
          ]
        },
        {
          "metadata": {
            "tags": null
          },
          "name": "stderr",
          "output_type": "stream",
          "text": [
            "\n",
            " 65%|██████▌   | 13/20 [00:41<00:24,  3.56s/it]\u001b[A"
          ]
        },
        {
          "metadata": {
            "tags": null
          },
          "name": "stdout",
          "output_type": "stream",
          "text": [
            "Number of Epoch = 13 - Average CCE:= 0.022650797526041665 - Average Accuracy:= 28.71166666666667%\n"
          ]
        },
        {
          "metadata": {
            "tags": null
          },
          "name": "stderr",
          "output_type": "stream",
          "text": [
            "\n",
            " 70%|███████   | 14/20 [00:45<00:20,  3.42s/it]\u001b[A"
          ]
        },
        {
          "metadata": {
            "tags": null
          },
          "name": "stdout",
          "output_type": "stream",
          "text": [
            "Number of Epoch = 14 - Average CCE:= 0.0226241455078125 - Average Accuracy:= 28.831666666666667%\n"
          ]
        },
        {
          "metadata": {
            "tags": null
          },
          "name": "stderr",
          "output_type": "stream",
          "text": [
            "\n",
            " 75%|███████▌  | 15/20 [00:48<00:16,  3.31s/it]\u001b[A"
          ]
        },
        {
          "metadata": {
            "tags": null
          },
          "name": "stdout",
          "output_type": "stream",
          "text": [
            "Number of Epoch = 15 - Average CCE:= 0.02261046142578125 - Average Accuracy:= 28.804999999999996%\n"
          ]
        },
        {
          "metadata": {
            "tags": null
          },
          "name": "stderr",
          "output_type": "stream",
          "text": [
            "\n",
            " 80%|████████  | 16/20 [00:51<00:12,  3.22s/it]\u001b[A"
          ]
        },
        {
          "metadata": {
            "tags": null
          },
          "name": "stdout",
          "output_type": "stream",
          "text": [
            "Number of Epoch = 16 - Average CCE:= 0.02261028035481771 - Average Accuracy:= 28.799999999999997%\n"
          ]
        },
        {
          "metadata": {
            "tags": null
          },
          "name": "stderr",
          "output_type": "stream",
          "text": [
            "\n",
            " 85%|████████▌ | 17/20 [00:54<00:09,  3.16s/it]\u001b[A"
          ]
        },
        {
          "metadata": {
            "tags": null
          },
          "name": "stdout",
          "output_type": "stream",
          "text": [
            "Number of Epoch = 17 - Average CCE:= 0.022585917154947916 - Average Accuracy:= 28.925%\n"
          ]
        },
        {
          "metadata": {
            "tags": null
          },
          "name": "stderr",
          "output_type": "stream",
          "text": [
            "\n",
            " 90%|█████████ | 18/20 [00:57<00:06,  3.12s/it]\u001b[A"
          ]
        },
        {
          "metadata": {
            "tags": null
          },
          "name": "stdout",
          "output_type": "stream",
          "text": [
            "Number of Epoch = 18 - Average CCE:= 0.02260493367513021 - Average Accuracy:= 28.884999999999998%\n"
          ]
        },
        {
          "metadata": {
            "tags": null
          },
          "name": "stderr",
          "output_type": "stream",
          "text": [
            "\n",
            " 95%|█████████▌| 19/20 [01:00<00:03,  3.09s/it]\u001b[A"
          ]
        },
        {
          "metadata": {
            "tags": null
          },
          "name": "stdout",
          "output_type": "stream",
          "text": [
            "Number of Epoch = 19 - Average CCE:= 0.022585109456380207 - Average Accuracy:= 28.951666666666664%\n"
          ]
        },
        {
          "metadata": {
            "tags": null
          },
          "name": "stderr",
          "output_type": "stream",
          "text": [
            "\n",
            "100%|██████████| 20/20 [01:03<00:00,  3.17s/it]"
          ]
        },
        {
          "metadata": {
            "tags": null
          },
          "name": "stdout",
          "output_type": "stream",
          "text": [
            "Number of Epoch = 20 - Average CCE:= 0.022569970703125 - Average Accuracy:= 28.996666666666666%\n",
            "\n",
            "Total time taken (in seconds): 63.34\n"
          ]
        },
        {
          "metadata": {
            "tags": null
          },
          "name": "stderr",
          "output_type": "stream",
          "text": [
            "\n",
            " 40%|████      | 4/10 [04:10<06:16, 62.71s/it]"
          ]
        },
        {
          "metadata": {
            "tags": null
          },
          "name": "stdout",
          "output_type": "stream",
          "text": [
            "Test CCE: 0.1150, Accuracy : 0.2883\n",
            "seed: 4027, Cross Entropy loss: 0.11504547119140625, Accuracy: 0.2883\n",
            "\n",
            "** Inference Iteration: 4 **\n",
            "\n",
            "#Training L2 model with seed 4747#\n"
          ]
        },
        {
          "metadata": {
            "tags": null
          },
          "name": "stderr",
          "output_type": "stream",
          "text": [
            "\n",
            "  0%|          | 0/20 [00:00<?, ?it/s]\u001b[A\n",
            "  5%|▌         | 1/20 [00:03<00:57,  3.03s/it]\u001b[A"
          ]
        },
        {
          "metadata": {
            "tags": null
          },
          "name": "stdout",
          "output_type": "stream",
          "text": [
            "Number of Epoch = 1 - Average CCE:= 0.025089453125 - Average Accuracy:= 20.893333333333334%\n"
          ]
        },
        {
          "metadata": {
            "tags": null
          },
          "name": "stderr",
          "output_type": "stream",
          "text": [
            "\n",
            " 10%|█         | 2/20 [00:06<00:54,  3.05s/it]\u001b[A"
          ]
        },
        {
          "metadata": {
            "tags": null
          },
          "name": "stdout",
          "output_type": "stream",
          "text": [
            "Number of Epoch = 2 - Average CCE:= 0.020107196044921876 - Average Accuracy:= 36.60166666666667%\n"
          ]
        },
        {
          "metadata": {
            "tags": null
          },
          "name": "stderr",
          "output_type": "stream",
          "text": [
            "\n",
            " 15%|█▌        | 3/20 [00:09<00:52,  3.07s/it]\u001b[A"
          ]
        },
        {
          "metadata": {
            "tags": null
          },
          "name": "stdout",
          "output_type": "stream",
          "text": [
            "Number of Epoch = 3 - Average CCE:= 0.017322314453125 - Average Accuracy:= 45.45166666666667%\n"
          ]
        },
        {
          "metadata": {
            "tags": null
          },
          "name": "stderr",
          "output_type": "stream",
          "text": [
            "\n",
            " 20%|██        | 4/20 [00:12<00:48,  3.06s/it]\u001b[A"
          ]
        },
        {
          "metadata": {
            "tags": null
          },
          "name": "stdout",
          "output_type": "stream",
          "text": [
            "Number of Epoch = 4 - Average CCE:= 0.016304989624023436 - Average Accuracy:= 48.568333333333335%\n"
          ]
        },
        {
          "metadata": {
            "tags": null
          },
          "name": "stderr",
          "output_type": "stream",
          "text": [
            "\n",
            " 25%|██▌       | 5/20 [00:15<00:45,  3.05s/it]\u001b[A"
          ]
        },
        {
          "metadata": {
            "tags": null
          },
          "name": "stdout",
          "output_type": "stream",
          "text": [
            "Number of Epoch = 5 - Average CCE:= 0.015425601196289062 - Average Accuracy:= 51.370000000000005%\n"
          ]
        },
        {
          "metadata": {
            "tags": null
          },
          "name": "stderr",
          "output_type": "stream",
          "text": [
            "\n",
            " 30%|███       | 6/20 [00:18<00:42,  3.05s/it]\u001b[A"
          ]
        },
        {
          "metadata": {
            "tags": null
          },
          "name": "stdout",
          "output_type": "stream",
          "text": [
            "Number of Epoch = 6 - Average CCE:= 0.015199440511067709 - Average Accuracy:= 52.083333333333336%\n"
          ]
        },
        {
          "metadata": {
            "tags": null
          },
          "name": "stderr",
          "output_type": "stream",
          "text": [
            "\n",
            " 35%|███▌      | 7/20 [00:21<00:39,  3.06s/it]\u001b[A"
          ]
        },
        {
          "metadata": {
            "tags": null
          },
          "name": "stdout",
          "output_type": "stream",
          "text": [
            "Number of Epoch = 7 - Average CCE:= 0.01483998311360677 - Average Accuracy:= 53.236666666666665%\n"
          ]
        },
        {
          "metadata": {
            "tags": null
          },
          "name": "stderr",
          "output_type": "stream",
          "text": [
            "\n",
            " 40%|████      | 8/20 [00:24<00:36,  3.04s/it]\u001b[A"
          ]
        },
        {
          "metadata": {
            "tags": null
          },
          "name": "stdout",
          "output_type": "stream",
          "text": [
            "Number of Epoch = 8 - Average CCE:= 0.014625295003255209 - Average Accuracy:= 53.89666666666667%\n"
          ]
        },
        {
          "metadata": {
            "tags": null
          },
          "name": "stderr",
          "output_type": "stream",
          "text": [
            "\n",
            " 45%|████▌     | 9/20 [00:27<00:33,  3.04s/it]\u001b[A"
          ]
        },
        {
          "metadata": {
            "tags": null
          },
          "name": "stdout",
          "output_type": "stream",
          "text": [
            "Number of Epoch = 9 - Average CCE:= 0.014545773315429687 - Average Accuracy:= 54.166666666666664%\n"
          ]
        },
        {
          "metadata": {
            "tags": null
          },
          "name": "stderr",
          "output_type": "stream",
          "text": [
            "\n",
            " 50%|█████     | 10/20 [00:30<00:30,  3.03s/it]\u001b[A"
          ]
        },
        {
          "metadata": {
            "tags": null
          },
          "name": "stdout",
          "output_type": "stream",
          "text": [
            "Number of Epoch = 10 - Average CCE:= 0.014546302286783854 - Average Accuracy:= 54.169999999999995%\n"
          ]
        },
        {
          "metadata": {
            "tags": null
          },
          "name": "stderr",
          "output_type": "stream",
          "text": [
            "\n",
            " 55%|█████▌    | 11/20 [00:33<00:27,  3.04s/it]\u001b[A"
          ]
        },
        {
          "metadata": {
            "tags": null
          },
          "name": "stdout",
          "output_type": "stream",
          "text": [
            "Number of Epoch = 11 - Average CCE:= 0.014383219401041666 - Average Accuracy:= 54.74%\n"
          ]
        },
        {
          "metadata": {
            "tags": null
          },
          "name": "stderr",
          "output_type": "stream",
          "text": [
            "\n",
            " 60%|██████    | 12/20 [00:36<00:24,  3.02s/it]\u001b[A"
          ]
        },
        {
          "metadata": {
            "tags": null
          },
          "name": "stdout",
          "output_type": "stream",
          "text": [
            "Number of Epoch = 12 - Average CCE:= 0.014364439900716145 - Average Accuracy:= 54.776666666666664%\n"
          ]
        },
        {
          "metadata": {
            "tags": null
          },
          "name": "stderr",
          "output_type": "stream",
          "text": [
            "\n",
            " 65%|██████▌   | 13/20 [00:39<00:21,  3.05s/it]\u001b[A"
          ]
        },
        {
          "metadata": {
            "tags": null
          },
          "name": "stdout",
          "output_type": "stream",
          "text": [
            "Number of Epoch = 13 - Average CCE:= 0.014428549194335937 - Average Accuracy:= 54.64%\n"
          ]
        },
        {
          "metadata": {
            "tags": null
          },
          "name": "stderr",
          "output_type": "stream",
          "text": [
            "\n",
            " 70%|███████   | 14/20 [00:42<00:18,  3.06s/it]\u001b[A"
          ]
        },
        {
          "metadata": {
            "tags": null
          },
          "name": "stdout",
          "output_type": "stream",
          "text": [
            "Number of Epoch = 14 - Average CCE:= 0.014402638753255209 - Average Accuracy:= 54.71333333333334%\n"
          ]
        },
        {
          "metadata": {
            "tags": null
          },
          "name": "stderr",
          "output_type": "stream",
          "text": [
            "\n",
            " 75%|███████▌  | 15/20 [00:45<00:15,  3.08s/it]\u001b[A"
          ]
        },
        {
          "metadata": {
            "tags": null
          },
          "name": "stdout",
          "output_type": "stream",
          "text": [
            "Number of Epoch = 15 - Average CCE:= 0.014335861206054687 - Average Accuracy:= 54.89333333333334%\n"
          ]
        },
        {
          "metadata": {
            "tags": null
          },
          "name": "stderr",
          "output_type": "stream",
          "text": [
            "\n",
            " 80%|████████  | 16/20 [00:48<00:12,  3.06s/it]\u001b[A"
          ]
        },
        {
          "metadata": {
            "tags": null
          },
          "name": "stdout",
          "output_type": "stream",
          "text": [
            "Number of Epoch = 16 - Average CCE:= 0.014239940388997396 - Average Accuracy:= 55.181666666666665%\n"
          ]
        },
        {
          "metadata": {
            "tags": null
          },
          "name": "stderr",
          "output_type": "stream",
          "text": [
            "\n",
            " 85%|████████▌ | 17/20 [00:51<00:09,  3.05s/it]\u001b[A"
          ]
        },
        {
          "metadata": {
            "tags": null
          },
          "name": "stdout",
          "output_type": "stream",
          "text": [
            "Number of Epoch = 17 - Average CCE:= 0.014279598999023438 - Average Accuracy:= 55.151666666666664%\n"
          ]
        },
        {
          "metadata": {
            "tags": null
          },
          "name": "stderr",
          "output_type": "stream",
          "text": [
            "\n",
            " 90%|█████████ | 18/20 [00:54<00:06,  3.05s/it]\u001b[A"
          ]
        },
        {
          "metadata": {
            "tags": null
          },
          "name": "stdout",
          "output_type": "stream",
          "text": [
            "Number of Epoch = 18 - Average CCE:= 0.014181689453125 - Average Accuracy:= 55.400000000000006%\n"
          ]
        },
        {
          "metadata": {
            "tags": null
          },
          "name": "stderr",
          "output_type": "stream",
          "text": [
            "\n",
            " 95%|█████████▌| 19/20 [00:57<00:03,  3.06s/it]\u001b[A"
          ]
        },
        {
          "metadata": {
            "tags": null
          },
          "name": "stdout",
          "output_type": "stream",
          "text": [
            "Number of Epoch = 19 - Average CCE:= 0.014145293172200521 - Average Accuracy:= 55.489999999999995%\n"
          ]
        },
        {
          "metadata": {
            "tags": null
          },
          "name": "stderr",
          "output_type": "stream",
          "text": [
            "\n",
            "100%|██████████| 20/20 [01:00<00:00,  3.05s/it]"
          ]
        },
        {
          "metadata": {
            "tags": null
          },
          "name": "stdout",
          "output_type": "stream",
          "text": [
            "Number of Epoch = 20 - Average CCE:= 0.014262530517578125 - Average Accuracy:= 55.22666666666667%\n",
            "\n",
            "Total time taken (in seconds): 60.99\n"
          ]
        },
        {
          "metadata": {
            "tags": null
          },
          "name": "stderr",
          "output_type": "stream",
          "text": [
            "\n",
            " 50%|█████     | 5/10 [05:12<05:11, 62.31s/it]"
          ]
        },
        {
          "metadata": {
            "tags": null
          },
          "name": "stdout",
          "output_type": "stream",
          "text": [
            "Test CCE: 0.0722, Accuracy : 0.5532\n",
            "seed: 4747, Cross Entropy loss: 0.07218370971679687, Accuracy: 0.5532\n",
            "\n",
            "** Inference Iteration: 5 **\n",
            "\n",
            "#Training L2 model with seed 4106#\n"
          ]
        },
        {
          "metadata": {
            "tags": null
          },
          "name": "stderr",
          "output_type": "stream",
          "text": [
            "\n",
            "  0%|          | 0/20 [00:00<?, ?it/s]\u001b[A\n",
            "  5%|▌         | 1/20 [00:03<00:58,  3.10s/it]\u001b[A"
          ]
        },
        {
          "metadata": {
            "tags": null
          },
          "name": "stdout",
          "output_type": "stream",
          "text": [
            "Number of Epoch = 1 - Average CCE:= 0.026323667399088542 - Average Accuracy:= 16.993333333333332%\n"
          ]
        },
        {
          "metadata": {
            "tags": null
          },
          "name": "stderr",
          "output_type": "stream",
          "text": [
            "\n",
            " 10%|█         | 2/20 [00:06<00:54,  3.04s/it]\u001b[A"
          ]
        },
        {
          "metadata": {
            "tags": null
          },
          "name": "stdout",
          "output_type": "stream",
          "text": [
            "Number of Epoch = 2 - Average CCE:= 0.023411796061197917 - Average Accuracy:= 26.25166666666667%\n"
          ]
        },
        {
          "metadata": {
            "tags": null
          },
          "name": "stderr",
          "output_type": "stream",
          "text": [
            "\n",
            " 15%|█▌        | 3/20 [00:09<00:51,  3.05s/it]\u001b[A"
          ]
        },
        {
          "metadata": {
            "tags": null
          },
          "name": "stdout",
          "output_type": "stream",
          "text": [
            "Number of Epoch = 3 - Average CCE:= 0.02286058553059896 - Average Accuracy:= 28.046666666666663%\n"
          ]
        },
        {
          "metadata": {
            "tags": null
          },
          "name": "stderr",
          "output_type": "stream",
          "text": [
            "\n",
            " 20%|██        | 4/20 [00:12<00:49,  3.06s/it]\u001b[A"
          ]
        },
        {
          "metadata": {
            "tags": null
          },
          "name": "stdout",
          "output_type": "stream",
          "text": [
            "Number of Epoch = 4 - Average CCE:= 0.02269984334309896 - Average Accuracy:= 28.541666666666664%\n"
          ]
        },
        {
          "metadata": {
            "tags": null
          },
          "name": "stderr",
          "output_type": "stream",
          "text": [
            "\n",
            " 25%|██▌       | 5/20 [00:15<00:45,  3.06s/it]\u001b[A"
          ]
        },
        {
          "metadata": {
            "tags": null
          },
          "name": "stdout",
          "output_type": "stream",
          "text": [
            "Number of Epoch = 5 - Average CCE:= 0.022255564371744793 - Average Accuracy:= 29.94%\n"
          ]
        },
        {
          "metadata": {
            "tags": null
          },
          "name": "stderr",
          "output_type": "stream",
          "text": [
            "\n",
            " 30%|███       | 6/20 [00:18<00:42,  3.06s/it]\u001b[A"
          ]
        },
        {
          "metadata": {
            "tags": null
          },
          "name": "stdout",
          "output_type": "stream",
          "text": [
            "Number of Epoch = 6 - Average CCE:= 0.020153369140625 - Average Accuracy:= 36.54%\n"
          ]
        },
        {
          "metadata": {
            "tags": null
          },
          "name": "stderr",
          "output_type": "stream",
          "text": [
            "\n",
            " 35%|███▌      | 7/20 [00:21<00:40,  3.08s/it]\u001b[A"
          ]
        },
        {
          "metadata": {
            "tags": null
          },
          "name": "stdout",
          "output_type": "stream",
          "text": [
            "Number of Epoch = 7 - Average CCE:= 0.01995311075846354 - Average Accuracy:= 37.19833333333333%\n"
          ]
        },
        {
          "metadata": {
            "tags": null
          },
          "name": "stderr",
          "output_type": "stream",
          "text": [
            "\n",
            " 40%|████      | 8/20 [00:24<00:36,  3.05s/it]\u001b[A"
          ]
        },
        {
          "metadata": {
            "tags": null
          },
          "name": "stdout",
          "output_type": "stream",
          "text": [
            "Number of Epoch = 8 - Average CCE:= 0.019847798665364583 - Average Accuracy:= 37.54833333333333%\n"
          ]
        },
        {
          "metadata": {
            "tags": null
          },
          "name": "stderr",
          "output_type": "stream",
          "text": [
            "\n",
            " 45%|████▌     | 9/20 [00:27<00:33,  3.03s/it]\u001b[A"
          ]
        },
        {
          "metadata": {
            "tags": null
          },
          "name": "stdout",
          "output_type": "stream",
          "text": [
            "Number of Epoch = 9 - Average CCE:= 0.019833170572916666 - Average Accuracy:= 37.64333333333333%\n"
          ]
        },
        {
          "metadata": {
            "tags": null
          },
          "name": "stderr",
          "output_type": "stream",
          "text": [
            "\n",
            " 50%|█████     | 10/20 [00:30<00:30,  3.03s/it]\u001b[A"
          ]
        },
        {
          "metadata": {
            "tags": null
          },
          "name": "stdout",
          "output_type": "stream",
          "text": [
            "Number of Epoch = 10 - Average CCE:= 0.019822833251953127 - Average Accuracy:= 37.65833333333333%\n"
          ]
        },
        {
          "metadata": {
            "tags": null
          },
          "name": "stderr",
          "output_type": "stream",
          "text": [
            "\n",
            " 55%|█████▌    | 11/20 [00:33<00:27,  3.04s/it]\u001b[A"
          ]
        },
        {
          "metadata": {
            "tags": null
          },
          "name": "stdout",
          "output_type": "stream",
          "text": [
            "Number of Epoch = 11 - Average CCE:= 0.01974529012044271 - Average Accuracy:= 37.88166666666667%\n"
          ]
        },
        {
          "metadata": {
            "tags": null
          },
          "name": "stderr",
          "output_type": "stream",
          "text": [
            "\n",
            " 60%|██████    | 12/20 [00:36<00:24,  3.05s/it]\u001b[A"
          ]
        },
        {
          "metadata": {
            "tags": null
          },
          "name": "stdout",
          "output_type": "stream",
          "text": [
            "Number of Epoch = 12 - Average CCE:= 0.019709503173828125 - Average Accuracy:= 37.983333333333334%\n"
          ]
        },
        {
          "metadata": {
            "tags": null
          },
          "name": "stderr",
          "output_type": "stream",
          "text": [
            "\n",
            " 65%|██████▌   | 13/20 [00:39<00:21,  3.07s/it]\u001b[A"
          ]
        },
        {
          "metadata": {
            "tags": null
          },
          "name": "stdout",
          "output_type": "stream",
          "text": [
            "Number of Epoch = 13 - Average CCE:= 0.019727313232421877 - Average Accuracy:= 37.93%\n"
          ]
        },
        {
          "metadata": {
            "tags": null
          },
          "name": "stderr",
          "output_type": "stream",
          "text": [
            "\n",
            " 70%|███████   | 14/20 [00:42<00:18,  3.07s/it]\u001b[A"
          ]
        },
        {
          "metadata": {
            "tags": null
          },
          "name": "stdout",
          "output_type": "stream",
          "text": [
            "Number of Epoch = 14 - Average CCE:= 0.019685420735677084 - Average Accuracy:= 38.06333333333333%\n"
          ]
        },
        {
          "metadata": {
            "tags": null
          },
          "name": "stderr",
          "output_type": "stream",
          "text": [
            "\n",
            " 75%|███████▌  | 15/20 [00:45<00:15,  3.06s/it]\u001b[A"
          ]
        },
        {
          "metadata": {
            "tags": null
          },
          "name": "stdout",
          "output_type": "stream",
          "text": [
            "Number of Epoch = 15 - Average CCE:= 0.019679046630859374 - Average Accuracy:= 38.105%\n"
          ]
        },
        {
          "metadata": {
            "tags": null
          },
          "name": "stderr",
          "output_type": "stream",
          "text": [
            "\n",
            " 80%|████████  | 16/20 [00:48<00:12,  3.07s/it]\u001b[A"
          ]
        },
        {
          "metadata": {
            "tags": null
          },
          "name": "stdout",
          "output_type": "stream",
          "text": [
            "Number of Epoch = 16 - Average CCE:= 0.019659480794270833 - Average Accuracy:= 38.218333333333334%\n"
          ]
        },
        {
          "metadata": {
            "tags": null
          },
          "name": "stderr",
          "output_type": "stream",
          "text": [
            "\n",
            " 85%|████████▌ | 17/20 [00:52<00:09,  3.08s/it]\u001b[A"
          ]
        },
        {
          "metadata": {
            "tags": null
          },
          "name": "stdout",
          "output_type": "stream",
          "text": [
            "Number of Epoch = 17 - Average CCE:= 0.019633829752604165 - Average Accuracy:= 38.19833333333334%\n"
          ]
        },
        {
          "metadata": {
            "tags": null
          },
          "name": "stderr",
          "output_type": "stream",
          "text": [
            "\n",
            " 90%|█████████ | 18/20 [00:55<00:06,  3.09s/it]\u001b[A"
          ]
        },
        {
          "metadata": {
            "tags": null
          },
          "name": "stdout",
          "output_type": "stream",
          "text": [
            "Number of Epoch = 18 - Average CCE:= 0.01966528523763021 - Average Accuracy:= 38.13333333333333%\n"
          ]
        },
        {
          "metadata": {
            "tags": null
          },
          "name": "stderr",
          "output_type": "stream",
          "text": [
            "\n",
            " 95%|█████████▌| 19/20 [00:58<00:03,  3.10s/it]\u001b[A"
          ]
        },
        {
          "metadata": {
            "tags": null
          },
          "name": "stdout",
          "output_type": "stream",
          "text": [
            "Number of Epoch = 19 - Average CCE:= 0.019668290201822917 - Average Accuracy:= 38.17166666666667%\n"
          ]
        },
        {
          "metadata": {
            "tags": null
          },
          "name": "stderr",
          "output_type": "stream",
          "text": [
            "\n",
            "100%|██████████| 20/20 [01:01<00:00,  3.07s/it]"
          ]
        },
        {
          "metadata": {
            "tags": null
          },
          "name": "stdout",
          "output_type": "stream",
          "text": [
            "Number of Epoch = 20 - Average CCE:= 0.019594565836588543 - Average Accuracy:= 38.32833333333333%\n",
            "\n",
            "Total time taken (in seconds): 61.41\n"
          ]
        },
        {
          "metadata": {
            "tags": null
          },
          "name": "stderr",
          "output_type": "stream",
          "text": [
            "\n",
            " 60%|██████    | 6/10 [06:14<04:08, 62.22s/it]"
          ]
        },
        {
          "metadata": {
            "tags": null
          },
          "name": "stdout",
          "output_type": "stream",
          "text": [
            "Test CCE: 0.1001, Accuracy : 0.3809\n",
            "seed: 4106, Cross Entropy loss: 0.10011902465820313, Accuracy: 0.3809\n",
            "\n",
            "** Inference Iteration: 6 **\n",
            "\n",
            "#Training L2 model with seed 4079#\n"
          ]
        },
        {
          "metadata": {
            "tags": null
          },
          "name": "stderr",
          "output_type": "stream",
          "text": [
            "\n",
            "  0%|          | 0/20 [00:00<?, ?it/s]\u001b[A\n",
            "  5%|▌         | 1/20 [00:03<00:58,  3.08s/it]\u001b[A"
          ]
        },
        {
          "metadata": {
            "tags": null
          },
          "name": "stdout",
          "output_type": "stream",
          "text": [
            "Number of Epoch = 1 - Average CCE:= 0.022519136555989583 - Average Accuracy:= 28.78%\n"
          ]
        },
        {
          "metadata": {
            "tags": null
          },
          "name": "stderr",
          "output_type": "stream",
          "text": [
            "\n",
            " 10%|█         | 2/20 [00:06<00:55,  3.08s/it]\u001b[A"
          ]
        },
        {
          "metadata": {
            "tags": null
          },
          "name": "stdout",
          "output_type": "stream",
          "text": [
            "Number of Epoch = 2 - Average CCE:= 0.020825199381510416 - Average Accuracy:= 34.34166666666666%\n"
          ]
        },
        {
          "metadata": {
            "tags": null
          },
          "name": "stderr",
          "output_type": "stream",
          "text": [
            "\n",
            " 15%|█▌        | 3/20 [00:09<00:52,  3.08s/it]\u001b[A"
          ]
        },
        {
          "metadata": {
            "tags": null
          },
          "name": "stdout",
          "output_type": "stream",
          "text": [
            "Number of Epoch = 3 - Average CCE:= 0.020360357666015624 - Average Accuracy:= 35.82%\n"
          ]
        },
        {
          "metadata": {
            "tags": null
          },
          "name": "stderr",
          "output_type": "stream",
          "text": [
            "\n",
            " 20%|██        | 4/20 [00:12<00:49,  3.09s/it]\u001b[A"
          ]
        },
        {
          "metadata": {
            "tags": null
          },
          "name": "stdout",
          "output_type": "stream",
          "text": [
            "Number of Epoch = 4 - Average CCE:= 0.020173779296875 - Average Accuracy:= 36.47833333333333%\n"
          ]
        },
        {
          "metadata": {
            "tags": null
          },
          "name": "stderr",
          "output_type": "stream",
          "text": [
            "\n",
            " 25%|██▌       | 5/20 [00:15<00:46,  3.09s/it]\u001b[A"
          ]
        },
        {
          "metadata": {
            "tags": null
          },
          "name": "stdout",
          "output_type": "stream",
          "text": [
            "Number of Epoch = 5 - Average CCE:= 0.02006290283203125 - Average Accuracy:= 36.785000000000004%\n"
          ]
        },
        {
          "metadata": {
            "tags": null
          },
          "name": "stderr",
          "output_type": "stream",
          "text": [
            "\n",
            " 30%|███       | 6/20 [00:18<00:42,  3.06s/it]\u001b[A"
          ]
        },
        {
          "metadata": {
            "tags": null
          },
          "name": "stdout",
          "output_type": "stream",
          "text": [
            "Number of Epoch = 6 - Average CCE:= 0.020006892903645834 - Average Accuracy:= 37.05%\n"
          ]
        },
        {
          "metadata": {
            "tags": null
          },
          "name": "stderr",
          "output_type": "stream",
          "text": [
            "\n",
            " 35%|███▌      | 7/20 [00:21<00:39,  3.06s/it]\u001b[A"
          ]
        },
        {
          "metadata": {
            "tags": null
          },
          "name": "stdout",
          "output_type": "stream",
          "text": [
            "Number of Epoch = 7 - Average CCE:= 0.019924774169921874 - Average Accuracy:= 37.281666666666666%\n"
          ]
        },
        {
          "metadata": {
            "tags": null
          },
          "name": "stderr",
          "output_type": "stream",
          "text": [
            "\n",
            " 40%|████      | 8/20 [00:24<00:36,  3.06s/it]\u001b[A"
          ]
        },
        {
          "metadata": {
            "tags": null
          },
          "name": "stdout",
          "output_type": "stream",
          "text": [
            "Number of Epoch = 8 - Average CCE:= 0.019879323323567708 - Average Accuracy:= 37.406666666666666%\n"
          ]
        },
        {
          "metadata": {
            "tags": null
          },
          "name": "stderr",
          "output_type": "stream",
          "text": [
            "\n",
            " 45%|████▌     | 9/20 [00:27<00:33,  3.05s/it]\u001b[A"
          ]
        },
        {
          "metadata": {
            "tags": null
          },
          "name": "stdout",
          "output_type": "stream",
          "text": [
            "Number of Epoch = 9 - Average CCE:= 0.019840519205729167 - Average Accuracy:= 37.605%\n"
          ]
        },
        {
          "metadata": {
            "tags": null
          },
          "name": "stderr",
          "output_type": "stream",
          "text": [
            "\n",
            " 50%|█████     | 10/20 [00:30<00:30,  3.05s/it]\u001b[A"
          ]
        },
        {
          "metadata": {
            "tags": null
          },
          "name": "stdout",
          "output_type": "stream",
          "text": [
            "Number of Epoch = 10 - Average CCE:= 0.019776167805989585 - Average Accuracy:= 37.70666666666666%\n"
          ]
        },
        {
          "metadata": {
            "tags": null
          },
          "name": "stderr",
          "output_type": "stream",
          "text": [
            "\n",
            " 55%|█████▌    | 11/20 [00:33<00:27,  3.05s/it]\u001b[A"
          ]
        },
        {
          "metadata": {
            "tags": null
          },
          "name": "stdout",
          "output_type": "stream",
          "text": [
            "Number of Epoch = 11 - Average CCE:= 0.018389615885416665 - Average Accuracy:= 42.08166666666667%\n"
          ]
        },
        {
          "metadata": {
            "tags": null
          },
          "name": "stderr",
          "output_type": "stream",
          "text": [
            "\n",
            " 60%|██████    | 12/20 [00:36<00:24,  3.05s/it]\u001b[A"
          ]
        },
        {
          "metadata": {
            "tags": null
          },
          "name": "stdout",
          "output_type": "stream",
          "text": [
            "Number of Epoch = 12 - Average CCE:= 0.017192759195963542 - Average Accuracy:= 45.89833333333333%\n"
          ]
        },
        {
          "metadata": {
            "tags": null
          },
          "name": "stderr",
          "output_type": "stream",
          "text": [
            "\n",
            " 65%|██████▌   | 13/20 [00:39<00:21,  3.04s/it]\u001b[A"
          ]
        },
        {
          "metadata": {
            "tags": null
          },
          "name": "stdout",
          "output_type": "stream",
          "text": [
            "Number of Epoch = 13 - Average CCE:= 0.01710805460611979 - Average Accuracy:= 46.16166666666667%\n"
          ]
        },
        {
          "metadata": {
            "tags": null
          },
          "name": "stderr",
          "output_type": "stream",
          "text": [
            "\n",
            " 70%|███████   | 14/20 [00:42<00:18,  3.04s/it]\u001b[A"
          ]
        },
        {
          "metadata": {
            "tags": null
          },
          "name": "stdout",
          "output_type": "stream",
          "text": [
            "Number of Epoch = 14 - Average CCE:= 0.017037223307291665 - Average Accuracy:= 46.36666666666667%\n"
          ]
        },
        {
          "metadata": {
            "tags": null
          },
          "name": "stderr",
          "output_type": "stream",
          "text": [
            "\n",
            " 75%|███████▌  | 15/20 [00:45<00:15,  3.04s/it]\u001b[A"
          ]
        },
        {
          "metadata": {
            "tags": null
          },
          "name": "stdout",
          "output_type": "stream",
          "text": [
            "Number of Epoch = 15 - Average CCE:= 0.016951800537109374 - Average Accuracy:= 46.61%\n"
          ]
        },
        {
          "metadata": {
            "tags": null
          },
          "name": "stderr",
          "output_type": "stream",
          "text": [
            "\n",
            " 80%|████████  | 16/20 [00:48<00:12,  3.04s/it]\u001b[A"
          ]
        },
        {
          "metadata": {
            "tags": null
          },
          "name": "stdout",
          "output_type": "stream",
          "text": [
            "Number of Epoch = 16 - Average CCE:= 0.017043207804361978 - Average Accuracy:= 46.33166666666666%\n"
          ]
        },
        {
          "metadata": {
            "tags": null
          },
          "name": "stderr",
          "output_type": "stream",
          "text": [
            "\n",
            " 85%|████████▌ | 17/20 [00:51<00:09,  3.04s/it]\u001b[A"
          ]
        },
        {
          "metadata": {
            "tags": null
          },
          "name": "stdout",
          "output_type": "stream",
          "text": [
            "Number of Epoch = 17 - Average CCE:= 0.016868879191080727 - Average Accuracy:= 46.894999999999996%\n"
          ]
        },
        {
          "metadata": {
            "tags": null
          },
          "name": "stderr",
          "output_type": "stream",
          "text": [
            "\n",
            " 90%|█████████ | 18/20 [00:54<00:06,  3.04s/it]\u001b[A"
          ]
        },
        {
          "metadata": {
            "tags": null
          },
          "name": "stdout",
          "output_type": "stream",
          "text": [
            "Number of Epoch = 18 - Average CCE:= 0.016874129231770833 - Average Accuracy:= 46.92666666666667%\n"
          ]
        },
        {
          "metadata": {
            "tags": null
          },
          "name": "stderr",
          "output_type": "stream",
          "text": [
            "\n",
            " 95%|█████████▌| 19/20 [00:57<00:03,  3.04s/it]\u001b[A"
          ]
        },
        {
          "metadata": {
            "tags": null
          },
          "name": "stdout",
          "output_type": "stream",
          "text": [
            "Number of Epoch = 19 - Average CCE:= 0.016821129353841145 - Average Accuracy:= 47.115%\n"
          ]
        },
        {
          "metadata": {
            "tags": null
          },
          "name": "stderr",
          "output_type": "stream",
          "text": [
            "\n",
            "100%|██████████| 20/20 [01:01<00:00,  3.05s/it]"
          ]
        },
        {
          "metadata": {
            "tags": null
          },
          "name": "stdout",
          "output_type": "stream",
          "text": [
            "Number of Epoch = 20 - Average CCE:= 0.01679490966796875 - Average Accuracy:= 47.12%\n",
            "\n",
            "Total time taken (in seconds): 61.08\n"
          ]
        },
        {
          "metadata": {
            "tags": null
          },
          "name": "stderr",
          "output_type": "stream",
          "text": [
            "\n",
            " 70%|███████   | 7/10 [07:15<03:06, 62.05s/it]"
          ]
        },
        {
          "metadata": {
            "tags": null
          },
          "name": "stdout",
          "output_type": "stream",
          "text": [
            "Test CCE: 0.0852, Accuracy : 0.4725\n",
            "seed: 4079, Cross Entropy loss: 0.08523603515625, Accuracy: 0.4725\n",
            "\n",
            "** Inference Iteration: 7 **\n",
            "\n",
            "#Training L2 model with seed 4285#\n"
          ]
        },
        {
          "metadata": {
            "tags": null
          },
          "name": "stderr",
          "output_type": "stream",
          "text": [
            "\n",
            "  0%|          | 0/20 [00:00<?, ?it/s]\u001b[A\n",
            "  5%|▌         | 1/20 [00:03<00:57,  3.01s/it]\u001b[A"
          ]
        },
        {
          "metadata": {
            "tags": null
          },
          "name": "stdout",
          "output_type": "stream",
          "text": [
            "Number of Epoch = 1 - Average CCE:= 0.025873291015625 - Average Accuracy:= 18.553333333333335%\n"
          ]
        },
        {
          "metadata": {
            "tags": null
          },
          "name": "stderr",
          "output_type": "stream",
          "text": [
            "\n",
            " 10%|█         | 2/20 [00:06<00:54,  3.03s/it]\u001b[A"
          ]
        },
        {
          "metadata": {
            "tags": null
          },
          "name": "stdout",
          "output_type": "stream",
          "text": [
            "Number of Epoch = 2 - Average CCE:= 0.024515582275390625 - Average Accuracy:= 22.785%\n"
          ]
        },
        {
          "metadata": {
            "tags": null
          },
          "name": "stderr",
          "output_type": "stream",
          "text": [
            "\n",
            " 15%|█▌        | 3/20 [00:09<00:51,  3.03s/it]\u001b[A"
          ]
        },
        {
          "metadata": {
            "tags": null
          },
          "name": "stdout",
          "output_type": "stream",
          "text": [
            "Number of Epoch = 3 - Average CCE:= 0.023517604573567708 - Average Accuracy:= 25.983333333333334%\n"
          ]
        },
        {
          "metadata": {
            "tags": null
          },
          "name": "stderr",
          "output_type": "stream",
          "text": [
            "\n",
            " 20%|██        | 4/20 [00:12<00:48,  3.05s/it]\u001b[A"
          ]
        },
        {
          "metadata": {
            "tags": null
          },
          "name": "stdout",
          "output_type": "stream",
          "text": [
            "Number of Epoch = 4 - Average CCE:= 0.0232249755859375 - Average Accuracy:= 26.913333333333334%\n"
          ]
        },
        {
          "metadata": {
            "tags": null
          },
          "name": "stderr",
          "output_type": "stream",
          "text": [
            "\n",
            " 25%|██▌       | 5/20 [00:15<00:45,  3.05s/it]\u001b[A"
          ]
        },
        {
          "metadata": {
            "tags": null
          },
          "name": "stdout",
          "output_type": "stream",
          "text": [
            "Number of Epoch = 5 - Average CCE:= 0.023099139404296875 - Average Accuracy:= 27.276666666666667%\n"
          ]
        },
        {
          "metadata": {
            "tags": null
          },
          "name": "stderr",
          "output_type": "stream",
          "text": [
            "\n",
            " 30%|███       | 6/20 [00:18<00:42,  3.04s/it]\u001b[A"
          ]
        },
        {
          "metadata": {
            "tags": null
          },
          "name": "stdout",
          "output_type": "stream",
          "text": [
            "Number of Epoch = 6 - Average CCE:= 0.023034783935546876 - Average Accuracy:= 27.495000000000005%\n"
          ]
        },
        {
          "metadata": {
            "tags": null
          },
          "name": "stderr",
          "output_type": "stream",
          "text": [
            "\n",
            " 35%|███▌      | 7/20 [00:21<00:39,  3.04s/it]\u001b[A"
          ]
        },
        {
          "metadata": {
            "tags": null
          },
          "name": "stdout",
          "output_type": "stream",
          "text": [
            "Number of Epoch = 7 - Average CCE:= 0.022986798095703125 - Average Accuracy:= 27.694999999999997%\n"
          ]
        },
        {
          "metadata": {
            "tags": null
          },
          "name": "stderr",
          "output_type": "stream",
          "text": [
            "\n",
            " 40%|████      | 8/20 [00:24<00:36,  3.04s/it]\u001b[A"
          ]
        },
        {
          "metadata": {
            "tags": null
          },
          "name": "stdout",
          "output_type": "stream",
          "text": [
            "Number of Epoch = 8 - Average CCE:= 0.0229209228515625 - Average Accuracy:= 27.855%\n"
          ]
        },
        {
          "metadata": {
            "tags": null
          },
          "name": "stderr",
          "output_type": "stream",
          "text": [
            "\n",
            " 45%|████▌     | 9/20 [00:27<00:33,  3.05s/it]\u001b[A"
          ]
        },
        {
          "metadata": {
            "tags": null
          },
          "name": "stdout",
          "output_type": "stream",
          "text": [
            "Number of Epoch = 9 - Average CCE:= 0.022865716552734373 - Average Accuracy:= 28.05666666666667%\n"
          ]
        },
        {
          "metadata": {
            "tags": null
          },
          "name": "stderr",
          "output_type": "stream",
          "text": [
            "\n",
            " 50%|█████     | 10/20 [00:32<00:37,  3.77s/it]\u001b[A"
          ]
        },
        {
          "metadata": {
            "tags": null
          },
          "name": "stdout",
          "output_type": "stream",
          "text": [
            "Number of Epoch = 10 - Average CCE:= 0.022828029378255208 - Average Accuracy:= 28.123333333333335%\n"
          ]
        },
        {
          "metadata": {
            "tags": null
          },
          "name": "stderr",
          "output_type": "stream",
          "text": [
            "\n",
            " 55%|█████▌    | 11/20 [00:35<00:31,  3.53s/it]\u001b[A"
          ]
        },
        {
          "metadata": {
            "tags": null
          },
          "name": "stdout",
          "output_type": "stream",
          "text": [
            "Number of Epoch = 11 - Average CCE:= 0.022827140299479166 - Average Accuracy:= 28.16%\n"
          ]
        },
        {
          "metadata": {
            "tags": null
          },
          "name": "stderr",
          "output_type": "stream",
          "text": [
            "\n",
            " 60%|██████    | 12/20 [00:38<00:26,  3.37s/it]\u001b[A"
          ]
        },
        {
          "metadata": {
            "tags": null
          },
          "name": "stdout",
          "output_type": "stream",
          "text": [
            "Number of Epoch = 12 - Average CCE:= 0.02277655029296875 - Average Accuracy:= 28.326666666666668%\n"
          ]
        },
        {
          "metadata": {
            "tags": null
          },
          "name": "stderr",
          "output_type": "stream",
          "text": [
            "\n",
            " 65%|██████▌   | 13/20 [00:41<00:22,  3.27s/it]\u001b[A"
          ]
        },
        {
          "metadata": {
            "tags": null
          },
          "name": "stdout",
          "output_type": "stream",
          "text": [
            "Number of Epoch = 13 - Average CCE:= 0.02276269327799479 - Average Accuracy:= 28.349999999999998%\n"
          ]
        },
        {
          "metadata": {
            "tags": null
          },
          "name": "stderr",
          "output_type": "stream",
          "text": [
            "\n",
            " 70%|███████   | 14/20 [00:44<00:19,  3.19s/it]\u001b[A"
          ]
        },
        {
          "metadata": {
            "tags": null
          },
          "name": "stdout",
          "output_type": "stream",
          "text": [
            "Number of Epoch = 14 - Average CCE:= 0.02275706583658854 - Average Accuracy:= 28.418333333333333%\n"
          ]
        },
        {
          "metadata": {
            "tags": null
          },
          "name": "stderr",
          "output_type": "stream",
          "text": [
            "\n",
            " 75%|███████▌  | 15/20 [00:47<00:15,  3.13s/it]\u001b[A"
          ]
        },
        {
          "metadata": {
            "tags": null
          },
          "name": "stdout",
          "output_type": "stream",
          "text": [
            "Number of Epoch = 15 - Average CCE:= 0.022734000651041666 - Average Accuracy:= 28.48%\n"
          ]
        },
        {
          "metadata": {
            "tags": null
          },
          "name": "stderr",
          "output_type": "stream",
          "text": [
            "\n",
            " 80%|████████  | 16/20 [00:50<00:12,  3.11s/it]\u001b[A"
          ]
        },
        {
          "metadata": {
            "tags": null
          },
          "name": "stdout",
          "output_type": "stream",
          "text": [
            "Number of Epoch = 16 - Average CCE:= 0.022874515787760417 - Average Accuracy:= 28.083333333333332%\n"
          ]
        },
        {
          "metadata": {
            "tags": null
          },
          "name": "stderr",
          "output_type": "stream",
          "text": [
            "\n",
            " 85%|████████▌ | 17/20 [00:53<00:09,  3.10s/it]\u001b[A"
          ]
        },
        {
          "metadata": {
            "tags": null
          },
          "name": "stdout",
          "output_type": "stream",
          "text": [
            "Number of Epoch = 17 - Average CCE:= 0.022700592041015624 - Average Accuracy:= 28.57%\n"
          ]
        },
        {
          "metadata": {
            "tags": null
          },
          "name": "stderr",
          "output_type": "stream",
          "text": [
            "\n",
            " 90%|█████████ | 18/20 [00:57<00:06,  3.10s/it]\u001b[A"
          ]
        },
        {
          "metadata": {
            "tags": null
          },
          "name": "stdout",
          "output_type": "stream",
          "text": [
            "Number of Epoch = 18 - Average CCE:= 0.022698811848958333 - Average Accuracy:= 28.55666666666667%\n"
          ]
        },
        {
          "metadata": {
            "tags": null
          },
          "name": "stderr",
          "output_type": "stream",
          "text": [
            "\n",
            " 95%|█████████▌| 19/20 [01:00<00:03,  3.10s/it]\u001b[A"
          ]
        },
        {
          "metadata": {
            "tags": null
          },
          "name": "stdout",
          "output_type": "stream",
          "text": [
            "Number of Epoch = 19 - Average CCE:= 0.02270865275065104 - Average Accuracy:= 28.576666666666668%\n"
          ]
        },
        {
          "metadata": {
            "tags": null
          },
          "name": "stderr",
          "output_type": "stream",
          "text": [
            "\n",
            "100%|██████████| 20/20 [01:03<00:00,  3.16s/it]"
          ]
        },
        {
          "metadata": {
            "tags": null
          },
          "name": "stdout",
          "output_type": "stream",
          "text": [
            "Number of Epoch = 20 - Average CCE:= 0.022672119140625 - Average Accuracy:= 28.678333333333335%\n",
            "\n",
            "Total time taken (in seconds): 63.20\n"
          ]
        },
        {
          "metadata": {
            "tags": null
          },
          "name": "stderr",
          "output_type": "stream",
          "text": [
            "\n",
            " 80%|████████  | 8/10 [08:19<02:05, 62.62s/it]"
          ]
        },
        {
          "metadata": {
            "tags": null
          },
          "name": "stdout",
          "output_type": "stream",
          "text": [
            "Test CCE: 0.1157, Accuracy : 0.2836\n",
            "seed: 4285, Cross Entropy loss: 0.11567591552734376, Accuracy: 0.2836\n",
            "\n",
            "** Inference Iteration: 8 **\n",
            "\n",
            "#Training L2 model with seed 4648#\n"
          ]
        },
        {
          "metadata": {
            "tags": null
          },
          "name": "stderr",
          "output_type": "stream",
          "text": [
            "\n",
            "  0%|          | 0/20 [00:00<?, ?it/s]\u001b[A\n",
            "  5%|▌         | 1/20 [00:03<00:57,  3.01s/it]\u001b[A"
          ]
        },
        {
          "metadata": {
            "tags": null
          },
          "name": "stdout",
          "output_type": "stream",
          "text": [
            "Number of Epoch = 1 - Average CCE:= 0.026362664794921876 - Average Accuracy:= 16.99%\n"
          ]
        },
        {
          "metadata": {
            "tags": null
          },
          "name": "stderr",
          "output_type": "stream",
          "text": [
            "\n",
            " 10%|█         | 2/20 [00:05<00:53,  2.99s/it]\u001b[A"
          ]
        },
        {
          "metadata": {
            "tags": null
          },
          "name": "stdout",
          "output_type": "stream",
          "text": [
            "Number of Epoch = 2 - Average CCE:= 0.025681901041666667 - Average Accuracy:= 19.175%\n"
          ]
        },
        {
          "metadata": {
            "tags": null
          },
          "name": "stderr",
          "output_type": "stream",
          "text": [
            "\n",
            " 15%|█▌        | 3/20 [00:09<00:51,  3.01s/it]\u001b[A"
          ]
        },
        {
          "metadata": {
            "tags": null
          },
          "name": "stdout",
          "output_type": "stream",
          "text": [
            "Number of Epoch = 3 - Average CCE:= 0.025604280598958334 - Average Accuracy:= 19.383333333333333%\n"
          ]
        },
        {
          "metadata": {
            "tags": null
          },
          "name": "stderr",
          "output_type": "stream",
          "text": [
            "\n",
            " 20%|██        | 4/20 [00:11<00:47,  2.99s/it]\u001b[A"
          ]
        },
        {
          "metadata": {
            "tags": null
          },
          "name": "stdout",
          "output_type": "stream",
          "text": [
            "Number of Epoch = 4 - Average CCE:= 0.02484157918294271 - Average Accuracy:= 21.671666666666667%\n"
          ]
        },
        {
          "metadata": {
            "tags": null
          },
          "name": "stderr",
          "output_type": "stream",
          "text": [
            "\n",
            " 25%|██▌       | 5/20 [00:14<00:44,  3.00s/it]\u001b[A"
          ]
        },
        {
          "metadata": {
            "tags": null
          },
          "name": "stdout",
          "output_type": "stream",
          "text": [
            "Number of Epoch = 5 - Average CCE:= 0.023137666829427084 - Average Accuracy:= 27.08833333333333%\n"
          ]
        },
        {
          "metadata": {
            "tags": null
          },
          "name": "stderr",
          "output_type": "stream",
          "text": [
            "\n",
            " 30%|███       | 6/20 [00:17<00:41,  2.99s/it]\u001b[A"
          ]
        },
        {
          "metadata": {
            "tags": null
          },
          "name": "stdout",
          "output_type": "stream",
          "text": [
            "Number of Epoch = 6 - Average CCE:= 0.022794537353515627 - Average Accuracy:= 28.226666666666667%\n"
          ]
        },
        {
          "metadata": {
            "tags": null
          },
          "name": "stderr",
          "output_type": "stream",
          "text": [
            "\n",
            " 35%|███▌      | 7/20 [00:20<00:38,  3.00s/it]\u001b[A"
          ]
        },
        {
          "metadata": {
            "tags": null
          },
          "name": "stdout",
          "output_type": "stream",
          "text": [
            "Number of Epoch = 7 - Average CCE:= 0.022615903727213543 - Average Accuracy:= 28.77%\n"
          ]
        },
        {
          "metadata": {
            "tags": null
          },
          "name": "stderr",
          "output_type": "stream",
          "text": [
            "\n",
            " 40%|████      | 8/20 [00:23<00:36,  3.00s/it]\u001b[A"
          ]
        },
        {
          "metadata": {
            "tags": null
          },
          "name": "stdout",
          "output_type": "stream",
          "text": [
            "Number of Epoch = 8 - Average CCE:= 0.022350811767578124 - Average Accuracy:= 29.563333333333336%\n"
          ]
        },
        {
          "metadata": {
            "tags": null
          },
          "name": "stderr",
          "output_type": "stream",
          "text": [
            "\n",
            " 45%|████▌     | 9/20 [00:26<00:32,  2.99s/it]\u001b[A"
          ]
        },
        {
          "metadata": {
            "tags": null
          },
          "name": "stdout",
          "output_type": "stream",
          "text": [
            "Number of Epoch = 9 - Average CCE:= 0.02181727294921875 - Average Accuracy:= 31.264999999999997%\n"
          ]
        },
        {
          "metadata": {
            "tags": null
          },
          "name": "stderr",
          "output_type": "stream",
          "text": [
            "\n",
            " 50%|█████     | 10/20 [00:29<00:30,  3.00s/it]\u001b[A"
          ]
        },
        {
          "metadata": {
            "tags": null
          },
          "name": "stdout",
          "output_type": "stream",
          "text": [
            "Number of Epoch = 10 - Average CCE:= 0.02141314900716146 - Average Accuracy:= 32.525%\n"
          ]
        },
        {
          "metadata": {
            "tags": null
          },
          "name": "stderr",
          "output_type": "stream",
          "text": [
            "\n",
            " 55%|█████▌    | 11/20 [00:32<00:27,  3.00s/it]\u001b[A"
          ]
        },
        {
          "metadata": {
            "tags": null
          },
          "name": "stdout",
          "output_type": "stream",
          "text": [
            "Number of Epoch = 11 - Average CCE:= 0.01988637898763021 - Average Accuracy:= 37.245%\n"
          ]
        },
        {
          "metadata": {
            "tags": null
          },
          "name": "stderr",
          "output_type": "stream",
          "text": [
            "\n",
            " 60%|██████    | 12/20 [00:35<00:23,  3.00s/it]\u001b[A"
          ]
        },
        {
          "metadata": {
            "tags": null
          },
          "name": "stdout",
          "output_type": "stream",
          "text": [
            "Number of Epoch = 12 - Average CCE:= 0.018892425537109375 - Average Accuracy:= 40.47833333333333%\n"
          ]
        },
        {
          "metadata": {
            "tags": null
          },
          "name": "stderr",
          "output_type": "stream",
          "text": [
            "\n",
            " 65%|██████▌   | 13/20 [00:39<00:21,  3.01s/it]\u001b[A"
          ]
        },
        {
          "metadata": {
            "tags": null
          },
          "name": "stdout",
          "output_type": "stream",
          "text": [
            "Number of Epoch = 13 - Average CCE:= 0.018681048583984373 - Average Accuracy:= 41.105000000000004%\n"
          ]
        },
        {
          "metadata": {
            "tags": null
          },
          "name": "stderr",
          "output_type": "stream",
          "text": [
            "\n",
            " 70%|███████   | 14/20 [00:42<00:18,  3.00s/it]\u001b[A"
          ]
        },
        {
          "metadata": {
            "tags": null
          },
          "name": "stdout",
          "output_type": "stream",
          "text": [
            "Number of Epoch = 14 - Average CCE:= 0.01862230224609375 - Average Accuracy:= 41.28%\n"
          ]
        },
        {
          "metadata": {
            "tags": null
          },
          "name": "stderr",
          "output_type": "stream",
          "text": [
            "\n",
            " 75%|███████▌  | 15/20 [00:45<00:15,  3.00s/it]\u001b[A"
          ]
        },
        {
          "metadata": {
            "tags": null
          },
          "name": "stdout",
          "output_type": "stream",
          "text": [
            "Number of Epoch = 15 - Average CCE:= 0.01842188517252604 - Average Accuracy:= 41.925000000000004%\n"
          ]
        },
        {
          "metadata": {
            "tags": null
          },
          "name": "stderr",
          "output_type": "stream",
          "text": [
            "\n",
            " 80%|████████  | 16/20 [00:47<00:11,  3.00s/it]\u001b[A"
          ]
        },
        {
          "metadata": {
            "tags": null
          },
          "name": "stdout",
          "output_type": "stream",
          "text": [
            "Number of Epoch = 16 - Average CCE:= 0.018497605387369793 - Average Accuracy:= 41.75666666666666%\n"
          ]
        },
        {
          "metadata": {
            "tags": null
          },
          "name": "stderr",
          "output_type": "stream",
          "text": [
            "\n",
            " 85%|████████▌ | 17/20 [00:50<00:08,  2.99s/it]\u001b[A"
          ]
        },
        {
          "metadata": {
            "tags": null
          },
          "name": "stdout",
          "output_type": "stream",
          "text": [
            "Number of Epoch = 17 - Average CCE:= 0.018345389811197918 - Average Accuracy:= 42.178333333333335%\n"
          ]
        },
        {
          "metadata": {
            "tags": null
          },
          "name": "stderr",
          "output_type": "stream",
          "text": [
            "\n",
            " 90%|█████████ | 18/20 [00:53<00:05,  2.99s/it]\u001b[A"
          ]
        },
        {
          "metadata": {
            "tags": null
          },
          "name": "stdout",
          "output_type": "stream",
          "text": [
            "Number of Epoch = 18 - Average CCE:= 0.018295792643229166 - Average Accuracy:= 42.358333333333334%\n"
          ]
        },
        {
          "metadata": {
            "tags": null
          },
          "name": "stderr",
          "output_type": "stream",
          "text": [
            "\n",
            " 95%|█████████▌| 19/20 [00:56<00:02,  2.99s/it]\u001b[A"
          ]
        },
        {
          "metadata": {
            "tags": null
          },
          "name": "stdout",
          "output_type": "stream",
          "text": [
            "Number of Epoch = 19 - Average CCE:= 0.018219049072265625 - Average Accuracy:= 42.61833333333334%\n"
          ]
        },
        {
          "metadata": {
            "tags": null
          },
          "name": "stderr",
          "output_type": "stream",
          "text": [
            "\n",
            "100%|██████████| 20/20 [00:59<00:00,  3.00s/it]"
          ]
        },
        {
          "metadata": {
            "tags": null
          },
          "name": "stdout",
          "output_type": "stream",
          "text": [
            "Number of Epoch = 20 - Average CCE:= 0.018229215494791666 - Average Accuracy:= 42.63166666666667%\n",
            "\n",
            "Total time taken (in seconds): 60.01\n"
          ]
        },
        {
          "metadata": {
            "tags": null
          },
          "name": "stderr",
          "output_type": "stream",
          "text": [
            "\n",
            " 90%|█████████ | 9/10 [09:20<01:01, 61.99s/it]"
          ]
        },
        {
          "metadata": {
            "tags": null
          },
          "name": "stdout",
          "output_type": "stream",
          "text": [
            "Test CCE: 0.1023, Accuracy : 0.3672\n",
            "seed: 4648, Cross Entropy loss: 0.10225344848632813, Accuracy: 0.3672\n",
            "\n",
            "** Inference Iteration: 9 **\n",
            "\n",
            "#Training L2 model with seed 4912#\n"
          ]
        },
        {
          "metadata": {
            "tags": null
          },
          "name": "stderr",
          "output_type": "stream",
          "text": [
            "\n",
            "  0%|          | 0/20 [00:00<?, ?it/s]\u001b[A\n",
            "  5%|▌         | 1/20 [00:02<00:56,  2.97s/it]\u001b[A"
          ]
        },
        {
          "metadata": {
            "tags": null
          },
          "name": "stdout",
          "output_type": "stream",
          "text": [
            "Number of Epoch = 1 - Average CCE:= 0.028642093912760416 - Average Accuracy:= 9.855%\n"
          ]
        },
        {
          "metadata": {
            "tags": null
          },
          "name": "stderr",
          "output_type": "stream",
          "text": [
            "\n",
            " 10%|█         | 2/20 [00:05<00:53,  2.98s/it]\u001b[A"
          ]
        },
        {
          "metadata": {
            "tags": null
          },
          "name": "stdout",
          "output_type": "stream",
          "text": [
            "Number of Epoch = 2 - Average CCE:= 0.027298828125 - Average Accuracy:= 13.976666666666668%\n"
          ]
        },
        {
          "metadata": {
            "tags": null
          },
          "name": "stderr",
          "output_type": "stream",
          "text": [
            "\n",
            " 15%|█▌        | 3/20 [00:08<00:51,  3.00s/it]\u001b[A"
          ]
        },
        {
          "metadata": {
            "tags": null
          },
          "name": "stdout",
          "output_type": "stream",
          "text": [
            "Number of Epoch = 3 - Average CCE:= 0.02319832763671875 - Average Accuracy:= 26.963333333333335%\n"
          ]
        },
        {
          "metadata": {
            "tags": null
          },
          "name": "stderr",
          "output_type": "stream",
          "text": [
            "\n",
            " 20%|██        | 4/20 [00:12<00:48,  3.01s/it]\u001b[A"
          ]
        },
        {
          "metadata": {
            "tags": null
          },
          "name": "stdout",
          "output_type": "stream",
          "text": [
            "Number of Epoch = 4 - Average CCE:= 0.023030240885416668 - Average Accuracy:= 27.548333333333336%\n"
          ]
        },
        {
          "metadata": {
            "tags": null
          },
          "name": "stderr",
          "output_type": "stream",
          "text": [
            "\n",
            " 25%|██▌       | 5/20 [00:14<00:44,  3.00s/it]\u001b[A"
          ]
        },
        {
          "metadata": {
            "tags": null
          },
          "name": "stdout",
          "output_type": "stream",
          "text": [
            "Number of Epoch = 5 - Average CCE:= 0.0229701171875 - Average Accuracy:= 27.766666666666666%\n"
          ]
        },
        {
          "metadata": {
            "tags": null
          },
          "name": "stderr",
          "output_type": "stream",
          "text": [
            "\n",
            " 30%|███       | 6/20 [00:17<00:42,  3.00s/it]\u001b[A"
          ]
        },
        {
          "metadata": {
            "tags": null
          },
          "name": "stdout",
          "output_type": "stream",
          "text": [
            "Number of Epoch = 6 - Average CCE:= 0.022947208658854166 - Average Accuracy:= 27.839999999999996%\n"
          ]
        },
        {
          "metadata": {
            "tags": null
          },
          "name": "stderr",
          "output_type": "stream",
          "text": [
            "\n",
            " 35%|███▌      | 7/20 [00:20<00:38,  3.00s/it]\u001b[A"
          ]
        },
        {
          "metadata": {
            "tags": null
          },
          "name": "stdout",
          "output_type": "stream",
          "text": [
            "Number of Epoch = 7 - Average CCE:= 0.022940370686848958 - Average Accuracy:= 27.853333333333335%\n"
          ]
        },
        {
          "metadata": {
            "tags": null
          },
          "name": "stderr",
          "output_type": "stream",
          "text": [
            "\n",
            " 40%|████      | 8/20 [00:23<00:35,  2.99s/it]\u001b[A"
          ]
        },
        {
          "metadata": {
            "tags": null
          },
          "name": "stdout",
          "output_type": "stream",
          "text": [
            "Number of Epoch = 8 - Average CCE:= 0.022888590494791666 - Average Accuracy:= 28.008333333333336%\n"
          ]
        },
        {
          "metadata": {
            "tags": null
          },
          "name": "stderr",
          "output_type": "stream",
          "text": [
            "\n",
            " 45%|████▌     | 9/20 [00:26<00:32,  2.99s/it]\u001b[A"
          ]
        },
        {
          "metadata": {
            "tags": null
          },
          "name": "stdout",
          "output_type": "stream",
          "text": [
            "Number of Epoch = 9 - Average CCE:= 0.022950929768880208 - Average Accuracy:= 27.756666666666668%\n"
          ]
        },
        {
          "metadata": {
            "tags": null
          },
          "name": "stderr",
          "output_type": "stream",
          "text": [
            "\n",
            " 50%|█████     | 10/20 [00:29<00:29,  3.00s/it]\u001b[A"
          ]
        },
        {
          "metadata": {
            "tags": null
          },
          "name": "stdout",
          "output_type": "stream",
          "text": [
            "Number of Epoch = 10 - Average CCE:= 0.022881245930989582 - Average Accuracy:= 28.050000000000004%\n"
          ]
        },
        {
          "metadata": {
            "tags": null
          },
          "name": "stderr",
          "output_type": "stream",
          "text": [
            "\n",
            " 55%|█████▌    | 11/20 [00:32<00:27,  3.00s/it]\u001b[A"
          ]
        },
        {
          "metadata": {
            "tags": null
          },
          "name": "stdout",
          "output_type": "stream",
          "text": [
            "Number of Epoch = 11 - Average CCE:= 0.022841141764322916 - Average Accuracy:= 28.111666666666668%\n"
          ]
        },
        {
          "metadata": {
            "tags": null
          },
          "name": "stderr",
          "output_type": "stream",
          "text": [
            "\n",
            " 60%|██████    | 12/20 [00:36<00:24,  3.01s/it]\u001b[A"
          ]
        },
        {
          "metadata": {
            "tags": null
          },
          "name": "stdout",
          "output_type": "stream",
          "text": [
            "Number of Epoch = 12 - Average CCE:= 0.02283222859700521 - Average Accuracy:= 28.15166666666667%\n"
          ]
        },
        {
          "metadata": {
            "tags": null
          },
          "name": "stderr",
          "output_type": "stream",
          "text": [
            "\n",
            " 65%|██████▌   | 13/20 [00:39<00:21,  3.01s/it]\u001b[A"
          ]
        },
        {
          "metadata": {
            "tags": null
          },
          "name": "stdout",
          "output_type": "stream",
          "text": [
            "Number of Epoch = 13 - Average CCE:= 0.022810911051432292 - Average Accuracy:= 28.21666666666667%\n"
          ]
        },
        {
          "metadata": {
            "tags": null
          },
          "name": "stderr",
          "output_type": "stream",
          "text": [
            "\n",
            " 70%|███████   | 14/20 [00:42<00:18,  3.01s/it]\u001b[A"
          ]
        },
        {
          "metadata": {
            "tags": null
          },
          "name": "stdout",
          "output_type": "stream",
          "text": [
            "Number of Epoch = 14 - Average CCE:= 0.02285672607421875 - Average Accuracy:= 28.15166666666667%\n"
          ]
        },
        {
          "metadata": {
            "tags": null
          },
          "name": "stderr",
          "output_type": "stream",
          "text": [
            "\n",
            " 75%|███████▌  | 15/20 [00:45<00:15,  3.01s/it]\u001b[A"
          ]
        },
        {
          "metadata": {
            "tags": null
          },
          "name": "stdout",
          "output_type": "stream",
          "text": [
            "Number of Epoch = 15 - Average CCE:= 0.022813983154296873 - Average Accuracy:= 28.225%\n"
          ]
        },
        {
          "metadata": {
            "tags": null
          },
          "name": "stderr",
          "output_type": "stream",
          "text": [
            "\n",
            " 80%|████████  | 16/20 [00:48<00:12,  3.00s/it]\u001b[A"
          ]
        },
        {
          "metadata": {
            "tags": null
          },
          "name": "stdout",
          "output_type": "stream",
          "text": [
            "Number of Epoch = 16 - Average CCE:= 0.022831746419270833 - Average Accuracy:= 28.208333333333336%\n"
          ]
        },
        {
          "metadata": {
            "tags": null
          },
          "name": "stderr",
          "output_type": "stream",
          "text": [
            "\n",
            " 85%|████████▌ | 17/20 [00:51<00:08,  3.00s/it]\u001b[A"
          ]
        },
        {
          "metadata": {
            "tags": null
          },
          "name": "stdout",
          "output_type": "stream",
          "text": [
            "Number of Epoch = 17 - Average CCE:= 0.02281007080078125 - Average Accuracy:= 28.28333333333333%\n"
          ]
        },
        {
          "metadata": {
            "tags": null
          },
          "name": "stderr",
          "output_type": "stream",
          "text": [
            "\n",
            " 90%|█████████ | 18/20 [00:54<00:06,  3.01s/it]\u001b[A"
          ]
        },
        {
          "metadata": {
            "tags": null
          },
          "name": "stdout",
          "output_type": "stream",
          "text": [
            "Number of Epoch = 18 - Average CCE:= 0.022790936279296875 - Average Accuracy:= 28.296666666666663%\n"
          ]
        },
        {
          "metadata": {
            "tags": null
          },
          "name": "stderr",
          "output_type": "stream",
          "text": [
            "\n",
            " 95%|█████████▌| 19/20 [00:57<00:02,  3.00s/it]\u001b[A"
          ]
        },
        {
          "metadata": {
            "tags": null
          },
          "name": "stdout",
          "output_type": "stream",
          "text": [
            "Number of Epoch = 19 - Average CCE:= 0.022802475992838543 - Average Accuracy:= 28.33%\n"
          ]
        },
        {
          "metadata": {
            "tags": null
          },
          "name": "stderr",
          "output_type": "stream",
          "text": [
            "\n",
            "100%|██████████| 20/20 [01:00<00:00,  3.00s/it]"
          ]
        },
        {
          "metadata": {
            "tags": null
          },
          "name": "stdout",
          "output_type": "stream",
          "text": [
            "Number of Epoch = 20 - Average CCE:= 0.02281778361002604 - Average Accuracy:= 28.268333333333334%\n",
            "\n",
            "Total time taken (in seconds): 60.04\n"
          ]
        },
        {
          "metadata": {
            "tags": null
          },
          "name": "stderr",
          "output_type": "stream",
          "text": [
            "\n",
            "100%|██████████| 10/10 [10:20<00:00, 62.09s/it]\n"
          ]
        },
        {
          "metadata": {
            "tags": null
          },
          "name": "stdout",
          "output_type": "stream",
          "text": [
            "Test CCE: 0.1165, Accuracy : 0.2795\n",
            "seed: 4912, Cross Entropy loss: 0.1164573974609375, Accuracy: 0.2795\n",
            "## END: Current Model: L2##\n",
            "Current inference results: {'default': {'cce_list': [0.11522347412109375, 0.08467548828125, 0.08576741333007812, 0.1145487060546875, 0.08642153930664062, 0.09960307006835938, 0.07544818725585938, 0.104943408203125, 0.1073142578125, 0.11834266357421876], 'acc_list': [0.2849, 0.4742, 0.4646, 0.2888, 0.4625, 0.3818, 0.5296, 0.3482, 0.333, 0.2655]}, 'L2': {'cce_list': [0.11575765380859375, 0.08069005737304688, 0.09145341186523437, 0.11504547119140625, 0.07218370971679687, 0.10011902465820313, 0.08523603515625, 0.11567591552734376, 0.10225344848632813, 0.1164573974609375], 'acc_list': [0.2839, 0.5004, 0.4335, 0.2883, 0.5532, 0.3809, 0.4725, 0.2836, 0.3672, 0.2795]}, 'dropout': {}}\n",
            "## START: Current Model: dropout ##\n"
          ]
        },
        {
          "metadata": {
            "tags": null
          },
          "name": "stderr",
          "output_type": "stream",
          "text": [
            "\r  0%|          | 0/10 [00:00<?, ?it/s]"
          ]
        },
        {
          "metadata": {
            "tags": null
          },
          "name": "stdout",
          "output_type": "stream",
          "text": [
            "\n",
            "** Inference Iteration: 0 **\n",
            "\n",
            "#Training dropout model with seed 4225#\n"
          ]
        },
        {
          "metadata": {
            "tags": null
          },
          "name": "stderr",
          "output_type": "stream",
          "text": [
            "\n",
            "  0%|          | 0/20 [00:00<?, ?it/s]\u001b[A\n",
            "  5%|▌         | 1/20 [00:02<00:52,  2.77s/it]\u001b[A"
          ]
        },
        {
          "metadata": {
            "tags": null
          },
          "name": "stdout",
          "output_type": "stream",
          "text": [
            "Number of Epoch = 1 - Average CCE:= 0.026189249674479168 - Average Accuracy:= 17.303333333333335%\n"
          ]
        },
        {
          "metadata": {
            "tags": null
          },
          "name": "stderr",
          "output_type": "stream",
          "text": [
            "\n",
            " 10%|█         | 2/20 [00:05<00:49,  2.77s/it]\u001b[A"
          ]
        },
        {
          "metadata": {
            "tags": null
          },
          "name": "stdout",
          "output_type": "stream",
          "text": [
            "Number of Epoch = 2 - Average CCE:= 0.024024005126953126 - Average Accuracy:= 24.085%\n"
          ]
        },
        {
          "metadata": {
            "tags": null
          },
          "name": "stderr",
          "output_type": "stream",
          "text": [
            "\n",
            " 15%|█▌        | 3/20 [00:08<00:47,  2.79s/it]\u001b[A"
          ]
        },
        {
          "metadata": {
            "tags": null
          },
          "name": "stdout",
          "output_type": "stream",
          "text": [
            "Number of Epoch = 3 - Average CCE:= 0.023303755696614584 - Average Accuracy:= 26.415%\n"
          ]
        },
        {
          "metadata": {
            "tags": null
          },
          "name": "stderr",
          "output_type": "stream",
          "text": [
            "\n",
            " 20%|██        | 4/20 [00:11<00:44,  2.79s/it]\u001b[A"
          ]
        },
        {
          "metadata": {
            "tags": null
          },
          "name": "stdout",
          "output_type": "stream",
          "text": [
            "Number of Epoch = 4 - Average CCE:= 0.023133465576171876 - Average Accuracy:= 26.91166666666667%\n"
          ]
        },
        {
          "metadata": {
            "tags": null
          },
          "name": "stderr",
          "output_type": "stream",
          "text": [
            "\n",
            " 25%|██▌       | 5/20 [00:13<00:41,  2.78s/it]\u001b[A"
          ]
        },
        {
          "metadata": {
            "tags": null
          },
          "name": "stdout",
          "output_type": "stream",
          "text": [
            "Number of Epoch = 5 - Average CCE:= 0.023016695149739582 - Average Accuracy:= 27.30666666666667%\n"
          ]
        },
        {
          "metadata": {
            "tags": null
          },
          "name": "stderr",
          "output_type": "stream",
          "text": [
            "\n",
            " 30%|███       | 6/20 [00:16<00:38,  2.78s/it]\u001b[A"
          ]
        },
        {
          "metadata": {
            "tags": null
          },
          "name": "stdout",
          "output_type": "stream",
          "text": [
            "Number of Epoch = 6 - Average CCE:= 0.02288175862630208 - Average Accuracy:= 27.753333333333334%\n"
          ]
        },
        {
          "metadata": {
            "tags": null
          },
          "name": "stderr",
          "output_type": "stream",
          "text": [
            "\n",
            " 35%|███▌      | 7/20 [00:19<00:36,  2.77s/it]\u001b[A"
          ]
        },
        {
          "metadata": {
            "tags": null
          },
          "name": "stdout",
          "output_type": "stream",
          "text": [
            "Number of Epoch = 7 - Average CCE:= 0.02276227823893229 - Average Accuracy:= 28.17%\n"
          ]
        },
        {
          "metadata": {
            "tags": null
          },
          "name": "stderr",
          "output_type": "stream",
          "text": [
            "\n",
            " 40%|████      | 8/20 [00:22<00:33,  2.78s/it]\u001b[A"
          ]
        },
        {
          "metadata": {
            "tags": null
          },
          "name": "stdout",
          "output_type": "stream",
          "text": [
            "Number of Epoch = 8 - Average CCE:= 0.021790865071614582 - Average Accuracy:= 31.145%\n"
          ]
        },
        {
          "metadata": {
            "tags": null
          },
          "name": "stderr",
          "output_type": "stream",
          "text": [
            "\n",
            " 45%|████▌     | 9/20 [00:24<00:30,  2.77s/it]\u001b[A"
          ]
        },
        {
          "metadata": {
            "tags": null
          },
          "name": "stdout",
          "output_type": "stream",
          "text": [
            "Number of Epoch = 9 - Average CCE:= 0.019951637776692708 - Average Accuracy:= 36.876666666666665%\n"
          ]
        },
        {
          "metadata": {
            "tags": null
          },
          "name": "stderr",
          "output_type": "stream",
          "text": [
            "\n",
            " 50%|█████     | 10/20 [00:27<00:27,  2.76s/it]\u001b[A"
          ]
        },
        {
          "metadata": {
            "tags": null
          },
          "name": "stdout",
          "output_type": "stream",
          "text": [
            "Number of Epoch = 10 - Average CCE:= 0.019305548095703125 - Average Accuracy:= 38.91166666666667%\n"
          ]
        },
        {
          "metadata": {
            "tags": null
          },
          "name": "stderr",
          "output_type": "stream",
          "text": [
            "\n",
            " 55%|█████▌    | 11/20 [00:30<00:24,  2.77s/it]\u001b[A"
          ]
        },
        {
          "metadata": {
            "tags": null
          },
          "name": "stdout",
          "output_type": "stream",
          "text": [
            "Number of Epoch = 11 - Average CCE:= 0.018875921630859376 - Average Accuracy:= 40.318333333333335%\n"
          ]
        },
        {
          "metadata": {
            "tags": null
          },
          "name": "stderr",
          "output_type": "stream",
          "text": [
            "\n",
            " 60%|██████    | 12/20 [00:33<00:22,  2.76s/it]\u001b[A"
          ]
        },
        {
          "metadata": {
            "tags": null
          },
          "name": "stdout",
          "output_type": "stream",
          "text": [
            "Number of Epoch = 12 - Average CCE:= 0.01863764851888021 - Average Accuracy:= 41.10666666666667%\n"
          ]
        },
        {
          "metadata": {
            "tags": null
          },
          "name": "stderr",
          "output_type": "stream",
          "text": [
            "\n",
            " 65%|██████▌   | 13/20 [00:35<00:19,  2.75s/it]\u001b[A"
          ]
        },
        {
          "metadata": {
            "tags": null
          },
          "name": "stdout",
          "output_type": "stream",
          "text": [
            "Number of Epoch = 13 - Average CCE:= 0.01837950439453125 - Average Accuracy:= 41.83166666666666%\n"
          ]
        },
        {
          "metadata": {
            "tags": null
          },
          "name": "stderr",
          "output_type": "stream",
          "text": [
            "\n",
            " 70%|███████   | 14/20 [00:38<00:16,  2.77s/it]\u001b[A"
          ]
        },
        {
          "metadata": {
            "tags": null
          },
          "name": "stdout",
          "output_type": "stream",
          "text": [
            "Number of Epoch = 14 - Average CCE:= 0.01816641845703125 - Average Accuracy:= 42.45166666666667%\n"
          ]
        },
        {
          "metadata": {
            "tags": null
          },
          "name": "stderr",
          "output_type": "stream",
          "text": [
            "\n",
            " 75%|███████▌  | 15/20 [00:41<00:13,  2.77s/it]\u001b[A"
          ]
        },
        {
          "metadata": {
            "tags": null
          },
          "name": "stdout",
          "output_type": "stream",
          "text": [
            "Number of Epoch = 15 - Average CCE:= 0.018045688883463543 - Average Accuracy:= 42.87833333333334%\n"
          ]
        },
        {
          "metadata": {
            "tags": null
          },
          "name": "stderr",
          "output_type": "stream",
          "text": [
            "\n",
            " 80%|████████  | 16/20 [00:44<00:11,  2.77s/it]\u001b[A"
          ]
        },
        {
          "metadata": {
            "tags": null
          },
          "name": "stdout",
          "output_type": "stream",
          "text": [
            "Number of Epoch = 16 - Average CCE:= 0.017981608072916665 - Average Accuracy:= 43.08833333333333%\n"
          ]
        },
        {
          "metadata": {
            "tags": null
          },
          "name": "stderr",
          "output_type": "stream",
          "text": [
            "\n",
            " 85%|████████▌ | 17/20 [00:47<00:08,  2.77s/it]\u001b[A"
          ]
        },
        {
          "metadata": {
            "tags": null
          },
          "name": "stdout",
          "output_type": "stream",
          "text": [
            "Number of Epoch = 17 - Average CCE:= 0.01795193074544271 - Average Accuracy:= 43.303333333333335%\n"
          ]
        },
        {
          "metadata": {
            "tags": null
          },
          "name": "stderr",
          "output_type": "stream",
          "text": [
            "\n",
            " 90%|█████████ | 18/20 [00:49<00:05,  2.77s/it]\u001b[A"
          ]
        },
        {
          "metadata": {
            "tags": null
          },
          "name": "stdout",
          "output_type": "stream",
          "text": [
            "Number of Epoch = 18 - Average CCE:= 0.01786442667643229 - Average Accuracy:= 43.49666666666667%\n"
          ]
        },
        {
          "metadata": {
            "tags": null
          },
          "name": "stderr",
          "output_type": "stream",
          "text": [
            "\n",
            " 95%|█████████▌| 19/20 [00:52<00:02,  2.77s/it]\u001b[A"
          ]
        },
        {
          "metadata": {
            "tags": null
          },
          "name": "stdout",
          "output_type": "stream",
          "text": [
            "Number of Epoch = 19 - Average CCE:= 0.01779451904296875 - Average Accuracy:= 43.745%\n"
          ]
        },
        {
          "metadata": {
            "tags": null
          },
          "name": "stderr",
          "output_type": "stream",
          "text": [
            "\n",
            "100%|██████████| 20/20 [00:55<00:00,  2.77s/it]"
          ]
        },
        {
          "metadata": {
            "tags": null
          },
          "name": "stdout",
          "output_type": "stream",
          "text": [
            "Number of Epoch = 20 - Average CCE:= 0.01772835693359375 - Average Accuracy:= 43.95333333333333%\n",
            "\n",
            "Total time taken (in seconds): 55.39\n"
          ]
        },
        {
          "metadata": {
            "tags": null
          },
          "name": "stderr",
          "output_type": "stream",
          "text": [
            "\n",
            " 10%|█         | 1/10 [00:55<08:23, 55.98s/it]"
          ]
        },
        {
          "metadata": {
            "tags": null
          },
          "name": "stdout",
          "output_type": "stream",
          "text": [
            "Test CCE: 0.0901, Accuracy : 0.4389\n",
            "seed: 4225, Cross Entropy loss: 0.09012791137695313, Accuracy: 0.4389\n",
            "\n",
            "** Inference Iteration: 1 **\n",
            "\n",
            "#Training dropout model with seed 4555#\n"
          ]
        },
        {
          "metadata": {
            "tags": null
          },
          "name": "stderr",
          "output_type": "stream",
          "text": [
            "\n",
            "  0%|          | 0/20 [00:00<?, ?it/s]\u001b[A\n",
            "  5%|▌         | 1/20 [00:02<00:52,  2.75s/it]\u001b[A"
          ]
        },
        {
          "metadata": {
            "tags": null
          },
          "name": "stdout",
          "output_type": "stream",
          "text": [
            "Number of Epoch = 1 - Average CCE:= 0.02372025146484375 - Average Accuracy:= 24.925%\n"
          ]
        },
        {
          "metadata": {
            "tags": null
          },
          "name": "stderr",
          "output_type": "stream",
          "text": [
            "\n",
            " 10%|█         | 2/20 [00:05<00:49,  2.76s/it]\u001b[A"
          ]
        },
        {
          "metadata": {
            "tags": null
          },
          "name": "stdout",
          "output_type": "stream",
          "text": [
            "Number of Epoch = 2 - Average CCE:= 0.020257602945963543 - Average Accuracy:= 35.79833333333333%\n"
          ]
        },
        {
          "metadata": {
            "tags": null
          },
          "name": "stderr",
          "output_type": "stream",
          "text": [
            "\n",
            " 15%|█▌        | 3/20 [00:08<00:46,  2.76s/it]\u001b[A"
          ]
        },
        {
          "metadata": {
            "tags": null
          },
          "name": "stdout",
          "output_type": "stream",
          "text": [
            "Number of Epoch = 3 - Average CCE:= 0.018414398193359376 - Average Accuracy:= 41.60666666666666%\n"
          ]
        },
        {
          "metadata": {
            "tags": null
          },
          "name": "stderr",
          "output_type": "stream",
          "text": [
            "\n",
            " 20%|██        | 4/20 [00:11<00:44,  2.76s/it]\u001b[A"
          ]
        },
        {
          "metadata": {
            "tags": null
          },
          "name": "stdout",
          "output_type": "stream",
          "text": [
            "Number of Epoch = 4 - Average CCE:= 0.016931857299804686 - Average Accuracy:= 46.24333333333333%\n"
          ]
        },
        {
          "metadata": {
            "tags": null
          },
          "name": "stderr",
          "output_type": "stream",
          "text": [
            "\n",
            " 25%|██▌       | 5/20 [00:13<00:41,  2.77s/it]\u001b[A"
          ]
        },
        {
          "metadata": {
            "tags": null
          },
          "name": "stdout",
          "output_type": "stream",
          "text": [
            "Number of Epoch = 5 - Average CCE:= 0.015416911824544272 - Average Accuracy:= 51.05%\n"
          ]
        },
        {
          "metadata": {
            "tags": null
          },
          "name": "stderr",
          "output_type": "stream",
          "text": [
            "\n",
            " 30%|███       | 6/20 [00:16<00:38,  2.77s/it]\u001b[A"
          ]
        },
        {
          "metadata": {
            "tags": null
          },
          "name": "stdout",
          "output_type": "stream",
          "text": [
            "Number of Epoch = 6 - Average CCE:= 0.013439275105794271 - Average Accuracy:= 57.21166666666667%\n"
          ]
        },
        {
          "metadata": {
            "tags": null
          },
          "name": "stderr",
          "output_type": "stream",
          "text": [
            "\n",
            " 35%|███▌      | 7/20 [00:19<00:36,  2.78s/it]\u001b[A"
          ]
        },
        {
          "metadata": {
            "tags": null
          },
          "name": "stdout",
          "output_type": "stream",
          "text": [
            "Number of Epoch = 7 - Average CCE:= 0.012398681640625 - Average Accuracy:= 60.55833333333334%\n"
          ]
        },
        {
          "metadata": {
            "tags": null
          },
          "name": "stderr",
          "output_type": "stream",
          "text": [
            "\n",
            " 40%|████      | 8/20 [00:22<00:33,  2.77s/it]\u001b[A"
          ]
        },
        {
          "metadata": {
            "tags": null
          },
          "name": "stdout",
          "output_type": "stream",
          "text": [
            "Number of Epoch = 8 - Average CCE:= 0.01174245096842448 - Average Accuracy:= 62.641666666666666%\n"
          ]
        },
        {
          "metadata": {
            "tags": null
          },
          "name": "stderr",
          "output_type": "stream",
          "text": [
            "\n",
            " 45%|████▌     | 9/20 [00:24<00:30,  2.77s/it]\u001b[A"
          ]
        },
        {
          "metadata": {
            "tags": null
          },
          "name": "stdout",
          "output_type": "stream",
          "text": [
            "Number of Epoch = 9 - Average CCE:= 0.01140610860188802 - Average Accuracy:= 63.77166666666667%\n"
          ]
        },
        {
          "metadata": {
            "tags": null
          },
          "name": "stderr",
          "output_type": "stream",
          "text": [
            "\n",
            " 50%|█████     | 10/20 [00:27<00:27,  2.77s/it]\u001b[A"
          ]
        },
        {
          "metadata": {
            "tags": null
          },
          "name": "stdout",
          "output_type": "stream",
          "text": [
            "Number of Epoch = 10 - Average CCE:= 0.011233038330078125 - Average Accuracy:= 64.31666666666666%\n"
          ]
        },
        {
          "metadata": {
            "tags": null
          },
          "name": "stderr",
          "output_type": "stream",
          "text": [
            "\n",
            " 55%|█████▌    | 11/20 [00:30<00:24,  2.76s/it]\u001b[A"
          ]
        },
        {
          "metadata": {
            "tags": null
          },
          "name": "stdout",
          "output_type": "stream",
          "text": [
            "Number of Epoch = 11 - Average CCE:= 0.011000734456380208 - Average Accuracy:= 65.02833333333334%\n"
          ]
        },
        {
          "metadata": {
            "tags": null
          },
          "name": "stderr",
          "output_type": "stream",
          "text": [
            "\n",
            " 60%|██████    | 12/20 [00:33<00:22,  2.76s/it]\u001b[A"
          ]
        },
        {
          "metadata": {
            "tags": null
          },
          "name": "stdout",
          "output_type": "stream",
          "text": [
            "Number of Epoch = 12 - Average CCE:= 0.010811390177408854 - Average Accuracy:= 65.61833333333334%\n"
          ]
        },
        {
          "metadata": {
            "tags": null
          },
          "name": "stderr",
          "output_type": "stream",
          "text": [
            "\n",
            " 65%|██████▌   | 13/20 [00:35<00:19,  2.76s/it]\u001b[A"
          ]
        },
        {
          "metadata": {
            "tags": null
          },
          "name": "stdout",
          "output_type": "stream",
          "text": [
            "Number of Epoch = 13 - Average CCE:= 0.010756982421875 - Average Accuracy:= 65.78500000000001%\n"
          ]
        },
        {
          "metadata": {
            "tags": null
          },
          "name": "stderr",
          "output_type": "stream",
          "text": [
            "\n",
            " 70%|███████   | 14/20 [00:38<00:16,  2.76s/it]\u001b[A"
          ]
        },
        {
          "metadata": {
            "tags": null
          },
          "name": "stdout",
          "output_type": "stream",
          "text": [
            "Number of Epoch = 14 - Average CCE:= 0.01058076171875 - Average Accuracy:= 66.30666666666667%\n"
          ]
        },
        {
          "metadata": {
            "tags": null
          },
          "name": "stderr",
          "output_type": "stream",
          "text": [
            "\n",
            " 75%|███████▌  | 15/20 [00:41<00:13,  2.75s/it]\u001b[A"
          ]
        },
        {
          "metadata": {
            "tags": null
          },
          "name": "stdout",
          "output_type": "stream",
          "text": [
            "Number of Epoch = 15 - Average CCE:= 0.010474622599283855 - Average Accuracy:= 66.66833333333332%\n"
          ]
        },
        {
          "metadata": {
            "tags": null
          },
          "name": "stderr",
          "output_type": "stream",
          "text": [
            "\n",
            " 80%|████████  | 16/20 [00:44<00:11,  2.75s/it]\u001b[A"
          ]
        },
        {
          "metadata": {
            "tags": null
          },
          "name": "stdout",
          "output_type": "stream",
          "text": [
            "Number of Epoch = 16 - Average CCE:= 0.010340695190429688 - Average Accuracy:= 67.08666666666666%\n"
          ]
        },
        {
          "metadata": {
            "tags": null
          },
          "name": "stderr",
          "output_type": "stream",
          "text": [
            "\n",
            " 85%|████████▌ | 17/20 [00:46<00:08,  2.76s/it]\u001b[A"
          ]
        },
        {
          "metadata": {
            "tags": null
          },
          "name": "stdout",
          "output_type": "stream",
          "text": [
            "Number of Epoch = 17 - Average CCE:= 0.010359109497070312 - Average Accuracy:= 67.045%\n"
          ]
        },
        {
          "metadata": {
            "tags": null
          },
          "name": "stderr",
          "output_type": "stream",
          "text": [
            "\n",
            " 90%|█████████ | 18/20 [00:49<00:05,  2.75s/it]\u001b[A"
          ]
        },
        {
          "metadata": {
            "tags": null
          },
          "name": "stdout",
          "output_type": "stream",
          "text": [
            "Number of Epoch = 18 - Average CCE:= 0.010288394165039063 - Average Accuracy:= 67.36%\n"
          ]
        },
        {
          "metadata": {
            "tags": null
          },
          "name": "stderr",
          "output_type": "stream",
          "text": [
            "\n",
            " 95%|█████████▌| 19/20 [00:52<00:02,  2.76s/it]\u001b[A"
          ]
        },
        {
          "metadata": {
            "tags": null
          },
          "name": "stdout",
          "output_type": "stream",
          "text": [
            "Number of Epoch = 19 - Average CCE:= 0.010280576578776042 - Average Accuracy:= 67.33166666666666%\n"
          ]
        },
        {
          "metadata": {
            "tags": null
          },
          "name": "stderr",
          "output_type": "stream",
          "text": [
            "\n",
            "100%|██████████| 20/20 [00:55<00:00,  2.76s/it]"
          ]
        },
        {
          "metadata": {
            "tags": null
          },
          "name": "stdout",
          "output_type": "stream",
          "text": [
            "Number of Epoch = 20 - Average CCE:= 0.01008929951985677 - Average Accuracy:= 67.94%\n",
            "\n",
            "Total time taken (in seconds): 55.30\n"
          ]
        },
        {
          "metadata": {
            "tags": null
          },
          "name": "stderr",
          "output_type": "stream",
          "text": [
            "\n",
            " 20%|██        | 2/10 [01:51<07:27, 55.94s/it]"
          ]
        },
        {
          "metadata": {
            "tags": null
          },
          "name": "stdout",
          "output_type": "stream",
          "text": [
            "Test CCE: 0.0521, Accuracy : 0.6743\n",
            "seed: 4555, Cross Entropy loss: 0.05209363403320313, Accuracy: 0.6743\n",
            "\n",
            "** Inference Iteration: 2 **\n",
            "\n",
            "#Training dropout model with seed 4193#\n"
          ]
        },
        {
          "metadata": {
            "tags": null
          },
          "name": "stderr",
          "output_type": "stream",
          "text": [
            "\n",
            "  0%|          | 0/20 [00:00<?, ?it/s]\u001b[A\n",
            "  5%|▌         | 1/20 [00:02<00:52,  2.78s/it]\u001b[A"
          ]
        },
        {
          "metadata": {
            "tags": null
          },
          "name": "stdout",
          "output_type": "stream",
          "text": [
            "Number of Epoch = 1 - Average CCE:= 0.025321268717447918 - Average Accuracy:= 19.861666666666665%\n"
          ]
        },
        {
          "metadata": {
            "tags": null
          },
          "name": "stderr",
          "output_type": "stream",
          "text": [
            "\n",
            " 10%|█         | 2/20 [00:05<00:49,  2.76s/it]\u001b[A"
          ]
        },
        {
          "metadata": {
            "tags": null
          },
          "name": "stdout",
          "output_type": "stream",
          "text": [
            "Number of Epoch = 2 - Average CCE:= 0.021615570068359374 - Average Accuracy:= 31.595000000000002%\n"
          ]
        },
        {
          "metadata": {
            "tags": null
          },
          "name": "stderr",
          "output_type": "stream",
          "text": [
            "\n",
            " 15%|█▌        | 3/20 [00:08<00:46,  2.76s/it]\u001b[A"
          ]
        },
        {
          "metadata": {
            "tags": null
          },
          "name": "stdout",
          "output_type": "stream",
          "text": [
            "Number of Epoch = 3 - Average CCE:= 0.020512152099609375 - Average Accuracy:= 35.08166666666666%\n"
          ]
        },
        {
          "metadata": {
            "tags": null
          },
          "name": "stderr",
          "output_type": "stream",
          "text": [
            "\n",
            " 20%|██        | 4/20 [00:11<00:44,  2.77s/it]\u001b[A"
          ]
        },
        {
          "metadata": {
            "tags": null
          },
          "name": "stdout",
          "output_type": "stream",
          "text": [
            "Number of Epoch = 4 - Average CCE:= 0.019902935791015625 - Average Accuracy:= 37.04%\n"
          ]
        },
        {
          "metadata": {
            "tags": null
          },
          "name": "stderr",
          "output_type": "stream",
          "text": [
            "\n",
            " 25%|██▌       | 5/20 [00:13<00:41,  2.79s/it]\u001b[A"
          ]
        },
        {
          "metadata": {
            "tags": null
          },
          "name": "stdout",
          "output_type": "stream",
          "text": [
            "Number of Epoch = 5 - Average CCE:= 0.019064833577473957 - Average Accuracy:= 39.63833333333333%\n"
          ]
        },
        {
          "metadata": {
            "tags": null
          },
          "name": "stderr",
          "output_type": "stream",
          "text": [
            "\n",
            " 30%|███       | 6/20 [00:16<00:39,  2.80s/it]\u001b[A"
          ]
        },
        {
          "metadata": {
            "tags": null
          },
          "name": "stdout",
          "output_type": "stream",
          "text": [
            "Number of Epoch = 6 - Average CCE:= 0.018168467203776042 - Average Accuracy:= 42.495%\n"
          ]
        },
        {
          "metadata": {
            "tags": null
          },
          "name": "stderr",
          "output_type": "stream",
          "text": [
            "\n",
            " 35%|███▌      | 7/20 [00:19<00:36,  2.79s/it]\u001b[A"
          ]
        },
        {
          "metadata": {
            "tags": null
          },
          "name": "stdout",
          "output_type": "stream",
          "text": [
            "Number of Epoch = 7 - Average CCE:= 0.017782830810546876 - Average Accuracy:= 43.69833333333333%\n"
          ]
        },
        {
          "metadata": {
            "tags": null
          },
          "name": "stderr",
          "output_type": "stream",
          "text": [
            "\n",
            " 40%|████      | 8/20 [00:22<00:33,  2.78s/it]\u001b[A"
          ]
        },
        {
          "metadata": {
            "tags": null
          },
          "name": "stdout",
          "output_type": "stream",
          "text": [
            "Number of Epoch = 8 - Average CCE:= 0.01734566650390625 - Average Accuracy:= 45.06166666666667%\n"
          ]
        },
        {
          "metadata": {
            "tags": null
          },
          "name": "stderr",
          "output_type": "stream",
          "text": [
            "\n",
            " 45%|████▌     | 9/20 [00:25<00:30,  2.79s/it]\u001b[A"
          ]
        },
        {
          "metadata": {
            "tags": null
          },
          "name": "stdout",
          "output_type": "stream",
          "text": [
            "Number of Epoch = 9 - Average CCE:= 0.017286627197265626 - Average Accuracy:= 45.29166666666667%\n"
          ]
        },
        {
          "metadata": {
            "tags": null
          },
          "name": "stderr",
          "output_type": "stream",
          "text": [
            "\n",
            " 50%|█████     | 10/20 [00:27<00:27,  2.79s/it]\u001b[A"
          ]
        },
        {
          "metadata": {
            "tags": null
          },
          "name": "stdout",
          "output_type": "stream",
          "text": [
            "Number of Epoch = 10 - Average CCE:= 0.01711299641927083 - Average Accuracy:= 45.78666666666666%\n"
          ]
        },
        {
          "metadata": {
            "tags": null
          },
          "name": "stderr",
          "output_type": "stream",
          "text": [
            "\n",
            " 55%|█████▌    | 11/20 [00:30<00:25,  2.79s/it]\u001b[A"
          ]
        },
        {
          "metadata": {
            "tags": null
          },
          "name": "stdout",
          "output_type": "stream",
          "text": [
            "Number of Epoch = 11 - Average CCE:= 0.016923717244466147 - Average Accuracy:= 46.431666666666665%\n"
          ]
        },
        {
          "metadata": {
            "tags": null
          },
          "name": "stderr",
          "output_type": "stream",
          "text": [
            "\n",
            " 60%|██████    | 12/20 [00:33<00:22,  2.77s/it]\u001b[A"
          ]
        },
        {
          "metadata": {
            "tags": null
          },
          "name": "stdout",
          "output_type": "stream",
          "text": [
            "Number of Epoch = 12 - Average CCE:= 0.016953994750976562 - Average Accuracy:= 46.32666666666667%\n"
          ]
        },
        {
          "metadata": {
            "tags": null
          },
          "name": "stderr",
          "output_type": "stream",
          "text": [
            "\n",
            " 65%|██████▌   | 13/20 [00:36<00:19,  2.77s/it]\u001b[A"
          ]
        },
        {
          "metadata": {
            "tags": null
          },
          "name": "stdout",
          "output_type": "stream",
          "text": [
            "Number of Epoch = 13 - Average CCE:= 0.01679728495279948 - Average Accuracy:= 46.87166666666667%\n"
          ]
        },
        {
          "metadata": {
            "tags": null
          },
          "name": "stderr",
          "output_type": "stream",
          "text": [
            "\n",
            " 70%|███████   | 14/20 [00:38<00:16,  2.77s/it]\u001b[A"
          ]
        },
        {
          "metadata": {
            "tags": null
          },
          "name": "stdout",
          "output_type": "stream",
          "text": [
            "Number of Epoch = 14 - Average CCE:= 0.016694866943359376 - Average Accuracy:= 47.11666666666667%\n"
          ]
        },
        {
          "metadata": {
            "tags": null
          },
          "name": "stderr",
          "output_type": "stream",
          "text": [
            "\n",
            " 75%|███████▌  | 15/20 [00:41<00:13,  2.75s/it]\u001b[A"
          ]
        },
        {
          "metadata": {
            "tags": null
          },
          "name": "stdout",
          "output_type": "stream",
          "text": [
            "Number of Epoch = 15 - Average CCE:= 0.015427325439453125 - Average Accuracy:= 51.07333333333334%\n"
          ]
        },
        {
          "metadata": {
            "tags": null
          },
          "name": "stderr",
          "output_type": "stream",
          "text": [
            "\n",
            " 80%|████████  | 16/20 [00:44<00:10,  2.75s/it]\u001b[A"
          ]
        },
        {
          "metadata": {
            "tags": null
          },
          "name": "stdout",
          "output_type": "stream",
          "text": [
            "Number of Epoch = 16 - Average CCE:= 0.014671246337890626 - Average Accuracy:= 53.49333333333334%\n"
          ]
        },
        {
          "metadata": {
            "tags": null
          },
          "name": "stderr",
          "output_type": "stream",
          "text": [
            "\n",
            " 85%|████████▌ | 17/20 [00:47<00:08,  2.76s/it]\u001b[A"
          ]
        },
        {
          "metadata": {
            "tags": null
          },
          "name": "stdout",
          "output_type": "stream",
          "text": [
            "Number of Epoch = 17 - Average CCE:= 0.014326133219401042 - Average Accuracy:= 54.571666666666665%\n"
          ]
        },
        {
          "metadata": {
            "tags": null
          },
          "name": "stderr",
          "output_type": "stream",
          "text": [
            "\n",
            " 90%|█████████ | 18/20 [00:49<00:05,  2.75s/it]\u001b[A"
          ]
        },
        {
          "metadata": {
            "tags": null
          },
          "name": "stdout",
          "output_type": "stream",
          "text": [
            "Number of Epoch = 18 - Average CCE:= 0.014155506388346353 - Average Accuracy:= 55.156666666666666%\n"
          ]
        },
        {
          "metadata": {
            "tags": null
          },
          "name": "stderr",
          "output_type": "stream",
          "text": [
            "\n",
            " 95%|█████████▌| 19/20 [00:52<00:02,  2.75s/it]\u001b[A"
          ]
        },
        {
          "metadata": {
            "tags": null
          },
          "name": "stdout",
          "output_type": "stream",
          "text": [
            "Number of Epoch = 19 - Average CCE:= 0.013994966634114583 - Average Accuracy:= 55.61666666666667%\n"
          ]
        },
        {
          "metadata": {
            "tags": null
          },
          "name": "stderr",
          "output_type": "stream",
          "text": [
            "\n",
            "100%|██████████| 20/20 [00:55<00:00,  2.77s/it]"
          ]
        },
        {
          "metadata": {
            "tags": null
          },
          "name": "stdout",
          "output_type": "stream",
          "text": [
            "Number of Epoch = 20 - Average CCE:= 0.0138810791015625 - Average Accuracy:= 56.00333333333334%\n",
            "\n",
            "Total time taken (in seconds): 55.43\n"
          ]
        },
        {
          "metadata": {
            "tags": null
          },
          "name": "stderr",
          "output_type": "stream",
          "text": [
            "\n",
            " 30%|███       | 3/10 [02:47<06:31, 55.98s/it]"
          ]
        },
        {
          "metadata": {
            "tags": null
          },
          "name": "stdout",
          "output_type": "stream",
          "text": [
            "Test CCE: 0.0755, Accuracy : 0.529\n",
            "seed: 4193, Cross Entropy loss: 0.07554984130859375, Accuracy: 0.529\n",
            "\n",
            "** Inference Iteration: 3 **\n",
            "\n",
            "#Training dropout model with seed 4027#\n"
          ]
        },
        {
          "metadata": {
            "tags": null
          },
          "name": "stderr",
          "output_type": "stream",
          "text": [
            "\n",
            "  0%|          | 0/20 [00:00<?, ?it/s]\u001b[A\n",
            "  5%|▌         | 1/20 [00:02<00:52,  2.76s/it]\u001b[A"
          ]
        },
        {
          "metadata": {
            "tags": null
          },
          "name": "stdout",
          "output_type": "stream",
          "text": [
            "Number of Epoch = 1 - Average CCE:= 0.024487459309895834 - Average Accuracy:= 22.331666666666667%\n"
          ]
        },
        {
          "metadata": {
            "tags": null
          },
          "name": "stderr",
          "output_type": "stream",
          "text": [
            "\n",
            " 10%|█         | 2/20 [00:05<00:50,  2.78s/it]\u001b[A"
          ]
        },
        {
          "metadata": {
            "tags": null
          },
          "name": "stdout",
          "output_type": "stream",
          "text": [
            "Number of Epoch = 2 - Average CCE:= 0.018243245442708333 - Average Accuracy:= 42.155%\n"
          ]
        },
        {
          "metadata": {
            "tags": null
          },
          "name": "stderr",
          "output_type": "stream",
          "text": [
            "\n",
            " 15%|█▌        | 3/20 [00:08<00:47,  2.78s/it]\u001b[A"
          ]
        },
        {
          "metadata": {
            "tags": null
          },
          "name": "stdout",
          "output_type": "stream",
          "text": [
            "Number of Epoch = 3 - Average CCE:= 0.01673152262369792 - Average Accuracy:= 46.88%\n"
          ]
        },
        {
          "metadata": {
            "tags": null
          },
          "name": "stderr",
          "output_type": "stream",
          "text": [
            "\n",
            " 20%|██        | 4/20 [00:11<00:44,  2.77s/it]\u001b[A"
          ]
        },
        {
          "metadata": {
            "tags": null
          },
          "name": "stdout",
          "output_type": "stream",
          "text": [
            "Number of Epoch = 4 - Average CCE:= 0.016277599080403646 - Average Accuracy:= 48.394999999999996%\n"
          ]
        },
        {
          "metadata": {
            "tags": null
          },
          "name": "stderr",
          "output_type": "stream",
          "text": [
            "\n",
            " 25%|██▌       | 5/20 [00:13<00:41,  2.77s/it]\u001b[A"
          ]
        },
        {
          "metadata": {
            "tags": null
          },
          "name": "stdout",
          "output_type": "stream",
          "text": [
            "Number of Epoch = 5 - Average CCE:= 0.01588457539876302 - Average Accuracy:= 49.70333333333333%\n"
          ]
        },
        {
          "metadata": {
            "tags": null
          },
          "name": "stderr",
          "output_type": "stream",
          "text": [
            "\n",
            " 30%|███       | 6/20 [00:16<00:38,  2.76s/it]\u001b[A"
          ]
        },
        {
          "metadata": {
            "tags": null
          },
          "name": "stdout",
          "output_type": "stream",
          "text": [
            "Number of Epoch = 6 - Average CCE:= 0.015631781005859376 - Average Accuracy:= 50.38333333333333%\n"
          ]
        },
        {
          "metadata": {
            "tags": null
          },
          "name": "stderr",
          "output_type": "stream",
          "text": [
            "\n",
            " 35%|███▌      | 7/20 [00:19<00:35,  2.77s/it]\u001b[A"
          ]
        },
        {
          "metadata": {
            "tags": null
          },
          "name": "stdout",
          "output_type": "stream",
          "text": [
            "Number of Epoch = 7 - Average CCE:= 0.01513494873046875 - Average Accuracy:= 51.93333333333333%\n"
          ]
        },
        {
          "metadata": {
            "tags": null
          },
          "name": "stderr",
          "output_type": "stream",
          "text": [
            "\n",
            " 40%|████      | 8/20 [00:22<00:33,  2.76s/it]\u001b[A"
          ]
        },
        {
          "metadata": {
            "tags": null
          },
          "name": "stdout",
          "output_type": "stream",
          "text": [
            "Number of Epoch = 8 - Average CCE:= 0.014595625813802084 - Average Accuracy:= 53.635%\n"
          ]
        },
        {
          "metadata": {
            "tags": null
          },
          "name": "stderr",
          "output_type": "stream",
          "text": [
            "\n",
            " 45%|████▌     | 9/20 [00:24<00:30,  2.76s/it]\u001b[A"
          ]
        },
        {
          "metadata": {
            "tags": null
          },
          "name": "stdout",
          "output_type": "stream",
          "text": [
            "Number of Epoch = 9 - Average CCE:= 0.014252159627278646 - Average Accuracy:= 54.705000000000005%\n"
          ]
        },
        {
          "metadata": {
            "tags": null
          },
          "name": "stderr",
          "output_type": "stream",
          "text": [
            "\n",
            " 50%|█████     | 10/20 [00:27<00:27,  2.75s/it]\u001b[A"
          ]
        },
        {
          "metadata": {
            "tags": null
          },
          "name": "stdout",
          "output_type": "stream",
          "text": [
            "Number of Epoch = 10 - Average CCE:= 0.013983157348632813 - Average Accuracy:= 55.57833333333333%\n"
          ]
        },
        {
          "metadata": {
            "tags": null
          },
          "name": "stderr",
          "output_type": "stream",
          "text": [
            "\n",
            " 55%|█████▌    | 11/20 [00:30<00:24,  2.76s/it]\u001b[A"
          ]
        },
        {
          "metadata": {
            "tags": null
          },
          "name": "stdout",
          "output_type": "stream",
          "text": [
            "Number of Epoch = 11 - Average CCE:= 0.01363457539876302 - Average Accuracy:= 56.715%\n"
          ]
        },
        {
          "metadata": {
            "tags": null
          },
          "name": "stderr",
          "output_type": "stream",
          "text": [
            "\n",
            " 60%|██████    | 12/20 [00:33<00:22,  2.78s/it]\u001b[A"
          ]
        },
        {
          "metadata": {
            "tags": null
          },
          "name": "stdout",
          "output_type": "stream",
          "text": [
            "Number of Epoch = 12 - Average CCE:= 0.013474813842773438 - Average Accuracy:= 57.20666666666666%\n"
          ]
        },
        {
          "metadata": {
            "tags": null
          },
          "name": "stderr",
          "output_type": "stream",
          "text": [
            "\n",
            " 65%|██████▌   | 13/20 [00:36<00:19,  2.79s/it]\u001b[A"
          ]
        },
        {
          "metadata": {
            "tags": null
          },
          "name": "stdout",
          "output_type": "stream",
          "text": [
            "Number of Epoch = 13 - Average CCE:= 0.01327250773111979 - Average Accuracy:= 57.830000000000005%\n"
          ]
        },
        {
          "metadata": {
            "tags": null
          },
          "name": "stderr",
          "output_type": "stream",
          "text": [
            "\n",
            " 70%|███████   | 14/20 [00:38<00:16,  2.79s/it]\u001b[A"
          ]
        },
        {
          "metadata": {
            "tags": null
          },
          "name": "stdout",
          "output_type": "stream",
          "text": [
            "Number of Epoch = 14 - Average CCE:= 0.013018833414713542 - Average Accuracy:= 58.62833333333334%\n"
          ]
        },
        {
          "metadata": {
            "tags": null
          },
          "name": "stderr",
          "output_type": "stream",
          "text": [
            "\n",
            " 75%|███████▌  | 15/20 [00:41<00:14,  2.80s/it]\u001b[A"
          ]
        },
        {
          "metadata": {
            "tags": null
          },
          "name": "stdout",
          "output_type": "stream",
          "text": [
            "Number of Epoch = 15 - Average CCE:= 0.012670716349283854 - Average Accuracy:= 59.69333333333333%\n"
          ]
        },
        {
          "output_type": "stream",
          "name": "stderr",
          "text": [
            "\n",
            " 80%|████████  | 16/20 [00:44<00:11,  2.81s/it]\u001b[A"
          ]
        },
        {
          "output_type": "stream",
          "name": "stdout",
          "text": [
            "Number of Epoch = 16 - Average CCE:= 0.01242867431640625 - Average Accuracy:= 60.42166666666666%\n"
          ]
        },
        {
          "output_type": "stream",
          "name": "stderr",
          "text": [
            "\n",
            " 85%|████████▌ | 17/20 [00:47<00:08,  2.80s/it]\u001b[A"
          ]
        },
        {
          "output_type": "stream",
          "name": "stdout",
          "text": [
            "Number of Epoch = 17 - Average CCE:= 0.012274575805664063 - Average Accuracy:= 60.94166666666667%\n"
          ]
        },
        {
          "output_type": "stream",
          "name": "stderr",
          "text": [
            "\n",
            " 90%|█████████ | 18/20 [00:49<00:05,  2.78s/it]\u001b[A"
          ]
        },
        {
          "output_type": "stream",
          "name": "stdout",
          "text": [
            "Number of Epoch = 18 - Average CCE:= 0.011976205444335938 - Average Accuracy:= 61.82%\n"
          ]
        },
        {
          "output_type": "stream",
          "name": "stderr",
          "text": [
            "\n",
            " 95%|█████████▌| 19/20 [00:52<00:02,  2.78s/it]\u001b[A"
          ]
        },
        {
          "output_type": "stream",
          "name": "stdout",
          "text": [
            "Number of Epoch = 19 - Average CCE:= 0.011781900024414062 - Average Accuracy:= 62.480000000000004%\n"
          ]
        },
        {
          "output_type": "stream",
          "name": "stderr",
          "text": [
            "\n",
            "100%|██████████| 20/20 [00:55<00:00,  2.78s/it]"
          ]
        },
        {
          "output_type": "stream",
          "name": "stdout",
          "text": [
            "Number of Epoch = 20 - Average CCE:= 0.011640382893880209 - Average Accuracy:= 62.875%\n",
            "\n",
            "Total time taken (in seconds): 55.58\n"
          ]
        },
        {
          "output_type": "stream",
          "name": "stderr",
          "text": [
            "\n",
            " 40%|████      | 4/10 [03:44<05:36, 56.06s/it]"
          ]
        },
        {
          "output_type": "stream",
          "name": "stdout",
          "text": [
            "Test CCE: 0.0598, Accuracy : 0.6259\n",
            "seed: 4027, Cross Entropy loss: 0.059787115478515625, Accuracy: 0.6259\n",
            "\n",
            "** Inference Iteration: 4 **\n",
            "\n",
            "#Training dropout model with seed 4747#\n"
          ]
        },
        {
          "output_type": "stream",
          "name": "stderr",
          "text": [
            "\n",
            "  0%|          | 0/20 [00:00<?, ?it/s]\u001b[A\n",
            "  5%|▌         | 1/20 [00:02<00:53,  2.79s/it]\u001b[A"
          ]
        },
        {
          "output_type": "stream",
          "name": "stdout",
          "text": [
            "Number of Epoch = 1 - Average CCE:= 0.025588741048177082 - Average Accuracy:= 19.116666666666667%\n"
          ]
        },
        {
          "output_type": "stream",
          "name": "stderr",
          "text": [
            "\n",
            " 10%|█         | 2/20 [00:05<00:50,  2.83s/it]\u001b[A"
          ]
        },
        {
          "output_type": "stream",
          "name": "stdout",
          "text": [
            "Number of Epoch = 2 - Average CCE:= 0.023686366780598957 - Average Accuracy:= 25.135%\n"
          ]
        },
        {
          "output_type": "stream",
          "name": "stderr",
          "text": [
            "\n",
            " 15%|█▌        | 3/20 [00:08<00:48,  2.83s/it]\u001b[A"
          ]
        },
        {
          "output_type": "stream",
          "name": "stdout",
          "text": [
            "Number of Epoch = 3 - Average CCE:= 0.01919246622721354 - Average Accuracy:= 39.335%\n"
          ]
        },
        {
          "output_type": "stream",
          "name": "stderr",
          "text": [
            "\n",
            " 20%|██        | 4/20 [00:11<00:45,  2.85s/it]\u001b[A"
          ]
        },
        {
          "output_type": "stream",
          "name": "stdout",
          "text": [
            "Number of Epoch = 4 - Average CCE:= 0.017853611246744793 - Average Accuracy:= 43.53333333333333%\n"
          ]
        },
        {
          "output_type": "stream",
          "name": "stderr",
          "text": [
            "\n",
            " 25%|██▌       | 5/20 [00:14<00:42,  2.84s/it]\u001b[A"
          ]
        },
        {
          "output_type": "stream",
          "name": "stdout",
          "text": [
            "Number of Epoch = 5 - Average CCE:= 0.01627292277018229 - Average Accuracy:= 48.44%\n"
          ]
        },
        {
          "output_type": "stream",
          "name": "stderr",
          "text": [
            "\n",
            " 30%|███       | 6/20 [00:17<00:39,  2.86s/it]\u001b[A"
          ]
        },
        {
          "output_type": "stream",
          "name": "stdout",
          "text": [
            "Number of Epoch = 6 - Average CCE:= 0.014809745279947916 - Average Accuracy:= 53.00333333333334%\n"
          ]
        },
        {
          "output_type": "stream",
          "name": "stderr",
          "text": [
            "\n",
            " 35%|███▌      | 7/20 [00:20<00:37,  2.88s/it]\u001b[A"
          ]
        },
        {
          "output_type": "stream",
          "name": "stdout",
          "text": [
            "Number of Epoch = 7 - Average CCE:= 0.014135239664713542 - Average Accuracy:= 55.14%\n"
          ]
        },
        {
          "output_type": "stream",
          "name": "stderr",
          "text": [
            "\n",
            " 40%|████      | 8/20 [00:22<00:34,  2.88s/it]\u001b[A"
          ]
        },
        {
          "output_type": "stream",
          "name": "stdout",
          "text": [
            "Number of Epoch = 8 - Average CCE:= 0.013582945760091145 - Average Accuracy:= 56.898333333333326%\n"
          ]
        },
        {
          "output_type": "stream",
          "name": "stderr",
          "text": [
            "\n",
            " 45%|████▌     | 9/20 [00:25<00:31,  2.89s/it]\u001b[A"
          ]
        },
        {
          "output_type": "stream",
          "name": "stdout",
          "text": [
            "Number of Epoch = 9 - Average CCE:= 0.013173681640625 - Average Accuracy:= 58.20166666666666%\n"
          ]
        },
        {
          "output_type": "stream",
          "name": "stderr",
          "text": [
            "\n",
            " 50%|█████     | 10/20 [00:28<00:29,  2.90s/it]\u001b[A"
          ]
        },
        {
          "output_type": "stream",
          "name": "stdout",
          "text": [
            "Number of Epoch = 10 - Average CCE:= 0.012882806396484375 - Average Accuracy:= 59.17%\n"
          ]
        },
        {
          "output_type": "stream",
          "name": "stderr",
          "text": [
            "\n",
            " 55%|█████▌    | 11/20 [00:31<00:26,  2.90s/it]\u001b[A"
          ]
        },
        {
          "output_type": "stream",
          "name": "stdout",
          "text": [
            "Number of Epoch = 11 - Average CCE:= 0.012953209431966145 - Average Accuracy:= 58.955%\n"
          ]
        },
        {
          "output_type": "stream",
          "name": "stderr",
          "text": [
            "\n",
            " 60%|██████    | 12/20 [00:34<00:23,  2.90s/it]\u001b[A"
          ]
        },
        {
          "output_type": "stream",
          "name": "stdout",
          "text": [
            "Number of Epoch = 12 - Average CCE:= 0.012612528483072916 - Average Accuracy:= 60.08833333333333%\n"
          ]
        },
        {
          "output_type": "stream",
          "name": "stderr",
          "text": [
            "\n",
            " 65%|██████▌   | 13/20 [00:37<00:20,  2.90s/it]\u001b[A"
          ]
        },
        {
          "output_type": "stream",
          "name": "stdout",
          "text": [
            "Number of Epoch = 13 - Average CCE:= 0.012490341186523438 - Average Accuracy:= 60.455000000000005%\n"
          ]
        },
        {
          "output_type": "stream",
          "name": "stderr",
          "text": [
            "\n",
            " 70%|███████   | 14/20 [00:40<00:17,  2.91s/it]\u001b[A"
          ]
        },
        {
          "output_type": "stream",
          "name": "stdout",
          "text": [
            "Number of Epoch = 14 - Average CCE:= 0.012396581013997396 - Average Accuracy:= 60.76166666666667%\n"
          ]
        },
        {
          "output_type": "stream",
          "name": "stderr",
          "text": [
            "\n",
            " 75%|███████▌  | 15/20 [00:43<00:14,  2.91s/it]\u001b[A"
          ]
        },
        {
          "output_type": "stream",
          "name": "stdout",
          "text": [
            "Number of Epoch = 15 - Average CCE:= 0.012259862263997395 - Average Accuracy:= 61.155%\n"
          ]
        },
        {
          "output_type": "stream",
          "name": "stderr",
          "text": [
            "\n",
            " 80%|████████  | 16/20 [00:46<00:11,  2.91s/it]\u001b[A"
          ]
        },
        {
          "output_type": "stream",
          "name": "stdout",
          "text": [
            "Number of Epoch = 16 - Average CCE:= 0.012181585693359375 - Average Accuracy:= 61.39%\n"
          ]
        },
        {
          "output_type": "stream",
          "name": "stderr",
          "text": [
            "\n",
            " 85%|████████▌ | 17/20 [00:49<00:08,  2.90s/it]\u001b[A"
          ]
        },
        {
          "output_type": "stream",
          "name": "stdout",
          "text": [
            "Number of Epoch = 17 - Average CCE:= 0.012175360107421875 - Average Accuracy:= 61.44666666666667%\n"
          ]
        },
        {
          "output_type": "stream",
          "name": "stderr",
          "text": [
            "\n",
            " 90%|█████████ | 18/20 [00:51<00:05,  2.88s/it]\u001b[A"
          ]
        },
        {
          "output_type": "stream",
          "name": "stdout",
          "text": [
            "Number of Epoch = 18 - Average CCE:= 0.012064644368489584 - Average Accuracy:= 61.77%\n"
          ]
        },
        {
          "output_type": "stream",
          "name": "stderr",
          "text": [
            "\n",
            " 95%|█████████▌| 19/20 [00:54<00:02,  2.86s/it]\u001b[A"
          ]
        },
        {
          "output_type": "stream",
          "name": "stdout",
          "text": [
            "Number of Epoch = 19 - Average CCE:= 0.011990985107421874 - Average Accuracy:= 61.965%\n"
          ]
        },
        {
          "output_type": "stream",
          "name": "stderr",
          "text": [
            "\n",
            "100%|██████████| 20/20 [00:57<00:00,  2.87s/it]"
          ]
        },
        {
          "output_type": "stream",
          "name": "stdout",
          "text": [
            "Number of Epoch = 20 - Average CCE:= 0.011964503987630208 - Average Accuracy:= 62.155%\n",
            "\n",
            "Total time taken (in seconds): 57.51\n"
          ]
        },
        {
          "output_type": "stream",
          "name": "stderr",
          "text": [
            "\n",
            " 50%|█████     | 5/10 [04:42<04:44, 56.80s/it]"
          ]
        },
        {
          "output_type": "stream",
          "name": "stdout",
          "text": [
            "Test CCE: 0.0606, Accuracy : 0.623\n",
            "seed: 4747, Cross Entropy loss: 0.06057958984375, Accuracy: 0.623\n",
            "\n",
            "** Inference Iteration: 5 **\n",
            "\n",
            "#Training dropout model with seed 4106#\n"
          ]
        },
        {
          "output_type": "stream",
          "name": "stderr",
          "text": [
            "\n",
            "  0%|          | 0/20 [00:00<?, ?it/s]\u001b[A\n",
            "  5%|▌         | 1/20 [00:02<00:52,  2.78s/it]\u001b[A"
          ]
        },
        {
          "output_type": "stream",
          "name": "stdout",
          "text": [
            "Number of Epoch = 1 - Average CCE:= 0.02700403645833333 - Average Accuracy:= 14.618333333333332%\n"
          ]
        },
        {
          "output_type": "stream",
          "name": "stderr",
          "text": [
            "\n",
            " 10%|█         | 2/20 [00:05<00:50,  2.82s/it]\u001b[A"
          ]
        },
        {
          "output_type": "stream",
          "name": "stdout",
          "text": [
            "Number of Epoch = 2 - Average CCE:= 0.024371254475911458 - Average Accuracy:= 22.966666666666665%\n"
          ]
        },
        {
          "output_type": "stream",
          "name": "stderr",
          "text": [
            "\n",
            " 15%|█▌        | 3/20 [00:08<00:47,  2.82s/it]\u001b[A"
          ]
        },
        {
          "output_type": "stream",
          "name": "stdout",
          "text": [
            "Number of Epoch = 3 - Average CCE:= 0.022096516927083334 - Average Accuracy:= 30.031666666666666%\n"
          ]
        },
        {
          "output_type": "stream",
          "name": "stderr",
          "text": [
            "\n",
            " 20%|██        | 4/20 [00:11<00:45,  2.82s/it]\u001b[A"
          ]
        },
        {
          "output_type": "stream",
          "name": "stdout",
          "text": [
            "Number of Epoch = 4 - Average CCE:= 0.01922315673828125 - Average Accuracy:= 39.11833333333333%\n"
          ]
        },
        {
          "output_type": "stream",
          "name": "stderr",
          "text": [
            "\n",
            " 25%|██▌       | 5/20 [00:14<00:42,  2.83s/it]\u001b[A"
          ]
        },
        {
          "output_type": "stream",
          "name": "stdout",
          "text": [
            "Number of Epoch = 5 - Average CCE:= 0.018390321858723958 - Average Accuracy:= 41.815000000000005%\n"
          ]
        },
        {
          "output_type": "stream",
          "name": "stderr",
          "text": [
            "\n",
            " 30%|███       | 6/20 [00:16<00:39,  2.82s/it]\u001b[A"
          ]
        },
        {
          "output_type": "stream",
          "name": "stdout",
          "text": [
            "Number of Epoch = 6 - Average CCE:= 0.0180408447265625 - Average Accuracy:= 42.92333333333333%\n"
          ]
        },
        {
          "output_type": "stream",
          "name": "stderr",
          "text": [
            "\n",
            " 35%|███▌      | 7/20 [00:19<00:36,  2.83s/it]\u001b[A"
          ]
        },
        {
          "output_type": "stream",
          "name": "stdout",
          "text": [
            "Number of Epoch = 7 - Average CCE:= 0.017854105631510415 - Average Accuracy:= 43.48166666666667%\n"
          ]
        },
        {
          "output_type": "stream",
          "name": "stderr",
          "text": [
            "\n",
            " 40%|████      | 8/20 [00:22<00:33,  2.83s/it]\u001b[A"
          ]
        },
        {
          "output_type": "stream",
          "name": "stdout",
          "text": [
            "Number of Epoch = 8 - Average CCE:= 0.017698736572265623 - Average Accuracy:= 43.964999999999996%\n"
          ]
        },
        {
          "output_type": "stream",
          "name": "stderr",
          "text": [
            "\n",
            " 45%|████▌     | 9/20 [00:25<00:31,  2.83s/it]\u001b[A"
          ]
        },
        {
          "output_type": "stream",
          "name": "stdout",
          "text": [
            "Number of Epoch = 9 - Average CCE:= 0.017597526041666665 - Average Accuracy:= 44.36833333333333%\n"
          ]
        },
        {
          "output_type": "stream",
          "name": "stderr",
          "text": [
            "\n",
            " 50%|█████     | 10/20 [00:28<00:28,  2.83s/it]\u001b[A"
          ]
        },
        {
          "output_type": "stream",
          "name": "stdout",
          "text": [
            "Number of Epoch = 10 - Average CCE:= 0.017461000569661458 - Average Accuracy:= 44.788333333333334%\n"
          ]
        },
        {
          "output_type": "stream",
          "name": "stderr",
          "text": [
            "\n",
            " 55%|█████▌    | 11/20 [00:33<00:32,  3.61s/it]\u001b[A"
          ]
        },
        {
          "output_type": "stream",
          "name": "stdout",
          "text": [
            "Number of Epoch = 11 - Average CCE:= 0.017298396809895835 - Average Accuracy:= 45.225%\n"
          ]
        },
        {
          "output_type": "stream",
          "name": "stderr",
          "text": [
            "\n",
            " 60%|██████    | 12/20 [00:36<00:26,  3.37s/it]\u001b[A"
          ]
        },
        {
          "output_type": "stream",
          "name": "stdout",
          "text": [
            "Number of Epoch = 12 - Average CCE:= 0.01621814982096354 - Average Accuracy:= 48.60333333333333%\n"
          ]
        },
        {
          "output_type": "stream",
          "name": "stderr",
          "text": [
            "\n",
            " 65%|██████▌   | 13/20 [00:39<00:22,  3.20s/it]\u001b[A"
          ]
        },
        {
          "output_type": "stream",
          "name": "stdout",
          "text": [
            "Number of Epoch = 13 - Average CCE:= 0.015628306070963542 - Average Accuracy:= 50.44333333333333%\n"
          ]
        },
        {
          "output_type": "stream",
          "name": "stderr",
          "text": [
            "\n",
            " 70%|███████   | 14/20 [00:42<00:18,  3.09s/it]\u001b[A"
          ]
        },
        {
          "output_type": "stream",
          "name": "stdout",
          "text": [
            "Number of Epoch = 14 - Average CCE:= 0.015397835286458333 - Average Accuracy:= 51.239999999999995%\n"
          ]
        },
        {
          "output_type": "stream",
          "name": "stderr",
          "text": [
            "\n",
            " 75%|███████▌  | 15/20 [00:44<00:14,  3.00s/it]\u001b[A"
          ]
        },
        {
          "output_type": "stream",
          "name": "stdout",
          "text": [
            "Number of Epoch = 15 - Average CCE:= 0.015144454956054687 - Average Accuracy:= 52.05833333333333%\n"
          ]
        },
        {
          "output_type": "stream",
          "name": "stderr",
          "text": [
            "\n",
            " 80%|████████  | 16/20 [00:47<00:11,  2.94s/it]\u001b[A"
          ]
        },
        {
          "output_type": "stream",
          "name": "stdout",
          "text": [
            "Number of Epoch = 16 - Average CCE:= 0.015102630615234374 - Average Accuracy:= 52.171666666666674%\n"
          ]
        },
        {
          "output_type": "stream",
          "name": "stderr",
          "text": [
            "\n",
            " 85%|████████▌ | 17/20 [00:50<00:08,  2.90s/it]\u001b[A"
          ]
        },
        {
          "output_type": "stream",
          "name": "stdout",
          "text": [
            "Number of Epoch = 17 - Average CCE:= 0.01488011474609375 - Average Accuracy:= 52.85166666666667%\n"
          ]
        },
        {
          "output_type": "stream",
          "name": "stderr",
          "text": [
            "\n",
            " 90%|█████████ | 18/20 [00:53<00:05,  2.87s/it]\u001b[A"
          ]
        },
        {
          "output_type": "stream",
          "name": "stdout",
          "text": [
            "Number of Epoch = 18 - Average CCE:= 0.014874779256184896 - Average Accuracy:= 52.885000000000005%\n"
          ]
        },
        {
          "output_type": "stream",
          "name": "stderr",
          "text": [
            "\n",
            " 95%|█████████▌| 19/20 [00:56<00:02,  2.86s/it]\u001b[A"
          ]
        },
        {
          "output_type": "stream",
          "name": "stdout",
          "text": [
            "Number of Epoch = 19 - Average CCE:= 0.014643328857421875 - Average Accuracy:= 53.6%\n"
          ]
        },
        {
          "output_type": "stream",
          "name": "stderr",
          "text": [
            "\n",
            "100%|██████████| 20/20 [00:59<00:00,  2.95s/it]"
          ]
        },
        {
          "output_type": "stream",
          "name": "stdout",
          "text": [
            "Number of Epoch = 20 - Average CCE:= 0.014444447835286459 - Average Accuracy:= 54.120000000000005%\n",
            "\n",
            "Total time taken (in seconds): 59.03\n"
          ]
        },
        {
          "output_type": "stream",
          "name": "stderr",
          "text": [
            "\n",
            " 60%|██████    | 6/10 [05:41<03:51, 57.77s/it]"
          ]
        },
        {
          "output_type": "stream",
          "name": "stdout",
          "text": [
            "Test CCE: 0.0733, Accuracy : 0.5426\n",
            "seed: 4106, Cross Entropy loss: 0.07330875244140625, Accuracy: 0.5426\n",
            "\n",
            "** Inference Iteration: 6 **\n",
            "\n",
            "#Training dropout model with seed 4079#\n"
          ]
        },
        {
          "output_type": "stream",
          "name": "stderr",
          "text": [
            "\n",
            "  0%|          | 0/20 [00:00<?, ?it/s]\u001b[A\n",
            "  5%|▌         | 1/20 [00:02<00:54,  2.84s/it]\u001b[A"
          ]
        },
        {
          "output_type": "stream",
          "name": "stdout",
          "text": [
            "Number of Epoch = 1 - Average CCE:= 0.023802618408203125 - Average Accuracy:= 24.596666666666668%\n"
          ]
        },
        {
          "output_type": "stream",
          "name": "stderr",
          "text": [
            "\n",
            " 10%|█         | 2/20 [00:05<00:50,  2.83s/it]\u001b[A"
          ]
        },
        {
          "output_type": "stream",
          "name": "stdout",
          "text": [
            "Number of Epoch = 2 - Average CCE:= 0.021536053466796875 - Average Accuracy:= 31.913333333333334%\n"
          ]
        },
        {
          "output_type": "stream",
          "name": "stderr",
          "text": [
            "\n",
            " 15%|█▌        | 3/20 [00:08<00:47,  2.81s/it]\u001b[A"
          ]
        },
        {
          "output_type": "stream",
          "name": "stdout",
          "text": [
            "Number of Epoch = 3 - Average CCE:= 0.02109162394205729 - Average Accuracy:= 33.36%\n"
          ]
        },
        {
          "output_type": "stream",
          "name": "stderr",
          "text": [
            "\n",
            " 20%|██        | 4/20 [00:11<00:45,  2.82s/it]\u001b[A"
          ]
        },
        {
          "output_type": "stream",
          "name": "stdout",
          "text": [
            "Number of Epoch = 4 - Average CCE:= 0.0208291748046875 - Average Accuracy:= 34.15833333333333%\n"
          ]
        },
        {
          "output_type": "stream",
          "name": "stderr",
          "text": [
            "\n",
            " 25%|██▌       | 5/20 [00:16<00:56,  3.75s/it]\u001b[A"
          ]
        },
        {
          "output_type": "stream",
          "name": "stdout",
          "text": [
            "Number of Epoch = 5 - Average CCE:= 0.02056334025065104 - Average Accuracy:= 34.99166666666667%\n"
          ]
        },
        {
          "output_type": "stream",
          "name": "stderr",
          "text": [
            "\n",
            " 30%|███       | 6/20 [00:19<00:47,  3.41s/it]\u001b[A"
          ]
        },
        {
          "output_type": "stream",
          "name": "stdout",
          "text": [
            "Number of Epoch = 6 - Average CCE:= 0.020456707763671873 - Average Accuracy:= 35.388333333333335%\n"
          ]
        },
        {
          "output_type": "stream",
          "name": "stderr",
          "text": [
            "\n",
            " 35%|███▌      | 7/20 [00:22<00:41,  3.20s/it]\u001b[A"
          ]
        },
        {
          "output_type": "stream",
          "name": "stdout",
          "text": [
            "Number of Epoch = 7 - Average CCE:= 0.020300313313802082 - Average Accuracy:= 35.821666666666665%\n"
          ]
        },
        {
          "output_type": "stream",
          "name": "stderr",
          "text": [
            "\n",
            " 40%|████      | 8/20 [00:25<00:37,  3.08s/it]\u001b[A"
          ]
        },
        {
          "output_type": "stream",
          "name": "stdout",
          "text": [
            "Number of Epoch = 8 - Average CCE:= 0.019878928629557292 - Average Accuracy:= 37.12%\n"
          ]
        },
        {
          "output_type": "stream",
          "name": "stderr",
          "text": [
            "\n",
            " 45%|████▌     | 9/20 [00:27<00:33,  3.01s/it]\u001b[A"
          ]
        },
        {
          "output_type": "stream",
          "name": "stdout",
          "text": [
            "Number of Epoch = 9 - Average CCE:= 0.01916292724609375 - Average Accuracy:= 39.33833333333333%\n"
          ]
        },
        {
          "output_type": "stream",
          "name": "stderr",
          "text": [
            "\n",
            " 50%|█████     | 10/20 [00:30<00:29,  2.95s/it]\u001b[A"
          ]
        },
        {
          "output_type": "stream",
          "name": "stdout",
          "text": [
            "Number of Epoch = 10 - Average CCE:= 0.018006947835286457 - Average Accuracy:= 42.961666666666666%\n"
          ]
        },
        {
          "output_type": "stream",
          "name": "stderr",
          "text": [
            "\n",
            " 55%|█████▌    | 11/20 [00:33<00:26,  2.89s/it]\u001b[A"
          ]
        },
        {
          "output_type": "stream",
          "name": "stdout",
          "text": [
            "Number of Epoch = 11 - Average CCE:= 0.01765579833984375 - Average Accuracy:= 44.166666666666664%\n"
          ]
        },
        {
          "output_type": "stream",
          "name": "stderr",
          "text": [
            "\n",
            " 60%|██████    | 12/20 [00:36<00:22,  2.85s/it]\u001b[A"
          ]
        },
        {
          "output_type": "stream",
          "name": "stdout",
          "text": [
            "Number of Epoch = 12 - Average CCE:= 0.01721568603515625 - Average Accuracy:= 45.501666666666665%\n"
          ]
        },
        {
          "output_type": "stream",
          "name": "stderr",
          "text": [
            "\n",
            " 65%|██████▌   | 13/20 [00:38<00:19,  2.81s/it]\u001b[A"
          ]
        },
        {
          "output_type": "stream",
          "name": "stdout",
          "text": [
            "Number of Epoch = 13 - Average CCE:= 0.01607498982747396 - Average Accuracy:= 49.123333333333335%\n"
          ]
        },
        {
          "output_type": "stream",
          "name": "stderr",
          "text": [
            "\n",
            " 70%|███████   | 14/20 [00:41<00:16,  2.80s/it]\u001b[A"
          ]
        },
        {
          "output_type": "stream",
          "name": "stdout",
          "text": [
            "Number of Epoch = 14 - Average CCE:= 0.015589377848307292 - Average Accuracy:= 50.611666666666665%\n"
          ]
        },
        {
          "output_type": "stream",
          "name": "stderr",
          "text": [
            "\n",
            " 75%|███████▌  | 15/20 [00:44<00:13,  2.80s/it]\u001b[A"
          ]
        },
        {
          "output_type": "stream",
          "name": "stdout",
          "text": [
            "Number of Epoch = 15 - Average CCE:= 0.015340984090169272 - Average Accuracy:= 51.38666666666667%\n"
          ]
        },
        {
          "output_type": "stream",
          "name": "stderr",
          "text": [
            "\n",
            " 80%|████████  | 16/20 [00:47<00:11,  2.79s/it]\u001b[A"
          ]
        },
        {
          "output_type": "stream",
          "name": "stdout",
          "text": [
            "Number of Epoch = 16 - Average CCE:= 0.015176730346679688 - Average Accuracy:= 51.94833333333333%\n"
          ]
        },
        {
          "output_type": "stream",
          "name": "stderr",
          "text": [
            "\n",
            " 85%|████████▌ | 17/20 [00:49<00:08,  2.77s/it]\u001b[A"
          ]
        },
        {
          "output_type": "stream",
          "name": "stdout",
          "text": [
            "Number of Epoch = 17 - Average CCE:= 0.015045941162109375 - Average Accuracy:= 52.345%\n"
          ]
        },
        {
          "output_type": "stream",
          "name": "stderr",
          "text": [
            "\n",
            " 90%|█████████ | 18/20 [00:52<00:05,  2.76s/it]\u001b[A"
          ]
        },
        {
          "output_type": "stream",
          "name": "stdout",
          "text": [
            "Number of Epoch = 18 - Average CCE:= 0.014929198201497396 - Average Accuracy:= 52.76666666666666%\n"
          ]
        },
        {
          "output_type": "stream",
          "name": "stderr",
          "text": [
            "\n",
            " 95%|█████████▌| 19/20 [00:55<00:02,  2.80s/it]\u001b[A"
          ]
        },
        {
          "output_type": "stream",
          "name": "stdout",
          "text": [
            "Number of Epoch = 19 - Average CCE:= 0.01487489013671875 - Average Accuracy:= 52.925%\n"
          ]
        },
        {
          "output_type": "stream",
          "name": "stderr",
          "text": [
            "\n",
            "100%|██████████| 20/20 [00:58<00:00,  2.92s/it]"
          ]
        },
        {
          "output_type": "stream",
          "name": "stdout",
          "text": [
            "Number of Epoch = 20 - Average CCE:= 0.014786042277018229 - Average Accuracy:= 53.15333333333333%\n",
            "\n",
            "Total time taken (in seconds): 58.42\n"
          ]
        },
        {
          "output_type": "stream",
          "name": "stderr",
          "text": [
            "\n",
            " 70%|███████   | 7/10 [06:40<02:54, 58.19s/it]"
          ]
        },
        {
          "output_type": "stream",
          "name": "stdout",
          "text": [
            "Test CCE: 0.0749, Accuracy : 0.5337\n",
            "seed: 4079, Cross Entropy loss: 0.07488440551757812, Accuracy: 0.5337\n",
            "\n",
            "** Inference Iteration: 7 **\n",
            "\n",
            "#Training dropout model with seed 4285#\n"
          ]
        },
        {
          "output_type": "stream",
          "name": "stderr",
          "text": [
            "\n",
            "  0%|          | 0/20 [00:00<?, ?it/s]\u001b[A\n",
            "  5%|▌         | 1/20 [00:02<00:53,  2.83s/it]\u001b[A"
          ]
        },
        {
          "output_type": "stream",
          "name": "stdout",
          "text": [
            "Number of Epoch = 1 - Average CCE:= 0.026233546956380208 - Average Accuracy:= 17.066666666666666%\n"
          ]
        },
        {
          "output_type": "stream",
          "name": "stderr",
          "text": [
            "\n",
            " 10%|█         | 2/20 [00:05<00:50,  2.82s/it]\u001b[A"
          ]
        },
        {
          "output_type": "stream",
          "name": "stdout",
          "text": [
            "Number of Epoch = 2 - Average CCE:= 0.022910502115885415 - Average Accuracy:= 27.581666666666667%\n"
          ]
        },
        {
          "output_type": "stream",
          "name": "stderr",
          "text": [
            "\n",
            " 15%|█▌        | 3/20 [00:08<00:47,  2.79s/it]\u001b[A"
          ]
        },
        {
          "output_type": "stream",
          "name": "stdout",
          "text": [
            "Number of Epoch = 3 - Average CCE:= 0.019687666829427082 - Average Accuracy:= 37.68833333333333%\n"
          ]
        },
        {
          "output_type": "stream",
          "name": "stderr",
          "text": [
            "\n",
            " 20%|██        | 4/20 [00:11<00:44,  2.81s/it]\u001b[A"
          ]
        },
        {
          "output_type": "stream",
          "name": "stdout",
          "text": [
            "Number of Epoch = 4 - Average CCE:= 0.01810320841471354 - Average Accuracy:= 42.665%\n"
          ]
        },
        {
          "output_type": "stream",
          "name": "stderr",
          "text": [
            "\n",
            " 25%|██▌       | 5/20 [00:14<00:42,  2.81s/it]\u001b[A"
          ]
        },
        {
          "output_type": "stream",
          "name": "stdout",
          "text": [
            "Number of Epoch = 5 - Average CCE:= 0.017351971435546874 - Average Accuracy:= 45.01%\n"
          ]
        },
        {
          "output_type": "stream",
          "name": "stderr",
          "text": [
            "\n",
            " 30%|███       | 6/20 [00:16<00:39,  2.82s/it]\u001b[A"
          ]
        },
        {
          "output_type": "stream",
          "name": "stdout",
          "text": [
            "Number of Epoch = 6 - Average CCE:= 0.017069224039713542 - Average Accuracy:= 45.96666666666667%\n"
          ]
        },
        {
          "output_type": "stream",
          "name": "stderr",
          "text": [
            "\n",
            " 35%|███▌      | 7/20 [00:19<00:36,  2.80s/it]\u001b[A"
          ]
        },
        {
          "output_type": "stream",
          "name": "stdout",
          "text": [
            "Number of Epoch = 7 - Average CCE:= 0.016667684936523437 - Average Accuracy:= 47.17166666666667%\n"
          ]
        },
        {
          "output_type": "stream",
          "name": "stderr",
          "text": [
            "\n",
            " 40%|████      | 8/20 [00:22<00:33,  2.80s/it]\u001b[A"
          ]
        },
        {
          "output_type": "stream",
          "name": "stdout",
          "text": [
            "Number of Epoch = 8 - Average CCE:= 0.016244061279296874 - Average Accuracy:= 48.58833333333333%\n"
          ]
        },
        {
          "output_type": "stream",
          "name": "stderr",
          "text": [
            "\n",
            " 45%|████▌     | 9/20 [00:25<00:30,  2.82s/it]\u001b[A"
          ]
        },
        {
          "output_type": "stream",
          "name": "stdout",
          "text": [
            "Number of Epoch = 9 - Average CCE:= 0.01605409647623698 - Average Accuracy:= 49.196666666666665%\n"
          ]
        },
        {
          "output_type": "stream",
          "name": "stderr",
          "text": [
            "\n",
            " 50%|█████     | 10/20 [00:28<00:28,  2.83s/it]\u001b[A"
          ]
        },
        {
          "output_type": "stream",
          "name": "stdout",
          "text": [
            "Number of Epoch = 10 - Average CCE:= 0.015966742960611978 - Average Accuracy:= 49.47666666666667%\n"
          ]
        },
        {
          "output_type": "stream",
          "name": "stderr",
          "text": [
            "\n",
            " 55%|█████▌    | 11/20 [00:30<00:25,  2.81s/it]\u001b[A"
          ]
        },
        {
          "output_type": "stream",
          "name": "stdout",
          "text": [
            "Number of Epoch = 11 - Average CCE:= 0.015787298583984376 - Average Accuracy:= 49.98166666666667%\n"
          ]
        },
        {
          "output_type": "stream",
          "name": "stderr",
          "text": [
            "\n",
            " 60%|██████    | 12/20 [00:33<00:22,  2.81s/it]\u001b[A"
          ]
        },
        {
          "output_type": "stream",
          "name": "stdout",
          "text": [
            "Number of Epoch = 12 - Average CCE:= 0.015724151611328126 - Average Accuracy:= 50.22333333333333%\n"
          ]
        },
        {
          "output_type": "stream",
          "name": "stderr",
          "text": [
            "\n",
            " 65%|██████▌   | 13/20 [00:36<00:19,  2.83s/it]\u001b[A"
          ]
        },
        {
          "output_type": "stream",
          "name": "stdout",
          "text": [
            "Number of Epoch = 13 - Average CCE:= 0.014776216634114584 - Average Accuracy:= 53.10166666666667%\n"
          ]
        },
        {
          "output_type": "stream",
          "name": "stderr",
          "text": [
            "\n",
            " 70%|███████   | 14/20 [00:39<00:16,  2.83s/it]\u001b[A"
          ]
        },
        {
          "output_type": "stream",
          "name": "stdout",
          "text": [
            "Number of Epoch = 14 - Average CCE:= 0.014024603271484375 - Average Accuracy:= 55.474999999999994%\n"
          ]
        },
        {
          "output_type": "stream",
          "name": "stderr",
          "text": [
            "\n",
            " 75%|███████▌  | 15/20 [00:42<00:14,  2.82s/it]\u001b[A"
          ]
        },
        {
          "output_type": "stream",
          "name": "stdout",
          "text": [
            "Number of Epoch = 15 - Average CCE:= 0.013760686238606771 - Average Accuracy:= 56.3%\n"
          ]
        },
        {
          "output_type": "stream",
          "name": "stderr",
          "text": [
            "\n",
            " 80%|████████  | 16/20 [00:45<00:11,  2.83s/it]\u001b[A"
          ]
        },
        {
          "output_type": "stream",
          "name": "stdout",
          "text": [
            "Number of Epoch = 16 - Average CCE:= 0.013645128377278645 - Average Accuracy:= 56.71666666666667%\n"
          ]
        },
        {
          "output_type": "stream",
          "name": "stderr",
          "text": [
            "\n",
            " 85%|████████▌ | 17/20 [00:47<00:08,  2.82s/it]\u001b[A"
          ]
        },
        {
          "output_type": "stream",
          "name": "stdout",
          "text": [
            "Number of Epoch = 17 - Average CCE:= 0.01355192159016927 - Average Accuracy:= 57.001666666666665%\n"
          ]
        },
        {
          "output_type": "stream",
          "name": "stderr",
          "text": [
            "\n",
            " 90%|█████████ | 18/20 [00:50<00:05,  2.80s/it]\u001b[A"
          ]
        },
        {
          "output_type": "stream",
          "name": "stdout",
          "text": [
            "Number of Epoch = 18 - Average CCE:= 0.01333213602701823 - Average Accuracy:= 57.68833333333333%\n"
          ]
        },
        {
          "output_type": "stream",
          "name": "stderr",
          "text": [
            "\n",
            " 95%|█████████▌| 19/20 [00:53<00:02,  2.80s/it]\u001b[A"
          ]
        },
        {
          "output_type": "stream",
          "name": "stdout",
          "text": [
            "Number of Epoch = 19 - Average CCE:= 0.013334485880533854 - Average Accuracy:= 57.696666666666665%\n"
          ]
        },
        {
          "output_type": "stream",
          "name": "stderr",
          "text": [
            "\n",
            "100%|██████████| 20/20 [00:56<00:00,  2.81s/it]"
          ]
        },
        {
          "output_type": "stream",
          "name": "stdout",
          "text": [
            "Number of Epoch = 20 - Average CCE:= 0.013126888020833333 - Average Accuracy:= 58.348333333333336%\n",
            "\n",
            "Total time taken (in seconds): 56.28\n"
          ]
        },
        {
          "output_type": "stream",
          "name": "stderr",
          "text": [
            "\n",
            " 80%|████████  | 8/10 [07:37<01:55, 57.79s/it]"
          ]
        },
        {
          "output_type": "stream",
          "name": "stdout",
          "text": [
            "Test CCE: 0.0679, Accuracy : 0.5756\n",
            "seed: 4285, Cross Entropy loss: 0.06791614379882813, Accuracy: 0.5756\n",
            "\n",
            "** Inference Iteration: 8 **\n",
            "\n",
            "#Training dropout model with seed 4648#\n"
          ]
        },
        {
          "output_type": "stream",
          "name": "stderr",
          "text": [
            "\n",
            "  0%|          | 0/20 [00:00<?, ?it/s]\u001b[A\n",
            "  5%|▌         | 1/20 [00:02<00:52,  2.76s/it]\u001b[A"
          ]
        },
        {
          "output_type": "stream",
          "name": "stdout",
          "text": [
            "Number of Epoch = 1 - Average CCE:= 0.026893546549479168 - Average Accuracy:= 15.06%\n"
          ]
        },
        {
          "output_type": "stream",
          "name": "stderr",
          "text": [
            "\n",
            " 10%|█         | 2/20 [00:05<00:49,  2.78s/it]\u001b[A"
          ]
        },
        {
          "output_type": "stream",
          "name": "stdout",
          "text": [
            "Number of Epoch = 2 - Average CCE:= 0.024628765869140624 - Average Accuracy:= 22.068333333333335%\n"
          ]
        },
        {
          "output_type": "stream",
          "name": "stderr",
          "text": [
            "\n",
            " 15%|█▌        | 3/20 [00:08<00:47,  2.79s/it]\u001b[A"
          ]
        },
        {
          "output_type": "stream",
          "name": "stdout",
          "text": [
            "Number of Epoch = 3 - Average CCE:= 0.02186531982421875 - Average Accuracy:= 30.823333333333338%\n"
          ]
        },
        {
          "output_type": "stream",
          "name": "stderr",
          "text": [
            "\n",
            " 20%|██        | 4/20 [00:11<00:44,  2.80s/it]\u001b[A"
          ]
        },
        {
          "output_type": "stream",
          "name": "stdout",
          "text": [
            "Number of Epoch = 4 - Average CCE:= 0.020746993001302082 - Average Accuracy:= 34.35166666666667%\n"
          ]
        },
        {
          "output_type": "stream",
          "name": "stderr",
          "text": [
            "\n",
            " 25%|██▌       | 5/20 [00:13<00:41,  2.79s/it]\u001b[A"
          ]
        },
        {
          "output_type": "stream",
          "name": "stdout",
          "text": [
            "Number of Epoch = 5 - Average CCE:= 0.019719706217447917 - Average Accuracy:= 37.55833333333333%\n"
          ]
        },
        {
          "output_type": "stream",
          "name": "stderr",
          "text": [
            "\n",
            " 30%|███       | 6/20 [00:16<00:39,  2.80s/it]\u001b[A"
          ]
        },
        {
          "output_type": "stream",
          "name": "stdout",
          "text": [
            "Number of Epoch = 6 - Average CCE:= 0.017664204915364582 - Average Accuracy:= 43.92666666666667%\n"
          ]
        },
        {
          "output_type": "stream",
          "name": "stderr",
          "text": [
            "\n",
            " 35%|███▌      | 7/20 [00:19<00:36,  2.77s/it]\u001b[A"
          ]
        },
        {
          "output_type": "stream",
          "name": "stdout",
          "text": [
            "Number of Epoch = 7 - Average CCE:= 0.01686966247558594 - Average Accuracy:= 46.445%\n"
          ]
        },
        {
          "output_type": "stream",
          "name": "stderr",
          "text": [
            "\n",
            " 40%|████      | 8/20 [00:22<00:33,  2.77s/it]\u001b[A"
          ]
        },
        {
          "output_type": "stream",
          "name": "stdout",
          "text": [
            "Number of Epoch = 8 - Average CCE:= 0.016065775553385418 - Average Accuracy:= 48.95333333333333%\n"
          ]
        },
        {
          "output_type": "stream",
          "name": "stderr",
          "text": [
            "\n",
            " 45%|████▌     | 9/20 [00:24<00:30,  2.76s/it]\u001b[A"
          ]
        },
        {
          "output_type": "stream",
          "name": "stdout",
          "text": [
            "Number of Epoch = 9 - Average CCE:= 0.015535128784179687 - Average Accuracy:= 50.65666666666667%\n"
          ]
        },
        {
          "output_type": "stream",
          "name": "stderr",
          "text": [
            "\n",
            " 50%|█████     | 10/20 [00:27<00:27,  2.78s/it]\u001b[A"
          ]
        },
        {
          "output_type": "stream",
          "name": "stdout",
          "text": [
            "Number of Epoch = 10 - Average CCE:= 0.015025465901692708 - Average Accuracy:= 52.27333333333334%\n"
          ]
        },
        {
          "output_type": "stream",
          "name": "stderr",
          "text": [
            "\n",
            " 55%|█████▌    | 11/20 [00:30<00:25,  2.80s/it]\u001b[A"
          ]
        },
        {
          "output_type": "stream",
          "name": "stdout",
          "text": [
            "Number of Epoch = 11 - Average CCE:= 0.014770351155598958 - Average Accuracy:= 53.08833333333334%\n"
          ]
        },
        {
          "output_type": "stream",
          "name": "stderr",
          "text": [
            "\n",
            " 60%|██████    | 12/20 [00:33<00:22,  2.80s/it]\u001b[A"
          ]
        },
        {
          "output_type": "stream",
          "name": "stdout",
          "text": [
            "Number of Epoch = 12 - Average CCE:= 0.01440293680826823 - Average Accuracy:= 54.22%\n"
          ]
        },
        {
          "output_type": "stream",
          "name": "stderr",
          "text": [
            "\n",
            " 65%|██████▌   | 13/20 [00:36<00:19,  2.81s/it]\u001b[A"
          ]
        },
        {
          "output_type": "stream",
          "name": "stdout",
          "text": [
            "Number of Epoch = 13 - Average CCE:= 0.014238052368164063 - Average Accuracy:= 54.78666666666666%\n"
          ]
        },
        {
          "output_type": "stream",
          "name": "stderr",
          "text": [
            "\n",
            " 70%|███████   | 14/20 [00:39<00:16,  2.80s/it]\u001b[A"
          ]
        },
        {
          "output_type": "stream",
          "name": "stdout",
          "text": [
            "Number of Epoch = 14 - Average CCE:= 0.014028322347005209 - Average Accuracy:= 55.41166666666667%\n"
          ]
        },
        {
          "output_type": "stream",
          "name": "stderr",
          "text": [
            "\n",
            " 75%|███████▌  | 15/20 [00:41<00:13,  2.79s/it]\u001b[A"
          ]
        },
        {
          "output_type": "stream",
          "name": "stdout",
          "text": [
            "Number of Epoch = 15 - Average CCE:= 0.013970264689127604 - Average Accuracy:= 55.63%\n"
          ]
        },
        {
          "output_type": "stream",
          "name": "stderr",
          "text": [
            "\n",
            " 80%|████████  | 16/20 [00:44<00:11,  2.81s/it]\u001b[A"
          ]
        },
        {
          "output_type": "stream",
          "name": "stdout",
          "text": [
            "Number of Epoch = 16 - Average CCE:= 0.013809212239583334 - Average Accuracy:= 56.151666666666664%\n"
          ]
        },
        {
          "output_type": "stream",
          "name": "stderr",
          "text": [
            "\n",
            " 85%|████████▌ | 17/20 [00:47<00:08,  2.81s/it]\u001b[A"
          ]
        },
        {
          "output_type": "stream",
          "name": "stdout",
          "text": [
            "Number of Epoch = 17 - Average CCE:= 0.013727286783854167 - Average Accuracy:= 56.38999999999999%\n"
          ]
        },
        {
          "output_type": "stream",
          "name": "stderr",
          "text": [
            "\n",
            " 90%|█████████ | 18/20 [00:50<00:05,  2.80s/it]\u001b[A"
          ]
        },
        {
          "output_type": "stream",
          "name": "stdout",
          "text": [
            "Number of Epoch = 18 - Average CCE:= 0.013599263509114584 - Average Accuracy:= 56.81333333333334%\n"
          ]
        },
        {
          "output_type": "stream",
          "name": "stderr",
          "text": [
            "\n",
            " 95%|█████████▌| 19/20 [00:53<00:02,  2.79s/it]\u001b[A"
          ]
        },
        {
          "output_type": "stream",
          "name": "stdout",
          "text": [
            "Number of Epoch = 19 - Average CCE:= 0.013582956949869792 - Average Accuracy:= 56.85666666666667%\n"
          ]
        },
        {
          "output_type": "stream",
          "name": "stderr",
          "text": [
            "\n",
            "100%|██████████| 20/20 [00:55<00:00,  2.79s/it]"
          ]
        },
        {
          "output_type": "stream",
          "name": "stdout",
          "text": [
            "Number of Epoch = 20 - Average CCE:= 0.013444722493489583 - Average Accuracy:= 57.355000000000004%\n",
            "\n",
            "Total time taken (in seconds): 55.88\n"
          ]
        },
        {
          "output_type": "stream",
          "name": "stderr",
          "text": [
            "\n",
            " 90%|█████████ | 9/10 [08:34<00:57, 57.39s/it]"
          ]
        },
        {
          "output_type": "stream",
          "name": "stdout",
          "text": [
            "Test CCE: 0.0691, Accuracy : 0.5689\n",
            "seed: 4648, Cross Entropy loss: 0.06906673583984375, Accuracy: 0.5689\n",
            "\n",
            "** Inference Iteration: 9 **\n",
            "\n",
            "#Training dropout model with seed 4912#\n"
          ]
        },
        {
          "output_type": "stream",
          "name": "stderr",
          "text": [
            "\n",
            "  0%|          | 0/20 [00:00<?, ?it/s]\u001b[A\n",
            "  5%|▌         | 1/20 [00:02<00:52,  2.77s/it]\u001b[A"
          ]
        },
        {
          "output_type": "stream",
          "name": "stdout",
          "text": [
            "Number of Epoch = 1 - Average CCE:= 0.026299713134765625 - Average Accuracy:= 16.743333333333332%\n"
          ]
        },
        {
          "output_type": "stream",
          "name": "stderr",
          "text": [
            "\n",
            " 10%|█         | 2/20 [00:05<00:50,  2.78s/it]\u001b[A"
          ]
        },
        {
          "output_type": "stream",
          "name": "stdout",
          "text": [
            "Number of Epoch = 2 - Average CCE:= 0.023511932373046874 - Average Accuracy:= 25.688333333333336%\n"
          ]
        },
        {
          "output_type": "stream",
          "name": "stderr",
          "text": [
            "\n",
            " 15%|█▌        | 3/20 [00:08<00:47,  2.79s/it]\u001b[A"
          ]
        },
        {
          "output_type": "stream",
          "name": "stdout",
          "text": [
            "Number of Epoch = 3 - Average CCE:= 0.021106009928385416 - Average Accuracy:= 33.20333333333333%\n"
          ]
        },
        {
          "output_type": "stream",
          "name": "stderr",
          "text": [
            "\n",
            " 20%|██        | 4/20 [00:11<00:44,  2.78s/it]\u001b[A"
          ]
        },
        {
          "output_type": "stream",
          "name": "stdout",
          "text": [
            "Number of Epoch = 4 - Average CCE:= 0.01952649739583333 - Average Accuracy:= 38.205%\n"
          ]
        },
        {
          "output_type": "stream",
          "name": "stderr",
          "text": [
            "\n",
            " 25%|██▌       | 5/20 [00:13<00:41,  2.78s/it]\u001b[A"
          ]
        },
        {
          "output_type": "stream",
          "name": "stdout",
          "text": [
            "Number of Epoch = 5 - Average CCE:= 0.018433793131510418 - Average Accuracy:= 41.585%\n"
          ]
        },
        {
          "output_type": "stream",
          "name": "stderr",
          "text": [
            "\n",
            " 30%|███       | 6/20 [00:16<00:38,  2.77s/it]\u001b[A"
          ]
        },
        {
          "output_type": "stream",
          "name": "stdout",
          "text": [
            "Number of Epoch = 6 - Average CCE:= 0.01680875651041667 - Average Accuracy:= 46.74333333333333%\n"
          ]
        },
        {
          "output_type": "stream",
          "name": "stderr",
          "text": [
            "\n",
            " 35%|███▌      | 7/20 [00:19<00:36,  2.79s/it]\u001b[A"
          ]
        },
        {
          "output_type": "stream",
          "name": "stdout",
          "text": [
            "Number of Epoch = 7 - Average CCE:= 0.015874127197265626 - Average Accuracy:= 49.74666666666667%\n"
          ]
        },
        {
          "output_type": "stream",
          "name": "stderr",
          "text": [
            "\n",
            " 40%|████      | 8/20 [00:22<00:33,  2.79s/it]\u001b[A"
          ]
        },
        {
          "output_type": "stream",
          "name": "stdout",
          "text": [
            "Number of Epoch = 8 - Average CCE:= 0.01566283264160156 - Average Accuracy:= 50.44333333333333%\n"
          ]
        },
        {
          "output_type": "stream",
          "name": "stderr",
          "text": [
            "\n",
            " 45%|████▌     | 9/20 [00:25<00:30,  2.79s/it]\u001b[A"
          ]
        },
        {
          "output_type": "stream",
          "name": "stdout",
          "text": [
            "Number of Epoch = 9 - Average CCE:= 0.015433503214518229 - Average Accuracy:= 51.10333333333333%\n"
          ]
        },
        {
          "output_type": "stream",
          "name": "stderr",
          "text": [
            "\n",
            " 50%|█████     | 10/20 [00:27<00:28,  2.80s/it]\u001b[A"
          ]
        },
        {
          "output_type": "stream",
          "name": "stdout",
          "text": [
            "Number of Epoch = 10 - Average CCE:= 0.015260649617513021 - Average Accuracy:= 51.73833333333333%\n"
          ]
        },
        {
          "output_type": "stream",
          "name": "stderr",
          "text": [
            "\n",
            " 55%|█████▌    | 11/20 [00:30<00:25,  2.81s/it]\u001b[A"
          ]
        },
        {
          "output_type": "stream",
          "name": "stdout",
          "text": [
            "Number of Epoch = 11 - Average CCE:= 0.015204856363932292 - Average Accuracy:= 51.845%\n"
          ]
        },
        {
          "output_type": "stream",
          "name": "stderr",
          "text": [
            "\n",
            " 60%|██████    | 12/20 [00:33<00:22,  2.80s/it]\u001b[A"
          ]
        },
        {
          "output_type": "stream",
          "name": "stdout",
          "text": [
            "Number of Epoch = 12 - Average CCE:= 0.015039864095052083 - Average Accuracy:= 52.395%\n"
          ]
        },
        {
          "output_type": "stream",
          "name": "stderr",
          "text": [
            "\n",
            " 65%|██████▌   | 13/20 [00:36<00:19,  2.80s/it]\u001b[A"
          ]
        },
        {
          "output_type": "stream",
          "name": "stdout",
          "text": [
            "Number of Epoch = 13 - Average CCE:= 0.015048495483398438 - Average Accuracy:= 52.410000000000004%\n"
          ]
        },
        {
          "output_type": "stream",
          "name": "stderr",
          "text": [
            "\n",
            " 70%|███████   | 14/20 [00:39<00:16,  2.80s/it]\u001b[A"
          ]
        },
        {
          "output_type": "stream",
          "name": "stdout",
          "text": [
            "Number of Epoch = 14 - Average CCE:= 0.014917144775390625 - Average Accuracy:= 52.708333333333336%\n"
          ]
        },
        {
          "output_type": "stream",
          "name": "stderr",
          "text": [
            "\n",
            " 75%|███████▌  | 15/20 [00:41<00:13,  2.79s/it]\u001b[A"
          ]
        },
        {
          "output_type": "stream",
          "name": "stdout",
          "text": [
            "Number of Epoch = 15 - Average CCE:= 0.014790317789713542 - Average Accuracy:= 53.135%\n"
          ]
        },
        {
          "output_type": "stream",
          "name": "stderr",
          "text": [
            "\n",
            " 80%|████████  | 16/20 [00:44<00:11,  2.78s/it]\u001b[A"
          ]
        },
        {
          "output_type": "stream",
          "name": "stdout",
          "text": [
            "Number of Epoch = 16 - Average CCE:= 0.014410821533203125 - Average Accuracy:= 54.22666666666667%\n"
          ]
        },
        {
          "output_type": "stream",
          "name": "stderr",
          "text": [
            "\n",
            " 85%|████████▌ | 17/20 [00:47<00:08,  2.80s/it]\u001b[A"
          ]
        },
        {
          "output_type": "stream",
          "name": "stdout",
          "text": [
            "Number of Epoch = 17 - Average CCE:= 0.013900391642252603 - Average Accuracy:= 55.93833333333333%\n"
          ]
        },
        {
          "output_type": "stream",
          "name": "stderr",
          "text": [
            "\n",
            " 90%|█████████ | 18/20 [00:50<00:05,  2.79s/it]\u001b[A"
          ]
        },
        {
          "output_type": "stream",
          "name": "stdout",
          "text": [
            "Number of Epoch = 18 - Average CCE:= 0.013423240152994792 - Average Accuracy:= 57.318333333333335%\n"
          ]
        },
        {
          "output_type": "stream",
          "name": "stderr",
          "text": [
            "\n",
            " 95%|█████████▌| 19/20 [00:52<00:02,  2.78s/it]\u001b[A"
          ]
        },
        {
          "output_type": "stream",
          "name": "stdout",
          "text": [
            "Number of Epoch = 19 - Average CCE:= 0.013116177368164063 - Average Accuracy:= 58.34166666666667%\n"
          ]
        },
        {
          "output_type": "stream",
          "name": "stderr",
          "text": [
            "\n",
            "100%|██████████| 20/20 [00:55<00:00,  2.79s/it]"
          ]
        },
        {
          "output_type": "stream",
          "name": "stdout",
          "text": [
            "Number of Epoch = 20 - Average CCE:= 0.012697203572591145 - Average Accuracy:= 59.660000000000004%\n",
            "\n",
            "Total time taken (in seconds): 55.83\n"
          ]
        },
        {
          "output_type": "stream",
          "name": "stderr",
          "text": [
            "\n",
            "100%|██████████| 10/10 [09:30<00:00, 57.08s/it]"
          ]
        },
        {
          "output_type": "stream",
          "name": "stdout",
          "text": [
            "Test CCE: 0.0644, Accuracy : 0.5966\n",
            "seed: 4912, Cross Entropy loss: 0.0644167724609375, Accuracy: 0.5966\n",
            "## END: Current Model: dropout##\n",
            "Current inference results: {'default': {'cce_list': [0.11522347412109375, 0.08467548828125, 0.08576741333007812, 0.1145487060546875, 0.08642153930664062, 0.09960307006835938, 0.07544818725585938, 0.104943408203125, 0.1073142578125, 0.11834266357421876], 'acc_list': [0.2849, 0.4742, 0.4646, 0.2888, 0.4625, 0.3818, 0.5296, 0.3482, 0.333, 0.2655]}, 'L2': {'cce_list': [0.11575765380859375, 0.08069005737304688, 0.09145341186523437, 0.11504547119140625, 0.07218370971679687, 0.10011902465820313, 0.08523603515625, 0.11567591552734376, 0.10225344848632813, 0.1164573974609375], 'acc_list': [0.2839, 0.5004, 0.4335, 0.2883, 0.5532, 0.3809, 0.4725, 0.2836, 0.3672, 0.2795]}, 'dropout': {'cce_list': [0.09012791137695313, 0.05209363403320313, 0.07554984130859375, 0.059787115478515625, 0.06057958984375, 0.07330875244140625, 0.07488440551757812, 0.06791614379882813, 0.06906673583984375, 0.0644167724609375], 'acc_list': [0.4389, 0.6743, 0.529, 0.6259, 0.623, 0.5426, 0.5337, 0.5756, 0.5689, 0.5966]}}\n"
          ]
        },
        {
          "output_type": "stream",
          "name": "stderr",
          "text": [
            "\n"
          ]
        }
      ]
    },
    {
      "cell_type": "code",
      "source": [
        "print (\"###### Final stats ##########\")\n",
        "print (inference_stats_dict)"
      ],
      "metadata": {
        "colab": {
          "base_uri": "https://localhost:8080/"
        },
        "id": "7PTP7KewOjSe",
        "outputId": "df64a163-6d76-4300-ab15-03008dc1e38f"
      },
      "execution_count": 66,
      "outputs": [
        {
          "output_type": "stream",
          "name": "stdout",
          "text": [
            "###### Final stats ##########\n",
            "{'default': {'cce_list': [0.11522347412109375, 0.08467548828125, 0.08576741333007812, 0.1145487060546875, 0.08642153930664062, 0.09960307006835938, 0.07544818725585938, 0.104943408203125, 0.1073142578125, 0.11834266357421876], 'acc_list': [0.2849, 0.4742, 0.4646, 0.2888, 0.4625, 0.3818, 0.5296, 0.3482, 0.333, 0.2655]}, 'L2': {'cce_list': [0.11575765380859375, 0.08069005737304688, 0.09145341186523437, 0.11504547119140625, 0.07218370971679687, 0.10011902465820313, 0.08523603515625, 0.11567591552734376, 0.10225344848632813, 0.1164573974609375], 'acc_list': [0.2839, 0.5004, 0.4335, 0.2883, 0.5532, 0.3809, 0.4725, 0.2836, 0.3672, 0.2795]}, 'dropout': {'cce_list': [0.09012791137695313, 0.05209363403320313, 0.07554984130859375, 0.059787115478515625, 0.06057958984375, 0.07330875244140625, 0.07488440551757812, 0.06791614379882813, 0.06906673583984375, 0.0644167724609375], 'acc_list': [0.4389, 0.6743, 0.529, 0.6259, 0.623, 0.5426, 0.5337, 0.5756, 0.5689, 0.5966]}}\n"
          ]
        }
      ]
    },
    {
      "cell_type": "code",
      "source": [
        "import pandas as pd\n",
        "\n",
        "for ele in inference_stats_dict:\n",
        "  print (f\"## Model: {ele} ###\")\n",
        "  print (f\"Cross entropy loss across trials : {inference_stats_dict[ele]['cce_list']}\")\n",
        "  print (f\"Accuracy across trials : {inference_stats_dict[ele]['acc_list']}\")"
      ],
      "metadata": {
        "colab": {
          "base_uri": "https://localhost:8080/"
        },
        "id": "bdO3VS1Gna0R",
        "outputId": "69ecf4a3-9666-431d-abc0-b71508c9deb3"
      },
      "execution_count": 68,
      "outputs": [
        {
          "output_type": "stream",
          "name": "stdout",
          "text": [
            "## Model: default ###\n",
            "Cross entropy loss across trials : [0.11522347412109375, 0.08467548828125, 0.08576741333007812, 0.1145487060546875, 0.08642153930664062, 0.09960307006835938, 0.07544818725585938, 0.104943408203125, 0.1073142578125, 0.11834266357421876]\n",
            "Accuracy across trials : [0.2849, 0.4742, 0.4646, 0.2888, 0.4625, 0.3818, 0.5296, 0.3482, 0.333, 0.2655]\n",
            "## Model: L2 ###\n",
            "Cross entropy loss across trials : [0.11575765380859375, 0.08069005737304688, 0.09145341186523437, 0.11504547119140625, 0.07218370971679687, 0.10011902465820313, 0.08523603515625, 0.11567591552734376, 0.10225344848632813, 0.1164573974609375]\n",
            "Accuracy across trials : [0.2839, 0.5004, 0.4335, 0.2883, 0.5532, 0.3809, 0.4725, 0.2836, 0.3672, 0.2795]\n",
            "## Model: dropout ###\n",
            "Cross entropy loss across trials : [0.09012791137695313, 0.05209363403320313, 0.07554984130859375, 0.059787115478515625, 0.06057958984375, 0.07330875244140625, 0.07488440551757812, 0.06791614379882813, 0.06906673583984375, 0.0644167724609375]\n",
            "Accuracy across trials : [0.4389, 0.6743, 0.529, 0.6259, 0.623, 0.5426, 0.5337, 0.5756, 0.5689, 0.5966]\n"
          ]
        }
      ]
    },
    {
      "cell_type": "code",
      "source": [
        "import pandas as pd\n",
        "df = pd.DataFrame()\n",
        "df[\"seed\"] = random_seeds\n",
        "df[\"default_cce\"] = inference_stats_dict[\"default\"][\"cce_list\"]\n",
        "df[\"L2_cce\"] = inference_stats_dict[\"L2\"][\"cce_list\"]\n",
        "df[\"dropout_cce\"] = inference_stats_dict[\"dropout\"][\"cce_list\"]\n",
        "\n",
        "df[\"default_acc\"] = inference_stats_dict[\"default\"][\"acc_list\"]\n",
        "df[\"L2_acc\"] = inference_stats_dict[\"L2\"][\"acc_list\"]\n",
        "df[\"dropout_acc\"] = inference_stats_dict[\"dropout\"][\"acc_list\"]"
      ],
      "metadata": {
        "id": "wlQ0OdRFqBK8"
      },
      "execution_count": 69,
      "outputs": []
    },
    {
      "cell_type": "code",
      "source": [
        "df"
      ],
      "metadata": {
        "id": "iG17RclAnoZO",
        "colab": {
          "base_uri": "https://localhost:8080/",
          "height": 359
        },
        "outputId": "5c21a420-7398-41b9-c340-3ebab9127fee"
      },
      "execution_count": 70,
      "outputs": [
        {
          "output_type": "execute_result",
          "data": {
            "text/html": [
              "\n",
              "  <div id=\"df-2255e5d7-c210-402b-a1cf-cdb4fcb710ef\">\n",
              "    <div class=\"colab-df-container\">\n",
              "      <div>\n",
              "<style scoped>\n",
              "    .dataframe tbody tr th:only-of-type {\n",
              "        vertical-align: middle;\n",
              "    }\n",
              "\n",
              "    .dataframe tbody tr th {\n",
              "        vertical-align: top;\n",
              "    }\n",
              "\n",
              "    .dataframe thead th {\n",
              "        text-align: right;\n",
              "    }\n",
              "</style>\n",
              "<table border=\"1\" class=\"dataframe\">\n",
              "  <thead>\n",
              "    <tr style=\"text-align: right;\">\n",
              "      <th></th>\n",
              "      <th>seed</th>\n",
              "      <th>default_cce</th>\n",
              "      <th>L2_cce</th>\n",
              "      <th>dropout_cce</th>\n",
              "      <th>default_acc</th>\n",
              "      <th>L2_acc</th>\n",
              "      <th>dropout_acc</th>\n",
              "    </tr>\n",
              "  </thead>\n",
              "  <tbody>\n",
              "    <tr>\n",
              "      <th>0</th>\n",
              "      <td>4225</td>\n",
              "      <td>0.115223</td>\n",
              "      <td>0.115758</td>\n",
              "      <td>0.090128</td>\n",
              "      <td>0.2849</td>\n",
              "      <td>0.2839</td>\n",
              "      <td>0.4389</td>\n",
              "    </tr>\n",
              "    <tr>\n",
              "      <th>1</th>\n",
              "      <td>4555</td>\n",
              "      <td>0.084675</td>\n",
              "      <td>0.080690</td>\n",
              "      <td>0.052094</td>\n",
              "      <td>0.4742</td>\n",
              "      <td>0.5004</td>\n",
              "      <td>0.6743</td>\n",
              "    </tr>\n",
              "    <tr>\n",
              "      <th>2</th>\n",
              "      <td>4193</td>\n",
              "      <td>0.085767</td>\n",
              "      <td>0.091453</td>\n",
              "      <td>0.075550</td>\n",
              "      <td>0.4646</td>\n",
              "      <td>0.4335</td>\n",
              "      <td>0.5290</td>\n",
              "    </tr>\n",
              "    <tr>\n",
              "      <th>3</th>\n",
              "      <td>4027</td>\n",
              "      <td>0.114549</td>\n",
              "      <td>0.115045</td>\n",
              "      <td>0.059787</td>\n",
              "      <td>0.2888</td>\n",
              "      <td>0.2883</td>\n",
              "      <td>0.6259</td>\n",
              "    </tr>\n",
              "    <tr>\n",
              "      <th>4</th>\n",
              "      <td>4747</td>\n",
              "      <td>0.086422</td>\n",
              "      <td>0.072184</td>\n",
              "      <td>0.060580</td>\n",
              "      <td>0.4625</td>\n",
              "      <td>0.5532</td>\n",
              "      <td>0.6230</td>\n",
              "    </tr>\n",
              "    <tr>\n",
              "      <th>5</th>\n",
              "      <td>4106</td>\n",
              "      <td>0.099603</td>\n",
              "      <td>0.100119</td>\n",
              "      <td>0.073309</td>\n",
              "      <td>0.3818</td>\n",
              "      <td>0.3809</td>\n",
              "      <td>0.5426</td>\n",
              "    </tr>\n",
              "    <tr>\n",
              "      <th>6</th>\n",
              "      <td>4079</td>\n",
              "      <td>0.075448</td>\n",
              "      <td>0.085236</td>\n",
              "      <td>0.074884</td>\n",
              "      <td>0.5296</td>\n",
              "      <td>0.4725</td>\n",
              "      <td>0.5337</td>\n",
              "    </tr>\n",
              "    <tr>\n",
              "      <th>7</th>\n",
              "      <td>4285</td>\n",
              "      <td>0.104943</td>\n",
              "      <td>0.115676</td>\n",
              "      <td>0.067916</td>\n",
              "      <td>0.3482</td>\n",
              "      <td>0.2836</td>\n",
              "      <td>0.5756</td>\n",
              "    </tr>\n",
              "    <tr>\n",
              "      <th>8</th>\n",
              "      <td>4648</td>\n",
              "      <td>0.107314</td>\n",
              "      <td>0.102253</td>\n",
              "      <td>0.069067</td>\n",
              "      <td>0.3330</td>\n",
              "      <td>0.3672</td>\n",
              "      <td>0.5689</td>\n",
              "    </tr>\n",
              "    <tr>\n",
              "      <th>9</th>\n",
              "      <td>4912</td>\n",
              "      <td>0.118343</td>\n",
              "      <td>0.116457</td>\n",
              "      <td>0.064417</td>\n",
              "      <td>0.2655</td>\n",
              "      <td>0.2795</td>\n",
              "      <td>0.5966</td>\n",
              "    </tr>\n",
              "  </tbody>\n",
              "</table>\n",
              "</div>\n",
              "      <button class=\"colab-df-convert\" onclick=\"convertToInteractive('df-2255e5d7-c210-402b-a1cf-cdb4fcb710ef')\"\n",
              "              title=\"Convert this dataframe to an interactive table.\"\n",
              "              style=\"display:none;\">\n",
              "        \n",
              "  <svg xmlns=\"http://www.w3.org/2000/svg\" height=\"24px\"viewBox=\"0 0 24 24\"\n",
              "       width=\"24px\">\n",
              "    <path d=\"M0 0h24v24H0V0z\" fill=\"none\"/>\n",
              "    <path d=\"M18.56 5.44l.94 2.06.94-2.06 2.06-.94-2.06-.94-.94-2.06-.94 2.06-2.06.94zm-11 1L8.5 8.5l.94-2.06 2.06-.94-2.06-.94L8.5 2.5l-.94 2.06-2.06.94zm10 10l.94 2.06.94-2.06 2.06-.94-2.06-.94-.94-2.06-.94 2.06-2.06.94z\"/><path d=\"M17.41 7.96l-1.37-1.37c-.4-.4-.92-.59-1.43-.59-.52 0-1.04.2-1.43.59L10.3 9.45l-7.72 7.72c-.78.78-.78 2.05 0 2.83L4 21.41c.39.39.9.59 1.41.59.51 0 1.02-.2 1.41-.59l7.78-7.78 2.81-2.81c.8-.78.8-2.07 0-2.86zM5.41 20L4 18.59l7.72-7.72 1.47 1.35L5.41 20z\"/>\n",
              "  </svg>\n",
              "      </button>\n",
              "      \n",
              "  <style>\n",
              "    .colab-df-container {\n",
              "      display:flex;\n",
              "      flex-wrap:wrap;\n",
              "      gap: 12px;\n",
              "    }\n",
              "\n",
              "    .colab-df-convert {\n",
              "      background-color: #E8F0FE;\n",
              "      border: none;\n",
              "      border-radius: 50%;\n",
              "      cursor: pointer;\n",
              "      display: none;\n",
              "      fill: #1967D2;\n",
              "      height: 32px;\n",
              "      padding: 0 0 0 0;\n",
              "      width: 32px;\n",
              "    }\n",
              "\n",
              "    .colab-df-convert:hover {\n",
              "      background-color: #E2EBFA;\n",
              "      box-shadow: 0px 1px 2px rgba(60, 64, 67, 0.3), 0px 1px 3px 1px rgba(60, 64, 67, 0.15);\n",
              "      fill: #174EA6;\n",
              "    }\n",
              "\n",
              "    [theme=dark] .colab-df-convert {\n",
              "      background-color: #3B4455;\n",
              "      fill: #D2E3FC;\n",
              "    }\n",
              "\n",
              "    [theme=dark] .colab-df-convert:hover {\n",
              "      background-color: #434B5C;\n",
              "      box-shadow: 0px 1px 3px 1px rgba(0, 0, 0, 0.15);\n",
              "      filter: drop-shadow(0px 1px 2px rgba(0, 0, 0, 0.3));\n",
              "      fill: #FFFFFF;\n",
              "    }\n",
              "  </style>\n",
              "\n",
              "      <script>\n",
              "        const buttonEl =\n",
              "          document.querySelector('#df-2255e5d7-c210-402b-a1cf-cdb4fcb710ef button.colab-df-convert');\n",
              "        buttonEl.style.display =\n",
              "          google.colab.kernel.accessAllowed ? 'block' : 'none';\n",
              "\n",
              "        async function convertToInteractive(key) {\n",
              "          const element = document.querySelector('#df-2255e5d7-c210-402b-a1cf-cdb4fcb710ef');\n",
              "          const dataTable =\n",
              "            await google.colab.kernel.invokeFunction('convertToInteractive',\n",
              "                                                     [key], {});\n",
              "          if (!dataTable) return;\n",
              "\n",
              "          const docLinkHtml = 'Like what you see? Visit the ' +\n",
              "            '<a target=\"_blank\" href=https://colab.research.google.com/notebooks/data_table.ipynb>data table notebook</a>'\n",
              "            + ' to learn more about interactive tables.';\n",
              "          element.innerHTML = '';\n",
              "          dataTable['output_type'] = 'display_data';\n",
              "          await google.colab.output.renderOutput(dataTable, element);\n",
              "          const docLink = document.createElement('div');\n",
              "          docLink.innerHTML = docLinkHtml;\n",
              "          element.appendChild(docLink);\n",
              "        }\n",
              "      </script>\n",
              "    </div>\n",
              "  </div>\n",
              "  "
            ],
            "text/plain": [
              "   seed  default_cce    L2_cce  dropout_cce  default_acc  L2_acc  dropout_acc\n",
              "0  4225     0.115223  0.115758     0.090128       0.2849  0.2839       0.4389\n",
              "1  4555     0.084675  0.080690     0.052094       0.4742  0.5004       0.6743\n",
              "2  4193     0.085767  0.091453     0.075550       0.4646  0.4335       0.5290\n",
              "3  4027     0.114549  0.115045     0.059787       0.2888  0.2883       0.6259\n",
              "4  4747     0.086422  0.072184     0.060580       0.4625  0.5532       0.6230\n",
              "5  4106     0.099603  0.100119     0.073309       0.3818  0.3809       0.5426\n",
              "6  4079     0.075448  0.085236     0.074884       0.5296  0.4725       0.5337\n",
              "7  4285     0.104943  0.115676     0.067916       0.3482  0.2836       0.5756\n",
              "8  4648     0.107314  0.102253     0.069067       0.3330  0.3672       0.5689\n",
              "9  4912     0.118343  0.116457     0.064417       0.2655  0.2795       0.5966"
            ]
          },
          "metadata": {},
          "execution_count": 70
        }
      ]
    },
    {
      "cell_type": "code",
      "source": [
        "for ele in inference_stats_dict:\n",
        "  print (f\"## Model: {ele} ###\")\n",
        "  print (f\"Mean of cross entropy : {np.mean(inference_stats_dict[ele]['cce_list'])}\")\n",
        "  print (f\"Variance of cross entropy : {np.var(inference_stats_dict[ele]['cce_list'])}\")\n",
        "  print (f\"Mean of accuracies : {np.mean(inference_stats_dict[ele]['acc_list'])}\")\n",
        "  print (f\"Variance of accuracies : {np.var(inference_stats_dict[ele]['acc_list'])}\")\n",
        "  print ()"
      ],
      "metadata": {
        "colab": {
          "base_uri": "https://localhost:8080/"
        },
        "id": "ysSpcQaYSEBx",
        "outputId": "4e10f4f8-ba49-485f-849e-ccca2af8a9cf"
      },
      "execution_count": 75,
      "outputs": [
        {
          "output_type": "stream",
          "name": "stdout",
          "text": [
            "## Model: default ###\n",
            "Mean of cross entropy : 0.09922882080078126\n",
            "Variance of cross entropy : 0.00020765916375456756\n",
            "Mean of accuracies : 0.38331000000000004\n",
            "Variance of accuracies : 0.007880282899999999\n",
            "\n",
            "## Model: L2 ###\n",
            "Mean of cross entropy : 0.09948721252441406\n",
            "Variance of cross entropy : 0.00024313515187576748\n",
            "Mean of accuracies : 0.3843\n",
            "Variance of accuracies : 0.009292995999999998\n",
            "\n",
            "## Model: dropout ###\n",
            "Mean of cross entropy : 0.06877309020996095\n",
            "Variance of cross entropy : 0.00010057566869095305\n",
            "Mean of accuracies : 0.5708499999999999\n",
            "Variance of accuracies : 0.0038481864999999997\n",
            "\n"
          ]
        }
      ]
    },
    {
      "cell_type": "code",
      "source": [
        ""
      ],
      "metadata": {
        "id": "SEbDsH45TzkV"
      },
      "execution_count": null,
      "outputs": []
    }
  ],
  "metadata": {
    "accelerator": "GPU",
    "colab": {
      "collapsed_sections": [],
      "name": "MLP_VaibhavSingh_fmnist.ipynb",
      "provenance": []
    },
    "kernelspec": {
      "display_name": "Python 3",
      "name": "python3"
    }
  },
  "nbformat": 4,
  "nbformat_minor": 0
}