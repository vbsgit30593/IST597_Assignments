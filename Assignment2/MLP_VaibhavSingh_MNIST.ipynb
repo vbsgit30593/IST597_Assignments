{
  "cells": [
    {
      "cell_type": "markdown",
      "metadata": {
        "id": "71kdFp0QgF4K"
      },
      "source": [
        "# IST597:- Multi-Layer Perceptron"
      ]
    },
    {
      "cell_type": "markdown",
      "metadata": {
        "id": "C2yHcl5xgPV1"
      },
      "source": [
        "## Load the libraries"
      ]
    },
    {
      "cell_type": "code",
      "execution_count": 7,
      "metadata": {
        "id": "2DPwxLR2gSLC"
      },
      "outputs": [],
      "source": [
        "import os\n",
        "import numpy as np\n",
        "import time\n",
        "import tensorflow as tf\n",
        "seed = 5308\n",
        "np.random.seed(seed)\n",
        "tf.random.set_seed(seed)"
      ]
    },
    {
      "cell_type": "code",
      "execution_count": 8,
      "metadata": {
        "colab": {
          "base_uri": "https://localhost:8080/"
        },
        "id": "wV-3kEaggcO8",
        "outputId": "4f55b7e4-0642-432e-c076-ecb7eaef4328"
      },
      "outputs": [
        {
          "output_type": "execute_result",
          "data": {
            "text/plain": [
              "[]"
            ]
          },
          "metadata": {},
          "execution_count": 8
        }
      ],
      "source": [
        "tf.config.list_physical_devices('GPU')"
      ]
    },
    {
      "cell_type": "code",
      "source": [
        "tf.executing_eagerly()"
      ],
      "metadata": {
        "colab": {
          "base_uri": "https://localhost:8080/"
        },
        "id": "3QnP3yO1RIr2",
        "outputId": "21ea9d86-0a87-478c-a977-d702e86a358c"
      },
      "execution_count": 9,
      "outputs": [
        {
          "output_type": "execute_result",
          "data": {
            "text/plain": [
              "True"
            ]
          },
          "metadata": {},
          "execution_count": 9
        }
      ]
    },
    {
      "cell_type": "markdown",
      "metadata": {
        "id": "iw78jw6pDqSM"
      },
      "source": [
        "#Get number of Gpu's and id's in the system or else you can also use Nvidia-smi in command prompt."
      ]
    },
    {
      "cell_type": "markdown",
      "metadata": {
        "id": "7Dk_S2TMg_6_"
      },
      "source": [
        "## Generate random data"
      ]
    },
    {
      "cell_type": "code",
      "execution_count": 10,
      "metadata": {
        "id": "BMIEpXCV3phf"
      },
      "outputs": [],
      "source": [
        "#Getting the datasets - mnist : digit dataset, fashion_mnist : labelled fashion images\n",
        "mnist = tf.keras.datasets.mnist\n",
        "#mnist = tf.keras.datasets.fashion_mnist"
      ]
    },
    {
      "cell_type": "code",
      "execution_count": 12,
      "metadata": {
        "id": "sdXQMJCi1fhL",
        "colab": {
          "base_uri": "https://localhost:8080/"
        },
        "outputId": "f667f487-bc1e-4143-fd28-0959644e7e15"
      },
      "outputs": [
        {
          "output_type": "stream",
          "name": "stdout",
          "text": [
            "Downloading data from https://storage.googleapis.com/tensorflow/tf-keras-datasets/mnist.npz\n",
            "11493376/11490434 [==============================] - 0s 0us/step\n",
            "11501568/11490434 [==============================] - 0s 0us/step\n"
          ]
        },
        {
          "output_type": "execute_result",
          "data": {
            "text/plain": [
              "((60000, 28, 28), (10000, 28, 28))"
            ]
          },
          "metadata": {},
          "execution_count": 12
        }
      ],
      "source": [
        "(X_train, y_train), (X_test, y_test) = mnist.load_data()\n",
        "X_train.shape, X_test.shape"
      ]
    },
    {
      "cell_type": "code",
      "execution_count": 22,
      "metadata": {
        "colab": {
          "base_uri": "https://localhost:8080/"
        },
        "id": "40XlFnwho7D8",
        "outputId": "f64db058-c467-4424-a35c-56c2ebae127f"
      },
      "outputs": [
        {
          "output_type": "stream",
          "name": "stdout",
          "text": [
            "10000,60000\n"
          ]
        }
      ],
      "source": [
        "size_input = 784\n",
        "size_hidden_1 = 100 \n",
        "size_hidden_2 = 100\n",
        "size_output = 10 #should be 10 since digits are from 0-9\n",
        "number_of_train_examples = X_train.shape[0]\n",
        "number_of_test_examples = X_test.shape[0]\n",
        "print (f\"{number_of_test_examples},{number_of_train_examples}\")"
      ]
    },
    {
      "cell_type": "code",
      "source": [
        "#Normalizing data\n",
        "#X_train = X_train/255.0\n",
        "#X_test = X_test/255.0"
      ],
      "metadata": {
        "id": "OSjdXlNjYWho"
      },
      "execution_count": null,
      "outputs": []
    },
    {
      "cell_type": "code",
      "source": [
        "X_train = X_train.reshape(number_of_train_examples, -1)\n",
        "X_test = X_test.reshape(number_of_test_examples, -1)\n",
        "X_test.shape, X_train.shape"
      ],
      "metadata": {
        "colab": {
          "base_uri": "https://localhost:8080/"
        },
        "id": "fHt0LYO5QHfm",
        "outputId": "8fc41af0-7437-4f67-be1f-fc3681825b95"
      },
      "execution_count": 16,
      "outputs": [
        {
          "output_type": "execute_result",
          "data": {
            "text/plain": [
              "((10000, 784), (60000, 784))"
            ]
          },
          "metadata": {},
          "execution_count": 16
        }
      ]
    },
    {
      "cell_type": "code",
      "source": [
        "#Normalizing data\n",
        "X_train = X_train/255.0\n",
        "X_test = X_test/255.0"
      ],
      "metadata": {
        "id": "JwGxAPGGWNVq"
      },
      "execution_count": 17,
      "outputs": []
    },
    {
      "cell_type": "code",
      "source": [
        "y_train[0]"
      ],
      "metadata": {
        "colab": {
          "base_uri": "https://localhost:8080/"
        },
        "id": "kC5TsYcqFikI",
        "outputId": "2026641c-a1cb-477e-f6ea-2a7d74300dab"
      },
      "execution_count": 18,
      "outputs": [
        {
          "output_type": "execute_result",
          "data": {
            "text/plain": [
              "5"
            ]
          },
          "metadata": {},
          "execution_count": 18
        }
      ]
    },
    {
      "cell_type": "code",
      "source": [
        "num_classes = 10\n",
        "y_train = tf.keras.utils.to_categorical(y_train, num_classes)\n",
        "y_test = tf.keras.utils.to_categorical(y_test, num_classes)\n",
        "y_train[0]"
      ],
      "metadata": {
        "colab": {
          "base_uri": "https://localhost:8080/"
        },
        "id": "fMQYG61RUFkA",
        "outputId": "39ab0ce5-3ae2-4524-8d55-26b3acfb60af"
      },
      "execution_count": 19,
      "outputs": [
        {
          "output_type": "execute_result",
          "data": {
            "text/plain": [
              "array([0., 0., 0., 0., 0., 1., 0., 0., 0., 0.], dtype=float32)"
            ]
          },
          "metadata": {},
          "execution_count": 19
        }
      ]
    },
    {
      "cell_type": "code",
      "execution_count": 20,
      "metadata": {
        "colab": {
          "base_uri": "https://localhost:8080/"
        },
        "id": "aigqKFFF5BM2",
        "outputId": "d9706829-220b-400e-8596-74776fbcb109"
      },
      "outputs": [
        {
          "output_type": "execute_result",
          "data": {
            "text/plain": [
              "(<BatchDataset shapes: ((None, 784), (None, 10)), types: (tf.float64, tf.float32)>,\n",
              " <BatchDataset shapes: ((None, 784), (None, 10)), types: (tf.float64, tf.float32)>)"
            ]
          },
          "metadata": {},
          "execution_count": 20
        }
      ],
      "source": [
        "# Split dataset into batches\n",
        "train_ds = tf.data.Dataset.from_tensor_slices((X_train, y_train)).batch(16)\n",
        "test_ds = tf.data.Dataset.from_tensor_slices((X_test, y_test)).batch(4)\n",
        "train_ds,test_ds"
      ]
    },
    {
      "cell_type": "markdown",
      "metadata": {
        "id": "Eb4hOoVbnzSJ"
      },
      "source": [
        "# Build MLP using Eager Execution"
      ]
    },
    {
      "cell_type": "markdown",
      "source": [
        "## Combined model with L2 and dropout enable knobs"
      ],
      "metadata": {
        "id": "sWtvkkTosLov"
      }
    },
    {
      "cell_type": "code",
      "source": [
        "# Combined model with L2 and dropout enable knobs\n",
        "import sys\n",
        "from tensorflow.python.ops.gen_math_ops import square\n",
        "import numpy as np\n",
        "# Define class to build mlp model\n",
        "class MLP_combined(object):\n",
        "  def __init__(self, size_input, size_hidden_1, size_hidden_2, size_output, reg_mode = \"default\", lambda_l2 = 0.8, dropout = 0.3, lr = 0.05, device=None):\n",
        "    \"\"\"\n",
        "    size_input: int, size of input layer\n",
        "    size_hidden: int, size of hidden layer\n",
        "    size_output: int, size of output layer\n",
        "    device: str or None, either 'cpu' or 'gpu' or None. If None, the device to be used will be decided automatically during Eager Execution\n",
        "    \"\"\"\n",
        "    import sys\n",
        "    self.size_input, self.size_hidden_1, self.size_hidden_2, self.size_output, self.reg_mode, self.lambda_l2, self.dropout, self.lr, self.device =\\\n",
        "    size_input, size_hidden_1, size_hidden_2, size_output, reg_mode, lambda_l2, dropout, lr, device\n",
        "    \n",
        "    # Initialize weights between input layer and hidden layer 1 - (128, 128)\n",
        "    self.W1 = tf.Variable(tf.random.normal([self.size_input, self.size_hidden_1]))\n",
        "    # Initialize biases for hidden layer 1 - (1,128)\n",
        "    self.b1 = tf.Variable(tf.random.normal([1, self.size_hidden_1]))\n",
        "\n",
        "    # Initialize weights between hidden layer 1 and hidden layer 2 - (128, 128)\n",
        "    self.W2 = tf.Variable(tf.random.normal([self.size_hidden_1, self.size_hidden_2]))\n",
        "    # Initialize biases for hidden layer 2 - (1, 128)\n",
        "    self.b2 = tf.Variable(tf.random.normal([1, self.size_hidden_2]))\n",
        "\n",
        "    # Initialize weights between hidden layer 2 and output layer - (128, 10)\n",
        "    self.W3 = tf.Variable(tf.random.normal([self.size_hidden_2, self.size_output]))\n",
        "    # Initialize biases for output layer - (1,10)\n",
        "    self.b3 = tf.Variable(tf.random.normal([1, self.size_output]))\n",
        "\n",
        "    # Define variables to be updated during backpropagation\n",
        "    self.variables = [self.W1, self.W2, self.W3, self.b1, self.b2, self.b3]\n",
        "    \n",
        "  def forward(self, X):\n",
        "    \"\"\"\n",
        "    forward pass\n",
        "    X: Tensor, inputs\n",
        "    \"\"\"\n",
        "    if self.device is not None:\n",
        "      with tf.device('gpu:0' if self.device=='gpu' else 'cpu'):\n",
        "        self.y = self.compute_output(X)\n",
        "    else:\n",
        "      self.y = self.compute_output(X)\n",
        "      \n",
        "    return self.y\n",
        "  \n",
        "  def loss(self, y_pred, y_true):\n",
        "    '''\n",
        "    y_pred - Tensor of shape (batch_size, size_output)\n",
        "    y_true - Tensor of shape (batch_size, size_output)\n",
        "    '''\n",
        "\n",
        "    #Use categorical cross entropy in place of MSE\n",
        "    cce = tf.keras.losses.CategoricalCrossentropy()\n",
        "    #loss = tf.nn.softmax_cross_entropy_with_logits(y_true, y_pred)\n",
        "    loss = cce(y_true, y_pred)\n",
        "\n",
        "    if self.reg_mode == \"L2\":\n",
        "      #Applying L2 regularization\n",
        "      #print (\"#Applying L2 regularization\")\n",
        "      para_list = [self.W1, self.W2, self.W3]\n",
        "      regularizer = sum([tf.reduce_sum(tf.square(_var)) for _var in para_list])\n",
        "      #loss = self.lambda_l2 * loss +  ((1 - self.lambda_l2)/ number_of_train_examples) * regularizer\n",
        "      loss = loss +  ((self.lambda_l2/(2 * number_of_train_examples)) * regularizer)\n",
        "\n",
        "    return loss\n",
        "  \n",
        "  def backward(self, X_train, y_train):\n",
        "    \"\"\"\n",
        "    backward pass\n",
        "    \"\"\"\n",
        "    optimizer = tf.keras.optimizers.SGD(learning_rate=self.lr)\n",
        "    #optimizer = tf.keras.optimizers.Adagrad(learning_rate=0.05)\n",
        "    with tf.GradientTape() as tape:\n",
        "      predicted = self.forward(X_train)\n",
        "      current_loss = self.loss(predicted, y_train)\n",
        "      grads = tape.gradient(current_loss, self.variables)\n",
        "      optimizer.apply_gradients(zip(grads, self.variables))\n",
        "        \n",
        "        \n",
        "  def compute_output(self, X):\n",
        "    \"\"\"\n",
        "    Custom method to obtain output tensor during forward pass\n",
        "    \"\"\"\n",
        "    # Cast X to float32\n",
        "    X_tf = tf.cast(X, dtype=tf.float32)\n",
        "    \n",
        "    #Remember to normalize your dataset before moving forward\n",
        "    \n",
        "    # Compute values in hidden layer 1\n",
        "    w1hat = tf.matmul(X_tf, self.W1) + self.b1\n",
        "    h1hat = tf.nn.relu(w1hat)\n",
        "\n",
        "    # Compute values in hidden layer 2\n",
        "    w2hat = tf.matmul(h1hat, self.W2) + self.b2\n",
        "    h2hat = tf.nn.relu(w2hat)\n",
        "\n",
        "    if self.reg_mode == \"dropout\":\n",
        "      # Adding dropout on layer 2\n",
        "      #print (\"# Adding dropout on layer 2\")\n",
        "      h2hat = tf.nn.dropout(h2hat, self.dropout)\n",
        "\n",
        "    # Compute output\n",
        "    output = tf.matmul(h2hat, self.W3) + self.b3\n",
        "    #Now consider two things , First look at inbuild loss functions if they work with softmax or not and then change this\n",
        "    #Second add tf.Softmax(output) and then return this variable\n",
        "    output = tf.nn.softmax(output)\n",
        "    #print (f\"Output : {output}\")\n",
        "    return output"
      ],
      "metadata": {
        "id": "KSuUBLvrlCJU"
      },
      "execution_count": 23,
      "outputs": []
    },
    {
      "cell_type": "markdown",
      "metadata": {
        "id": "cUDFOuNk618X"
      },
      "source": [
        "## Train Model"
      ]
    },
    {
      "cell_type": "markdown",
      "source": [
        "# Function to train a model and prints cross entropy and accuracy"
      ],
      "metadata": {
        "id": "2OmKgHvFsjyI"
      }
    },
    {
      "cell_type": "code",
      "source": [
        "# Function to train a model and prints cross entropy and accuracy\n",
        "from tqdm import tqdm\n",
        "def train_model(mlp, num_epochs, seed, shuffle_size, batch_size):\n",
        "  time_start = time.time()\n",
        "  for epoch in tqdm(range(0, num_epochs)):\n",
        "    loss_total = tf.zeros([1,1], dtype=tf.float32)\n",
        "    correct_preds_total = 0\n",
        "    #lt = 0\n",
        "    train_ds = tf.data.Dataset.from_tensor_slices((X_train, y_train)).shuffle(shuffle_size, seed=epoch*(seed)).batch(batch_size)\n",
        "    for inputs, outputs in train_ds:\n",
        "      preds = mlp.forward(inputs)\n",
        "      loss_batch = mlp.loss(preds, outputs)\n",
        "      loss_total = loss_total + loss_batch\n",
        "      #lt = lt + mlp.loss(preds, outputs)\n",
        "      \n",
        "      y_pred_argmax = np.argmax(preds, 1)\n",
        "\n",
        "      y_true_argmax = np.argmax(outputs, 1)\n",
        "      \n",
        "      k = (y_pred_argmax == y_true_argmax)\n",
        "      correct_preds_batch = len(k[k == True])\n",
        "      correct_preds_total += correct_preds_batch\n",
        "\n",
        "      mlp.backward(inputs, outputs)\n",
        "    #print (correct_preds_total)\n",
        "    #sys.exit()\n",
        "    accuracy_epoch = correct_preds_total / X_train.shape[0]\n",
        "    print('Number of Epoch = {} - Average CCE:= {} - Average Accuracy:= {}%'.format(epoch + 1, np.sum(loss_total) / X_train.shape[0], accuracy_epoch * 100))\n",
        "    \n",
        "  time_taken = time.time() - time_start\n",
        "  print('\\nTotal time taken (in seconds): {:.2f}'.format(time_taken))"
      ],
      "metadata": {
        "id": "-0nDF7Xkm_cC"
      },
      "execution_count": 24,
      "outputs": []
    },
    {
      "cell_type": "code",
      "execution_count": 25,
      "metadata": {
        "id": "FZPVUu0YDa-_"
      },
      "outputs": [],
      "source": [
        "# Set number of epochs\n",
        "NUM_EPOCHS = 10\n",
        "NUM_EPOCHS = 20"
      ]
    },
    {
      "cell_type": "code",
      "source": [
        "#default training\n",
        "mlp_default = MLP_combined(size_input, size_hidden_1, size_hidden_2, size_output, reg_mode = \"default\", lr = 0.05, device='gpu')\n",
        "train_model(mlp_default, NUM_EPOCHS, seed, 100,64)"
      ],
      "metadata": {
        "colab": {
          "base_uri": "https://localhost:8080/"
        },
        "id": "wT8eF-0qoi_k",
        "outputId": "35e873c8-4341-4ad5-838d-cc64ef993d97"
      },
      "execution_count": 26,
      "outputs": [
        {
          "output_type": "stream",
          "name": "stderr",
          "text": [
            "  5%|▌         | 1/20 [00:20<06:37, 20.93s/it]"
          ]
        },
        {
          "output_type": "stream",
          "name": "stdout",
          "text": [
            "Number of Epoch = 1 - Average CCE:= 0.18373401692708333 - Average Accuracy:= 26.956666666666667%\n"
          ]
        },
        {
          "output_type": "stream",
          "name": "stderr",
          "text": [
            "\r 10%|█         | 2/20 [00:41<06:13, 20.72s/it]"
          ]
        },
        {
          "output_type": "stream",
          "name": "stdout",
          "text": [
            "Number of Epoch = 2 - Average CCE:= 0.16789650065104167 - Average Accuracy:= 33.31666666666667%\n"
          ]
        },
        {
          "output_type": "stream",
          "name": "stderr",
          "text": [
            "\r 15%|█▌        | 3/20 [00:56<05:04, 17.91s/it]"
          ]
        },
        {
          "output_type": "stream",
          "name": "stdout",
          "text": [
            "Number of Epoch = 3 - Average CCE:= 0.16552819010416667 - Average Accuracy:= 34.266666666666666%\n"
          ]
        },
        {
          "output_type": "stream",
          "name": "stderr",
          "text": [
            "\r 20%|██        | 4/20 [01:10<04:26, 16.64s/it]"
          ]
        },
        {
          "output_type": "stream",
          "name": "stdout",
          "text": [
            "Number of Epoch = 4 - Average CCE:= 0.155088427734375 - Average Accuracy:= 38.37166666666666%\n"
          ]
        },
        {
          "output_type": "stream",
          "name": "stderr",
          "text": [
            "\r 25%|██▌       | 5/20 [01:31<04:30, 18.06s/it]"
          ]
        },
        {
          "output_type": "stream",
          "name": "stdout",
          "text": [
            "Number of Epoch = 5 - Average CCE:= 0.14063507486979165 - Average Accuracy:= 44.126666666666665%\n"
          ]
        },
        {
          "output_type": "stream",
          "name": "stderr",
          "text": [
            "\r 30%|███       | 6/20 [01:51<04:24, 18.92s/it]"
          ]
        },
        {
          "output_type": "stream",
          "name": "stdout",
          "text": [
            "Number of Epoch = 6 - Average CCE:= 0.13826070963541667 - Average Accuracy:= 45.07333333333333%\n"
          ]
        },
        {
          "output_type": "stream",
          "name": "stderr",
          "text": [
            "\r 35%|███▌      | 7/20 [02:06<03:47, 17.52s/it]"
          ]
        },
        {
          "output_type": "stream",
          "name": "stdout",
          "text": [
            "Number of Epoch = 7 - Average CCE:= 0.13610516764322916 - Average Accuracy:= 45.92166666666667%\n"
          ]
        },
        {
          "output_type": "stream",
          "name": "stderr",
          "text": [
            "\r 40%|████      | 8/20 [02:27<03:41, 18.50s/it]"
          ]
        },
        {
          "output_type": "stream",
          "name": "stdout",
          "text": [
            "Number of Epoch = 8 - Average CCE:= 0.09802074381510417 - Average Accuracy:= 60.94833333333334%\n"
          ]
        },
        {
          "output_type": "stream",
          "name": "stderr",
          "text": [
            "\r 45%|████▌     | 9/20 [02:42<03:13, 17.57s/it]"
          ]
        },
        {
          "output_type": "stream",
          "name": "stdout",
          "text": [
            "Number of Epoch = 9 - Average CCE:= 0.07761825358072917 - Average Accuracy:= 69.075%\n"
          ]
        },
        {
          "output_type": "stream",
          "name": "stderr",
          "text": [
            "\r 50%|█████     | 10/20 [03:03<03:05, 18.50s/it]"
          ]
        },
        {
          "output_type": "stream",
          "name": "stdout",
          "text": [
            "Number of Epoch = 10 - Average CCE:= 0.07243794759114583 - Average Accuracy:= 71.14333333333333%\n"
          ]
        },
        {
          "output_type": "stream",
          "name": "stderr",
          "text": [
            "\r 55%|█████▌    | 11/20 [03:23<02:52, 19.14s/it]"
          ]
        },
        {
          "output_type": "stream",
          "name": "stdout",
          "text": [
            "Number of Epoch = 11 - Average CCE:= 0.0696619873046875 - Average Accuracy:= 72.25833333333334%\n"
          ]
        },
        {
          "output_type": "stream",
          "name": "stderr",
          "text": [
            "\r 60%|██████    | 12/20 [03:38<02:22, 17.79s/it]"
          ]
        },
        {
          "output_type": "stream",
          "name": "stdout",
          "text": [
            "Number of Epoch = 12 - Average CCE:= 0.07014434407552084 - Average Accuracy:= 72.09%\n"
          ]
        },
        {
          "output_type": "stream",
          "name": "stderr",
          "text": [
            "\r 65%|██████▌   | 13/20 [03:53<01:57, 16.80s/it]"
          ]
        },
        {
          "output_type": "stream",
          "name": "stdout",
          "text": [
            "Number of Epoch = 13 - Average CCE:= 0.06680728759765625 - Average Accuracy:= 73.40666666666667%\n"
          ]
        },
        {
          "output_type": "stream",
          "name": "stderr",
          "text": [
            "\r 70%|███████   | 14/20 [04:13<01:47, 17.94s/it]"
          ]
        },
        {
          "output_type": "stream",
          "name": "stdout",
          "text": [
            "Number of Epoch = 14 - Average CCE:= 0.06721327718098959 - Average Accuracy:= 73.27833333333334%\n"
          ]
        },
        {
          "output_type": "stream",
          "name": "stderr",
          "text": [
            "\r 75%|███████▌  | 15/20 [04:28<01:25, 17.03s/it]"
          ]
        },
        {
          "output_type": "stream",
          "name": "stdout",
          "text": [
            "Number of Epoch = 15 - Average CCE:= 0.06576507975260416 - Average Accuracy:= 73.83333333333333%\n"
          ]
        },
        {
          "output_type": "stream",
          "name": "stderr",
          "text": [
            "\r 80%|████████  | 16/20 [04:43<01:05, 16.46s/it]"
          ]
        },
        {
          "output_type": "stream",
          "name": "stdout",
          "text": [
            "Number of Epoch = 16 - Average CCE:= 0.06451850992838541 - Average Accuracy:= 74.33166666666666%\n"
          ]
        },
        {
          "output_type": "stream",
          "name": "stderr",
          "text": [
            "\r 85%|████████▌ | 17/20 [04:59<00:48, 16.12s/it]"
          ]
        },
        {
          "output_type": "stream",
          "name": "stdout",
          "text": [
            "Number of Epoch = 17 - Average CCE:= 0.06381601969401042 - Average Accuracy:= 74.60666666666667%\n"
          ]
        },
        {
          "output_type": "stream",
          "name": "stderr",
          "text": [
            "\r 90%|█████████ | 18/20 [05:13<00:31, 15.75s/it]"
          ]
        },
        {
          "output_type": "stream",
          "name": "stdout",
          "text": [
            "Number of Epoch = 18 - Average CCE:= 0.06466699625651041 - Average Accuracy:= 74.28666666666666%\n"
          ]
        },
        {
          "output_type": "stream",
          "name": "stderr",
          "text": [
            "\r 95%|█████████▌| 19/20 [05:29<00:15, 15.60s/it]"
          ]
        },
        {
          "output_type": "stream",
          "name": "stdout",
          "text": [
            "Number of Epoch = 19 - Average CCE:= 0.06310406901041667 - Average Accuracy:= 74.91499999999999%\n"
          ]
        },
        {
          "output_type": "stream",
          "name": "stderr",
          "text": [
            "100%|██████████| 20/20 [05:44<00:00, 17.20s/it]"
          ]
        },
        {
          "output_type": "stream",
          "name": "stdout",
          "text": [
            "Number of Epoch = 20 - Average CCE:= 0.06307694498697916 - Average Accuracy:= 74.91666666666667%\n",
            "\n",
            "Total time taken (in seconds): 344.09\n"
          ]
        },
        {
          "output_type": "stream",
          "name": "stderr",
          "text": [
            "\n"
          ]
        }
      ]
    },
    {
      "cell_type": "code",
      "source": [
        "#default training\n",
        "mlp_default = MLP_combined(size_input, size_hidden_1, size_hidden_2, size_output, reg_mode = \"default\", lr = 0.05, device='gpu')\n",
        "train_model(mlp_default, NUM_EPOCHS, seed, 1000,512)"
      ],
      "metadata": {
        "colab": {
          "base_uri": "https://localhost:8080/"
        },
        "id": "_-_XNGeRgxzM",
        "outputId": "f3fb80da-5e03-4413-930d-d88ccc8f3677"
      },
      "execution_count": 30,
      "outputs": [
        {
          "output_type": "stream",
          "name": "stderr",
          "text": [
            "  5%|▌         | 1/20 [00:05<01:40,  5.31s/it]"
          ]
        },
        {
          "output_type": "stream",
          "name": "stdout",
          "text": [
            "Number of Epoch = 1 - Average CCE:= 0.021645084635416666 - Average Accuracy:= 31.128333333333337%\n"
          ]
        },
        {
          "output_type": "stream",
          "name": "stderr",
          "text": [
            "\r 10%|█         | 2/20 [00:08<01:15,  4.22s/it]"
          ]
        },
        {
          "output_type": "stream",
          "name": "stdout",
          "text": [
            "Number of Epoch = 2 - Average CCE:= 0.017260528564453124 - Average Accuracy:= 45.123333333333335%\n"
          ]
        },
        {
          "output_type": "stream",
          "name": "stderr",
          "text": [
            "\r 15%|█▌        | 3/20 [00:12<01:05,  3.83s/it]"
          ]
        },
        {
          "output_type": "stream",
          "name": "stdout",
          "text": [
            "Number of Epoch = 3 - Average CCE:= 0.014151726277669271 - Average Accuracy:= 54.87333333333333%\n"
          ]
        },
        {
          "output_type": "stream",
          "name": "stderr",
          "text": [
            "\r 20%|██        | 4/20 [00:15<00:59,  3.72s/it]"
          ]
        },
        {
          "output_type": "stream",
          "name": "stdout",
          "text": [
            "Number of Epoch = 4 - Average CCE:= 0.012602030436197917 - Average Accuracy:= 59.85%\n"
          ]
        },
        {
          "output_type": "stream",
          "name": "stderr",
          "text": [
            "\r 25%|██▌       | 5/20 [00:19<00:54,  3.63s/it]"
          ]
        },
        {
          "output_type": "stream",
          "name": "stdout",
          "text": [
            "Number of Epoch = 5 - Average CCE:= 0.011706473795572917 - Average Accuracy:= 62.65500000000001%\n"
          ]
        },
        {
          "output_type": "stream",
          "name": "stderr",
          "text": [
            "\r 30%|███       | 6/20 [00:22<00:50,  3.58s/it]"
          ]
        },
        {
          "output_type": "stream",
          "name": "stdout",
          "text": [
            "Number of Epoch = 6 - Average CCE:= 0.010930176798502604 - Average Accuracy:= 65.14666666666666%\n"
          ]
        },
        {
          "output_type": "stream",
          "name": "stderr",
          "text": [
            "\r 35%|███▌      | 7/20 [00:27<00:53,  4.12s/it]"
          ]
        },
        {
          "output_type": "stream",
          "name": "stdout",
          "text": [
            "Number of Epoch = 7 - Average CCE:= 0.010470763142903647 - Average Accuracy:= 66.59166666666667%\n"
          ]
        },
        {
          "output_type": "stream",
          "name": "stderr",
          "text": [
            "\r 40%|████      | 8/20 [00:31<00:46,  3.90s/it]"
          ]
        },
        {
          "output_type": "stream",
          "name": "stdout",
          "text": [
            "Number of Epoch = 8 - Average CCE:= 0.010126063028971354 - Average Accuracy:= 67.62833333333333%\n"
          ]
        },
        {
          "output_type": "stream",
          "name": "stderr",
          "text": [
            "\r 45%|████▌     | 9/20 [00:36<00:47,  4.31s/it]"
          ]
        },
        {
          "output_type": "stream",
          "name": "stdout",
          "text": [
            "Number of Epoch = 9 - Average CCE:= 0.009929289754231772 - Average Accuracy:= 68.31666666666666%\n"
          ]
        },
        {
          "output_type": "stream",
          "name": "stderr",
          "text": [
            "\r 50%|█████     | 10/20 [00:39<00:40,  4.04s/it]"
          ]
        },
        {
          "output_type": "stream",
          "name": "stdout",
          "text": [
            "Number of Epoch = 10 - Average CCE:= 0.00975590311686198 - Average Accuracy:= 68.87666666666667%\n"
          ]
        },
        {
          "output_type": "stream",
          "name": "stderr",
          "text": [
            "\r 55%|█████▌    | 11/20 [00:45<00:39,  4.40s/it]"
          ]
        },
        {
          "output_type": "stream",
          "name": "stdout",
          "text": [
            "Number of Epoch = 11 - Average CCE:= 0.009532535807291668 - Average Accuracy:= 69.66166666666666%\n"
          ]
        },
        {
          "output_type": "stream",
          "name": "stderr",
          "text": [
            "\r 60%|██████    | 12/20 [00:50<00:37,  4.66s/it]"
          ]
        },
        {
          "output_type": "stream",
          "name": "stdout",
          "text": [
            "Number of Epoch = 12 - Average CCE:= 0.009434663899739583 - Average Accuracy:= 69.96333333333334%\n"
          ]
        },
        {
          "output_type": "stream",
          "name": "stderr",
          "text": [
            "\r 65%|██████▌   | 13/20 [00:55<00:33,  4.83s/it]"
          ]
        },
        {
          "output_type": "stream",
          "name": "stdout",
          "text": [
            "Number of Epoch = 13 - Average CCE:= 0.009275325520833334 - Average Accuracy:= 70.46833333333333%\n"
          ]
        },
        {
          "output_type": "stream",
          "name": "stderr",
          "text": [
            "\r 70%|███████   | 14/20 [01:00<00:29,  4.96s/it]"
          ]
        },
        {
          "output_type": "stream",
          "name": "stdout",
          "text": [
            "Number of Epoch = 14 - Average CCE:= 0.009162839762369791 - Average Accuracy:= 70.84833333333333%\n"
          ]
        },
        {
          "output_type": "stream",
          "name": "stderr",
          "text": [
            "\r 75%|███████▌  | 15/20 [01:06<00:25,  5.05s/it]"
          ]
        },
        {
          "output_type": "stream",
          "name": "stdout",
          "text": [
            "Number of Epoch = 15 - Average CCE:= 0.00909409688313802 - Average Accuracy:= 71.07333333333334%\n"
          ]
        },
        {
          "output_type": "stream",
          "name": "stderr",
          "text": [
            "\r 80%|████████  | 16/20 [01:11<00:20,  5.12s/it]"
          ]
        },
        {
          "output_type": "stream",
          "name": "stdout",
          "text": [
            "Number of Epoch = 16 - Average CCE:= 0.008979386393229167 - Average Accuracy:= 71.435%\n"
          ]
        },
        {
          "output_type": "stream",
          "name": "stderr",
          "text": [
            "\r 85%|████████▌ | 17/20 [01:14<00:13,  4.62s/it]"
          ]
        },
        {
          "output_type": "stream",
          "name": "stdout",
          "text": [
            "Number of Epoch = 17 - Average CCE:= 0.008923719278971355 - Average Accuracy:= 71.575%\n"
          ]
        },
        {
          "output_type": "stream",
          "name": "stderr",
          "text": [
            "\r 90%|█████████ | 18/20 [01:18<00:08,  4.27s/it]"
          ]
        },
        {
          "output_type": "stream",
          "name": "stdout",
          "text": [
            "Number of Epoch = 18 - Average CCE:= 0.00885420633951823 - Average Accuracy:= 71.78166666666667%\n"
          ]
        },
        {
          "output_type": "stream",
          "name": "stderr",
          "text": [
            "\r 95%|█████████▌| 19/20 [01:21<00:04,  4.01s/it]"
          ]
        },
        {
          "output_type": "stream",
          "name": "stdout",
          "text": [
            "Number of Epoch = 19 - Average CCE:= 0.008766328938802083 - Average Accuracy:= 72.11999999999999%\n"
          ]
        },
        {
          "output_type": "stream",
          "name": "stderr",
          "text": [
            "100%|██████████| 20/20 [01:26<00:00,  4.35s/it]"
          ]
        },
        {
          "output_type": "stream",
          "name": "stdout",
          "text": [
            "Number of Epoch = 20 - Average CCE:= 0.008750503540039062 - Average Accuracy:= 72.10499999999999%\n",
            "\n",
            "Total time taken (in seconds): 86.94\n"
          ]
        },
        {
          "output_type": "stream",
          "name": "stderr",
          "text": [
            "\n"
          ]
        }
      ]
    },
    {
      "cell_type": "code",
      "source": [
        "#l2reg training\n",
        "mlp_l2 = MLP_combined(size_input, size_hidden_1, size_hidden_2, size_output, reg_mode = \"L2\", lambda_l2 = 0.05, device='gpu')\n",
        "train_model(mlp_l2, NUM_EPOCHS, seed, 1000,512)"
      ],
      "metadata": {
        "colab": {
          "base_uri": "https://localhost:8080/"
        },
        "id": "d0v2JlE1wlUs",
        "outputId": "81875f11-db6a-4593-bbb4-9dcb3f0409d3"
      },
      "execution_count": 31,
      "outputs": [
        {
          "output_type": "stream",
          "name": "stderr",
          "text": [
            "  5%|▌         | 1/20 [00:03<01:12,  3.84s/it]"
          ]
        },
        {
          "output_type": "stream",
          "name": "stdout",
          "text": [
            "Number of Epoch = 1 - Average CCE:= 0.02552958984375 - Average Accuracy:= 19.311666666666667%\n"
          ]
        },
        {
          "output_type": "stream",
          "name": "stderr",
          "text": [
            "\r 10%|█         | 2/20 [00:07<01:09,  3.84s/it]"
          ]
        },
        {
          "output_type": "stream",
          "name": "stdout",
          "text": [
            "Number of Epoch = 2 - Average CCE:= 0.02099154459635417 - Average Accuracy:= 33.70666666666667%\n"
          ]
        },
        {
          "output_type": "stream",
          "name": "stderr",
          "text": [
            "\r 15%|█▌        | 3/20 [00:12<01:15,  4.47s/it]"
          ]
        },
        {
          "output_type": "stream",
          "name": "stdout",
          "text": [
            "Number of Epoch = 3 - Average CCE:= 0.018812204996744793 - Average Accuracy:= 40.56333333333333%\n"
          ]
        },
        {
          "output_type": "stream",
          "name": "stderr",
          "text": [
            "\r 20%|██        | 4/20 [00:18<01:16,  4.77s/it]"
          ]
        },
        {
          "output_type": "stream",
          "name": "stdout",
          "text": [
            "Number of Epoch = 4 - Average CCE:= 0.015911673990885417 - Average Accuracy:= 49.76833333333333%\n"
          ]
        },
        {
          "output_type": "stream",
          "name": "stderr",
          "text": [
            "\r 25%|██▌       | 5/20 [00:23<01:14,  4.95s/it]"
          ]
        },
        {
          "output_type": "stream",
          "name": "stdout",
          "text": [
            "Number of Epoch = 5 - Average CCE:= 0.013362857055664062 - Average Accuracy:= 57.68833333333333%\n"
          ]
        },
        {
          "output_type": "stream",
          "name": "stderr",
          "text": [
            "\r 30%|███       | 6/20 [00:28<01:10,  5.04s/it]"
          ]
        },
        {
          "output_type": "stream",
          "name": "stdout",
          "text": [
            "Number of Epoch = 6 - Average CCE:= 0.011545878092447916 - Average Accuracy:= 63.36333333333334%\n"
          ]
        },
        {
          "output_type": "stream",
          "name": "stderr",
          "text": [
            "\r 35%|███▌      | 7/20 [00:33<01:06,  5.11s/it]"
          ]
        },
        {
          "output_type": "stream",
          "name": "stdout",
          "text": [
            "Number of Epoch = 7 - Average CCE:= 0.010431061808268229 - Average Accuracy:= 66.96833333333333%\n"
          ]
        },
        {
          "output_type": "stream",
          "name": "stderr",
          "text": [
            "\r 40%|████      | 8/20 [00:37<00:56,  4.75s/it]"
          ]
        },
        {
          "output_type": "stream",
          "name": "stdout",
          "text": [
            "Number of Epoch = 8 - Average CCE:= 0.009811079915364583 - Average Accuracy:= 68.89166666666667%\n"
          ]
        },
        {
          "output_type": "stream",
          "name": "stderr",
          "text": [
            "\r 45%|████▌     | 9/20 [00:41<00:49,  4.46s/it]"
          ]
        },
        {
          "output_type": "stream",
          "name": "stdout",
          "text": [
            "Number of Epoch = 9 - Average CCE:= 0.009391141764322916 - Average Accuracy:= 70.31333333333333%\n"
          ]
        },
        {
          "output_type": "stream",
          "name": "stderr",
          "text": [
            "\r 50%|█████     | 10/20 [00:46<00:46,  4.70s/it]"
          ]
        },
        {
          "output_type": "stream",
          "name": "stdout",
          "text": [
            "Number of Epoch = 10 - Average CCE:= 0.009097181193033854 - Average Accuracy:= 71.285%\n"
          ]
        },
        {
          "output_type": "stream",
          "name": "stderr",
          "text": [
            "\r 55%|█████▌    | 11/20 [00:50<00:39,  4.43s/it]"
          ]
        },
        {
          "output_type": "stream",
          "name": "stdout",
          "text": [
            "Number of Epoch = 11 - Average CCE:= 0.008859920247395833 - Average Accuracy:= 71.98%\n"
          ]
        },
        {
          "output_type": "stream",
          "name": "stderr",
          "text": [
            "\r 60%|██████    | 12/20 [00:54<00:34,  4.25s/it]"
          ]
        },
        {
          "output_type": "stream",
          "name": "stdout",
          "text": [
            "Number of Epoch = 12 - Average CCE:= 0.008767030843098959 - Average Accuracy:= 72.37166666666667%\n"
          ]
        },
        {
          "output_type": "stream",
          "name": "stderr",
          "text": [
            "\r 65%|██████▌   | 13/20 [00:58<00:28,  4.11s/it]"
          ]
        },
        {
          "output_type": "stream",
          "name": "stdout",
          "text": [
            "Number of Epoch = 13 - Average CCE:= 0.008610103352864584 - Average Accuracy:= 72.815%\n"
          ]
        },
        {
          "output_type": "stream",
          "name": "stderr",
          "text": [
            "\r 70%|███████   | 14/20 [01:03<00:26,  4.45s/it]"
          ]
        },
        {
          "output_type": "stream",
          "name": "stdout",
          "text": [
            "Number of Epoch = 14 - Average CCE:= 0.008516554260253906 - Average Accuracy:= 73.16666666666667%\n"
          ]
        },
        {
          "output_type": "stream",
          "name": "stderr",
          "text": [
            "\r 75%|███████▌  | 15/20 [01:07<00:21,  4.26s/it]"
          ]
        },
        {
          "output_type": "stream",
          "name": "stdout",
          "text": [
            "Number of Epoch = 15 - Average CCE:= 0.008468201700846355 - Average Accuracy:= 73.28333333333333%\n"
          ]
        },
        {
          "output_type": "stream",
          "name": "stderr",
          "text": [
            "\r 80%|████████  | 16/20 [01:11<00:16,  4.12s/it]"
          ]
        },
        {
          "output_type": "stream",
          "name": "stdout",
          "text": [
            "Number of Epoch = 16 - Average CCE:= 0.008377630615234374 - Average Accuracy:= 73.58666666666667%\n"
          ]
        },
        {
          "output_type": "stream",
          "name": "stderr",
          "text": [
            "\r 85%|████████▌ | 17/20 [01:14<00:12,  4.02s/it]"
          ]
        },
        {
          "output_type": "stream",
          "name": "stdout",
          "text": [
            "Number of Epoch = 17 - Average CCE:= 0.008356004842122396 - Average Accuracy:= 73.66%\n"
          ]
        },
        {
          "output_type": "stream",
          "name": "stderr",
          "text": [
            "\r 90%|█████████ | 18/20 [01:18<00:08,  4.01s/it]"
          ]
        },
        {
          "output_type": "stream",
          "name": "stdout",
          "text": [
            "Number of Epoch = 18 - Average CCE:= 0.008254427083333333 - Average Accuracy:= 74.01166666666667%\n"
          ]
        },
        {
          "output_type": "stream",
          "name": "stderr",
          "text": [
            "\r 95%|█████████▌| 19/20 [01:22<00:03,  3.95s/it]"
          ]
        },
        {
          "output_type": "stream",
          "name": "stdout",
          "text": [
            "Number of Epoch = 19 - Average CCE:= 0.008195360310872396 - Average Accuracy:= 74.13833333333332%\n"
          ]
        },
        {
          "output_type": "stream",
          "name": "stderr",
          "text": [
            "100%|██████████| 20/20 [01:26<00:00,  4.33s/it]"
          ]
        },
        {
          "output_type": "stream",
          "name": "stdout",
          "text": [
            "Number of Epoch = 20 - Average CCE:= 0.008120443725585938 - Average Accuracy:= 74.41666666666666%\n",
            "\n",
            "Total time taken (in seconds): 86.60\n"
          ]
        },
        {
          "output_type": "stream",
          "name": "stderr",
          "text": [
            "\n"
          ]
        }
      ]
    },
    {
      "cell_type": "code",
      "source": [
        "#l2reg training\n",
        "mlp_l2 = MLP_combined(size_input, size_hidden_1, size_hidden_2, size_output, reg_mode = \"L2\", lambda_l2 = 0.05, device='gpu')\n",
        "train_model(mlp_l2, NUM_EPOCHS, seed, 100,64)"
      ],
      "metadata": {
        "colab": {
          "base_uri": "https://localhost:8080/"
        },
        "id": "7Y4IcYtAtyBZ",
        "outputId": "18c3cfb0-c340-4b8d-f1f0-ba35c7c000f3"
      },
      "execution_count": 41,
      "outputs": [
        {
          "output_type": "stream",
          "name": "stderr",
          "text": [
            "  5%|▌         | 1/20 [00:21<06:46, 21.39s/it]"
          ]
        },
        {
          "output_type": "stream",
          "name": "stdout",
          "text": [
            "Number of Epoch = 1 - Average CCE:= 0.17843375651041668 - Average Accuracy:= 29.30333333333333%\n"
          ]
        },
        {
          "output_type": "stream",
          "name": "stderr",
          "text": [
            "\r 10%|█         | 2/20 [00:38<05:41, 18.95s/it]"
          ]
        },
        {
          "output_type": "stream",
          "name": "stdout",
          "text": [
            "Number of Epoch = 2 - Average CCE:= 0.160369189453125 - Average Accuracy:= 36.525%\n"
          ]
        },
        {
          "output_type": "stream",
          "name": "stderr",
          "text": [
            "\r 15%|█▌        | 3/20 [00:59<05:34, 19.69s/it]"
          ]
        },
        {
          "output_type": "stream",
          "name": "stdout",
          "text": [
            "Number of Epoch = 3 - Average CCE:= 0.14598846028645834 - Average Accuracy:= 42.20833333333333%\n"
          ]
        },
        {
          "output_type": "stream",
          "name": "stderr",
          "text": [
            "\r 20%|██        | 4/20 [01:19<05:20, 20.06s/it]"
          ]
        },
        {
          "output_type": "stream",
          "name": "stdout",
          "text": [
            "Number of Epoch = 4 - Average CCE:= 0.14087488606770834 - Average Accuracy:= 44.255%\n"
          ]
        },
        {
          "output_type": "stream",
          "name": "stderr",
          "text": [
            "\r 25%|██▌       | 5/20 [01:37<04:48, 19.24s/it]"
          ]
        },
        {
          "output_type": "stream",
          "name": "stdout",
          "text": [
            "Number of Epoch = 5 - Average CCE:= 0.13927176106770833 - Average Accuracy:= 44.89%\n"
          ]
        },
        {
          "output_type": "stream",
          "name": "stderr",
          "text": [
            "\r 30%|███       | 6/20 [01:55<04:22, 18.77s/it]"
          ]
        },
        {
          "output_type": "stream",
          "name": "stdout",
          "text": [
            "Number of Epoch = 6 - Average CCE:= 0.13735556640625 - Average Accuracy:= 45.681666666666665%\n"
          ]
        },
        {
          "output_type": "stream",
          "name": "stderr",
          "text": [
            "\r 35%|███▌      | 7/20 [02:16<04:11, 19.36s/it]"
          ]
        },
        {
          "output_type": "stream",
          "name": "stdout",
          "text": [
            "Number of Epoch = 7 - Average CCE:= 0.136859814453125 - Average Accuracy:= 45.88166666666667%\n"
          ]
        },
        {
          "output_type": "stream",
          "name": "stderr",
          "text": [
            "\r 40%|████      | 8/20 [02:33<03:45, 18.77s/it]"
          ]
        },
        {
          "output_type": "stream",
          "name": "stdout",
          "text": [
            "Number of Epoch = 8 - Average CCE:= 0.13615240071614584 - Average Accuracy:= 46.155%\n"
          ]
        },
        {
          "output_type": "stream",
          "name": "stderr",
          "text": [
            "\r 45%|████▌     | 9/20 [02:54<03:32, 19.33s/it]"
          ]
        },
        {
          "output_type": "stream",
          "name": "stdout",
          "text": [
            "Number of Epoch = 9 - Average CCE:= 0.1272703369140625 - Average Accuracy:= 49.63666666666667%\n"
          ]
        },
        {
          "output_type": "stream",
          "name": "stderr",
          "text": [
            "\r 50%|█████     | 10/20 [03:11<03:08, 18.85s/it]"
          ]
        },
        {
          "output_type": "stream",
          "name": "stdout",
          "text": [
            "Number of Epoch = 10 - Average CCE:= 0.11550419921875 - Average Accuracy:= 54.318333333333335%\n"
          ]
        },
        {
          "output_type": "stream",
          "name": "stderr",
          "text": [
            "\r 55%|█████▌    | 11/20 [03:29<02:47, 18.56s/it]"
          ]
        },
        {
          "output_type": "stream",
          "name": "stdout",
          "text": [
            "Number of Epoch = 11 - Average CCE:= 0.10404684244791666 - Average Accuracy:= 58.830000000000005%\n"
          ]
        },
        {
          "output_type": "stream",
          "name": "stderr",
          "text": [
            "\r 60%|██████    | 12/20 [03:47<02:27, 18.40s/it]"
          ]
        },
        {
          "output_type": "stream",
          "name": "stdout",
          "text": [
            "Number of Epoch = 12 - Average CCE:= 0.09560511067708333 - Average Accuracy:= 62.20666666666666%\n"
          ]
        },
        {
          "output_type": "stream",
          "name": "stderr",
          "text": [
            "\r 65%|██████▌   | 13/20 [04:06<02:08, 18.37s/it]"
          ]
        },
        {
          "output_type": "stream",
          "name": "stdout",
          "text": [
            "Number of Epoch = 13 - Average CCE:= 0.09203765462239584 - Average Accuracy:= 63.62166666666666%\n"
          ]
        },
        {
          "output_type": "stream",
          "name": "stderr",
          "text": [
            "\r 70%|███████   | 14/20 [04:26<01:54, 19.03s/it]"
          ]
        },
        {
          "output_type": "stream",
          "name": "stdout",
          "text": [
            "Number of Epoch = 14 - Average CCE:= 0.092369921875 - Average Accuracy:= 63.50333333333333%\n"
          ]
        },
        {
          "output_type": "stream",
          "name": "stderr",
          "text": [
            "\r 75%|███████▌  | 15/20 [04:44<01:33, 18.65s/it]"
          ]
        },
        {
          "output_type": "stream",
          "name": "stdout",
          "text": [
            "Number of Epoch = 15 - Average CCE:= 0.089811376953125 - Average Accuracy:= 64.51666666666667%\n"
          ]
        },
        {
          "output_type": "stream",
          "name": "stderr",
          "text": [
            "\r 80%|████████  | 16/20 [05:02<01:13, 18.36s/it]"
          ]
        },
        {
          "output_type": "stream",
          "name": "stdout",
          "text": [
            "Number of Epoch = 16 - Average CCE:= 0.08918739420572917 - Average Accuracy:= 64.77666666666667%\n"
          ]
        },
        {
          "output_type": "stream",
          "name": "stderr",
          "text": [
            "\r 85%|████████▌ | 17/20 [05:22<00:57, 19.03s/it]"
          ]
        },
        {
          "output_type": "stream",
          "name": "stdout",
          "text": [
            "Number of Epoch = 17 - Average CCE:= 0.08284159342447917 - Average Accuracy:= 67.25166666666667%\n"
          ]
        },
        {
          "output_type": "stream",
          "name": "stderr",
          "text": [
            "\r 90%|█████████ | 18/20 [05:43<00:39, 19.51s/it]"
          ]
        },
        {
          "output_type": "stream",
          "name": "stdout",
          "text": [
            "Number of Epoch = 18 - Average CCE:= 0.07251875813802083 - Average Accuracy:= 71.35166666666667%\n"
          ]
        },
        {
          "output_type": "stream",
          "name": "stderr",
          "text": [
            "\r 95%|█████████▌| 19/20 [06:03<00:19, 19.85s/it]"
          ]
        },
        {
          "output_type": "stream",
          "name": "stdout",
          "text": [
            "Number of Epoch = 19 - Average CCE:= 0.070668408203125 - Average Accuracy:= 72.1%\n"
          ]
        },
        {
          "output_type": "stream",
          "name": "stderr",
          "text": [
            "100%|██████████| 20/20 [06:21<00:00, 19.08s/it]"
          ]
        },
        {
          "output_type": "stream",
          "name": "stdout",
          "text": [
            "Number of Epoch = 20 - Average CCE:= 0.07031485188802084 - Average Accuracy:= 72.21833333333333%\n",
            "\n",
            "Total time taken (in seconds): 381.63\n"
          ]
        },
        {
          "output_type": "stream",
          "name": "stderr",
          "text": [
            "\n"
          ]
        }
      ]
    },
    {
      "cell_type": "code",
      "source": [
        "#dropout training\n",
        "mlp_dropout = MLP_combined(size_input, size_hidden_1, size_hidden_2, size_output, reg_mode = \"dropout\", dropout = 0.3, device='gpu')\n",
        "train_model(mlp_dropout, NUM_EPOCHS, seed, 1000,512)"
      ],
      "metadata": {
        "colab": {
          "base_uri": "https://localhost:8080/"
        },
        "id": "_zCi2BG5wwre",
        "outputId": "c5f59050-56bc-419a-8dba-31d4b5fb6523"
      },
      "execution_count": 36,
      "outputs": [
        {
          "output_type": "stream",
          "name": "stderr",
          "text": [
            "  5%|▌         | 1/20 [00:10<03:16, 10.37s/it]"
          ]
        },
        {
          "output_type": "stream",
          "name": "stdout",
          "text": [
            "Number of Epoch = 1 - Average CCE:= 0.027097235107421874 - Average Accuracy:= 14.215%\n"
          ]
        },
        {
          "output_type": "stream",
          "name": "stderr",
          "text": [
            "\r 10%|█         | 2/20 [00:15<02:12,  7.37s/it]"
          ]
        },
        {
          "output_type": "stream",
          "name": "stdout",
          "text": [
            "Number of Epoch = 2 - Average CCE:= 0.023969694010416667 - Average Accuracy:= 24.10333333333333%\n"
          ]
        },
        {
          "output_type": "stream",
          "name": "stderr",
          "text": [
            "\r 15%|█▌        | 3/20 [00:20<01:48,  6.38s/it]"
          ]
        },
        {
          "output_type": "stream",
          "name": "stdout",
          "text": [
            "Number of Epoch = 3 - Average CCE:= 0.022381658935546875 - Average Accuracy:= 29.095%\n"
          ]
        },
        {
          "output_type": "stream",
          "name": "stderr",
          "text": [
            "\r 20%|██        | 4/20 [00:25<01:30,  5.69s/it]"
          ]
        },
        {
          "output_type": "stream",
          "name": "stdout",
          "text": [
            "Number of Epoch = 4 - Average CCE:= 0.019959769694010417 - Average Accuracy:= 36.655%\n"
          ]
        },
        {
          "output_type": "stream",
          "name": "stderr",
          "text": [
            "\r 25%|██▌       | 5/20 [00:30<01:19,  5.32s/it]"
          ]
        },
        {
          "output_type": "stream",
          "name": "stdout",
          "text": [
            "Number of Epoch = 5 - Average CCE:= 0.017841156005859376 - Average Accuracy:= 43.419999999999995%\n"
          ]
        },
        {
          "output_type": "stream",
          "name": "stderr",
          "text": [
            "\r 30%|███       | 6/20 [00:35<01:14,  5.29s/it]"
          ]
        },
        {
          "output_type": "stream",
          "name": "stdout",
          "text": [
            "Number of Epoch = 6 - Average CCE:= 0.016932320149739583 - Average Accuracy:= 46.294999999999995%\n"
          ]
        },
        {
          "output_type": "stream",
          "name": "stderr",
          "text": [
            "\r 35%|███▌      | 7/20 [00:39<01:05,  5.04s/it]"
          ]
        },
        {
          "output_type": "stream",
          "name": "stdout",
          "text": [
            "Number of Epoch = 7 - Average CCE:= 0.016333717854817707 - Average Accuracy:= 48.21333333333334%\n"
          ]
        },
        {
          "output_type": "stream",
          "name": "stderr",
          "text": [
            "\r 40%|████      | 8/20 [00:45<01:01,  5.10s/it]"
          ]
        },
        {
          "output_type": "stream",
          "name": "stdout",
          "text": [
            "Number of Epoch = 8 - Average CCE:= 0.01604078877766927 - Average Accuracy:= 49.17%\n"
          ]
        },
        {
          "output_type": "stream",
          "name": "stderr",
          "text": [
            "\r 45%|████▌     | 9/20 [00:50<00:56,  5.14s/it]"
          ]
        },
        {
          "output_type": "stream",
          "name": "stdout",
          "text": [
            "Number of Epoch = 9 - Average CCE:= 0.015742906697591146 - Average Accuracy:= 50.135%\n"
          ]
        },
        {
          "output_type": "stream",
          "name": "stderr",
          "text": [
            "\r 50%|█████     | 10/20 [00:55<00:51,  5.16s/it]"
          ]
        },
        {
          "output_type": "stream",
          "name": "stdout",
          "text": [
            "Number of Epoch = 10 - Average CCE:= 0.015516550699869791 - Average Accuracy:= 50.818333333333335%\n"
          ]
        },
        {
          "output_type": "stream",
          "name": "stderr",
          "text": [
            "\r 55%|█████▌    | 11/20 [01:00<00:46,  5.19s/it]"
          ]
        },
        {
          "output_type": "stream",
          "name": "stdout",
          "text": [
            "Number of Epoch = 11 - Average CCE:= 0.015162496948242187 - Average Accuracy:= 51.955%\n"
          ]
        },
        {
          "output_type": "stream",
          "name": "stderr",
          "text": [
            "\r 60%|██████    | 12/20 [01:06<00:41,  5.20s/it]"
          ]
        },
        {
          "output_type": "stream",
          "name": "stdout",
          "text": [
            "Number of Epoch = 12 - Average CCE:= 0.014596441650390625 - Average Accuracy:= 53.711666666666666%\n"
          ]
        },
        {
          "output_type": "stream",
          "name": "stderr",
          "text": [
            "\r 65%|██████▌   | 13/20 [01:11<00:36,  5.21s/it]"
          ]
        },
        {
          "output_type": "stream",
          "name": "stdout",
          "text": [
            "Number of Epoch = 13 - Average CCE:= 0.014197101847330728 - Average Accuracy:= 54.95833333333333%\n"
          ]
        },
        {
          "output_type": "stream",
          "name": "stderr",
          "text": [
            "\r 70%|███████   | 14/20 [01:15<00:28,  4.82s/it]"
          ]
        },
        {
          "output_type": "stream",
          "name": "stdout",
          "text": [
            "Number of Epoch = 14 - Average CCE:= 0.01391746317545573 - Average Accuracy:= 55.846666666666664%\n"
          ]
        },
        {
          "output_type": "stream",
          "name": "stderr",
          "text": [
            "\r 75%|███████▌  | 15/20 [01:20<00:24,  4.94s/it]"
          ]
        },
        {
          "output_type": "stream",
          "name": "stdout",
          "text": [
            "Number of Epoch = 15 - Average CCE:= 0.013701481119791666 - Average Accuracy:= 56.51666666666667%\n"
          ]
        },
        {
          "output_type": "stream",
          "name": "stderr",
          "text": [
            "\r 80%|████████  | 16/20 [01:25<00:20,  5.02s/it]"
          ]
        },
        {
          "output_type": "stream",
          "name": "stdout",
          "text": [
            "Number of Epoch = 16 - Average CCE:= 0.013462451171875 - Average Accuracy:= 57.34666666666667%\n"
          ]
        },
        {
          "output_type": "stream",
          "name": "stderr",
          "text": [
            "\r 85%|████████▌ | 17/20 [01:29<00:14,  4.83s/it]"
          ]
        },
        {
          "output_type": "stream",
          "name": "stdout",
          "text": [
            "Number of Epoch = 17 - Average CCE:= 0.013248987833658854 - Average Accuracy:= 57.95333333333333%\n"
          ]
        },
        {
          "output_type": "stream",
          "name": "stderr",
          "text": [
            "\r 90%|█████████ | 18/20 [01:35<00:09,  4.95s/it]"
          ]
        },
        {
          "output_type": "stream",
          "name": "stdout",
          "text": [
            "Number of Epoch = 18 - Average CCE:= 0.013035978190104167 - Average Accuracy:= 58.656666666666666%\n"
          ]
        },
        {
          "output_type": "stream",
          "name": "stderr",
          "text": [
            "\r 95%|█████████▌| 19/20 [01:39<00:04,  4.73s/it]"
          ]
        },
        {
          "output_type": "stream",
          "name": "stdout",
          "text": [
            "Number of Epoch = 19 - Average CCE:= 0.012164452107747395 - Average Accuracy:= 61.27166666666667%\n"
          ]
        },
        {
          "output_type": "stream",
          "name": "stderr",
          "text": [
            "100%|██████████| 20/20 [01:44<00:00,  5.23s/it]"
          ]
        },
        {
          "output_type": "stream",
          "name": "stdout",
          "text": [
            "Number of Epoch = 20 - Average CCE:= 0.011132398478190104 - Average Accuracy:= 64.56833333333334%\n",
            "\n",
            "Total time taken (in seconds): 104.67\n"
          ]
        },
        {
          "output_type": "stream",
          "name": "stderr",
          "text": [
            "\n"
          ]
        }
      ]
    },
    {
      "cell_type": "code",
      "source": [
        "#dropout training\n",
        "mlp_dropout = MLP_combined(size_input, size_hidden_1, size_hidden_2, size_output, reg_mode = \"dropout\", dropout = 0.3, device='gpu')\n",
        "train_model(mlp_dropout, NUM_EPOCHS, seed, 100,64)"
      ],
      "metadata": {
        "colab": {
          "base_uri": "https://localhost:8080/"
        },
        "id": "HTpoe_2YvTrk",
        "outputId": "3adb518c-7da1-404a-a551-990036382182"
      },
      "execution_count": 42,
      "outputs": [
        {
          "output_type": "stream",
          "name": "stderr",
          "text": [
            "  5%|▌         | 1/20 [00:19<06:08, 19.40s/it]"
          ]
        },
        {
          "output_type": "stream",
          "name": "stdout",
          "text": [
            "Number of Epoch = 1 - Average CCE:= 0.18236220703125 - Average Accuracy:= 27.441666666666663%\n"
          ]
        },
        {
          "output_type": "stream",
          "name": "stderr",
          "text": [
            "\r 10%|█         | 2/20 [00:39<06:01, 20.10s/it]"
          ]
        },
        {
          "output_type": "stream",
          "name": "stdout",
          "text": [
            "Number of Epoch = 2 - Average CCE:= 0.142130908203125 - Average Accuracy:= 43.45%\n"
          ]
        },
        {
          "output_type": "stream",
          "name": "stderr",
          "text": [
            "\r 15%|█▌        | 3/20 [00:58<05:31, 19.50s/it]"
          ]
        },
        {
          "output_type": "stream",
          "name": "stdout",
          "text": [
            "Number of Epoch = 3 - Average CCE:= 0.12633936360677084 - Average Accuracy:= 49.70166666666667%\n"
          ]
        },
        {
          "output_type": "stream",
          "name": "stderr",
          "text": [
            "\r 20%|██        | 4/20 [01:19<05:18, 19.92s/it]"
          ]
        },
        {
          "output_type": "stream",
          "name": "stdout",
          "text": [
            "Number of Epoch = 4 - Average CCE:= 0.1092954833984375 - Average Accuracy:= 56.44%\n"
          ]
        },
        {
          "output_type": "stream",
          "name": "stderr",
          "text": [
            "\r 25%|██▌       | 5/20 [01:39<05:02, 20.18s/it]"
          ]
        },
        {
          "output_type": "stream",
          "name": "stdout",
          "text": [
            "Number of Epoch = 5 - Average CCE:= 0.08353812662760417 - Average Accuracy:= 66.63833333333334%\n"
          ]
        },
        {
          "output_type": "stream",
          "name": "stderr",
          "text": [
            "\r 30%|███       | 6/20 [01:58<04:33, 19.56s/it]"
          ]
        },
        {
          "output_type": "stream",
          "name": "stdout",
          "text": [
            "Number of Epoch = 6 - Average CCE:= 0.06946922200520833 - Average Accuracy:= 72.255%\n"
          ]
        },
        {
          "output_type": "stream",
          "name": "stderr",
          "text": [
            "\r 35%|███▌      | 7/20 [02:17<04:13, 19.48s/it]"
          ]
        },
        {
          "output_type": "stream",
          "name": "stdout",
          "text": [
            "Number of Epoch = 7 - Average CCE:= 0.06386332194010416 - Average Accuracy:= 74.53%\n"
          ]
        },
        {
          "output_type": "stream",
          "name": "stderr",
          "text": [
            "\r 40%|████      | 8/20 [02:38<03:58, 19.83s/it]"
          ]
        },
        {
          "output_type": "stream",
          "name": "stdout",
          "text": [
            "Number of Epoch = 8 - Average CCE:= 0.062177685546875 - Average Accuracy:= 75.175%\n"
          ]
        },
        {
          "output_type": "stream",
          "name": "stderr",
          "text": [
            "\r 45%|████▌     | 9/20 [02:57<03:36, 19.66s/it]"
          ]
        },
        {
          "output_type": "stream",
          "name": "stdout",
          "text": [
            "Number of Epoch = 9 - Average CCE:= 0.05787794596354166 - Average Accuracy:= 76.895%\n"
          ]
        },
        {
          "output_type": "stream",
          "name": "stderr",
          "text": [
            "\r 50%|█████     | 10/20 [03:20<03:27, 20.75s/it]"
          ]
        },
        {
          "output_type": "stream",
          "name": "stdout",
          "text": [
            "Number of Epoch = 10 - Average CCE:= 0.05526580403645833 - Average Accuracy:= 77.96166666666666%\n"
          ]
        },
        {
          "output_type": "stream",
          "name": "stderr",
          "text": [
            "\r 55%|█████▌    | 11/20 [03:41<03:06, 20.68s/it]"
          ]
        },
        {
          "output_type": "stream",
          "name": "stdout",
          "text": [
            "Number of Epoch = 11 - Average CCE:= 0.05529805501302083 - Average Accuracy:= 77.915%\n"
          ]
        },
        {
          "output_type": "stream",
          "name": "stderr",
          "text": [
            "\r 60%|██████    | 12/20 [04:01<02:45, 20.65s/it]"
          ]
        },
        {
          "output_type": "stream",
          "name": "stdout",
          "text": [
            "Number of Epoch = 12 - Average CCE:= 0.05344333902994792 - Average Accuracy:= 78.67833333333333%\n"
          ]
        },
        {
          "output_type": "stream",
          "name": "stderr",
          "text": [
            "\r 65%|██████▌   | 13/20 [04:22<02:24, 20.63s/it]"
          ]
        },
        {
          "output_type": "stream",
          "name": "stdout",
          "text": [
            "Number of Epoch = 13 - Average CCE:= 0.052362516276041667 - Average Accuracy:= 79.10166666666667%\n"
          ]
        },
        {
          "output_type": "stream",
          "name": "stderr",
          "text": [
            "\r 70%|███████   | 14/20 [04:43<02:03, 20.64s/it]"
          ]
        },
        {
          "output_type": "stream",
          "name": "stdout",
          "text": [
            "Number of Epoch = 14 - Average CCE:= 0.0516248779296875 - Average Accuracy:= 79.43666666666667%\n"
          ]
        },
        {
          "output_type": "stream",
          "name": "stderr",
          "text": [
            "\r 75%|███████▌  | 15/20 [04:59<01:36, 19.31s/it]"
          ]
        },
        {
          "output_type": "stream",
          "name": "stdout",
          "text": [
            "Number of Epoch = 15 - Average CCE:= 0.04922760009765625 - Average Accuracy:= 80.37166666666667%\n"
          ]
        },
        {
          "output_type": "stream",
          "name": "stderr",
          "text": [
            "\r 80%|████████  | 16/20 [05:19<01:18, 19.69s/it]"
          ]
        },
        {
          "output_type": "stream",
          "name": "stdout",
          "text": [
            "Number of Epoch = 16 - Average CCE:= 0.050702665201822913 - Average Accuracy:= 79.77166666666666%\n"
          ]
        },
        {
          "output_type": "stream",
          "name": "stderr",
          "text": [
            "\r 85%|████████▌ | 17/20 [05:36<00:56, 18.78s/it]"
          ]
        },
        {
          "output_type": "stream",
          "name": "stdout",
          "text": [
            "Number of Epoch = 17 - Average CCE:= 0.04917155354817708 - Average Accuracy:= 80.40666666666667%\n"
          ]
        },
        {
          "output_type": "stream",
          "name": "stderr",
          "text": [
            "\r 90%|█████████ | 18/20 [05:57<00:38, 19.32s/it]"
          ]
        },
        {
          "output_type": "stream",
          "name": "stdout",
          "text": [
            "Number of Epoch = 18 - Average CCE:= 0.04922142333984375 - Average Accuracy:= 80.40333333333334%\n"
          ]
        },
        {
          "output_type": "stream",
          "name": "stderr",
          "text": [
            "\r 95%|█████████▌| 19/20 [06:13<00:18, 18.58s/it]"
          ]
        },
        {
          "output_type": "stream",
          "name": "stdout",
          "text": [
            "Number of Epoch = 19 - Average CCE:= 0.04744493408203125 - Average Accuracy:= 81.08%\n"
          ]
        },
        {
          "output_type": "stream",
          "name": "stderr",
          "text": [
            "100%|██████████| 20/20 [06:30<00:00, 19.51s/it]"
          ]
        },
        {
          "output_type": "stream",
          "name": "stdout",
          "text": [
            "Number of Epoch = 20 - Average CCE:= 0.047373067220052086 - Average Accuracy:= 81.12166666666667%\n",
            "\n",
            "Total time taken (in seconds): 390.16\n"
          ]
        },
        {
          "output_type": "stream",
          "name": "stderr",
          "text": [
            "\n"
          ]
        }
      ]
    },
    {
      "cell_type": "code",
      "source": [
        "#dropout training\n",
        "NUM_EPOCHS = 50\n",
        "mlp_dropout = MLP_combined(size_input, size_hidden_1, size_hidden_2, size_output, reg_mode = \"dropout\", dropout = 0.3, device='gpu')\n",
        "train_model(mlp_dropout, NUM_EPOCHS, seed, 1000,512)"
      ],
      "metadata": {
        "colab": {
          "base_uri": "https://localhost:8080/"
        },
        "id": "8WULCenEyQah",
        "outputId": "871b8c37-dcf1-4c7a-deaf-d86d4dc02518"
      },
      "execution_count": 44,
      "outputs": [
        {
          "output_type": "stream",
          "name": "stderr",
          "text": [
            "  2%|▏         | 1/50 [00:05<04:17,  5.25s/it]"
          ]
        },
        {
          "output_type": "stream",
          "name": "stdout",
          "text": [
            "Number of Epoch = 1 - Average CCE:= 0.024509676106770833 - Average Accuracy:= 22.226666666666667%\n"
          ]
        },
        {
          "output_type": "stream",
          "name": "stderr",
          "text": [
            "\r  4%|▍         | 2/50 [00:09<03:34,  4.47s/it]"
          ]
        },
        {
          "output_type": "stream",
          "name": "stdout",
          "text": [
            "Number of Epoch = 2 - Average CCE:= 0.019988043212890626 - Average Accuracy:= 36.48833333333334%\n"
          ]
        },
        {
          "output_type": "stream",
          "name": "stderr",
          "text": [
            "\r  6%|▌         | 3/50 [00:14<03:46,  4.81s/it]"
          ]
        },
        {
          "output_type": "stream",
          "name": "stdout",
          "text": [
            "Number of Epoch = 3 - Average CCE:= 0.01721927286783854 - Average Accuracy:= 45.25666666666667%\n"
          ]
        },
        {
          "output_type": "stream",
          "name": "stderr",
          "text": [
            "\r  8%|▊         | 4/50 [00:19<03:48,  4.97s/it]"
          ]
        },
        {
          "output_type": "stream",
          "name": "stdout",
          "text": [
            "Number of Epoch = 4 - Average CCE:= 0.014941507975260417 - Average Accuracy:= 52.46833333333333%\n"
          ]
        },
        {
          "output_type": "stream",
          "name": "stderr",
          "text": [
            "\r 10%|█         | 5/50 [00:23<03:27,  4.62s/it]"
          ]
        },
        {
          "output_type": "stream",
          "name": "stdout",
          "text": [
            "Number of Epoch = 5 - Average CCE:= 0.012891565958658854 - Average Accuracy:= 58.919999999999995%\n"
          ]
        },
        {
          "output_type": "stream",
          "name": "stderr",
          "text": [
            "\r 12%|█▏        | 6/50 [00:27<03:13,  4.40s/it]"
          ]
        },
        {
          "output_type": "stream",
          "name": "stdout",
          "text": [
            "Number of Epoch = 6 - Average CCE:= 0.011915687052408854 - Average Accuracy:= 62.01166666666666%\n"
          ]
        },
        {
          "output_type": "stream",
          "name": "stderr",
          "text": [
            "\r 14%|█▍        | 7/50 [00:32<03:20,  4.67s/it]"
          ]
        },
        {
          "output_type": "stream",
          "name": "stdout",
          "text": [
            "Number of Epoch = 7 - Average CCE:= 0.011244820149739583 - Average Accuracy:= 64.23%\n"
          ]
        },
        {
          "output_type": "stream",
          "name": "stderr",
          "text": [
            "\r 16%|█▌        | 8/50 [00:38<03:23,  4.84s/it]"
          ]
        },
        {
          "output_type": "stream",
          "name": "stdout",
          "text": [
            "Number of Epoch = 8 - Average CCE:= 0.010713075764973958 - Average Accuracy:= 65.88666666666667%\n"
          ]
        },
        {
          "output_type": "stream",
          "name": "stderr",
          "text": [
            "\r 18%|█▊        | 9/50 [00:43<03:23,  4.96s/it]"
          ]
        },
        {
          "output_type": "stream",
          "name": "stdout",
          "text": [
            "Number of Epoch = 9 - Average CCE:= 0.0104226318359375 - Average Accuracy:= 66.84666666666666%\n"
          ]
        },
        {
          "output_type": "stream",
          "name": "stderr",
          "text": [
            "\r 20%|██        | 10/50 [00:48<03:22,  5.06s/it]"
          ]
        },
        {
          "output_type": "stream",
          "name": "stdout",
          "text": [
            "Number of Epoch = 10 - Average CCE:= 0.010078037516276043 - Average Accuracy:= 67.915%\n"
          ]
        },
        {
          "output_type": "stream",
          "name": "stderr",
          "text": [
            "\r 22%|██▏       | 11/50 [00:53<03:19,  5.12s/it]"
          ]
        },
        {
          "output_type": "stream",
          "name": "stdout",
          "text": [
            "Number of Epoch = 11 - Average CCE:= 0.009867428588867187 - Average Accuracy:= 68.525%\n"
          ]
        },
        {
          "output_type": "stream",
          "name": "stderr",
          "text": [
            "\r 24%|██▍       | 12/50 [00:57<03:01,  4.76s/it]"
          ]
        },
        {
          "output_type": "stream",
          "name": "stdout",
          "text": [
            "Number of Epoch = 12 - Average CCE:= 0.009690016682942709 - Average Accuracy:= 69.20500000000001%\n"
          ]
        },
        {
          "output_type": "stream",
          "name": "stderr",
          "text": [
            "\r 26%|██▌       | 13/50 [01:02<03:01,  4.90s/it]"
          ]
        },
        {
          "output_type": "stream",
          "name": "stdout",
          "text": [
            "Number of Epoch = 13 - Average CCE:= 0.009583468627929687 - Average Accuracy:= 69.49499999999999%\n"
          ]
        },
        {
          "output_type": "stream",
          "name": "stderr",
          "text": [
            "\r 28%|██▊       | 14/50 [01:08<02:59,  5.00s/it]"
          ]
        },
        {
          "output_type": "stream",
          "name": "stdout",
          "text": [
            "Number of Epoch = 14 - Average CCE:= 0.009427670288085938 - Average Accuracy:= 70.02000000000001%\n"
          ]
        },
        {
          "output_type": "stream",
          "name": "stderr",
          "text": [
            "\r 30%|███       | 15/50 [01:12<02:44,  4.71s/it]"
          ]
        },
        {
          "output_type": "stream",
          "name": "stdout",
          "text": [
            "Number of Epoch = 15 - Average CCE:= 0.00925083719889323 - Average Accuracy:= 70.58666666666666%\n"
          ]
        },
        {
          "output_type": "stream",
          "name": "stderr",
          "text": [
            "\r 32%|███▏      | 16/50 [01:16<02:32,  4.49s/it]"
          ]
        },
        {
          "output_type": "stream",
          "name": "stdout",
          "text": [
            "Number of Epoch = 16 - Average CCE:= 0.009141028849283854 - Average Accuracy:= 70.92500000000001%\n"
          ]
        },
        {
          "output_type": "stream",
          "name": "stderr",
          "text": [
            "\r 34%|███▍      | 17/50 [01:20<02:22,  4.32s/it]"
          ]
        },
        {
          "output_type": "stream",
          "name": "stdout",
          "text": [
            "Number of Epoch = 17 - Average CCE:= 0.009063057454427084 - Average Accuracy:= 71.16166666666666%\n"
          ]
        },
        {
          "output_type": "stream",
          "name": "stderr",
          "text": [
            "\r 36%|███▌      | 18/50 [01:25<02:27,  4.59s/it]"
          ]
        },
        {
          "output_type": "stream",
          "name": "stdout",
          "text": [
            "Number of Epoch = 18 - Average CCE:= 0.008925025431315105 - Average Accuracy:= 71.65333333333334%\n"
          ]
        },
        {
          "output_type": "stream",
          "name": "stderr",
          "text": [
            "\r 38%|███▊      | 19/50 [01:30<02:28,  4.80s/it]"
          ]
        },
        {
          "output_type": "stream",
          "name": "stdout",
          "text": [
            "Number of Epoch = 19 - Average CCE:= 0.008893470255533853 - Average Accuracy:= 71.71666666666667%\n"
          ]
        },
        {
          "output_type": "stream",
          "name": "stderr",
          "text": [
            "\r 40%|████      | 20/50 [01:34<02:17,  4.58s/it]"
          ]
        },
        {
          "output_type": "stream",
          "name": "stdout",
          "text": [
            "Number of Epoch = 20 - Average CCE:= 0.008812046305338541 - Average Accuracy:= 71.955%\n"
          ]
        },
        {
          "output_type": "stream",
          "name": "stderr",
          "text": [
            "\r 42%|████▏     | 21/50 [01:39<02:18,  4.77s/it]"
          ]
        },
        {
          "output_type": "stream",
          "name": "stdout",
          "text": [
            "Number of Epoch = 21 - Average CCE:= 0.0087520751953125 - Average Accuracy:= 72.21166666666666%\n"
          ]
        },
        {
          "output_type": "stream",
          "name": "stderr",
          "text": [
            "\r 44%|████▍     | 22/50 [01:43<02:07,  4.55s/it]"
          ]
        },
        {
          "output_type": "stream",
          "name": "stdout",
          "text": [
            "Number of Epoch = 22 - Average CCE:= 0.008717986043294271 - Average Accuracy:= 72.275%\n"
          ]
        },
        {
          "output_type": "stream",
          "name": "stderr",
          "text": [
            "\r 46%|████▌     | 23/50 [01:49<02:08,  4.75s/it]"
          ]
        },
        {
          "output_type": "stream",
          "name": "stdout",
          "text": [
            "Number of Epoch = 23 - Average CCE:= 0.008651299031575521 - Average Accuracy:= 72.48666666666666%\n"
          ]
        },
        {
          "output_type": "stream",
          "name": "stderr",
          "text": [
            "\r 48%|████▊     | 24/50 [01:54<02:07,  4.89s/it]"
          ]
        },
        {
          "output_type": "stream",
          "name": "stdout",
          "text": [
            "Number of Epoch = 24 - Average CCE:= 0.008612393188476562 - Average Accuracy:= 72.61999999999999%\n"
          ]
        },
        {
          "output_type": "stream",
          "name": "stderr",
          "text": [
            "\r 50%|█████     | 25/50 [01:59<02:04,  4.99s/it]"
          ]
        },
        {
          "output_type": "stream",
          "name": "stdout",
          "text": [
            "Number of Epoch = 25 - Average CCE:= 0.008533920288085937 - Average Accuracy:= 72.91833333333332%\n"
          ]
        },
        {
          "output_type": "stream",
          "name": "stderr",
          "text": [
            "\r 52%|█████▏    | 26/50 [02:03<01:52,  4.69s/it]"
          ]
        },
        {
          "output_type": "stream",
          "name": "stdout",
          "text": [
            "Number of Epoch = 26 - Average CCE:= 0.008475838216145833 - Average Accuracy:= 73.045%\n"
          ]
        },
        {
          "output_type": "stream",
          "name": "stderr",
          "text": [
            "\r 54%|█████▍    | 27/50 [02:08<01:51,  4.85s/it]"
          ]
        },
        {
          "output_type": "stream",
          "name": "stdout",
          "text": [
            "Number of Epoch = 27 - Average CCE:= 0.008477566528320312 - Average Accuracy:= 73.045%\n"
          ]
        },
        {
          "output_type": "stream",
          "name": "stderr",
          "text": [
            "\r 56%|█████▌    | 28/50 [02:14<01:49,  4.96s/it]"
          ]
        },
        {
          "output_type": "stream",
          "name": "stdout",
          "text": [
            "Number of Epoch = 28 - Average CCE:= 0.008409402465820313 - Average Accuracy:= 73.36333333333333%\n"
          ]
        },
        {
          "output_type": "stream",
          "name": "stderr",
          "text": [
            "\r 58%|█████▊    | 29/50 [02:19<01:45,  5.04s/it]"
          ]
        },
        {
          "output_type": "stream",
          "name": "stdout",
          "text": [
            "Number of Epoch = 29 - Average CCE:= 0.008325038655598959 - Average Accuracy:= 73.54333333333334%\n"
          ]
        },
        {
          "output_type": "stream",
          "name": "stderr",
          "text": [
            "\r 60%|██████    | 30/50 [02:23<01:34,  4.74s/it]"
          ]
        },
        {
          "output_type": "stream",
          "name": "stdout",
          "text": [
            "Number of Epoch = 30 - Average CCE:= 0.00829745839436849 - Average Accuracy:= 73.63833333333332%\n"
          ]
        },
        {
          "output_type": "stream",
          "name": "stderr",
          "text": [
            "\r 62%|██████▏   | 31/50 [02:28<01:32,  4.89s/it]"
          ]
        },
        {
          "output_type": "stream",
          "name": "stdout",
          "text": [
            "Number of Epoch = 31 - Average CCE:= 0.008279303995768228 - Average Accuracy:= 73.70333333333333%\n"
          ]
        },
        {
          "output_type": "stream",
          "name": "stderr",
          "text": [
            "\r 64%|██████▍   | 32/50 [02:33<01:30,  5.00s/it]"
          ]
        },
        {
          "output_type": "stream",
          "name": "stdout",
          "text": [
            "Number of Epoch = 32 - Average CCE:= 0.008140921020507813 - Average Accuracy:= 74.07333333333334%\n"
          ]
        },
        {
          "output_type": "stream",
          "name": "stderr",
          "text": [
            "\r 66%|██████▌   | 33/50 [02:39<01:26,  5.09s/it]"
          ]
        },
        {
          "output_type": "stream",
          "name": "stdout",
          "text": [
            "Number of Epoch = 33 - Average CCE:= 0.008115069580078125 - Average Accuracy:= 74.16666666666667%\n"
          ]
        },
        {
          "output_type": "stream",
          "name": "stderr",
          "text": [
            "\r 68%|██████▊   | 34/50 [02:44<01:22,  5.13s/it]"
          ]
        },
        {
          "output_type": "stream",
          "name": "stdout",
          "text": [
            "Number of Epoch = 34 - Average CCE:= 0.00793408457438151 - Average Accuracy:= 74.70166666666667%\n"
          ]
        },
        {
          "output_type": "stream",
          "name": "stderr",
          "text": [
            "\r 70%|███████   | 35/50 [02:49<01:17,  5.16s/it]"
          ]
        },
        {
          "output_type": "stream",
          "name": "stdout",
          "text": [
            "Number of Epoch = 35 - Average CCE:= 0.007802185567220052 - Average Accuracy:= 75.11333333333333%\n"
          ]
        },
        {
          "output_type": "stream",
          "name": "stderr",
          "text": [
            "\r 72%|███████▏  | 36/50 [02:53<01:06,  4.75s/it]"
          ]
        },
        {
          "output_type": "stream",
          "name": "stdout",
          "text": [
            "Number of Epoch = 36 - Average CCE:= 0.0075070521036783855 - Average Accuracy:= 76.06666666666668%\n"
          ]
        },
        {
          "output_type": "stream",
          "name": "stderr",
          "text": [
            "\r 74%|███████▍  | 37/50 [02:57<00:58,  4.47s/it]"
          ]
        },
        {
          "output_type": "stream",
          "name": "stdout",
          "text": [
            "Number of Epoch = 37 - Average CCE:= 0.00728896484375 - Average Accuracy:= 76.75%\n"
          ]
        },
        {
          "output_type": "stream",
          "name": "stderr",
          "text": [
            "\r 76%|███████▌  | 38/50 [03:02<00:56,  4.70s/it]"
          ]
        },
        {
          "output_type": "stream",
          "name": "stdout",
          "text": [
            "Number of Epoch = 38 - Average CCE:= 0.007001506042480469 - Average Accuracy:= 77.68166666666667%\n"
          ]
        },
        {
          "output_type": "stream",
          "name": "stderr",
          "text": [
            "\r 78%|███████▊  | 39/50 [03:06<00:49,  4.51s/it]"
          ]
        },
        {
          "output_type": "stream",
          "name": "stdout",
          "text": [
            "Number of Epoch = 39 - Average CCE:= 0.0068650227864583335 - Average Accuracy:= 78.11666666666667%\n"
          ]
        },
        {
          "output_type": "stream",
          "name": "stderr",
          "text": [
            "\r 80%|████████  | 40/50 [03:11<00:47,  4.73s/it]"
          ]
        },
        {
          "output_type": "stream",
          "name": "stdout",
          "text": [
            "Number of Epoch = 40 - Average CCE:= 0.006705170186360677 - Average Accuracy:= 78.58166666666668%\n"
          ]
        },
        {
          "output_type": "stream",
          "name": "stderr",
          "text": [
            "\r 82%|████████▏ | 41/50 [03:15<00:40,  4.51s/it]"
          ]
        },
        {
          "output_type": "stream",
          "name": "stdout",
          "text": [
            "Number of Epoch = 41 - Average CCE:= 0.006594098409016927 - Average Accuracy:= 78.94333333333333%\n"
          ]
        },
        {
          "output_type": "stream",
          "name": "stderr",
          "text": [
            "\r 84%|████████▍ | 42/50 [03:20<00:37,  4.72s/it]"
          ]
        },
        {
          "output_type": "stream",
          "name": "stdout",
          "text": [
            "Number of Epoch = 42 - Average CCE:= 0.006473236083984375 - Average Accuracy:= 79.31166666666667%\n"
          ]
        },
        {
          "output_type": "stream",
          "name": "stderr",
          "text": [
            "\r 86%|████████▌ | 43/50 [03:24<00:31,  4.51s/it]"
          ]
        },
        {
          "output_type": "stream",
          "name": "stdout",
          "text": [
            "Number of Epoch = 43 - Average CCE:= 0.006435380554199219 - Average Accuracy:= 79.43%\n"
          ]
        },
        {
          "output_type": "stream",
          "name": "stderr",
          "text": [
            "\r 88%|████████▊ | 44/50 [03:28<00:25,  4.32s/it]"
          ]
        },
        {
          "output_type": "stream",
          "name": "stdout",
          "text": [
            "Number of Epoch = 44 - Average CCE:= 0.006394633992513021 - Average Accuracy:= 79.55166666666666%\n"
          ]
        },
        {
          "output_type": "stream",
          "name": "stderr",
          "text": [
            "\r 90%|█████████ | 45/50 [03:32<00:20,  4.17s/it]"
          ]
        },
        {
          "output_type": "stream",
          "name": "stdout",
          "text": [
            "Number of Epoch = 45 - Average CCE:= 0.006273894755045573 - Average Accuracy:= 79.97333333333333%\n"
          ]
        },
        {
          "output_type": "stream",
          "name": "stderr",
          "text": [
            "\r 92%|█████████▏| 46/50 [03:36<00:16,  4.10s/it]"
          ]
        },
        {
          "output_type": "stream",
          "name": "stdout",
          "text": [
            "Number of Epoch = 46 - Average CCE:= 0.00624100341796875 - Average Accuracy:= 80.085%\n"
          ]
        },
        {
          "output_type": "stream",
          "name": "stderr",
          "text": [
            "\r 94%|█████████▍| 47/50 [03:40<00:12,  4.05s/it]"
          ]
        },
        {
          "output_type": "stream",
          "name": "stdout",
          "text": [
            "Number of Epoch = 47 - Average CCE:= 0.006124768575032552 - Average Accuracy:= 80.41%\n"
          ]
        },
        {
          "output_type": "stream",
          "name": "stderr",
          "text": [
            "\r 96%|█████████▌| 48/50 [03:44<00:08,  4.01s/it]"
          ]
        },
        {
          "output_type": "stream",
          "name": "stdout",
          "text": [
            "Number of Epoch = 48 - Average CCE:= 0.006144720967610677 - Average Accuracy:= 80.37666666666667%\n"
          ]
        },
        {
          "output_type": "stream",
          "name": "stderr",
          "text": [
            "\r 98%|█████████▊| 49/50 [03:49<00:04,  4.37s/it]"
          ]
        },
        {
          "output_type": "stream",
          "name": "stdout",
          "text": [
            "Number of Epoch = 49 - Average CCE:= 0.006043127950032552 - Average Accuracy:= 80.69%\n"
          ]
        },
        {
          "output_type": "stream",
          "name": "stderr",
          "text": [
            "100%|██████████| 50/50 [03:53<00:00,  4.67s/it]"
          ]
        },
        {
          "output_type": "stream",
          "name": "stdout",
          "text": [
            "Number of Epoch = 50 - Average CCE:= 0.00597988993326823 - Average Accuracy:= 80.88666666666666%\n",
            "\n",
            "Total time taken (in seconds): 233.67\n"
          ]
        },
        {
          "output_type": "stream",
          "name": "stderr",
          "text": [
            "\n"
          ]
        }
      ]
    },
    {
      "cell_type": "markdown",
      "metadata": {
        "id": "PXe-2MENCOjq"
      },
      "source": [
        "## One Step Inference"
      ]
    },
    {
      "cell_type": "markdown",
      "source": [
        "#function to test the model and return CCE and Accuracy"
      ],
      "metadata": {
        "id": "H3SmU9jJvbJm"
      }
    },
    {
      "cell_type": "code",
      "source": [
        "#function to test the model and return CCE and Accuracy\n",
        "def test_model(mlp):\n",
        "  test_loss_total = tf.Variable(0, dtype=tf.float32)\n",
        "  correct_preds_total = 0\n",
        "  #test_loss_total = 0.0\n",
        "  for inputs, outputs in test_ds:\n",
        "    preds = mlp.forward(inputs)\n",
        "    test_loss_total = test_loss_total + mlp.loss(preds, outputs)\n",
        "    y_pred_argmax = np.argmax(preds, 1)\n",
        "    y_true_argmax = np.argmax(outputs, 1)\n",
        "    k = (y_pred_argmax == y_true_argmax)\n",
        "    correct_preds_batch = len(k[k == True])\n",
        "\n",
        "    correct_preds_total += correct_preds_batch\n",
        "  \n",
        "  tot_cce = np.sum(test_loss_total.numpy()) / X_test.shape[0]\n",
        "  tot_acc = correct_preds_total/X_test.shape[0]\n",
        "  print('Test CCE: {:.4f}, Accuracy : {}'.format(tot_cce, tot_acc))\n",
        "  return (tot_cce, tot_acc)"
      ],
      "metadata": {
        "id": "2urT0GJqtQ5P"
      },
      "execution_count": 45,
      "outputs": []
    },
    {
      "cell_type": "code",
      "source": [
        "#testing default\n",
        "test_ds = tf.data.Dataset.from_tensor_slices((X_test, y_test)).batch(100)\n",
        "test_model(mlp_default)"
      ],
      "metadata": {
        "colab": {
          "base_uri": "https://localhost:8080/"
        },
        "id": "R-7ERjKyuW-Q",
        "outputId": "ae9391dd-8ddf-4c53-b3c9-09ba07ff769f"
      },
      "execution_count": 46,
      "outputs": [
        {
          "output_type": "stream",
          "name": "stdout",
          "text": [
            "Test CCE: 0.0432, Accuracy : 0.7294\n"
          ]
        },
        {
          "output_type": "execute_result",
          "data": {
            "text/plain": [
              "(0.04322297668457031, 0.7294)"
            ]
          },
          "metadata": {},
          "execution_count": 46
        }
      ]
    },
    {
      "cell_type": "code",
      "source": [
        "#testing L2 model\n",
        "test_ds = tf.data.Dataset.from_tensor_slices((X_test, y_test)).batch(100)\n",
        "test_model(mlp_l2)"
      ],
      "metadata": {
        "colab": {
          "base_uri": "https://localhost:8080/"
        },
        "id": "rfYgLvb-zdqC",
        "outputId": "ce4956af-8e44-4259-878b-cd980117b895"
      },
      "execution_count": 47,
      "outputs": [
        {
          "output_type": "stream",
          "name": "stdout",
          "text": [
            "Test CCE: 0.0419, Accuracy : 0.7412\n"
          ]
        },
        {
          "output_type": "execute_result",
          "data": {
            "text/plain": [
              "(0.041940997314453124, 0.7412)"
            ]
          },
          "metadata": {},
          "execution_count": 47
        }
      ]
    },
    {
      "cell_type": "code",
      "source": [
        "#testing dropout model\n",
        "test_ds = tf.data.Dataset.from_tensor_slices((X_test, y_test)).batch(100)\n",
        "test_model(mlp_dropout)"
      ],
      "metadata": {
        "colab": {
          "base_uri": "https://localhost:8080/"
        },
        "id": "_B24CJ8nz5bH",
        "outputId": "1452e1c9-79e7-485b-ed1c-a0fde0aeeef8"
      },
      "execution_count": 48,
      "outputs": [
        {
          "output_type": "stream",
          "name": "stdout",
          "text": [
            "Test CCE: 0.0306, Accuracy : 0.8077\n"
          ]
        },
        {
          "output_type": "execute_result",
          "data": {
            "text/plain": [
              "(0.030606463623046875, 0.8077)"
            ]
          },
          "metadata": {},
          "execution_count": 48
        }
      ]
    },
    {
      "cell_type": "code",
      "source": [
        "#testing dropout model\n",
        "#training batch size 64 model\n",
        "test_ds = tf.data.Dataset.from_tensor_slices((X_test, y_test)).batch(100)\n",
        "test_model(mlp_dropout)"
      ],
      "metadata": {
        "colab": {
          "base_uri": "https://localhost:8080/"
        },
        "id": "mHWzSk46xT6L",
        "outputId": "a6346ff1-6587-4865-bcc2-ea28b5438633"
      },
      "execution_count": 43,
      "outputs": [
        {
          "output_type": "stream",
          "name": "stdout",
          "text": [
            "Test CCE: 0.0293, Accuracy : 0.8173\n"
          ]
        },
        {
          "output_type": "execute_result",
          "data": {
            "text/plain": [
              "(0.029330807495117187, 0.8173)"
            ]
          },
          "metadata": {},
          "execution_count": 43
        }
      ]
    },
    {
      "cell_type": "code",
      "source": [
        "# Obtaining inferences for all three models - 10 iteration per model\n",
        "from tqdm import tqdm\n",
        "\n",
        "############## Setting values as per dataset ##############\n",
        "size_input = 784\n",
        "size_hidden_1 = 100 \n",
        "size_hidden_2 = 100\n",
        "size_output = 10 \n",
        "number_of_train_examples = X_train.shape[0]\n",
        "number_of_test_examples = X_test.shape[0]\n",
        "print (f\"{number_of_test_examples},{number_of_train_examples}\")\n",
        "\n",
        "########################################################\n",
        "'''\n",
        "Additional steps done above\n",
        "1. Reshape to flatten\n",
        "2. Normalization\n",
        "3. One hot encoding\n",
        "'''\n",
        "\n",
        "#######################################################\n",
        "reg_type_list = [\"default\", \"L2\", \"dropout\"]\n",
        "inference_stats_dict = {\"default\":{}, \"L2\": {}, \"dropout\": {}}\n",
        "lambda_val = 0.05\n",
        "dropout_val = 0.3\n",
        "NUM_EPOCHS = 20\n",
        "random_seeds = list(np.random.randint(low=2000, high=4000, size=10))\n",
        "inf_iters = 10\n",
        "device_type = 'gpu'\n",
        "shuffle_size = 1000\n",
        "batch_size = 512\n",
        "learning_rate = 0.05\n",
        "test_ds = tf.data.Dataset.from_tensor_slices((X_test, y_test)).batch(100)\n",
        "####################################################\n",
        "\n",
        "for reg_type in reg_type_list:\n",
        "  print (f\"## START: Current Model: {reg_type} ##\")\n",
        "  cce_list = []\n",
        "  acc_list = []\n",
        "  for iter in tqdm(range(inf_iters)):\n",
        "    print(f\"\\n** Inference Iteration: {iter} **\")\n",
        "    cur_seed = random_seeds[iter]\n",
        "    print (f\"\\n#Training {reg_type} model with seed {cur_seed}#\")\n",
        "    np.random.seed(cur_seed)\n",
        "    tf.random.set_seed(cur_seed)\n",
        "\n",
        "    # Model initialization as per regularization type - regularization code triggers only if knob is on\n",
        "    mlp = MLP_combined(size_input, size_hidden_1, size_hidden_2, size_output, reg_mode = reg_type, lambda_l2 = lambda_val, dropout = dropout_val, lr = learning_rate, device=device_type)\n",
        "    train_model(mlp, NUM_EPOCHS, cur_seed, shuffle_size, batch_size)\n",
        "\n",
        "    # Testing the data\n",
        "    (cce, acc) = test_model(mlp)\n",
        "    print(f\"seed: {cur_seed}, Cross Entropy loss: {cce}, Accuracy: {acc}\")\n",
        "\n",
        "    cce_list.append(cce)\n",
        "    acc_list.append(acc)\n",
        "\n",
        "  inference_stats_dict[reg_type][\"cce_list\"] = cce_list\n",
        "  inference_stats_dict[reg_type][\"acc_list\"] = acc_list\n",
        "  print (f\"## END: Current Model: {reg_type}##\")\n",
        "  print (f\"Current inference results: {inference_stats_dict}\")\n",
        "################################   "
      ],
      "metadata": {
        "colab": {
          "base_uri": "https://localhost:8080/"
        },
        "id": "WFlQ4IQADRx3",
        "outputId": "804aaca3-4eb8-497b-ba93-d242dca607ed"
      },
      "execution_count": 50,
      "outputs": [
        {
          "output_type": "stream",
          "name": "stdout",
          "text": [
            "10000,60000\n",
            "## START: Current Model: default ##\n"
          ]
        },
        {
          "output_type": "stream",
          "name": "stderr",
          "text": [
            "\r  0%|          | 0/10 [00:00<?, ?it/s]"
          ]
        },
        {
          "output_type": "stream",
          "name": "stdout",
          "text": [
            "\n",
            "** Inference Iteration: 0 **\n",
            "\n",
            "#Training default model with seed 3058#\n"
          ]
        },
        {
          "output_type": "stream",
          "name": "stderr",
          "text": [
            "\n",
            "  0%|          | 0/20 [00:00<?, ?it/s]\u001b[A\n",
            "  5%|▌         | 1/20 [00:06<01:59,  6.28s/it]\u001b[A"
          ]
        },
        {
          "output_type": "stream",
          "name": "stdout",
          "text": [
            "Number of Epoch = 1 - Average CCE:= 0.025529276529947915 - Average Accuracy:= 19.183333333333334%\n"
          ]
        },
        {
          "output_type": "stream",
          "name": "stderr",
          "text": [
            "\n",
            " 10%|█         | 2/20 [00:16<02:36,  8.68s/it]\u001b[A"
          ]
        },
        {
          "output_type": "stream",
          "name": "stdout",
          "text": [
            "Number of Epoch = 2 - Average CCE:= 0.022481569417317708 - Average Accuracy:= 28.810000000000002%\n"
          ]
        },
        {
          "output_type": "stream",
          "name": "stderr",
          "text": [
            "\n",
            " 15%|█▌        | 3/20 [00:20<01:48,  6.36s/it]\u001b[A"
          ]
        },
        {
          "output_type": "stream",
          "name": "stdout",
          "text": [
            "Number of Epoch = 3 - Average CCE:= 0.02103731486002604 - Average Accuracy:= 33.395%\n"
          ]
        },
        {
          "output_type": "stream",
          "name": "stderr",
          "text": [
            "\n",
            " 20%|██        | 4/20 [00:25<01:34,  5.91s/it]\u001b[A"
          ]
        },
        {
          "output_type": "stream",
          "name": "stdout",
          "text": [
            "Number of Epoch = 4 - Average CCE:= 0.020739408365885417 - Average Accuracy:= 34.43333333333333%\n"
          ]
        },
        {
          "output_type": "stream",
          "name": "stderr",
          "text": [
            "\n",
            " 25%|██▌       | 5/20 [00:29<01:15,  5.06s/it]\u001b[A"
          ]
        },
        {
          "output_type": "stream",
          "name": "stdout",
          "text": [
            "Number of Epoch = 5 - Average CCE:= 0.020489054361979165 - Average Accuracy:= 35.19833333333333%\n"
          ]
        },
        {
          "output_type": "stream",
          "name": "stderr",
          "text": [
            "\n",
            " 30%|███       | 6/20 [00:34<01:11,  5.11s/it]\u001b[A"
          ]
        },
        {
          "output_type": "stream",
          "name": "stdout",
          "text": [
            "Number of Epoch = 6 - Average CCE:= 0.020383461507161457 - Average Accuracy:= 35.59166666666667%\n"
          ]
        },
        {
          "output_type": "stream",
          "name": "stderr",
          "text": [
            "\n",
            " 35%|███▌      | 7/20 [00:39<01:07,  5.15s/it]\u001b[A"
          ]
        },
        {
          "output_type": "stream",
          "name": "stdout",
          "text": [
            "Number of Epoch = 7 - Average CCE:= 0.020277107747395832 - Average Accuracy:= 35.91166666666666%\n"
          ]
        },
        {
          "output_type": "stream",
          "name": "stderr",
          "text": [
            "\n",
            " 40%|████      | 8/20 [00:44<01:02,  5.18s/it]\u001b[A"
          ]
        },
        {
          "output_type": "stream",
          "name": "stdout",
          "text": [
            "Number of Epoch = 8 - Average CCE:= 0.020170025634765627 - Average Accuracy:= 36.25666666666667%\n"
          ]
        },
        {
          "output_type": "stream",
          "name": "stderr",
          "text": [
            "\n",
            " 45%|████▌     | 9/20 [00:48<00:52,  4.76s/it]\u001b[A"
          ]
        },
        {
          "output_type": "stream",
          "name": "stdout",
          "text": [
            "Number of Epoch = 9 - Average CCE:= 0.019962288411458334 - Average Accuracy:= 36.85333333333333%\n"
          ]
        },
        {
          "output_type": "stream",
          "name": "stderr",
          "text": [
            "\n",
            " 50%|█████     | 10/20 [00:52<00:44,  4.45s/it]\u001b[A"
          ]
        },
        {
          "output_type": "stream",
          "name": "stdout",
          "text": [
            "Number of Epoch = 10 - Average CCE:= 0.0195319580078125 - Average Accuracy:= 38.214999999999996%\n"
          ]
        },
        {
          "output_type": "stream",
          "name": "stderr",
          "text": [
            "\n",
            " 55%|█████▌    | 11/20 [00:57<00:42,  4.69s/it]\u001b[A"
          ]
        },
        {
          "output_type": "stream",
          "name": "stdout",
          "text": [
            "Number of Epoch = 11 - Average CCE:= 0.01821358642578125 - Average Accuracy:= 42.333333333333336%\n"
          ]
        },
        {
          "output_type": "stream",
          "name": "stderr",
          "text": [
            "\n",
            " 60%|██████    | 12/20 [01:01<00:34,  4.35s/it]\u001b[A"
          ]
        },
        {
          "output_type": "stream",
          "name": "stdout",
          "text": [
            "Number of Epoch = 12 - Average CCE:= 0.017166780598958334 - Average Accuracy:= 45.58333333333333%\n"
          ]
        },
        {
          "output_type": "stream",
          "name": "stderr",
          "text": [
            "\n",
            " 65%|██████▌   | 13/20 [01:06<00:32,  4.62s/it]\u001b[A"
          ]
        },
        {
          "output_type": "stream",
          "name": "stdout",
          "text": [
            "Number of Epoch = 13 - Average CCE:= 0.01597261759440104 - Average Accuracy:= 49.36%\n"
          ]
        },
        {
          "output_type": "stream",
          "name": "stderr",
          "text": [
            "\n",
            " 70%|███████   | 14/20 [01:10<00:26,  4.36s/it]\u001b[A"
          ]
        },
        {
          "output_type": "stream",
          "name": "stdout",
          "text": [
            "Number of Epoch = 14 - Average CCE:= 0.015475362141927084 - Average Accuracy:= 50.925%\n"
          ]
        },
        {
          "output_type": "stream",
          "name": "stderr",
          "text": [
            "\n",
            " 75%|███████▌  | 15/20 [01:13<00:20,  4.13s/it]\u001b[A"
          ]
        },
        {
          "output_type": "stream",
          "name": "stdout",
          "text": [
            "Number of Epoch = 15 - Average CCE:= 0.015191421508789063 - Average Accuracy:= 51.836666666666666%\n"
          ]
        },
        {
          "output_type": "stream",
          "name": "stderr",
          "text": [
            "\n",
            " 80%|████████  | 16/20 [01:18<00:17,  4.46s/it]\u001b[A"
          ]
        },
        {
          "output_type": "stream",
          "name": "stdout",
          "text": [
            "Number of Epoch = 16 - Average CCE:= 0.015077701822916666 - Average Accuracy:= 52.288333333333334%\n"
          ]
        },
        {
          "output_type": "stream",
          "name": "stderr",
          "text": [
            "\n",
            " 85%|████████▌ | 17/20 [01:22<00:12,  4.23s/it]\u001b[A"
          ]
        },
        {
          "output_type": "stream",
          "name": "stdout",
          "text": [
            "Number of Epoch = 17 - Average CCE:= 0.014940892537434896 - Average Accuracy:= 52.666666666666664%\n"
          ]
        },
        {
          "output_type": "stream",
          "name": "stderr",
          "text": [
            "\n",
            " 90%|█████████ | 18/20 [01:26<00:08,  4.03s/it]\u001b[A"
          ]
        },
        {
          "output_type": "stream",
          "name": "stdout",
          "text": [
            "Number of Epoch = 18 - Average CCE:= 0.014788650512695312 - Average Accuracy:= 53.11833333333333%\n"
          ]
        },
        {
          "output_type": "stream",
          "name": "stderr",
          "text": [
            "\n",
            " 95%|█████████▌| 19/20 [01:31<00:04,  4.39s/it]\u001b[A"
          ]
        },
        {
          "output_type": "stream",
          "name": "stdout",
          "text": [
            "Number of Epoch = 19 - Average CCE:= 0.014708717854817708 - Average Accuracy:= 53.368333333333325%\n"
          ]
        },
        {
          "output_type": "stream",
          "name": "stderr",
          "text": [
            "\n",
            "100%|██████████| 20/20 [01:34<00:00,  4.75s/it]"
          ]
        },
        {
          "output_type": "stream",
          "name": "stdout",
          "text": [
            "Number of Epoch = 20 - Average CCE:= 0.014682872517903647 - Average Accuracy:= 53.52333333333333%\n",
            "\n",
            "Total time taken (in seconds): 95.03\n"
          ]
        },
        {
          "output_type": "stream",
          "name": "stderr",
          "text": [
            "\n",
            " 10%|█         | 1/10 [01:35<14:21, 95.70s/it]"
          ]
        },
        {
          "output_type": "stream",
          "name": "stdout",
          "text": [
            "Test CCE: 0.0748, Accuracy : 0.5342\n",
            "seed: 3058, Cross Entropy loss: 0.0748375244140625, Accuracy: 0.5342\n",
            "\n",
            "** Inference Iteration: 1 **\n",
            "\n",
            "#Training default model with seed 3717#\n"
          ]
        },
        {
          "output_type": "stream",
          "name": "stderr",
          "text": [
            "\n",
            "  0%|          | 0/20 [00:00<?, ?it/s]\u001b[A\n",
            "  5%|▌         | 1/20 [00:05<01:39,  5.23s/it]\u001b[A"
          ]
        },
        {
          "output_type": "stream",
          "name": "stdout",
          "text": [
            "Number of Epoch = 1 - Average CCE:= 0.023399131266276043 - Average Accuracy:= 25.715%\n"
          ]
        },
        {
          "output_type": "stream",
          "name": "stderr",
          "text": [
            "\n",
            " 10%|█         | 2/20 [00:10<01:34,  5.22s/it]\u001b[A"
          ]
        },
        {
          "output_type": "stream",
          "name": "stdout",
          "text": [
            "Number of Epoch = 2 - Average CCE:= 0.01888338623046875 - Average Accuracy:= 39.98%\n"
          ]
        },
        {
          "output_type": "stream",
          "name": "stderr",
          "text": [
            "\n",
            " 15%|█▌        | 3/20 [00:14<01:18,  4.60s/it]\u001b[A"
          ]
        },
        {
          "output_type": "stream",
          "name": "stdout",
          "text": [
            "Number of Epoch = 3 - Average CCE:= 0.01595177714029948 - Average Accuracy:= 49.303333333333335%\n"
          ]
        },
        {
          "output_type": "stream",
          "name": "stderr",
          "text": [
            "\n",
            " 20%|██        | 4/20 [00:17<01:07,  4.20s/it]\u001b[A"
          ]
        },
        {
          "output_type": "stream",
          "name": "stdout",
          "text": [
            "Number of Epoch = 4 - Average CCE:= 0.015264924112955729 - Average Accuracy:= 51.57666666666667%\n"
          ]
        },
        {
          "output_type": "stream",
          "name": "stderr",
          "text": [
            "\n",
            " 25%|██▌       | 5/20 [00:23<01:08,  4.57s/it]\u001b[A"
          ]
        },
        {
          "output_type": "stream",
          "name": "stdout",
          "text": [
            "Number of Epoch = 5 - Average CCE:= 0.014825172932942709 - Average Accuracy:= 53.031666666666666%\n"
          ]
        },
        {
          "output_type": "stream",
          "name": "stderr",
          "text": [
            "\n",
            " 30%|███       | 6/20 [00:28<01:07,  4.79s/it]\u001b[A"
          ]
        },
        {
          "output_type": "stream",
          "name": "stdout",
          "text": [
            "Number of Epoch = 6 - Average CCE:= 0.014566404215494792 - Average Accuracy:= 53.79166666666667%\n"
          ]
        },
        {
          "output_type": "stream",
          "name": "stderr",
          "text": [
            "\n",
            " 35%|███▌      | 7/20 [00:33<01:04,  4.93s/it]\u001b[A"
          ]
        },
        {
          "output_type": "stream",
          "name": "stdout",
          "text": [
            "Number of Epoch = 7 - Average CCE:= 0.014407237752278645 - Average Accuracy:= 54.38166666666666%\n"
          ]
        },
        {
          "output_type": "stream",
          "name": "stderr",
          "text": [
            "\n",
            " 40%|████      | 8/20 [00:37<00:54,  4.50s/it]\u001b[A"
          ]
        },
        {
          "output_type": "stream",
          "name": "stdout",
          "text": [
            "Number of Epoch = 8 - Average CCE:= 0.014260175577799478 - Average Accuracy:= 54.803333333333335%\n"
          ]
        },
        {
          "output_type": "stream",
          "name": "stderr",
          "text": [
            "\n",
            " 45%|████▌     | 9/20 [00:40<00:46,  4.22s/it]\u001b[A"
          ]
        },
        {
          "output_type": "stream",
          "name": "stdout",
          "text": [
            "Number of Epoch = 9 - Average CCE:= 0.01412559305826823 - Average Accuracy:= 55.30833333333334%\n"
          ]
        },
        {
          "output_type": "stream",
          "name": "stderr",
          "text": [
            "\n",
            " 50%|█████     | 10/20 [00:44<00:40,  4.00s/it]\u001b[A"
          ]
        },
        {
          "output_type": "stream",
          "name": "stdout",
          "text": [
            "Number of Epoch = 10 - Average CCE:= 0.014088937377929687 - Average Accuracy:= 55.36833333333333%\n"
          ]
        },
        {
          "output_type": "stream",
          "name": "stderr",
          "text": [
            "\n",
            " 55%|█████▌    | 11/20 [00:47<00:34,  3.86s/it]\u001b[A"
          ]
        },
        {
          "output_type": "stream",
          "name": "stdout",
          "text": [
            "Number of Epoch = 11 - Average CCE:= 0.013993210856119792 - Average Accuracy:= 55.70166666666667%\n"
          ]
        },
        {
          "output_type": "stream",
          "name": "stderr",
          "text": [
            "\n",
            " 60%|██████    | 12/20 [00:51<00:30,  3.76s/it]\u001b[A"
          ]
        },
        {
          "output_type": "stream",
          "name": "stdout",
          "text": [
            "Number of Epoch = 12 - Average CCE:= 0.013879074096679687 - Average Accuracy:= 56.041666666666664%\n"
          ]
        },
        {
          "output_type": "stream",
          "name": "stderr",
          "text": [
            "\n",
            " 65%|██████▌   | 13/20 [00:56<00:29,  4.20s/it]\u001b[A"
          ]
        },
        {
          "output_type": "stream",
          "name": "stdout",
          "text": [
            "Number of Epoch = 13 - Average CCE:= 0.013255240885416667 - Average Accuracy:= 57.891666666666666%\n"
          ]
        },
        {
          "output_type": "stream",
          "name": "stderr",
          "text": [
            "\n",
            " 70%|███████   | 14/20 [01:01<00:27,  4.53s/it]\u001b[A"
          ]
        },
        {
          "output_type": "stream",
          "name": "stdout",
          "text": [
            "Number of Epoch = 14 - Average CCE:= 0.012093510945638021 - Average Accuracy:= 61.614999999999995%\n"
          ]
        },
        {
          "output_type": "stream",
          "name": "stderr",
          "text": [
            "\n",
            " 75%|███████▌  | 15/20 [01:05<00:21,  4.27s/it]\u001b[A"
          ]
        },
        {
          "output_type": "stream",
          "name": "stdout",
          "text": [
            "Number of Epoch = 15 - Average CCE:= 0.011687412516276042 - Average Accuracy:= 62.86833333333334%\n"
          ]
        },
        {
          "output_type": "stream",
          "name": "stderr",
          "text": [
            "\n",
            " 80%|████████  | 16/20 [01:09<00:16,  4.05s/it]\u001b[A"
          ]
        },
        {
          "output_type": "stream",
          "name": "stdout",
          "text": [
            "Number of Epoch = 16 - Average CCE:= 0.01148073018391927 - Average Accuracy:= 63.61%\n"
          ]
        },
        {
          "output_type": "stream",
          "name": "stderr",
          "text": [
            "\n",
            " 85%|████████▌ | 17/20 [01:14<00:13,  4.40s/it]\u001b[A"
          ]
        },
        {
          "output_type": "stream",
          "name": "stdout",
          "text": [
            "Number of Epoch = 17 - Average CCE:= 0.011361219278971353 - Average Accuracy:= 63.928333333333335%\n"
          ]
        },
        {
          "output_type": "stream",
          "name": "stderr",
          "text": [
            "\n",
            " 90%|█████████ | 18/20 [01:19<00:09,  4.65s/it]\u001b[A"
          ]
        },
        {
          "output_type": "stream",
          "name": "stdout",
          "text": [
            "Number of Epoch = 18 - Average CCE:= 0.011171727498372397 - Average Accuracy:= 64.54833333333333%\n"
          ]
        },
        {
          "output_type": "stream",
          "name": "stderr",
          "text": [
            "\n",
            " 95%|█████████▌| 19/20 [01:23<00:04,  4.36s/it]\u001b[A"
          ]
        },
        {
          "output_type": "stream",
          "name": "stdout",
          "text": [
            "Number of Epoch = 19 - Average CCE:= 0.011126674397786458 - Average Accuracy:= 64.69500000000001%\n"
          ]
        },
        {
          "output_type": "stream",
          "name": "stderr",
          "text": [
            "\n",
            "100%|██████████| 20/20 [01:26<00:00,  4.35s/it]"
          ]
        },
        {
          "output_type": "stream",
          "name": "stdout",
          "text": [
            "Number of Epoch = 20 - Average CCE:= 0.011009207153320313 - Average Accuracy:= 65.07166666666667%\n",
            "\n",
            "Total time taken (in seconds): 86.99\n"
          ]
        },
        {
          "output_type": "stream",
          "name": "stderr",
          "text": [
            "\n",
            " 20%|██        | 2/10 [03:03<12:07, 90.98s/it]"
          ]
        },
        {
          "output_type": "stream",
          "name": "stdout",
          "text": [
            "Test CCE: 0.0581, Accuracy : 0.6372\n",
            "seed: 3717, Cross Entropy loss: 0.05811812744140625, Accuracy: 0.6372\n",
            "\n",
            "** Inference Iteration: 2 **\n",
            "\n",
            "#Training default model with seed 2781#\n"
          ]
        },
        {
          "output_type": "stream",
          "name": "stderr",
          "text": [
            "\n",
            "  0%|          | 0/20 [00:00<?, ?it/s]\u001b[A\n",
            "  5%|▌         | 1/20 [00:05<01:39,  5.22s/it]\u001b[A"
          ]
        },
        {
          "output_type": "stream",
          "name": "stdout",
          "text": [
            "Number of Epoch = 1 - Average CCE:= 0.02526365763346354 - Average Accuracy:= 20.023333333333333%\n"
          ]
        },
        {
          "output_type": "stream",
          "name": "stderr",
          "text": [
            "\n",
            " 10%|█         | 2/20 [00:10<01:34,  5.26s/it]\u001b[A"
          ]
        },
        {
          "output_type": "stream",
          "name": "stdout",
          "text": [
            "Number of Epoch = 2 - Average CCE:= 0.022846750895182292 - Average Accuracy:= 27.853333333333335%\n"
          ]
        },
        {
          "output_type": "stream",
          "name": "stderr",
          "text": [
            "\n",
            " 15%|█▌        | 3/20 [00:15<01:29,  5.25s/it]\u001b[A"
          ]
        },
        {
          "output_type": "stream",
          "name": "stdout",
          "text": [
            "Number of Epoch = 3 - Average CCE:= 0.022384619140625 - Average Accuracy:= 29.21%\n"
          ]
        },
        {
          "output_type": "stream",
          "name": "stderr",
          "text": [
            "\n",
            " 20%|██        | 4/20 [00:20<01:23,  5.24s/it]\u001b[A"
          ]
        },
        {
          "output_type": "stream",
          "name": "stdout",
          "text": [
            "Number of Epoch = 4 - Average CCE:= 0.02058211669921875 - Average Accuracy:= 34.839999999999996%\n"
          ]
        },
        {
          "output_type": "stream",
          "name": "stderr",
          "text": [
            "\n",
            " 25%|██▌       | 5/20 [00:26<01:18,  5.24s/it]\u001b[A"
          ]
        },
        {
          "output_type": "stream",
          "name": "stdout",
          "text": [
            "Number of Epoch = 5 - Average CCE:= 0.02006295166015625 - Average Accuracy:= 36.57666666666667%\n"
          ]
        },
        {
          "output_type": "stream",
          "name": "stderr",
          "text": [
            "\n",
            " 30%|███       | 6/20 [00:31<01:13,  5.23s/it]\u001b[A"
          ]
        },
        {
          "output_type": "stream",
          "name": "stdout",
          "text": [
            "Number of Epoch = 6 - Average CCE:= 0.019857818603515626 - Average Accuracy:= 37.245%\n"
          ]
        },
        {
          "output_type": "stream",
          "name": "stderr",
          "text": [
            "\n",
            " 35%|███▌      | 7/20 [00:35<01:01,  4.73s/it]\u001b[A"
          ]
        },
        {
          "output_type": "stream",
          "name": "stdout",
          "text": [
            "Number of Epoch = 7 - Average CCE:= 0.019735196940104168 - Average Accuracy:= 37.64%\n"
          ]
        },
        {
          "output_type": "stream",
          "name": "stderr",
          "text": [
            "\n",
            " 40%|████      | 8/20 [00:40<00:58,  4.89s/it]\u001b[A"
          ]
        },
        {
          "output_type": "stream",
          "name": "stdout",
          "text": [
            "Number of Epoch = 8 - Average CCE:= 0.01961956787109375 - Average Accuracy:= 38.00666666666667%\n"
          ]
        },
        {
          "output_type": "stream",
          "name": "stderr",
          "text": [
            "\n",
            " 45%|████▌     | 9/20 [00:44<00:49,  4.51s/it]\u001b[A"
          ]
        },
        {
          "output_type": "stream",
          "name": "stdout",
          "text": [
            "Number of Epoch = 9 - Average CCE:= 0.0196051513671875 - Average Accuracy:= 38.071666666666665%\n"
          ]
        },
        {
          "output_type": "stream",
          "name": "stderr",
          "text": [
            "\n",
            " 50%|█████     | 10/20 [00:49<00:47,  4.73s/it]\u001b[A"
          ]
        },
        {
          "output_type": "stream",
          "name": "stdout",
          "text": [
            "Number of Epoch = 10 - Average CCE:= 0.019497904459635416 - Average Accuracy:= 38.41166666666667%\n"
          ]
        },
        {
          "output_type": "stream",
          "name": "stderr",
          "text": [
            "\n",
            " 55%|█████▌    | 11/20 [00:54<00:44,  4.90s/it]\u001b[A"
          ]
        },
        {
          "output_type": "stream",
          "name": "stdout",
          "text": [
            "Number of Epoch = 11 - Average CCE:= 0.019493170166015625 - Average Accuracy:= 38.49166666666667%\n"
          ]
        },
        {
          "output_type": "stream",
          "name": "stderr",
          "text": [
            "\n",
            " 60%|██████    | 12/20 [00:59<00:40,  5.02s/it]\u001b[A"
          ]
        },
        {
          "output_type": "stream",
          "name": "stdout",
          "text": [
            "Number of Epoch = 12 - Average CCE:= 0.019418717447916668 - Average Accuracy:= 38.656666666666666%\n"
          ]
        },
        {
          "output_type": "stream",
          "name": "stderr",
          "text": [
            "\n",
            " 65%|██████▌   | 13/20 [01:03<00:32,  4.65s/it]\u001b[A"
          ]
        },
        {
          "output_type": "stream",
          "name": "stdout",
          "text": [
            "Number of Epoch = 13 - Average CCE:= 0.019390574137369793 - Average Accuracy:= 38.765%\n"
          ]
        },
        {
          "output_type": "stream",
          "name": "stderr",
          "text": [
            "\n",
            " 70%|███████   | 14/20 [01:07<00:25,  4.32s/it]\u001b[A"
          ]
        },
        {
          "output_type": "stream",
          "name": "stdout",
          "text": [
            "Number of Epoch = 14 - Average CCE:= 0.01934440714518229 - Average Accuracy:= 38.86%\n"
          ]
        },
        {
          "output_type": "stream",
          "name": "stderr",
          "text": [
            "\n",
            " 75%|███████▌  | 15/20 [01:12<00:22,  4.59s/it]\u001b[A"
          ]
        },
        {
          "output_type": "stream",
          "name": "stdout",
          "text": [
            "Number of Epoch = 15 - Average CCE:= 0.019359916178385415 - Average Accuracy:= 38.845%\n"
          ]
        },
        {
          "output_type": "stream",
          "name": "stderr",
          "text": [
            "\n",
            " 80%|████████  | 16/20 [01:17<00:19,  4.79s/it]\u001b[A"
          ]
        },
        {
          "output_type": "stream",
          "name": "stdout",
          "text": [
            "Number of Epoch = 16 - Average CCE:= 0.01935813191731771 - Average Accuracy:= 38.928333333333335%\n"
          ]
        },
        {
          "output_type": "stream",
          "name": "stderr",
          "text": [
            "\n",
            " 85%|████████▌ | 17/20 [01:22<00:14,  4.92s/it]\u001b[A"
          ]
        },
        {
          "output_type": "stream",
          "name": "stdout",
          "text": [
            "Number of Epoch = 17 - Average CCE:= 0.019311061604817707 - Average Accuracy:= 39.019999999999996%\n"
          ]
        },
        {
          "output_type": "stream",
          "name": "stderr",
          "text": [
            "\n",
            " 90%|█████████ | 18/20 [01:26<00:09,  4.53s/it]\u001b[A"
          ]
        },
        {
          "output_type": "stream",
          "name": "stdout",
          "text": [
            "Number of Epoch = 18 - Average CCE:= 0.019296236165364584 - Average Accuracy:= 39.06333333333333%\n"
          ]
        },
        {
          "output_type": "stream",
          "name": "stderr",
          "text": [
            "\n",
            " 95%|█████████▌| 19/20 [01:31<00:04,  4.74s/it]\u001b[A"
          ]
        },
        {
          "output_type": "stream",
          "name": "stdout",
          "text": [
            "Number of Epoch = 19 - Average CCE:= 0.019284328206380208 - Average Accuracy:= 39.098333333333336%\n"
          ]
        },
        {
          "output_type": "stream",
          "name": "stderr",
          "text": [
            "\n",
            "100%|██████████| 20/20 [01:35<00:00,  4.77s/it]"
          ]
        },
        {
          "output_type": "stream",
          "name": "stdout",
          "text": [
            "Number of Epoch = 20 - Average CCE:= 0.018160247802734376 - Average Accuracy:= 42.541666666666664%\n",
            "\n",
            "Total time taken (in seconds): 95.38\n"
          ]
        },
        {
          "output_type": "stream",
          "name": "stderr",
          "text": [
            "\n",
            " 30%|███       | 3/10 [04:39<10:52, 93.22s/it]"
          ]
        },
        {
          "output_type": "stream",
          "name": "stdout",
          "text": [
            "Test CCE: 0.0885, Accuracy : 0.4499\n",
            "seed: 2781, Cross Entropy loss: 0.08847588500976562, Accuracy: 0.4499\n",
            "\n",
            "** Inference Iteration: 3 **\n",
            "\n",
            "#Training default model with seed 2563#\n"
          ]
        },
        {
          "output_type": "stream",
          "name": "stderr",
          "text": [
            "\n",
            "  0%|          | 0/20 [00:00<?, ?it/s]\u001b[A\n",
            "  5%|▌         | 1/20 [00:05<01:39,  5.22s/it]\u001b[A"
          ]
        },
        {
          "output_type": "stream",
          "name": "stdout",
          "text": [
            "Number of Epoch = 1 - Average CCE:= 0.022207371012369793 - Average Accuracy:= 29.44333333333333%\n"
          ]
        },
        {
          "output_type": "stream",
          "name": "stderr",
          "text": [
            "\n",
            " 10%|█         | 2/20 [00:10<01:34,  5.26s/it]\u001b[A"
          ]
        },
        {
          "output_type": "stream",
          "name": "stdout",
          "text": [
            "Number of Epoch = 2 - Average CCE:= 0.016828841145833332 - Average Accuracy:= 46.44166666666666%\n"
          ]
        },
        {
          "output_type": "stream",
          "name": "stderr",
          "text": [
            "\n",
            " 15%|█▌        | 3/20 [00:14<01:17,  4.55s/it]\u001b[A"
          ]
        },
        {
          "output_type": "stream",
          "name": "stdout",
          "text": [
            "Number of Epoch = 3 - Average CCE:= 0.015507688395182292 - Average Accuracy:= 50.751666666666665%\n"
          ]
        },
        {
          "output_type": "stream",
          "name": "stderr",
          "text": [
            "\n",
            " 20%|██        | 4/20 [00:17<01:07,  4.20s/it]\u001b[A"
          ]
        },
        {
          "output_type": "stream",
          "name": "stdout",
          "text": [
            "Number of Epoch = 4 - Average CCE:= 0.014827986653645833 - Average Accuracy:= 53.0%\n"
          ]
        },
        {
          "output_type": "stream",
          "name": "stderr",
          "text": [
            "\n",
            " 25%|██▌       | 5/20 [00:23<01:08,  4.57s/it]\u001b[A"
          ]
        },
        {
          "output_type": "stream",
          "name": "stdout",
          "text": [
            "Number of Epoch = 5 - Average CCE:= 0.014186974080403645 - Average Accuracy:= 54.903333333333336%\n"
          ]
        },
        {
          "output_type": "stream",
          "name": "stderr",
          "text": [
            "\n",
            " 30%|███       | 6/20 [00:26<00:59,  4.26s/it]\u001b[A"
          ]
        },
        {
          "output_type": "stream",
          "name": "stdout",
          "text": [
            "Number of Epoch = 6 - Average CCE:= 0.012203481038411458 - Average Accuracy:= 60.998333333333335%\n"
          ]
        },
        {
          "output_type": "stream",
          "name": "stderr",
          "text": [
            "\n",
            " 35%|███▌      | 7/20 [00:31<00:59,  4.57s/it]\u001b[A"
          ]
        },
        {
          "output_type": "stream",
          "name": "stdout",
          "text": [
            "Number of Epoch = 7 - Average CCE:= 0.010132613118489583 - Average Accuracy:= 67.565%\n"
          ]
        },
        {
          "output_type": "stream",
          "name": "stderr",
          "text": [
            "\n",
            " 40%|████      | 8/20 [00:37<00:57,  4.80s/it]\u001b[A"
          ]
        },
        {
          "output_type": "stream",
          "name": "stdout",
          "text": [
            "Number of Epoch = 8 - Average CCE:= 0.008955845133463541 - Average Accuracy:= 71.34833333333333%\n"
          ]
        },
        {
          "output_type": "stream",
          "name": "stderr",
          "text": [
            "\n",
            " 45%|████▌     | 9/20 [00:40<00:48,  4.42s/it]\u001b[A"
          ]
        },
        {
          "output_type": "stream",
          "name": "stdout",
          "text": [
            "Number of Epoch = 9 - Average CCE:= 0.008253629557291666 - Average Accuracy:= 73.61%\n"
          ]
        },
        {
          "output_type": "stream",
          "name": "stderr",
          "text": [
            "\n",
            " 50%|█████     | 10/20 [00:46<00:46,  4.67s/it]\u001b[A"
          ]
        },
        {
          "output_type": "stream",
          "name": "stdout",
          "text": [
            "Number of Epoch = 10 - Average CCE:= 0.0077303853352864585 - Average Accuracy:= 75.24833333333333%\n"
          ]
        },
        {
          "output_type": "stream",
          "name": "stderr",
          "text": [
            "\n",
            " 55%|█████▌    | 11/20 [00:49<00:38,  4.32s/it]\u001b[A"
          ]
        },
        {
          "output_type": "stream",
          "name": "stdout",
          "text": [
            "Number of Epoch = 11 - Average CCE:= 0.007337624104817708 - Average Accuracy:= 76.445%\n"
          ]
        },
        {
          "output_type": "stream",
          "name": "stderr",
          "text": [
            "\n",
            " 60%|██████    | 12/20 [00:54<00:36,  4.60s/it]\u001b[A"
          ]
        },
        {
          "output_type": "stream",
          "name": "stdout",
          "text": [
            "Number of Epoch = 12 - Average CCE:= 0.007047589111328125 - Average Accuracy:= 77.43333333333334%\n"
          ]
        },
        {
          "output_type": "stream",
          "name": "stderr",
          "text": [
            "\n",
            " 65%|██████▌   | 13/20 [01:00<00:33,  4.79s/it]\u001b[A"
          ]
        },
        {
          "output_type": "stream",
          "name": "stdout",
          "text": [
            "Number of Epoch = 13 - Average CCE:= 0.006755622355143229 - Average Accuracy:= 78.36999999999999%\n"
          ]
        },
        {
          "output_type": "stream",
          "name": "stderr",
          "text": [
            "\n",
            " 70%|███████   | 14/20 [01:03<00:26,  4.44s/it]\u001b[A"
          ]
        },
        {
          "output_type": "stream",
          "name": "stdout",
          "text": [
            "Number of Epoch = 14 - Average CCE:= 0.0065890828450520834 - Average Accuracy:= 78.97666666666666%\n"
          ]
        },
        {
          "output_type": "stream",
          "name": "stderr",
          "text": [
            "\n",
            " 75%|███████▌  | 15/20 [01:08<00:23,  4.68s/it]\u001b[A"
          ]
        },
        {
          "output_type": "stream",
          "name": "stdout",
          "text": [
            "Number of Epoch = 15 - Average CCE:= 0.00636197764078776 - Average Accuracy:= 79.68499999999999%\n"
          ]
        },
        {
          "output_type": "stream",
          "name": "stderr",
          "text": [
            "\n",
            " 80%|████████  | 16/20 [01:12<00:17,  4.49s/it]\u001b[A"
          ]
        },
        {
          "output_type": "stream",
          "name": "stdout",
          "text": [
            "Number of Epoch = 16 - Average CCE:= 0.006274033101399739 - Average Accuracy:= 79.96%\n"
          ]
        },
        {
          "output_type": "stream",
          "name": "stderr",
          "text": [
            "\n",
            " 85%|████████▌ | 17/20 [01:18<00:14,  4.72s/it]\u001b[A"
          ]
        },
        {
          "output_type": "stream",
          "name": "stdout",
          "text": [
            "Number of Epoch = 17 - Average CCE:= 0.006051692199707031 - Average Accuracy:= 80.64333333333333%\n"
          ]
        },
        {
          "output_type": "stream",
          "name": "stderr",
          "text": [
            "\n",
            " 90%|█████████ | 18/20 [01:23<00:09,  4.87s/it]\u001b[A"
          ]
        },
        {
          "output_type": "stream",
          "name": "stdout",
          "text": [
            "Number of Epoch = 18 - Average CCE:= 0.006032291666666667 - Average Accuracy:= 80.765%\n"
          ]
        },
        {
          "output_type": "stream",
          "name": "stderr",
          "text": [
            "\n",
            " 95%|█████████▌| 19/20 [01:27<00:04,  4.57s/it]\u001b[A"
          ]
        },
        {
          "output_type": "stream",
          "name": "stdout",
          "text": [
            "Number of Epoch = 19 - Average CCE:= 0.005909516906738281 - Average Accuracy:= 81.20333333333333%\n"
          ]
        },
        {
          "output_type": "stream",
          "name": "stderr",
          "text": [
            "\n",
            "100%|██████████| 20/20 [01:31<00:00,  4.56s/it]"
          ]
        },
        {
          "output_type": "stream",
          "name": "stdout",
          "text": [
            "Number of Epoch = 20 - Average CCE:= 0.005834790547688802 - Average Accuracy:= 81.36333333333333%\n",
            "\n",
            "Total time taken (in seconds): 91.13\n"
          ]
        },
        {
          "output_type": "stream",
          "name": "stderr",
          "text": [
            "\n",
            " 40%|████      | 4/10 [06:10<09:15, 92.58s/it]"
          ]
        },
        {
          "output_type": "stream",
          "name": "stdout",
          "text": [
            "Test CCE: 0.0296, Accuracy : 0.8153\n",
            "seed: 2563, Cross Entropy loss: 0.029572921752929686, Accuracy: 0.8153\n",
            "\n",
            "** Inference Iteration: 4 **\n",
            "\n",
            "#Training default model with seed 2120#\n"
          ]
        },
        {
          "output_type": "stream",
          "name": "stderr",
          "text": [
            "\n",
            "  0%|          | 0/20 [00:00<?, ?it/s]\u001b[A\n",
            "  5%|▌         | 1/20 [00:05<01:39,  5.23s/it]\u001b[A"
          ]
        },
        {
          "output_type": "stream",
          "name": "stdout",
          "text": [
            "Number of Epoch = 1 - Average CCE:= 0.025696657307942707 - Average Accuracy:= 18.535%\n"
          ]
        },
        {
          "output_type": "stream",
          "name": "stderr",
          "text": [
            "\n",
            " 10%|█         | 2/20 [00:08<01:17,  4.30s/it]\u001b[A"
          ]
        },
        {
          "output_type": "stream",
          "name": "stdout",
          "text": [
            "Number of Epoch = 2 - Average CCE:= 0.02246976318359375 - Average Accuracy:= 28.83%\n"
          ]
        },
        {
          "output_type": "stream",
          "name": "stderr",
          "text": [
            "\n",
            " 15%|█▌        | 3/20 [00:14<01:20,  4.72s/it]\u001b[A"
          ]
        },
        {
          "output_type": "stream",
          "name": "stdout",
          "text": [
            "Number of Epoch = 3 - Average CCE:= 0.02084714558919271 - Average Accuracy:= 33.87833333333333%\n"
          ]
        },
        {
          "output_type": "stream",
          "name": "stderr",
          "text": [
            "\n",
            " 20%|██        | 4/20 [00:19<01:18,  4.92s/it]\u001b[A"
          ]
        },
        {
          "output_type": "stream",
          "name": "stdout",
          "text": [
            "Number of Epoch = 4 - Average CCE:= 0.0188341552734375 - Average Accuracy:= 40.31666666666667%\n"
          ]
        },
        {
          "output_type": "stream",
          "name": "stderr",
          "text": [
            "\n",
            " 25%|██▌       | 5/20 [00:23<01:07,  4.49s/it]\u001b[A"
          ]
        },
        {
          "output_type": "stream",
          "name": "stdout",
          "text": [
            "Number of Epoch = 5 - Average CCE:= 0.017883707682291666 - Average Accuracy:= 43.306666666666665%\n"
          ]
        },
        {
          "output_type": "stream",
          "name": "stderr",
          "text": [
            "\n",
            " 30%|███       | 6/20 [00:28<01:06,  4.74s/it]\u001b[A"
          ]
        },
        {
          "output_type": "stream",
          "name": "stdout",
          "text": [
            "Number of Epoch = 6 - Average CCE:= 0.01682670389811198 - Average Accuracy:= 46.58833333333333%\n"
          ]
        },
        {
          "output_type": "stream",
          "name": "stderr",
          "text": [
            "\n",
            " 35%|███▌      | 7/20 [00:31<00:57,  4.39s/it]\u001b[A"
          ]
        },
        {
          "output_type": "stream",
          "name": "stdout",
          "text": [
            "Number of Epoch = 7 - Average CCE:= 0.015908200073242187 - Average Accuracy:= 49.516666666666666%\n"
          ]
        },
        {
          "output_type": "stream",
          "name": "stderr",
          "text": [
            "\n",
            " 40%|████      | 8/20 [00:37<00:55,  4.65s/it]\u001b[A"
          ]
        },
        {
          "output_type": "stream",
          "name": "stdout",
          "text": [
            "Number of Epoch = 8 - Average CCE:= 0.015451373291015626 - Average Accuracy:= 50.96833333333334%\n"
          ]
        },
        {
          "output_type": "stream",
          "name": "stderr",
          "text": [
            "\n",
            " 45%|████▌     | 9/20 [00:42<00:53,  4.84s/it]\u001b[A"
          ]
        },
        {
          "output_type": "stream",
          "name": "stdout",
          "text": [
            "Number of Epoch = 9 - Average CCE:= 0.015076968383789063 - Average Accuracy:= 52.15833333333333%\n"
          ]
        },
        {
          "output_type": "stream",
          "name": "stderr",
          "text": [
            "\n",
            " 50%|█████     | 10/20 [00:45<00:44,  4.45s/it]\u001b[A"
          ]
        },
        {
          "output_type": "stream",
          "name": "stdout",
          "text": [
            "Number of Epoch = 10 - Average CCE:= 0.014288714599609375 - Average Accuracy:= 54.58666666666666%\n"
          ]
        },
        {
          "output_type": "stream",
          "name": "stderr",
          "text": [
            "\n",
            " 55%|█████▌    | 11/20 [00:49<00:37,  4.16s/it]\u001b[A"
          ]
        },
        {
          "output_type": "stream",
          "name": "stdout",
          "text": [
            "Number of Epoch = 11 - Average CCE:= 0.013439121500651042 - Average Accuracy:= 57.245000000000005%\n"
          ]
        },
        {
          "output_type": "stream",
          "name": "stderr",
          "text": [
            "\n",
            " 60%|██████    | 12/20 [00:54<00:35,  4.48s/it]\u001b[A"
          ]
        },
        {
          "output_type": "stream",
          "name": "stdout",
          "text": [
            "Number of Epoch = 12 - Average CCE:= 0.013087389119466147 - Average Accuracy:= 58.49166666666667%\n"
          ]
        },
        {
          "output_type": "stream",
          "name": "stderr",
          "text": [
            "\n",
            " 65%|██████▌   | 13/20 [00:58<00:29,  4.21s/it]\u001b[A"
          ]
        },
        {
          "output_type": "stream",
          "name": "stdout",
          "text": [
            "Number of Epoch = 13 - Average CCE:= 0.012847925821940104 - Average Accuracy:= 59.209999999999994%\n"
          ]
        },
        {
          "output_type": "stream",
          "name": "stderr",
          "text": [
            "\n",
            " 70%|███████   | 14/20 [01:03<00:27,  4.51s/it]\u001b[A"
          ]
        },
        {
          "output_type": "stream",
          "name": "stdout",
          "text": [
            "Number of Epoch = 14 - Average CCE:= 0.012742100016276042 - Average Accuracy:= 59.50666666666666%\n"
          ]
        },
        {
          "output_type": "stream",
          "name": "stderr",
          "text": [
            "\n",
            " 75%|███████▌  | 15/20 [01:07<00:21,  4.24s/it]\u001b[A"
          ]
        },
        {
          "output_type": "stream",
          "name": "stdout",
          "text": [
            "Number of Epoch = 15 - Average CCE:= 0.012537858072916666 - Average Accuracy:= 60.14666666666667%\n"
          ]
        },
        {
          "output_type": "stream",
          "name": "stderr",
          "text": [
            "\n",
            " 80%|████████  | 16/20 [01:12<00:18,  4.53s/it]\u001b[A"
          ]
        },
        {
          "output_type": "stream",
          "name": "stdout",
          "text": [
            "Number of Epoch = 16 - Average CCE:= 0.012407539876302083 - Average Accuracy:= 60.63166666666666%\n"
          ]
        },
        {
          "output_type": "stream",
          "name": "stderr",
          "text": [
            "\n",
            " 85%|████████▌ | 17/20 [01:17<00:14,  4.74s/it]\u001b[A"
          ]
        },
        {
          "output_type": "stream",
          "name": "stdout",
          "text": [
            "Number of Epoch = 17 - Average CCE:= 0.012313627115885416 - Average Accuracy:= 60.919999999999995%\n"
          ]
        },
        {
          "output_type": "stream",
          "name": "stderr",
          "text": [
            "\n",
            " 90%|█████████ | 18/20 [01:21<00:08,  4.38s/it]\u001b[A"
          ]
        },
        {
          "output_type": "stream",
          "name": "stdout",
          "text": [
            "Number of Epoch = 18 - Average CCE:= 0.012263966878255208 - Average Accuracy:= 61.09%\n"
          ]
        },
        {
          "output_type": "stream",
          "name": "stderr",
          "text": [
            "\n",
            " 95%|█████████▌| 19/20 [01:24<00:04,  4.13s/it]\u001b[A"
          ]
        },
        {
          "output_type": "stream",
          "name": "stdout",
          "text": [
            "Number of Epoch = 19 - Average CCE:= 0.012146087646484375 - Average Accuracy:= 61.44500000000001%\n"
          ]
        },
        {
          "output_type": "stream",
          "name": "stderr",
          "text": [
            "\n",
            "100%|██████████| 20/20 [01:29<00:00,  4.49s/it]"
          ]
        },
        {
          "output_type": "stream",
          "name": "stdout",
          "text": [
            "Number of Epoch = 20 - Average CCE:= 0.012102524820963542 - Average Accuracy:= 61.633333333333326%\n",
            "\n",
            "Total time taken (in seconds): 89.87\n"
          ]
        },
        {
          "output_type": "stream",
          "name": "stderr",
          "text": [
            "\n",
            " 50%|█████     | 5/10 [07:41<07:38, 91.78s/it]"
          ]
        },
        {
          "output_type": "stream",
          "name": "stdout",
          "text": [
            "Test CCE: 0.0615, Accuracy : 0.616\n",
            "seed: 2120, Cross Entropy loss: 0.061538922119140624, Accuracy: 0.616\n",
            "\n",
            "** Inference Iteration: 5 **\n",
            "\n",
            "#Training default model with seed 2717#\n"
          ]
        },
        {
          "output_type": "stream",
          "name": "stderr",
          "text": [
            "\n",
            "  0%|          | 0/20 [00:00<?, ?it/s]\u001b[A\n",
            "  5%|▌         | 1/20 [00:05<01:39,  5.22s/it]\u001b[A"
          ]
        },
        {
          "output_type": "stream",
          "name": "stdout",
          "text": [
            "Number of Epoch = 1 - Average CCE:= 0.023735909016927084 - Average Accuracy:= 24.79%\n"
          ]
        },
        {
          "output_type": "stream",
          "name": "stderr",
          "text": [
            "\n",
            " 10%|█         | 2/20 [00:09<01:18,  4.38s/it]\u001b[A"
          ]
        },
        {
          "output_type": "stream",
          "name": "stdout",
          "text": [
            "Number of Epoch = 2 - Average CCE:= 0.02041465047200521 - Average Accuracy:= 35.38166666666667%\n"
          ]
        },
        {
          "output_type": "stream",
          "name": "stderr",
          "text": [
            "\n",
            " 15%|█▌        | 3/20 [00:12<01:08,  4.01s/it]\u001b[A"
          ]
        },
        {
          "output_type": "stream",
          "name": "stdout",
          "text": [
            "Number of Epoch = 3 - Average CCE:= 0.019823323567708332 - Average Accuracy:= 37.275000000000006%\n"
          ]
        },
        {
          "output_type": "stream",
          "name": "stderr",
          "text": [
            "\n",
            " 20%|██        | 4/20 [00:17<01:11,  4.49s/it]\u001b[A"
          ]
        },
        {
          "output_type": "stream",
          "name": "stdout",
          "text": [
            "Number of Epoch = 4 - Average CCE:= 0.01956803181966146 - Average Accuracy:= 38.145%\n"
          ]
        },
        {
          "output_type": "stream",
          "name": "stderr",
          "text": [
            "\n",
            " 25%|██▌       | 5/20 [00:23<01:11,  4.76s/it]\u001b[A"
          ]
        },
        {
          "output_type": "stream",
          "name": "stdout",
          "text": [
            "Number of Epoch = 5 - Average CCE:= 0.019392472330729167 - Average Accuracy:= 38.714999999999996%\n"
          ]
        },
        {
          "output_type": "stream",
          "name": "stderr",
          "text": [
            "\n",
            " 30%|███       | 6/20 [00:28<01:08,  4.92s/it]\u001b[A"
          ]
        },
        {
          "output_type": "stream",
          "name": "stdout",
          "text": [
            "Number of Epoch = 6 - Average CCE:= 0.0192908935546875 - Average Accuracy:= 39.03666666666666%\n"
          ]
        },
        {
          "output_type": "stream",
          "name": "stderr",
          "text": [
            "\n",
            " 35%|███▌      | 7/20 [00:33<01:05,  5.03s/it]\u001b[A"
          ]
        },
        {
          "output_type": "stream",
          "name": "stdout",
          "text": [
            "Number of Epoch = 7 - Average CCE:= 0.01923961385091146 - Average Accuracy:= 39.24%\n"
          ]
        },
        {
          "output_type": "stream",
          "name": "stderr",
          "text": [
            "\n",
            " 40%|████      | 8/20 [00:37<00:54,  4.57s/it]\u001b[A"
          ]
        },
        {
          "output_type": "stream",
          "name": "stdout",
          "text": [
            "Number of Epoch = 8 - Average CCE:= 0.019203621419270834 - Average Accuracy:= 39.405%\n"
          ]
        },
        {
          "output_type": "stream",
          "name": "stderr",
          "text": [
            "\n",
            " 45%|████▌     | 9/20 [00:42<00:52,  4.77s/it]\u001b[A"
          ]
        },
        {
          "output_type": "stream",
          "name": "stdout",
          "text": [
            "Number of Epoch = 9 - Average CCE:= 0.01910193888346354 - Average Accuracy:= 39.593333333333334%\n"
          ]
        },
        {
          "output_type": "stream",
          "name": "stderr",
          "text": [
            "\n",
            " 50%|█████     | 10/20 [00:46<00:44,  4.46s/it]\u001b[A"
          ]
        },
        {
          "output_type": "stream",
          "name": "stdout",
          "text": [
            "Number of Epoch = 10 - Average CCE:= 0.019111332194010417 - Average Accuracy:= 39.635%\n"
          ]
        },
        {
          "output_type": "stream",
          "name": "stderr",
          "text": [
            "\n",
            " 55%|█████▌    | 11/20 [00:51<00:42,  4.70s/it]\u001b[A"
          ]
        },
        {
          "output_type": "stream",
          "name": "stdout",
          "text": [
            "Number of Epoch = 11 - Average CCE:= 0.019072808837890625 - Average Accuracy:= 39.76833333333333%\n"
          ]
        },
        {
          "output_type": "stream",
          "name": "stderr",
          "text": [
            "\n",
            " 60%|██████    | 12/20 [00:56<00:38,  4.86s/it]\u001b[A"
          ]
        },
        {
          "output_type": "stream",
          "name": "stdout",
          "text": [
            "Number of Epoch = 12 - Average CCE:= 0.019063330078125 - Average Accuracy:= 39.88166666666667%\n"
          ]
        },
        {
          "output_type": "stream",
          "name": "stderr",
          "text": [
            "\n",
            " 65%|██████▌   | 13/20 [01:01<00:34,  4.97s/it]\u001b[A"
          ]
        },
        {
          "output_type": "stream",
          "name": "stdout",
          "text": [
            "Number of Epoch = 13 - Average CCE:= 0.01904481404622396 - Average Accuracy:= 39.88166666666667%\n"
          ]
        },
        {
          "output_type": "stream",
          "name": "stderr",
          "text": [
            "\n",
            " 70%|███████   | 14/20 [01:07<00:30,  5.05s/it]\u001b[A"
          ]
        },
        {
          "output_type": "stream",
          "name": "stdout",
          "text": [
            "Number of Epoch = 14 - Average CCE:= 0.018948797607421877 - Average Accuracy:= 40.17333333333333%\n"
          ]
        },
        {
          "output_type": "stream",
          "name": "stderr",
          "text": [
            "\n",
            " 75%|███████▌  | 15/20 [01:12<00:25,  5.12s/it]\u001b[A"
          ]
        },
        {
          "output_type": "stream",
          "name": "stdout",
          "text": [
            "Number of Epoch = 15 - Average CCE:= 0.018518100992838543 - Average Accuracy:= 41.42333333333333%\n"
          ]
        },
        {
          "output_type": "stream",
          "name": "stderr",
          "text": [
            "\n",
            " 80%|████████  | 16/20 [01:17<00:20,  5.15s/it]\u001b[A"
          ]
        },
        {
          "output_type": "stream",
          "name": "stdout",
          "text": [
            "Number of Epoch = 16 - Average CCE:= 0.018024212646484374 - Average Accuracy:= 42.99666666666667%\n"
          ]
        },
        {
          "output_type": "stream",
          "name": "stderr",
          "text": [
            "\n",
            " 85%|████████▌ | 17/20 [01:21<00:14,  4.70s/it]\u001b[A"
          ]
        },
        {
          "output_type": "stream",
          "name": "stdout",
          "text": [
            "Number of Epoch = 17 - Average CCE:= 0.017571004231770833 - Average Accuracy:= 44.485%\n"
          ]
        },
        {
          "output_type": "stream",
          "name": "stderr",
          "text": [
            "\n",
            " 90%|█████████ | 18/20 [01:24<00:08,  4.37s/it]\u001b[A"
          ]
        },
        {
          "output_type": "stream",
          "name": "stdout",
          "text": [
            "Number of Epoch = 18 - Average CCE:= 0.01726554972330729 - Average Accuracy:= 45.36333333333333%\n"
          ]
        },
        {
          "output_type": "stream",
          "name": "stderr",
          "text": [
            "\n",
            " 95%|█████████▌| 19/20 [01:28<00:04,  4.16s/it]\u001b[A"
          ]
        },
        {
          "output_type": "stream",
          "name": "stdout",
          "text": [
            "Number of Epoch = 19 - Average CCE:= 0.01701212870279948 - Average Accuracy:= 46.211666666666666%\n"
          ]
        },
        {
          "output_type": "stream",
          "name": "stderr",
          "text": [
            "\n",
            "100%|██████████| 20/20 [01:33<00:00,  4.68s/it]"
          ]
        },
        {
          "output_type": "stream",
          "name": "stdout",
          "text": [
            "Number of Epoch = 20 - Average CCE:= 0.01689607238769531 - Average Accuracy:= 46.565%\n",
            "\n",
            "Total time taken (in seconds): 93.70\n"
          ]
        },
        {
          "output_type": "stream",
          "name": "stderr",
          "text": [
            "\n",
            " 60%|██████    | 6/10 [09:15<06:10, 92.60s/it]"
          ]
        },
        {
          "output_type": "stream",
          "name": "stdout",
          "text": [
            "Test CCE: 0.0860, Accuracy : 0.465\n",
            "seed: 2717, Cross Entropy loss: 0.08598414916992188, Accuracy: 0.465\n",
            "\n",
            "** Inference Iteration: 6 **\n",
            "\n",
            "#Training default model with seed 3823#\n"
          ]
        },
        {
          "output_type": "stream",
          "name": "stderr",
          "text": [
            "\n",
            "  0%|          | 0/20 [00:00<?, ?it/s]\u001b[A\n",
            "  5%|▌         | 1/20 [00:05<01:39,  5.22s/it]\u001b[A"
          ]
        },
        {
          "output_type": "stream",
          "name": "stdout",
          "text": [
            "Number of Epoch = 1 - Average CCE:= 0.026133270263671876 - Average Accuracy:= 17.228333333333335%\n"
          ]
        },
        {
          "output_type": "stream",
          "name": "stderr",
          "text": [
            "\n",
            " 10%|█         | 2/20 [00:08<01:17,  4.30s/it]\u001b[A"
          ]
        },
        {
          "output_type": "stream",
          "name": "stdout",
          "text": [
            "Number of Epoch = 2 - Average CCE:= 0.02151444091796875 - Average Accuracy:= 31.736666666666668%\n"
          ]
        },
        {
          "output_type": "stream",
          "name": "stderr",
          "text": [
            "\n",
            " 15%|█▌        | 3/20 [00:14<01:20,  4.73s/it]\u001b[A"
          ]
        },
        {
          "output_type": "stream",
          "name": "stdout",
          "text": [
            "Number of Epoch = 3 - Average CCE:= 0.019512217203776043 - Average Accuracy:= 38.08833333333334%\n"
          ]
        },
        {
          "output_type": "stream",
          "name": "stderr",
          "text": [
            "\n",
            " 20%|██        | 4/20 [00:19<01:19,  4.95s/it]\u001b[A"
          ]
        },
        {
          "output_type": "stream",
          "name": "stdout",
          "text": [
            "Number of Epoch = 4 - Average CCE:= 0.018804414876302085 - Average Accuracy:= 40.415%\n"
          ]
        },
        {
          "output_type": "stream",
          "name": "stderr",
          "text": [
            "\n",
            " 25%|██▌       | 5/20 [00:23<01:07,  4.47s/it]\u001b[A"
          ]
        },
        {
          "output_type": "stream",
          "name": "stdout",
          "text": [
            "Number of Epoch = 5 - Average CCE:= 0.017722932942708332 - Average Accuracy:= 43.778333333333336%\n"
          ]
        },
        {
          "output_type": "stream",
          "name": "stderr",
          "text": [
            "\n",
            " 30%|███       | 6/20 [00:26<00:58,  4.15s/it]\u001b[A"
          ]
        },
        {
          "output_type": "stream",
          "name": "stdout",
          "text": [
            "Number of Epoch = 6 - Average CCE:= 0.016155569458007814 - Average Accuracy:= 48.641666666666666%\n"
          ]
        },
        {
          "output_type": "stream",
          "name": "stderr",
          "text": [
            "\n",
            " 35%|███▌      | 7/20 [00:30<00:51,  3.94s/it]\u001b[A"
          ]
        },
        {
          "output_type": "stream",
          "name": "stdout",
          "text": [
            "Number of Epoch = 7 - Average CCE:= 0.015634200032552083 - Average Accuracy:= 50.38666666666667%\n"
          ]
        },
        {
          "output_type": "stream",
          "name": "stderr",
          "text": [
            "\n",
            " 40%|████      | 8/20 [00:35<00:52,  4.35s/it]\u001b[A"
          ]
        },
        {
          "output_type": "stream",
          "name": "stdout",
          "text": [
            "Number of Epoch = 8 - Average CCE:= 0.01534869384765625 - Average Accuracy:= 51.321666666666665%\n"
          ]
        },
        {
          "output_type": "stream",
          "name": "stderr",
          "text": [
            "\n",
            " 45%|████▌     | 9/20 [00:39<00:45,  4.15s/it]\u001b[A"
          ]
        },
        {
          "output_type": "stream",
          "name": "stdout",
          "text": [
            "Number of Epoch = 9 - Average CCE:= 0.015104543050130209 - Average Accuracy:= 52.083333333333336%\n"
          ]
        },
        {
          "output_type": "stream",
          "name": "stderr",
          "text": [
            "\n",
            " 50%|█████     | 10/20 [00:44<00:44,  4.49s/it]\u001b[A"
          ]
        },
        {
          "output_type": "stream",
          "name": "stdout",
          "text": [
            "Number of Epoch = 10 - Average CCE:= 0.015013499959309895 - Average Accuracy:= 52.405%\n"
          ]
        },
        {
          "output_type": "stream",
          "name": "stderr",
          "text": [
            "\n",
            " 55%|█████▌    | 11/20 [00:49<00:42,  4.71s/it]\u001b[A"
          ]
        },
        {
          "output_type": "stream",
          "name": "stdout",
          "text": [
            "Number of Epoch = 11 - Average CCE:= 0.014865338134765625 - Average Accuracy:= 52.94833333333333%\n"
          ]
        },
        {
          "output_type": "stream",
          "name": "stderr",
          "text": [
            "\n",
            " 60%|██████    | 12/20 [00:53<00:35,  4.45s/it]\u001b[A"
          ]
        },
        {
          "output_type": "stream",
          "name": "stdout",
          "text": [
            "Number of Epoch = 12 - Average CCE:= 0.014758444213867187 - Average Accuracy:= 53.25666666666666%\n"
          ]
        },
        {
          "output_type": "stream",
          "name": "stderr",
          "text": [
            "\n",
            " 65%|██████▌   | 13/20 [00:57<00:29,  4.22s/it]\u001b[A"
          ]
        },
        {
          "output_type": "stream",
          "name": "stdout",
          "text": [
            "Number of Epoch = 13 - Average CCE:= 0.014736857096354167 - Average Accuracy:= 53.37166666666666%\n"
          ]
        },
        {
          "output_type": "stream",
          "name": "stderr",
          "text": [
            "\n",
            " 70%|███████   | 14/20 [01:02<00:27,  4.52s/it]\u001b[A"
          ]
        },
        {
          "output_type": "stream",
          "name": "stdout",
          "text": [
            "Number of Epoch = 14 - Average CCE:= 0.014667623901367187 - Average Accuracy:= 53.52166666666667%\n"
          ]
        },
        {
          "output_type": "stream",
          "name": "stderr",
          "text": [
            "\n",
            " 75%|███████▌  | 15/20 [01:07<00:23,  4.75s/it]\u001b[A"
          ]
        },
        {
          "output_type": "stream",
          "name": "stdout",
          "text": [
            "Number of Epoch = 15 - Average CCE:= 0.014518478393554687 - Average Accuracy:= 53.98500000000001%\n"
          ]
        },
        {
          "output_type": "stream",
          "name": "stderr",
          "text": [
            "\n",
            " 80%|████████  | 16/20 [01:12<00:19,  4.89s/it]\u001b[A"
          ]
        },
        {
          "output_type": "stream",
          "name": "stdout",
          "text": [
            "Number of Epoch = 16 - Average CCE:= 0.014478941853841146 - Average Accuracy:= 54.11166666666667%\n"
          ]
        },
        {
          "output_type": "stream",
          "name": "stderr",
          "text": [
            "\n",
            " 85%|████████▌ | 17/20 [01:16<00:13,  4.53s/it]\u001b[A"
          ]
        },
        {
          "output_type": "stream",
          "name": "stdout",
          "text": [
            "Number of Epoch = 17 - Average CCE:= 0.014420025634765625 - Average Accuracy:= 54.39666666666667%\n"
          ]
        },
        {
          "output_type": "stream",
          "name": "stderr",
          "text": [
            "\n",
            " 90%|█████████ | 18/20 [01:21<00:09,  4.74s/it]\u001b[A"
          ]
        },
        {
          "output_type": "stream",
          "name": "stdout",
          "text": [
            "Number of Epoch = 18 - Average CCE:= 0.014356046549479166 - Average Accuracy:= 54.53%\n"
          ]
        },
        {
          "output_type": "stream",
          "name": "stderr",
          "text": [
            "\n",
            " 95%|█████████▌| 19/20 [01:25<00:04,  4.41s/it]\u001b[A"
          ]
        },
        {
          "output_type": "stream",
          "name": "stdout",
          "text": [
            "Number of Epoch = 19 - Average CCE:= 0.014325974527994792 - Average Accuracy:= 54.72166666666667%\n"
          ]
        },
        {
          "output_type": "stream",
          "name": "stderr",
          "text": [
            "\n",
            "100%|██████████| 20/20 [01:30<00:00,  4.53s/it]"
          ]
        },
        {
          "output_type": "stream",
          "name": "stdout",
          "text": [
            "Number of Epoch = 20 - Average CCE:= 0.014259469604492188 - Average Accuracy:= 54.85333333333333%\n",
            "\n",
            "Total time taken (in seconds): 90.57\n"
          ]
        },
        {
          "output_type": "stream",
          "name": "stderr",
          "text": [
            "\n",
            " 70%|███████   | 7/10 [10:46<04:36, 92.10s/it]"
          ]
        },
        {
          "output_type": "stream",
          "name": "stdout",
          "text": [
            "Test CCE: 0.0723, Accuracy : 0.5498\n",
            "seed: 3823, Cross Entropy loss: 0.07229287719726563, Accuracy: 0.5498\n",
            "\n",
            "** Inference Iteration: 7 **\n",
            "\n",
            "#Training default model with seed 2690#\n"
          ]
        },
        {
          "output_type": "stream",
          "name": "stderr",
          "text": [
            "\n",
            "  0%|          | 0/20 [00:00<?, ?it/s]\u001b[A\n",
            "  5%|▌         | 1/20 [00:05<01:39,  5.23s/it]\u001b[A"
          ]
        },
        {
          "output_type": "stream",
          "name": "stdout",
          "text": [
            "Number of Epoch = 1 - Average CCE:= 0.02576010538736979 - Average Accuracy:= 18.386666666666667%\n"
          ]
        },
        {
          "output_type": "stream",
          "name": "stderr",
          "text": [
            "\n",
            " 10%|█         | 2/20 [00:09<01:19,  4.40s/it]\u001b[A"
          ]
        },
        {
          "output_type": "stream",
          "name": "stdout",
          "text": [
            "Number of Epoch = 2 - Average CCE:= 0.023251743570963542 - Average Accuracy:= 26.479999999999997%\n"
          ]
        },
        {
          "output_type": "stream",
          "name": "stderr",
          "text": [
            "\n",
            " 15%|█▌        | 3/20 [00:12<01:09,  4.07s/it]\u001b[A"
          ]
        },
        {
          "output_type": "stream",
          "name": "stdout",
          "text": [
            "Number of Epoch = 3 - Average CCE:= 0.022898262532552085 - Average Accuracy:= 27.694999999999997%\n"
          ]
        },
        {
          "output_type": "stream",
          "name": "stderr",
          "text": [
            "\n",
            " 20%|██        | 4/20 [00:17<01:12,  4.53s/it]\u001b[A"
          ]
        },
        {
          "output_type": "stream",
          "name": "stdout",
          "text": [
            "Number of Epoch = 4 - Average CCE:= 0.022754500325520833 - Average Accuracy:= 28.16%\n"
          ]
        },
        {
          "output_type": "stream",
          "name": "stderr",
          "text": [
            "\n",
            " 25%|██▌       | 5/20 [00:21<01:03,  4.25s/it]\u001b[A"
          ]
        },
        {
          "output_type": "stream",
          "name": "stdout",
          "text": [
            "Number of Epoch = 5 - Average CCE:= 0.02270018310546875 - Average Accuracy:= 28.346666666666664%\n"
          ]
        },
        {
          "output_type": "stream",
          "name": "stderr",
          "text": [
            "\n",
            " 30%|███       | 6/20 [00:25<00:57,  4.11s/it]\u001b[A"
          ]
        },
        {
          "output_type": "stream",
          "name": "stdout",
          "text": [
            "Number of Epoch = 6 - Average CCE:= 0.022612286376953124 - Average Accuracy:= 28.59333333333333%\n"
          ]
        },
        {
          "output_type": "stream",
          "name": "stderr",
          "text": [
            "\n",
            " 35%|███▌      | 7/20 [00:30<00:58,  4.48s/it]\u001b[A"
          ]
        },
        {
          "output_type": "stream",
          "name": "stdout",
          "text": [
            "Number of Epoch = 7 - Average CCE:= 0.022530625406901043 - Average Accuracy:= 28.801666666666666%\n"
          ]
        },
        {
          "output_type": "stream",
          "name": "stderr",
          "text": [
            "\n",
            " 40%|████      | 8/20 [00:34<00:50,  4.19s/it]\u001b[A"
          ]
        },
        {
          "output_type": "stream",
          "name": "stdout",
          "text": [
            "Number of Epoch = 8 - Average CCE:= 0.02249161376953125 - Average Accuracy:= 28.981666666666666%\n"
          ]
        },
        {
          "output_type": "stream",
          "name": "stderr",
          "text": [
            "\n",
            " 45%|████▌     | 9/20 [00:37<00:43,  3.98s/it]\u001b[A"
          ]
        },
        {
          "output_type": "stream",
          "name": "stdout",
          "text": [
            "Number of Epoch = 9 - Average CCE:= 0.022452691650390624 - Average Accuracy:= 29.15%\n"
          ]
        },
        {
          "output_type": "stream",
          "name": "stderr",
          "text": [
            "\n",
            " 50%|█████     | 10/20 [00:41<00:38,  3.83s/it]\u001b[A"
          ]
        },
        {
          "output_type": "stream",
          "name": "stdout",
          "text": [
            "Number of Epoch = 10 - Average CCE:= 0.02117421875 - Average Accuracy:= 32.94166666666667%\n"
          ]
        },
        {
          "output_type": "stream",
          "name": "stderr",
          "text": [
            "\n",
            " 55%|█████▌    | 11/20 [00:46<00:38,  4.26s/it]\u001b[A"
          ]
        },
        {
          "output_type": "stream",
          "name": "stdout",
          "text": [
            "Number of Epoch = 11 - Average CCE:= 0.018235563151041665 - Average Accuracy:= 42.16833333333334%\n"
          ]
        },
        {
          "output_type": "stream",
          "name": "stderr",
          "text": [
            "\n",
            " 60%|██████    | 12/20 [00:50<00:32,  4.04s/it]\u001b[A"
          ]
        },
        {
          "output_type": "stream",
          "name": "stdout",
          "text": [
            "Number of Epoch = 12 - Average CCE:= 0.0176721435546875 - Average Accuracy:= 44.10166666666667%\n"
          ]
        },
        {
          "output_type": "stream",
          "name": "stderr",
          "text": [
            "\n",
            " 65%|██████▌   | 13/20 [00:55<00:30,  4.40s/it]\u001b[A"
          ]
        },
        {
          "output_type": "stream",
          "name": "stdout",
          "text": [
            "Number of Epoch = 13 - Average CCE:= 0.01738914794921875 - Average Accuracy:= 44.995000000000005%\n"
          ]
        },
        {
          "output_type": "stream",
          "name": "stderr",
          "text": [
            "\n",
            " 70%|███████   | 14/20 [00:59<00:25,  4.19s/it]\u001b[A"
          ]
        },
        {
          "output_type": "stream",
          "name": "stdout",
          "text": [
            "Number of Epoch = 14 - Average CCE:= 0.01718709309895833 - Average Accuracy:= 45.571666666666665%\n"
          ]
        },
        {
          "output_type": "stream",
          "name": "stderr",
          "text": [
            "\n",
            " 75%|███████▌  | 15/20 [01:02<00:20,  4.01s/it]\u001b[A"
          ]
        },
        {
          "output_type": "stream",
          "name": "stdout",
          "text": [
            "Number of Epoch = 15 - Average CCE:= 0.01711377156575521 - Average Accuracy:= 45.88333333333333%\n"
          ]
        },
        {
          "output_type": "stream",
          "name": "stderr",
          "text": [
            "\n",
            " 80%|████████  | 16/20 [01:07<00:17,  4.38s/it]\u001b[A"
          ]
        },
        {
          "output_type": "stream",
          "name": "stdout",
          "text": [
            "Number of Epoch = 16 - Average CCE:= 0.017018379720052084 - Average Accuracy:= 46.153333333333336%\n"
          ]
        },
        {
          "output_type": "stream",
          "name": "stderr",
          "text": [
            "\n",
            " 85%|████████▌ | 17/20 [01:11<00:12,  4.14s/it]\u001b[A"
          ]
        },
        {
          "output_type": "stream",
          "name": "stdout",
          "text": [
            "Number of Epoch = 17 - Average CCE:= 0.016796583048502605 - Average Accuracy:= 46.85%\n"
          ]
        },
        {
          "output_type": "stream",
          "name": "stderr",
          "text": [
            "\n",
            " 90%|█████████ | 18/20 [01:14<00:07,  3.95s/it]\u001b[A"
          ]
        },
        {
          "output_type": "stream",
          "name": "stdout",
          "text": [
            "Number of Epoch = 18 - Average CCE:= 0.015632785034179687 - Average Accuracy:= 50.401666666666664%\n"
          ]
        },
        {
          "output_type": "stream",
          "name": "stderr",
          "text": [
            "\n",
            " 95%|█████████▌| 19/20 [01:18<00:03,  3.84s/it]\u001b[A"
          ]
        },
        {
          "output_type": "stream",
          "name": "stdout",
          "text": [
            "Number of Epoch = 19 - Average CCE:= 0.015066592407226562 - Average Accuracy:= 52.239999999999995%\n"
          ]
        },
        {
          "output_type": "stream",
          "name": "stderr",
          "text": [
            "\n",
            "100%|██████████| 20/20 [01:23<00:00,  4.19s/it]"
          ]
        },
        {
          "output_type": "stream",
          "name": "stdout",
          "text": [
            "Number of Epoch = 20 - Average CCE:= 0.014788421630859375 - Average Accuracy:= 53.12166666666667%\n",
            "\n",
            "Total time taken (in seconds): 83.81\n"
          ]
        },
        {
          "output_type": "stream",
          "name": "stderr",
          "text": [
            "\n",
            " 80%|████████  | 8/10 [12:10<02:59, 89.63s/it]"
          ]
        },
        {
          "output_type": "stream",
          "name": "stdout",
          "text": [
            "Test CCE: 0.0735, Accuracy : 0.5418\n",
            "seed: 2690, Cross Entropy loss: 0.07354020385742188, Accuracy: 0.5418\n",
            "\n",
            "** Inference Iteration: 8 **\n",
            "\n",
            "#Training default model with seed 3371#\n"
          ]
        },
        {
          "output_type": "stream",
          "name": "stderr",
          "text": [
            "\n",
            "  0%|          | 0/20 [00:00<?, ?it/s]\u001b[A\n",
            "  5%|▌         | 1/20 [00:03<01:06,  3.51s/it]\u001b[A"
          ]
        },
        {
          "output_type": "stream",
          "name": "stdout",
          "text": [
            "Number of Epoch = 1 - Average CCE:= 0.025951995849609374 - Average Accuracy:= 17.976666666666667%\n"
          ]
        },
        {
          "output_type": "stream",
          "name": "stderr",
          "text": [
            "\n",
            " 10%|█         | 2/20 [00:07<01:03,  3.52s/it]\u001b[A"
          ]
        },
        {
          "output_type": "stream",
          "name": "stdout",
          "text": [
            "Number of Epoch = 2 - Average CCE:= 0.025217476399739584 - Average Accuracy:= 20.41%\n"
          ]
        },
        {
          "output_type": "stream",
          "name": "stderr",
          "text": [
            "\n",
            " 15%|█▌        | 3/20 [00:12<01:13,  4.30s/it]\u001b[A"
          ]
        },
        {
          "output_type": "stream",
          "name": "stdout",
          "text": [
            "Number of Epoch = 3 - Average CCE:= 0.0250841552734375 - Average Accuracy:= 20.883333333333333%\n"
          ]
        },
        {
          "output_type": "stream",
          "name": "stderr",
          "text": [
            "\n",
            " 20%|██        | 4/20 [00:15<01:04,  4.01s/it]\u001b[A"
          ]
        },
        {
          "output_type": "stream",
          "name": "stdout",
          "text": [
            "Number of Epoch = 4 - Average CCE:= 0.023307401529947917 - Average Accuracy:= 26.279999999999998%\n"
          ]
        },
        {
          "output_type": "stream",
          "name": "stderr",
          "text": [
            "\n",
            " 25%|██▌       | 5/20 [00:19<00:57,  3.86s/it]\u001b[A"
          ]
        },
        {
          "output_type": "stream",
          "name": "stdout",
          "text": [
            "Number of Epoch = 5 - Average CCE:= 0.022636484781901042 - Average Accuracy:= 28.44833333333333%\n"
          ]
        },
        {
          "output_type": "stream",
          "name": "stderr",
          "text": [
            "\n",
            " 30%|███       | 6/20 [00:22<00:52,  3.76s/it]\u001b[A"
          ]
        },
        {
          "output_type": "stream",
          "name": "stdout",
          "text": [
            "Number of Epoch = 6 - Average CCE:= 0.022231622314453126 - Average Accuracy:= 29.7%\n"
          ]
        },
        {
          "output_type": "stream",
          "name": "stderr",
          "text": [
            "\n",
            " 35%|███▌      | 7/20 [00:28<00:55,  4.23s/it]\u001b[A"
          ]
        },
        {
          "output_type": "stream",
          "name": "stdout",
          "text": [
            "Number of Epoch = 7 - Average CCE:= 0.02071158447265625 - Average Accuracy:= 34.42666666666667%\n"
          ]
        },
        {
          "output_type": "stream",
          "name": "stderr",
          "text": [
            "\n",
            " 40%|████      | 8/20 [00:33<00:54,  4.55s/it]\u001b[A"
          ]
        },
        {
          "output_type": "stream",
          "name": "stdout",
          "text": [
            "Number of Epoch = 8 - Average CCE:= 0.02014557088216146 - Average Accuracy:= 36.27%\n"
          ]
        },
        {
          "output_type": "stream",
          "name": "stderr",
          "text": [
            "\n",
            " 45%|████▌     | 9/20 [00:38<00:52,  4.76s/it]\u001b[A"
          ]
        },
        {
          "output_type": "stream",
          "name": "stdout",
          "text": [
            "Number of Epoch = 9 - Average CCE:= 0.019947564697265625 - Average Accuracy:= 36.935%\n"
          ]
        },
        {
          "output_type": "stream",
          "name": "stderr",
          "text": [
            "\n",
            " 50%|█████     | 10/20 [00:43<00:49,  4.93s/it]\u001b[A"
          ]
        },
        {
          "output_type": "stream",
          "name": "stdout",
          "text": [
            "Number of Epoch = 10 - Average CCE:= 0.019820088704427082 - Average Accuracy:= 37.355%\n"
          ]
        },
        {
          "output_type": "stream",
          "name": "stderr",
          "text": [
            "\n",
            " 55%|█████▌    | 11/20 [00:47<00:40,  4.51s/it]\u001b[A"
          ]
        },
        {
          "output_type": "stream",
          "name": "stdout",
          "text": [
            "Number of Epoch = 11 - Average CCE:= 0.019152197265625 - Average Accuracy:= 39.39833333333333%\n"
          ]
        },
        {
          "output_type": "stream",
          "name": "stderr",
          "text": [
            "\n",
            " 60%|██████    | 12/20 [00:51<00:33,  4.23s/it]\u001b[A"
          ]
        },
        {
          "output_type": "stream",
          "name": "stdout",
          "text": [
            "Number of Epoch = 12 - Average CCE:= 0.017444478352864584 - Average Accuracy:= 44.763333333333335%\n"
          ]
        },
        {
          "output_type": "stream",
          "name": "stderr",
          "text": [
            "\n",
            " 65%|██████▌   | 13/20 [00:54<00:28,  4.02s/it]\u001b[A"
          ]
        },
        {
          "output_type": "stream",
          "name": "stdout",
          "text": [
            "Number of Epoch = 13 - Average CCE:= 0.017060579427083333 - Average Accuracy:= 45.98166666666666%\n"
          ]
        },
        {
          "output_type": "stream",
          "name": "stderr",
          "text": [
            "\n",
            " 70%|███████   | 14/20 [00:59<00:26,  4.39s/it]\u001b[A"
          ]
        },
        {
          "output_type": "stream",
          "name": "stdout",
          "text": [
            "Number of Epoch = 14 - Average CCE:= 0.016908169555664064 - Average Accuracy:= 46.53%\n"
          ]
        },
        {
          "output_type": "stream",
          "name": "stderr",
          "text": [
            "\n",
            " 75%|███████▌  | 15/20 [01:03<00:20,  4.18s/it]\u001b[A"
          ]
        },
        {
          "output_type": "stream",
          "name": "stdout",
          "text": [
            "Number of Epoch = 15 - Average CCE:= 0.016799552408854168 - Average Accuracy:= 46.92166666666667%\n"
          ]
        },
        {
          "output_type": "stream",
          "name": "stderr",
          "text": [
            "\n",
            " 80%|████████  | 16/20 [01:07<00:15,  4.00s/it]\u001b[A"
          ]
        },
        {
          "output_type": "stream",
          "name": "stdout",
          "text": [
            "Number of Epoch = 16 - Average CCE:= 0.0166945556640625 - Average Accuracy:= 47.24166666666667%\n"
          ]
        },
        {
          "output_type": "stream",
          "name": "stderr",
          "text": [
            "\n",
            " 85%|████████▌ | 17/20 [01:12<00:13,  4.37s/it]\u001b[A"
          ]
        },
        {
          "output_type": "stream",
          "name": "stdout",
          "text": [
            "Number of Epoch = 17 - Average CCE:= 0.01671176249186198 - Average Accuracy:= 47.245%\n"
          ]
        },
        {
          "output_type": "stream",
          "name": "stderr",
          "text": [
            "\n",
            " 90%|█████████ | 18/20 [01:17<00:09,  4.63s/it]\u001b[A"
          ]
        },
        {
          "output_type": "stream",
          "name": "stdout",
          "text": [
            "Number of Epoch = 18 - Average CCE:= 0.01663854064941406 - Average Accuracy:= 47.458333333333336%\n"
          ]
        },
        {
          "output_type": "stream",
          "name": "stderr",
          "text": [
            "\n",
            " 95%|█████████▌| 19/20 [01:21<00:04,  4.32s/it]\u001b[A"
          ]
        },
        {
          "output_type": "stream",
          "name": "stdout",
          "text": [
            "Number of Epoch = 19 - Average CCE:= 0.016576510620117186 - Average Accuracy:= 47.64666666666667%\n"
          ]
        },
        {
          "output_type": "stream",
          "name": "stderr",
          "text": [
            "\n",
            "100%|██████████| 20/20 [01:24<00:00,  4.24s/it]"
          ]
        },
        {
          "output_type": "stream",
          "name": "stdout",
          "text": [
            "Number of Epoch = 20 - Average CCE:= 0.01651800028483073 - Average Accuracy:= 47.806666666666665%\n",
            "\n",
            "Total time taken (in seconds): 84.73\n"
          ]
        },
        {
          "output_type": "stream",
          "name": "stderr",
          "text": [
            "\n",
            " 90%|█████████ | 9/10 [13:36<01:28, 88.31s/it]"
          ]
        },
        {
          "output_type": "stream",
          "name": "stdout",
          "text": [
            "Test CCE: 0.0843, Accuracy : 0.4765\n",
            "seed: 3371, Cross Entropy loss: 0.08425131225585937, Accuracy: 0.4765\n",
            "\n",
            "** Inference Iteration: 9 **\n",
            "\n",
            "#Training default model with seed 3155#\n"
          ]
        },
        {
          "output_type": "stream",
          "name": "stderr",
          "text": [
            "\n",
            "  0%|          | 0/20 [00:00<?, ?it/s]\u001b[A\n",
            "  5%|▌         | 1/20 [00:05<01:39,  5.22s/it]\u001b[A"
          ]
        },
        {
          "output_type": "stream",
          "name": "stdout",
          "text": [
            "Number of Epoch = 1 - Average CCE:= 0.02342645060221354 - Average Accuracy:= 25.711666666666666%\n"
          ]
        },
        {
          "output_type": "stream",
          "name": "stderr",
          "text": [
            "\n",
            " 10%|█         | 2/20 [00:10<01:34,  5.22s/it]\u001b[A"
          ]
        },
        {
          "output_type": "stream",
          "name": "stdout",
          "text": [
            "Number of Epoch = 2 - Average CCE:= 0.019216693115234374 - Average Accuracy:= 39.08833333333334%\n"
          ]
        },
        {
          "output_type": "stream",
          "name": "stderr",
          "text": [
            "\n",
            " 15%|█▌        | 3/20 [00:14<01:16,  4.48s/it]\u001b[A"
          ]
        },
        {
          "output_type": "stream",
          "name": "stdout",
          "text": [
            "Number of Epoch = 3 - Average CCE:= 0.018169478352864584 - Average Accuracy:= 42.50666666666667%\n"
          ]
        },
        {
          "output_type": "stream",
          "name": "stderr",
          "text": [
            "\n",
            " 20%|██        | 4/20 [00:17<01:05,  4.09s/it]\u001b[A"
          ]
        },
        {
          "output_type": "stream",
          "name": "stdout",
          "text": [
            "Number of Epoch = 4 - Average CCE:= 0.017800455729166668 - Average Accuracy:= 43.669999999999995%\n"
          ]
        },
        {
          "output_type": "stream",
          "name": "stderr",
          "text": [
            "\n",
            " 25%|██▌       | 5/20 [00:22<01:07,  4.50s/it]\u001b[A"
          ]
        },
        {
          "output_type": "stream",
          "name": "stdout",
          "text": [
            "Number of Epoch = 5 - Average CCE:= 0.017551141357421876 - Average Accuracy:= 44.401666666666664%\n"
          ]
        },
        {
          "output_type": "stream",
          "name": "stderr",
          "text": [
            "\n",
            " 30%|███       | 6/20 [00:26<00:58,  4.19s/it]\u001b[A"
          ]
        },
        {
          "output_type": "stream",
          "name": "stdout",
          "text": [
            "Number of Epoch = 6 - Average CCE:= 0.01692261047363281 - Average Accuracy:= 46.416666666666664%\n"
          ]
        },
        {
          "output_type": "stream",
          "name": "stderr",
          "text": [
            "\n",
            " 35%|███▌      | 7/20 [00:29<00:51,  3.95s/it]\u001b[A"
          ]
        },
        {
          "output_type": "stream",
          "name": "stdout",
          "text": [
            "Number of Epoch = 7 - Average CCE:= 0.016208563232421876 - Average Accuracy:= 48.61333333333333%\n"
          ]
        },
        {
          "output_type": "stream",
          "name": "stderr",
          "text": [
            "\n",
            " 40%|████      | 8/20 [00:35<00:52,  4.36s/it]\u001b[A"
          ]
        },
        {
          "output_type": "stream",
          "name": "stdout",
          "text": [
            "Number of Epoch = 8 - Average CCE:= 0.015778087361653644 - Average Accuracy:= 50.05833333333334%\n"
          ]
        },
        {
          "output_type": "stream",
          "name": "stderr",
          "text": [
            "\n",
            " 45%|████▌     | 9/20 [00:40<00:50,  4.63s/it]\u001b[A"
          ]
        },
        {
          "output_type": "stream",
          "name": "stdout",
          "text": [
            "Number of Epoch = 9 - Average CCE:= 0.015482875569661459 - Average Accuracy:= 50.97833333333334%\n"
          ]
        },
        {
          "output_type": "stream",
          "name": "stderr",
          "text": [
            "\n",
            " 50%|█████     | 10/20 [00:43<00:43,  4.34s/it]\u001b[A"
          ]
        },
        {
          "output_type": "stream",
          "name": "stdout",
          "text": [
            "Number of Epoch = 10 - Average CCE:= 0.015331884765625 - Average Accuracy:= 51.50333333333334%\n"
          ]
        },
        {
          "output_type": "stream",
          "name": "stderr",
          "text": [
            "\n",
            " 55%|█████▌    | 11/20 [00:49<00:41,  4.62s/it]\u001b[A"
          ]
        },
        {
          "output_type": "stream",
          "name": "stdout",
          "text": [
            "Number of Epoch = 11 - Average CCE:= 0.015112811279296876 - Average Accuracy:= 52.126666666666665%\n"
          ]
        },
        {
          "output_type": "stream",
          "name": "stderr",
          "text": [
            "\n",
            " 60%|██████    | 12/20 [00:54<00:38,  4.81s/it]\u001b[A"
          ]
        },
        {
          "output_type": "stream",
          "name": "stdout",
          "text": [
            "Number of Epoch = 12 - Average CCE:= 0.014979017130533854 - Average Accuracy:= 52.57333333333334%\n"
          ]
        },
        {
          "output_type": "stream",
          "name": "stderr",
          "text": [
            "\n",
            " 65%|██████▌   | 13/20 [00:58<00:31,  4.46s/it]\u001b[A"
          ]
        },
        {
          "output_type": "stream",
          "name": "stdout",
          "text": [
            "Number of Epoch = 13 - Average CCE:= 0.014922823079427083 - Average Accuracy:= 52.76333333333333%\n"
          ]
        },
        {
          "output_type": "stream",
          "name": "stderr",
          "text": [
            "\n",
            " 70%|███████   | 14/20 [01:03<00:28,  4.69s/it]\u001b[A"
          ]
        },
        {
          "output_type": "stream",
          "name": "stdout",
          "text": [
            "Number of Epoch = 14 - Average CCE:= 0.014859506225585937 - Average Accuracy:= 53.00666666666667%\n"
          ]
        },
        {
          "output_type": "stream",
          "name": "stderr",
          "text": [
            "\n",
            " 75%|███████▌  | 15/20 [01:06<00:21,  4.36s/it]\u001b[A"
          ]
        },
        {
          "output_type": "stream",
          "name": "stdout",
          "text": [
            "Number of Epoch = 15 - Average CCE:= 0.014741130574544271 - Average Accuracy:= 53.32333333333333%\n"
          ]
        },
        {
          "output_type": "stream",
          "name": "stderr",
          "text": [
            "\n",
            " 80%|████████  | 16/20 [01:12<00:18,  4.62s/it]\u001b[A"
          ]
        },
        {
          "output_type": "stream",
          "name": "stdout",
          "text": [
            "Number of Epoch = 16 - Average CCE:= 0.01466544189453125 - Average Accuracy:= 53.60666666666667%\n"
          ]
        },
        {
          "output_type": "stream",
          "name": "stderr",
          "text": [
            "\n",
            " 85%|████████▌ | 17/20 [01:15<00:13,  4.35s/it]\u001b[A"
          ]
        },
        {
          "output_type": "stream",
          "name": "stdout",
          "text": [
            "Number of Epoch = 17 - Average CCE:= 0.01464749247233073 - Average Accuracy:= 53.644999999999996%\n"
          ]
        },
        {
          "output_type": "stream",
          "name": "stderr",
          "text": [
            "\n",
            " 90%|█████████ | 18/20 [01:19<00:08,  4.16s/it]\u001b[A"
          ]
        },
        {
          "output_type": "stream",
          "name": "stdout",
          "text": [
            "Number of Epoch = 18 - Average CCE:= 0.014619621785481771 - Average Accuracy:= 53.754999999999995%\n"
          ]
        },
        {
          "output_type": "stream",
          "name": "stderr",
          "text": [
            "\n",
            " 95%|█████████▌| 19/20 [01:23<00:03,  3.99s/it]\u001b[A"
          ]
        },
        {
          "output_type": "stream",
          "name": "stdout",
          "text": [
            "Number of Epoch = 19 - Average CCE:= 0.014540643310546875 - Average Accuracy:= 54.02%\n"
          ]
        },
        {
          "output_type": "stream",
          "name": "stderr",
          "text": [
            "\n",
            "100%|██████████| 20/20 [01:28<00:00,  4.42s/it]"
          ]
        },
        {
          "output_type": "stream",
          "name": "stdout",
          "text": [
            "Number of Epoch = 20 - Average CCE:= 0.014505764770507813 - Average Accuracy:= 54.10666666666667%\n",
            "\n",
            "Total time taken (in seconds): 88.42\n"
          ]
        },
        {
          "output_type": "stream",
          "name": "stderr",
          "text": [
            "\n",
            "100%|██████████| 10/10 [15:05<00:00, 90.53s/it]\n"
          ]
        },
        {
          "output_type": "stream",
          "name": "stdout",
          "text": [
            "Test CCE: 0.0739, Accuracy : 0.5408\n",
            "seed: 3155, Cross Entropy loss: 0.07390631713867188, Accuracy: 0.5408\n",
            "## END: Current Model: default##\n",
            "Current inference results: {'default': {'cce_list': [0.0748375244140625, 0.05811812744140625, 0.08847588500976562, 0.029572921752929686, 0.061538922119140624, 0.08598414916992188, 0.07229287719726563, 0.07354020385742188, 0.08425131225585937, 0.07390631713867188], 'acc_list': [0.5342, 0.6372, 0.4499, 0.8153, 0.616, 0.465, 0.5498, 0.5418, 0.4765, 0.5408]}, 'L2': {}, 'dropout': {}}\n",
            "## START: Current Model: L2 ##\n"
          ]
        },
        {
          "output_type": "stream",
          "name": "stderr",
          "text": [
            "\r  0%|          | 0/10 [00:00<?, ?it/s]"
          ]
        },
        {
          "output_type": "stream",
          "name": "stdout",
          "text": [
            "\n",
            "** Inference Iteration: 0 **\n",
            "\n",
            "#Training L2 model with seed 3058#\n"
          ]
        },
        {
          "output_type": "stream",
          "name": "stderr",
          "text": [
            "\n",
            "  0%|          | 0/20 [00:00<?, ?it/s]\u001b[A\n",
            "  5%|▌         | 1/20 [00:03<01:15,  3.95s/it]\u001b[A"
          ]
        },
        {
          "output_type": "stream",
          "name": "stdout",
          "text": [
            "Number of Epoch = 1 - Average CCE:= 0.02560634562174479 - Average Accuracy:= 19.148333333333333%\n"
          ]
        },
        {
          "output_type": "stream",
          "name": "stderr",
          "text": [
            "\n",
            " 10%|█         | 2/20 [00:09<01:24,  4.71s/it]\u001b[A"
          ]
        },
        {
          "output_type": "stream",
          "name": "stdout",
          "text": [
            "Number of Epoch = 2 - Average CCE:= 0.02248162841796875 - Average Accuracy:= 29.05333333333333%\n"
          ]
        },
        {
          "output_type": "stream",
          "name": "stderr",
          "text": [
            "\n",
            " 15%|█▌        | 3/20 [00:14<01:25,  5.01s/it]\u001b[A"
          ]
        },
        {
          "output_type": "stream",
          "name": "stdout",
          "text": [
            "Number of Epoch = 3 - Average CCE:= 0.021135858154296874 - Average Accuracy:= 33.30166666666667%\n"
          ]
        },
        {
          "output_type": "stream",
          "name": "stderr",
          "text": [
            "\n",
            " 20%|██        | 4/20 [00:19<01:21,  5.10s/it]\u001b[A"
          ]
        },
        {
          "output_type": "stream",
          "name": "stdout",
          "text": [
            "Number of Epoch = 4 - Average CCE:= 0.020596553548177084 - Average Accuracy:= 35.10166666666667%\n"
          ]
        },
        {
          "output_type": "stream",
          "name": "stderr",
          "text": [
            "\n",
            " 25%|██▌       | 5/20 [00:23<01:09,  4.66s/it]\u001b[A"
          ]
        },
        {
          "output_type": "stream",
          "name": "stdout",
          "text": [
            "Number of Epoch = 5 - Average CCE:= 0.019862925211588542 - Average Accuracy:= 37.343333333333334%\n"
          ]
        },
        {
          "output_type": "stream",
          "name": "stderr",
          "text": [
            "\n",
            " 30%|███       | 6/20 [00:28<01:07,  4.85s/it]\u001b[A"
          ]
        },
        {
          "output_type": "stream",
          "name": "stdout",
          "text": [
            "Number of Epoch = 6 - Average CCE:= 0.01857134806315104 - Average Accuracy:= 41.358333333333334%\n"
          ]
        },
        {
          "output_type": "stream",
          "name": "stderr",
          "text": [
            "\n",
            " 35%|███▌      | 7/20 [00:34<01:04,  4.98s/it]\u001b[A"
          ]
        },
        {
          "output_type": "stream",
          "name": "stdout",
          "text": [
            "Number of Epoch = 7 - Average CCE:= 0.017906742350260418 - Average Accuracy:= 43.52166666666666%\n"
          ]
        },
        {
          "output_type": "stream",
          "name": "stderr",
          "text": [
            "\n",
            " 40%|████      | 8/20 [00:39<01:00,  5.06s/it]\u001b[A"
          ]
        },
        {
          "output_type": "stream",
          "name": "stdout",
          "text": [
            "Number of Epoch = 8 - Average CCE:= 0.017602083333333334 - Average Accuracy:= 44.501666666666665%\n"
          ]
        },
        {
          "output_type": "stream",
          "name": "stderr",
          "text": [
            "\n",
            " 45%|████▌     | 9/20 [00:43<00:52,  4.75s/it]\u001b[A"
          ]
        },
        {
          "output_type": "stream",
          "name": "stdout",
          "text": [
            "Number of Epoch = 9 - Average CCE:= 0.01677833251953125 - Average Accuracy:= 46.99166666666667%\n"
          ]
        },
        {
          "output_type": "stream",
          "name": "stderr",
          "text": [
            "\n",
            " 50%|█████     | 10/20 [00:47<00:45,  4.53s/it]\u001b[A"
          ]
        },
        {
          "output_type": "stream",
          "name": "stdout",
          "text": [
            "Number of Epoch = 10 - Average CCE:= 0.015887830607096354 - Average Accuracy:= 49.835%\n"
          ]
        },
        {
          "output_type": "stream",
          "name": "stderr",
          "text": [
            "\n",
            " 55%|█████▌    | 11/20 [00:51<00:39,  4.36s/it]\u001b[A"
          ]
        },
        {
          "output_type": "stream",
          "name": "stdout",
          "text": [
            "Number of Epoch = 11 - Average CCE:= 0.015513824462890626 - Average Accuracy:= 51.02166666666667%\n"
          ]
        },
        {
          "output_type": "stream",
          "name": "stderr",
          "text": [
            "\n",
            " 60%|██████    | 12/20 [00:55<00:34,  4.26s/it]\u001b[A"
          ]
        },
        {
          "output_type": "stream",
          "name": "stdout",
          "text": [
            "Number of Epoch = 12 - Average CCE:= 0.015244100952148438 - Average Accuracy:= 51.905%\n"
          ]
        },
        {
          "output_type": "stream",
          "name": "stderr",
          "text": [
            "\n",
            " 65%|██████▌   | 13/20 [01:00<00:31,  4.55s/it]\u001b[A"
          ]
        },
        {
          "output_type": "stream",
          "name": "stdout",
          "text": [
            "Number of Epoch = 13 - Average CCE:= 0.015072217814127604 - Average Accuracy:= 52.51833333333333%\n"
          ]
        },
        {
          "output_type": "stream",
          "name": "stderr",
          "text": [
            "\n",
            " 70%|███████   | 14/20 [01:05<00:28,  4.76s/it]\u001b[A"
          ]
        },
        {
          "output_type": "stream",
          "name": "stdout",
          "text": [
            "Number of Epoch = 14 - Average CCE:= 0.014974015299479167 - Average Accuracy:= 52.79333333333334%\n"
          ]
        },
        {
          "output_type": "stream",
          "name": "stderr",
          "text": [
            "\n",
            " 75%|███████▌  | 15/20 [01:09<00:22,  4.53s/it]\u001b[A"
          ]
        },
        {
          "output_type": "stream",
          "name": "stdout",
          "text": [
            "Number of Epoch = 15 - Average CCE:= 0.014597808837890625 - Average Accuracy:= 53.92%\n"
          ]
        },
        {
          "output_type": "stream",
          "name": "stderr",
          "text": [
            "\n",
            " 80%|████████  | 16/20 [01:15<00:18,  4.74s/it]\u001b[A"
          ]
        },
        {
          "output_type": "stream",
          "name": "stdout",
          "text": [
            "Number of Epoch = 16 - Average CCE:= 0.013620333862304688 - Average Accuracy:= 57.00333333333333%\n"
          ]
        },
        {
          "output_type": "stream",
          "name": "stderr",
          "text": [
            "\n",
            " 85%|████████▌ | 17/20 [01:19<00:13,  4.48s/it]\u001b[A"
          ]
        },
        {
          "output_type": "stream",
          "name": "stdout",
          "text": [
            "Number of Epoch = 17 - Average CCE:= 0.012701236979166667 - Average Accuracy:= 59.85%\n"
          ]
        },
        {
          "output_type": "stream",
          "name": "stderr",
          "text": [
            "\n",
            " 90%|█████████ | 18/20 [01:22<00:08,  4.30s/it]\u001b[A"
          ]
        },
        {
          "output_type": "stream",
          "name": "stdout",
          "text": [
            "Number of Epoch = 18 - Average CCE:= 0.011680314127604167 - Average Accuracy:= 62.916666666666664%\n"
          ]
        },
        {
          "output_type": "stream",
          "name": "stderr",
          "text": [
            "\n",
            " 95%|█████████▌| 19/20 [01:28<00:04,  4.58s/it]\u001b[A"
          ]
        },
        {
          "output_type": "stream",
          "name": "stdout",
          "text": [
            "Number of Epoch = 19 - Average CCE:= 0.010660785929361979 - Average Accuracy:= 66.21000000000001%\n"
          ]
        },
        {
          "output_type": "stream",
          "name": "stderr",
          "text": [
            "\n",
            "100%|██████████| 20/20 [01:33<00:00,  4.67s/it]"
          ]
        },
        {
          "output_type": "stream",
          "name": "stdout",
          "text": [
            "Number of Epoch = 20 - Average CCE:= 0.010229386393229166 - Average Accuracy:= 67.67166666666667%\n",
            "\n",
            "Total time taken (in seconds): 93.41\n"
          ]
        },
        {
          "output_type": "stream",
          "name": "stderr",
          "text": [
            "\n",
            " 10%|█         | 1/10 [01:34<14:06, 94.10s/it]"
          ]
        },
        {
          "output_type": "stream",
          "name": "stdout",
          "text": [
            "Test CCE: 0.0508, Accuracy : 0.6847\n",
            "seed: 3058, Cross Entropy loss: 0.05077794799804688, Accuracy: 0.6847\n",
            "\n",
            "** Inference Iteration: 1 **\n",
            "\n",
            "#Training L2 model with seed 3717#\n"
          ]
        },
        {
          "output_type": "stream",
          "name": "stderr",
          "text": [
            "\n",
            "  0%|          | 0/20 [00:00<?, ?it/s]\u001b[A\n",
            "  5%|▌         | 1/20 [00:05<01:39,  5.22s/it]\u001b[A"
          ]
        },
        {
          "output_type": "stream",
          "name": "stdout",
          "text": [
            "Number of Epoch = 1 - Average CCE:= 0.0238257080078125 - Average Accuracy:= 24.709999999999997%\n"
          ]
        },
        {
          "output_type": "stream",
          "name": "stderr",
          "text": [
            "\n",
            " 10%|█         | 2/20 [00:10<01:34,  5.23s/it]\u001b[A"
          ]
        },
        {
          "output_type": "stream",
          "name": "stdout",
          "text": [
            "Number of Epoch = 2 - Average CCE:= 0.020650667317708333 - Average Accuracy:= 34.73833333333333%\n"
          ]
        },
        {
          "output_type": "stream",
          "name": "stderr",
          "text": [
            "\n",
            " 15%|█▌        | 3/20 [00:15<01:28,  5.23s/it]\u001b[A"
          ]
        },
        {
          "output_type": "stream",
          "name": "stdout",
          "text": [
            "Number of Epoch = 3 - Average CCE:= 0.018495534261067707 - Average Accuracy:= 41.47666666666667%\n"
          ]
        },
        {
          "output_type": "stream",
          "name": "stderr",
          "text": [
            "\n",
            " 20%|██        | 4/20 [00:19<01:15,  4.70s/it]\u001b[A"
          ]
        },
        {
          "output_type": "stream",
          "name": "stdout",
          "text": [
            "Number of Epoch = 4 - Average CCE:= 0.016270374552408855 - Average Accuracy:= 48.516666666666666%\n"
          ]
        },
        {
          "output_type": "stream",
          "name": "stderr",
          "text": [
            "\n",
            " 25%|██▌       | 5/20 [00:24<01:13,  4.89s/it]\u001b[A"
          ]
        },
        {
          "output_type": "stream",
          "name": "stdout",
          "text": [
            "Number of Epoch = 5 - Average CCE:= 0.01551435038248698 - Average Accuracy:= 50.953333333333326%\n"
          ]
        },
        {
          "output_type": "stream",
          "name": "stderr",
          "text": [
            "\n",
            " 30%|███       | 6/20 [00:30<01:10,  5.00s/it]\u001b[A"
          ]
        },
        {
          "output_type": "stream",
          "name": "stdout",
          "text": [
            "Number of Epoch = 6 - Average CCE:= 0.01516456298828125 - Average Accuracy:= 52.11666666666667%\n"
          ]
        },
        {
          "output_type": "stream",
          "name": "stderr",
          "text": [
            "\n",
            " 35%|███▌      | 7/20 [00:34<01:00,  4.68s/it]\u001b[A"
          ]
        },
        {
          "output_type": "stream",
          "name": "stdout",
          "text": [
            "Number of Epoch = 7 - Average CCE:= 0.014928619384765624 - Average Accuracy:= 52.88666666666667%\n"
          ]
        },
        {
          "output_type": "stream",
          "name": "stderr",
          "text": [
            "\n",
            " 40%|████      | 8/20 [00:37<00:53,  4.43s/it]\u001b[A"
          ]
        },
        {
          "output_type": "stream",
          "name": "stdout",
          "text": [
            "Number of Epoch = 8 - Average CCE:= 0.014725052897135417 - Average Accuracy:= 53.55166666666666%\n"
          ]
        },
        {
          "output_type": "stream",
          "name": "stderr",
          "text": [
            "\n",
            " 45%|████▌     | 9/20 [00:41<00:46,  4.26s/it]\u001b[A"
          ]
        },
        {
          "output_type": "stream",
          "name": "stdout",
          "text": [
            "Number of Epoch = 9 - Average CCE:= 0.014511271158854167 - Average Accuracy:= 54.233333333333334%\n"
          ]
        },
        {
          "output_type": "stream",
          "name": "stderr",
          "text": [
            "\n",
            " 50%|█████     | 10/20 [00:45<00:41,  4.17s/it]\u001b[A"
          ]
        },
        {
          "output_type": "stream",
          "name": "stdout",
          "text": [
            "Number of Epoch = 10 - Average CCE:= 0.012958090209960938 - Average Accuracy:= 59.03666666666667%\n"
          ]
        },
        {
          "output_type": "stream",
          "name": "stderr",
          "text": [
            "\n",
            " 55%|█████▌    | 11/20 [00:51<00:40,  4.50s/it]\u001b[A"
          ]
        },
        {
          "output_type": "stream",
          "name": "stdout",
          "text": [
            "Number of Epoch = 11 - Average CCE:= 0.011855059814453126 - Average Accuracy:= 62.55833333333334%\n"
          ]
        },
        {
          "output_type": "stream",
          "name": "stderr",
          "text": [
            "\n",
            " 60%|██████    | 12/20 [00:54<00:34,  4.31s/it]\u001b[A"
          ]
        },
        {
          "output_type": "stream",
          "name": "stdout",
          "text": [
            "Number of Epoch = 12 - Average CCE:= 0.011601443481445312 - Average Accuracy:= 63.39333333333334%\n"
          ]
        },
        {
          "output_type": "stream",
          "name": "stderr",
          "text": [
            "\n",
            " 65%|██████▌   | 13/20 [01:00<00:32,  4.59s/it]\u001b[A"
          ]
        },
        {
          "output_type": "stream",
          "name": "stdout",
          "text": [
            "Number of Epoch = 13 - Average CCE:= 0.011442925008138021 - Average Accuracy:= 63.885000000000005%\n"
          ]
        },
        {
          "output_type": "stream",
          "name": "stderr",
          "text": [
            "\n",
            " 70%|███████   | 14/20 [01:05<00:28,  4.78s/it]\u001b[A"
          ]
        },
        {
          "output_type": "stream",
          "name": "stdout",
          "text": [
            "Number of Epoch = 14 - Average CCE:= 0.011393634033203126 - Average Accuracy:= 64.14666666666666%\n"
          ]
        },
        {
          "output_type": "stream",
          "name": "stderr",
          "text": [
            "\n",
            " 75%|███████▌  | 15/20 [01:09<00:22,  4.54s/it]\u001b[A"
          ]
        },
        {
          "output_type": "stream",
          "name": "stdout",
          "text": [
            "Number of Epoch = 15 - Average CCE:= 0.011293544514973958 - Average Accuracy:= 64.36500000000001%\n"
          ]
        },
        {
          "output_type": "stream",
          "name": "stderr",
          "text": [
            "\n",
            " 80%|████████  | 16/20 [01:14<00:18,  4.75s/it]\u001b[A"
          ]
        },
        {
          "output_type": "stream",
          "name": "stdout",
          "text": [
            "Number of Epoch = 16 - Average CCE:= 0.01121112772623698 - Average Accuracy:= 64.73166666666667%\n"
          ]
        },
        {
          "output_type": "stream",
          "name": "stderr",
          "text": [
            "\n",
            " 85%|████████▌ | 17/20 [01:19<00:14,  4.89s/it]\u001b[A"
          ]
        },
        {
          "output_type": "stream",
          "name": "stdout",
          "text": [
            "Number of Epoch = 17 - Average CCE:= 0.011148621622721355 - Average Accuracy:= 64.83%\n"
          ]
        },
        {
          "output_type": "stream",
          "name": "stderr",
          "text": [
            "\n",
            " 90%|█████████ | 18/20 [01:23<00:09,  4.63s/it]\u001b[A"
          ]
        },
        {
          "output_type": "stream",
          "name": "stdout",
          "text": [
            "Number of Epoch = 18 - Average CCE:= 0.011071866861979167 - Average Accuracy:= 65.07166666666667%\n"
          ]
        },
        {
          "output_type": "stream",
          "name": "stderr",
          "text": [
            "\n",
            " 95%|█████████▌| 19/20 [01:27<00:04,  4.42s/it]\u001b[A"
          ]
        },
        {
          "output_type": "stream",
          "name": "stdout",
          "text": [
            "Number of Epoch = 19 - Average CCE:= 0.011018328857421876 - Average Accuracy:= 65.315%\n"
          ]
        },
        {
          "output_type": "stream",
          "name": "stderr",
          "text": [
            "\n",
            "100%|██████████| 20/20 [01:32<00:00,  4.65s/it]"
          ]
        },
        {
          "output_type": "stream",
          "name": "stdout",
          "text": [
            "Number of Epoch = 20 - Average CCE:= 0.0109893798828125 - Average Accuracy:= 65.35166666666666%\n",
            "\n",
            "Total time taken (in seconds): 93.00\n"
          ]
        },
        {
          "output_type": "stream",
          "name": "stderr",
          "text": [
            "\n",
            " 20%|██        | 2/10 [03:07<12:30, 93.80s/it]"
          ]
        },
        {
          "output_type": "stream",
          "name": "stdout",
          "text": [
            "Test CCE: 0.0562, Accuracy : 0.6514\n",
            "seed: 3717, Cross Entropy loss: 0.056246685791015626, Accuracy: 0.6514\n",
            "\n",
            "** Inference Iteration: 2 **\n",
            "\n",
            "#Training L2 model with seed 2781#\n"
          ]
        },
        {
          "output_type": "stream",
          "name": "stderr",
          "text": [
            "\n",
            "  0%|          | 0/20 [00:00<?, ?it/s]\u001b[A\n",
            "  5%|▌         | 1/20 [00:05<01:39,  5.23s/it]\u001b[A"
          ]
        },
        {
          "output_type": "stream",
          "name": "stdout",
          "text": [
            "Number of Epoch = 1 - Average CCE:= 0.02530476481119792 - Average Accuracy:= 20.171666666666667%\n"
          ]
        },
        {
          "output_type": "stream",
          "name": "stderr",
          "text": [
            "\n",
            " 10%|█         | 2/20 [00:10<01:34,  5.26s/it]\u001b[A"
          ]
        },
        {
          "output_type": "stream",
          "name": "stdout",
          "text": [
            "Number of Epoch = 2 - Average CCE:= 0.02254906005859375 - Average Accuracy:= 28.94833333333333%\n"
          ]
        },
        {
          "output_type": "stream",
          "name": "stderr",
          "text": [
            "\n",
            " 15%|█▌        | 3/20 [00:15<01:29,  5.28s/it]\u001b[A"
          ]
        },
        {
          "output_type": "stream",
          "name": "stdout",
          "text": [
            "Number of Epoch = 3 - Average CCE:= 0.020780731201171875 - Average Accuracy:= 34.46%\n"
          ]
        },
        {
          "output_type": "stream",
          "name": "stderr",
          "text": [
            "\n",
            " 20%|██        | 4/20 [00:19<01:15,  4.72s/it]\u001b[A"
          ]
        },
        {
          "output_type": "stream",
          "name": "stdout",
          "text": [
            "Number of Epoch = 4 - Average CCE:= 0.02024170125325521 - Average Accuracy:= 36.236666666666665%\n"
          ]
        },
        {
          "output_type": "stream",
          "name": "stderr",
          "text": [
            "\n",
            " 25%|██▌       | 5/20 [00:23<01:05,  4.40s/it]\u001b[A"
          ]
        },
        {
          "output_type": "stream",
          "name": "stdout",
          "text": [
            "Number of Epoch = 5 - Average CCE:= 0.020063419596354166 - Average Accuracy:= 36.81833333333333%\n"
          ]
        },
        {
          "output_type": "stream",
          "name": "stderr",
          "text": [
            "\n",
            " 30%|███       | 6/20 [00:27<00:59,  4.22s/it]\u001b[A"
          ]
        },
        {
          "output_type": "stream",
          "name": "stdout",
          "text": [
            "Number of Epoch = 6 - Average CCE:= 0.019941001383463542 - Average Accuracy:= 37.235%\n"
          ]
        },
        {
          "output_type": "stream",
          "name": "stderr",
          "text": [
            "\n",
            " 35%|███▌      | 7/20 [00:32<00:59,  4.55s/it]\u001b[A"
          ]
        },
        {
          "output_type": "stream",
          "name": "stdout",
          "text": [
            "Number of Epoch = 7 - Average CCE:= 0.019860616048177085 - Average Accuracy:= 37.471666666666664%\n"
          ]
        },
        {
          "output_type": "stream",
          "name": "stderr",
          "text": [
            "\n",
            " 40%|████      | 8/20 [00:37<00:57,  4.77s/it]\u001b[A"
          ]
        },
        {
          "output_type": "stream",
          "name": "stdout",
          "text": [
            "Number of Epoch = 8 - Average CCE:= 0.019747599283854167 - Average Accuracy:= 37.833333333333336%\n"
          ]
        },
        {
          "output_type": "stream",
          "name": "stderr",
          "text": [
            "\n",
            " 45%|████▌     | 9/20 [00:43<00:54,  4.93s/it]\u001b[A"
          ]
        },
        {
          "output_type": "stream",
          "name": "stdout",
          "text": [
            "Number of Epoch = 9 - Average CCE:= 0.01971137491861979 - Average Accuracy:= 37.983333333333334%\n"
          ]
        },
        {
          "output_type": "stream",
          "name": "stderr",
          "text": [
            "\n",
            " 50%|█████     | 10/20 [00:47<00:46,  4.61s/it]\u001b[A"
          ]
        },
        {
          "output_type": "stream",
          "name": "stdout",
          "text": [
            "Number of Epoch = 10 - Average CCE:= 0.019632454427083335 - Average Accuracy:= 38.221666666666664%\n"
          ]
        },
        {
          "output_type": "stream",
          "name": "stderr",
          "text": [
            "\n",
            " 55%|█████▌    | 11/20 [00:50<00:39,  4.41s/it]\u001b[A"
          ]
        },
        {
          "output_type": "stream",
          "name": "stdout",
          "text": [
            "Number of Epoch = 11 - Average CCE:= 0.019611468505859375 - Average Accuracy:= 38.35333333333333%\n"
          ]
        },
        {
          "output_type": "stream",
          "name": "stderr",
          "text": [
            "\n",
            " 60%|██████    | 12/20 [00:54<00:33,  4.25s/it]\u001b[A"
          ]
        },
        {
          "output_type": "stream",
          "name": "stdout",
          "text": [
            "Number of Epoch = 12 - Average CCE:= 0.01953531494140625 - Average Accuracy:= 38.50833333333333%\n"
          ]
        },
        {
          "output_type": "stream",
          "name": "stderr",
          "text": [
            "\n",
            " 65%|██████▌   | 13/20 [00:58<00:28,  4.13s/it]\u001b[A"
          ]
        },
        {
          "output_type": "stream",
          "name": "stdout",
          "text": [
            "Number of Epoch = 13 - Average CCE:= 0.0195330322265625 - Average Accuracy:= 38.53666666666667%\n"
          ]
        },
        {
          "output_type": "stream",
          "name": "stderr",
          "text": [
            "\n",
            " 70%|███████   | 14/20 [01:02<00:24,  4.06s/it]\u001b[A"
          ]
        },
        {
          "output_type": "stream",
          "name": "stdout",
          "text": [
            "Number of Epoch = 14 - Average CCE:= 0.019501273600260417 - Average Accuracy:= 38.59%\n"
          ]
        },
        {
          "output_type": "stream",
          "name": "stderr",
          "text": [
            "\n",
            " 75%|███████▌  | 15/20 [01:07<00:22,  4.41s/it]\u001b[A"
          ]
        },
        {
          "output_type": "stream",
          "name": "stdout",
          "text": [
            "Number of Epoch = 15 - Average CCE:= 0.019511387125651043 - Average Accuracy:= 38.62%\n"
          ]
        },
        {
          "output_type": "stream",
          "name": "stderr",
          "text": [
            "\n",
            " 80%|████████  | 16/20 [01:11<00:17,  4.26s/it]\u001b[A"
          ]
        },
        {
          "output_type": "stream",
          "name": "stdout",
          "text": [
            "Number of Epoch = 16 - Average CCE:= 0.019485251871744793 - Average Accuracy:= 38.74%\n"
          ]
        },
        {
          "output_type": "stream",
          "name": "stderr",
          "text": [
            "\n",
            " 85%|████████▌ | 17/20 [01:15<00:12,  4.17s/it]\u001b[A"
          ]
        },
        {
          "output_type": "stream",
          "name": "stdout",
          "text": [
            "Number of Epoch = 17 - Average CCE:= 0.019462969970703126 - Average Accuracy:= 38.76%\n"
          ]
        },
        {
          "output_type": "stream",
          "name": "stderr",
          "text": [
            "\n",
            " 90%|█████████ | 18/20 [01:20<00:08,  4.49s/it]\u001b[A"
          ]
        },
        {
          "output_type": "stream",
          "name": "stdout",
          "text": [
            "Number of Epoch = 18 - Average CCE:= 0.019444232177734375 - Average Accuracy:= 38.834999999999994%\n"
          ]
        },
        {
          "output_type": "stream",
          "name": "stderr",
          "text": [
            "\n",
            " 95%|█████████▌| 19/20 [01:26<00:04,  4.73s/it]\u001b[A"
          ]
        },
        {
          "output_type": "stream",
          "name": "stdout",
          "text": [
            "Number of Epoch = 19 - Average CCE:= 0.019399261474609374 - Average Accuracy:= 38.971666666666664%\n"
          ]
        },
        {
          "output_type": "stream",
          "name": "stderr",
          "text": [
            "\n",
            "100%|██████████| 20/20 [01:31<00:00,  4.58s/it]"
          ]
        },
        {
          "output_type": "stream",
          "name": "stdout",
          "text": [
            "Number of Epoch = 20 - Average CCE:= 0.01938140665690104 - Average Accuracy:= 39.015%\n",
            "\n",
            "Total time taken (in seconds): 91.52\n"
          ]
        },
        {
          "output_type": "stream",
          "name": "stderr",
          "text": [
            "\n",
            " 30%|███       | 3/10 [04:39<10:51, 93.06s/it]"
          ]
        },
        {
          "output_type": "stream",
          "name": "stdout",
          "text": [
            "Test CCE: 0.0985, Accuracy : 0.3908\n",
            "seed: 2781, Cross Entropy loss: 0.09849248657226563, Accuracy: 0.3908\n",
            "\n",
            "** Inference Iteration: 3 **\n",
            "\n",
            "#Training L2 model with seed 2563#\n"
          ]
        },
        {
          "output_type": "stream",
          "name": "stderr",
          "text": [
            "\n",
            "  0%|          | 0/20 [00:00<?, ?it/s]\u001b[A\n",
            "  5%|▌         | 1/20 [00:05<01:39,  5.22s/it]\u001b[A"
          ]
        },
        {
          "output_type": "stream",
          "name": "stdout",
          "text": [
            "Number of Epoch = 1 - Average CCE:= 0.022447220865885416 - Average Accuracy:= 28.95%\n"
          ]
        },
        {
          "output_type": "stream",
          "name": "stderr",
          "text": [
            "\n",
            " 10%|█         | 2/20 [00:09<01:23,  4.63s/it]\u001b[A"
          ]
        },
        {
          "output_type": "stream",
          "name": "stdout",
          "text": [
            "Number of Epoch = 2 - Average CCE:= 0.016981723022460937 - Average Accuracy:= 46.16833333333334%\n"
          ]
        },
        {
          "output_type": "stream",
          "name": "stderr",
          "text": [
            "\n",
            " 15%|█▌        | 3/20 [00:13<01:15,  4.41s/it]\u001b[A"
          ]
        },
        {
          "output_type": "stream",
          "name": "stdout",
          "text": [
            "Number of Epoch = 3 - Average CCE:= 0.015360512288411458 - Average Accuracy:= 51.42333333333333%\n"
          ]
        },
        {
          "output_type": "stream",
          "name": "stderr",
          "text": [
            "\n",
            " 20%|██        | 4/20 [00:17<01:07,  4.24s/it]\u001b[A"
          ]
        },
        {
          "output_type": "stream",
          "name": "stdout",
          "text": [
            "Number of Epoch = 4 - Average CCE:= 0.01476104736328125 - Average Accuracy:= 53.40166666666667%\n"
          ]
        },
        {
          "output_type": "stream",
          "name": "stderr",
          "text": [
            "\n",
            " 25%|██▌       | 5/20 [00:22<01:08,  4.59s/it]\u001b[A"
          ]
        },
        {
          "output_type": "stream",
          "name": "stdout",
          "text": [
            "Number of Epoch = 5 - Average CCE:= 0.014084253946940104 - Average Accuracy:= 55.525000000000006%\n"
          ]
        },
        {
          "output_type": "stream",
          "name": "stderr",
          "text": [
            "\n",
            " 30%|███       | 6/20 [00:28<01:07,  4.83s/it]\u001b[A"
          ]
        },
        {
          "output_type": "stream",
          "name": "stdout",
          "text": [
            "Number of Epoch = 6 - Average CCE:= 0.013685647583007813 - Average Accuracy:= 56.779999999999994%\n"
          ]
        },
        {
          "output_type": "stream",
          "name": "stderr",
          "text": [
            "\n",
            " 35%|███▌      | 7/20 [00:31<00:58,  4.52s/it]\u001b[A"
          ]
        },
        {
          "output_type": "stream",
          "name": "stdout",
          "text": [
            "Number of Epoch = 7 - Average CCE:= 0.013375637817382812 - Average Accuracy:= 57.725%\n"
          ]
        },
        {
          "output_type": "stream",
          "name": "stderr",
          "text": [
            "\n",
            " 40%|████      | 8/20 [00:35<00:51,  4.29s/it]\u001b[A"
          ]
        },
        {
          "output_type": "stream",
          "name": "stdout",
          "text": [
            "Number of Epoch = 8 - Average CCE:= 0.01310068359375 - Average Accuracy:= 58.63%\n"
          ]
        },
        {
          "output_type": "stream",
          "name": "stderr",
          "text": [
            "\n",
            " 45%|████▌     | 9/20 [00:40<00:50,  4.58s/it]\u001b[A"
          ]
        },
        {
          "output_type": "stream",
          "name": "stdout",
          "text": [
            "Number of Epoch = 9 - Average CCE:= 0.012800103759765626 - Average Accuracy:= 59.61%\n"
          ]
        },
        {
          "output_type": "stream",
          "name": "stderr",
          "text": [
            "\n",
            " 50%|█████     | 10/20 [00:46<00:47,  4.80s/it]\u001b[A"
          ]
        },
        {
          "output_type": "stream",
          "name": "stdout",
          "text": [
            "Number of Epoch = 10 - Average CCE:= 0.012513105265299479 - Average Accuracy:= 60.48166666666667%\n"
          ]
        },
        {
          "output_type": "stream",
          "name": "stderr",
          "text": [
            "\n",
            " 55%|█████▌    | 11/20 [00:51<00:44,  4.93s/it]\u001b[A"
          ]
        },
        {
          "output_type": "stream",
          "name": "stdout",
          "text": [
            "Number of Epoch = 11 - Average CCE:= 0.012274379475911458 - Average Accuracy:= 61.27%\n"
          ]
        },
        {
          "output_type": "stream",
          "name": "stderr",
          "text": [
            "\n",
            " 60%|██████    | 12/20 [00:55<00:36,  4.62s/it]\u001b[A"
          ]
        },
        {
          "output_type": "stream",
          "name": "stdout",
          "text": [
            "Number of Epoch = 12 - Average CCE:= 0.012036897786458334 - Average Accuracy:= 61.970000000000006%\n"
          ]
        },
        {
          "output_type": "stream",
          "name": "stderr",
          "text": [
            "\n",
            " 65%|██████▌   | 13/20 [00:59<00:30,  4.39s/it]\u001b[A"
          ]
        },
        {
          "output_type": "stream",
          "name": "stdout",
          "text": [
            "Number of Epoch = 13 - Average CCE:= 0.011916702270507812 - Average Accuracy:= 62.36166666666667%\n"
          ]
        },
        {
          "output_type": "stream",
          "name": "stderr",
          "text": [
            "\n",
            " 70%|███████   | 14/20 [01:03<00:25,  4.26s/it]\u001b[A"
          ]
        },
        {
          "output_type": "stream",
          "name": "stdout",
          "text": [
            "Number of Epoch = 14 - Average CCE:= 0.011790884399414062 - Average Accuracy:= 62.86000000000001%\n"
          ]
        },
        {
          "output_type": "stream",
          "name": "stderr",
          "text": [
            "\n",
            " 75%|███████▌  | 15/20 [01:08<00:22,  4.55s/it]\u001b[A"
          ]
        },
        {
          "output_type": "stream",
          "name": "stdout",
          "text": [
            "Number of Epoch = 15 - Average CCE:= 0.011663022867838541 - Average Accuracy:= 63.318333333333335%\n"
          ]
        },
        {
          "output_type": "stream",
          "name": "stderr",
          "text": [
            "\n",
            " 80%|████████  | 16/20 [01:12<00:17,  4.36s/it]\u001b[A"
          ]
        },
        {
          "output_type": "stream",
          "name": "stdout",
          "text": [
            "Number of Epoch = 16 - Average CCE:= 0.01162061258951823 - Average Accuracy:= 63.425%\n"
          ]
        },
        {
          "output_type": "stream",
          "name": "stderr",
          "text": [
            "\n",
            " 85%|████████▌ | 17/20 [01:16<00:12,  4.22s/it]\u001b[A"
          ]
        },
        {
          "output_type": "stream",
          "name": "stdout",
          "text": [
            "Number of Epoch = 17 - Average CCE:= 0.011501677449544272 - Average Accuracy:= 63.721666666666664%\n"
          ]
        },
        {
          "output_type": "stream",
          "name": "stderr",
          "text": [
            "\n",
            " 90%|█████████ | 18/20 [01:20<00:08,  4.15s/it]\u001b[A"
          ]
        },
        {
          "output_type": "stream",
          "name": "stdout",
          "text": [
            "Number of Epoch = 18 - Average CCE:= 0.011471016438802084 - Average Accuracy:= 63.85999999999999%\n"
          ]
        },
        {
          "output_type": "stream",
          "name": "stderr",
          "text": [
            "\n",
            " 95%|█████████▌| 19/20 [01:25<00:04,  4.48s/it]\u001b[A"
          ]
        },
        {
          "output_type": "stream",
          "name": "stdout",
          "text": [
            "Number of Epoch = 19 - Average CCE:= 0.011441816202799479 - Average Accuracy:= 63.985%\n"
          ]
        },
        {
          "output_type": "stream",
          "name": "stderr",
          "text": [
            "\n",
            "100%|██████████| 20/20 [01:29<00:00,  4.48s/it]"
          ]
        },
        {
          "output_type": "stream",
          "name": "stdout",
          "text": [
            "Number of Epoch = 20 - Average CCE:= 0.011428945922851562 - Average Accuracy:= 64.015%\n",
            "\n",
            "Total time taken (in seconds): 89.62\n"
          ]
        },
        {
          "output_type": "stream",
          "name": "stderr",
          "text": [
            "\n",
            " 40%|████      | 4/10 [06:10<09:11, 91.97s/it]"
          ]
        },
        {
          "output_type": "stream",
          "name": "stdout",
          "text": [
            "Test CCE: 0.0570, Accuracy : 0.647\n",
            "seed: 2563, Cross Entropy loss: 0.05702962646484375, Accuracy: 0.647\n",
            "\n",
            "** Inference Iteration: 4 **\n",
            "\n",
            "#Training L2 model with seed 2120#\n"
          ]
        },
        {
          "output_type": "stream",
          "name": "stderr",
          "text": [
            "\n",
            "  0%|          | 0/20 [00:00<?, ?it/s]\u001b[A\n",
            "  5%|▌         | 1/20 [00:05<01:39,  5.22s/it]\u001b[A"
          ]
        },
        {
          "output_type": "stream",
          "name": "stdout",
          "text": [
            "Number of Epoch = 1 - Average CCE:= 0.026148478190104168 - Average Accuracy:= 17.366666666666667%\n"
          ]
        },
        {
          "output_type": "stream",
          "name": "stderr",
          "text": [
            "\n",
            " 10%|█         | 2/20 [00:10<01:34,  5.22s/it]\u001b[A"
          ]
        },
        {
          "output_type": "stream",
          "name": "stdout",
          "text": [
            "Number of Epoch = 2 - Average CCE:= 0.02273764851888021 - Average Accuracy:= 28.199999999999996%\n"
          ]
        },
        {
          "output_type": "stream",
          "name": "stderr",
          "text": [
            "\n",
            " 15%|█▌        | 3/20 [00:15<01:28,  5.23s/it]\u001b[A"
          ]
        },
        {
          "output_type": "stream",
          "name": "stdout",
          "text": [
            "Number of Epoch = 3 - Average CCE:= 0.021752174886067708 - Average Accuracy:= 31.378333333333337%\n"
          ]
        },
        {
          "output_type": "stream",
          "name": "stderr",
          "text": [
            "\n",
            " 20%|██        | 4/20 [00:19<01:14,  4.68s/it]\u001b[A"
          ]
        },
        {
          "output_type": "stream",
          "name": "stdout",
          "text": [
            "Number of Epoch = 4 - Average CCE:= 0.02122017822265625 - Average Accuracy:= 33.11833333333333%\n"
          ]
        },
        {
          "output_type": "stream",
          "name": "stderr",
          "text": [
            "\n",
            " 25%|██▌       | 5/20 [00:23<01:05,  4.37s/it]\u001b[A"
          ]
        },
        {
          "output_type": "stream",
          "name": "stdout",
          "text": [
            "Number of Epoch = 5 - Average CCE:= 0.02023271687825521 - Average Accuracy:= 36.065000000000005%\n"
          ]
        },
        {
          "output_type": "stream",
          "name": "stderr",
          "text": [
            "\n",
            " 30%|███       | 6/20 [00:28<01:05,  4.66s/it]\u001b[A"
          ]
        },
        {
          "output_type": "stream",
          "name": "stdout",
          "text": [
            "Number of Epoch = 6 - Average CCE:= 0.017814772542317708 - Average Accuracy:= 43.638333333333335%\n"
          ]
        },
        {
          "output_type": "stream",
          "name": "stderr",
          "text": [
            "\n",
            " 35%|███▌      | 7/20 [00:32<00:57,  4.45s/it]\u001b[A"
          ]
        },
        {
          "output_type": "stream",
          "name": "stdout",
          "text": [
            "Number of Epoch = 7 - Average CCE:= 0.016480160522460936 - Average Accuracy:= 47.943333333333335%\n"
          ]
        },
        {
          "output_type": "stream",
          "name": "stderr",
          "text": [
            "\n",
            " 40%|████      | 8/20 [00:36<00:52,  4.34s/it]\u001b[A"
          ]
        },
        {
          "output_type": "stream",
          "name": "stdout",
          "text": [
            "Number of Epoch = 8 - Average CCE:= 0.015683291625976564 - Average Accuracy:= 50.49166666666667%\n"
          ]
        },
        {
          "output_type": "stream",
          "name": "stderr",
          "text": [
            "\n",
            " 45%|████▌     | 9/20 [00:41<00:50,  4.62s/it]\u001b[A"
          ]
        },
        {
          "output_type": "stream",
          "name": "stdout",
          "text": [
            "Number of Epoch = 9 - Average CCE:= 0.015161935424804688 - Average Accuracy:= 52.126666666666665%\n"
          ]
        },
        {
          "output_type": "stream",
          "name": "stderr",
          "text": [
            "\n",
            " 50%|█████     | 10/20 [00:46<00:44,  4.46s/it]\u001b[A"
          ]
        },
        {
          "output_type": "stream",
          "name": "stdout",
          "text": [
            "Number of Epoch = 10 - Average CCE:= 0.014390585327148438 - Average Accuracy:= 54.531666666666666%\n"
          ]
        },
        {
          "output_type": "stream",
          "name": "stderr",
          "text": [
            "\n",
            " 55%|█████▌    | 11/20 [00:49<00:38,  4.30s/it]\u001b[A"
          ]
        },
        {
          "output_type": "stream",
          "name": "stdout",
          "text": [
            "Number of Epoch = 11 - Average CCE:= 0.013777357991536458 - Average Accuracy:= 56.38833333333333%\n"
          ]
        },
        {
          "output_type": "stream",
          "name": "stderr",
          "text": [
            "\n",
            " 60%|██████    | 12/20 [00:55<00:36,  4.58s/it]\u001b[A"
          ]
        },
        {
          "output_type": "stream",
          "name": "stdout",
          "text": [
            "Number of Epoch = 12 - Average CCE:= 0.013315958658854167 - Average Accuracy:= 57.986666666666665%\n"
          ]
        },
        {
          "output_type": "stream",
          "name": "stderr",
          "text": [
            "\n",
            " 65%|██████▌   | 13/20 [01:00<00:33,  4.78s/it]\u001b[A"
          ]
        },
        {
          "output_type": "stream",
          "name": "stdout",
          "text": [
            "Number of Epoch = 13 - Average CCE:= 0.013059340413411459 - Average Accuracy:= 58.79%\n"
          ]
        },
        {
          "output_type": "stream",
          "name": "stderr",
          "text": [
            "\n",
            " 70%|███████   | 14/20 [01:05<00:29,  4.92s/it]\u001b[A"
          ]
        },
        {
          "output_type": "stream",
          "name": "stdout",
          "text": [
            "Number of Epoch = 14 - Average CCE:= 0.01278635762532552 - Average Accuracy:= 59.58166666666666%\n"
          ]
        },
        {
          "output_type": "stream",
          "name": "stderr",
          "text": [
            "\n",
            " 75%|███████▌  | 15/20 [01:09<00:23,  4.64s/it]\u001b[A"
          ]
        },
        {
          "output_type": "stream",
          "name": "stdout",
          "text": [
            "Number of Epoch = 15 - Average CCE:= 0.012651200358072916 - Average Accuracy:= 60.02833333333333%\n"
          ]
        },
        {
          "output_type": "stream",
          "name": "stderr",
          "text": [
            "\n",
            " 80%|████████  | 16/20 [01:14<00:19,  4.82s/it]\u001b[A"
          ]
        },
        {
          "output_type": "stream",
          "name": "stdout",
          "text": [
            "Number of Epoch = 16 - Average CCE:= 0.012484918212890625 - Average Accuracy:= 60.571666666666665%\n"
          ]
        },
        {
          "output_type": "stream",
          "name": "stderr",
          "text": [
            "\n",
            " 85%|████████▌ | 17/20 [01:20<00:14,  4.96s/it]\u001b[A"
          ]
        },
        {
          "output_type": "stream",
          "name": "stdout",
          "text": [
            "Number of Epoch = 17 - Average CCE:= 0.01235525410970052 - Average Accuracy:= 60.980000000000004%\n"
          ]
        },
        {
          "output_type": "stream",
          "name": "stderr",
          "text": [
            "\n",
            " 90%|█████████ | 18/20 [01:25<00:10,  5.04s/it]\u001b[A"
          ]
        },
        {
          "output_type": "stream",
          "name": "stdout",
          "text": [
            "Number of Epoch = 18 - Average CCE:= 0.012251646931966146 - Average Accuracy:= 61.348333333333336%\n"
          ]
        },
        {
          "output_type": "stream",
          "name": "stderr",
          "text": [
            "\n",
            " 95%|█████████▌| 19/20 [01:30<00:05,  5.11s/it]\u001b[A"
          ]
        },
        {
          "output_type": "stream",
          "name": "stdout",
          "text": [
            "Number of Epoch = 19 - Average CCE:= 0.012197812906901041 - Average Accuracy:= 61.47166666666667%\n"
          ]
        },
        {
          "output_type": "stream",
          "name": "stderr",
          "text": [
            "\n",
            "100%|██████████| 20/20 [01:35<00:00,  4.80s/it]"
          ]
        },
        {
          "output_type": "stream",
          "name": "stdout",
          "text": [
            "Number of Epoch = 20 - Average CCE:= 0.012150224812825522 - Average Accuracy:= 61.71%\n",
            "\n",
            "Total time taken (in seconds): 95.94\n"
          ]
        },
        {
          "output_type": "stream",
          "name": "stderr",
          "text": [
            "\n",
            " 50%|█████     | 5/10 [07:46<07:48, 93.63s/it]"
          ]
        },
        {
          "output_type": "stream",
          "name": "stdout",
          "text": [
            "Test CCE: 0.0621, Accuracy : 0.6157\n",
            "seed: 2120, Cross Entropy loss: 0.06205078125, Accuracy: 0.6157\n",
            "\n",
            "** Inference Iteration: 5 **\n",
            "\n",
            "#Training L2 model with seed 2717#\n"
          ]
        },
        {
          "output_type": "stream",
          "name": "stderr",
          "text": [
            "\n",
            "  0%|          | 0/20 [00:00<?, ?it/s]\u001b[A\n",
            "  5%|▌         | 1/20 [00:05<01:39,  5.23s/it]\u001b[A"
          ]
        },
        {
          "output_type": "stream",
          "name": "stdout",
          "text": [
            "Number of Epoch = 1 - Average CCE:= 0.02387618815104167 - Average Accuracy:= 24.595%\n"
          ]
        },
        {
          "output_type": "stream",
          "name": "stderr",
          "text": [
            "\n",
            " 10%|█         | 2/20 [00:09<01:21,  4.52s/it]\u001b[A"
          ]
        },
        {
          "output_type": "stream",
          "name": "stdout",
          "text": [
            "Number of Epoch = 2 - Average CCE:= 0.02055877888997396 - Average Accuracy:= 35.10666666666667%\n"
          ]
        },
        {
          "output_type": "stream",
          "name": "stderr",
          "text": [
            "\n",
            " 15%|█▌        | 3/20 [00:13<01:12,  4.28s/it]\u001b[A"
          ]
        },
        {
          "output_type": "stream",
          "name": "stdout",
          "text": [
            "Number of Epoch = 3 - Average CCE:= 0.019801993815104165 - Average Accuracy:= 37.56166666666667%\n"
          ]
        },
        {
          "output_type": "stream",
          "name": "stderr",
          "text": [
            "\n",
            " 20%|██        | 4/20 [00:18<01:14,  4.65s/it]\u001b[A"
          ]
        },
        {
          "output_type": "stream",
          "name": "stdout",
          "text": [
            "Number of Epoch = 4 - Average CCE:= 0.019528873697916668 - Average Accuracy:= 38.52833333333333%\n"
          ]
        },
        {
          "output_type": "stream",
          "name": "stderr",
          "text": [
            "\n",
            " 25%|██▌       | 5/20 [00:22<01:07,  4.48s/it]\u001b[A"
          ]
        },
        {
          "output_type": "stream",
          "name": "stdout",
          "text": [
            "Number of Epoch = 5 - Average CCE:= 0.019424239095052084 - Average Accuracy:= 38.85333333333333%\n"
          ]
        },
        {
          "output_type": "stream",
          "name": "stderr",
          "text": [
            "\n",
            " 30%|███       | 6/20 [00:26<01:00,  4.32s/it]\u001b[A"
          ]
        },
        {
          "output_type": "stream",
          "name": "stdout",
          "text": [
            "Number of Epoch = 6 - Average CCE:= 0.019341233317057293 - Average Accuracy:= 39.105000000000004%\n"
          ]
        },
        {
          "output_type": "stream",
          "name": "stderr",
          "text": [
            "\n",
            " 35%|███▌      | 7/20 [00:30<00:54,  4.21s/it]\u001b[A"
          ]
        },
        {
          "output_type": "stream",
          "name": "stdout",
          "text": [
            "Number of Epoch = 7 - Average CCE:= 0.019299159749348958 - Average Accuracy:= 39.27833333333333%\n"
          ]
        },
        {
          "output_type": "stream",
          "name": "stderr",
          "text": [
            "\n",
            " 40%|████      | 8/20 [00:35<00:54,  4.53s/it]\u001b[A"
          ]
        },
        {
          "output_type": "stream",
          "name": "stdout",
          "text": [
            "Number of Epoch = 8 - Average CCE:= 0.019277229817708335 - Average Accuracy:= 39.40833333333333%\n"
          ]
        },
        {
          "output_type": "stream",
          "name": "stderr",
          "text": [
            "\n",
            " 45%|████▌     | 9/20 [00:41<00:52,  4.75s/it]\u001b[A"
          ]
        },
        {
          "output_type": "stream",
          "name": "stdout",
          "text": [
            "Number of Epoch = 9 - Average CCE:= 0.019217435709635418 - Average Accuracy:= 39.471666666666664%\n"
          ]
        },
        {
          "output_type": "stream",
          "name": "stderr",
          "text": [
            "\n",
            " 50%|█████     | 10/20 [00:45<00:45,  4.52s/it]\u001b[A"
          ]
        },
        {
          "output_type": "stream",
          "name": "stdout",
          "text": [
            "Number of Epoch = 10 - Average CCE:= 0.019181856282552083 - Average Accuracy:= 39.64%\n"
          ]
        },
        {
          "output_type": "stream",
          "name": "stderr",
          "text": [
            "\n",
            " 55%|█████▌    | 11/20 [00:50<00:42,  4.74s/it]\u001b[A"
          ]
        },
        {
          "output_type": "stream",
          "name": "stdout",
          "text": [
            "Number of Epoch = 11 - Average CCE:= 0.0191512451171875 - Average Accuracy:= 39.755%\n"
          ]
        },
        {
          "output_type": "stream",
          "name": "stderr",
          "text": [
            "\n",
            " 60%|██████    | 12/20 [00:55<00:39,  4.91s/it]\u001b[A"
          ]
        },
        {
          "output_type": "stream",
          "name": "stdout",
          "text": [
            "Number of Epoch = 12 - Average CCE:= 0.01916580607096354 - Average Accuracy:= 39.751666666666665%\n"
          ]
        },
        {
          "output_type": "stream",
          "name": "stderr",
          "text": [
            "\n",
            " 65%|██████▌   | 13/20 [01:00<00:35,  5.00s/it]\u001b[A"
          ]
        },
        {
          "output_type": "stream",
          "name": "stdout",
          "text": [
            "Number of Epoch = 13 - Average CCE:= 0.019133262125651043 - Average Accuracy:= 39.81666666666667%\n"
          ]
        },
        {
          "output_type": "stream",
          "name": "stderr",
          "text": [
            "\n",
            " 70%|███████   | 14/20 [01:04<00:28,  4.70s/it]\u001b[A"
          ]
        },
        {
          "output_type": "stream",
          "name": "stdout",
          "text": [
            "Number of Epoch = 14 - Average CCE:= 0.019107834879557292 - Average Accuracy:= 39.92333333333333%\n"
          ]
        },
        {
          "output_type": "stream",
          "name": "stderr",
          "text": [
            "\n",
            " 75%|███████▌  | 15/20 [01:08<00:22,  4.47s/it]\u001b[A"
          ]
        },
        {
          "output_type": "stream",
          "name": "stdout",
          "text": [
            "Number of Epoch = 15 - Average CCE:= 0.019097880045572918 - Average Accuracy:= 39.92666666666666%\n"
          ]
        },
        {
          "output_type": "stream",
          "name": "stderr",
          "text": [
            "\n",
            " 80%|████████  | 16/20 [01:12<00:17,  4.34s/it]\u001b[A"
          ]
        },
        {
          "output_type": "stream",
          "name": "stdout",
          "text": [
            "Number of Epoch = 16 - Average CCE:= 0.019075201416015625 - Average Accuracy:= 40.00333333333334%\n"
          ]
        },
        {
          "output_type": "stream",
          "name": "stderr",
          "text": [
            "\n",
            " 85%|████████▌ | 17/20 [01:16<00:12,  4.23s/it]\u001b[A"
          ]
        },
        {
          "output_type": "stream",
          "name": "stdout",
          "text": [
            "Number of Epoch = 17 - Average CCE:= 0.019071042887369792 - Average Accuracy:= 40.06166666666667%\n"
          ]
        },
        {
          "output_type": "stream",
          "name": "stderr",
          "text": [
            "\n",
            " 90%|█████████ | 18/20 [01:20<00:08,  4.14s/it]\u001b[A"
          ]
        },
        {
          "output_type": "stream",
          "name": "stdout",
          "text": [
            "Number of Epoch = 18 - Average CCE:= 0.018953236897786458 - Average Accuracy:= 40.343333333333334%\n"
          ]
        },
        {
          "output_type": "stream",
          "name": "stderr",
          "text": [
            "\n",
            " 95%|█████████▌| 19/20 [01:24<00:04,  4.08s/it]\u001b[A"
          ]
        },
        {
          "output_type": "stream",
          "name": "stdout",
          "text": [
            "Number of Epoch = 19 - Average CCE:= 0.018566961669921875 - Average Accuracy:= 41.485%\n"
          ]
        },
        {
          "output_type": "stream",
          "name": "stderr",
          "text": [
            "\n",
            "100%|██████████| 20/20 [01:28<00:00,  4.43s/it]"
          ]
        },
        {
          "output_type": "stream",
          "name": "stdout",
          "text": [
            "Number of Epoch = 20 - Average CCE:= 0.01807929484049479 - Average Accuracy:= 43.02166666666667%\n",
            "\n",
            "Total time taken (in seconds): 88.59\n"
          ]
        },
        {
          "output_type": "stream",
          "name": "stderr",
          "text": [
            "\n",
            " 60%|██████    | 6/10 [09:16<06:08, 92.15s/it]"
          ]
        },
        {
          "output_type": "stream",
          "name": "stdout",
          "text": [
            "Test CCE: 0.0908, Accuracy : 0.4369\n",
            "seed: 2717, Cross Entropy loss: 0.09080116577148438, Accuracy: 0.4369\n",
            "\n",
            "** Inference Iteration: 6 **\n",
            "\n",
            "#Training L2 model with seed 3823#\n"
          ]
        },
        {
          "output_type": "stream",
          "name": "stderr",
          "text": [
            "\n",
            "  0%|          | 0/20 [00:00<?, ?it/s]\u001b[A\n",
            "  5%|▌         | 1/20 [00:03<01:12,  3.83s/it]\u001b[A"
          ]
        },
        {
          "output_type": "stream",
          "name": "stdout",
          "text": [
            "Number of Epoch = 1 - Average CCE:= 0.02589697469075521 - Average Accuracy:= 18.2%\n"
          ]
        },
        {
          "output_type": "stream",
          "name": "stderr",
          "text": [
            "\n",
            " 10%|█         | 2/20 [00:09<01:23,  4.66s/it]\u001b[A"
          ]
        },
        {
          "output_type": "stream",
          "name": "stdout",
          "text": [
            "Number of Epoch = 2 - Average CCE:= 0.021271048990885416 - Average Accuracy:= 32.73833333333334%\n"
          ]
        },
        {
          "output_type": "stream",
          "name": "stderr",
          "text": [
            "\n",
            " 15%|█▌        | 3/20 [00:14<01:24,  4.94s/it]\u001b[A"
          ]
        },
        {
          "output_type": "stream",
          "name": "stdout",
          "text": [
            "Number of Epoch = 3 - Average CCE:= 0.019437251790364582 - Average Accuracy:= 38.58833333333334%\n"
          ]
        },
        {
          "output_type": "stream",
          "name": "stderr",
          "text": [
            "\n",
            " 20%|██        | 4/20 [00:18<01:13,  4.58s/it]\u001b[A"
          ]
        },
        {
          "output_type": "stream",
          "name": "stdout",
          "text": [
            "Number of Epoch = 4 - Average CCE:= 0.01881639404296875 - Average Accuracy:= 40.625%\n"
          ]
        },
        {
          "output_type": "stream",
          "name": "stderr",
          "text": [
            "\n",
            " 25%|██▌       | 5/20 [00:23<01:12,  4.81s/it]\u001b[A"
          ]
        },
        {
          "output_type": "stream",
          "name": "stdout",
          "text": [
            "Number of Epoch = 5 - Average CCE:= 0.018458064778645835 - Average Accuracy:= 41.818333333333335%\n"
          ]
        },
        {
          "output_type": "stream",
          "name": "stderr",
          "text": [
            "\n",
            " 30%|███       | 6/20 [00:27<01:03,  4.55s/it]\u001b[A"
          ]
        },
        {
          "output_type": "stream",
          "name": "stdout",
          "text": [
            "Number of Epoch = 6 - Average CCE:= 0.01821894327799479 - Average Accuracy:= 42.50833333333333%\n"
          ]
        },
        {
          "output_type": "stream",
          "name": "stderr",
          "text": [
            "\n",
            " 35%|███▌      | 7/20 [00:31<00:57,  4.41s/it]\u001b[A"
          ]
        },
        {
          "output_type": "stream",
          "name": "stdout",
          "text": [
            "Number of Epoch = 7 - Average CCE:= 0.01808962198893229 - Average Accuracy:= 42.99166666666667%\n"
          ]
        },
        {
          "output_type": "stream",
          "name": "stderr",
          "text": [
            "\n",
            " 40%|████      | 8/20 [00:35<00:51,  4.32s/it]\u001b[A"
          ]
        },
        {
          "output_type": "stream",
          "name": "stdout",
          "text": [
            "Number of Epoch = 8 - Average CCE:= 0.01803524373372396 - Average Accuracy:= 43.21666666666666%\n"
          ]
        },
        {
          "output_type": "stream",
          "name": "stderr",
          "text": [
            "\n",
            " 45%|████▌     | 9/20 [00:39<00:46,  4.20s/it]\u001b[A"
          ]
        },
        {
          "output_type": "stream",
          "name": "stdout",
          "text": [
            "Number of Epoch = 9 - Average CCE:= 0.017812717692057292 - Average Accuracy:= 43.836666666666666%\n"
          ]
        },
        {
          "output_type": "stream",
          "name": "stderr",
          "text": [
            "\n",
            " 50%|█████     | 10/20 [00:43<00:41,  4.11s/it]\u001b[A"
          ]
        },
        {
          "output_type": "stream",
          "name": "stdout",
          "text": [
            "Number of Epoch = 10 - Average CCE:= 0.01767998046875 - Average Accuracy:= 44.27833333333333%\n"
          ]
        },
        {
          "output_type": "stream",
          "name": "stderr",
          "text": [
            "\n",
            " 55%|█████▌    | 11/20 [00:48<00:40,  4.45s/it]\u001b[A"
          ]
        },
        {
          "output_type": "stream",
          "name": "stdout",
          "text": [
            "Number of Epoch = 11 - Average CCE:= 0.016804520670572917 - Average Accuracy:= 47.02%\n"
          ]
        },
        {
          "output_type": "stream",
          "name": "stderr",
          "text": [
            "\n",
            " 60%|██████    | 12/20 [00:54<00:37,  4.69s/it]\u001b[A"
          ]
        },
        {
          "output_type": "stream",
          "name": "stdout",
          "text": [
            "Number of Epoch = 12 - Average CCE:= 0.01565501403808594 - Average Accuracy:= 50.62166666666666%\n"
          ]
        },
        {
          "output_type": "stream",
          "name": "stderr",
          "text": [
            "\n",
            " 65%|██████▌   | 13/20 [00:58<00:31,  4.55s/it]\u001b[A"
          ]
        },
        {
          "output_type": "stream",
          "name": "stdout",
          "text": [
            "Number of Epoch = 13 - Average CCE:= 0.015350374348958333 - Average Accuracy:= 51.6%\n"
          ]
        },
        {
          "output_type": "stream",
          "name": "stderr",
          "text": [
            "\n",
            " 70%|███████   | 14/20 [01:03<00:28,  4.75s/it]\u001b[A"
          ]
        },
        {
          "output_type": "stream",
          "name": "stdout",
          "text": [
            "Number of Epoch = 14 - Average CCE:= 0.015072530110677083 - Average Accuracy:= 52.473333333333336%\n"
          ]
        },
        {
          "output_type": "stream",
          "name": "stderr",
          "text": [
            "\n",
            " 75%|███████▌  | 15/20 [01:08<00:24,  4.91s/it]\u001b[A"
          ]
        },
        {
          "output_type": "stream",
          "name": "stdout",
          "text": [
            "Number of Epoch = 15 - Average CCE:= 0.014933061726888021 - Average Accuracy:= 52.89166666666667%\n"
          ]
        },
        {
          "output_type": "stream",
          "name": "stderr",
          "text": [
            "\n",
            " 80%|████████  | 16/20 [01:12<00:18,  4.61s/it]\u001b[A"
          ]
        },
        {
          "output_type": "stream",
          "name": "stdout",
          "text": [
            "Number of Epoch = 16 - Average CCE:= 0.014787050374348958 - Average Accuracy:= 53.33833333333333%\n"
          ]
        },
        {
          "output_type": "stream",
          "name": "stderr",
          "text": [
            "\n",
            " 85%|████████▌ | 17/20 [01:18<00:14,  4.80s/it]\u001b[A"
          ]
        },
        {
          "output_type": "stream",
          "name": "stdout",
          "text": [
            "Number of Epoch = 17 - Average CCE:= 0.01469631856282552 - Average Accuracy:= 53.715%\n"
          ]
        },
        {
          "output_type": "stream",
          "name": "stderr",
          "text": [
            "\n",
            " 90%|█████████ | 18/20 [01:21<00:09,  4.52s/it]\u001b[A"
          ]
        },
        {
          "output_type": "stream",
          "name": "stdout",
          "text": [
            "Number of Epoch = 18 - Average CCE:= 0.014638895670572917 - Average Accuracy:= 53.85333333333333%\n"
          ]
        },
        {
          "output_type": "stream",
          "name": "stderr",
          "text": [
            "\n",
            " 95%|█████████▌| 19/20 [01:27<00:04,  4.74s/it]\u001b[A"
          ]
        },
        {
          "output_type": "stream",
          "name": "stdout",
          "text": [
            "Number of Epoch = 19 - Average CCE:= 0.014552909342447917 - Average Accuracy:= 54.22166666666667%\n"
          ]
        },
        {
          "output_type": "stream",
          "name": "stderr",
          "text": [
            "\n",
            "100%|██████████| 20/20 [01:32<00:00,  4.62s/it]"
          ]
        },
        {
          "output_type": "stream",
          "name": "stdout",
          "text": [
            "Number of Epoch = 20 - Average CCE:= 0.014447454833984375 - Average Accuracy:= 54.47333333333333%\n",
            "\n",
            "Total time taken (in seconds): 92.45\n"
          ]
        },
        {
          "output_type": "stream",
          "name": "stderr",
          "text": [
            "\n",
            " 70%|███████   | 7/10 [10:49<04:37, 92.46s/it]"
          ]
        },
        {
          "output_type": "stream",
          "name": "stdout",
          "text": [
            "Test CCE: 0.0728, Accuracy : 0.5493\n",
            "seed: 3823, Cross Entropy loss: 0.07283306884765625, Accuracy: 0.5493\n",
            "\n",
            "** Inference Iteration: 7 **\n",
            "\n",
            "#Training L2 model with seed 2690#\n"
          ]
        },
        {
          "output_type": "stream",
          "name": "stderr",
          "text": [
            "\n",
            "  0%|          | 0/20 [00:00<?, ?it/s]\u001b[A\n",
            "  5%|▌         | 1/20 [00:05<01:39,  5.23s/it]\u001b[A"
          ]
        },
        {
          "output_type": "stream",
          "name": "stdout",
          "text": [
            "Number of Epoch = 1 - Average CCE:= 0.026210133870442708 - Average Accuracy:= 17.233333333333334%\n"
          ]
        },
        {
          "output_type": "stream",
          "name": "stderr",
          "text": [
            "\n",
            " 10%|█         | 2/20 [00:09<01:20,  4.45s/it]\u001b[A"
          ]
        },
        {
          "output_type": "stream",
          "name": "stdout",
          "text": [
            "Number of Epoch = 2 - Average CCE:= 0.02337806193033854 - Average Accuracy:= 26.325%\n"
          ]
        },
        {
          "output_type": "stream",
          "name": "stderr",
          "text": [
            "\n",
            " 15%|█▌        | 3/20 [00:13<01:11,  4.23s/it]\u001b[A"
          ]
        },
        {
          "output_type": "stream",
          "name": "stdout",
          "text": [
            "Number of Epoch = 3 - Average CCE:= 0.02292486572265625 - Average Accuracy:= 27.798333333333336%\n"
          ]
        },
        {
          "output_type": "stream",
          "name": "stderr",
          "text": [
            "\n",
            " 20%|██        | 4/20 [00:17<01:06,  4.18s/it]\u001b[A"
          ]
        },
        {
          "output_type": "stream",
          "name": "stdout",
          "text": [
            "Number of Epoch = 4 - Average CCE:= 0.021153493245442707 - Average Accuracy:= 33.29333333333334%\n"
          ]
        },
        {
          "output_type": "stream",
          "name": "stderr",
          "text": [
            "\n",
            " 25%|██▌       | 5/20 [00:22<01:08,  4.56s/it]\u001b[A"
          ]
        },
        {
          "output_type": "stream",
          "name": "stdout",
          "text": [
            "Number of Epoch = 5 - Average CCE:= 0.019228157552083333 - Average Accuracy:= 39.166666666666664%\n"
          ]
        },
        {
          "output_type": "stream",
          "name": "stderr",
          "text": [
            "\n",
            " 30%|███       | 6/20 [00:26<01:00,  4.34s/it]\u001b[A"
          ]
        },
        {
          "output_type": "stream",
          "name": "stdout",
          "text": [
            "Number of Epoch = 6 - Average CCE:= 0.016794678751627604 - Average Accuracy:= 46.92333333333333%\n"
          ]
        },
        {
          "output_type": "stream",
          "name": "stderr",
          "text": [
            "\n",
            " 35%|███▌      | 7/20 [00:30<00:54,  4.18s/it]\u001b[A"
          ]
        },
        {
          "output_type": "stream",
          "name": "stdout",
          "text": [
            "Number of Epoch = 7 - Average CCE:= 0.01582758076985677 - Average Accuracy:= 49.975%\n"
          ]
        },
        {
          "output_type": "stream",
          "name": "stderr",
          "text": [
            "\n",
            " 40%|████      | 8/20 [00:35<00:54,  4.52s/it]\u001b[A"
          ]
        },
        {
          "output_type": "stream",
          "name": "stdout",
          "text": [
            "Number of Epoch = 8 - Average CCE:= 0.015422450764973958 - Average Accuracy:= 51.33333333333333%\n"
          ]
        },
        {
          "output_type": "stream",
          "name": "stderr",
          "text": [
            "\n",
            " 45%|████▌     | 9/20 [00:39<00:47,  4.32s/it]\u001b[A"
          ]
        },
        {
          "output_type": "stream",
          "name": "stdout",
          "text": [
            "Number of Epoch = 9 - Average CCE:= 0.015204330444335938 - Average Accuracy:= 52.093333333333334%\n"
          ]
        },
        {
          "output_type": "stream",
          "name": "stderr",
          "text": [
            "\n",
            " 50%|█████     | 10/20 [00:43<00:42,  4.20s/it]\u001b[A"
          ]
        },
        {
          "output_type": "stream",
          "name": "stdout",
          "text": [
            "Number of Epoch = 10 - Average CCE:= 0.015017307535807291 - Average Accuracy:= 52.608333333333334%\n"
          ]
        },
        {
          "output_type": "stream",
          "name": "stderr",
          "text": [
            "\n",
            " 55%|█████▌    | 11/20 [00:48<00:40,  4.51s/it]\u001b[A"
          ]
        },
        {
          "output_type": "stream",
          "name": "stdout",
          "text": [
            "Number of Epoch = 11 - Average CCE:= 0.014842709350585938 - Average Accuracy:= 53.12%\n"
          ]
        },
        {
          "output_type": "stream",
          "name": "stderr",
          "text": [
            "\n",
            " 60%|██████    | 12/20 [00:52<00:34,  4.36s/it]\u001b[A"
          ]
        },
        {
          "output_type": "stream",
          "name": "stdout",
          "text": [
            "Number of Epoch = 12 - Average CCE:= 0.01478777872721354 - Average Accuracy:= 53.44833333333333%\n"
          ]
        },
        {
          "output_type": "stream",
          "name": "stderr",
          "text": [
            "\n",
            " 65%|██████▌   | 13/20 [00:57<00:32,  4.63s/it]\u001b[A"
          ]
        },
        {
          "output_type": "stream",
          "name": "stdout",
          "text": [
            "Number of Epoch = 13 - Average CCE:= 0.01472275899251302 - Average Accuracy:= 53.68333333333334%\n"
          ]
        },
        {
          "output_type": "stream",
          "name": "stderr",
          "text": [
            "\n",
            " 70%|███████   | 14/20 [01:02<00:28,  4.81s/it]\u001b[A"
          ]
        },
        {
          "output_type": "stream",
          "name": "stdout",
          "text": [
            "Number of Epoch = 14 - Average CCE:= 0.014583668009440104 - Average Accuracy:= 53.99666666666667%\n"
          ]
        },
        {
          "output_type": "stream",
          "name": "stderr",
          "text": [
            "\n",
            " 75%|███████▌  | 15/20 [01:08<00:24,  4.94s/it]\u001b[A"
          ]
        },
        {
          "output_type": "stream",
          "name": "stdout",
          "text": [
            "Number of Epoch = 15 - Average CCE:= 0.01450791727701823 - Average Accuracy:= 54.315000000000005%\n"
          ]
        },
        {
          "output_type": "stream",
          "name": "stderr",
          "text": [
            "\n",
            " 80%|████████  | 16/20 [01:12<00:18,  4.65s/it]\u001b[A"
          ]
        },
        {
          "output_type": "stream",
          "name": "stdout",
          "text": [
            "Number of Epoch = 16 - Average CCE:= 0.014437943522135416 - Average Accuracy:= 54.531666666666666%\n"
          ]
        },
        {
          "output_type": "stream",
          "name": "stderr",
          "text": [
            "\n",
            " 85%|████████▌ | 17/20 [01:16<00:13,  4.44s/it]\u001b[A"
          ]
        },
        {
          "output_type": "stream",
          "name": "stdout",
          "text": [
            "Number of Epoch = 17 - Average CCE:= 0.014408446248372396 - Average Accuracy:= 54.63%\n"
          ]
        },
        {
          "output_type": "stream",
          "name": "stderr",
          "text": [
            "\n",
            " 90%|█████████ | 18/20 [01:20<00:08,  4.31s/it]\u001b[A"
          ]
        },
        {
          "output_type": "stream",
          "name": "stdout",
          "text": [
            "Number of Epoch = 18 - Average CCE:= 0.014365782674153647 - Average Accuracy:= 54.751666666666665%\n"
          ]
        },
        {
          "output_type": "stream",
          "name": "stderr",
          "text": [
            "\n",
            " 95%|█████████▌| 19/20 [01:25<00:04,  4.58s/it]\u001b[A"
          ]
        },
        {
          "output_type": "stream",
          "name": "stdout",
          "text": [
            "Number of Epoch = 19 - Average CCE:= 0.01432494405110677 - Average Accuracy:= 54.89333333333334%\n"
          ]
        },
        {
          "output_type": "stream",
          "name": "stderr",
          "text": [
            "\n",
            "100%|██████████| 20/20 [01:29<00:00,  4.47s/it]"
          ]
        },
        {
          "output_type": "stream",
          "name": "stdout",
          "text": [
            "Number of Epoch = 20 - Average CCE:= 0.014253169759114583 - Average Accuracy:= 55.08166666666666%\n",
            "\n",
            "Total time taken (in seconds): 89.47\n"
          ]
        },
        {
          "output_type": "stream",
          "name": "stderr",
          "text": [
            "\n",
            " 80%|████████  | 8/10 [12:19<03:03, 91.72s/it]"
          ]
        },
        {
          "output_type": "stream",
          "name": "stdout",
          "text": [
            "Test CCE: 0.0720, Accuracy : 0.5535\n",
            "seed: 2690, Cross Entropy loss: 0.07203131103515625, Accuracy: 0.5535\n",
            "\n",
            "** Inference Iteration: 8 **\n",
            "\n",
            "#Training L2 model with seed 3371#\n"
          ]
        },
        {
          "output_type": "stream",
          "name": "stderr",
          "text": [
            "\n",
            "  0%|          | 0/20 [00:00<?, ?it/s]\u001b[A\n",
            "  5%|▌         | 1/20 [00:03<01:13,  3.89s/it]\u001b[A"
          ]
        },
        {
          "output_type": "stream",
          "name": "stdout",
          "text": [
            "Number of Epoch = 1 - Average CCE:= 0.026002042643229167 - Average Accuracy:= 18.051666666666666%\n"
          ]
        },
        {
          "output_type": "stream",
          "name": "stderr",
          "text": [
            "\n",
            " 10%|█         | 2/20 [00:09<01:24,  4.68s/it]\u001b[A"
          ]
        },
        {
          "output_type": "stream",
          "name": "stdout",
          "text": [
            "Number of Epoch = 2 - Average CCE:= 0.02530748291015625 - Average Accuracy:= 20.345%\n"
          ]
        },
        {
          "output_type": "stream",
          "name": "stderr",
          "text": [
            "\n",
            " 15%|█▌        | 3/20 [00:14<01:23,  4.94s/it]\u001b[A"
          ]
        },
        {
          "output_type": "stream",
          "name": "stdout",
          "text": [
            "Number of Epoch = 3 - Average CCE:= 0.024543074544270835 - Average Accuracy:= 22.688333333333333%\n"
          ]
        },
        {
          "output_type": "stream",
          "name": "stderr",
          "text": [
            "\n",
            " 20%|██        | 4/20 [00:18<01:12,  4.53s/it]\u001b[A"
          ]
        },
        {
          "output_type": "stream",
          "name": "stdout",
          "text": [
            "Number of Epoch = 4 - Average CCE:= 0.02273714599609375 - Average Accuracy:= 28.273333333333333%\n"
          ]
        },
        {
          "output_type": "stream",
          "name": "stderr",
          "text": [
            "\n",
            " 25%|██▌       | 5/20 [00:23<01:11,  4.78s/it]\u001b[A"
          ]
        },
        {
          "output_type": "stream",
          "name": "stdout",
          "text": [
            "Number of Epoch = 5 - Average CCE:= 0.020308233642578125 - Average Accuracy:= 35.83166666666667%\n"
          ]
        },
        {
          "output_type": "stream",
          "name": "stderr",
          "text": [
            "\n",
            " 30%|███       | 6/20 [00:28<01:09,  4.94s/it]\u001b[A"
          ]
        },
        {
          "output_type": "stream",
          "name": "stdout",
          "text": [
            "Number of Epoch = 6 - Average CCE:= 0.018116229248046876 - Average Accuracy:= 42.681666666666665%\n"
          ]
        },
        {
          "output_type": "stream",
          "name": "stderr",
          "text": [
            "\n",
            " 35%|███▌      | 7/20 [00:33<01:05,  5.03s/it]\u001b[A"
          ]
        },
        {
          "output_type": "stream",
          "name": "stdout",
          "text": [
            "Number of Epoch = 7 - Average CCE:= 0.015866736857096355 - Average Accuracy:= 49.79833333333333%\n"
          ]
        },
        {
          "output_type": "stream",
          "name": "stderr",
          "text": [
            "\n",
            " 40%|████      | 8/20 [00:39<01:01,  5.11s/it]\u001b[A"
          ]
        },
        {
          "output_type": "stream",
          "name": "stdout",
          "text": [
            "Number of Epoch = 8 - Average CCE:= 0.015276175944010416 - Average Accuracy:= 51.725%\n"
          ]
        },
        {
          "output_type": "stream",
          "name": "stderr",
          "text": [
            "\n",
            " 45%|████▌     | 9/20 [00:44<00:56,  5.14s/it]\u001b[A"
          ]
        },
        {
          "output_type": "stream",
          "name": "stdout",
          "text": [
            "Number of Epoch = 9 - Average CCE:= 0.015015119425455728 - Average Accuracy:= 52.675000000000004%\n"
          ]
        },
        {
          "output_type": "stream",
          "name": "stderr",
          "text": [
            "\n",
            " 50%|█████     | 10/20 [00:49<00:51,  5.19s/it]\u001b[A"
          ]
        },
        {
          "output_type": "stream",
          "name": "stdout",
          "text": [
            "Number of Epoch = 10 - Average CCE:= 0.014771100870768229 - Average Accuracy:= 53.428333333333335%\n"
          ]
        },
        {
          "output_type": "stream",
          "name": "stderr",
          "text": [
            "\n",
            " 55%|█████▌    | 11/20 [00:55<00:46,  5.22s/it]\u001b[A"
          ]
        },
        {
          "output_type": "stream",
          "name": "stdout",
          "text": [
            "Number of Epoch = 11 - Average CCE:= 0.014585977172851563 - Average Accuracy:= 54.02666666666667%\n"
          ]
        },
        {
          "output_type": "stream",
          "name": "stderr",
          "text": [
            "\n",
            " 60%|██████    | 12/20 [01:00<00:41,  5.24s/it]\u001b[A"
          ]
        },
        {
          "output_type": "stream",
          "name": "stdout",
          "text": [
            "Number of Epoch = 12 - Average CCE:= 0.014467034912109374 - Average Accuracy:= 54.35666666666666%\n"
          ]
        },
        {
          "output_type": "stream",
          "name": "stderr",
          "text": [
            "\n",
            " 65%|██████▌   | 13/20 [01:04<00:33,  4.81s/it]\u001b[A"
          ]
        },
        {
          "output_type": "stream",
          "name": "stdout",
          "text": [
            "Number of Epoch = 13 - Average CCE:= 0.014326808675130209 - Average Accuracy:= 54.85166666666667%\n"
          ]
        },
        {
          "output_type": "stream",
          "name": "stderr",
          "text": [
            "\n",
            " 70%|███████   | 14/20 [01:08<00:27,  4.52s/it]\u001b[A"
          ]
        },
        {
          "output_type": "stream",
          "name": "stdout",
          "text": [
            "Number of Epoch = 14 - Average CCE:= 0.01431187032063802 - Average Accuracy:= 54.91833333333334%\n"
          ]
        },
        {
          "output_type": "stream",
          "name": "stderr",
          "text": [
            "\n",
            " 75%|███████▌  | 15/20 [01:13<00:23,  4.73s/it]\u001b[A"
          ]
        },
        {
          "output_type": "stream",
          "name": "stdout",
          "text": [
            "Number of Epoch = 15 - Average CCE:= 0.014265401204427083 - Average Accuracy:= 55.125%\n"
          ]
        },
        {
          "output_type": "stream",
          "name": "stderr",
          "text": [
            "\n",
            " 80%|████████  | 16/20 [01:18<00:19,  4.88s/it]\u001b[A"
          ]
        },
        {
          "output_type": "stream",
          "name": "stdout",
          "text": [
            "Number of Epoch = 16 - Average CCE:= 0.014201686604817708 - Average Accuracy:= 55.30500000000001%\n"
          ]
        },
        {
          "output_type": "stream",
          "name": "stderr",
          "text": [
            "\n",
            " 85%|████████▌ | 17/20 [01:23<00:15,  5.01s/it]\u001b[A"
          ]
        },
        {
          "output_type": "stream",
          "name": "stdout",
          "text": [
            "Number of Epoch = 17 - Average CCE:= 0.014104770914713542 - Average Accuracy:= 55.66166666666666%\n"
          ]
        },
        {
          "output_type": "stream",
          "name": "stderr",
          "text": [
            "\n",
            " 90%|█████████ | 18/20 [01:27<00:09,  4.74s/it]\u001b[A"
          ]
        },
        {
          "output_type": "stream",
          "name": "stdout",
          "text": [
            "Number of Epoch = 18 - Average CCE:= 0.014026111857096355 - Average Accuracy:= 55.876666666666665%\n"
          ]
        },
        {
          "output_type": "stream",
          "name": "stderr",
          "text": [
            "\n",
            " 95%|█████████▌| 19/20 [01:33<00:04,  4.89s/it]\u001b[A"
          ]
        },
        {
          "output_type": "stream",
          "name": "stdout",
          "text": [
            "Number of Epoch = 19 - Average CCE:= 0.014038709513346355 - Average Accuracy:= 55.84%\n"
          ]
        },
        {
          "output_type": "stream",
          "name": "stderr",
          "text": [
            "\n",
            "100%|██████████| 20/20 [01:37<00:00,  4.86s/it]"
          ]
        },
        {
          "output_type": "stream",
          "name": "stdout",
          "text": [
            "Number of Epoch = 20 - Average CCE:= 0.013991477457682292 - Average Accuracy:= 55.971666666666664%\n",
            "\n",
            "Total time taken (in seconds): 97.14\n"
          ]
        },
        {
          "output_type": "stream",
          "name": "stderr",
          "text": [
            "\n",
            " 90%|█████████ | 9/10 [13:57<01:33, 93.63s/it]"
          ]
        },
        {
          "output_type": "stream",
          "name": "stdout",
          "text": [
            "Test CCE: 0.0712, Accuracy : 0.5597\n",
            "seed: 3371, Cross Entropy loss: 0.0712072998046875, Accuracy: 0.5597\n",
            "\n",
            "** Inference Iteration: 9 **\n",
            "\n",
            "#Training L2 model with seed 3155#\n"
          ]
        },
        {
          "output_type": "stream",
          "name": "stderr",
          "text": [
            "\n",
            "  0%|          | 0/20 [00:00<?, ?it/s]\u001b[A\n",
            "  5%|▌         | 1/20 [00:05<01:39,  5.22s/it]\u001b[A"
          ]
        },
        {
          "output_type": "stream",
          "name": "stdout",
          "text": [
            "Number of Epoch = 1 - Average CCE:= 0.02323181355794271 - Average Accuracy:= 26.505000000000003%\n"
          ]
        },
        {
          "output_type": "stream",
          "name": "stderr",
          "text": [
            "\n",
            " 10%|█         | 2/20 [00:10<01:34,  5.27s/it]\u001b[A"
          ]
        },
        {
          "output_type": "stream",
          "name": "stdout",
          "text": [
            "Number of Epoch = 2 - Average CCE:= 0.019070585123697918 - Average Accuracy:= 39.806666666666665%\n"
          ]
        },
        {
          "output_type": "stream",
          "name": "stderr",
          "text": [
            "\n",
            " 15%|█▌        | 3/20 [00:15<01:29,  5.25s/it]\u001b[A"
          ]
        },
        {
          "output_type": "stream",
          "name": "stdout",
          "text": [
            "Number of Epoch = 3 - Average CCE:= 0.018268886311848958 - Average Accuracy:= 42.401666666666664%\n"
          ]
        },
        {
          "output_type": "stream",
          "name": "stderr",
          "text": [
            "\n",
            " 20%|██        | 4/20 [00:20<01:23,  5.24s/it]\u001b[A"
          ]
        },
        {
          "output_type": "stream",
          "name": "stdout",
          "text": [
            "Number of Epoch = 4 - Average CCE:= 0.01788480224609375 - Average Accuracy:= 43.625%\n"
          ]
        },
        {
          "output_type": "stream",
          "name": "stderr",
          "text": [
            "\n",
            " 25%|██▌       | 5/20 [00:26<01:18,  5.26s/it]\u001b[A"
          ]
        },
        {
          "output_type": "stream",
          "name": "stdout",
          "text": [
            "Number of Epoch = 5 - Average CCE:= 0.017588167317708334 - Average Accuracy:= 44.574999999999996%\n"
          ]
        },
        {
          "output_type": "stream",
          "name": "stderr",
          "text": [
            "\n",
            " 30%|███       | 6/20 [00:30<01:07,  4.81s/it]\u001b[A"
          ]
        },
        {
          "output_type": "stream",
          "name": "stdout",
          "text": [
            "Number of Epoch = 6 - Average CCE:= 0.017221256510416668 - Average Accuracy:= 45.77333333333333%\n"
          ]
        },
        {
          "output_type": "stream",
          "name": "stderr",
          "text": [
            "\n",
            " 35%|███▌      | 7/20 [00:34<00:58,  4.51s/it]\u001b[A"
          ]
        },
        {
          "output_type": "stream",
          "name": "stdout",
          "text": [
            "Number of Epoch = 7 - Average CCE:= 0.016608573404947917 - Average Accuracy:= 47.599999999999994%\n"
          ]
        },
        {
          "output_type": "stream",
          "name": "stderr",
          "text": [
            "\n",
            " 40%|████      | 8/20 [00:38<00:51,  4.32s/it]\u001b[A"
          ]
        },
        {
          "output_type": "stream",
          "name": "stdout",
          "text": [
            "Number of Epoch = 8 - Average CCE:= 0.016114981079101563 - Average Accuracy:= 49.22833333333333%\n"
          ]
        },
        {
          "output_type": "stream",
          "name": "stderr",
          "text": [
            "\n",
            " 45%|████▌     | 9/20 [00:43<00:50,  4.60s/it]\u001b[A"
          ]
        },
        {
          "output_type": "stream",
          "name": "stdout",
          "text": [
            "Number of Epoch = 9 - Average CCE:= 0.015737534586588543 - Average Accuracy:= 50.405%\n"
          ]
        },
        {
          "output_type": "stream",
          "name": "stderr",
          "text": [
            "\n",
            " 50%|█████     | 10/20 [00:48<00:47,  4.79s/it]\u001b[A"
          ]
        },
        {
          "output_type": "stream",
          "name": "stdout",
          "text": [
            "Number of Epoch = 10 - Average CCE:= 0.0154669921875 - Average Accuracy:= 51.26833333333334%\n"
          ]
        },
        {
          "output_type": "stream",
          "name": "stderr",
          "text": [
            "\n",
            " 55%|█████▌    | 11/20 [00:53<00:44,  4.93s/it]\u001b[A"
          ]
        },
        {
          "output_type": "stream",
          "name": "stdout",
          "text": [
            "Number of Epoch = 11 - Average CCE:= 0.015234939575195313 - Average Accuracy:= 51.998333333333335%\n"
          ]
        },
        {
          "output_type": "stream",
          "name": "stderr",
          "text": [
            "\n",
            " 60%|██████    | 12/20 [00:57<00:37,  4.64s/it]\u001b[A"
          ]
        },
        {
          "output_type": "stream",
          "name": "stdout",
          "text": [
            "Number of Epoch = 12 - Average CCE:= 0.015104261271158855 - Average Accuracy:= 52.395%\n"
          ]
        },
        {
          "output_type": "stream",
          "name": "stderr",
          "text": [
            "\n",
            " 65%|██████▌   | 13/20 [01:01<00:30,  4.41s/it]\u001b[A"
          ]
        },
        {
          "output_type": "stream",
          "name": "stdout",
          "text": [
            "Number of Epoch = 13 - Average CCE:= 0.015084584554036459 - Average Accuracy:= 52.483333333333334%\n"
          ]
        },
        {
          "output_type": "stream",
          "name": "stderr",
          "text": [
            "\n",
            " 70%|███████   | 14/20 [01:06<00:27,  4.66s/it]\u001b[A"
          ]
        },
        {
          "output_type": "stream",
          "name": "stdout",
          "text": [
            "Number of Epoch = 14 - Average CCE:= 0.014938201904296875 - Average Accuracy:= 52.980000000000004%\n"
          ]
        },
        {
          "output_type": "stream",
          "name": "stderr",
          "text": [
            "\n",
            " 75%|███████▌  | 15/20 [01:10<00:22,  4.46s/it]\u001b[A"
          ]
        },
        {
          "output_type": "stream",
          "name": "stdout",
          "text": [
            "Number of Epoch = 15 - Average CCE:= 0.01487525634765625 - Average Accuracy:= 53.14666666666666%\n"
          ]
        },
        {
          "output_type": "stream",
          "name": "stderr",
          "text": [
            "\n",
            " 80%|████████  | 16/20 [01:14<00:17,  4.32s/it]\u001b[A"
          ]
        },
        {
          "output_type": "stream",
          "name": "stdout",
          "text": [
            "Number of Epoch = 16 - Average CCE:= 0.014799087524414063 - Average Accuracy:= 53.39333333333334%\n"
          ]
        },
        {
          "output_type": "stream",
          "name": "stderr",
          "text": [
            "\n",
            " 85%|████████▌ | 17/20 [01:18<00:12,  4.24s/it]\u001b[A"
          ]
        },
        {
          "output_type": "stream",
          "name": "stdout",
          "text": [
            "Number of Epoch = 17 - Average CCE:= 0.01470401611328125 - Average Accuracy:= 53.690000000000005%\n"
          ]
        },
        {
          "output_type": "stream",
          "name": "stderr",
          "text": [
            "\n",
            " 90%|█████████ | 18/20 [01:22<00:08,  4.18s/it]\u001b[A"
          ]
        },
        {
          "output_type": "stream",
          "name": "stdout",
          "text": [
            "Number of Epoch = 18 - Average CCE:= 0.014721794637044271 - Average Accuracy:= 53.66%\n"
          ]
        },
        {
          "output_type": "stream",
          "name": "stderr",
          "text": [
            "\n",
            " 95%|█████████▌| 19/20 [01:26<00:04,  4.11s/it]\u001b[A"
          ]
        },
        {
          "output_type": "stream",
          "name": "stdout",
          "text": [
            "Number of Epoch = 19 - Average CCE:= 0.014634750366210937 - Average Accuracy:= 53.959999999999994%\n"
          ]
        },
        {
          "output_type": "stream",
          "name": "stderr",
          "text": [
            "\n",
            "100%|██████████| 20/20 [01:30<00:00,  4.53s/it]"
          ]
        },
        {
          "output_type": "stream",
          "name": "stdout",
          "text": [
            "Number of Epoch = 20 - Average CCE:= 0.014571891276041667 - Average Accuracy:= 54.126666666666665%\n",
            "\n",
            "Total time taken (in seconds): 90.69\n"
          ]
        },
        {
          "output_type": "stream",
          "name": "stderr",
          "text": [
            "\n",
            "100%|██████████| 10/10 [15:28<00:00, 92.84s/it]\n"
          ]
        },
        {
          "output_type": "stream",
          "name": "stdout",
          "text": [
            "Test CCE: 0.0741, Accuracy : 0.5414\n",
            "seed: 3155, Cross Entropy loss: 0.07413899536132812, Accuracy: 0.5414\n",
            "## END: Current Model: L2##\n",
            "Current inference results: {'default': {'cce_list': [0.0748375244140625, 0.05811812744140625, 0.08847588500976562, 0.029572921752929686, 0.061538922119140624, 0.08598414916992188, 0.07229287719726563, 0.07354020385742188, 0.08425131225585937, 0.07390631713867188], 'acc_list': [0.5342, 0.6372, 0.4499, 0.8153, 0.616, 0.465, 0.5498, 0.5418, 0.4765, 0.5408]}, 'L2': {'cce_list': [0.05077794799804688, 0.056246685791015626, 0.09849248657226563, 0.05702962646484375, 0.06205078125, 0.09080116577148438, 0.07283306884765625, 0.07203131103515625, 0.0712072998046875, 0.07413899536132812], 'acc_list': [0.6847, 0.6514, 0.3908, 0.647, 0.6157, 0.4369, 0.5493, 0.5535, 0.5597, 0.5414]}, 'dropout': {}}\n",
            "## START: Current Model: dropout ##\n"
          ]
        },
        {
          "output_type": "stream",
          "name": "stderr",
          "text": [
            "\r  0%|          | 0/10 [00:00<?, ?it/s]"
          ]
        },
        {
          "output_type": "stream",
          "name": "stdout",
          "text": [
            "\n",
            "** Inference Iteration: 0 **\n",
            "\n",
            "#Training dropout model with seed 3058#\n"
          ]
        },
        {
          "output_type": "stream",
          "name": "stderr",
          "text": [
            "\n",
            "  0%|          | 0/20 [00:00<?, ?it/s]\u001b[A\n",
            "  5%|▌         | 1/20 [00:05<01:39,  5.22s/it]\u001b[A"
          ]
        },
        {
          "output_type": "stream",
          "name": "stdout",
          "text": [
            "Number of Epoch = 1 - Average CCE:= 0.026707969156901042 - Average Accuracy:= 15.425%\n"
          ]
        },
        {
          "output_type": "stream",
          "name": "stderr",
          "text": [
            "\n",
            " 10%|█         | 2/20 [00:09<01:21,  4.50s/it]\u001b[A"
          ]
        },
        {
          "output_type": "stream",
          "name": "stdout",
          "text": [
            "Number of Epoch = 2 - Average CCE:= 0.022355190022786457 - Average Accuracy:= 29.125%\n"
          ]
        },
        {
          "output_type": "stream",
          "name": "stderr",
          "text": [
            "\n",
            " 15%|█▌        | 3/20 [00:14<01:22,  4.84s/it]\u001b[A"
          ]
        },
        {
          "output_type": "stream",
          "name": "stdout",
          "text": [
            "Number of Epoch = 3 - Average CCE:= 0.01982069091796875 - Average Accuracy:= 37.14833333333333%\n"
          ]
        },
        {
          "output_type": "stream",
          "name": "stderr",
          "text": [
            "\n",
            " 20%|██        | 4/20 [00:19<01:19,  4.99s/it]\u001b[A"
          ]
        },
        {
          "output_type": "stream",
          "name": "stdout",
          "text": [
            "Number of Epoch = 4 - Average CCE:= 0.01803536580403646 - Average Accuracy:= 42.714999999999996%\n"
          ]
        },
        {
          "output_type": "stream",
          "name": "stderr",
          "text": [
            "\n",
            " 25%|██▌       | 5/20 [00:24<01:16,  5.08s/it]\u001b[A"
          ]
        },
        {
          "output_type": "stream",
          "name": "stdout",
          "text": [
            "Number of Epoch = 5 - Average CCE:= 0.016554500325520832 - Average Accuracy:= 47.431666666666665%\n"
          ]
        },
        {
          "output_type": "stream",
          "name": "stderr",
          "text": [
            "\n",
            " 30%|███       | 6/20 [00:30<01:12,  5.15s/it]\u001b[A"
          ]
        },
        {
          "output_type": "stream",
          "name": "stdout",
          "text": [
            "Number of Epoch = 6 - Average CCE:= 0.01577239990234375 - Average Accuracy:= 49.928333333333335%\n"
          ]
        },
        {
          "output_type": "stream",
          "name": "stderr",
          "text": [
            "\n",
            " 35%|███▌      | 7/20 [00:34<01:02,  4.80s/it]\u001b[A"
          ]
        },
        {
          "output_type": "stream",
          "name": "stdout",
          "text": [
            "Number of Epoch = 7 - Average CCE:= 0.015247113037109374 - Average Accuracy:= 51.61833333333333%\n"
          ]
        },
        {
          "output_type": "stream",
          "name": "stderr",
          "text": [
            "\n",
            " 40%|████      | 8/20 [00:39<00:59,  4.94s/it]\u001b[A"
          ]
        },
        {
          "output_type": "stream",
          "name": "stdout",
          "text": [
            "Number of Epoch = 8 - Average CCE:= 0.014101596069335937 - Average Accuracy:= 55.13666666666667%\n"
          ]
        },
        {
          "output_type": "stream",
          "name": "stderr",
          "text": [
            "\n",
            " 45%|████▌     | 9/20 [00:44<00:55,  5.04s/it]\u001b[A"
          ]
        },
        {
          "output_type": "stream",
          "name": "stdout",
          "text": [
            "Number of Epoch = 9 - Average CCE:= 0.01231658935546875 - Average Accuracy:= 60.685%\n"
          ]
        },
        {
          "output_type": "stream",
          "name": "stderr",
          "text": [
            "\n",
            " 50%|█████     | 10/20 [00:49<00:50,  5.09s/it]\u001b[A"
          ]
        },
        {
          "output_type": "stream",
          "name": "stdout",
          "text": [
            "Number of Epoch = 10 - Average CCE:= 0.010871600341796874 - Average Accuracy:= 65.10000000000001%\n"
          ]
        },
        {
          "output_type": "stream",
          "name": "stderr",
          "text": [
            "\n",
            " 55%|█████▌    | 11/20 [00:55<00:46,  5.15s/it]\u001b[A"
          ]
        },
        {
          "output_type": "stream",
          "name": "stdout",
          "text": [
            "Number of Epoch = 11 - Average CCE:= 0.009830372111002603 - Average Accuracy:= 68.49666666666666%\n"
          ]
        },
        {
          "output_type": "stream",
          "name": "stderr",
          "text": [
            "\n",
            " 60%|██████    | 12/20 [01:00<00:41,  5.18s/it]\u001b[A"
          ]
        },
        {
          "output_type": "stream",
          "name": "stdout",
          "text": [
            "Number of Epoch = 12 - Average CCE:= 0.0088529296875 - Average Accuracy:= 71.50999999999999%\n"
          ]
        },
        {
          "output_type": "stream",
          "name": "stderr",
          "text": [
            "\n",
            " 65%|██████▌   | 13/20 [01:05<00:36,  5.19s/it]\u001b[A"
          ]
        },
        {
          "output_type": "stream",
          "name": "stdout",
          "text": [
            "Number of Epoch = 13 - Average CCE:= 0.008158152262369791 - Average Accuracy:= 73.68666666666667%\n"
          ]
        },
        {
          "output_type": "stream",
          "name": "stderr",
          "text": [
            "\n",
            " 70%|███████   | 14/20 [01:09<00:29,  4.84s/it]\u001b[A"
          ]
        },
        {
          "output_type": "stream",
          "name": "stdout",
          "text": [
            "Number of Epoch = 14 - Average CCE:= 0.007544316101074219 - Average Accuracy:= 75.67666666666668%\n"
          ]
        },
        {
          "output_type": "stream",
          "name": "stderr",
          "text": [
            "\n",
            " 75%|███████▌  | 15/20 [01:14<00:24,  4.96s/it]\u001b[A"
          ]
        },
        {
          "output_type": "stream",
          "name": "stdout",
          "text": [
            "Number of Epoch = 15 - Average CCE:= 0.0070903152465820315 - Average Accuracy:= 77.11833333333334%\n"
          ]
        },
        {
          "output_type": "stream",
          "name": "stderr",
          "text": [
            "\n",
            " 80%|████████  | 16/20 [01:19<00:18,  4.68s/it]\u001b[A"
          ]
        },
        {
          "output_type": "stream",
          "name": "stdout",
          "text": [
            "Number of Epoch = 16 - Average CCE:= 0.006688547770182292 - Average Accuracy:= 78.4%\n"
          ]
        },
        {
          "output_type": "stream",
          "name": "stderr",
          "text": [
            "\n",
            " 85%|████████▌ | 17/20 [01:22<00:13,  4.46s/it]\u001b[A"
          ]
        },
        {
          "output_type": "stream",
          "name": "stdout",
          "text": [
            "Number of Epoch = 17 - Average CCE:= 0.006328866068522136 - Average Accuracy:= 79.53666666666666%\n"
          ]
        },
        {
          "output_type": "stream",
          "name": "stderr",
          "text": [
            "\n",
            " 90%|█████████ | 18/20 [01:26<00:08,  4.29s/it]\u001b[A"
          ]
        },
        {
          "output_type": "stream",
          "name": "stdout",
          "text": [
            "Number of Epoch = 18 - Average CCE:= 0.006016754659016927 - Average Accuracy:= 80.595%\n"
          ]
        },
        {
          "output_type": "stream",
          "name": "stderr",
          "text": [
            "\n",
            " 95%|█████████▌| 19/20 [01:30<00:04,  4.18s/it]\u001b[A"
          ]
        },
        {
          "output_type": "stream",
          "name": "stdout",
          "text": [
            "Number of Epoch = 19 - Average CCE:= 0.005737152099609375 - Average Accuracy:= 81.40666666666667%\n"
          ]
        },
        {
          "output_type": "stream",
          "name": "stderr",
          "text": [
            "\n",
            "100%|██████████| 20/20 [01:36<00:00,  4.80s/it]"
          ]
        },
        {
          "output_type": "stream",
          "name": "stdout",
          "text": [
            "Number of Epoch = 20 - Average CCE:= 0.005554949442545573 - Average Accuracy:= 81.955%\n",
            "\n",
            "Total time taken (in seconds): 96.04\n"
          ]
        },
        {
          "output_type": "stream",
          "name": "stderr",
          "text": [
            "\n",
            " 10%|█         | 1/10 [01:36<14:29, 96.66s/it]"
          ]
        },
        {
          "output_type": "stream",
          "name": "stdout",
          "text": [
            "Test CCE: 0.0265, Accuracy : 0.8314\n",
            "seed: 3058, Cross Entropy loss: 0.026508352661132814, Accuracy: 0.8314\n",
            "\n",
            "** Inference Iteration: 1 **\n",
            "\n",
            "#Training dropout model with seed 3717#\n"
          ]
        },
        {
          "output_type": "stream",
          "name": "stderr",
          "text": [
            "\n",
            "  0%|          | 0/20 [00:00<?, ?it/s]\u001b[A\n",
            "  5%|▌         | 1/20 [00:03<01:14,  3.93s/it]\u001b[A"
          ]
        },
        {
          "output_type": "stream",
          "name": "stdout",
          "text": [
            "Number of Epoch = 1 - Average CCE:= 0.02519564208984375 - Average Accuracy:= 20.151666666666667%\n"
          ]
        },
        {
          "output_type": "stream",
          "name": "stderr",
          "text": [
            "\n",
            " 10%|█         | 2/20 [00:07<01:10,  3.94s/it]\u001b[A"
          ]
        },
        {
          "output_type": "stream",
          "name": "stdout",
          "text": [
            "Number of Epoch = 2 - Average CCE:= 0.021598636881510418 - Average Accuracy:= 31.553333333333335%\n"
          ]
        },
        {
          "output_type": "stream",
          "name": "stderr",
          "text": [
            "\n",
            " 15%|█▌        | 3/20 [00:11<01:07,  3.96s/it]\u001b[A"
          ]
        },
        {
          "output_type": "stream",
          "name": "stdout",
          "text": [
            "Number of Epoch = 3 - Average CCE:= 0.01852000732421875 - Average Accuracy:= 41.16666666666667%\n"
          ]
        },
        {
          "output_type": "stream",
          "name": "stderr",
          "text": [
            "\n",
            " 20%|██        | 4/20 [00:15<01:04,  4.01s/it]\u001b[A"
          ]
        },
        {
          "output_type": "stream",
          "name": "stdout",
          "text": [
            "Number of Epoch = 4 - Average CCE:= 0.01689511922200521 - Average Accuracy:= 46.266666666666666%\n"
          ]
        },
        {
          "output_type": "stream",
          "name": "stderr",
          "text": [
            "\n",
            " 25%|██▌       | 5/20 [00:21<01:06,  4.45s/it]\u001b[A"
          ]
        },
        {
          "output_type": "stream",
          "name": "stdout",
          "text": [
            "Number of Epoch = 5 - Average CCE:= 0.015186724853515625 - Average Accuracy:= 51.690000000000005%\n"
          ]
        },
        {
          "output_type": "stream",
          "name": "stderr",
          "text": [
            "\n",
            " 30%|███       | 6/20 [00:26<01:06,  4.72s/it]\u001b[A"
          ]
        },
        {
          "output_type": "stream",
          "name": "stdout",
          "text": [
            "Number of Epoch = 6 - Average CCE:= 0.01441386006673177 - Average Accuracy:= 54.165%\n"
          ]
        },
        {
          "output_type": "stream",
          "name": "stderr",
          "text": [
            "\n",
            " 35%|███▌      | 7/20 [00:31<01:03,  4.88s/it]\u001b[A"
          ]
        },
        {
          "output_type": "stream",
          "name": "stdout",
          "text": [
            "Number of Epoch = 7 - Average CCE:= 0.0138541015625 - Average Accuracy:= 55.98166666666666%\n"
          ]
        },
        {
          "output_type": "stream",
          "name": "stderr",
          "text": [
            "\n",
            " 40%|████      | 8/20 [00:36<00:59,  4.99s/it]\u001b[A"
          ]
        },
        {
          "output_type": "stream",
          "name": "stdout",
          "text": [
            "Number of Epoch = 8 - Average CCE:= 0.013383590698242187 - Average Accuracy:= 57.49833333333333%\n"
          ]
        },
        {
          "output_type": "stream",
          "name": "stderr",
          "text": [
            "\n",
            " 45%|████▌     | 9/20 [00:40<00:51,  4.68s/it]\u001b[A"
          ]
        },
        {
          "output_type": "stream",
          "name": "stdout",
          "text": [
            "Number of Epoch = 9 - Average CCE:= 0.013097293090820313 - Average Accuracy:= 58.435%\n"
          ]
        },
        {
          "output_type": "stream",
          "name": "stderr",
          "text": [
            "\n",
            " 50%|█████     | 10/20 [00:46<00:48,  4.85s/it]\u001b[A"
          ]
        },
        {
          "output_type": "stream",
          "name": "stdout",
          "text": [
            "Number of Epoch = 10 - Average CCE:= 0.012796190388997396 - Average Accuracy:= 59.38333333333333%\n"
          ]
        },
        {
          "output_type": "stream",
          "name": "stderr",
          "text": [
            "\n",
            " 55%|█████▌    | 11/20 [00:51<00:44,  4.97s/it]\u001b[A"
          ]
        },
        {
          "output_type": "stream",
          "name": "stdout",
          "text": [
            "Number of Epoch = 11 - Average CCE:= 0.012592982991536458 - Average Accuracy:= 59.983333333333334%\n"
          ]
        },
        {
          "output_type": "stream",
          "name": "stderr",
          "text": [
            "\n",
            " 60%|██████    | 12/20 [00:55<00:37,  4.66s/it]\u001b[A"
          ]
        },
        {
          "output_type": "stream",
          "name": "stdout",
          "text": [
            "Number of Epoch = 12 - Average CCE:= 0.012426512654622395 - Average Accuracy:= 60.51833333333333%\n"
          ]
        },
        {
          "output_type": "stream",
          "name": "stderr",
          "text": [
            "\n",
            " 65%|██████▌   | 13/20 [01:00<00:33,  4.84s/it]\u001b[A"
          ]
        },
        {
          "output_type": "stream",
          "name": "stdout",
          "text": [
            "Number of Epoch = 13 - Average CCE:= 0.0121978271484375 - Average Accuracy:= 61.22%\n"
          ]
        },
        {
          "output_type": "stream",
          "name": "stderr",
          "text": [
            "\n",
            " 70%|███████   | 14/20 [01:04<00:27,  4.58s/it]\u001b[A"
          ]
        },
        {
          "output_type": "stream",
          "name": "stdout",
          "text": [
            "Number of Epoch = 14 - Average CCE:= 0.012062567138671876 - Average Accuracy:= 61.721666666666664%\n"
          ]
        },
        {
          "output_type": "stream",
          "name": "stderr",
          "text": [
            "\n",
            " 75%|███████▌  | 15/20 [01:09<00:23,  4.77s/it]\u001b[A"
          ]
        },
        {
          "output_type": "stream",
          "name": "stdout",
          "text": [
            "Number of Epoch = 15 - Average CCE:= 0.012011729939778646 - Average Accuracy:= 61.839999999999996%\n"
          ]
        },
        {
          "output_type": "stream",
          "name": "stderr",
          "text": [
            "\n",
            " 80%|████████  | 16/20 [01:14<00:19,  4.91s/it]\u001b[A"
          ]
        },
        {
          "output_type": "stream",
          "name": "stdout",
          "text": [
            "Number of Epoch = 16 - Average CCE:= 0.011865920003255209 - Average Accuracy:= 62.405%\n"
          ]
        },
        {
          "output_type": "stream",
          "name": "stderr",
          "text": [
            "\n",
            " 85%|████████▌ | 17/20 [01:20<00:15,  5.01s/it]\u001b[A"
          ]
        },
        {
          "output_type": "stream",
          "name": "stdout",
          "text": [
            "Number of Epoch = 17 - Average CCE:= 0.011786636352539062 - Average Accuracy:= 62.6%\n"
          ]
        },
        {
          "output_type": "stream",
          "name": "stderr",
          "text": [
            "\n",
            " 90%|█████████ | 18/20 [01:25<00:10,  5.07s/it]\u001b[A"
          ]
        },
        {
          "output_type": "stream",
          "name": "stdout",
          "text": [
            "Number of Epoch = 18 - Average CCE:= 0.011730180867513021 - Average Accuracy:= 62.73%\n"
          ]
        },
        {
          "output_type": "stream",
          "name": "stderr",
          "text": [
            "\n",
            " 95%|█████████▌| 19/20 [01:29<00:04,  4.72s/it]\u001b[A"
          ]
        },
        {
          "output_type": "stream",
          "name": "stdout",
          "text": [
            "Number of Epoch = 19 - Average CCE:= 0.011628641764322916 - Average Accuracy:= 63.086666666666666%\n"
          ]
        },
        {
          "output_type": "stream",
          "name": "stderr",
          "text": [
            "\n",
            "100%|██████████| 20/20 [01:33<00:00,  4.67s/it]"
          ]
        },
        {
          "output_type": "stream",
          "name": "stdout",
          "text": [
            "Number of Epoch = 20 - Average CCE:= 0.011592006429036458 - Average Accuracy:= 63.21%\n",
            "\n",
            "Total time taken (in seconds): 93.32\n"
          ]
        },
        {
          "output_type": "stream",
          "name": "stderr",
          "text": [
            "\n",
            " 20%|██        | 2/10 [03:10<12:40, 95.04s/it]"
          ]
        },
        {
          "output_type": "stream",
          "name": "stdout",
          "text": [
            "Test CCE: 0.0574, Accuracy : 0.6419\n",
            "seed: 3717, Cross Entropy loss: 0.05739667358398438, Accuracy: 0.6419\n",
            "\n",
            "** Inference Iteration: 2 **\n",
            "\n",
            "#Training dropout model with seed 2781#\n"
          ]
        },
        {
          "output_type": "stream",
          "name": "stderr",
          "text": [
            "\n",
            "  0%|          | 0/20 [00:00<?, ?it/s]\u001b[A\n",
            "  5%|▌         | 1/20 [00:05<01:39,  5.23s/it]\u001b[A"
          ]
        },
        {
          "output_type": "stream",
          "name": "stdout",
          "text": [
            "Number of Epoch = 1 - Average CCE:= 0.026325734456380208 - Average Accuracy:= 16.686666666666667%\n"
          ]
        },
        {
          "output_type": "stream",
          "name": "stderr",
          "text": [
            "\n",
            " 10%|█         | 2/20 [00:10<01:34,  5.26s/it]\u001b[A"
          ]
        },
        {
          "output_type": "stream",
          "name": "stdout",
          "text": [
            "Number of Epoch = 2 - Average CCE:= 0.022093330891927082 - Average Accuracy:= 30.018333333333334%\n"
          ]
        },
        {
          "output_type": "stream",
          "name": "stderr",
          "text": [
            "\n",
            " 15%|█▌        | 3/20 [00:15<01:29,  5.25s/it]\u001b[A"
          ]
        },
        {
          "output_type": "stream",
          "name": "stdout",
          "text": [
            "Number of Epoch = 3 - Average CCE:= 0.019734724934895833 - Average Accuracy:= 37.483333333333334%\n"
          ]
        },
        {
          "output_type": "stream",
          "name": "stderr",
          "text": [
            "\n",
            " 20%|██        | 4/20 [00:20<01:23,  5.24s/it]\u001b[A"
          ]
        },
        {
          "output_type": "stream",
          "name": "stdout",
          "text": [
            "Number of Epoch = 4 - Average CCE:= 0.01846123250325521 - Average Accuracy:= 41.49333333333333%\n"
          ]
        },
        {
          "output_type": "stream",
          "name": "stderr",
          "text": [
            "\n",
            " 25%|██▌       | 5/20 [00:26<01:18,  5.24s/it]\u001b[A"
          ]
        },
        {
          "output_type": "stream",
          "name": "stdout",
          "text": [
            "Number of Epoch = 5 - Average CCE:= 0.017282120768229166 - Average Accuracy:= 45.193333333333335%\n"
          ]
        },
        {
          "output_type": "stream",
          "name": "stderr",
          "text": [
            "\n",
            " 30%|███       | 6/20 [00:30<01:07,  4.82s/it]\u001b[A"
          ]
        },
        {
          "output_type": "stream",
          "name": "stdout",
          "text": [
            "Number of Epoch = 6 - Average CCE:= 0.016561407470703126 - Average Accuracy:= 47.473333333333336%\n"
          ]
        },
        {
          "output_type": "stream",
          "name": "stderr",
          "text": [
            "\n",
            " 35%|███▌      | 7/20 [00:35<01:04,  4.96s/it]\u001b[A"
          ]
        },
        {
          "output_type": "stream",
          "name": "stdout",
          "text": [
            "Number of Epoch = 7 - Average CCE:= 0.01514065450032552 - Average Accuracy:= 51.89%\n"
          ]
        },
        {
          "output_type": "stream",
          "name": "stderr",
          "text": [
            "\n",
            " 40%|████      | 8/20 [00:40<01:00,  5.04s/it]\u001b[A"
          ]
        },
        {
          "output_type": "stream",
          "name": "stdout",
          "text": [
            "Number of Epoch = 8 - Average CCE:= 0.01404739278157552 - Average Accuracy:= 55.43833333333333%\n"
          ]
        },
        {
          "output_type": "stream",
          "name": "stderr",
          "text": [
            "\n",
            " 45%|████▌     | 9/20 [00:45<00:56,  5.12s/it]\u001b[A"
          ]
        },
        {
          "output_type": "stream",
          "name": "stdout",
          "text": [
            "Number of Epoch = 9 - Average CCE:= 0.013497216796875 - Average Accuracy:= 57.230000000000004%\n"
          ]
        },
        {
          "output_type": "stream",
          "name": "stderr",
          "text": [
            "\n",
            " 50%|█████     | 10/20 [00:51<00:51,  5.16s/it]\u001b[A"
          ]
        },
        {
          "output_type": "stream",
          "name": "stdout",
          "text": [
            "Number of Epoch = 10 - Average CCE:= 0.013139366658528646 - Average Accuracy:= 58.31166666666666%\n"
          ]
        },
        {
          "output_type": "stream",
          "name": "stderr",
          "text": [
            "\n",
            " 55%|█████▌    | 11/20 [00:55<00:43,  4.82s/it]\u001b[A"
          ]
        },
        {
          "output_type": "stream",
          "name": "stdout",
          "text": [
            "Number of Epoch = 11 - Average CCE:= 0.012924072265625 - Average Accuracy:= 59.093333333333334%\n"
          ]
        },
        {
          "output_type": "stream",
          "name": "stderr",
          "text": [
            "\n",
            " 60%|██████    | 12/20 [01:00<00:39,  4.94s/it]\u001b[A"
          ]
        },
        {
          "output_type": "stream",
          "name": "stdout",
          "text": [
            "Number of Epoch = 12 - Average CCE:= 0.012628821818033854 - Average Accuracy:= 59.955000000000005%\n"
          ]
        },
        {
          "output_type": "stream",
          "name": "stderr",
          "text": [
            "\n",
            " 65%|██████▌   | 13/20 [01:05<00:35,  5.03s/it]\u001b[A"
          ]
        },
        {
          "output_type": "stream",
          "name": "stdout",
          "text": [
            "Number of Epoch = 13 - Average CCE:= 0.012455696614583333 - Average Accuracy:= 60.51%\n"
          ]
        },
        {
          "output_type": "stream",
          "name": "stderr",
          "text": [
            "\n",
            " 70%|███████   | 14/20 [01:09<00:28,  4.74s/it]\u001b[A"
          ]
        },
        {
          "output_type": "stream",
          "name": "stdout",
          "text": [
            "Number of Epoch = 14 - Average CCE:= 0.012352608235677083 - Average Accuracy:= 60.86166666666667%\n"
          ]
        },
        {
          "output_type": "stream",
          "name": "stderr",
          "text": [
            "\n",
            " 75%|███████▌  | 15/20 [01:15<00:24,  4.89s/it]\u001b[A"
          ]
        },
        {
          "output_type": "stream",
          "name": "stdout",
          "text": [
            "Number of Epoch = 15 - Average CCE:= 0.012170360310872395 - Average Accuracy:= 61.406666666666666%\n"
          ]
        },
        {
          "output_type": "stream",
          "name": "stderr",
          "text": [
            "\n",
            " 80%|████████  | 16/20 [01:20<00:19,  4.99s/it]\u001b[A"
          ]
        },
        {
          "output_type": "stream",
          "name": "stdout",
          "text": [
            "Number of Epoch = 16 - Average CCE:= 0.012098675537109376 - Average Accuracy:= 61.64166666666666%\n"
          ]
        },
        {
          "output_type": "stream",
          "name": "stderr",
          "text": [
            "\n",
            " 85%|████████▌ | 17/20 [01:25<00:15,  5.06s/it]\u001b[A"
          ]
        },
        {
          "output_type": "stream",
          "name": "stdout",
          "text": [
            "Number of Epoch = 17 - Average CCE:= 0.01199569803873698 - Average Accuracy:= 61.96333333333334%\n"
          ]
        },
        {
          "output_type": "stream",
          "name": "stderr",
          "text": [
            "\n",
            " 90%|█████████ | 18/20 [01:29<00:09,  4.79s/it]\u001b[A"
          ]
        },
        {
          "output_type": "stream",
          "name": "stdout",
          "text": [
            "Number of Epoch = 18 - Average CCE:= 0.011867019653320312 - Average Accuracy:= 62.40833333333333%\n"
          ]
        },
        {
          "output_type": "stream",
          "name": "stderr",
          "text": [
            "\n",
            " 95%|█████████▌| 19/20 [01:34<00:04,  4.92s/it]\u001b[A"
          ]
        },
        {
          "output_type": "stream",
          "name": "stdout",
          "text": [
            "Number of Epoch = 19 - Average CCE:= 0.011782174682617188 - Average Accuracy:= 62.66666666666667%\n"
          ]
        },
        {
          "output_type": "stream",
          "name": "stderr",
          "text": [
            "\n",
            "100%|██████████| 20/20 [01:40<00:00,  5.00s/it]"
          ]
        },
        {
          "output_type": "stream",
          "name": "stdout",
          "text": [
            "Number of Epoch = 20 - Average CCE:= 0.011745643107096354 - Average Accuracy:= 62.756666666666675%\n",
            "\n",
            "Total time taken (in seconds): 100.11\n"
          ]
        },
        {
          "output_type": "stream",
          "name": "stderr",
          "text": [
            "\n",
            " 30%|███       | 3/10 [04:51<11:23, 97.63s/it]"
          ]
        },
        {
          "output_type": "stream",
          "name": "stdout",
          "text": [
            "Test CCE: 0.0583, Accuracy : 0.6363\n",
            "seed: 2781, Cross Entropy loss: 0.05832355346679687, Accuracy: 0.6363\n",
            "\n",
            "** Inference Iteration: 3 **\n",
            "\n",
            "#Training dropout model with seed 2563#\n"
          ]
        },
        {
          "output_type": "stream",
          "name": "stderr",
          "text": [
            "\n",
            "  0%|          | 0/20 [00:00<?, ?it/s]\u001b[A\n",
            "  5%|▌         | 1/20 [00:05<01:39,  5.22s/it]\u001b[A"
          ]
        },
        {
          "output_type": "stream",
          "name": "stdout",
          "text": [
            "Number of Epoch = 1 - Average CCE:= 0.024481233723958332 - Average Accuracy:= 22.33833333333333%\n"
          ]
        },
        {
          "output_type": "stream",
          "name": "stderr",
          "text": [
            "\n",
            " 10%|█         | 2/20 [00:09<01:21,  4.55s/it]\u001b[A"
          ]
        },
        {
          "output_type": "stream",
          "name": "stdout",
          "text": [
            "Number of Epoch = 2 - Average CCE:= 0.020515745035807293 - Average Accuracy:= 34.961666666666666%\n"
          ]
        },
        {
          "output_type": "stream",
          "name": "stderr",
          "text": [
            "\n",
            " 15%|█▌        | 3/20 [00:14<01:22,  4.87s/it]\u001b[A"
          ]
        },
        {
          "output_type": "stream",
          "name": "stdout",
          "text": [
            "Number of Epoch = 3 - Average CCE:= 0.01905740763346354 - Average Accuracy:= 39.63333333333333%\n"
          ]
        },
        {
          "output_type": "stream",
          "name": "stderr",
          "text": [
            "\n",
            " 20%|██        | 4/20 [00:19<01:20,  5.01s/it]\u001b[A"
          ]
        },
        {
          "output_type": "stream",
          "name": "stdout",
          "text": [
            "Number of Epoch = 4 - Average CCE:= 0.017513909912109375 - Average Accuracy:= 44.440000000000005%\n"
          ]
        },
        {
          "output_type": "stream",
          "name": "stderr",
          "text": [
            "\n",
            " 25%|██▌       | 5/20 [00:23<01:10,  4.67s/it]\u001b[A"
          ]
        },
        {
          "output_type": "stream",
          "name": "stdout",
          "text": [
            "Number of Epoch = 5 - Average CCE:= 0.015251290893554688 - Average Accuracy:= 51.42%\n"
          ]
        },
        {
          "output_type": "stream",
          "name": "stderr",
          "text": [
            "\n",
            " 30%|███       | 6/20 [00:27<01:02,  4.45s/it]\u001b[A"
          ]
        },
        {
          "output_type": "stream",
          "name": "stdout",
          "text": [
            "Number of Epoch = 6 - Average CCE:= 0.013660509236653646 - Average Accuracy:= 56.49833333333333%\n"
          ]
        },
        {
          "output_type": "stream",
          "name": "stderr",
          "text": [
            "\n",
            " 35%|███▌      | 7/20 [00:31<00:56,  4.33s/it]\u001b[A"
          ]
        },
        {
          "output_type": "stream",
          "name": "stdout",
          "text": [
            "Number of Epoch = 7 - Average CCE:= 0.012502835083007813 - Average Accuracy:= 60.131666666666675%\n"
          ]
        },
        {
          "output_type": "stream",
          "name": "stderr",
          "text": [
            "\n",
            " 40%|████      | 8/20 [00:37<00:55,  4.62s/it]\u001b[A"
          ]
        },
        {
          "output_type": "stream",
          "name": "stdout",
          "text": [
            "Number of Epoch = 8 - Average CCE:= 0.011640433756510417 - Average Accuracy:= 62.93833333333333%\n"
          ]
        },
        {
          "output_type": "stream",
          "name": "stderr",
          "text": [
            "\n",
            " 45%|████▌     | 9/20 [00:42<00:53,  4.83s/it]\u001b[A"
          ]
        },
        {
          "output_type": "stream",
          "name": "stdout",
          "text": [
            "Number of Epoch = 9 - Average CCE:= 0.011145906575520833 - Average Accuracy:= 64.515%\n"
          ]
        },
        {
          "output_type": "stream",
          "name": "stderr",
          "text": [
            "\n",
            " 50%|█████     | 10/20 [00:46<00:46,  4.67s/it]\u001b[A"
          ]
        },
        {
          "output_type": "stream",
          "name": "stdout",
          "text": [
            "Number of Epoch = 10 - Average CCE:= 0.010728408813476562 - Average Accuracy:= 65.83333333333333%\n"
          ]
        },
        {
          "output_type": "stream",
          "name": "stderr",
          "text": [
            "\n",
            " 55%|█████▌    | 11/20 [00:52<00:43,  4.84s/it]\u001b[A"
          ]
        },
        {
          "output_type": "stream",
          "name": "stdout",
          "text": [
            "Number of Epoch = 11 - Average CCE:= 0.010419573974609376 - Average Accuracy:= 66.81333333333333%\n"
          ]
        },
        {
          "output_type": "stream",
          "name": "stderr",
          "text": [
            "\n",
            " 60%|██████    | 12/20 [00:57<00:39,  4.95s/it]\u001b[A"
          ]
        },
        {
          "output_type": "stream",
          "name": "stdout",
          "text": [
            "Number of Epoch = 12 - Average CCE:= 0.010124657185872396 - Average Accuracy:= 67.78999999999999%\n"
          ]
        },
        {
          "output_type": "stream",
          "name": "stderr",
          "text": [
            "\n",
            " 65%|██████▌   | 13/20 [01:02<00:35,  5.04s/it]\u001b[A"
          ]
        },
        {
          "output_type": "stream",
          "name": "stdout",
          "text": [
            "Number of Epoch = 13 - Average CCE:= 0.009950818888346355 - Average Accuracy:= 68.32666666666667%\n"
          ]
        },
        {
          "output_type": "stream",
          "name": "stderr",
          "text": [
            "\n",
            " 70%|███████   | 14/20 [01:07<00:30,  5.10s/it]\u001b[A"
          ]
        },
        {
          "output_type": "stream",
          "name": "stdout",
          "text": [
            "Number of Epoch = 14 - Average CCE:= 0.009742160034179688 - Average Accuracy:= 68.98333333333333%\n"
          ]
        },
        {
          "output_type": "stream",
          "name": "stderr",
          "text": [
            "\n",
            " 75%|███████▌  | 15/20 [01:12<00:25,  5.15s/it]\u001b[A"
          ]
        },
        {
          "output_type": "stream",
          "name": "stdout",
          "text": [
            "Number of Epoch = 15 - Average CCE:= 0.009597752888997396 - Average Accuracy:= 69.505%\n"
          ]
        },
        {
          "output_type": "stream",
          "name": "stderr",
          "text": [
            "\n",
            " 80%|████████  | 16/20 [01:16<00:19,  4.80s/it]\u001b[A"
          ]
        },
        {
          "output_type": "stream",
          "name": "stdout",
          "text": [
            "Number of Epoch = 16 - Average CCE:= 0.009443197631835938 - Average Accuracy:= 70.00333333333333%\n"
          ]
        },
        {
          "output_type": "stream",
          "name": "stderr",
          "text": [
            "\n",
            " 85%|████████▌ | 17/20 [01:22<00:14,  4.93s/it]\u001b[A"
          ]
        },
        {
          "output_type": "stream",
          "name": "stdout",
          "text": [
            "Number of Epoch = 17 - Average CCE:= 0.009045885213216146 - Average Accuracy:= 71.11833333333333%\n"
          ]
        },
        {
          "output_type": "stream",
          "name": "stderr",
          "text": [
            "\n",
            " 90%|█████████ | 18/20 [01:27<00:10,  5.02s/it]\u001b[A"
          ]
        },
        {
          "output_type": "stream",
          "name": "stdout",
          "text": [
            "Number of Epoch = 18 - Average CCE:= 0.00865441182454427 - Average Accuracy:= 72.32833333333333%\n"
          ]
        },
        {
          "output_type": "stream",
          "name": "stderr",
          "text": [
            "\n",
            " 95%|█████████▌| 19/20 [01:31<00:04,  4.71s/it]\u001b[A"
          ]
        },
        {
          "output_type": "stream",
          "name": "stdout",
          "text": [
            "Number of Epoch = 19 - Average CCE:= 0.008320175170898437 - Average Accuracy:= 73.42999999999999%\n"
          ]
        },
        {
          "output_type": "stream",
          "name": "stderr",
          "text": [
            "\n",
            "100%|██████████| 20/20 [01:36<00:00,  4.83s/it]"
          ]
        },
        {
          "output_type": "stream",
          "name": "stdout",
          "text": [
            "Number of Epoch = 20 - Average CCE:= 0.00806048075358073 - Average Accuracy:= 74.31166666666667%\n",
            "\n",
            "Total time taken (in seconds): 96.67\n"
          ]
        },
        {
          "output_type": "stream",
          "name": "stderr",
          "text": [
            "\n",
            " 40%|████      | 4/10 [06:28<09:45, 97.53s/it]"
          ]
        },
        {
          "output_type": "stream",
          "name": "stdout",
          "text": [
            "Test CCE: 0.0395, Accuracy : 0.7524\n",
            "seed: 2563, Cross Entropy loss: 0.039481912231445315, Accuracy: 0.7524\n",
            "\n",
            "** Inference Iteration: 4 **\n",
            "\n",
            "#Training dropout model with seed 2120#\n"
          ]
        },
        {
          "output_type": "stream",
          "name": "stderr",
          "text": [
            "\n",
            "  0%|          | 0/20 [00:00<?, ?it/s]\u001b[A\n",
            "  5%|▌         | 1/20 [00:05<01:39,  5.23s/it]\u001b[A"
          ]
        },
        {
          "output_type": "stream",
          "name": "stdout",
          "text": [
            "Number of Epoch = 1 - Average CCE:= 0.027380316162109376 - Average Accuracy:= 13.296666666666667%\n"
          ]
        },
        {
          "output_type": "stream",
          "name": "stderr",
          "text": [
            "\n",
            " 10%|█         | 2/20 [00:09<01:21,  4.52s/it]\u001b[A"
          ]
        },
        {
          "output_type": "stream",
          "name": "stdout",
          "text": [
            "Number of Epoch = 2 - Average CCE:= 0.02383853556315104 - Average Accuracy:= 24.458333333333336%\n"
          ]
        },
        {
          "output_type": "stream",
          "name": "stderr",
          "text": [
            "\n",
            " 15%|█▌        | 3/20 [00:14<01:22,  4.85s/it]\u001b[A"
          ]
        },
        {
          "output_type": "stream",
          "name": "stdout",
          "text": [
            "Number of Epoch = 3 - Average CCE:= 0.02081076863606771 - Average Accuracy:= 33.945%\n"
          ]
        },
        {
          "output_type": "stream",
          "name": "stderr",
          "text": [
            "\n",
            " 20%|██        | 4/20 [00:18<01:11,  4.48s/it]\u001b[A"
          ]
        },
        {
          "output_type": "stream",
          "name": "stdout",
          "text": [
            "Number of Epoch = 4 - Average CCE:= 0.018899727376302085 - Average Accuracy:= 40.04333333333333%\n"
          ]
        },
        {
          "output_type": "stream",
          "name": "stderr",
          "text": [
            "\n",
            " 25%|██▌       | 5/20 [00:23<01:11,  4.75s/it]\u001b[A"
          ]
        },
        {
          "output_type": "stream",
          "name": "stdout",
          "text": [
            "Number of Epoch = 5 - Average CCE:= 0.017636417643229166 - Average Accuracy:= 44.031666666666666%\n"
          ]
        },
        {
          "output_type": "stream",
          "name": "stderr",
          "text": [
            "\n",
            " 30%|███       | 6/20 [00:28<01:08,  4.92s/it]\u001b[A"
          ]
        },
        {
          "output_type": "stream",
          "name": "stdout",
          "text": [
            "Number of Epoch = 6 - Average CCE:= 0.016641951497395835 - Average Accuracy:= 47.16166666666667%\n"
          ]
        },
        {
          "output_type": "stream",
          "name": "stderr",
          "text": [
            "\n",
            " 35%|███▌      | 7/20 [00:32<00:59,  4.59s/it]\u001b[A"
          ]
        },
        {
          "output_type": "stream",
          "name": "stdout",
          "text": [
            "Number of Epoch = 7 - Average CCE:= 0.01593900146484375 - Average Accuracy:= 49.36666666666667%\n"
          ]
        },
        {
          "output_type": "stream",
          "name": "stderr",
          "text": [
            "\n",
            " 40%|████      | 8/20 [00:38<00:57,  4.79s/it]\u001b[A"
          ]
        },
        {
          "output_type": "stream",
          "name": "stdout",
          "text": [
            "Number of Epoch = 8 - Average CCE:= 0.015525864664713541 - Average Accuracy:= 50.74333333333333%\n"
          ]
        },
        {
          "output_type": "stream",
          "name": "stderr",
          "text": [
            "\n",
            " 45%|████▌     | 9/20 [00:43<00:54,  4.93s/it]\u001b[A"
          ]
        },
        {
          "output_type": "stream",
          "name": "stdout",
          "text": [
            "Number of Epoch = 9 - Average CCE:= 0.015017249552408855 - Average Accuracy:= 52.370000000000005%\n"
          ]
        },
        {
          "output_type": "stream",
          "name": "stderr",
          "text": [
            "\n",
            " 50%|█████     | 10/20 [00:48<00:50,  5.02s/it]\u001b[A"
          ]
        },
        {
          "output_type": "stream",
          "name": "stdout",
          "text": [
            "Number of Epoch = 10 - Average CCE:= 0.014712073771158855 - Average Accuracy:= 53.28333333333334%\n"
          ]
        },
        {
          "output_type": "stream",
          "name": "stderr",
          "text": [
            "\n",
            " 55%|█████▌    | 11/20 [00:52<00:42,  4.72s/it]\u001b[A"
          ]
        },
        {
          "output_type": "stream",
          "name": "stdout",
          "text": [
            "Number of Epoch = 11 - Average CCE:= 0.014502872721354167 - Average Accuracy:= 53.98666666666667%\n"
          ]
        },
        {
          "output_type": "stream",
          "name": "stderr",
          "text": [
            "\n",
            " 60%|██████    | 12/20 [00:56<00:35,  4.48s/it]\u001b[A"
          ]
        },
        {
          "output_type": "stream",
          "name": "stdout",
          "text": [
            "Number of Epoch = 12 - Average CCE:= 0.01420855712890625 - Average Accuracy:= 54.96%\n"
          ]
        },
        {
          "output_type": "stream",
          "name": "stderr",
          "text": [
            "\n",
            " 65%|██████▌   | 13/20 [01:01<00:33,  4.72s/it]\u001b[A"
          ]
        },
        {
          "output_type": "stream",
          "name": "stdout",
          "text": [
            "Number of Epoch = 13 - Average CCE:= 0.013957148234049479 - Average Accuracy:= 55.69666666666667%\n"
          ]
        },
        {
          "output_type": "stream",
          "name": "stderr",
          "text": [
            "\n",
            " 70%|███████   | 14/20 [01:05<00:27,  4.58s/it]\u001b[A"
          ]
        },
        {
          "output_type": "stream",
          "name": "stdout",
          "text": [
            "Number of Epoch = 14 - Average CCE:= 0.013130106608072917 - Average Accuracy:= 58.165%\n"
          ]
        },
        {
          "output_type": "stream",
          "name": "stderr",
          "text": [
            "\n",
            " 75%|███████▌  | 15/20 [01:11<00:23,  4.78s/it]\u001b[A"
          ]
        },
        {
          "output_type": "stream",
          "name": "stdout",
          "text": [
            "Number of Epoch = 15 - Average CCE:= 0.012075030517578125 - Average Accuracy:= 61.501666666666665%\n"
          ]
        },
        {
          "output_type": "stream",
          "name": "stderr",
          "text": [
            "\n",
            " 80%|████████  | 16/20 [01:15<00:18,  4.59s/it]\u001b[A"
          ]
        },
        {
          "output_type": "stream",
          "name": "stdout",
          "text": [
            "Number of Epoch = 16 - Average CCE:= 0.011546080525716146 - Average Accuracy:= 63.27%\n"
          ]
        },
        {
          "output_type": "stream",
          "name": "stderr",
          "text": [
            "\n",
            " 85%|████████▌ | 17/20 [01:20<00:14,  4.78s/it]\u001b[A"
          ]
        },
        {
          "output_type": "stream",
          "name": "stdout",
          "text": [
            "Number of Epoch = 17 - Average CCE:= 0.011229219563802083 - Average Accuracy:= 64.24833333333333%\n"
          ]
        },
        {
          "output_type": "stream",
          "name": "stderr",
          "text": [
            "\n",
            " 90%|█████████ | 18/20 [01:24<00:09,  4.60s/it]\u001b[A"
          ]
        },
        {
          "output_type": "stream",
          "name": "stdout",
          "text": [
            "Number of Epoch = 18 - Average CCE:= 0.010934761555989584 - Average Accuracy:= 65.23666666666666%\n"
          ]
        },
        {
          "output_type": "stream",
          "name": "stderr",
          "text": [
            "\n",
            " 95%|█████████▌| 19/20 [01:28<00:04,  4.41s/it]\u001b[A"
          ]
        },
        {
          "output_type": "stream",
          "name": "stdout",
          "text": [
            "Number of Epoch = 19 - Average CCE:= 0.010711863199869791 - Average Accuracy:= 65.90833333333333%\n"
          ]
        },
        {
          "output_type": "stream",
          "name": "stderr",
          "text": [
            "\n",
            "100%|██████████| 20/20 [01:32<00:00,  4.63s/it]"
          ]
        },
        {
          "output_type": "stream",
          "name": "stdout",
          "text": [
            "Number of Epoch = 20 - Average CCE:= 0.01051463623046875 - Average Accuracy:= 66.48666666666668%\n",
            "\n",
            "Total time taken (in seconds): 92.71\n"
          ]
        },
        {
          "output_type": "stream",
          "name": "stderr",
          "text": [
            "\n",
            " 50%|█████     | 5/10 [08:02<08:00, 96.04s/it]"
          ]
        },
        {
          "output_type": "stream",
          "name": "stdout",
          "text": [
            "Test CCE: 0.0525, Accuracy : 0.6714\n",
            "seed: 2120, Cross Entropy loss: 0.05254434814453125, Accuracy: 0.6714\n",
            "\n",
            "** Inference Iteration: 5 **\n",
            "\n",
            "#Training dropout model with seed 2717#\n"
          ]
        },
        {
          "output_type": "stream",
          "name": "stderr",
          "text": [
            "\n",
            "  0%|          | 0/20 [00:00<?, ?it/s]\u001b[A\n",
            "  5%|▌         | 1/20 [00:05<01:39,  5.22s/it]\u001b[A"
          ]
        },
        {
          "output_type": "stream",
          "name": "stdout",
          "text": [
            "Number of Epoch = 1 - Average CCE:= 0.025315814208984374 - Average Accuracy:= 19.80666666666667%\n"
          ]
        },
        {
          "output_type": "stream",
          "name": "stderr",
          "text": [
            "\n",
            " 10%|█         | 2/20 [00:09<01:21,  4.52s/it]\u001b[A"
          ]
        },
        {
          "output_type": "stream",
          "name": "stdout",
          "text": [
            "Number of Epoch = 2 - Average CCE:= 0.022070829264322918 - Average Accuracy:= 30.068333333333335%\n"
          ]
        },
        {
          "output_type": "stream",
          "name": "stderr",
          "text": [
            "\n",
            " 15%|█▌        | 3/20 [00:13<01:13,  4.32s/it]\u001b[A"
          ]
        },
        {
          "output_type": "stream",
          "name": "stdout",
          "text": [
            "Number of Epoch = 3 - Average CCE:= 0.020744830322265626 - Average Accuracy:= 34.335%\n"
          ]
        },
        {
          "output_type": "stream",
          "name": "stderr",
          "text": [
            "\n",
            " 20%|██        | 4/20 [00:17<01:07,  4.25s/it]\u001b[A"
          ]
        },
        {
          "output_type": "stream",
          "name": "stdout",
          "text": [
            "Number of Epoch = 4 - Average CCE:= 0.020192388916015627 - Average Accuracy:= 36.115%\n"
          ]
        },
        {
          "output_type": "stream",
          "name": "stderr",
          "text": [
            "\n",
            " 25%|██▌       | 5/20 [00:21<01:02,  4.14s/it]\u001b[A"
          ]
        },
        {
          "output_type": "stream",
          "name": "stdout",
          "text": [
            "Number of Epoch = 5 - Average CCE:= 0.019930369059244793 - Average Accuracy:= 36.975%\n"
          ]
        },
        {
          "output_type": "stream",
          "name": "stderr",
          "text": [
            "\n",
            " 30%|███       | 6/20 [00:26<01:03,  4.51s/it]\u001b[A"
          ]
        },
        {
          "output_type": "stream",
          "name": "stdout",
          "text": [
            "Number of Epoch = 6 - Average CCE:= 0.019705438232421876 - Average Accuracy:= 37.69833333333333%\n"
          ]
        },
        {
          "output_type": "stream",
          "name": "stderr",
          "text": [
            "\n",
            " 35%|███▌      | 7/20 [00:31<01:01,  4.76s/it]\u001b[A"
          ]
        },
        {
          "output_type": "stream",
          "name": "stdout",
          "text": [
            "Number of Epoch = 7 - Average CCE:= 0.01935401407877604 - Average Accuracy:= 38.763333333333335%\n"
          ]
        },
        {
          "output_type": "stream",
          "name": "stderr",
          "text": [
            "\n",
            " 40%|████      | 8/20 [00:35<00:54,  4.52s/it]\u001b[A"
          ]
        },
        {
          "output_type": "stream",
          "name": "stdout",
          "text": [
            "Number of Epoch = 8 - Average CCE:= 0.018174249267578126 - Average Accuracy:= 42.43%\n"
          ]
        },
        {
          "output_type": "stream",
          "name": "stderr",
          "text": [
            "\n",
            " 45%|████▌     | 9/20 [00:39<00:48,  4.37s/it]\u001b[A"
          ]
        },
        {
          "output_type": "stream",
          "name": "stdout",
          "text": [
            "Number of Epoch = 9 - Average CCE:= 0.017038809204101564 - Average Accuracy:= 45.93833333333333%\n"
          ]
        },
        {
          "output_type": "stream",
          "name": "stderr",
          "text": [
            "\n",
            " 50%|█████     | 10/20 [00:45<00:46,  4.63s/it]\u001b[A"
          ]
        },
        {
          "output_type": "stream",
          "name": "stdout",
          "text": [
            "Number of Epoch = 10 - Average CCE:= 0.0163796875 - Average Accuracy:= 48.03666666666667%\n"
          ]
        },
        {
          "output_type": "stream",
          "name": "stderr",
          "text": [
            "\n",
            " 55%|█████▌    | 11/20 [00:49<00:40,  4.47s/it]\u001b[A"
          ]
        },
        {
          "output_type": "stream",
          "name": "stdout",
          "text": [
            "Number of Epoch = 11 - Average CCE:= 0.015924289957682292 - Average Accuracy:= 49.52166666666667%\n"
          ]
        },
        {
          "output_type": "stream",
          "name": "stderr",
          "text": [
            "\n",
            " 60%|██████    | 12/20 [00:54<00:37,  4.70s/it]\u001b[A"
          ]
        },
        {
          "output_type": "stream",
          "name": "stdout",
          "text": [
            "Number of Epoch = 12 - Average CCE:= 0.01574994405110677 - Average Accuracy:= 50.13666666666666%\n"
          ]
        },
        {
          "output_type": "stream",
          "name": "stderr",
          "text": [
            "\n",
            " 65%|██████▌   | 13/20 [00:59<00:33,  4.73s/it]\u001b[A"
          ]
        },
        {
          "output_type": "stream",
          "name": "stdout",
          "text": [
            "Number of Epoch = 13 - Average CCE:= 0.015534657796223959 - Average Accuracy:= 50.806666666666665%\n"
          ]
        },
        {
          "output_type": "stream",
          "name": "stderr",
          "text": [
            "\n",
            " 70%|███████   | 14/20 [01:04<00:29,  4.89s/it]\u001b[A"
          ]
        },
        {
          "output_type": "stream",
          "name": "stdout",
          "text": [
            "Number of Epoch = 14 - Average CCE:= 0.015360788981119792 - Average Accuracy:= 51.26500000000001%\n"
          ]
        },
        {
          "output_type": "stream",
          "name": "stderr",
          "text": [
            "\n",
            " 75%|███████▌  | 15/20 [01:09<00:24,  4.99s/it]\u001b[A"
          ]
        },
        {
          "output_type": "stream",
          "name": "stdout",
          "text": [
            "Number of Epoch = 15 - Average CCE:= 0.015221018473307292 - Average Accuracy:= 51.78333333333334%\n"
          ]
        },
        {
          "output_type": "stream",
          "name": "stderr",
          "text": [
            "\n",
            " 80%|████████  | 16/20 [01:15<00:20,  5.06s/it]\u001b[A"
          ]
        },
        {
          "output_type": "stream",
          "name": "stdout",
          "text": [
            "Number of Epoch = 16 - Average CCE:= 0.015146506754557292 - Average Accuracy:= 52.03666666666666%\n"
          ]
        },
        {
          "output_type": "stream",
          "name": "stderr",
          "text": [
            "\n",
            " 85%|████████▌ | 17/20 [01:20<00:15,  5.11s/it]\u001b[A"
          ]
        },
        {
          "output_type": "stream",
          "name": "stdout",
          "text": [
            "Number of Epoch = 17 - Average CCE:= 0.014999744669596355 - Average Accuracy:= 52.515%\n"
          ]
        },
        {
          "output_type": "stream",
          "name": "stderr",
          "text": [
            "\n",
            " 90%|█████████ | 18/20 [01:24<00:09,  4.77s/it]\u001b[A"
          ]
        },
        {
          "output_type": "stream",
          "name": "stdout",
          "text": [
            "Number of Epoch = 18 - Average CCE:= 0.014545472208658854 - Average Accuracy:= 53.845%\n"
          ]
        },
        {
          "output_type": "stream",
          "name": "stderr",
          "text": [
            "\n",
            " 95%|█████████▌| 19/20 [01:29<00:04,  4.91s/it]\u001b[A"
          ]
        },
        {
          "output_type": "stream",
          "name": "stdout",
          "text": [
            "Number of Epoch = 19 - Average CCE:= 0.013992293294270833 - Average Accuracy:= 55.57%\n"
          ]
        },
        {
          "output_type": "stream",
          "name": "stderr",
          "text": [
            "\n",
            "100%|██████████| 20/20 [01:34<00:00,  4.74s/it]"
          ]
        },
        {
          "output_type": "stream",
          "name": "stdout",
          "text": [
            "Number of Epoch = 20 - Average CCE:= 0.013457975260416666 - Average Accuracy:= 57.30333333333333%\n",
            "\n",
            "Total time taken (in seconds): 94.75\n"
          ]
        },
        {
          "output_type": "stream",
          "name": "stderr",
          "text": [
            "\n",
            " 60%|██████    | 6/10 [09:37<06:23, 95.85s/it]"
          ]
        },
        {
          "output_type": "stream",
          "name": "stdout",
          "text": [
            "Test CCE: 0.0676, Accuracy : 0.5779\n",
            "seed: 2717, Cross Entropy loss: 0.06762960205078125, Accuracy: 0.5779\n",
            "\n",
            "** Inference Iteration: 6 **\n",
            "\n",
            "#Training dropout model with seed 3823#\n"
          ]
        },
        {
          "output_type": "stream",
          "name": "stderr",
          "text": [
            "\n",
            "  0%|          | 0/20 [00:00<?, ?it/s]\u001b[A\n",
            "  5%|▌         | 1/20 [00:03<01:15,  4.00s/it]\u001b[A"
          ]
        },
        {
          "output_type": "stream",
          "name": "stdout",
          "text": [
            "Number of Epoch = 1 - Average CCE:= 0.025606223551432293 - Average Accuracy:= 18.881666666666668%\n"
          ]
        },
        {
          "output_type": "stream",
          "name": "stderr",
          "text": [
            "\n",
            " 10%|█         | 2/20 [00:09<01:24,  4.72s/it]\u001b[A"
          ]
        },
        {
          "output_type": "stream",
          "name": "stdout",
          "text": [
            "Number of Epoch = 2 - Average CCE:= 0.020479361979166666 - Average Accuracy:= 34.88166666666667%\n"
          ]
        },
        {
          "output_type": "stream",
          "name": "stderr",
          "text": [
            "\n",
            " 15%|█▌        | 3/20 [00:14<01:24,  4.95s/it]\u001b[A"
          ]
        },
        {
          "output_type": "stream",
          "name": "stdout",
          "text": [
            "Number of Epoch = 3 - Average CCE:= 0.017859332275390626 - Average Accuracy:= 43.29333333333334%\n"
          ]
        },
        {
          "output_type": "stream",
          "name": "stderr",
          "text": [
            "\n",
            " 20%|██        | 4/20 [00:19<01:20,  5.06s/it]\u001b[A"
          ]
        },
        {
          "output_type": "stream",
          "name": "stdout",
          "text": [
            "Number of Epoch = 4 - Average CCE:= 0.016223876953125 - Average Accuracy:= 48.45666666666666%\n"
          ]
        },
        {
          "output_type": "stream",
          "name": "stderr",
          "text": [
            "\n",
            " 25%|██▌       | 5/20 [00:24<01:16,  5.12s/it]\u001b[A"
          ]
        },
        {
          "output_type": "stream",
          "name": "stdout",
          "text": [
            "Number of Epoch = 5 - Average CCE:= 0.015004312133789062 - Average Accuracy:= 52.31%\n"
          ]
        },
        {
          "output_type": "stream",
          "name": "stderr",
          "text": [
            "\n",
            " 30%|███       | 6/20 [00:30<01:12,  5.18s/it]\u001b[A"
          ]
        },
        {
          "output_type": "stream",
          "name": "stdout",
          "text": [
            "Number of Epoch = 6 - Average CCE:= 0.014226675415039063 - Average Accuracy:= 54.745%\n"
          ]
        },
        {
          "output_type": "stream",
          "name": "stderr",
          "text": [
            "\n",
            " 35%|███▌      | 7/20 [00:34<01:01,  4.77s/it]\u001b[A"
          ]
        },
        {
          "output_type": "stream",
          "name": "stdout",
          "text": [
            "Number of Epoch = 7 - Average CCE:= 0.013577913411458333 - Average Accuracy:= 56.77333333333333%\n"
          ]
        },
        {
          "output_type": "stream",
          "name": "stderr",
          "text": [
            "\n",
            " 40%|████      | 8/20 [00:39<00:59,  4.92s/it]\u001b[A"
          ]
        },
        {
          "output_type": "stream",
          "name": "stdout",
          "text": [
            "Number of Epoch = 8 - Average CCE:= 0.012854093424479166 - Average Accuracy:= 59.050000000000004%\n"
          ]
        },
        {
          "output_type": "stream",
          "name": "stderr",
          "text": [
            "\n",
            " 45%|████▌     | 9/20 [00:44<00:55,  5.02s/it]\u001b[A"
          ]
        },
        {
          "output_type": "stream",
          "name": "stdout",
          "text": [
            "Number of Epoch = 9 - Average CCE:= 0.012282778930664063 - Average Accuracy:= 60.873333333333335%\n"
          ]
        },
        {
          "output_type": "stream",
          "name": "stderr",
          "text": [
            "\n",
            " 50%|█████     | 10/20 [00:48<00:46,  4.69s/it]\u001b[A"
          ]
        },
        {
          "output_type": "stream",
          "name": "stdout",
          "text": [
            "Number of Epoch = 10 - Average CCE:= 0.011930190022786459 - Average Accuracy:= 62.07333333333334%\n"
          ]
        },
        {
          "output_type": "stream",
          "name": "stderr",
          "text": [
            "\n",
            " 55%|█████▌    | 11/20 [00:53<00:43,  4.85s/it]\u001b[A"
          ]
        },
        {
          "output_type": "stream",
          "name": "stdout",
          "text": [
            "Number of Epoch = 11 - Average CCE:= 0.011455980428059896 - Average Accuracy:= 63.51166666666666%\n"
          ]
        },
        {
          "output_type": "stream",
          "name": "stderr",
          "text": [
            "\n",
            " 60%|██████    | 12/20 [00:59<00:39,  4.97s/it]\u001b[A"
          ]
        },
        {
          "output_type": "stream",
          "name": "stdout",
          "text": [
            "Number of Epoch = 12 - Average CCE:= 0.011167613728841145 - Average Accuracy:= 64.45833333333333%\n"
          ]
        },
        {
          "output_type": "stream",
          "name": "stderr",
          "text": [
            "\n",
            " 65%|██████▌   | 13/20 [01:04<00:35,  5.05s/it]\u001b[A"
          ]
        },
        {
          "output_type": "stream",
          "name": "stdout",
          "text": [
            "Number of Epoch = 13 - Average CCE:= 0.010899652099609376 - Average Accuracy:= 65.32166666666667%\n"
          ]
        },
        {
          "output_type": "stream",
          "name": "stderr",
          "text": [
            "\n",
            " 70%|███████   | 14/20 [01:08<00:28,  4.79s/it]\u001b[A"
          ]
        },
        {
          "output_type": "stream",
          "name": "stdout",
          "text": [
            "Number of Epoch = 14 - Average CCE:= 0.010640920003255208 - Average Accuracy:= 66.07166666666666%\n"
          ]
        },
        {
          "output_type": "stream",
          "name": "stderr",
          "text": [
            "\n",
            " 75%|███████▌  | 15/20 [01:13<00:24,  4.93s/it]\u001b[A"
          ]
        },
        {
          "output_type": "stream",
          "name": "stdout",
          "text": [
            "Number of Epoch = 15 - Average CCE:= 0.009894033813476562 - Average Accuracy:= 68.33500000000001%\n"
          ]
        },
        {
          "output_type": "stream",
          "name": "stderr",
          "text": [
            "\n",
            " 80%|████████  | 16/20 [01:18<00:20,  5.02s/it]\u001b[A"
          ]
        },
        {
          "output_type": "stream",
          "name": "stdout",
          "text": [
            "Number of Epoch = 16 - Average CCE:= 0.009306245930989583 - Average Accuracy:= 70.23%\n"
          ]
        },
        {
          "output_type": "stream",
          "name": "stderr",
          "text": [
            "\n",
            " 85%|████████▌ | 17/20 [01:24<00:15,  5.10s/it]\u001b[A"
          ]
        },
        {
          "output_type": "stream",
          "name": "stdout",
          "text": [
            "Number of Epoch = 17 - Average CCE:= 0.008953752644856771 - Average Accuracy:= 71.31166666666667%\n"
          ]
        },
        {
          "output_type": "stream",
          "name": "stderr",
          "text": [
            "\n",
            " 90%|█████████ | 18/20 [01:29<00:10,  5.16s/it]\u001b[A"
          ]
        },
        {
          "output_type": "stream",
          "name": "stdout",
          "text": [
            "Number of Epoch = 18 - Average CCE:= 0.008647983805338542 - Average Accuracy:= 72.27166666666666%\n"
          ]
        },
        {
          "output_type": "stream",
          "name": "stderr",
          "text": [
            "\n",
            " 95%|█████████▌| 19/20 [01:33<00:04,  4.80s/it]\u001b[A"
          ]
        },
        {
          "output_type": "stream",
          "name": "stdout",
          "text": [
            "Number of Epoch = 19 - Average CCE:= 0.008321122233072917 - Average Accuracy:= 73.36166666666666%\n"
          ]
        },
        {
          "output_type": "stream",
          "name": "stderr",
          "text": [
            "\n",
            "100%|██████████| 20/20 [01:37<00:00,  4.87s/it]"
          ]
        },
        {
          "output_type": "stream",
          "name": "stdout",
          "text": [
            "Number of Epoch = 20 - Average CCE:= 0.008080164591471354 - Average Accuracy:= 74.15666666666667%\n",
            "\n",
            "Total time taken (in seconds): 97.39\n"
          ]
        },
        {
          "output_type": "stream",
          "name": "stderr",
          "text": [
            "\n",
            " 70%|███████   | 7/10 [11:15<04:49, 96.56s/it]"
          ]
        },
        {
          "output_type": "stream",
          "name": "stdout",
          "text": [
            "Test CCE: 0.0394, Accuracy : 0.7522\n",
            "seed: 3823, Cross Entropy loss: 0.03944203796386719, Accuracy: 0.7522\n",
            "\n",
            "** Inference Iteration: 7 **\n",
            "\n",
            "#Training dropout model with seed 2690#\n"
          ]
        },
        {
          "output_type": "stream",
          "name": "stderr",
          "text": [
            "\n",
            "  0%|          | 0/20 [00:00<?, ?it/s]\u001b[A\n",
            "  5%|▌         | 1/20 [00:05<01:39,  5.23s/it]\u001b[A"
          ]
        },
        {
          "output_type": "stream",
          "name": "stdout",
          "text": [
            "Number of Epoch = 1 - Average CCE:= 0.027302382405598957 - Average Accuracy:= 13.483333333333333%\n"
          ]
        },
        {
          "output_type": "stream",
          "name": "stderr",
          "text": [
            "\n",
            " 10%|█         | 2/20 [00:09<01:21,  4.50s/it]\u001b[A"
          ]
        },
        {
          "output_type": "stream",
          "name": "stdout",
          "text": [
            "Number of Epoch = 2 - Average CCE:= 0.02278672892252604 - Average Accuracy:= 27.631666666666664%\n"
          ]
        },
        {
          "output_type": "stream",
          "name": "stderr",
          "text": [
            "\n",
            " 15%|█▌        | 3/20 [00:13<01:12,  4.26s/it]\u001b[A"
          ]
        },
        {
          "output_type": "stream",
          "name": "stdout",
          "text": [
            "Number of Epoch = 3 - Average CCE:= 0.019641119384765624 - Average Accuracy:= 37.68%\n"
          ]
        },
        {
          "output_type": "stream",
          "name": "stderr",
          "text": [
            "\n",
            " 20%|██        | 4/20 [00:18<01:14,  4.65s/it]\u001b[A"
          ]
        },
        {
          "output_type": "stream",
          "name": "stdout",
          "text": [
            "Number of Epoch = 4 - Average CCE:= 0.017972629801432292 - Average Accuracy:= 42.93833333333333%\n"
          ]
        },
        {
          "output_type": "stream",
          "name": "stderr",
          "text": [
            "\n",
            " 25%|██▌       | 5/20 [00:22<01:06,  4.41s/it]\u001b[A"
          ]
        },
        {
          "output_type": "stream",
          "name": "stdout",
          "text": [
            "Number of Epoch = 5 - Average CCE:= 0.017214497884114582 - Average Accuracy:= 45.39833333333333%\n"
          ]
        },
        {
          "output_type": "stream",
          "name": "stderr",
          "text": [
            "\n",
            " 30%|███       | 6/20 [00:26<00:59,  4.27s/it]\u001b[A"
          ]
        },
        {
          "output_type": "stream",
          "name": "stdout",
          "text": [
            "Number of Epoch = 6 - Average CCE:= 0.01672402852376302 - Average Accuracy:= 46.96%\n"
          ]
        },
        {
          "output_type": "stream",
          "name": "stderr",
          "text": [
            "\n",
            " 35%|███▌      | 7/20 [00:31<00:59,  4.59s/it]\u001b[A"
          ]
        },
        {
          "output_type": "stream",
          "name": "stdout",
          "text": [
            "Number of Epoch = 7 - Average CCE:= 0.016289891560872394 - Average Accuracy:= 48.33833333333333%\n"
          ]
        },
        {
          "output_type": "stream",
          "name": "stderr",
          "text": [
            "\n",
            " 40%|████      | 8/20 [00:36<00:57,  4.79s/it]\u001b[A"
          ]
        },
        {
          "output_type": "stream",
          "name": "stdout",
          "text": [
            "Number of Epoch = 8 - Average CCE:= 0.01605511271158854 - Average Accuracy:= 49.14833333333333%\n"
          ]
        },
        {
          "output_type": "stream",
          "name": "stderr",
          "text": [
            "\n",
            " 45%|████▌     | 9/20 [00:42<00:54,  4.93s/it]\u001b[A"
          ]
        },
        {
          "output_type": "stream",
          "name": "stdout",
          "text": [
            "Number of Epoch = 9 - Average CCE:= 0.015829206339518228 - Average Accuracy:= 49.88%\n"
          ]
        },
        {
          "output_type": "stream",
          "name": "stderr",
          "text": [
            "\n",
            " 50%|█████     | 10/20 [00:46<00:46,  4.61s/it]\u001b[A"
          ]
        },
        {
          "output_type": "stream",
          "name": "stdout",
          "text": [
            "Number of Epoch = 10 - Average CCE:= 0.015533622233072917 - Average Accuracy:= 50.68166666666667%\n"
          ]
        },
        {
          "output_type": "stream",
          "name": "stderr",
          "text": [
            "\n",
            " 55%|█████▌    | 11/20 [00:51<00:43,  4.80s/it]\u001b[A"
          ]
        },
        {
          "output_type": "stream",
          "name": "stdout",
          "text": [
            "Number of Epoch = 11 - Average CCE:= 0.014932177734375 - Average Accuracy:= 52.49333333333334%\n"
          ]
        },
        {
          "output_type": "stream",
          "name": "stderr",
          "text": [
            "\n",
            " 60%|██████    | 12/20 [00:56<00:39,  4.93s/it]\u001b[A"
          ]
        },
        {
          "output_type": "stream",
          "name": "stdout",
          "text": [
            "Number of Epoch = 12 - Average CCE:= 0.013006531778971354 - Average Accuracy:= 58.60166666666666%\n"
          ]
        },
        {
          "output_type": "stream",
          "name": "stderr",
          "text": [
            "\n",
            " 65%|██████▌   | 13/20 [01:00<00:33,  4.72s/it]\u001b[A"
          ]
        },
        {
          "output_type": "stream",
          "name": "stdout",
          "text": [
            "Number of Epoch = 13 - Average CCE:= 0.01191135965983073 - Average Accuracy:= 62.07833333333333%\n"
          ]
        },
        {
          "output_type": "stream",
          "name": "stderr",
          "text": [
            "\n",
            " 70%|███████   | 14/20 [01:04<00:27,  4.54s/it]\u001b[A"
          ]
        },
        {
          "output_type": "stream",
          "name": "stdout",
          "text": [
            "Number of Epoch = 14 - Average CCE:= 0.011048977661132813 - Average Accuracy:= 64.74333333333333%\n"
          ]
        },
        {
          "output_type": "stream",
          "name": "stderr",
          "text": [
            "\n",
            " 75%|███████▌  | 15/20 [01:08<00:21,  4.38s/it]\u001b[A"
          ]
        },
        {
          "output_type": "stream",
          "name": "stdout",
          "text": [
            "Number of Epoch = 15 - Average CCE:= 0.009744210815429687 - Average Accuracy:= 68.83166666666666%\n"
          ]
        },
        {
          "output_type": "stream",
          "name": "stderr",
          "text": [
            "\n",
            " 80%|████████  | 16/20 [01:12<00:17,  4.27s/it]\u001b[A"
          ]
        },
        {
          "output_type": "stream",
          "name": "stdout",
          "text": [
            "Number of Epoch = 16 - Average CCE:= 0.00906053466796875 - Average Accuracy:= 70.975%\n"
          ]
        },
        {
          "output_type": "stream",
          "name": "stderr",
          "text": [
            "\n",
            " 85%|████████▌ | 17/20 [01:16<00:12,  4.20s/it]\u001b[A"
          ]
        },
        {
          "output_type": "stream",
          "name": "stdout",
          "text": [
            "Number of Epoch = 17 - Average CCE:= 0.008529797871907552 - Average Accuracy:= 72.71%\n"
          ]
        },
        {
          "output_type": "stream",
          "name": "stderr",
          "text": [
            "\n",
            " 90%|█████████ | 18/20 [01:22<00:09,  4.51s/it]\u001b[A"
          ]
        },
        {
          "output_type": "stream",
          "name": "stdout",
          "text": [
            "Number of Epoch = 18 - Average CCE:= 0.008350244649251302 - Average Accuracy:= 73.345%\n"
          ]
        },
        {
          "output_type": "stream",
          "name": "stderr",
          "text": [
            "\n",
            " 95%|█████████▌| 19/20 [01:26<00:04,  4.41s/it]\u001b[A"
          ]
        },
        {
          "output_type": "stream",
          "name": "stdout",
          "text": [
            "Number of Epoch = 19 - Average CCE:= 0.007989200846354167 - Average Accuracy:= 74.48833333333333%\n"
          ]
        },
        {
          "output_type": "stream",
          "name": "stderr",
          "text": [
            "\n",
            "100%|██████████| 20/20 [01:30<00:00,  4.52s/it]"
          ]
        },
        {
          "output_type": "stream",
          "name": "stdout",
          "text": [
            "Number of Epoch = 20 - Average CCE:= 0.00783141123453776 - Average Accuracy:= 74.98666666666666%\n",
            "\n",
            "Total time taken (in seconds): 90.42\n"
          ]
        },
        {
          "output_type": "stream",
          "name": "stderr",
          "text": [
            "\n",
            " 80%|████████  | 8/10 [12:46<03:09, 94.79s/it]"
          ]
        },
        {
          "output_type": "stream",
          "name": "stdout",
          "text": [
            "Test CCE: 0.0392, Accuracy : 0.7548\n",
            "seed: 2690, Cross Entropy loss: 0.03917510681152344, Accuracy: 0.7548\n",
            "\n",
            "** Inference Iteration: 8 **\n",
            "\n",
            "#Training dropout model with seed 3371#\n"
          ]
        },
        {
          "output_type": "stream",
          "name": "stderr",
          "text": [
            "\n",
            "  0%|          | 0/20 [00:00<?, ?it/s]\u001b[A\n",
            "  5%|▌         | 1/20 [00:05<01:39,  5.22s/it]\u001b[A"
          ]
        },
        {
          "output_type": "stream",
          "name": "stdout",
          "text": [
            "Number of Epoch = 1 - Average CCE:= 0.02614116007486979 - Average Accuracy:= 17.133333333333333%\n"
          ]
        },
        {
          "output_type": "stream",
          "name": "stderr",
          "text": [
            "\n",
            " 10%|█         | 2/20 [00:09<01:20,  4.46s/it]\u001b[A"
          ]
        },
        {
          "output_type": "stream",
          "name": "stdout",
          "text": [
            "Number of Epoch = 2 - Average CCE:= 0.02243338419596354 - Average Accuracy:= 28.87666666666667%\n"
          ]
        },
        {
          "output_type": "stream",
          "name": "stderr",
          "text": [
            "\n",
            " 15%|█▌        | 3/20 [00:13<01:12,  4.26s/it]\u001b[A"
          ]
        },
        {
          "output_type": "stream",
          "name": "stdout",
          "text": [
            "Number of Epoch = 3 - Average CCE:= 0.019500689697265625 - Average Accuracy:= 38.20166666666667%\n"
          ]
        },
        {
          "output_type": "stream",
          "name": "stderr",
          "text": [
            "\n",
            " 20%|██        | 4/20 [00:18<01:14,  4.64s/it]\u001b[A"
          ]
        },
        {
          "output_type": "stream",
          "name": "stdout",
          "text": [
            "Number of Epoch = 4 - Average CCE:= 0.01830227254231771 - Average Accuracy:= 42.05%\n"
          ]
        },
        {
          "output_type": "stream",
          "name": "stderr",
          "text": [
            "\n",
            " 25%|██▌       | 5/20 [00:23<01:13,  4.87s/it]\u001b[A"
          ]
        },
        {
          "output_type": "stream",
          "name": "stdout",
          "text": [
            "Number of Epoch = 5 - Average CCE:= 0.017142946370442707 - Average Accuracy:= 45.60166666666667%\n"
          ]
        },
        {
          "output_type": "stream",
          "name": "stderr",
          "text": [
            "\n",
            " 30%|███       | 6/20 [00:27<01:03,  4.56s/it]\u001b[A"
          ]
        },
        {
          "output_type": "stream",
          "name": "stdout",
          "text": [
            "Number of Epoch = 6 - Average CCE:= 0.01609761962890625 - Average Accuracy:= 48.92666666666667%\n"
          ]
        },
        {
          "output_type": "stream",
          "name": "stderr",
          "text": [
            "\n",
            " 35%|███▌      | 7/20 [00:32<01:02,  4.78s/it]\u001b[A"
          ]
        },
        {
          "output_type": "stream",
          "name": "stdout",
          "text": [
            "Number of Epoch = 7 - Average CCE:= 0.015476969401041667 - Average Accuracy:= 50.998333333333335%\n"
          ]
        },
        {
          "output_type": "stream",
          "name": "stderr",
          "text": [
            "\n",
            " 40%|████      | 8/20 [00:36<00:54,  4.56s/it]\u001b[A"
          ]
        },
        {
          "output_type": "stream",
          "name": "stdout",
          "text": [
            "Number of Epoch = 8 - Average CCE:= 0.015165069580078124 - Average Accuracy:= 51.92166666666667%\n"
          ]
        },
        {
          "output_type": "stream",
          "name": "stderr",
          "text": [
            "\n",
            " 45%|████▌     | 9/20 [00:42<00:52,  4.77s/it]\u001b[A"
          ]
        },
        {
          "output_type": "stream",
          "name": "stdout",
          "text": [
            "Number of Epoch = 9 - Average CCE:= 0.01500090840657552 - Average Accuracy:= 52.459999999999994%\n"
          ]
        },
        {
          "output_type": "stream",
          "name": "stderr",
          "text": [
            "\n",
            " 50%|█████     | 10/20 [00:47<00:49,  4.92s/it]\u001b[A"
          ]
        },
        {
          "output_type": "stream",
          "name": "stdout",
          "text": [
            "Number of Epoch = 10 - Average CCE:= 0.014772821044921875 - Average Accuracy:= 53.223333333333336%\n"
          ]
        },
        {
          "output_type": "stream",
          "name": "stderr",
          "text": [
            "\n",
            " 55%|█████▌    | 11/20 [00:51<00:42,  4.67s/it]\u001b[A"
          ]
        },
        {
          "output_type": "stream",
          "name": "stdout",
          "text": [
            "Number of Epoch = 11 - Average CCE:= 0.01456832275390625 - Average Accuracy:= 53.82333333333334%\n"
          ]
        },
        {
          "output_type": "stream",
          "name": "stderr",
          "text": [
            "\n",
            " 60%|██████    | 12/20 [00:56<00:38,  4.84s/it]\u001b[A"
          ]
        },
        {
          "output_type": "stream",
          "name": "stdout",
          "text": [
            "Number of Epoch = 12 - Average CCE:= 0.014412005615234374 - Average Accuracy:= 54.32833333333333%\n"
          ]
        },
        {
          "output_type": "stream",
          "name": "stderr",
          "text": [
            "\n",
            " 65%|██████▌   | 13/20 [01:02<00:34,  4.96s/it]\u001b[A"
          ]
        },
        {
          "output_type": "stream",
          "name": "stdout",
          "text": [
            "Number of Epoch = 13 - Average CCE:= 0.014409140014648438 - Average Accuracy:= 54.376666666666665%\n"
          ]
        },
        {
          "output_type": "stream",
          "name": "stderr",
          "text": [
            "\n",
            " 70%|███████   | 14/20 [01:07<00:30,  5.04s/it]\u001b[A"
          ]
        },
        {
          "output_type": "stream",
          "name": "stdout",
          "text": [
            "Number of Epoch = 14 - Average CCE:= 0.014295793660481771 - Average Accuracy:= 54.730000000000004%\n"
          ]
        },
        {
          "output_type": "stream",
          "name": "stderr",
          "text": [
            "\n",
            " 75%|███████▌  | 15/20 [01:12<00:25,  5.10s/it]\u001b[A"
          ]
        },
        {
          "output_type": "stream",
          "name": "stdout",
          "text": [
            "Number of Epoch = 15 - Average CCE:= 0.014155356852213542 - Average Accuracy:= 55.22833333333333%\n"
          ]
        },
        {
          "output_type": "stream",
          "name": "stderr",
          "text": [
            "\n",
            " 80%|████████  | 16/20 [01:17<00:20,  5.14s/it]\u001b[A"
          ]
        },
        {
          "output_type": "stream",
          "name": "stdout",
          "text": [
            "Number of Epoch = 16 - Average CCE:= 0.014112814331054687 - Average Accuracy:= 55.35333333333333%\n"
          ]
        },
        {
          "output_type": "stream",
          "name": "stderr",
          "text": [
            "\n",
            " 85%|████████▌ | 17/20 [01:21<00:14,  4.78s/it]\u001b[A"
          ]
        },
        {
          "output_type": "stream",
          "name": "stdout",
          "text": [
            "Number of Epoch = 17 - Average CCE:= 0.013908389282226562 - Average Accuracy:= 56.015%\n"
          ]
        },
        {
          "output_type": "stream",
          "name": "stderr",
          "text": [
            "\n",
            " 90%|█████████ | 18/20 [01:25<00:09,  4.52s/it]\u001b[A"
          ]
        },
        {
          "output_type": "stream",
          "name": "stdout",
          "text": [
            "Number of Epoch = 18 - Average CCE:= 0.013487808227539063 - Average Accuracy:= 57.24666666666667%\n"
          ]
        },
        {
          "output_type": "stream",
          "name": "stderr",
          "text": [
            "\n",
            " 95%|█████████▌| 19/20 [01:29<00:04,  4.36s/it]\u001b[A"
          ]
        },
        {
          "output_type": "stream",
          "name": "stdout",
          "text": [
            "Number of Epoch = 19 - Average CCE:= 0.013171563720703125 - Average Accuracy:= 58.245000000000005%\n"
          ]
        },
        {
          "output_type": "stream",
          "name": "stderr",
          "text": [
            "\n",
            "100%|██████████| 20/20 [01:33<00:00,  4.68s/it]"
          ]
        },
        {
          "output_type": "stream",
          "name": "stdout",
          "text": [
            "Number of Epoch = 20 - Average CCE:= 0.012689719645182292 - Average Accuracy:= 59.74333333333334%\n",
            "\n",
            "Total time taken (in seconds): 93.65\n"
          ]
        },
        {
          "output_type": "stream",
          "name": "stderr",
          "text": [
            "\n",
            " 90%|█████████ | 9/10 [14:20<01:34, 94.65s/it]"
          ]
        },
        {
          "output_type": "stream",
          "name": "stdout",
          "text": [
            "Test CCE: 0.0636, Accuracy : 0.6031\n",
            "seed: 3371, Cross Entropy loss: 0.06364664306640624, Accuracy: 0.6031\n",
            "\n",
            "** Inference Iteration: 9 **\n",
            "\n",
            "#Training dropout model with seed 3155#\n"
          ]
        },
        {
          "output_type": "stream",
          "name": "stderr",
          "text": [
            "\n",
            "  0%|          | 0/20 [00:00<?, ?it/s]\u001b[A\n",
            "  5%|▌         | 1/20 [00:05<01:39,  5.23s/it]\u001b[A"
          ]
        },
        {
          "output_type": "stream",
          "name": "stdout",
          "text": [
            "Number of Epoch = 1 - Average CCE:= 0.026439320882161457 - Average Accuracy:= 16.259999999999998%\n"
          ]
        },
        {
          "output_type": "stream",
          "name": "stderr",
          "text": [
            "\n",
            " 10%|█         | 2/20 [00:09<01:20,  4.47s/it]\u001b[A"
          ]
        },
        {
          "output_type": "stream",
          "name": "stdout",
          "text": [
            "Number of Epoch = 2 - Average CCE:= 0.02269682413736979 - Average Accuracy:= 28.128333333333334%\n"
          ]
        },
        {
          "output_type": "stream",
          "name": "stderr",
          "text": [
            "\n",
            " 15%|█▌        | 3/20 [00:14<01:21,  4.82s/it]\u001b[A"
          ]
        },
        {
          "output_type": "stream",
          "name": "stdout",
          "text": [
            "Number of Epoch = 3 - Average CCE:= 0.020640897623697918 - Average Accuracy:= 34.65%\n"
          ]
        },
        {
          "output_type": "stream",
          "name": "stderr",
          "text": [
            "\n",
            " 20%|██        | 4/20 [00:19<01:19,  4.98s/it]\u001b[A"
          ]
        },
        {
          "output_type": "stream",
          "name": "stdout",
          "text": [
            "Number of Epoch = 4 - Average CCE:= 0.019372501627604167 - Average Accuracy:= 38.59%\n"
          ]
        },
        {
          "output_type": "stream",
          "name": "stderr",
          "text": [
            "\n",
            " 25%|██▌       | 5/20 [00:23<01:10,  4.70s/it]\u001b[A"
          ]
        },
        {
          "output_type": "stream",
          "name": "stdout",
          "text": [
            "Number of Epoch = 5 - Average CCE:= 0.01866404825846354 - Average Accuracy:= 40.87%\n"
          ]
        },
        {
          "output_type": "stream",
          "name": "stderr",
          "text": [
            "\n",
            " 30%|███       | 6/20 [00:27<01:02,  4.44s/it]\u001b[A"
          ]
        },
        {
          "output_type": "stream",
          "name": "stdout",
          "text": [
            "Number of Epoch = 6 - Average CCE:= 0.016517873128255207 - Average Accuracy:= 47.55166666666666%\n"
          ]
        },
        {
          "output_type": "stream",
          "name": "stderr",
          "text": [
            "\n",
            " 35%|███▌      | 7/20 [00:31<00:55,  4.26s/it]\u001b[A"
          ]
        },
        {
          "output_type": "stream",
          "name": "stdout",
          "text": [
            "Number of Epoch = 7 - Average CCE:= 0.014304146321614584 - Average Accuracy:= 54.47%\n"
          ]
        },
        {
          "output_type": "stream",
          "name": "stderr",
          "text": [
            "\n",
            " 40%|████      | 8/20 [00:35<00:49,  4.15s/it]\u001b[A"
          ]
        },
        {
          "output_type": "stream",
          "name": "stdout",
          "text": [
            "Number of Epoch = 8 - Average CCE:= 0.013350880940755209 - Average Accuracy:= 57.54666666666667%\n"
          ]
        },
        {
          "output_type": "stream",
          "name": "stderr",
          "text": [
            "\n",
            " 45%|████▌     | 9/20 [00:40<00:49,  4.49s/it]\u001b[A"
          ]
        },
        {
          "output_type": "stream",
          "name": "stdout",
          "text": [
            "Number of Epoch = 9 - Average CCE:= 0.01235081787109375 - Average Accuracy:= 60.61%\n"
          ]
        },
        {
          "output_type": "stream",
          "name": "stderr",
          "text": [
            "\n",
            " 50%|█████     | 10/20 [00:44<00:43,  4.38s/it]\u001b[A"
          ]
        },
        {
          "output_type": "stream",
          "name": "stdout",
          "text": [
            "Number of Epoch = 10 - Average CCE:= 0.011198183186848959 - Average Accuracy:= 64.27833333333334%\n"
          ]
        },
        {
          "output_type": "stream",
          "name": "stderr",
          "text": [
            "\n",
            " 55%|█████▌    | 11/20 [00:50<00:41,  4.64s/it]\u001b[A"
          ]
        },
        {
          "output_type": "stream",
          "name": "stdout",
          "text": [
            "Number of Epoch = 11 - Average CCE:= 0.010142982991536459 - Average Accuracy:= 67.565%\n"
          ]
        },
        {
          "output_type": "stream",
          "name": "stderr",
          "text": [
            "\n",
            " 60%|██████    | 12/20 [00:55<00:38,  4.82s/it]\u001b[A"
          ]
        },
        {
          "output_type": "stream",
          "name": "stdout",
          "text": [
            "Number of Epoch = 12 - Average CCE:= 0.009452474975585937 - Average Accuracy:= 69.74666666666667%\n"
          ]
        },
        {
          "output_type": "stream",
          "name": "stderr",
          "text": [
            "\n",
            " 65%|██████▌   | 13/20 [00:59<00:32,  4.63s/it]\u001b[A"
          ]
        },
        {
          "output_type": "stream",
          "name": "stdout",
          "text": [
            "Number of Epoch = 13 - Average CCE:= 0.008892947387695313 - Average Accuracy:= 71.555%\n"
          ]
        },
        {
          "output_type": "stream",
          "name": "stderr",
          "text": [
            "\n",
            " 70%|███████   | 14/20 [01:04<00:28,  4.81s/it]\u001b[A"
          ]
        },
        {
          "output_type": "stream",
          "name": "stdout",
          "text": [
            "Number of Epoch = 14 - Average CCE:= 0.008486944071451823 - Average Accuracy:= 72.84333333333333%\n"
          ]
        },
        {
          "output_type": "stream",
          "name": "stderr",
          "text": [
            "\n",
            " 75%|███████▌  | 15/20 [01:10<00:24,  4.95s/it]\u001b[A"
          ]
        },
        {
          "output_type": "stream",
          "name": "stdout",
          "text": [
            "Number of Epoch = 15 - Average CCE:= 0.00820228271484375 - Average Accuracy:= 73.785%\n"
          ]
        },
        {
          "output_type": "stream",
          "name": "stderr",
          "text": [
            "\n",
            " 80%|████████  | 16/20 [01:14<00:18,  4.69s/it]\u001b[A"
          ]
        },
        {
          "output_type": "stream",
          "name": "stdout",
          "text": [
            "Number of Epoch = 16 - Average CCE:= 0.00797972869873047 - Average Accuracy:= 74.49333333333334%\n"
          ]
        },
        {
          "output_type": "stream",
          "name": "stderr",
          "text": [
            "\n",
            " 85%|████████▌ | 17/20 [01:18<00:13,  4.52s/it]\u001b[A"
          ]
        },
        {
          "output_type": "stream",
          "name": "stdout",
          "text": [
            "Number of Epoch = 17 - Average CCE:= 0.007758477783203125 - Average Accuracy:= 75.165%\n"
          ]
        },
        {
          "output_type": "stream",
          "name": "stderr",
          "text": [
            "\n",
            " 90%|█████████ | 18/20 [01:23<00:09,  4.73s/it]\u001b[A"
          ]
        },
        {
          "output_type": "stream",
          "name": "stdout",
          "text": [
            "Number of Epoch = 18 - Average CCE:= 0.007626360575358073 - Average Accuracy:= 75.59833333333333%\n"
          ]
        },
        {
          "output_type": "stream",
          "name": "stderr",
          "text": [
            "\n",
            " 95%|█████████▌| 19/20 [01:28<00:04,  4.88s/it]\u001b[A"
          ]
        },
        {
          "output_type": "stream",
          "name": "stdout",
          "text": [
            "Number of Epoch = 19 - Average CCE:= 0.007450501505533854 - Average Accuracy:= 76.13666666666667%\n"
          ]
        },
        {
          "output_type": "stream",
          "name": "stderr",
          "text": [
            "\n",
            "100%|██████████| 20/20 [01:34<00:00,  4.70s/it]"
          ]
        },
        {
          "output_type": "stream",
          "name": "stdout",
          "text": [
            "Number of Epoch = 20 - Average CCE:= 0.00727490234375 - Average Accuracy:= 76.735%\n",
            "\n",
            "Total time taken (in seconds): 94.02\n"
          ]
        },
        {
          "output_type": "stream",
          "name": "stderr",
          "text": [
            "\n",
            "100%|██████████| 10/10 [15:55<00:00, 95.56s/it]"
          ]
        },
        {
          "output_type": "stream",
          "name": "stdout",
          "text": [
            "Test CCE: 0.0367, Accuracy : 0.7694\n",
            "seed: 3155, Cross Entropy loss: 0.03669295654296875, Accuracy: 0.7694\n",
            "## END: Current Model: dropout##\n",
            "Current inference results: {'default': {'cce_list': [0.0748375244140625, 0.05811812744140625, 0.08847588500976562, 0.029572921752929686, 0.061538922119140624, 0.08598414916992188, 0.07229287719726563, 0.07354020385742188, 0.08425131225585937, 0.07390631713867188], 'acc_list': [0.5342, 0.6372, 0.4499, 0.8153, 0.616, 0.465, 0.5498, 0.5418, 0.4765, 0.5408]}, 'L2': {'cce_list': [0.05077794799804688, 0.056246685791015626, 0.09849248657226563, 0.05702962646484375, 0.06205078125, 0.09080116577148438, 0.07283306884765625, 0.07203131103515625, 0.0712072998046875, 0.07413899536132812], 'acc_list': [0.6847, 0.6514, 0.3908, 0.647, 0.6157, 0.4369, 0.5493, 0.5535, 0.5597, 0.5414]}, 'dropout': {'cce_list': [0.026508352661132814, 0.05739667358398438, 0.05832355346679687, 0.039481912231445315, 0.05254434814453125, 0.06762960205078125, 0.03944203796386719, 0.03917510681152344, 0.06364664306640624, 0.03669295654296875], 'acc_list': [0.8314, 0.6419, 0.6363, 0.7524, 0.6714, 0.5779, 0.7522, 0.7548, 0.6031, 0.7694]}}\n"
          ]
        },
        {
          "output_type": "stream",
          "name": "stderr",
          "text": [
            "\n"
          ]
        }
      ]
    },
    {
      "cell_type": "code",
      "source": [
        "print (\"###### Final stats ##########\")\n",
        "print (inference_stats_dict)"
      ],
      "metadata": {
        "colab": {
          "base_uri": "https://localhost:8080/"
        },
        "id": "7PTP7KewOjSe",
        "outputId": "1e30dca5-7796-43b1-c795-07fd7ae268ce"
      },
      "execution_count": 51,
      "outputs": [
        {
          "output_type": "stream",
          "name": "stdout",
          "text": [
            "###### Final stats ##########\n",
            "{'default': {'cce_list': [0.0748375244140625, 0.05811812744140625, 0.08847588500976562, 0.029572921752929686, 0.061538922119140624, 0.08598414916992188, 0.07229287719726563, 0.07354020385742188, 0.08425131225585937, 0.07390631713867188], 'acc_list': [0.5342, 0.6372, 0.4499, 0.8153, 0.616, 0.465, 0.5498, 0.5418, 0.4765, 0.5408]}, 'L2': {'cce_list': [0.05077794799804688, 0.056246685791015626, 0.09849248657226563, 0.05702962646484375, 0.06205078125, 0.09080116577148438, 0.07283306884765625, 0.07203131103515625, 0.0712072998046875, 0.07413899536132812], 'acc_list': [0.6847, 0.6514, 0.3908, 0.647, 0.6157, 0.4369, 0.5493, 0.5535, 0.5597, 0.5414]}, 'dropout': {'cce_list': [0.026508352661132814, 0.05739667358398438, 0.05832355346679687, 0.039481912231445315, 0.05254434814453125, 0.06762960205078125, 0.03944203796386719, 0.03917510681152344, 0.06364664306640624, 0.03669295654296875], 'acc_list': [0.8314, 0.6419, 0.6363, 0.7524, 0.6714, 0.5779, 0.7522, 0.7548, 0.6031, 0.7694]}}\n"
          ]
        }
      ]
    },
    {
      "cell_type": "code",
      "source": [
        "import pandas as pd\n",
        "\n",
        "for ele in inference_stats_dict:\n",
        "  print (f\"## Model: {ele} ###\")\n",
        "  print (f\"Cross entropy loss across trials : {inference_stats_dict[ele]['cce_list']}\")\n",
        "  print (f\"Accuracy across trials : {inference_stats_dict[ele]['acc_list']}\")\n",
        "  #print (f\"Mean of errors : {np.mean(inference_stats_dict[ele]['cce_list'])}\")\n",
        "  #print (f\"Variance of errors: {np.var(inference_stats_dict[ele]['cce_list'])}\")\n",
        "\n",
        "  print()"
      ],
      "metadata": {
        "colab": {
          "base_uri": "https://localhost:8080/"
        },
        "id": "bdO3VS1Gna0R",
        "outputId": "1e7b21c5-94ae-42f0-fed0-a7a36ad9fad7"
      },
      "execution_count": 52,
      "outputs": [
        {
          "output_type": "stream",
          "name": "stdout",
          "text": [
            "## Model: default ###\n",
            "Cross entropy loss across trials : [0.0748375244140625, 0.05811812744140625, 0.08847588500976562, 0.029572921752929686, 0.061538922119140624, 0.08598414916992188, 0.07229287719726563, 0.07354020385742188, 0.08425131225585937, 0.07390631713867188]\n",
            "Accuracy across trials : [0.5342, 0.6372, 0.4499, 0.8153, 0.616, 0.465, 0.5498, 0.5418, 0.4765, 0.5408]\n",
            "\n",
            "## Model: L2 ###\n",
            "Cross entropy loss across trials : [0.05077794799804688, 0.056246685791015626, 0.09849248657226563, 0.05702962646484375, 0.06205078125, 0.09080116577148438, 0.07283306884765625, 0.07203131103515625, 0.0712072998046875, 0.07413899536132812]\n",
            "Accuracy across trials : [0.6847, 0.6514, 0.3908, 0.647, 0.6157, 0.4369, 0.5493, 0.5535, 0.5597, 0.5414]\n",
            "\n",
            "## Model: dropout ###\n",
            "Cross entropy loss across trials : [0.026508352661132814, 0.05739667358398438, 0.05832355346679687, 0.039481912231445315, 0.05254434814453125, 0.06762960205078125, 0.03944203796386719, 0.03917510681152344, 0.06364664306640624, 0.03669295654296875]\n",
            "Accuracy across trials : [0.8314, 0.6419, 0.6363, 0.7524, 0.6714, 0.5779, 0.7522, 0.7548, 0.6031, 0.7694]\n",
            "\n"
          ]
        }
      ]
    },
    {
      "cell_type": "code",
      "source": [
        "import pandas as pd\n",
        "df = pd.DataFrame()\n",
        "df[\"seed\"] = random_seeds\n",
        "df[\"default_cce\"] = inference_stats_dict[\"default\"][\"cce_list\"]\n",
        "df[\"L2_cce\"] = inference_stats_dict[\"L2\"][\"cce_list\"]\n",
        "df[\"dropout_cce\"] = inference_stats_dict[\"dropout\"][\"cce_list\"]\n",
        "\n",
        "df[\"default_acc\"] = inference_stats_dict[\"default\"][\"acc_list\"]\n",
        "df[\"L2_acc\"] = inference_stats_dict[\"L2\"][\"acc_list\"]\n",
        "df[\"dropout_acc\"] = inference_stats_dict[\"dropout\"][\"acc_list\"]"
      ],
      "metadata": {
        "id": "wlQ0OdRFqBK8"
      },
      "execution_count": 67,
      "outputs": []
    },
    {
      "cell_type": "code",
      "source": [
        "df"
      ],
      "metadata": {
        "colab": {
          "base_uri": "https://localhost:8080/",
          "height": 363
        },
        "id": "iG17RclAnoZO",
        "outputId": "92ee1a0b-a6a0-452e-daf5-4f0995285ceb"
      },
      "execution_count": 68,
      "outputs": [
        {
          "output_type": "execute_result",
          "data": {
            "text/html": [
              "\n",
              "  <div id=\"df-198759aa-00d6-468d-b1c9-4aaf06c0f686\">\n",
              "    <div class=\"colab-df-container\">\n",
              "      <div>\n",
              "<style scoped>\n",
              "    .dataframe tbody tr th:only-of-type {\n",
              "        vertical-align: middle;\n",
              "    }\n",
              "\n",
              "    .dataframe tbody tr th {\n",
              "        vertical-align: top;\n",
              "    }\n",
              "\n",
              "    .dataframe thead th {\n",
              "        text-align: right;\n",
              "    }\n",
              "</style>\n",
              "<table border=\"1\" class=\"dataframe\">\n",
              "  <thead>\n",
              "    <tr style=\"text-align: right;\">\n",
              "      <th></th>\n",
              "      <th>seed</th>\n",
              "      <th>default_cce</th>\n",
              "      <th>L2_cce</th>\n",
              "      <th>dropout_cce</th>\n",
              "      <th>default_acc</th>\n",
              "      <th>L2_acc</th>\n",
              "      <th>dropout_acc</th>\n",
              "    </tr>\n",
              "  </thead>\n",
              "  <tbody>\n",
              "    <tr>\n",
              "      <th>0</th>\n",
              "      <td>3058</td>\n",
              "      <td>0.074838</td>\n",
              "      <td>0.050778</td>\n",
              "      <td>0.026508</td>\n",
              "      <td>0.5342</td>\n",
              "      <td>0.6847</td>\n",
              "      <td>0.8314</td>\n",
              "    </tr>\n",
              "    <tr>\n",
              "      <th>1</th>\n",
              "      <td>3717</td>\n",
              "      <td>0.058118</td>\n",
              "      <td>0.056247</td>\n",
              "      <td>0.057397</td>\n",
              "      <td>0.6372</td>\n",
              "      <td>0.6514</td>\n",
              "      <td>0.6419</td>\n",
              "    </tr>\n",
              "    <tr>\n",
              "      <th>2</th>\n",
              "      <td>2781</td>\n",
              "      <td>0.088476</td>\n",
              "      <td>0.098492</td>\n",
              "      <td>0.058324</td>\n",
              "      <td>0.4499</td>\n",
              "      <td>0.3908</td>\n",
              "      <td>0.6363</td>\n",
              "    </tr>\n",
              "    <tr>\n",
              "      <th>3</th>\n",
              "      <td>2563</td>\n",
              "      <td>0.029573</td>\n",
              "      <td>0.057030</td>\n",
              "      <td>0.039482</td>\n",
              "      <td>0.8153</td>\n",
              "      <td>0.6470</td>\n",
              "      <td>0.7524</td>\n",
              "    </tr>\n",
              "    <tr>\n",
              "      <th>4</th>\n",
              "      <td>2120</td>\n",
              "      <td>0.061539</td>\n",
              "      <td>0.062051</td>\n",
              "      <td>0.052544</td>\n",
              "      <td>0.6160</td>\n",
              "      <td>0.6157</td>\n",
              "      <td>0.6714</td>\n",
              "    </tr>\n",
              "    <tr>\n",
              "      <th>5</th>\n",
              "      <td>2717</td>\n",
              "      <td>0.085984</td>\n",
              "      <td>0.090801</td>\n",
              "      <td>0.067630</td>\n",
              "      <td>0.4650</td>\n",
              "      <td>0.4369</td>\n",
              "      <td>0.5779</td>\n",
              "    </tr>\n",
              "    <tr>\n",
              "      <th>6</th>\n",
              "      <td>3823</td>\n",
              "      <td>0.072293</td>\n",
              "      <td>0.072833</td>\n",
              "      <td>0.039442</td>\n",
              "      <td>0.5498</td>\n",
              "      <td>0.5493</td>\n",
              "      <td>0.7522</td>\n",
              "    </tr>\n",
              "    <tr>\n",
              "      <th>7</th>\n",
              "      <td>2690</td>\n",
              "      <td>0.073540</td>\n",
              "      <td>0.072031</td>\n",
              "      <td>0.039175</td>\n",
              "      <td>0.5418</td>\n",
              "      <td>0.5535</td>\n",
              "      <td>0.7548</td>\n",
              "    </tr>\n",
              "    <tr>\n",
              "      <th>8</th>\n",
              "      <td>3371</td>\n",
              "      <td>0.084251</td>\n",
              "      <td>0.071207</td>\n",
              "      <td>0.063647</td>\n",
              "      <td>0.4765</td>\n",
              "      <td>0.5597</td>\n",
              "      <td>0.6031</td>\n",
              "    </tr>\n",
              "    <tr>\n",
              "      <th>9</th>\n",
              "      <td>3155</td>\n",
              "      <td>0.073906</td>\n",
              "      <td>0.074139</td>\n",
              "      <td>0.036693</td>\n",
              "      <td>0.5408</td>\n",
              "      <td>0.5414</td>\n",
              "      <td>0.7694</td>\n",
              "    </tr>\n",
              "  </tbody>\n",
              "</table>\n",
              "</div>\n",
              "      <button class=\"colab-df-convert\" onclick=\"convertToInteractive('df-198759aa-00d6-468d-b1c9-4aaf06c0f686')\"\n",
              "              title=\"Convert this dataframe to an interactive table.\"\n",
              "              style=\"display:none;\">\n",
              "        \n",
              "  <svg xmlns=\"http://www.w3.org/2000/svg\" height=\"24px\"viewBox=\"0 0 24 24\"\n",
              "       width=\"24px\">\n",
              "    <path d=\"M0 0h24v24H0V0z\" fill=\"none\"/>\n",
              "    <path d=\"M18.56 5.44l.94 2.06.94-2.06 2.06-.94-2.06-.94-.94-2.06-.94 2.06-2.06.94zm-11 1L8.5 8.5l.94-2.06 2.06-.94-2.06-.94L8.5 2.5l-.94 2.06-2.06.94zm10 10l.94 2.06.94-2.06 2.06-.94-2.06-.94-.94-2.06-.94 2.06-2.06.94z\"/><path d=\"M17.41 7.96l-1.37-1.37c-.4-.4-.92-.59-1.43-.59-.52 0-1.04.2-1.43.59L10.3 9.45l-7.72 7.72c-.78.78-.78 2.05 0 2.83L4 21.41c.39.39.9.59 1.41.59.51 0 1.02-.2 1.41-.59l7.78-7.78 2.81-2.81c.8-.78.8-2.07 0-2.86zM5.41 20L4 18.59l7.72-7.72 1.47 1.35L5.41 20z\"/>\n",
              "  </svg>\n",
              "      </button>\n",
              "      \n",
              "  <style>\n",
              "    .colab-df-container {\n",
              "      display:flex;\n",
              "      flex-wrap:wrap;\n",
              "      gap: 12px;\n",
              "    }\n",
              "\n",
              "    .colab-df-convert {\n",
              "      background-color: #E8F0FE;\n",
              "      border: none;\n",
              "      border-radius: 50%;\n",
              "      cursor: pointer;\n",
              "      display: none;\n",
              "      fill: #1967D2;\n",
              "      height: 32px;\n",
              "      padding: 0 0 0 0;\n",
              "      width: 32px;\n",
              "    }\n",
              "\n",
              "    .colab-df-convert:hover {\n",
              "      background-color: #E2EBFA;\n",
              "      box-shadow: 0px 1px 2px rgba(60, 64, 67, 0.3), 0px 1px 3px 1px rgba(60, 64, 67, 0.15);\n",
              "      fill: #174EA6;\n",
              "    }\n",
              "\n",
              "    [theme=dark] .colab-df-convert {\n",
              "      background-color: #3B4455;\n",
              "      fill: #D2E3FC;\n",
              "    }\n",
              "\n",
              "    [theme=dark] .colab-df-convert:hover {\n",
              "      background-color: #434B5C;\n",
              "      box-shadow: 0px 1px 3px 1px rgba(0, 0, 0, 0.15);\n",
              "      filter: drop-shadow(0px 1px 2px rgba(0, 0, 0, 0.3));\n",
              "      fill: #FFFFFF;\n",
              "    }\n",
              "  </style>\n",
              "\n",
              "      <script>\n",
              "        const buttonEl =\n",
              "          document.querySelector('#df-198759aa-00d6-468d-b1c9-4aaf06c0f686 button.colab-df-convert');\n",
              "        buttonEl.style.display =\n",
              "          google.colab.kernel.accessAllowed ? 'block' : 'none';\n",
              "\n",
              "        async function convertToInteractive(key) {\n",
              "          const element = document.querySelector('#df-198759aa-00d6-468d-b1c9-4aaf06c0f686');\n",
              "          const dataTable =\n",
              "            await google.colab.kernel.invokeFunction('convertToInteractive',\n",
              "                                                     [key], {});\n",
              "          if (!dataTable) return;\n",
              "\n",
              "          const docLinkHtml = 'Like what you see? Visit the ' +\n",
              "            '<a target=\"_blank\" href=https://colab.research.google.com/notebooks/data_table.ipynb>data table notebook</a>'\n",
              "            + ' to learn more about interactive tables.';\n",
              "          element.innerHTML = '';\n",
              "          dataTable['output_type'] = 'display_data';\n",
              "          await google.colab.output.renderOutput(dataTable, element);\n",
              "          const docLink = document.createElement('div');\n",
              "          docLink.innerHTML = docLinkHtml;\n",
              "          element.appendChild(docLink);\n",
              "        }\n",
              "      </script>\n",
              "    </div>\n",
              "  </div>\n",
              "  "
            ],
            "text/plain": [
              "   seed  default_cce    L2_cce  dropout_cce  default_acc  L2_acc  dropout_acc\n",
              "0  3058     0.074838  0.050778     0.026508       0.5342  0.6847       0.8314\n",
              "1  3717     0.058118  0.056247     0.057397       0.6372  0.6514       0.6419\n",
              "2  2781     0.088476  0.098492     0.058324       0.4499  0.3908       0.6363\n",
              "3  2563     0.029573  0.057030     0.039482       0.8153  0.6470       0.7524\n",
              "4  2120     0.061539  0.062051     0.052544       0.6160  0.6157       0.6714\n",
              "5  2717     0.085984  0.090801     0.067630       0.4650  0.4369       0.5779\n",
              "6  3823     0.072293  0.072833     0.039442       0.5498  0.5493       0.7522\n",
              "7  2690     0.073540  0.072031     0.039175       0.5418  0.5535       0.7548\n",
              "8  3371     0.084251  0.071207     0.063647       0.4765  0.5597       0.6031\n",
              "9  3155     0.073906  0.074139     0.036693       0.5408  0.5414       0.7694"
            ]
          },
          "metadata": {},
          "execution_count": 68
        }
      ]
    },
    {
      "cell_type": "code",
      "source": [
        "for ele in inference_stats_dict:\n",
        "  print (f\"## Model: {ele} ###\")\n",
        "  print (f\"Mean of cross entropy : {np.mean(inference_stats_dict[ele]['cce_list'])}\")\n",
        "  print (f\"Variance of cross entropy : {np.var(inference_stats_dict[ele]['cce_list'])}\")\n",
        "  print (f\"Mean of accuracies : {np.mean(inference_stats_dict[ele]['acc_list'])}\")\n",
        "  print (f\"Variance of accuracies : {np.var(inference_stats_dict[ele]['acc_list'])}\")\n",
        "  print ()"
      ],
      "metadata": {
        "colab": {
          "base_uri": "https://localhost:8080/"
        },
        "id": "PAS940FvCI_y",
        "outputId": "2fc3bfe0-e397-4df1-9e75-ea85131a830c"
      },
      "execution_count": 80,
      "outputs": [
        {
          "output_type": "stream",
          "name": "stdout",
          "text": [
            "## Model: default ###\n",
            "Mean of cross entropy : 0.07025182403564453\n",
            "Variance of cross entropy : 0.00027028857743828755\n",
            "Mean of accuracies : 0.56265\n",
            "Variance of accuracies : 0.0103792525\n",
            "\n",
            "## Model: L2 ###\n",
            "Mean of cross entropy : 0.07056093688964844\n",
            "Variance of cross entropy : 0.00020621667488921028\n",
            "Mean of accuracies : 0.5630400000000001\n",
            "Variance of accuracies : 0.0078768164\n",
            "\n",
            "## Model: dropout ###\n",
            "Mean of cross entropy : 0.04808411865234376\n",
            "Variance of cross entropy : 0.00016590076974374424\n",
            "Mean of accuracies : 0.6990799999999999\n",
            "Variance of accuracies : 0.006309677600000001\n",
            "\n"
          ]
        }
      ]
    }
  ],
  "metadata": {
    "accelerator": "GPU",
    "colab": {
      "collapsed_sections": [],
      "name": "MLP_VaibhavSingh.ipynb",
      "provenance": []
    },
    "kernelspec": {
      "display_name": "Python 3",
      "name": "python3"
    }
  },
  "nbformat": 4,
  "nbformat_minor": 0
}