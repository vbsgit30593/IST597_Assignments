{
  "cells": [
    {
      "cell_type": "markdown",
      "metadata": {
        "id": "-C4rdQxKP7UT"
      },
      "source": [
        "# IST597 :recurrent neural networks for sequence classification with TensorFlow Eager\n",
        "Thanks to @googleAI, @Keras, @madlalina @nvidia_research \n",
        "----\n",
        "\n",
        "We will be  building a RNN for sentiment analysis on IMDB movie reviews ( [stanford_imdb](https://https://ai.stanford.edu/~amaas/data/sentiment/)). \n"
      ]
    },
    {
      "cell_type": "code",
      "execution_count": 76,
      "metadata": {
        "id": "rvcyRuYbP7UV"
      },
      "outputs": [],
      "source": [
        "import tensorflow as tf\n",
        "import pandas as pd\n",
        "import pickle\n",
        "import matplotlib.pyplot as plt\n",
        "%matplotlib inline"
      ]
    },
    {
      "cell_type": "code",
      "execution_count": 77,
      "metadata": {
        "id": "ur6a2Sw5WJjM"
      },
      "outputs": [],
      "source": [
        "import sys\n",
        "sys.path.insert(1,'/content/')\n",
        "from data_utils import parse_imdb_sequence"
      ]
    },
    {
      "cell_type": "code",
      "execution_count": 78,
      "metadata": {
        "colab": {
          "base_uri": "https://localhost:8080/",
          "height": 281
        },
        "id": "CMNILJ0PP7UW",
        "outputId": "4498d940-92b7-4b62-f1d6-7438ca177f1a"
      },
      "outputs": [
        {
          "output_type": "display_data",
          "data": {
            "text/plain": [
              "<Figure size 432x288 with 1 Axes>"
            ],
            "image/png": "[encoded data removed]"
          },
          "metadata": {
            "needs_background": "light"
          }
        }
      ],
      "source": [
        "length_reviews = pickle.load(open('/content/length_reviews.pkl', 'rb'))\n",
        "pd.DataFrame(length_reviews, columns=['Length reviews']).hist(bins=100, color='blue');\n",
        "plt.grid(False);"
      ]
    },
    {
      "cell_type": "code",
      "execution_count": 79,
      "metadata": {
        "colab": {
          "base_uri": "https://localhost:8080/"
        },
        "id": "L4biG6r0mGRi",
        "outputId": "46c90069-7785-471f-b53e-3b0879122682"
      },
      "outputs": [
        {
          "output_type": "stream",
          "name": "stdout",
          "text": [
            "Drive already mounted at /content/drive; to attempt to forcibly remount, call drive.mount(\"/content/drive\", force_remount=True).\n"
          ]
        }
      ],
      "source": [
        "from google.colab import drive\n",
        "drive.mount('/content/drive')"
      ]
    },
    {
      "cell_type": "code",
      "execution_count": 80,
      "metadata": {
        "id": "V1pZ7-jlxPv8"
      },
      "outputs": [],
      "source": [
        "def get_dataset_partitions_tf(ds, ds_size, train_split=0.8, val_split=0.2,shuffle=False, shuffle_size=10000):\n",
        "    assert (train_split + val_split) == 1\n",
        "    \n",
        "    if shuffle:\n",
        "        # Specify seed to always have the same split distribution between runs\n",
        "        ds = ds.shuffle(shuffle_size, seed=5308)\n",
        "    \n",
        "    train_size = int(train_split * ds_size)\n",
        "    val_size = int(val_split * ds_size)\n",
        "    \n",
        "    train_ds = ds.take(train_size)    \n",
        "    val_ds = ds.skip(train_size).take(val_size)\n",
        "    \n",
        "    return train_ds, val_ds"
      ]
    },
    {
      "cell_type": "code",
      "execution_count": 81,
      "metadata": {
        "id": "ijVfbU9jP7UY"
      },
      "outputs": [],
      "source": [
        "import sys\n",
        "# create a val set split here\n",
        "train_dataset = tf.data.TFRecordDataset('/content/train.tfrecords')\n",
        "ds_size = len(list(train_dataset))\n",
        "\n",
        "train_dataset, validation_dataset = get_dataset_partitions_tf(train_dataset, ds_size)\n",
        "#print (list(train_dataset)[0])\n",
        "#print ((list(validation_dataset)[0]))\n",
        "train_dataset = train_dataset.map(parse_imdb_sequence).shuffle(buffer_size=10000)\n",
        "train_dataset = train_dataset.padded_batch(1024, padded_shapes=([None],[],[]))\n",
        "\n",
        "validation_dataset = validation_dataset.map(parse_imdb_sequence).shuffle(buffer_size=10000)\n",
        "validation_dataset = validation_dataset.padded_batch(1024, padded_shapes=([None],[],[]))\n",
        "#print (list(train_dataset)[-1])\n",
        "#print ((list(validation_dataset)[-1]))\n",
        "test_dataset = tf.data.TFRecordDataset('/content/test.tfrecords')\n",
        "test_dataset = test_dataset.map(parse_imdb_sequence).shuffle(buffer_size=10000)\n",
        "test_dataset = test_dataset.padded_batch(64, padded_shapes=([None],[],[]))"
      ]
    },
    {
      "cell_type": "code",
      "execution_count": 82,
      "metadata": {
        "colab": {
          "base_uri": "https://localhost:8080/"
        },
        "id": "9KklbEHey-b2",
        "outputId": "f4c68854-c13a-4738-f474-e2c58103368f"
      },
      "outputs": [
        {
          "output_type": "execute_result",
          "data": {
            "text/plain": [
              "20"
            ]
          },
          "metadata": {},
          "execution_count": 82
        }
      ],
      "source": [
        "len(list(train_dataset))"
      ]
    },
    {
      "cell_type": "code",
      "execution_count": 83,
      "metadata": {
        "id": "-0boPqdDP7UY"
      },
      "outputs": [],
      "source": [
        "# Read the word vocabulary\n",
        "word2idx = pickle.load(open('/content/word2idx.pkl', 'rb'))"
      ]
    },
    {
      "cell_type": "markdown",
      "metadata": {
        "id": "7jVOSepgP7UY"
      },
      "source": [
        "## RNN model for sequence classification, compatible with Eager API \n",
        "----\n",
        "In the cell below, you can find the class that I have created for the RNN model. The API is very similar with one I created in the previous tutorial, except that now we track the accuracy of the model instead of the loss.\n",
        "\n",
        "The idea of the network is very simple. We simply take each word in the review, select its corresponding word embedding (initialized randomly in the beginning), and pass it through the RNN cell. We then take the output of the RNN cell at the end of the sequence and pass it through a dense layer (with ReLU activation) to obtain the final predictions. \n",
        "\n",
        "Like usually, the network inherits from tf.keras.Model in order to keep track of all variables and save/restore them easily.\n",
        "\n",
        "![img](https://github.com/AnkurMali/IST597_SP21/blob/main/tutorials_graphics/rnn_imdb.png?raw=1)"
      ]
    },
    {
      "cell_type": "code",
      "execution_count": 84,
      "metadata": {
        "id": "iUoWg4BSP7UY"
      },
      "outputs": [],
      "source": [
        "from tensorflow.python.training import training\n",
        "class RNNModel(tf.keras.Model):\n",
        "    def __init__(self, embedding_size=100, cell_size=64, dense_size=128, \n",
        "                 num_classes=2, vocabulary_size=None, rnn_cell='lstm',\n",
        "                 device='cpu:0', checkpoint_directory=None, dropout = False):\n",
        "        ''' Define the parameterized layers used during forward-pass, the device\n",
        "            where you would like to run the computation on and the checkpoint\n",
        "            directory. Additionaly, you can also modify the default size of the \n",
        "            network.\n",
        "            \n",
        "            Args:\n",
        "                embedding_size: the size of the word embedding.\n",
        "                cell_size: RNN cell size.\n",
        "                dense_size: the size of the dense layer.\n",
        "                num_classes: the number of labels in the network.\n",
        "                vocabulary_size: the size of the word vocabulary.\n",
        "                rnn_cell: string, either 'lstm' or 'ugrnn'.\n",
        "                device: string, 'cpu:n' or 'gpu:n' (n can vary). Default, 'cpu:0'.\n",
        "                checkpoint_directory: the directory where you would like to save or \n",
        "                                      restore a model.\n",
        "        '''\n",
        "        super(RNNModel, self).__init__()\n",
        "        self.dropout = dropout\n",
        "        # Weights initializer function\n",
        "        w_initializer = tf.compat.v1.keras.initializers.glorot_uniform()\n",
        "    \n",
        "        # Biases initializer function\n",
        "        b_initializer = tf.zeros_initializer()\n",
        "        \n",
        "        # Initialize weights for word embeddings \n",
        "        self.embeddings = tf.keras.layers.Embedding(vocabulary_size, embedding_size, \n",
        "                                                    embeddings_initializer=w_initializer)\n",
        "        \n",
        "        # Dense layer initialization\n",
        "        self.dense_layer = tf.keras.layers.Dense(dense_size, activation=tf.nn.relu, \n",
        "                                                 kernel_initializer=w_initializer, \n",
        "                                                 bias_initializer=b_initializer)\n",
        "        \n",
        "        # Predictions layer initialization\n",
        "        self.pred_layer = tf.keras.layers.Dense(num_classes, activation=None, \n",
        "                                                kernel_initializer=w_initializer, \n",
        "                                                bias_initializer=b_initializer)\n",
        "        \n",
        "        # Basic LSTM cell\n",
        "        if rnn_cell=='lstm':\n",
        "            self.rnn_cell = tf.compat.v1.nn.rnn_cell.BasicLSTMCell(cell_size)\n",
        "        # Else RNN cell\n",
        "        else:\n",
        "            self.rnn_cell = tf.compat.v1.nn.rnn_cell.BasicRNNCell(cell_size)\n",
        "            \n",
        "        # Define the device \n",
        "        self.device = device\n",
        "        \n",
        "        # Define the checkpoint directory\n",
        "        self.checkpoint_directory = checkpoint_directory\n",
        "        \n",
        "    def predict(self, X, seq_length, is_training):\n",
        "        '''\n",
        "        Predicts the probability of each class, based on the input sample.\n",
        "\n",
        "        Args:\n",
        "            X: 2D tensor of shape (batch_size, time_steps).\n",
        "            seq_length: the length of each sequence in the batch.\n",
        "            is_training: Boolean. Either the network is predicting in\n",
        "                         training mode or not.\n",
        "        '''\n",
        "        \n",
        "        # Get the number of samples within a batch\n",
        "        num_samples = tf.shape(X)[0]\n",
        "\n",
        "        # Initialize LSTM cell state with zeros\n",
        "        state = self.rnn_cell.zero_state(num_samples, dtype=tf.float32)\n",
        "        \n",
        "        # Get the embedding of each word in the sequence\n",
        "        embedded_words = self.embeddings(X)\n",
        "\n",
        "        # Unstack the embeddings\n",
        "        unstacked_embeddings = tf.unstack(embedded_words, axis=1)\n",
        "        \n",
        "        # Iterate through each timestep and append the predictions\n",
        "        outputs = []\n",
        "        for input_step in unstacked_embeddings:\n",
        "            output, state = self.rnn_cell(input_step, state)\n",
        "            outputs.append(output)\n",
        "            \n",
        "        # Stack outputs to (batch_size, time_steps, cell_size)\n",
        "        outputs = tf.stack(outputs, axis=1)\n",
        "        \n",
        "        # Extract the output of the last time step, of each sample\n",
        "        idxs_last_output = tf.stack([tf.range(num_samples), \n",
        "                                     tf.cast(seq_length-1, tf.int32)], axis=1)\n",
        "        final_output = tf.gather_nd(outputs, idxs_last_output)\n",
        "        \n",
        "        # Add dropout for regularization\n",
        "        if self.dropout and is_training:\n",
        "          final_output = tf.nn.dropout(final_output, 0.8)\n",
        "        \n",
        "        #final_output = tf.compat.v1.layers.Dropout(final_output, rate=0.3, training=is_training)\n",
        "        \n",
        "        # Pass the last cell state through a dense layer (ReLU activation)\n",
        "        dense = self.dense_layer(final_output)\n",
        "        \n",
        "        # Compute the unnormalized log probabilities\n",
        "        logits = self.pred_layer(dense)\n",
        "        return logits\n",
        "    \n",
        "    def loss_fn(self, X, y, seq_length, is_training):\n",
        "        \"\"\" Defines the loss function used during \n",
        "            training.         \n",
        "        \"\"\"\n",
        "        preds = self.predict(X, seq_length, is_training)\n",
        "        loss = tf.nn.sparse_softmax_cross_entropy_with_logits(labels=y, logits=preds)\n",
        "        return loss\n",
        "    \n",
        "    def grads_fn(self, X, y, seq_length, is_training):\n",
        "        \"\"\" Dynamically computes the gradients of the loss value\n",
        "            with respect to the parameters of the model, in each\n",
        "            forward pass.\n",
        "        \"\"\"\n",
        "        with tf.GradientTape() as tape:\n",
        "            loss = self.loss_fn(X, y, seq_length, is_training)\n",
        "        return tape.gradient(loss, self.variables)\n",
        "    \n",
        "    def restore_model(self):\n",
        "        \"\"\" Function to restore trained model.\n",
        "        \"\"\"\n",
        "        with tf.device(self.device):\n",
        "            # Run the model once to initialize variables\n",
        "            dummy_input = tf.constant(tf.zeros((1,1)))\n",
        "            dummy_length = tf.constant(1, shape=(1,))\n",
        "            dummy_pred = self.predict(dummy_input, dummy_length, False)\n",
        "            # Restore the variables of the model\n",
        "            saver = tf.Saver(self.variables)\n",
        "            saver.restore(tf.train.latest_checkpoint\n",
        "                          (self.checkpoint_directory))\n",
        "    \n",
        "    def save_model(self, global_step=0):\n",
        "        \"\"\" Function to save trained model.\n",
        "        \"\"\"\n",
        "        tf.Saver(self.variables).save(self.checkpoint_directory, \n",
        "                                       global_step=global_step)   \n",
        "        \n",
        "    def fit(self, training_data, eval_data, optimizer, num_epochs=500, \n",
        "            early_stopping_rounds=10, verbose=10, train_from_scratch=False):\n",
        "        \"\"\" Function to train the model, using the selected optimizer and\n",
        "            for the desired number of epochs. You can either train from scratch\n",
        "            or load the latest model trained. Early stopping is used in order to\n",
        "            mitigate the risk of overfitting the network.\n",
        "            \n",
        "            Args:\n",
        "                training_data: the data you would like to train the model on.\n",
        "                                Must be in the tf.data.Dataset format.\n",
        "                eval_data: the data you would like to evaluate the model on.\n",
        "                            Must be in the tf.data.Dataset format.\n",
        "                optimizer: the optimizer used during training.\n",
        "                num_epochs: the maximum number of iterations you would like to \n",
        "                            train the model.\n",
        "                early_stopping_rounds: stop training if the accuracy on the eval \n",
        "                                       dataset does not increase after n epochs.\n",
        "                verbose: int. Specify how often to print the loss value of the network.\n",
        "                train_from_scratch: boolean. Whether to initialize variables of the\n",
        "                                    the last trained model or initialize them\n",
        "                                    randomly.\n",
        "        \"\"\" \n",
        "    \n",
        "        if train_from_scratch==False:\n",
        "            self.restore_model()\n",
        "        \n",
        "        # Initialize best_acc. This variable will store the highest accuracy\n",
        "        # on the eval dataset.\n",
        "        best_acc = 0\n",
        "        \n",
        "        # Initialize classes to update the mean accuracy of train and eval\n",
        "        train_acc = tf.keras.metrics.Accuracy('train_acc')\n",
        "        eval_acc = tf.keras.metrics.Accuracy('eval_acc')\n",
        "        \n",
        "        # Initialize dictionary to store the accuracy history\n",
        "        self.history = {}\n",
        "        self.history['train_acc'] = []\n",
        "        self.history['eval_acc'] = []\n",
        "        \n",
        "        \n",
        "        # Begin training\n",
        "        with tf.device(self.device):\n",
        "            for i in range(num_epochs):\n",
        "                # Training with gradient descent\n",
        "                for step, (X, y, seq_length) in enumerate(training_data):\n",
        "                    grads = self.grads_fn(X, y, seq_length, True)\n",
        "                    optimizer.apply_gradients(zip(grads, self.variables))\n",
        "                    \n",
        "                # Check accuracy train dataset\n",
        "                for step, (X, y, seq_length) in enumerate(training_data):\n",
        "                    logits = self.predict(X, seq_length, False)\n",
        "                    preds = tf.argmax(logits, axis=1)\n",
        "                    train_acc(preds, y)\n",
        "                self.history['train_acc'].append(train_acc.result().numpy())\n",
        "                # Reset metrics\n",
        "                train_acc.reset_states()\n",
        "\n",
        "                # Check accuracy eval dataset\n",
        "                for step, (X, y, seq_length) in enumerate(eval_data):\n",
        "                    logits = self.predict(X, seq_length, False)\n",
        "                    preds = tf.argmax(logits, axis=1)\n",
        "                    eval_acc(preds, y)\n",
        "                self.history['eval_acc'].append(eval_acc.result().numpy())\n",
        "                # Reset metrics\n",
        "                eval_acc.reset_states()\n",
        "                \n",
        "                # Print train and eval accuracy\n",
        "                if (i==0) | ((i+1)%verbose==0):\n",
        "                    print('Train accuracy at epoch %d: ' %(i+1), self.history['train_acc'][-1])\n",
        "                    print('Eval accuracy at epoch %d: ' %(i+1), self.history['eval_acc'][-1])\n",
        "\n",
        "                # Check for early stopping\n",
        "                if self.history['eval_acc'][-1]>best_acc:\n",
        "                    best_acc = self.history['eval_acc'][-1]\n",
        "                    count = early_stopping_rounds\n",
        "                else:\n",
        "                    count -= 1\n",
        "                if count==0:\n",
        "                    break  "
      ]
    },
    {
      "cell_type": "markdown",
      "metadata": {
        "id": "Pq07GFNrP7UZ"
      },
      "source": [
        "## Train model with gradient descent and early stopping\n",
        "----"
      ]
    },
    {
      "cell_type": "markdown",
      "metadata": {
        "id": "VIuGUj5CP7UZ"
      },
      "source": [
        "### Model training with simple LSTM cells\n",
        "----"
      ]
    },
    {
      "cell_type": "code",
      "execution_count": 85,
      "metadata": {
        "id": "IXvPU8_gP7Ua"
      },
      "outputs": [],
      "source": [
        "# Train model\n",
        "all_models = {}\n",
        "#lstm_model.fit(train_dataset, test_dataset, optimizer, num_epochs=10, \n",
        "                #early_stopping_rounds=5, verbose=1, train_from_scratch=True)\n",
        "import time\n",
        "def train_model(model, train_dataset, validation_dataset, optimizer, num_epochs=10,early_stopping_rounds=5):\n",
        "  time_start = time.time()\n",
        "  model.fit(train_dataset, validation_dataset, optimizer, num_epochs, \n",
        "                  early_stopping_rounds, verbose=1, train_from_scratch=True)\n",
        "  time_end = time.time()\n",
        "  time_taken = time.time() - time_start\n",
        "  print('\\nTotal time taken (in seconds): {:.2f}'.format(time_taken))\n",
        "  return time_taken"
      ]
    },
    {
      "cell_type": "code",
      "execution_count": 86,
      "metadata": {
        "id": "WOTAC92Pfmek"
      },
      "outputs": [],
      "source": [
        "def test_model(model):\n",
        "  model.history['test_acc'] = []\n",
        "  test_acc = tf.keras.metrics.Accuracy('test_acc')\n",
        "  for step, (X, y, seq_length) in enumerate(test_dataset):\n",
        "      logits = model.predict(X, seq_length, False)\n",
        "      preds = tf.argmax(logits, axis=1)\n",
        "      test_acc(preds, y)\n",
        "\n",
        "  model.history['test_acc'].append(test_acc.result().numpy())\n",
        "  print(f\"Test accuracy {model.history['test_acc'][-1]}\")"
      ]
    },
    {
      "cell_type": "code",
      "execution_count": 87,
      "metadata": {
        "colab": {
          "base_uri": "https://localhost:8080/"
        },
        "id": "uqk_DJZ3P7Ua",
        "outputId": "bc5ea6c6-b36e-46ae-db56-99d17e3fed3d"
      },
      "outputs": [
        {
          "output_type": "stream",
          "name": "stdout",
          "text": [
            "WARNING:tensorflow:<keras.layers.legacy_rnn.rnn_cell_impl.BasicLSTMCell object at 0x7f029a6ffa10>: Note that this cell is not optimized for performance. Please use tf.contrib.cudnn_rnn.CudnnLSTM for better performance on GPU.\n"
          ]
        },
        {
          "output_type": "stream",
          "name": "stderr",
          "text": [
            "/usr/local/lib/python3.7/dist-packages/ipykernel_launcher.py:46: UserWarning: `tf.nn.rnn_cell.BasicLSTMCell` is deprecated and will be removed in a future version. This class is equivalent as `tf.keras.layers.LSTMCell`, and will be replaced by that in Tensorflow 2.0.\n"
          ]
        }
      ],
      "source": [
        "# Specify the path where you want to save/restore the trained variables.\n",
        "checkpoint_directory = 'models_checkpoints/ImdbRNN/'\n",
        "\n",
        "# Use the GPU if available.\n",
        "device = 'gpu:0'\n",
        "\n",
        "# Define optimizer.\n",
        "optimizer = tf.compat.v1.train.AdamOptimizer(learning_rate=1e-3)\n",
        "\n",
        "# Instantiate model. This doesn't initialize the variables yet.\n",
        "lstm_model_adam = RNNModel(vocabulary_size=len(word2idx), device=device, \n",
        "                      checkpoint_directory=checkpoint_directory)"
      ]
    },
    {
      "cell_type": "code",
      "execution_count": 88,
      "metadata": {
        "colab": {
          "base_uri": "https://localhost:8080/"
        },
        "id": "5Cv2AUoxAS36",
        "outputId": "c2265a17-8757-4e3d-9b83-b29368b65275"
      },
      "outputs": [
        {
          "output_type": "stream",
          "name": "stderr",
          "text": [
            "/usr/local/lib/python3.7/dist-packages/keras/layers/legacy_rnn/rnn_cell_impl.py:756: UserWarning: `layer.add_variable` is deprecated and will be removed in a future version. Please use `layer.add_weight` method instead.\n",
            "  shape=[input_depth + h_depth, 4 * self._num_units])\n",
            "/usr/local/lib/python3.7/dist-packages/keras/layers/legacy_rnn/rnn_cell_impl.py:760: UserWarning: `layer.add_variable` is deprecated and will be removed in a future version. Please use `layer.add_weight` method instead.\n",
            "  initializer=tf.compat.v1.zeros_initializer(dtype=self.dtype))\n"
          ]
        },
        {
          "output_type": "stream",
          "name": "stdout",
          "text": [
            "Train accuracy at epoch 1:  0.837\n",
            "Eval accuracy at epoch 1:  0.8166\n",
            "Train accuracy at epoch 2:  0.9202\n",
            "Eval accuracy at epoch 2:  0.871\n",
            "Train accuracy at epoch 3:  0.96795\n",
            "Eval accuracy at epoch 3:  0.8906\n",
            "Train accuracy at epoch 4:  0.98885\n",
            "Eval accuracy at epoch 4:  0.8886\n",
            "Train accuracy at epoch 5:  0.99365\n",
            "Eval accuracy at epoch 5:  0.8796\n",
            "Train accuracy at epoch 6:  0.9967\n",
            "Eval accuracy at epoch 6:  0.8758\n",
            "Train accuracy at epoch 7:  0.999\n",
            "Eval accuracy at epoch 7:  0.873\n",
            "Train accuracy at epoch 8:  0.99955\n",
            "Eval accuracy at epoch 8:  0.8726\n",
            "\n",
            "Total time taken (in seconds): 319.18\n"
          ]
        }
      ],
      "source": [
        "time_taken_lstm_adam = train_model(lstm_model_adam, train_dataset, validation_dataset, optimizer, num_epochs=10,early_stopping_rounds=5)"
      ]
    },
    {
      "cell_type": "code",
      "execution_count": 89,
      "metadata": {
        "id": "brB3Z5AVP7Ua"
      },
      "outputs": [],
      "source": [
        "# Save model\n",
        "#lstm_model_adam.save_model()"
      ]
    },
    {
      "cell_type": "code",
      "execution_count": 90,
      "metadata": {
        "id": "EFhC9T9Sf_rR",
        "colab": {
          "base_uri": "https://localhost:8080/"
        },
        "outputId": "ae2b3c1c-aef9-4328-cabd-66b4f4f0b53a"
      },
      "outputs": [
        {
          "output_type": "stream",
          "name": "stdout",
          "text": [
            "Test accuracy 0.8485599756240845\n"
          ]
        }
      ],
      "source": [
        "test_model(lstm_model_adam)\n",
        "all_models['lstm_model_adam'] = lstm_model_adam"
      ]
    },
    {
      "cell_type": "markdown",
      "metadata": {
        "id": "JmzXh0ljP7Ua"
      },
      "source": [
        "### Model training with RNN cells \n",
        "---"
      ]
    },
    {
      "cell_type": "code",
      "execution_count": 91,
      "metadata": {
        "id": "TmjyKjDYP7Ub",
        "colab": {
          "base_uri": "https://localhost:8080/"
        },
        "outputId": "a912ab67-fc6f-4247-e245-22e778819055"
      },
      "outputs": [
        {
          "output_type": "stream",
          "name": "stdout",
          "text": [
            "WARNING:tensorflow:<keras.layers.legacy_rnn.rnn_cell_impl.BasicRNNCell object at 0x7f029a146c90>: Note that this cell is not optimized for performance. Please use tf.contrib.cudnn_rnn.CudnnRNNTanh for better performance on GPU.\n"
          ]
        },
        {
          "output_type": "stream",
          "name": "stderr",
          "text": [
            "/usr/local/lib/python3.7/dist-packages/ipykernel_launcher.py:49: UserWarning: `tf.nn.rnn_cell.BasicRNNCell` is deprecated and will be removed in a future version. This class is equivalent as `tf.keras.layers.SimpleRNNCell`, and will be replaced by that in Tensorflow 2.0.\n"
          ]
        }
      ],
      "source": [
        "# Define optimizer.\n",
        "optimizer = tf.compat.v1.train.AdamOptimizer(learning_rate=1e-3)\n",
        "\n",
        "# Instantiate model. This doesn't initialize the variables yet.\n",
        "ugrnn_model_adam = RNNModel(vocabulary_size=len(word2idx), rnn_cell='ugrnn', \n",
        "                       device=device, checkpoint_directory=checkpoint_directory)"
      ]
    },
    {
      "cell_type": "code",
      "execution_count": 92,
      "metadata": {
        "id": "zd5bDpAzP7Ub",
        "colab": {
          "base_uri": "https://localhost:8080/"
        },
        "outputId": "30754a26-d213-49d3-8322-1fb2bb2b9c5b"
      },
      "outputs": [
        {
          "output_type": "stream",
          "name": "stderr",
          "text": [
            "/usr/local/lib/python3.7/dist-packages/keras/layers/legacy_rnn/rnn_cell_impl.py:459: UserWarning: `layer.add_variable` is deprecated and will be removed in a future version. Please use `layer.add_weight` method instead.\n",
            "  shape=[input_depth + self._num_units, self._num_units])\n",
            "/usr/local/lib/python3.7/dist-packages/keras/layers/legacy_rnn/rnn_cell_impl.py:463: UserWarning: `layer.add_variable` is deprecated and will be removed in a future version. Please use `layer.add_weight` method instead.\n",
            "  initializer=tf.compat.v1.zeros_initializer(dtype=self.dtype))\n"
          ]
        },
        {
          "output_type": "stream",
          "name": "stdout",
          "text": [
            "Train accuracy at epoch 1:  0.70445\n",
            "Eval accuracy at epoch 1:  0.7022\n",
            "Train accuracy at epoch 2:  0.89745\n",
            "Eval accuracy at epoch 2:  0.8288\n",
            "Train accuracy at epoch 3:  0.9148\n",
            "Eval accuracy at epoch 3:  0.8502\n",
            "Train accuracy at epoch 4:  0.9595\n",
            "Eval accuracy at epoch 4:  0.8382\n",
            "Train accuracy at epoch 5:  0.98175\n",
            "Eval accuracy at epoch 5:  0.8502\n",
            "Train accuracy at epoch 6:  0.99255\n",
            "Eval accuracy at epoch 6:  0.8516\n",
            "Train accuracy at epoch 7:  0.99665\n",
            "Eval accuracy at epoch 7:  0.8482\n",
            "Train accuracy at epoch 8:  0.99755\n",
            "Eval accuracy at epoch 8:  0.8336\n",
            "Train accuracy at epoch 9:  0.9987\n",
            "Eval accuracy at epoch 9:  0.8392\n",
            "Train accuracy at epoch 10:  0.99315\n",
            "Eval accuracy at epoch 10:  0.8368\n",
            "\n",
            "Total time taken (in seconds): 211.76\n"
          ]
        }
      ],
      "source": [
        "# Train model\n",
        "#ugrnn_model.fit(train_dataset, validation_dataset, optimizer, num_epochs=10, \n",
        "                #early_stopping_rounds=5, verbose=1, train_from_scratch=True)\n",
        "time_taken_ugrnn_adam = train_model(ugrnn_model_adam, train_dataset, validation_dataset, optimizer, num_epochs=10,early_stopping_rounds=5)"
      ]
    },
    {
      "cell_type": "code",
      "execution_count": 93,
      "metadata": {
        "id": "e5B6mrhvUUxN",
        "colab": {
          "base_uri": "https://localhost:8080/"
        },
        "outputId": "23d69822-7ca3-4ae3-adbd-e581c1f31fba"
      },
      "outputs": [
        {
          "output_type": "stream",
          "name": "stdout",
          "text": [
            "Test accuracy 0.8241599798202515\n"
          ]
        }
      ],
      "source": [
        "test_model(ugrnn_model_adam)\n",
        "all_models['ugrnn_model_adam'] = ugrnn_model_adam"
      ]
    },
    {
      "cell_type": "code",
      "execution_count": 94,
      "metadata": {
        "id": "1546ULwrz-HS",
        "colab": {
          "base_uri": "https://localhost:8080/"
        },
        "outputId": "2bac4618-c430-4045-d4a2-6bd29407b224"
      },
      "outputs": [
        {
          "output_type": "stream",
          "name": "stdout",
          "text": [
            "WARNING:tensorflow:<keras.layers.legacy_rnn.rnn_cell_impl.BasicLSTMCell object at 0x7f029a183c10>: Note that this cell is not optimized for performance. Please use tf.contrib.cudnn_rnn.CudnnLSTM for better performance on GPU.\n"
          ]
        },
        {
          "output_type": "stream",
          "name": "stderr",
          "text": [
            "/usr/local/lib/python3.7/dist-packages/ipykernel_launcher.py:46: UserWarning: `tf.nn.rnn_cell.BasicLSTMCell` is deprecated and will be removed in a future version. This class is equivalent as `tf.keras.layers.LSTMCell`, and will be replaced by that in Tensorflow 2.0.\n"
          ]
        }
      ],
      "source": [
        "# Define optimizer.\n",
        "#optimizer = tf.compat.v1.train.RMSPropOptimizer(learning_rate=1e-3)\n",
        "optimizer = tf.optimizers.RMSprop(learning_rate=0.01)\n",
        "# Instantiate model. This doesn't initialize the variables yet.\n",
        "rmsprop_lstm_model = RNNModel(vocabulary_size=len(word2idx), \n",
        "                       device=device, checkpoint_directory=checkpoint_directory)"
      ]
    },
    {
      "cell_type": "code",
      "execution_count": 95,
      "metadata": {
        "id": "XwszSwjj0Izs",
        "colab": {
          "base_uri": "https://localhost:8080/"
        },
        "outputId": "6d2b8c29-9937-4a82-818e-a89ac7566dd2"
      },
      "outputs": [
        {
          "output_type": "stream",
          "name": "stderr",
          "text": [
            "/usr/local/lib/python3.7/dist-packages/keras/layers/legacy_rnn/rnn_cell_impl.py:756: UserWarning: `layer.add_variable` is deprecated and will be removed in a future version. Please use `layer.add_weight` method instead.\n",
            "  shape=[input_depth + h_depth, 4 * self._num_units])\n",
            "/usr/local/lib/python3.7/dist-packages/keras/layers/legacy_rnn/rnn_cell_impl.py:760: UserWarning: `layer.add_variable` is deprecated and will be removed in a future version. Please use `layer.add_weight` method instead.\n",
            "  initializer=tf.compat.v1.zeros_initializer(dtype=self.dtype))\n"
          ]
        },
        {
          "output_type": "stream",
          "name": "stdout",
          "text": [
            "Train accuracy at epoch 1:  0.65705\n",
            "Eval accuracy at epoch 1:  0.6138\n",
            "Train accuracy at epoch 2:  0.8507\n",
            "Eval accuracy at epoch 2:  0.7322\n",
            "Train accuracy at epoch 3:  0.82865\n",
            "Eval accuracy at epoch 3:  0.6966\n",
            "Train accuracy at epoch 4:  0.9082\n",
            "Eval accuracy at epoch 4:  0.6856\n",
            "Train accuracy at epoch 5:  0.95375\n",
            "Eval accuracy at epoch 5:  0.7366\n",
            "Train accuracy at epoch 6:  0.9807\n",
            "Eval accuracy at epoch 6:  0.7352\n",
            "Train accuracy at epoch 7:  0.98685\n",
            "Eval accuracy at epoch 7:  0.7284\n",
            "Train accuracy at epoch 8:  0.99435\n",
            "Eval accuracy at epoch 8:  0.736\n",
            "Train accuracy at epoch 9:  0.9962\n",
            "Eval accuracy at epoch 9:  0.7186\n",
            "Train accuracy at epoch 10:  0.998\n",
            "Eval accuracy at epoch 10:  0.7274\n",
            "\n",
            "Total time taken (in seconds): 399.94\n"
          ]
        }
      ],
      "source": [
        "# Train model\n",
        "#rmsprop_lstm_model.fit(train_dataset, validation_dataset, optimizer, num_epochs=10, \n",
        "                #early_stopping_rounds=5, verbose=1, train_from_scratch=True)\n",
        "time_taken_lstm_rmsprop = train_model(rmsprop_lstm_model, train_dataset, validation_dataset, optimizer, num_epochs=10,early_stopping_rounds=5)"
      ]
    },
    {
      "cell_type": "code",
      "execution_count": 96,
      "metadata": {
        "id": "TcCyt_Y_2EVm",
        "colab": {
          "base_uri": "https://localhost:8080/"
        },
        "outputId": "064f4bb6-b0c2-4ec9-f157-d8d3f5d7d7ed"
      },
      "outputs": [
        {
          "output_type": "stream",
          "name": "stdout",
          "text": [
            "Test accuracy 0.7240399718284607\n"
          ]
        }
      ],
      "source": [
        "test_model(rmsprop_lstm_model)\n",
        "all_models['rmsprop_lstm_model'] = rmsprop_lstm_model"
      ]
    },
    {
      "cell_type": "code",
      "execution_count": 97,
      "metadata": {
        "id": "RS5-Us2sZ_vd",
        "colab": {
          "base_uri": "https://localhost:8080/"
        },
        "outputId": "3b4305b8-bd6f-470e-f16e-701f4cd3dc47"
      },
      "outputs": [
        {
          "output_type": "stream",
          "name": "stdout",
          "text": [
            "WARNING:tensorflow:<keras.layers.legacy_rnn.rnn_cell_impl.BasicRNNCell object at 0x7f029a07acd0>: Note that this cell is not optimized for performance. Please use tf.contrib.cudnn_rnn.CudnnRNNTanh for better performance on GPU.\n"
          ]
        },
        {
          "output_type": "stream",
          "name": "stderr",
          "text": [
            "/usr/local/lib/python3.7/dist-packages/ipykernel_launcher.py:49: UserWarning: `tf.nn.rnn_cell.BasicRNNCell` is deprecated and will be removed in a future version. This class is equivalent as `tf.keras.layers.SimpleRNNCell`, and will be replaced by that in Tensorflow 2.0.\n",
            "/usr/local/lib/python3.7/dist-packages/keras/layers/legacy_rnn/rnn_cell_impl.py:459: UserWarning: `layer.add_variable` is deprecated and will be removed in a future version. Please use `layer.add_weight` method instead.\n",
            "  shape=[input_depth + self._num_units, self._num_units])\n",
            "/usr/local/lib/python3.7/dist-packages/keras/layers/legacy_rnn/rnn_cell_impl.py:463: UserWarning: `layer.add_variable` is deprecated and will be removed in a future version. Please use `layer.add_weight` method instead.\n",
            "  initializer=tf.compat.v1.zeros_initializer(dtype=self.dtype))\n"
          ]
        },
        {
          "output_type": "stream",
          "name": "stdout",
          "text": [
            "Train accuracy at epoch 1:  0.7711\n",
            "Eval accuracy at epoch 1:  0.751\n",
            "Train accuracy at epoch 2:  0.88455\n",
            "Eval accuracy at epoch 2:  0.8524\n",
            "Train accuracy at epoch 3:  0.94675\n",
            "Eval accuracy at epoch 3:  0.8672\n",
            "Train accuracy at epoch 4:  0.97605\n",
            "Eval accuracy at epoch 4:  0.8682\n",
            "Train accuracy at epoch 5:  0.98785\n",
            "Eval accuracy at epoch 5:  0.863\n",
            "Train accuracy at epoch 6:  0.99305\n",
            "Eval accuracy at epoch 6:  0.866\n",
            "Train accuracy at epoch 7:  0.99555\n",
            "Eval accuracy at epoch 7:  0.8608\n",
            "Train accuracy at epoch 8:  0.979\n",
            "Eval accuracy at epoch 8:  0.8226\n",
            "Train accuracy at epoch 9:  0.98995\n",
            "Eval accuracy at epoch 9:  0.8572\n",
            "\n",
            "Total time taken (in seconds): 190.25\n"
          ]
        }
      ],
      "source": [
        "# Define optimizer.\n",
        "optimizer = tf.compat.v1.train.AdamOptimizer(learning_rate=1e-3)\n",
        "\n",
        "# Instantiate model. This doesn't initialize the variables yet.\n",
        "ugrnn_dropout_adam_model = RNNModel(vocabulary_size=len(word2idx), rnn_cell='ugrnn', \n",
        "                       device=device, checkpoint_directory=checkpoint_directory, dropout=True)\n",
        "\n",
        "time_taken_ugrnn_dropout_adam = train_model(ugrnn_dropout_adam_model, train_dataset, validation_dataset, optimizer, num_epochs=10,early_stopping_rounds=5)"
      ]
    },
    {
      "cell_type": "code",
      "execution_count": 98,
      "metadata": {
        "id": "9YJLBv_idDk_",
        "colab": {
          "base_uri": "https://localhost:8080/"
        },
        "outputId": "3a06f5eb-97c6-4339-d4bb-b41be7ec59df"
      },
      "outputs": [
        {
          "output_type": "stream",
          "name": "stdout",
          "text": [
            "Test accuracy 0.8343200087547302\n"
          ]
        }
      ],
      "source": [
        "test_model(ugrnn_dropout_adam_model)\n",
        "all_models['ugrnn_dropout_adam_model'] = ugrnn_dropout_adam_model"
      ]
    },
    {
      "cell_type": "code",
      "execution_count": 99,
      "metadata": {
        "id": "rGxzhRHRfKxB",
        "colab": {
          "base_uri": "https://localhost:8080/"
        },
        "outputId": "ea678ee9-8b41-40c8-e8d8-2e51a0ef4026"
      },
      "outputs": [
        {
          "output_type": "stream",
          "name": "stdout",
          "text": [
            "WARNING:tensorflow:<keras.layers.legacy_rnn.rnn_cell_impl.BasicLSTMCell object at 0x7f029a4e4d10>: Note that this cell is not optimized for performance. Please use tf.contrib.cudnn_rnn.CudnnLSTM for better performance on GPU.\n"
          ]
        },
        {
          "output_type": "stream",
          "name": "stderr",
          "text": [
            "/usr/local/lib/python3.7/dist-packages/ipykernel_launcher.py:46: UserWarning: `tf.nn.rnn_cell.BasicLSTMCell` is deprecated and will be removed in a future version. This class is equivalent as `tf.keras.layers.LSTMCell`, and will be replaced by that in Tensorflow 2.0.\n",
            "/usr/local/lib/python3.7/dist-packages/keras/layers/legacy_rnn/rnn_cell_impl.py:756: UserWarning: `layer.add_variable` is deprecated and will be removed in a future version. Please use `layer.add_weight` method instead.\n",
            "  shape=[input_depth + h_depth, 4 * self._num_units])\n",
            "/usr/local/lib/python3.7/dist-packages/keras/layers/legacy_rnn/rnn_cell_impl.py:760: UserWarning: `layer.add_variable` is deprecated and will be removed in a future version. Please use `layer.add_weight` method instead.\n",
            "  initializer=tf.compat.v1.zeros_initializer(dtype=self.dtype))\n"
          ]
        },
        {
          "output_type": "stream",
          "name": "stdout",
          "text": [
            "Train accuracy at epoch 1:  0.63625\n",
            "Eval accuracy at epoch 1:  0.6246\n",
            "Train accuracy at epoch 2:  0.88955\n",
            "Eval accuracy at epoch 2:  0.8508\n",
            "Train accuracy at epoch 3:  0.94175\n",
            "Eval accuracy at epoch 3:  0.8786\n",
            "Train accuracy at epoch 4:  0.97785\n",
            "Eval accuracy at epoch 4:  0.8888\n",
            "Train accuracy at epoch 5:  0.99005\n",
            "Eval accuracy at epoch 5:  0.8852\n",
            "Train accuracy at epoch 6:  0.9949\n",
            "Eval accuracy at epoch 6:  0.8822\n",
            "Train accuracy at epoch 7:  0.9962\n",
            "Eval accuracy at epoch 7:  0.8734\n",
            "Train accuracy at epoch 8:  0.99875\n",
            "Eval accuracy at epoch 8:  0.8794\n",
            "Train accuracy at epoch 9:  0.99875\n",
            "Eval accuracy at epoch 9:  0.8764\n",
            "\n",
            "Total time taken (in seconds): 358.74\n"
          ]
        }
      ],
      "source": [
        "# Define optimizer.\n",
        "optimizer = tf.compat.v1.train.AdamOptimizer(learning_rate=1e-3)\n",
        "\n",
        "# Instantiate model. This doesn't initialize the variables yet.\n",
        "lstm_dropout_adam_model = RNNModel(vocabulary_size=len(word2idx),  \n",
        "                       device=device, checkpoint_directory=checkpoint_directory, dropout=True)\n",
        "\n",
        "time_taken_lstm_dropout_adam = train_model(lstm_dropout_adam_model, train_dataset, validation_dataset, optimizer, num_epochs=10,early_stopping_rounds=5)"
      ]
    },
    {
      "cell_type": "code",
      "execution_count": 101,
      "metadata": {
        "id": "YDCrrT5OhNzX",
        "colab": {
          "base_uri": "https://localhost:8080/"
        },
        "outputId": "a5016884-cf32-41c0-f457-221e058f7416"
      },
      "outputs": [
        {
          "output_type": "stream",
          "name": "stdout",
          "text": [
            "Test accuracy 0.8428400158882141\n"
          ]
        }
      ],
      "source": [
        "test_model(lstm_dropout_adam_model)\n",
        "all_models['lstm_dropout_adam_model'] = lstm_dropout_adam_model"
      ]
    },
    {
      "cell_type": "markdown",
      "metadata": {
        "id": "7HloeEKJP7Ub"
      },
      "source": [
        "### Performance comparison\n",
        "---"
      ]
    },
    {
      "cell_type": "code",
      "execution_count": 102,
      "metadata": {
        "id": "LW-exJpxP7Ub",
        "colab": {
          "base_uri": "https://localhost:8080/",
          "height": 513
        },
        "outputId": "21c870ae-1267-47da-e227-9a33a3535431"
      },
      "outputs": [
        {
          "output_type": "display_data",
          "data": {
            "text/plain": [
              "<Figure size 720x288 with 2 Axes>"
            ],
            "image/png": "[encoded data removed]"
          },
          "metadata": {
            "needs_background": "light"
          }
        },
        {
          "output_type": "display_data",
          "data": {
            "text/plain": [
              "<Figure size 720x288 with 2 Axes>"
            ],
            "image/png": "[encoded data removed]"
          },
          "metadata": {
            "needs_background": "light"
          }
        }
      ],
      "source": [
        "f, (ax1, ax2) = plt.subplots(1, 2,sharey=True, figsize=(10, 4))\n",
        "ax1.plot(range(len(lstm_model_adam.history['train_acc'])), lstm_model_adam.history['train_acc'], \n",
        "         label='LSTM Train Accuracy');\n",
        "ax1.plot(range(len(lstm_model_adam.history['eval_acc'])), lstm_model_adam.history['eval_acc'], \n",
        "         label='LSTM Eval Accuracy');\n",
        "\n",
        "ax2.plot(range(len(ugrnn_model_adam.history['train_acc'])), ugrnn_model_adam.history['train_acc'],\n",
        "         label='UGRNN Train Accuracy');\n",
        "ax2.plot(range(len(ugrnn_model_adam.history['eval_acc'])), ugrnn_model_adam.history['eval_acc'],\n",
        "         label='UGRNN Eval Accuracy');\n",
        "\n",
        "f, (ax3, ax4) = plt.subplots(1, 2,sharey=True, figsize=(10, 4))\n",
        "ax3.plot(range(len(lstm_dropout_adam_model.history['train_acc'])), lstm_dropout_adam_model.history['train_acc'],\n",
        "         label='LSTM dropout Train Accuracy');\n",
        "ax3.plot(range(len(lstm_dropout_adam_model.history['eval_acc'])), lstm_dropout_adam_model.history['eval_acc'],\n",
        "         label='LSTM dropout Eval Accuracy');\n",
        "ax4.plot(range(len(ugrnn_dropout_adam_model.history['train_acc'])), ugrnn_dropout_adam_model.history['train_acc'],\n",
        "        label='UGRNN dropout Train Accuracy');\n",
        "ax4.plot(range(len(ugrnn_dropout_adam_model.history['eval_acc'])), ugrnn_dropout_adam_model.history['eval_acc'],\n",
        "         label='UGRNN dropout Eval Accuracy');\n",
        "ax1.legend();\n",
        "ax2.legend();\n",
        "ax3.legend();\n",
        "ax4.legend();"
      ]
    },
    {
      "cell_type": "markdown",
      "metadata": {
        "id": "XrMkRP-0P7Ub"
      },
      "source": [
        "## Test network on new samples\n",
        "---\n",
        "\n"
      ]
    },
    {
      "cell_type": "code",
      "execution_count": 103,
      "metadata": {
        "id": "GUrstqp-P7Uc",
        "colab": {
          "base_uri": "https://localhost:8080/",
          "height": 52
        },
        "outputId": "38b17984-c16e-40dc-df33-a0eb0eb6f894"
      },
      "outputs": [
        {
          "output_type": "execute_result",
          "data": {
            "text/plain": [
              "\"\\ntf.reset_default_graph()\\ncheckpoint_directory = 'models_checkpoints/ImdbRNN/'\\ndevice = 'gpu:0' \\nlstm_model = RNNModel(vocabulary_size=len(word2idx), device=device, \\n                      checkpoint_directory=checkpoint_directory)\\nlstm_model.restore_model()\\n\""
            ],
            "application/vnd.google.colaboratory.intrinsic+json": {
              "type": "string"
            }
          },
          "metadata": {},
          "execution_count": 103
        }
      ],
      "source": [
        "################################################################\n",
        "# Restore trained model\n",
        "################################################################\n",
        "'''\n",
        "tf.reset_default_graph()\n",
        "checkpoint_directory = 'models_checkpoints/ImdbRNN/'\n",
        "device = 'gpu:0' \n",
        "lstm_model = RNNModel(vocabulary_size=len(word2idx), device=device, \n",
        "                      checkpoint_directory=checkpoint_directory)\n",
        "lstm_model.restore_model()\n",
        "'''"
      ]
    },
    {
      "cell_type": "code",
      "execution_count": 104,
      "metadata": {
        "id": "nXSOpyz0P7Uc"
      },
      "outputs": [],
      "source": [
        "###############################################################\n",
        "# Import/download necessary libraries to process new sequences\n",
        "###############################################################\n",
        "\n",
        "import nltk\n",
        "try:\n",
        "    nltk.data.find('tokenizers/punkt')\n",
        "except LookupError:\n",
        "    nltk.download('punkt')\n",
        "from nltk.tokenize import word_tokenize\n",
        "import re\n"
      ]
    },
    {
      "cell_type": "code",
      "execution_count": 105,
      "metadata": {
        "id": "5zDt0vVlP7Uc"
      },
      "outputs": [],
      "source": [
        "def process_new_review(review):\n",
        "    '''Function to process a new review.\n",
        "       Args:\n",
        "           review: original text review, string.\n",
        "       Returns:\n",
        "           indexed_review: sequence of integers, words correspondence \n",
        "                           from word2idx.\n",
        "           seq_length: the length of the review.\n",
        "    '''\n",
        "    indexed_review = re.sub(r'<[^>]+>', ' ', review)\n",
        "    indexed_review = word_tokenize(indexed_review)\n",
        "    indexed_review = [word2idx[word] if word in list(word2idx.keys()) else \n",
        "                      word2idx['Unknown_token'] for word in indexed_review]\n",
        "    indexed_review = indexed_review + [word2idx['End_token']]\n",
        "    seq_length = len(indexed_review)    \n",
        "    return indexed_review, seq_length"
      ]
    },
    {
      "cell_type": "code",
      "execution_count": 106,
      "metadata": {
        "id": "8ZmRTbHCP7Uc"
      },
      "outputs": [],
      "source": [
        "sent_dict = {0: 'negative', 1: 'positive'}"
      ]
    },
    {
      "cell_type": "code",
      "execution_count": 107,
      "metadata": {
        "id": "lo8W4xfdP7Uc"
      },
      "outputs": [],
      "source": [
        "review_score_10 = \"I think Bad Apples is a great time and I recommend! I enjoyed the opening, which gave way for the rest of the movie to occur. The main couple was very likable and I believed all of their interactions. They had great onscreen chemistry and made me laugh quite a few times! Keeping the girls in the masks but seeing them in action was something I loved. It kept a mystery to them throughout. I think the dialogue was great. The kills were fun. And the special surprise gore effect at the end was AWESOME!! I won't spoil that part ;) I also enjoyed how the movie wrapped up. It gave a very urban legends type feel of \\\"did you ever hear the story...\\\". Plus is leaves the door open for another film which I wouldn't mind at all. Long story short, I think if you take the film for what it is; a fun little horror flick, then you won't be disappointed! HaPpY eArLy HaLLoWeEn!\""
      ]
    },
    {
      "cell_type": "code",
      "execution_count": 108,
      "metadata": {
        "id": "jL2PWrzPP7Uc"
      },
      "outputs": [],
      "source": [
        "review_score_4 = \"A young couple comes to a small town, where the husband get a job working in a hospital. The wife which you instantly hate or dislike works home, at the same time a horrible murders takes place in this small town by two masked killers. Bad Apples is just your tipical B-horror movie with average acting (I give them that. Altough you may get the idea that some of the actors are crazy-convervative Christians), but the script is just bad, and that's what destroys the film.\""
      ]
    },
    {
      "cell_type": "code",
      "execution_count": 109,
      "metadata": {
        "id": "dGJG7F6kP7Uc"
      },
      "outputs": [],
      "source": [
        "review_score_1 = \"When you first start watching this movie, you can tell its going to be a painful ride. the audio is poor...the attacks by the \\\"girls\\\" are like going back in time, to watching the old rocky films, were blows never touched. the editing is poor with it aswell, example the actress in is the bath when her husband comes home, clearly you see her wearing a flesh coloured bra in the bath. no hints or spoilers, just wait till you find it in a bargain basket of cheap dvds in a couple of weeks\"\n",
        "review_score_11 = \"Hailed as a classic, but oddly unengaging and Nicholson doesn't help\"\n",
        "review_score_21 = \"The movie was meh.\"\n",
        "review_score_22 = \"The movie was dull and drowsy\"\n",
        "review_score_23 = \"It was a WOW movie\""
      ]
    },
    {
      "cell_type": "code",
      "execution_count": 110,
      "metadata": {
        "id": "M-hrh4LCP7Ud"
      },
      "outputs": [],
      "source": [
        "new_reviews = [review_score_10, review_score_4, review_score_1, review_score_11, review_score_21,review_score_22,review_score_23]\n",
        "scores = [10, 4, 1, 11, 21, 22, 23]"
      ]
    },
    {
      "cell_type": "code",
      "execution_count": 111,
      "metadata": {
        "id": "OvVuzgTwP7Ud",
        "colab": {
          "base_uri": "https://localhost:8080/"
        },
        "outputId": "1b1fbfe3-ca84-4c65-e050-50241ab21ce9"
      },
      "outputs": [
        {
          "output_type": "stream",
          "name": "stdout",
          "text": [
            "The sentiment for the review with score 10 was found to be positive\n",
            "The sentiment for the review with score 4 was found to be negative\n",
            "The sentiment for the review with score 1 was found to be negative\n",
            "The sentiment for the review with score 11 was found to be negative\n",
            "The sentiment for the review with score 21 was found to be negative\n",
            "The sentiment for the review with score 22 was found to be negative\n",
            "The sentiment for the review with score 23 was found to be positive\n"
          ]
        }
      ],
      "source": [
        "with tf.device(device):\n",
        "    for original_review, score in zip(new_reviews, scores):\n",
        "        indexed_review, seq_length = process_new_review(original_review)\n",
        "        indexed_review = tf.reshape(tf.constant(indexed_review), (1,-1))\n",
        "        seq_length = tf.reshape(tf.constant(seq_length), (1,))\n",
        "        logits = lstm_model_adam.predict(indexed_review, seq_length, False)\n",
        "        pred = tf.argmax(logits, axis=1).numpy()[0]\n",
        "        print('The sentiment for the review with score %d was found to be %s'\n",
        "              %(score, sent_dict[pred]))"
      ]
    },
    {
      "cell_type": "code",
      "execution_count": 112,
      "metadata": {
        "id": "63xaMVoIqbxy",
        "colab": {
          "base_uri": "https://localhost:8080/"
        },
        "outputId": "f81c6b28-91a3-444c-c073-8108d158c955"
      },
      "outputs": [
        {
          "output_type": "stream",
          "name": "stdout",
          "text": [
            "The sentiment for the review with score 10 was found to be positive\n",
            "The sentiment for the review with score 4 was found to be negative\n",
            "The sentiment for the review with score 1 was found to be negative\n",
            "The sentiment for the review with score 11 was found to be positive\n",
            "The sentiment for the review with score 21 was found to be negative\n",
            "The sentiment for the review with score 22 was found to be negative\n",
            "The sentiment for the review with score 23 was found to be positive\n"
          ]
        }
      ],
      "source": [
        "with tf.device(device):\n",
        "    for original_review, score in zip(new_reviews, scores):\n",
        "        indexed_review, seq_length = process_new_review(original_review)\n",
        "        indexed_review = tf.reshape(tf.constant(indexed_review), (1,-1))\n",
        "        seq_length = tf.reshape(tf.constant(seq_length), (1,))\n",
        "        logits = ugrnn_model_adam.predict(indexed_review, seq_length, False)\n",
        "        pred = tf.argmax(logits, axis=1).numpy()[0]\n",
        "        print('The sentiment for the review with score %d was found to be %s'\n",
        "              %(score, sent_dict[pred]))"
      ]
    },
    {
      "cell_type": "code",
      "execution_count": 113,
      "metadata": {
        "id": "Abc74jBq6gki",
        "colab": {
          "base_uri": "https://localhost:8080/"
        },
        "outputId": "2e0794ca-6804-4738-af68-bcb33aa126f4"
      },
      "outputs": [
        {
          "output_type": "stream",
          "name": "stdout",
          "text": [
            "The sentiment for the review with score 10 was found to be positive\n",
            "The sentiment for the review with score 4 was found to be negative\n",
            "The sentiment for the review with score 1 was found to be positive\n",
            "The sentiment for the review with score 11 was found to be positive\n",
            "The sentiment for the review with score 21 was found to be positive\n",
            "The sentiment for the review with score 22 was found to be negative\n",
            "The sentiment for the review with score 23 was found to be positive\n"
          ]
        }
      ],
      "source": [
        "with tf.device(device):\n",
        "    for original_review, score in zip(new_reviews, scores):\n",
        "        indexed_review, seq_length = process_new_review(original_review)\n",
        "        indexed_review = tf.reshape(tf.constant(indexed_review), (1,-1))\n",
        "        seq_length = tf.reshape(tf.constant(seq_length), (1,))\n",
        "        logits = rmsprop_lstm_model.predict(indexed_review, seq_length, False)\n",
        "        pred = tf.argmax(logits, axis=1).numpy()[0]\n",
        "        print('The sentiment for the review with score %d was found to be %s'\n",
        "              %(score, sent_dict[pred]))"
      ]
    },
    {
      "cell_type": "code",
      "execution_count": 114,
      "metadata": {
        "id": "ThTzu4Isxd_7",
        "colab": {
          "base_uri": "https://localhost:8080/"
        },
        "outputId": "2e3dfcd7-16b4-49fe-cd8d-33e315ef1843"
      },
      "outputs": [
        {
          "output_type": "stream",
          "name": "stdout",
          "text": [
            "{'lstm_model_adam': <__main__.RNNModel object at 0x7f029a095610>, 'ugrnn_model_adam': <__main__.RNNModel object at 0x7f0300033b50>, 'rmsprop_lstm_model': <__main__.RNNModel object at 0x7f03165f4190>, 'ugrnn_dropout_adam_model': <__main__.RNNModel object at 0x7f029a1f86d0>, 'lstm_dropout_adam_model': <__main__.RNNModel object at 0x7f0316753310>}\n"
          ]
        }
      ],
      "source": [
        "print (all_models)"
      ]
    },
    {
      "cell_type": "code",
      "execution_count": 115,
      "metadata": {
        "id": "9OstikDlyBrP",
        "colab": {
          "base_uri": "https://localhost:8080/"
        },
        "outputId": "315956d3-af22-4187-c2ca-b45826ce04f5"
      },
      "outputs": [
        {
          "output_type": "execute_result",
          "data": {
            "text/plain": [
              "319.1764781475067"
            ]
          },
          "metadata": {},
          "execution_count": 115
        }
      ],
      "source": [
        "time_taken_lstm_adam"
      ]
    },
    {
      "cell_type": "code",
      "execution_count": 116,
      "metadata": {
        "id": "r2Z2yQVpyLUD",
        "colab": {
          "base_uri": "https://localhost:8080/"
        },
        "outputId": "5855c728-9449-456e-e810-a6e4947415c7"
      },
      "outputs": [
        {
          "output_type": "execute_result",
          "data": {
            "text/plain": [
              "358.74462509155273"
            ]
          },
          "metadata": {},
          "execution_count": 116
        }
      ],
      "source": [
        "time_taken_lstm_dropout_adam"
      ]
    },
    {
      "cell_type": "code",
      "execution_count": 117,
      "metadata": {
        "id": "2YD7Z_OKyMv_",
        "colab": {
          "base_uri": "https://localhost:8080/"
        },
        "outputId": "d5966b3f-244a-4dd6-82d3-1c7ae4f7f11d"
      },
      "outputs": [
        {
          "output_type": "execute_result",
          "data": {
            "text/plain": [
              "399.9376394748688"
            ]
          },
          "metadata": {},
          "execution_count": 117
        }
      ],
      "source": [
        "time_taken_lstm_rmsprop"
      ]
    },
    {
      "cell_type": "code",
      "execution_count": 118,
      "metadata": {
        "id": "ccSzjGuEyOVy",
        "colab": {
          "base_uri": "https://localhost:8080/"
        },
        "outputId": "604c5e3d-b05b-480a-b8ec-6117f59c84d1"
      },
      "outputs": [
        {
          "output_type": "execute_result",
          "data": {
            "text/plain": [
              "358.74462509155273"
            ]
          },
          "metadata": {},
          "execution_count": 118
        }
      ],
      "source": [
        "time_taken_lstm_dropout_adam"
      ]
    },
    {
      "cell_type": "code",
      "execution_count": 119,
      "metadata": {
        "id": "vqfa-QfCyQOE",
        "colab": {
          "base_uri": "https://localhost:8080/"
        },
        "outputId": "3f5362b4-28b4-4574-f0ab-c88fa9bc05c9"
      },
      "outputs": [
        {
          "output_type": "execute_result",
          "data": {
            "text/plain": [
              "211.75835967063904"
            ]
          },
          "metadata": {},
          "execution_count": 119
        }
      ],
      "source": [
        "time_taken_ugrnn_adam"
      ]
    },
    {
      "cell_type": "code",
      "execution_count": 120,
      "metadata": {
        "id": "07JqRhCwySVO",
        "colab": {
          "base_uri": "https://localhost:8080/"
        },
        "outputId": "5a840f8c-ed2c-4235-bc9a-2f552188e5e0"
      },
      "outputs": [
        {
          "output_type": "execute_result",
          "data": {
            "text/plain": [
              "190.24637842178345"
            ]
          },
          "metadata": {},
          "execution_count": 120
        }
      ],
      "source": [
        "time_taken_ugrnn_dropout_adam"
      ]
    },
    {
      "cell_type": "code",
      "source": [
        "all_models"
      ],
      "metadata": {
        "colab": {
          "base_uri": "https://localhost:8080/"
        },
        "id": "BdJE3NuPXyxl",
        "outputId": "86fa8e0d-1f0f-42f9-a53f-3e7644289d33"
      },
      "execution_count": 121,
      "outputs": [
        {
          "output_type": "execute_result",
          "data": {
            "text/plain": [
              "{'lstm_dropout_adam_model': <__main__.RNNModel at 0x7f0316753310>,\n",
              " 'lstm_model_adam': <__main__.RNNModel at 0x7f029a095610>,\n",
              " 'rmsprop_lstm_model': <__main__.RNNModel at 0x7f03165f4190>,\n",
              " 'ugrnn_dropout_adam_model': <__main__.RNNModel at 0x7f029a1f86d0>,\n",
              " 'ugrnn_model_adam': <__main__.RNNModel at 0x7f0300033b50>}"
            ]
          },
          "metadata": {},
          "execution_count": 121
        }
      ]
    },
    {
      "cell_type": "code",
      "source": [
        "keys = all_models.keys()\n",
        "for key in keys:\n",
        "  print (f\"{key}: {list(all_models[key].history['test_acc'])[0]}\")"
      ],
      "metadata": {
        "colab": {
          "base_uri": "https://localhost:8080/"
        },
        "id": "6wmDveRoXzib",
        "outputId": "e3ebbd37-e2b1-4c8a-b31b-0c5812143ff1"
      },
      "execution_count": 126,
      "outputs": [
        {
          "output_type": "stream",
          "name": "stdout",
          "text": [
            "lstm_model_adam: 0.8485599756240845\n",
            "ugrnn_model_adam: 0.8241599798202515\n",
            "rmsprop_lstm_model: 0.7240399718284607\n",
            "ugrnn_dropout_adam_model: 0.8343200087547302\n",
            "lstm_dropout_adam_model: 0.8428400158882141\n"
          ]
        }
      ]
    },
    {
      "cell_type": "code",
      "source": [
        "keys = all_models.keys()\n",
        "for key in keys:\n",
        "  print (f\"{key}: {list(all_models[key].history['train_acc'])}\")"
      ],
      "metadata": {
        "colab": {
          "base_uri": "https://localhost:8080/"
        },
        "id": "iEhlUXzIX_zi",
        "outputId": "c30df3a4-e472-4c33-9035-34fdaf96dfcb"
      },
      "execution_count": 130,
      "outputs": [
        {
          "output_type": "stream",
          "name": "stdout",
          "text": [
            "lstm_model_adam: [0.837, 0.9202, 0.96795, 0.98885, 0.99365, 0.9967, 0.999, 0.99955]\n",
            "ugrnn_model_adam: [0.70445, 0.89745, 0.9148, 0.9595, 0.98175, 0.99255, 0.99665, 0.99755, 0.9987, 0.99315]\n",
            "rmsprop_lstm_model: [0.65705, 0.8507, 0.82865, 0.9082, 0.95375, 0.9807, 0.98685, 0.99435, 0.9962, 0.998]\n",
            "ugrnn_dropout_adam_model: [0.7711, 0.88455, 0.94675, 0.97605, 0.98785, 0.99305, 0.99555, 0.979, 0.98995]\n",
            "lstm_dropout_adam_model: [0.63625, 0.88955, 0.94175, 0.97785, 0.99005, 0.9949, 0.9962, 0.99875, 0.99875]\n"
          ]
        }
      ]
    },
    {
      "cell_type": "code",
      "source": [
        "keys = all_models.keys()\n",
        "for key in keys:\n",
        "  print (f\"{key}: {list(all_models[key].history['eval_acc'])}\")"
      ],
      "metadata": {
        "colab": {
          "base_uri": "https://localhost:8080/"
        },
        "id": "o9OgIFEOY5w-",
        "outputId": "1be1e002-d8cf-4d58-a985-92dfc359e1d0"
      },
      "execution_count": 131,
      "outputs": [
        {
          "output_type": "stream",
          "name": "stdout",
          "text": [
            "lstm_model_adam: [0.8166, 0.871, 0.8906, 0.8886, 0.8796, 0.8758, 0.873, 0.8726]\n",
            "ugrnn_model_adam: [0.7022, 0.8288, 0.8502, 0.8382, 0.8502, 0.8516, 0.8482, 0.8336, 0.8392, 0.8368]\n",
            "rmsprop_lstm_model: [0.6138, 0.7322, 0.6966, 0.6856, 0.7366, 0.7352, 0.7284, 0.736, 0.7186, 0.7274]\n",
            "ugrnn_dropout_adam_model: [0.751, 0.8524, 0.8672, 0.8682, 0.863, 0.866, 0.8608, 0.8226, 0.8572]\n",
            "lstm_dropout_adam_model: [0.6246, 0.8508, 0.8786, 0.8888, 0.8852, 0.8822, 0.8734, 0.8794, 0.8764]\n"
          ]
        }
      ]
    },
    {
      "cell_type": "code",
      "source": [
        "for review in new_reviews:\n",
        "  print (review)"
      ],
      "metadata": {
        "colab": {
          "base_uri": "https://localhost:8080/"
        },
        "id": "W2xH5KdIbzdp",
        "outputId": "ddff3b6d-95bf-49c3-de75-3569781e072c"
      },
      "execution_count": 135,
      "outputs": [
        {
          "output_type": "stream",
          "name": "stdout",
          "text": [
            "I think Bad Apples is a great time and I recommend! I enjoyed the opening, which gave way for the rest of the movie to occur. The main couple was very likable and I believed all of their interactions. They had great onscreen chemistry and made me laugh quite a few times! Keeping the girls in the masks but seeing them in action was something I loved. It kept a mystery to them throughout. I think the dialogue was great. The kills were fun. And the special surprise gore effect at the end was AWESOME!! I won't spoil that part ;) I also enjoyed how the movie wrapped up. It gave a very urban legends type feel of \"did you ever hear the story...\". Plus is leaves the door open for another film which I wouldn't mind at all. Long story short, I think if you take the film for what it is; a fun little horror flick, then you won't be disappointed! HaPpY eArLy HaLLoWeEn!\n",
            "A young couple comes to a small town, where the husband get a job working in a hospital. The wife which you instantly hate or dislike works home, at the same time a horrible murders takes place in this small town by two masked killers. Bad Apples is just your tipical B-horror movie with average acting (I give them that. Altough you may get the idea that some of the actors are crazy-convervative Christians), but the script is just bad, and that's what destroys the film.\n",
            "When you first start watching this movie, you can tell its going to be a painful ride. the audio is poor...the attacks by the \"girls\" are like going back in time, to watching the old rocky films, were blows never touched. the editing is poor with it aswell, example the actress in is the bath when her husband comes home, clearly you see her wearing a flesh coloured bra in the bath. no hints or spoilers, just wait till you find it in a bargain basket of cheap dvds in a couple of weeks\n",
            "Hailed as a classic, but oddly unengaging and Nicholson doesn't help\n",
            "The movie was meh.\n",
            "The movie was dull and drowsy\n",
            "It was a WOW movie\n"
          ]
        }
      ]
    },
    {
      "cell_type": "code",
      "source": [
        "new_reviews_1 = [review_score_11,review_score_21]\n",
        "scores_1 = [1,2]\n",
        "with tf.device(device):\n",
        "    for original_review, score in zip(new_reviews_1, scores_1):\n",
        "      print (f\"Testing review : {original_review}\")\n",
        "      for key in keys:\n",
        "        indexed_review, seq_length = process_new_review(original_review)\n",
        "        indexed_review = tf.reshape(tf.constant(indexed_review), (1,-1))\n",
        "        seq_length = tf.reshape(tf.constant(seq_length), (1,))\n",
        "        logits = all_models[key].predict(indexed_review, seq_length, False)\n",
        "        pred = tf.argmax(logits, axis=1).numpy()[0]\n",
        "        print('Model : %s - sentiment : %s'\n",
        "              %(key, sent_dict[pred]))\n",
        "      print()"
      ],
      "metadata": {
        "colab": {
          "base_uri": "https://localhost:8080/"
        },
        "id": "4ueyfnvVaV5F",
        "outputId": "fc3d2e46-3ad2-41fb-ba36-63ea5ab0e037"
      },
      "execution_count": 143,
      "outputs": [
        {
          "output_type": "stream",
          "name": "stdout",
          "text": [
            "Testing review : Hailed as a classic, but oddly unengaging and Nicholson doesn't help\n",
            "Model : lstm_model_adam - sentiment : negative\n",
            "Model : ugrnn_model_adam - sentiment : positive\n",
            "Model : rmsprop_lstm_model - sentiment : positive\n",
            "Model : ugrnn_dropout_adam_model - sentiment : positive\n",
            "Model : lstm_dropout_adam_model - sentiment : positive\n",
            "\n",
            "Testing review : The movie was meh.\n",
            "Model : lstm_model_adam - sentiment : negative\n",
            "Model : ugrnn_model_adam - sentiment : negative\n",
            "Model : rmsprop_lstm_model - sentiment : positive\n",
            "Model : ugrnn_dropout_adam_model - sentiment : negative\n",
            "Model : lstm_dropout_adam_model - sentiment : negative\n",
            "\n"
          ]
        }
      ]
    },
    {
      "cell_type": "code",
      "source": [
        ""
      ],
      "metadata": {
        "id": "9kF8kKI0cJBi"
      },
      "execution_count": null,
      "outputs": []
    }
  ],
  "metadata": {
    "accelerator": "GPU",
    "colab": {
      "collapsed_sections": [],
      "machine_shape": "hm",
      "name": "RNN_assignment5_1.ipynb",
      "provenance": []
    },
    "kernelspec": {
      "display_name": "Python 3",
      "language": "python",
      "name": "python3"
    },
    "language_info": {
      "codemirror_mode": {
        "name": "ipython",
        "version": 3
      },
      "file_extension": ".py",
      "mimetype": "text/x-python",
      "name": "python",
      "nbconvert_exporter": "python",
      "pygments_lexer": "ipython3",
      "version": "3.6.4"
    }
  },
  "nbformat": 4,
  "nbformat_minor": 0
}