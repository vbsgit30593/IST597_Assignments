{
  "nbformat": 4,
  "nbformat_minor": 0,
  "metadata": {
    "colab": {
      "name": "IST597_Building_CNN_batchnorm.ipynb",
      "provenance": [],
      "collapsed_sections": [],
      "machine_shape": "hm"
    },
    "kernelspec": {
      "name": "python3",
      "display_name": "Python 3"
    },
    "language_info": {
      "name": "python"
    },
    "accelerator": "GPU"
  },
  "cells": [
    {
      "cell_type": "markdown",
      "source": [
        "# In this tutorial we will build basic CNN for image classification.\n",
        "Author :- Ankur Mali\n",
        "* We will define our model and learn how to use keras module to build custom layers\n",
        "* We will also design our own training loop, that is identical to model.fit in Keras.\n",
        "* The aim of this excercise is to teach, how to use exisiting Tensorflow API to construct our own module and integrate it with tf.keras API."
      ],
      "metadata": {
        "id": "iEL0LqOvNctE"
      }
    },
    {
      "cell_type": "code",
      "execution_count": 85,
      "metadata": {
        "id": "SK3DMbzThNBc"
      },
      "outputs": [],
      "source": [
        "import tensorflow as tf\n",
        "import numpy as np\n",
        "import matplotlib.pyplot as plt\n",
        "\n",
        "np.random.seed(1234)"
      ]
    },
    {
      "cell_type": "markdown",
      "source": [
        "#Things to do\n",
        "* Remember to Normalize your data and create validation split from train set.\n",
        "* Learn about tf.data, tf.slices and also tf.records"
      ],
      "metadata": {
        "id": "j3wnZ5tvOTCV"
      }
    },
    {
      "cell_type": "code",
      "source": [
        "(x_train, y_train), (x_test, y_test) = tf.keras.datasets.mnist.load_data()\n",
        "x_val = x_train[50000:60000]\n",
        "x_train = x_train[0:50000]\n",
        "y_val = y_train[50000:60000]\n",
        "y_train = y_train[0:50000]\n",
        "x_train = x_train.astype(np.float32).reshape(-1,28,28,1) / 255.0\n",
        "x_val = x_val.astype(np.float32).reshape(-1,28,28,1) / 255.0\n",
        "x_test = x_test.astype(np.float32).reshape(-1,28,28,1) / 255.0\n",
        "y_train = tf.one_hot(y_train, depth=10)\n",
        "y_val = tf.one_hot(y_val, depth=10)\n",
        "y_test = tf.one_hot(y_test, depth=10)\n",
        "print(x_train.shape)\n",
        "print(x_test.shape)\n",
        "print(x_val.shape)\n",
        "train_dataset = tf.data.Dataset.from_tensor_slices((x_train, y_train))\n",
        "train_dataset = train_dataset.shuffle(buffer_size=1024).batch(128)\n",
        "train_dataset_full = train_dataset.shuffle(buffer_size=1024).batch(len(train_dataset))\n",
        "val_dataset = tf.data.Dataset.from_tensor_slices((x_val, y_val))\n",
        "val_dataset = val_dataset.batch(128)\n",
        "test_dataset = tf.data.Dataset.from_tensor_slices((x_test, y_test))\n",
        "test_dataset = test_dataset.batch(128)\n",
        "print(len(train_dataset))\n",
        "print(len(test_dataset))"
      ],
      "metadata": {
        "colab": {
          "base_uri": "https://localhost:8080/"
        },
        "id": "WWo3ho3whTWU",
        "outputId": "439bf450-1660-4724-c188-046cd186f979"
      },
      "execution_count": 86,
      "outputs": [
        {
          "output_type": "stream",
          "name": "stdout",
          "text": [
            "(50000, 28, 28, 1)\n",
            "(10000, 28, 28, 1)\n",
            "(10000, 28, 28, 1)\n",
            "391\n",
            "79\n"
          ]
        }
      ]
    },
    {
      "cell_type": "markdown",
      "source": [
        "# Create your custom CNN class\n",
        "* Convolution layers has 4D weights of size (h,w,input_feature, output_feature), where h=height of your kernel and w = width of our kernel. If you add batches then it is 5D.\n",
        "* Now your model will convolve across your input feature map with kernel and create output feature map, that is then passed to next layer.\n",
        "* As we have learned in our prior class, to initialize your weights, we use tf.Variable(weight_init(size)), tf.keras.layers.Conv2D will do this for you. Play with the function and see how it works for your problem.\n",
        "* Few important concepts, learn to save your model after every k epochs and start re-training from last checkpoint. This is very useful, and you don't need to retrain your model from scratch.\n"
      ],
      "metadata": {
        "id": "Rs9r9QDvO48Y"
      }
    },
    {
      "cell_type": "code",
      "source": [
        "class ImageRecognitionCNN(tf.keras.Model):\n",
        "    \n",
        "    def __init__(self, num_classes, device='cpu:0', checkpoint_directory=None, batch_norm=\"preact\"):\n",
        "        ''' Define the parameterized layers used during forward-pass, the device\n",
        "            where you would like to run the computation (GPU, TPU, CPU) on and the checkpoint\n",
        "            directory.\n",
        "            \n",
        "            Args:\n",
        "                num_classes: the number of labels in the network.\n",
        "                device: string, 'cpu:n' or 'gpu:n' (n can vary). Default, 'cpu:0'.\n",
        "                checkpoint_directory: the directory where you would like to save or \n",
        "                                      restore a model.\n",
        "        ''' \n",
        "        super(ImageRecognitionCNN, self).__init__()\n",
        "        \n",
        "        # Initialize layers\n",
        "        self.conv1 = tf.keras.layers.Conv2D(64, 3, padding='same', activation=None)\n",
        "        self.bn1 = tf.keras.layers.BatchNormalization()\n",
        "        self.conv2 = tf.keras.layers.Conv2D(64, 3,padding='same', activation=None)\n",
        "        self.bn2 = tf.keras.layers.BatchNormalization()\n",
        "        self.pool1 = tf.keras.layers.MaxPool2D()\n",
        "        self.conv3 = tf.keras.layers.Conv2D(64, 3, padding='same', activation=None)\n",
        "        self.bn3 = tf.keras.layers.BatchNormalization()\n",
        "        self.conv4 = tf.keras.layers.Conv2D(64, 3, padding='same', activation=None)\n",
        "        self.bn4 = tf.keras.layers.BatchNormalization()\n",
        "        # self.pool2 = tf.keras.layers.MaxPool2D()\n",
        "        # self.conv5 = tf.keras.layers.Conv2D(64, 3, padding='same', activation=None)\n",
        "        # self.pool2 = tf.keras.layers.MaxPool2D()\n",
        "        # self.conv6 = tf.keras.layers.Conv2D(64, 3, 2, padding='same', activation=None)\n",
        "        # self.conv7 = tf.keras.layers.Conv2D(64, 1, padding='same', activation=None)\n",
        "        self.conv8 = tf.keras.layers.Conv2D(num_classes, 1, padding='same', activation=None)\n",
        "        \n",
        "        # Define the device \n",
        "        self.device = device\n",
        "        \n",
        "        # Define the checkpoint directory\n",
        "        self.checkpoint_directory = checkpoint_directory\n",
        "        self.acc = tf.keras.metrics.Accuracy()\n",
        "        self.batch_norm = batch_norm\n",
        "\n",
        "    def predict_preact(self, images, training):\n",
        "        \"\"\" Predicts the probability of each class, based on the input sample.\n",
        "            \n",
        "            Args:\n",
        "                images: 4D tensor. Either an image or a batch of images.\n",
        "                training: Boolean. Either the network is predicting in\n",
        "                          training mode or not.\n",
        "        \"\"\"\n",
        "        x = self.conv1(images)\n",
        "        x = self.bn1(x, training=training)\n",
        "        x = tf.nn.relu(x)\n",
        "        x = self.pool1(x)\n",
        "\n",
        "        x = self.conv2(x)\n",
        "        x = self.bn2(x, training=training)\n",
        "        x = tf.nn.relu(x)\n",
        "        x = self.pool1(x)\n",
        "\n",
        "        x = self.conv3(x)\n",
        "        x = self.bn3(x, training=training)\n",
        "        x = tf.nn.relu(x)\n",
        "        x = self.pool1(x)\n",
        "\n",
        "        x = self.conv4(x)\n",
        "        x = self.bn4(x, training=training)\n",
        "        x = tf.nn.relu(x)\n",
        "        x = self.pool1(x)\n",
        "        x = self.conv8(x)\n",
        "        #x = tf.nn.relu(x)\n",
        "        #print(x.shape)\n",
        "        x = tf.reshape(x, (-1, 1, 10))\n",
        "        #x = tf.keras.layers.Flatten(x)\n",
        "        return x\n",
        "\n",
        "    def predict_postact(self, images, training):\n",
        "        \"\"\" Predicts the probability of each class, based on the input sample.\n",
        "            \n",
        "            Args:\n",
        "                images: 4D tensor. Either an image or a batch of images.\n",
        "                training: Boolean. Either the network is predicting in\n",
        "                          training mode or not.\n",
        "        \"\"\"\n",
        "        x = self.conv1(images)\n",
        "        x = tf.nn.relu(x)\n",
        "        x = self.bn1(x, training=training)\n",
        "        x = self.pool1(x)\n",
        "\n",
        "        x = self.conv2(x)\n",
        "        x = tf.nn.relu(x)\n",
        "        x = self.bn2(x, training=training)\n",
        "        x = self.pool1(x)\n",
        "\n",
        "        x = self.conv3(x)\n",
        "        x = tf.nn.relu(x)\n",
        "        x = self.bn3(x, training=training)\n",
        "        x = self.pool1(x)\n",
        "\n",
        "        x = self.conv4(x)\n",
        "        x = tf.nn.relu(x)\n",
        "        x = self.bn4(x, training=training)\n",
        "        x = self.pool1(x)\n",
        "\n",
        "        x = self.conv8(x)\n",
        "        #x = tf.nn.relu(x)\n",
        "        #print(x.shape)\n",
        "        x = tf.reshape(x, (-1, 1, 10))\n",
        "        #x = tf.keras.layers.Flatten(x)\n",
        "        return x\n",
        "    def loss_fn(self, images, target, training):\n",
        "        \"\"\" Defines the loss function used during \n",
        "            training.         \n",
        "        \"\"\"\n",
        "        if self.batch_norm == \"preact\":\n",
        "          preds = self.predict_preact(images, training)\n",
        "        \n",
        "        elif self.batch_norm == \"postact\":\n",
        "          preds = self.predict_postact(images, training)\n",
        "        \n",
        "        else:\n",
        "          import sys\n",
        "          print (\"INVALID BATCH NORM CRITERIA\")\n",
        "          sys.exit()\n",
        "        #print(preds.shape)\n",
        "        #print(target.shape)\n",
        "        loss = tf.nn.softmax_cross_entropy_with_logits(labels=target, logits=preds)\n",
        "        return loss\n",
        "\n",
        "\n",
        "    def grads_fn(self, images, target, training):\n",
        "        \"\"\" Dynamically computes the gradients of the loss value\n",
        "            with respect to the parameters of the model, in each\n",
        "            forward pass.\n",
        "        \"\"\"\n",
        "        with tf.GradientTape() as tape:\n",
        "            loss = self.loss_fn(images, target, training)\n",
        "          \n",
        "        #variables_names = [v.name for v in self.variables]\n",
        "        #print (f\"GRAD FN:Length - {len(self.variables)}, Variables: {variables_names}\")\n",
        "        return tape.gradient(loss, self.variables)\n",
        "    \n",
        "    def restore_model(self):\n",
        "        \"\"\" Function to restore trained model.\n",
        "        \"\"\"\n",
        "        with tf.device(self.device):\n",
        "            # Run the model once to initialize variables\n",
        "            dummy_input = tf.constant(tf.zeros((1,48,48,1)))\n",
        "            if self.batch_norm == \"preact\":\n",
        "              dummy_pred = self.predict_preact(dummy_input, training=False)\n",
        "            else:\n",
        "              dummy_pred = self.predict_postact(dummy_input, training=False)\n",
        "            # Restore the variables of the model\n",
        "            saver = tf.Saver(self.variables)\n",
        "            saver.restore(tf.train.latest_checkpoint\n",
        "                          (self.checkpoint_directory))\n",
        "    \n",
        "    def save_model(self, global_step=0):\n",
        "        \"\"\" Function to save trained model.\n",
        "        \"\"\"\n",
        "        tf.Saver(self.variables).save(self.checkpoint_directory, \n",
        "                                       global_step=global_step)   \n",
        "    \n",
        "    # def compute_accuracy(self, input_data):\n",
        "    #     \"\"\" Compute the accuracy on the input data.\n",
        "    #     \"\"\"\n",
        "    #     with tf.device(self.device):\n",
        "    #         #acc = tf.metrics.Accuracy()\n",
        "    #         for step ,(images, targets) in enumerate(input_data):\n",
        "    #             # Predict the probability of each class\n",
        "    #             #print(targets.shape)\n",
        "    #             logits = self.predict(images, training=False)\n",
        "    #             # Select the class with the highest probability\n",
        "    #             #print(logits.shape)\n",
        "    #             logits = tf.nn.softmax(logits)\n",
        "    #             logits = tf.reshape(logits, [-1, 10])\n",
        "    #             targets = tf.reshape(targets, [-1,10])\n",
        "    #             preds = tf.argmax(logits, axis=1)\n",
        "                \n",
        "    #             #m1.update_state\n",
        "    #             # Compute the accuracy\n",
        "    #             #print(preds.shape)\n",
        "    #             acc(tf.reshape(targets, preds))\n",
        "    #     return acc\n",
        "\n",
        "    def compute_accuracy_2(self, images, targets):\n",
        "        \"\"\" Compute the accuracy on the input data.\n",
        "        \"\"\"\n",
        "        with tf.device(self.device):\n",
        "            \n",
        "            # Predict the probability of each class\n",
        "            if self.batch_norm == \"preact\":\n",
        "              logits = self.predict_preact(images, training=False)\n",
        "            else:\n",
        "              logits = self.predict_postact(images, training=False)\n",
        "            # Select the class with the highest probability\n",
        "            \n",
        "            logits = tf.nn.softmax(logits)\n",
        "            logits = tf.reshape(logits, [-1, 10])\n",
        "            targets = tf.reshape(targets, [-1,10])\n",
        "            preds = tf.argmax(logits, axis=1)\n",
        "            goal = tf.argmax(targets, axis=1)\n",
        "            self.acc.update_state(goal, preds)\n",
        "            # Compute the accuracy\n",
        "            result = self.acc.result().numpy()\n",
        "        return result\n",
        "\n",
        "  \n",
        "    def fit_fc(self, training_data, eval_data, optimizer, num_epochs=500, \n",
        "            early_stopping_rounds=10, verbose=10, train_from_scratch=False):\n",
        "        \"\"\" Function to train the model, using the selected optimizer and\n",
        "            for the desired number of epochs. You can either train from scratch\n",
        "            or load the latest model trained. Early stopping is used in order to\n",
        "            mitigate the risk of overfitting the network.\n",
        "            \n",
        "            Args:\n",
        "                training_data: the data you would like to train the model on.\n",
        "                                Must be in the tf.data.Dataset format.\n",
        "                eval_data: the data you would like to evaluate the model on.\n",
        "                            Must be in the tf.data.Dataset format.\n",
        "                optimizer: the optimizer used during training.\n",
        "                num_epochs: the maximum number of iterations you would like to \n",
        "                            train the model.\n",
        "                early_stopping_rounds: stop training if the loss on the eval \n",
        "                                       dataset does not decrease after n epochs.\n",
        "                verbose: int. Specify how often to print the loss value of the network.\n",
        "                train_from_scratch: boolean. Whether to initialize variables of the\n",
        "                                    the last trained model or initialize them\n",
        "                                    randomly.\n",
        "        \"\"\" \n",
        "    \n",
        "        if train_from_scratch==False:\n",
        "            self.restore_model()\n",
        "        \n",
        "\n",
        "        # Initialize best loss. This variable will store the lowest loss on the\n",
        "        # eval dataset.\n",
        "        best_loss = 999\n",
        "        \n",
        "        # Initialize classes to update the mean loss of train and eval\n",
        "        train_loss = tf.keras.metrics.Mean('train_loss')\n",
        "        eval_loss = tf.keras.metrics.Mean('eval_loss')\n",
        "        acc_train = tf.keras.metrics.Mean('train_acc')\n",
        "        acc_val = tf.keras.metrics.Mean('val_acc')\n",
        "        \n",
        "        # Initialize dictionary to store the loss history\n",
        "        self.history = {}\n",
        "        self.history['train_loss'] = []\n",
        "        self.history['eval_loss'] = []\n",
        "        self.history['train_acc'] = []\n",
        "        self.history['val_acc'] = []\n",
        "        \n",
        "        # Begin training\n",
        "        with tf.device(self.device):\n",
        "            for i in range(num_epochs):\n",
        "                # Training with gradient descent\n",
        "                #training_data_x = training_data.shuffle(buffer_size=1024).batch(128)\n",
        "\n",
        "                for step, (images, target) in enumerate(training_data):\n",
        "                    grads = self.grads_fn(images, target, True)\n",
        "                    optimizer.apply_gradients(zip(grads, self.variables))\n",
        "\n",
        "                # Compute the loss on the training data after one epoch\n",
        "                for step, (images, target) in enumerate(training_data):\n",
        "                    loss = self.loss_fn(images, target, False)\n",
        "                    accuracy = self.compute_accuracy_2(images,target)\n",
        "                    acc_train(accuracy)\n",
        "                    train_loss(loss)\n",
        "                self.history['train_loss'].append(train_loss.result().numpy())\n",
        "                self.history['train_acc'].append(acc_train.result().numpy())\n",
        "                # Reset metrics\n",
        "                train_loss.reset_states()\n",
        "                acc_train.reset_states()\n",
        "                \n",
        "                # Compute the loss on the eval data after one epoch\n",
        "                for step, (images, target) in enumerate(eval_data):\n",
        "                    loss = self.loss_fn(images, target, False)\n",
        "                    accuracy = self.compute_accuracy_2(images,target)\n",
        "                    acc_val(accuracy)\n",
        "                    eval_loss(loss)\n",
        "                self.history['eval_loss'].append(eval_loss.result().numpy())\n",
        "                self.history['val_acc'].append(acc_val.result().numpy())\n",
        "                # Reset metrics\n",
        "                eval_loss.reset_states()\n",
        "                acc_val.reset_states()\n",
        "                \n",
        "                # Print train and eval losses\n",
        "                if (i==0) | ((i+1)%verbose==0):\n",
        "                    print('Train loss at epoch %d: ' %(i+1), self.history['train_loss'][-1])\n",
        "                    print('Train Acc at epoch %d: ' %(i+1), self.history['train_acc'][-1])\n",
        "                    \n",
        "                    print('Eval loss at epoch %d: ' %(i+1), self.history['eval_loss'][-1])\n",
        "                    print('Eval Acc at epoch %d: ' %(i+1), self.history['val_acc'][-1])\n",
        "\n",
        "                # Check for early stopping\n",
        "                if self.history['eval_loss'][-1]<best_loss:\n",
        "                    best_loss = self.history['eval_loss'][-1]\n",
        "                    count = early_stopping_rounds\n",
        "                else:\n",
        "                    count -= 1\n",
        "                if count==0:\n",
        "                    break"
      ],
      "metadata": {
        "id": "KGjSk_lMhb7V"
      },
      "execution_count": 87,
      "outputs": []
    },
    {
      "cell_type": "code",
      "source": [
        "# Specify the path where you want to save/restore the trained variables.\n",
        "checkpoint_directory = 'models_checkpoints/mnist/'\n",
        "\n",
        "# Use the GPU if available.\n",
        "device = 'gpu:0'\n",
        "\n",
        "# Define optimizer.\n",
        "optimizer = tf.compat.v1.train.AdamOptimizer(learning_rate=1e-3)\n",
        "# Instantiate model. This doesn't initialize the variables yet.\n",
        "model_postact = ImageRecognitionCNN(num_classes=10, device=device, \n",
        "                              checkpoint_directory=checkpoint_directory,batch_norm=\"postact\")\n",
        "\n",
        "#model = ImageRecognitionCNN(num_classes=7, device=device)"
      ],
      "metadata": {
        "id": "4a-iuiHIypry"
      },
      "execution_count": 96,
      "outputs": []
    },
    {
      "cell_type": "code",
      "source": [
        "# Train model\n",
        "model_postact.fit_fc(train_dataset, val_dataset, optimizer, num_epochs=20, \n",
        "          early_stopping_rounds=10, verbose=2, train_from_scratch=True)"
      ],
      "metadata": {
        "colab": {
          "base_uri": "https://localhost:8080/"
        },
        "id": "exUkL_OBytBw",
        "outputId": "6c80ba35-c53c-49b1-f1ea-c62054c8f70f"
      },
      "execution_count": 97,
      "outputs": [
        {
          "output_type": "stream",
          "name": "stdout",
          "text": [
            "Train loss at epoch 1:  1.0136367\n",
            "Train Acc at epoch 1:  0.65014315\n",
            "Eval loss at epoch 1:  0.9988546\n",
            "Eval Acc at epoch 1:  0.6474542\n",
            "Train loss at epoch 2:  0.041066226\n",
            "Train Acc at epoch 2:  0.74047744\n",
            "Eval loss at epoch 2:  0.04925299\n",
            "Eval Acc at epoch 2:  0.8102062\n",
            "Train loss at epoch 4:  0.020186799\n",
            "Train Acc at epoch 4:  0.88691163\n",
            "Eval loss at epoch 4:  0.045423333\n",
            "Eval Acc at epoch 4:  0.9009294\n",
            "Train loss at epoch 6:  0.0077015962\n",
            "Train Acc at epoch 6:  0.9265962\n",
            "Eval loss at epoch 6:  0.03463325\n",
            "Eval Acc at epoch 6:  0.93261516\n",
            "Train loss at epoch 8:  0.010140479\n",
            "Train Acc at epoch 8:  0.94475967\n",
            "Eval loss at epoch 8:  0.044770673\n",
            "Eval Acc at epoch 8:  0.948002\n",
            "Train loss at epoch 10:  0.0064851576\n",
            "Train Acc at epoch 10:  0.95553106\n",
            "Eval loss at epoch 10:  0.040013045\n",
            "Eval Acc at epoch 10:  0.9576494\n",
            "Train loss at epoch 12:  0.019077843\n",
            "Train Acc at epoch 12:  0.96242756\n",
            "Eval loss at epoch 12:  0.0629949\n",
            "Eval Acc at epoch 12:  0.96367866\n",
            "Train loss at epoch 14:  0.006223333\n",
            "Train Acc at epoch 14:  0.96736866\n",
            "Eval loss at epoch 14:  0.044241093\n",
            "Eval Acc at epoch 14:  0.96843094\n",
            "Train loss at epoch 16:  0.0067927907\n",
            "Train Acc at epoch 16:  0.97113997\n",
            "Eval loss at epoch 16:  0.05043658\n",
            "Eval Acc at epoch 16:  0.97193485\n"
          ]
        }
      ]
    },
    {
      "cell_type": "code",
      "source": [
        "for step, (images, target) in enumerate(test_dataset):\n",
        "    loss = model_postact.loss_fn(images, target, False)\n",
        "    accuracy = model_postact.compute_accuracy_2(images,target)"
      ],
      "metadata": {
        "id": "lCqFlaMNWDbf"
      },
      "execution_count": 98,
      "outputs": []
    },
    {
      "cell_type": "code",
      "source": [
        "tf.keras.metrics.Mean('loss_test')(loss)"
      ],
      "metadata": {
        "colab": {
          "base_uri": "https://localhost:8080/"
        },
        "id": "QiF6pEMTW2KP",
        "outputId": "8bd59f76-12e2-43ef-f719-12f7f2eeb6c5"
      },
      "execution_count": 99,
      "outputs": [
        {
          "output_type": "execute_result",
          "data": {
            "text/plain": [
              "<tf.Tensor: shape=(), dtype=float32, numpy=1.3976562e-05>"
            ]
          },
          "metadata": {},
          "execution_count": 99
        }
      ]
    },
    {
      "cell_type": "code",
      "source": [
        "tf.keras.metrics.Mean('acc_test')(accuracy)"
      ],
      "metadata": {
        "colab": {
          "base_uri": "https://localhost:8080/"
        },
        "id": "AjWmX00AXDSQ",
        "outputId": "358bf562-714e-4c47-e29e-8412351a0bc6"
      },
      "execution_count": 100,
      "outputs": [
        {
          "output_type": "execute_result",
          "data": {
            "text/plain": [
              "<tf.Tensor: shape=(), dtype=float32, numpy=0.9722237>"
            ]
          },
          "metadata": {},
          "execution_count": 100
        }
      ]
    },
    {
      "cell_type": "code",
      "source": [
        "# Specify the path where you want to save/restore the trained variables.\n",
        "checkpoint_directory = 'models_checkpoints/mnist/'\n",
        "\n",
        "# Use the GPU if available.\n",
        "device = 'gpu:0'\n",
        "\n",
        "# Define optimizer.\n",
        "optimizer = tf.compat.v1.train.AdamOptimizer(learning_rate=1e-3)\n",
        "# Instantiate model. This doesn't initialize the variables yet.\n",
        "model_preact = ImageRecognitionCNN(num_classes=10, device=device, \n",
        "                              checkpoint_directory=checkpoint_directory,batch_norm=\"preact\")\n",
        "\n",
        "#model = ImageRecognitionCNN(num_classes=7, device=device)"
      ],
      "metadata": {
        "id": "1IVJSGotP8YZ"
      },
      "execution_count": 101,
      "outputs": []
    },
    {
      "cell_type": "code",
      "source": [
        "# Train model\n",
        "model_preact.fit_fc(train_dataset, val_dataset, optimizer, num_epochs=10, \n",
        "          early_stopping_rounds=10, verbose=2, train_from_scratch=True)"
      ],
      "metadata": {
        "colab": {
          "base_uri": "https://localhost:8080/"
        },
        "id": "DqIUEOBYQozq",
        "outputId": "e79862c2-3286-41b9-a593-53901e1081cf"
      },
      "execution_count": 102,
      "outputs": [
        {
          "output_type": "stream",
          "name": "stdout",
          "text": [
            "Train loss at epoch 1:  1.7153848\n",
            "Train Acc at epoch 1:  0.34574747\n",
            "Eval loss at epoch 1:  1.702257\n",
            "Eval Acc at epoch 1:  0.34122995\n",
            "Train loss at epoch 2:  0.033808663\n",
            "Train Acc at epoch 2:  0.5189435\n",
            "Eval loss at epoch 2:  0.043192573\n",
            "Eval Acc at epoch 2:  0.6519207\n",
            "Train loss at epoch 4:  0.026600964\n",
            "Train Acc at epoch 4:  0.7983858\n",
            "Eval loss at epoch 4:  0.04066246\n",
            "Eval Acc at epoch 4:  0.82387227\n",
            "Train loss at epoch 6:  0.015944453\n",
            "Train Acc at epoch 6:  0.87084687\n",
            "Eval loss at epoch 6:  0.03807901\n",
            "Eval Acc at epoch 6:  0.88147473\n",
            "Train loss at epoch 8:  0.012583611\n",
            "Train Acc at epoch 8:  0.9042992\n",
            "Eval loss at epoch 8:  0.037670527\n",
            "Eval Acc at epoch 8:  0.9100999\n",
            "Train loss at epoch 10:  0.0093951095\n",
            "Train Acc at epoch 10:  0.9163023\n",
            "Eval loss at epoch 10:  0.03735969\n",
            "Eval Acc at epoch 10:  0.92035085\n"
          ]
        }
      ]
    },
    {
      "cell_type": "code",
      "source": [
        "def test_model(model, data):\n",
        "    model.history['test_loss'] = []\n",
        "    model.history['test_acc'] = []\n",
        "    acc_test = tf.keras.metrics.Mean('test_acc')\n",
        "    test_loss = tf.keras.metrics.Mean('test_loss')\n",
        "    for step, (images, target) in enumerate(data):\n",
        "        loss = model.loss_fn(images, target, False)\n",
        "        accuracy = model.compute_accuracy_2(images,target)\n",
        "        #print (f\"Loss: {loss}\")\n",
        "        #print (f\"Accuracy : {accuracy}\")\n",
        "        acc_test(accuracy)\n",
        "        test_loss(loss)\n",
        "        #print (acc_test.result())\n",
        "        #print (test_loss.result())\n",
        "    model.history['test_loss'].append(test_loss.result().numpy())\n",
        "    model.history['test_acc'].append(acc_test.result().numpy())\n",
        "    # Reset metrics\n",
        "    test_loss.reset_states()\n",
        "    acc_test.reset_states()\n",
        "\n",
        "    print(f\"Test loss {model.history['test_loss'][-1]}\")\n",
        "    print(f\"Test Acc {model.history['test_acc'][-1]}\")"
      ],
      "metadata": {
        "id": "eT1Ow9TfXTPS"
      },
      "execution_count": 103,
      "outputs": []
    },
    {
      "cell_type": "code",
      "source": [
        "test_model(model_preact, test_dataset)"
      ],
      "metadata": {
        "colab": {
          "base_uri": "https://localhost:8080/"
        },
        "id": "dKGr7R2ogq9e",
        "outputId": "b1edcd8e-3dac-4f8e-a76b-0b657ff31697"
      },
      "execution_count": 104,
      "outputs": [
        {
          "output_type": "stream",
          "name": "stdout",
          "text": [
            "Test loss 0.0377860963344574\n",
            "Test Acc 0.9214552640914917\n"
          ]
        }
      ]
    },
    {
      "cell_type": "code",
      "source": [
        "model_preact.history"
      ],
      "metadata": {
        "colab": {
          "base_uri": "https://localhost:8080/"
        },
        "id": "OZbKY0VGgvEs",
        "outputId": "98414ee1-01ff-40ab-ee8a-652217a0c877"
      },
      "execution_count": 106,
      "outputs": [
        {
          "output_type": "execute_result",
          "data": {
            "text/plain": [
              "DictWrapper({'train_loss': ListWrapper([1.7153848, 0.033808663, 0.037996083, 0.026600964, 0.01258595, 0.015944453, 0.011721668, 0.012583611, 0.2681731, 0.0093951095]), 'eval_loss': ListWrapper([1.702257, 0.043192573, 0.05658758, 0.04066246, 0.036848508, 0.03807901, 0.037324883, 0.037670527, 0.2759319, 0.03735969]), 'train_acc': ListWrapper([0.34574747, 0.5189435, 0.7186159, 0.7983858, 0.8427083, 0.87084687, 0.8901514, 0.9042992, 0.91166365, 0.9163023]), 'val_acc': ListWrapper([0.34122995, 0.6519207, 0.7668183, 0.82387227, 0.85864943, 0.88147473, 0.8978832, 0.9100999, 0.9124228, 0.92035085]), 'test_loss': ListWrapper([0.037786096]), 'test_acc': ListWrapper([0.92145526])})"
            ]
          },
          "metadata": {},
          "execution_count": 106
        }
      ]
    },
    {
      "cell_type": "code",
      "source": [
        "model_postact.history"
      ],
      "metadata": {
        "colab": {
          "base_uri": "https://localhost:8080/"
        },
        "id": "ArWMMoN4TlKP",
        "outputId": "3f344ec7-5816-4116-ba03-f6bcef9fcea5"
      },
      "execution_count": 107,
      "outputs": [
        {
          "output_type": "execute_result",
          "data": {
            "text/plain": [
              "DictWrapper({'train_loss': ListWrapper([1.0136367, 0.041066226, 0.04845216, 0.020186799, 0.015862511, 0.0077015962, 0.020116484, 0.010140479, 0.010556692, 0.0064851576, 0.011482169, 0.019077843, 0.00428134, 0.006223333, 0.006061254, 0.0067927907]), 'eval_loss': ListWrapper([0.9988546, 0.04925299, 0.06532862, 0.045423333, 0.04673805, 0.03463325, 0.051276766, 0.044770673, 0.045680296, 0.040013045, 0.049008995, 0.0629949, 0.042178925, 0.044241093, 0.05117779, 0.05043658]), 'train_acc': ListWrapper([0.65014315, 0.74047744, 0.84471244, 0.88691163, 0.91104007, 0.9265962, 0.93720573, 0.94475967, 0.95074564, 0.95553106, 0.9594141, 0.96242756, 0.96497625, 0.96736866, 0.96939987, 0.97113997]), 'val_acc': ListWrapper([0.6474542, 0.8102062, 0.86967003, 0.9009294, 0.9197072, 0.93261516, 0.94123954, 0.948002, 0.95329267, 0.9576494, 0.9610695, 0.96367866, 0.96624583, 0.96843094, 0.9703101, 0.97193485])})"
            ]
          },
          "metadata": {},
          "execution_count": 107
        }
      ]
    },
    {
      "cell_type": "code",
      "source": [
        "test_model(model_postact, test_dataset)"
      ],
      "metadata": {
        "colab": {
          "base_uri": "https://localhost:8080/"
        },
        "id": "-iyXb5KHTvR3",
        "outputId": "e3ede9a6-4caf-4407-f6c3-c1eb116979fd"
      },
      "execution_count": 108,
      "outputs": [
        {
          "output_type": "stream",
          "name": "stdout",
          "text": [
            "Test loss 0.03316536918282509\n",
            "Test Acc 0.9723150730133057\n"
          ]
        }
      ]
    },
    {
      "cell_type": "code",
      "source": [
        "model_postact.history"
      ],
      "metadata": {
        "colab": {
          "base_uri": "https://localhost:8080/"
        },
        "id": "C8NJotMoT4e2",
        "outputId": "f5f7892a-6d1f-4484-e817-dfd7ba7f219d"
      },
      "execution_count": 109,
      "outputs": [
        {
          "output_type": "execute_result",
          "data": {
            "text/plain": [
              "DictWrapper({'train_loss': ListWrapper([1.0136367, 0.041066226, 0.04845216, 0.020186799, 0.015862511, 0.0077015962, 0.020116484, 0.010140479, 0.010556692, 0.0064851576, 0.011482169, 0.019077843, 0.00428134, 0.006223333, 0.006061254, 0.0067927907]), 'eval_loss': ListWrapper([0.9988546, 0.04925299, 0.06532862, 0.045423333, 0.04673805, 0.03463325, 0.051276766, 0.044770673, 0.045680296, 0.040013045, 0.049008995, 0.0629949, 0.042178925, 0.044241093, 0.05117779, 0.05043658]), 'train_acc': ListWrapper([0.65014315, 0.74047744, 0.84471244, 0.88691163, 0.91104007, 0.9265962, 0.93720573, 0.94475967, 0.95074564, 0.95553106, 0.9594141, 0.96242756, 0.96497625, 0.96736866, 0.96939987, 0.97113997]), 'val_acc': ListWrapper([0.6474542, 0.8102062, 0.86967003, 0.9009294, 0.9197072, 0.93261516, 0.94123954, 0.948002, 0.95329267, 0.9576494, 0.9610695, 0.96367866, 0.96624583, 0.96843094, 0.9703101, 0.97193485]), 'test_loss': ListWrapper([0.03316537]), 'test_acc': ListWrapper([0.9723151])})"
            ]
          },
          "metadata": {},
          "execution_count": 109
        }
      ]
    },
    {
      "cell_type": "markdown",
      "source": [
        "## Inference code"
      ],
      "metadata": {
        "id": "1ZDzheRDUizy"
      }
    },
    {
      "cell_type": "code",
      "source": [
        "batch_norm_list = [\"preact\", \"postact\"]\n",
        "random_seeds = list(np.random.randint(low=1000, high=100000, size=3))\n",
        "print (f\"Generated seeds: {random_seeds}\")"
      ],
      "metadata": {
        "colab": {
          "base_uri": "https://localhost:8080/"
        },
        "id": "MDVjrymmUlul",
        "outputId": "1c1eb5d0-3db7-4ed3-8e60-18b6f56ef3c2"
      },
      "execution_count": 110,
      "outputs": [
        {
          "output_type": "stream",
          "name": "stdout",
          "text": [
            "Generated seeds: [93975, 59067, 35086]\n"
          ]
        }
      ]
    },
    {
      "cell_type": "code",
      "source": [
        "import json\n",
        "checkpoint_directory = 'models_checkpoints/mnist/'\n",
        "#dict wrappers with seed as key\n",
        "inference_result_final = {\"preact\":{}, \"postact\":{}}\n",
        "\n",
        "# Define optimizer.\n",
        "optimizer = tf.compat.v1.train.AdamOptimizer(learning_rate=1e-3)\n",
        "num_epochs=20\n",
        "#Keeping early stopping high for result comparison\n",
        "early_stopping_rounds=20\n",
        "\n",
        "for batch_norm in batch_norm_list:\n",
        "  print (f\"## Processing for batch norm mode - {batch_norm} ##\")\n",
        "  seed_result_dict = {}\n",
        "\n",
        "  for cur_seed in random_seeds:\n",
        "    print (f\"*** Current seed: {cur_seed} ***\")\n",
        "    np.random.seed(cur_seed)\n",
        "    tf.random.set_seed(cur_seed)\n",
        "    # Instantiate model. This doesn't initialize the variables yet.\n",
        "    model = ImageRecognitionCNN(num_classes=10, device=device,batch_norm=batch_norm,checkpoint_directory=checkpoint_directory, )\n",
        "    # Train model\n",
        "    model.fit_fc(train_dataset, val_dataset, optimizer, num_epochs=num_epochs, early_stopping_rounds=early_stopping_rounds,\n",
        "                 verbose=2, train_from_scratch=True)\n",
        "    test_model(model, test_dataset)\n",
        "\n",
        "    print (\"##Generated history from the model##\")\n",
        "    print (model.history)\n",
        "    seed_result_dict[cur_seed] = model.history\n",
        "  \n",
        "  print (f\"$$$ Results obtained for mode :{batch_norm} $$$\")\n",
        "  print (seed_result_dict)\n",
        "\n",
        "  inference_result_final[batch_norm] = seed_result_dict\n",
        "\n",
        "  with open('fmnist_stats_bnorm_cnn.json', 'w') as convert_file:\n",
        "    convert_file.write(json.dumps(str(inference_result_final)))\n",
        "print (\"## Final inference results ##\")\n",
        "print (inference_result_final)\n",
        "\n",
        "\n",
        "\n",
        "\n",
        "\n"
      ],
      "metadata": {
        "colab": {
          "base_uri": "https://localhost:8080/"
        },
        "id": "QcTNqa9VUwf4",
        "outputId": "014e2fcd-1d10-4eed-cc50-84e7f0a8a810"
      },
      "execution_count": 124,
      "outputs": [
        {
          "output_type": "stream",
          "name": "stdout",
          "text": [
            "## Processing for batch norm mode - preact ##\n",
            "*** Current seed: 93975 ***\n",
            "Train loss at epoch 1:  1.5020629\n",
            "Train Acc at epoch 1:  0.46342972\n",
            "Eval loss at epoch 1:  1.4894319\n",
            "Eval Acc at epoch 1:  0.4595167\n",
            "Train loss at epoch 2:  0.111513734\n",
            "Train Acc at epoch 2:  0.59823185\n",
            "Eval loss at epoch 2:  0.11371566\n",
            "Eval Acc at epoch 2:  0.7012092\n",
            "Train loss at epoch 4:  0.017374333\n",
            "Train Acc at epoch 4:  0.8270072\n",
            "Eval loss at epoch 4:  0.036414247\n",
            "Eval Acc at epoch 4:  0.84910727\n",
            "Train loss at epoch 6:  0.01920261\n",
            "Train Acc at epoch 6:  0.8878606\n",
            "Eval loss at epoch 6:  0.053478215\n",
            "Eval Acc at epoch 6:  0.8968813\n",
            "Train loss at epoch 8:  0.013006775\n",
            "Train Acc at epoch 8:  0.9163624\n",
            "Eval loss at epoch 8:  0.045375794\n",
            "Eval Acc at epoch 8:  0.92137563\n",
            "Train loss at epoch 10:  0.02955879\n",
            "Train Acc at epoch 10:  0.9328568\n",
            "Eval loss at epoch 10:  0.057921425\n",
            "Eval Acc at epoch 10:  0.9357214\n",
            "Train loss at epoch 12:  0.0034335377\n",
            "Train Acc at epoch 12:  0.9437852\n",
            "Eval loss at epoch 12:  0.03271551\n",
            "Eval Acc at epoch 12:  0.94608575\n",
            "Train loss at epoch 14:  0.01041007\n",
            "Train Acc at epoch 14:  0.9514979\n",
            "Eval loss at epoch 14:  0.051408257\n",
            "Eval Acc at epoch 14:  0.9530753\n",
            "Train loss at epoch 16:  0.002889713\n",
            "Train Acc at epoch 16:  0.95715415\n",
            "Eval loss at epoch 16:  0.033954185\n",
            "Eval Acc at epoch 16:  0.95844054\n",
            "Train loss at epoch 18:  0.032979805\n",
            "Train Acc at epoch 18:  0.9613759\n",
            "Eval loss at epoch 18:  0.0765837\n",
            "Eval Acc at epoch 18:  0.96212035\n",
            "Train loss at epoch 20:  0.00763044\n",
            "Train Acc at epoch 20:  0.9648428\n",
            "Eval loss at epoch 20:  0.041010637\n",
            "Eval Acc at epoch 20:  0.9656467\n",
            "Test loss 0.03114769048988819\n",
            "Test Acc 0.9658489227294922\n",
            "##Generated history from the model##\n",
            "{'train_loss': ListWrapper([1.5020629, 0.111513734, 0.030485028, 0.017374333, 0.03239861, 0.01920261, 0.014212104, 0.013006775, 0.008543896, 0.02955879, 0.0046242927, 0.0034335377, 0.014850172, 0.01041007, 0.013744503, 0.002889713, 0.010793175, 0.032979805, 0.0018519362, 0.00763044]), 'eval_loss': ListWrapper([1.4894319, 0.11371566, 0.044650886, 0.036414247, 0.052803338, 0.053478215, 0.03845852, 0.045375794, 0.035503767, 0.057921425, 0.03181747, 0.03271551, 0.045986272, 0.051408257, 0.044059474, 0.033954185, 0.05636869, 0.0765837, 0.028544867, 0.041010637]), 'train_acc': ListWrapper([0.46342972, 0.59823185, 0.7577656, 0.8270072, 0.8645047, 0.8878606, 0.90423805, 0.9163624, 0.925725, 0.9328568, 0.93860024, 0.9437852, 0.94800705, 0.9514979, 0.9544715, 0.95715415, 0.95954573, 0.9613759, 0.96305865, 0.9648428]), 'val_acc': ListWrapper([0.4595167, 0.7012092, 0.79946804, 0.84910727, 0.8775046, 0.8968813, 0.91083974, 0.92137563, 0.9297435, 0.9357214, 0.9413433, 0.94608575, 0.94981605, 0.9530753, 0.95582145, 0.95844054, 0.9605964, 0.96212035, 0.96400565, 0.9656467]), 'test_loss': ListWrapper([0.03114769]), 'test_acc': ListWrapper([0.9658489])}\n",
            "*** Current seed: 59067 ***\n",
            "Train loss at epoch 1:  0.6333131\n",
            "Train Acc at epoch 1:  0.7836289\n",
            "Eval loss at epoch 1:  0.61458904\n",
            "Eval Acc at epoch 1:  0.7817366\n",
            "Train loss at epoch 2:  0.032102894\n",
            "Train Acc at epoch 2:  0.84003925\n",
            "Eval loss at epoch 2:  0.043392815\n",
            "Eval Acc at epoch 2:  0.88226366\n",
            "Train loss at epoch 4:  0.019812327\n",
            "Train Acc at epoch 4:  0.9306596\n",
            "Eval loss at epoch 4:  0.035377994\n",
            "Eval Acc at epoch 4:  0.9389244\n",
            "Train loss at epoch 6:  0.013191328\n",
            "Train Acc at epoch 6:  0.953633\n",
            "Eval loss at epoch 6:  0.035798118\n",
            "Eval Acc at epoch 6:  0.9572343\n",
            "Train loss at epoch 8:  0.0069683697\n",
            "Train Acc at epoch 8:  0.96501577\n",
            "Eval loss at epoch 8:  0.034040615\n",
            "Eval Acc at epoch 8:  0.96707445\n",
            "Train loss at epoch 10:  0.011286404\n",
            "Train Acc at epoch 10:  0.9713998\n",
            "Eval loss at epoch 10:  0.04054681\n",
            "Eval Acc at epoch 10:  0.97261703\n",
            "Train loss at epoch 12:  0.030516975\n",
            "Train Acc at epoch 12:  0.9755055\n",
            "Eval loss at epoch 12:  0.066842675\n",
            "Eval Acc at epoch 12:  0.9760557\n",
            "Train loss at epoch 14:  0.01151331\n",
            "Train Acc at epoch 14:  0.9780084\n",
            "Eval loss at epoch 14:  0.04596895\n",
            "Eval Acc at epoch 14:  0.978633\n",
            "Train loss at epoch 16:  0.043913692\n",
            "Train Acc at epoch 16:  0.98010904\n",
            "Eval loss at epoch 16:  0.07932518\n",
            "Eval Acc at epoch 16:  0.9802786\n",
            "Train loss at epoch 18:  0.003367858\n",
            "Train Acc at epoch 18:  0.981601\n",
            "Eval loss at epoch 18:  0.03816896\n",
            "Eval Acc at epoch 18:  0.98204494\n",
            "Train loss at epoch 20:  0.005885481\n",
            "Train Acc at epoch 20:  0.9830212\n",
            "Eval loss at epoch 20:  0.031941734\n",
            "Eval Acc at epoch 20:  0.98338735\n",
            "Test loss 0.03180895373225212\n",
            "Test Acc 0.9834496378898621\n",
            "##Generated history from the model##\n",
            "{'train_loss': ListWrapper([0.6333131, 0.032102894, 0.019049283, 0.019812327, 0.022937592, 0.013191328, 0.009741381, 0.0069683697, 0.013633315, 0.011286404, 0.0054675434, 0.030516975, 0.015975581, 0.01151331, 0.0039865747, 0.043913692, 0.0095618805, 0.003367858, 0.014858925, 0.005885481]), 'eval_loss': ListWrapper([0.61458904, 0.043392815, 0.037182834, 0.035377994, 0.043679878, 0.035798118, 0.03425306, 0.034040615, 0.049931105, 0.04054681, 0.035356075, 0.066842675, 0.043538246, 0.04596895, 0.034598067, 0.07932518, 0.047629554, 0.03816896, 0.053242836, 0.031941734]), 'train_acc': ListWrapper([0.7836289, 0.84003925, 0.904263, 0.9306596, 0.94469637, 0.953633, 0.9601539, 0.96501577, 0.9686636, 0.9713998, 0.97376597, 0.9755055, 0.9767037, 0.9780084, 0.97926587, 0.98010904, 0.9806954, 0.981601, 0.9823734, 0.9830212]), 'val_acc': ListWrapper([0.7817366, 0.88226366, 0.9203954, 0.9389244, 0.94964665, 0.9572343, 0.96276635, 0.96707445, 0.97012794, 0.97261703, 0.9748775, 0.9760557, 0.9773737, 0.978633, 0.9798903, 0.9802786, 0.98113567, 0.98204494, 0.9826886, 0.98338735]), 'test_loss': ListWrapper([0.031808954]), 'test_acc': ListWrapper([0.98344964])}\n",
            "*** Current seed: 35086 ***\n",
            "Train loss at epoch 1:  1.8664559\n",
            "Train Acc at epoch 1:  0.2860653\n",
            "Eval loss at epoch 1:  1.8307102\n",
            "Eval Acc at epoch 1:  0.28292271\n",
            "Train loss at epoch 2:  0.0277535\n",
            "Train Acc at epoch 2:  0.47741956\n",
            "Eval loss at epoch 2:  0.03638487\n",
            "Eval Acc at epoch 2:  0.6225294\n",
            "Train loss at epoch 4:  0.015906628\n",
            "Train Acc at epoch 4:  0.7846124\n",
            "Eval loss at epoch 4:  0.03557055\n",
            "Eval Acc at epoch 4:  0.8123054\n",
            "Train loss at epoch 6:  0.013607118\n",
            "Train Acc at epoch 6:  0.8624094\n",
            "Eval loss at epoch 6:  0.03873594\n",
            "Eval Acc at epoch 6:  0.87382054\n",
            "Train loss at epoch 8:  0.0041651134\n",
            "Train Acc at epoch 8:  0.8986169\n",
            "Eval loss at epoch 8:  0.030477352\n",
            "Eval Acc at epoch 8:  0.904987\n",
            "Train loss at epoch 10:  0.013844115\n",
            "Train Acc at epoch 10:  0.9187643\n",
            "Eval loss at epoch 10:  0.044959094\n",
            "Eval Acc at epoch 10:  0.9226121\n",
            "Train loss at epoch 12:  0.005228277\n",
            "Train Acc at epoch 12:  0.932332\n",
            "Eval loss at epoch 12:  0.03599776\n",
            "Eval Acc at epoch 12:  0.93508536\n",
            "Train loss at epoch 14:  0.0040913164\n",
            "Train Acc at epoch 14:  0.94206774\n",
            "Eval loss at epoch 14:  0.029442279\n",
            "Eval Acc at epoch 14:  0.9440935\n",
            "Train loss at epoch 16:  0.004678122\n",
            "Train Acc at epoch 16:  0.94901717\n",
            "Eval loss at epoch 16:  0.0445571\n",
            "Eval Acc at epoch 16:  0.95053643\n",
            "Train loss at epoch 18:  0.00095867465\n",
            "Train Acc at epoch 18:  0.95458007\n",
            "Eval loss at epoch 18:  0.027259674\n",
            "Eval Acc at epoch 18:  0.9558225\n",
            "Train loss at epoch 20:  0.012750941\n",
            "Train Acc at epoch 20:  0.9589669\n",
            "Eval loss at epoch 20:  0.05406733\n",
            "Eval Acc at epoch 20:  0.959863\n",
            "Test loss 0.040787797421216965\n",
            "Test Acc 0.9601051211357117\n",
            "##Generated history from the model##\n",
            "{'train_loss': ListWrapper([1.8664559, 0.0277535, 0.016271364, 0.015906628, 0.016602397, 0.013607118, 0.0066313017, 0.0041651134, 0.025199896, 0.013844115, 0.0062583825, 0.005228277, 0.0030493222, 0.0040913164, 0.014648319, 0.004678122, 0.00493995, 0.00095867465, 0.00412795, 0.012750941]), 'eval_loss': ListWrapper([1.8307102, 0.03638487, 0.03404544, 0.03557055, 0.032021135, 0.03873594, 0.033708677, 0.030477352, 0.048881423, 0.044959094, 0.037477028, 0.03599776, 0.033120755, 0.029442279, 0.056746654, 0.0445571, 0.03413323, 0.027259674, 0.042175744, 0.05406733]), 'train_acc': ListWrapper([0.2860653, 0.47741956, 0.6964079, 0.7846124, 0.83232933, 0.8624094, 0.88320273, 0.8986169, 0.91004705, 0.9187643, 0.9261041, 0.932332, 0.93758076, 0.94206774, 0.9458275, 0.94901717, 0.95193684, 0.95458007, 0.9569566, 0.9589669]), 'val_acc': ListWrapper([0.28292271, 0.6225294, 0.7499737, 0.8123054, 0.84925175, 0.87382054, 0.89158505, 0.904987, 0.91461426, 0.9226121, 0.9293915, 0.93508536, 0.9399412, 0.9440935, 0.9474377, 0.95053643, 0.9532919, 0.9558225, 0.958031, 0.959863]), 'test_loss': ListWrapper([0.040787797]), 'test_acc': ListWrapper([0.9601051])}\n",
            "$$$ Results obtained for mode :preact $$$\n",
            "{93975: DictWrapper({'train_loss': ListWrapper([1.5020629, 0.111513734, 0.030485028, 0.017374333, 0.03239861, 0.01920261, 0.014212104, 0.013006775, 0.008543896, 0.02955879, 0.0046242927, 0.0034335377, 0.014850172, 0.01041007, 0.013744503, 0.002889713, 0.010793175, 0.032979805, 0.0018519362, 0.00763044]), 'eval_loss': ListWrapper([1.4894319, 0.11371566, 0.044650886, 0.036414247, 0.052803338, 0.053478215, 0.03845852, 0.045375794, 0.035503767, 0.057921425, 0.03181747, 0.03271551, 0.045986272, 0.051408257, 0.044059474, 0.033954185, 0.05636869, 0.0765837, 0.028544867, 0.041010637]), 'train_acc': ListWrapper([0.46342972, 0.59823185, 0.7577656, 0.8270072, 0.8645047, 0.8878606, 0.90423805, 0.9163624, 0.925725, 0.9328568, 0.93860024, 0.9437852, 0.94800705, 0.9514979, 0.9544715, 0.95715415, 0.95954573, 0.9613759, 0.96305865, 0.9648428]), 'val_acc': ListWrapper([0.4595167, 0.7012092, 0.79946804, 0.84910727, 0.8775046, 0.8968813, 0.91083974, 0.92137563, 0.9297435, 0.9357214, 0.9413433, 0.94608575, 0.94981605, 0.9530753, 0.95582145, 0.95844054, 0.9605964, 0.96212035, 0.96400565, 0.9656467]), 'test_loss': ListWrapper([0.03114769]), 'test_acc': ListWrapper([0.9658489])}), 59067: DictWrapper({'train_loss': ListWrapper([0.6333131, 0.032102894, 0.019049283, 0.019812327, 0.022937592, 0.013191328, 0.009741381, 0.0069683697, 0.013633315, 0.011286404, 0.0054675434, 0.030516975, 0.015975581, 0.01151331, 0.0039865747, 0.043913692, 0.0095618805, 0.003367858, 0.014858925, 0.005885481]), 'eval_loss': ListWrapper([0.61458904, 0.043392815, 0.037182834, 0.035377994, 0.043679878, 0.035798118, 0.03425306, 0.034040615, 0.049931105, 0.04054681, 0.035356075, 0.066842675, 0.043538246, 0.04596895, 0.034598067, 0.07932518, 0.047629554, 0.03816896, 0.053242836, 0.031941734]), 'train_acc': ListWrapper([0.7836289, 0.84003925, 0.904263, 0.9306596, 0.94469637, 0.953633, 0.9601539, 0.96501577, 0.9686636, 0.9713998, 0.97376597, 0.9755055, 0.9767037, 0.9780084, 0.97926587, 0.98010904, 0.9806954, 0.981601, 0.9823734, 0.9830212]), 'val_acc': ListWrapper([0.7817366, 0.88226366, 0.9203954, 0.9389244, 0.94964665, 0.9572343, 0.96276635, 0.96707445, 0.97012794, 0.97261703, 0.9748775, 0.9760557, 0.9773737, 0.978633, 0.9798903, 0.9802786, 0.98113567, 0.98204494, 0.9826886, 0.98338735]), 'test_loss': ListWrapper([0.031808954]), 'test_acc': ListWrapper([0.98344964])}), 35086: DictWrapper({'train_loss': ListWrapper([1.8664559, 0.0277535, 0.016271364, 0.015906628, 0.016602397, 0.013607118, 0.0066313017, 0.0041651134, 0.025199896, 0.013844115, 0.0062583825, 0.005228277, 0.0030493222, 0.0040913164, 0.014648319, 0.004678122, 0.00493995, 0.00095867465, 0.00412795, 0.012750941]), 'eval_loss': ListWrapper([1.8307102, 0.03638487, 0.03404544, 0.03557055, 0.032021135, 0.03873594, 0.033708677, 0.030477352, 0.048881423, 0.044959094, 0.037477028, 0.03599776, 0.033120755, 0.029442279, 0.056746654, 0.0445571, 0.03413323, 0.027259674, 0.042175744, 0.05406733]), 'train_acc': ListWrapper([0.2860653, 0.47741956, 0.6964079, 0.7846124, 0.83232933, 0.8624094, 0.88320273, 0.8986169, 0.91004705, 0.9187643, 0.9261041, 0.932332, 0.93758076, 0.94206774, 0.9458275, 0.94901717, 0.95193684, 0.95458007, 0.9569566, 0.9589669]), 'val_acc': ListWrapper([0.28292271, 0.6225294, 0.7499737, 0.8123054, 0.84925175, 0.87382054, 0.89158505, 0.904987, 0.91461426, 0.9226121, 0.9293915, 0.93508536, 0.9399412, 0.9440935, 0.9474377, 0.95053643, 0.9532919, 0.9558225, 0.958031, 0.959863]), 'test_loss': ListWrapper([0.040787797]), 'test_acc': ListWrapper([0.9601051])})}\n",
            "## Processing for batch norm mode - postact ##\n",
            "*** Current seed: 93975 ***\n",
            "Train loss at epoch 1:  1.9441502\n",
            "Train Acc at epoch 1:  0.511327\n",
            "Eval loss at epoch 1:  1.9253931\n",
            "Eval Acc at epoch 1:  0.5127375\n",
            "Train loss at epoch 2:  0.024550203\n",
            "Train Acc at epoch 2:  0.64382976\n",
            "Eval loss at epoch 2:  0.03782888\n",
            "Eval Acc at epoch 2:  0.74242926\n",
            "Train loss at epoch 4:  0.012831195\n",
            "Train Acc at epoch 4:  0.8510404\n",
            "Eval loss at epoch 4:  0.03784327\n",
            "Eval Acc at epoch 4:  0.8700745\n",
            "Train loss at epoch 6:  0.010810825\n",
            "Train Acc at epoch 6:  0.90449756\n",
            "Eval loss at epoch 6:  0.036610663\n",
            "Eval Acc at epoch 6:  0.91236365\n",
            "Train loss at epoch 8:  0.0071930927\n",
            "Train Acc at epoch 8:  0.92909586\n",
            "Eval loss at epoch 8:  0.042122036\n",
            "Eval Acc at epoch 8:  0.9334178\n",
            "Train loss at epoch 10:  0.02276829\n",
            "Train Acc at epoch 10:  0.942896\n",
            "Eval loss at epoch 10:  0.06587202\n",
            "Eval Acc at epoch 10:  0.9453684\n",
            "Train loss at epoch 12:  0.008343734\n",
            "Train Acc at epoch 12:  0.9520231\n",
            "Eval loss at epoch 12:  0.039331656\n",
            "Eval Acc at epoch 12:  0.9539041\n",
            "Train loss at epoch 14:  0.022552257\n",
            "Train Acc at epoch 14:  0.95817065\n",
            "Eval loss at epoch 14:  0.061404668\n",
            "Eval Acc at epoch 14:  0.95940155\n",
            "Train loss at epoch 16:  0.0025793836\n",
            "Train Acc at epoch 16:  0.9630375\n",
            "Eval loss at epoch 16:  0.042285513\n",
            "Eval Acc at epoch 16:  0.96413904\n",
            "Train loss at epoch 18:  0.005594207\n",
            "Train Acc at epoch 18:  0.9669824\n",
            "Eval loss at epoch 18:  0.047032185\n",
            "Eval Acc at epoch 18:  0.96782595\n",
            "Train loss at epoch 20:  0.0017234131\n",
            "Train Acc at epoch 20:  0.96993834\n",
            "Eval loss at epoch 20:  0.039331026\n",
            "Eval Acc at epoch 20:  0.9706541\n",
            "Test loss 0.03508736565709114\n",
            "Test Acc 0.9708229899406433\n",
            "##Generated history from the model##\n",
            "{'train_loss': ListWrapper([1.9441502, 0.024550203, 0.02807819, 0.012831195, 0.012235238, 0.010810825, 0.010392747, 0.0071930927, 0.013558329, 0.02276829, 0.0051291985, 0.008343734, 0.017832756, 0.022552257, 0.005849706, 0.0025793836, 0.0030849942, 0.005594207, 0.017246693, 0.0017234131]), 'eval_loss': ListWrapper([1.9253931, 0.03782888, 0.047809638, 0.03784327, 0.041073553, 0.036610663, 0.04252299, 0.042122036, 0.05778258, 0.06587202, 0.044302635, 0.039331656, 0.06096518, 0.061404668, 0.04038199, 0.042285513, 0.041481104, 0.047032185, 0.047683608, 0.039331026]), 'train_acc': ListWrapper([0.511327, 0.64382976, 0.79159707, 0.8510404, 0.88384587, 0.90449756, 0.91869843, 0.92909586, 0.93700165, 0.942896, 0.9477774, 0.9520231, 0.9554863, 0.95817065, 0.96065927, 0.9630375, 0.9651429, 0.9669824, 0.9685206, 0.96993834]), 'val_acc': ListWrapper([0.5127375, 0.74242926, 0.8273435, 0.8700745, 0.8955231, 0.91236365, 0.92434376, 0.9334178, 0.940227, 0.9453684, 0.95004785, 0.9539041, 0.95690984, 0.95940155, 0.96188855, 0.96413904, 0.9661102, 0.96782595, 0.96920997, 0.9706541]), 'test_loss': ListWrapper([0.035087366]), 'test_acc': ListWrapper([0.970823])}\n",
            "*** Current seed: 59067 ***\n",
            "Train loss at epoch 1:  1.2502563\n",
            "Train Acc at epoch 1:  0.62722296\n",
            "Eval loss at epoch 1:  1.2577444\n",
            "Eval Acc at epoch 1:  0.6269845\n",
            "Train loss at epoch 2:  0.021041134\n",
            "Train Acc at epoch 2:  0.727342\n",
            "Eval loss at epoch 2:  0.03273757\n",
            "Eval Acc at epoch 2:  0.80252534\n",
            "Train loss at epoch 4:  0.013801823\n",
            "Train Acc at epoch 4:  0.88605267\n",
            "Eval loss at epoch 4:  0.0384994\n",
            "Eval Acc at epoch 4:  0.90042937\n",
            "Train loss at epoch 6:  0.009807847\n",
            "Train Acc at epoch 6:  0.9262536\n",
            "Eval loss at epoch 6:  0.041244414\n",
            "Eval Acc at epoch 6:  0.93224066\n",
            "Train loss at epoch 8:  0.014253734\n",
            "Train Acc at epoch 8:  0.94488955\n",
            "Eval loss at epoch 8:  0.047872107\n",
            "Eval Acc at epoch 8:  0.9480382\n",
            "Train loss at epoch 10:  0.012884728\n",
            "Train Acc at epoch 10:  0.9554948\n",
            "Eval loss at epoch 10:  0.05273366\n",
            "Eval Acc at epoch 10:  0.9574642\n",
            "Train loss at epoch 12:  0.020184204\n",
            "Train Acc at epoch 12:  0.9619658\n",
            "Eval loss at epoch 12:  0.06249409\n",
            "Eval Acc at epoch 12:  0.9632483\n",
            "Train loss at epoch 14:  0.0064503895\n",
            "Train Acc at epoch 14:  0.96701765\n",
            "Eval loss at epoch 14:  0.036206193\n",
            "Eval Acc at epoch 14:  0.9681095\n",
            "Train loss at epoch 16:  0.004617943\n",
            "Train Acc at epoch 16:  0.9709319\n",
            "Eval loss at epoch 16:  0.037325893\n",
            "Eval Acc at epoch 16:  0.97176707\n",
            "Train loss at epoch 18:  0.0030138812\n",
            "Train Acc at epoch 18:  0.9738498\n",
            "Eval loss at epoch 18:  0.040016763\n",
            "Eval Acc at epoch 18:  0.974527\n",
            "Train loss at epoch 20:  0.006165437\n",
            "Train Acc at epoch 20:  0.9761856\n",
            "Eval loss at epoch 20:  0.03992438\n",
            "Eval Acc at epoch 20:  0.97670746\n",
            "Test loss 0.03538838028907776\n",
            "Test Acc 0.9768231511116028\n",
            "##Generated history from the model##\n",
            "{'train_loss': ListWrapper([1.2502563, 0.021041134, 0.017178632, 0.013801823, 0.015474474, 0.009807847, 0.010794585, 0.014253734, 0.00922003, 0.012884728, 0.021634236, 0.020184204, 0.004521347, 0.0064503895, 0.0051841736, 0.004617943, 0.012081103, 0.0030138812, 0.008916215, 0.006165437]), 'eval_loss': ListWrapper([1.2577444, 0.03273757, 0.036670875, 0.0384994, 0.042667188, 0.041244414, 0.038859896, 0.047872107, 0.039199956, 0.05273366, 0.055061504, 0.06249409, 0.036199886, 0.036206193, 0.037383214, 0.037325893, 0.044704, 0.040016763, 0.051697936, 0.03992438]), 'train_acc': ListWrapper([0.62722296, 0.727342, 0.84056085, 0.88605267, 0.9107063, 0.9262536, 0.9370086, 0.94488955, 0.9507931, 0.9554948, 0.95908636, 0.9619658, 0.9645804, 0.96701765, 0.96910465, 0.9709319, 0.972474, 0.9738498, 0.97511095, 0.9761856]), 'val_acc': ListWrapper([0.6269845, 0.80252534, 0.8681075, 0.90042937, 0.91941386, 0.93224066, 0.94136745, 0.9480382, 0.95334995, 0.9574642, 0.9606027, 0.9632483, 0.965874, 0.9681095, 0.9700574, 0.97176707, 0.97315437, 0.974527, 0.9756549, 0.97670746]), 'test_loss': ListWrapper([0.03538838]), 'test_acc': ListWrapper([0.97682315])}\n",
            "*** Current seed: 35086 ***\n",
            "Train loss at epoch 1:  4.58432\n",
            "Train Acc at epoch 1:  0.156351\n",
            "Eval loss at epoch 1:  4.5286455\n",
            "Eval Acc at epoch 1:  0.15579076\n",
            "Train loss at epoch 2:  0.023814121\n",
            "Train Acc at epoch 2:  0.3841557\n",
            "Eval loss at epoch 2:  0.039316297\n",
            "Eval Acc at epoch 2:  0.5558894\n",
            "Train loss at epoch 4:  0.023872754\n",
            "Train Acc at epoch 4:  0.74667686\n",
            "Eval loss at epoch 4:  0.042504773\n",
            "Eval Acc at epoch 4:  0.7789762\n",
            "Train loss at epoch 6:  0.012874276\n",
            "Train Acc at epoch 6:  0.8383484\n",
            "Eval loss at epoch 6:  0.038841397\n",
            "Eval Acc at epoch 6:  0.8518502\n",
            "Train loss at epoch 8:  0.003824276\n",
            "Train Acc at epoch 8:  0.88070863\n",
            "Eval loss at epoch 8:  0.030416934\n",
            "Eval Acc at epoch 8:  0.8882309\n",
            "Train loss at epoch 10:  0.016149811\n",
            "Train Acc at epoch 10:  0.9052711\n",
            "Eval loss at epoch 10:  0.05093205\n",
            "Eval Acc at epoch 10:  0.9097963\n",
            "Train loss at epoch 12:  0.002642166\n",
            "Train Acc at epoch 12:  0.9210316\n",
            "Eval loss at epoch 12:  0.037814002\n",
            "Eval Acc at epoch 12:  0.9243015\n",
            "Train loss at epoch 14:  0.0038199078\n",
            "Train Acc at epoch 14:  0.93227017\n",
            "Eval loss at epoch 14:  0.03835061\n",
            "Eval Acc at epoch 14:  0.9346329\n",
            "Train loss at epoch 16:  0.010427804\n",
            "Train Acc at epoch 16:  0.9404561\n",
            "Eval loss at epoch 16:  0.051132347\n",
            "Eval Acc at epoch 16:  0.94220096\n",
            "Train loss at epoch 18:  0.002775595\n",
            "Train Acc at epoch 18:  0.9469623\n",
            "Eval loss at epoch 18:  0.04215616\n",
            "Eval Acc at epoch 18:  0.9483915\n",
            "Train loss at epoch 20:  0.00031115432\n",
            "Train Acc at epoch 20:  0.95227134\n",
            "Eval loss at epoch 20:  0.030297158\n",
            "Eval Acc at epoch 20:  0.9534471\n",
            "Test loss 0.02296115644276142\n",
            "Test Acc 0.9537769556045532\n",
            "##Generated history from the model##\n",
            "{'train_loss': ListWrapper([4.58432, 0.023814121, 0.015640818, 0.023872754, 0.012181457, 0.012874276, 0.013954945, 0.003824276, 0.005994054, 0.016149811, 0.010988433, 0.002642166, 0.0110676475, 0.0038199078, 0.0148529885, 0.010427804, 0.0036617126, 0.002775595, 0.000463051, 0.00031115432]), 'eval_loss': ListWrapper([4.5286455, 0.039316297, 0.034713287, 0.042504773, 0.04099333, 0.038841397, 0.04487645, 0.030416934, 0.04419655, 0.05093205, 0.050188582, 0.037814002, 0.05315744, 0.03835061, 0.05958383, 0.051132347, 0.03827545, 0.04215616, 0.031010779, 0.030297158]), 'train_acc': ListWrapper([0.156351, 0.3841557, 0.64303243, 0.74667686, 0.8027681, 0.8383484, 0.86272436, 0.88070863, 0.89459085, 0.9052711, 0.91383225, 0.9210316, 0.9271348, 0.93227017, 0.9366813, 0.9404561, 0.9438704, 0.9469623, 0.94974357, 0.95227134]), 'val_acc': ListWrapper([0.15579076, 0.5558894, 0.7061945, 0.7789762, 0.8228126, 0.8518502, 0.87242216, 0.8882309, 0.9003989, 0.9097963, 0.91757345, 0.9243015, 0.9297837, 0.9346329, 0.93862927, 0.94220096, 0.945473, 0.9483915, 0.9510472, 0.9534471]), 'test_loss': ListWrapper([0.022961156]), 'test_acc': ListWrapper([0.95377696])}\n",
            "$$$ Results obtained for mode :postact $$$\n",
            "{93975: DictWrapper({'train_loss': ListWrapper([1.9441502, 0.024550203, 0.02807819, 0.012831195, 0.012235238, 0.010810825, 0.010392747, 0.0071930927, 0.013558329, 0.02276829, 0.0051291985, 0.008343734, 0.017832756, 0.022552257, 0.005849706, 0.0025793836, 0.0030849942, 0.005594207, 0.017246693, 0.0017234131]), 'eval_loss': ListWrapper([1.9253931, 0.03782888, 0.047809638, 0.03784327, 0.041073553, 0.036610663, 0.04252299, 0.042122036, 0.05778258, 0.06587202, 0.044302635, 0.039331656, 0.06096518, 0.061404668, 0.04038199, 0.042285513, 0.041481104, 0.047032185, 0.047683608, 0.039331026]), 'train_acc': ListWrapper([0.511327, 0.64382976, 0.79159707, 0.8510404, 0.88384587, 0.90449756, 0.91869843, 0.92909586, 0.93700165, 0.942896, 0.9477774, 0.9520231, 0.9554863, 0.95817065, 0.96065927, 0.9630375, 0.9651429, 0.9669824, 0.9685206, 0.96993834]), 'val_acc': ListWrapper([0.5127375, 0.74242926, 0.8273435, 0.8700745, 0.8955231, 0.91236365, 0.92434376, 0.9334178, 0.940227, 0.9453684, 0.95004785, 0.9539041, 0.95690984, 0.95940155, 0.96188855, 0.96413904, 0.9661102, 0.96782595, 0.96920997, 0.9706541]), 'test_loss': ListWrapper([0.035087366]), 'test_acc': ListWrapper([0.970823])}), 59067: DictWrapper({'train_loss': ListWrapper([1.2502563, 0.021041134, 0.017178632, 0.013801823, 0.015474474, 0.009807847, 0.010794585, 0.014253734, 0.00922003, 0.012884728, 0.021634236, 0.020184204, 0.004521347, 0.0064503895, 0.0051841736, 0.004617943, 0.012081103, 0.0030138812, 0.008916215, 0.006165437]), 'eval_loss': ListWrapper([1.2577444, 0.03273757, 0.036670875, 0.0384994, 0.042667188, 0.041244414, 0.038859896, 0.047872107, 0.039199956, 0.05273366, 0.055061504, 0.06249409, 0.036199886, 0.036206193, 0.037383214, 0.037325893, 0.044704, 0.040016763, 0.051697936, 0.03992438]), 'train_acc': ListWrapper([0.62722296, 0.727342, 0.84056085, 0.88605267, 0.9107063, 0.9262536, 0.9370086, 0.94488955, 0.9507931, 0.9554948, 0.95908636, 0.9619658, 0.9645804, 0.96701765, 0.96910465, 0.9709319, 0.972474, 0.9738498, 0.97511095, 0.9761856]), 'val_acc': ListWrapper([0.6269845, 0.80252534, 0.8681075, 0.90042937, 0.91941386, 0.93224066, 0.94136745, 0.9480382, 0.95334995, 0.9574642, 0.9606027, 0.9632483, 0.965874, 0.9681095, 0.9700574, 0.97176707, 0.97315437, 0.974527, 0.9756549, 0.97670746]), 'test_loss': ListWrapper([0.03538838]), 'test_acc': ListWrapper([0.97682315])}), 35086: DictWrapper({'train_loss': ListWrapper([4.58432, 0.023814121, 0.015640818, 0.023872754, 0.012181457, 0.012874276, 0.013954945, 0.003824276, 0.005994054, 0.016149811, 0.010988433, 0.002642166, 0.0110676475, 0.0038199078, 0.0148529885, 0.010427804, 0.0036617126, 0.002775595, 0.000463051, 0.00031115432]), 'eval_loss': ListWrapper([4.5286455, 0.039316297, 0.034713287, 0.042504773, 0.04099333, 0.038841397, 0.04487645, 0.030416934, 0.04419655, 0.05093205, 0.050188582, 0.037814002, 0.05315744, 0.03835061, 0.05958383, 0.051132347, 0.03827545, 0.04215616, 0.031010779, 0.030297158]), 'train_acc': ListWrapper([0.156351, 0.3841557, 0.64303243, 0.74667686, 0.8027681, 0.8383484, 0.86272436, 0.88070863, 0.89459085, 0.9052711, 0.91383225, 0.9210316, 0.9271348, 0.93227017, 0.9366813, 0.9404561, 0.9438704, 0.9469623, 0.94974357, 0.95227134]), 'val_acc': ListWrapper([0.15579076, 0.5558894, 0.7061945, 0.7789762, 0.8228126, 0.8518502, 0.87242216, 0.8882309, 0.9003989, 0.9097963, 0.91757345, 0.9243015, 0.9297837, 0.9346329, 0.93862927, 0.94220096, 0.945473, 0.9483915, 0.9510472, 0.9534471]), 'test_loss': ListWrapper([0.022961156]), 'test_acc': ListWrapper([0.95377696])})}\n",
            "## Final inference results ##\n",
            "{'preact': {93975: DictWrapper({'train_loss': ListWrapper([1.5020629, 0.111513734, 0.030485028, 0.017374333, 0.03239861, 0.01920261, 0.014212104, 0.013006775, 0.008543896, 0.02955879, 0.0046242927, 0.0034335377, 0.014850172, 0.01041007, 0.013744503, 0.002889713, 0.010793175, 0.032979805, 0.0018519362, 0.00763044]), 'eval_loss': ListWrapper([1.4894319, 0.11371566, 0.044650886, 0.036414247, 0.052803338, 0.053478215, 0.03845852, 0.045375794, 0.035503767, 0.057921425, 0.03181747, 0.03271551, 0.045986272, 0.051408257, 0.044059474, 0.033954185, 0.05636869, 0.0765837, 0.028544867, 0.041010637]), 'train_acc': ListWrapper([0.46342972, 0.59823185, 0.7577656, 0.8270072, 0.8645047, 0.8878606, 0.90423805, 0.9163624, 0.925725, 0.9328568, 0.93860024, 0.9437852, 0.94800705, 0.9514979, 0.9544715, 0.95715415, 0.95954573, 0.9613759, 0.96305865, 0.9648428]), 'val_acc': ListWrapper([0.4595167, 0.7012092, 0.79946804, 0.84910727, 0.8775046, 0.8968813, 0.91083974, 0.92137563, 0.9297435, 0.9357214, 0.9413433, 0.94608575, 0.94981605, 0.9530753, 0.95582145, 0.95844054, 0.9605964, 0.96212035, 0.96400565, 0.9656467]), 'test_loss': ListWrapper([0.03114769]), 'test_acc': ListWrapper([0.9658489])}), 59067: DictWrapper({'train_loss': ListWrapper([0.6333131, 0.032102894, 0.019049283, 0.019812327, 0.022937592, 0.013191328, 0.009741381, 0.0069683697, 0.013633315, 0.011286404, 0.0054675434, 0.030516975, 0.015975581, 0.01151331, 0.0039865747, 0.043913692, 0.0095618805, 0.003367858, 0.014858925, 0.005885481]), 'eval_loss': ListWrapper([0.61458904, 0.043392815, 0.037182834, 0.035377994, 0.043679878, 0.035798118, 0.03425306, 0.034040615, 0.049931105, 0.04054681, 0.035356075, 0.066842675, 0.043538246, 0.04596895, 0.034598067, 0.07932518, 0.047629554, 0.03816896, 0.053242836, 0.031941734]), 'train_acc': ListWrapper([0.7836289, 0.84003925, 0.904263, 0.9306596, 0.94469637, 0.953633, 0.9601539, 0.96501577, 0.9686636, 0.9713998, 0.97376597, 0.9755055, 0.9767037, 0.9780084, 0.97926587, 0.98010904, 0.9806954, 0.981601, 0.9823734, 0.9830212]), 'val_acc': ListWrapper([0.7817366, 0.88226366, 0.9203954, 0.9389244, 0.94964665, 0.9572343, 0.96276635, 0.96707445, 0.97012794, 0.97261703, 0.9748775, 0.9760557, 0.9773737, 0.978633, 0.9798903, 0.9802786, 0.98113567, 0.98204494, 0.9826886, 0.98338735]), 'test_loss': ListWrapper([0.031808954]), 'test_acc': ListWrapper([0.98344964])}), 35086: DictWrapper({'train_loss': ListWrapper([1.8664559, 0.0277535, 0.016271364, 0.015906628, 0.016602397, 0.013607118, 0.0066313017, 0.0041651134, 0.025199896, 0.013844115, 0.0062583825, 0.005228277, 0.0030493222, 0.0040913164, 0.014648319, 0.004678122, 0.00493995, 0.00095867465, 0.00412795, 0.012750941]), 'eval_loss': ListWrapper([1.8307102, 0.03638487, 0.03404544, 0.03557055, 0.032021135, 0.03873594, 0.033708677, 0.030477352, 0.048881423, 0.044959094, 0.037477028, 0.03599776, 0.033120755, 0.029442279, 0.056746654, 0.0445571, 0.03413323, 0.027259674, 0.042175744, 0.05406733]), 'train_acc': ListWrapper([0.2860653, 0.47741956, 0.6964079, 0.7846124, 0.83232933, 0.8624094, 0.88320273, 0.8986169, 0.91004705, 0.9187643, 0.9261041, 0.932332, 0.93758076, 0.94206774, 0.9458275, 0.94901717, 0.95193684, 0.95458007, 0.9569566, 0.9589669]), 'val_acc': ListWrapper([0.28292271, 0.6225294, 0.7499737, 0.8123054, 0.84925175, 0.87382054, 0.89158505, 0.904987, 0.91461426, 0.9226121, 0.9293915, 0.93508536, 0.9399412, 0.9440935, 0.9474377, 0.95053643, 0.9532919, 0.9558225, 0.958031, 0.959863]), 'test_loss': ListWrapper([0.040787797]), 'test_acc': ListWrapper([0.9601051])})}, 'postact': {93975: DictWrapper({'train_loss': ListWrapper([1.9441502, 0.024550203, 0.02807819, 0.012831195, 0.012235238, 0.010810825, 0.010392747, 0.0071930927, 0.013558329, 0.02276829, 0.0051291985, 0.008343734, 0.017832756, 0.022552257, 0.005849706, 0.0025793836, 0.0030849942, 0.005594207, 0.017246693, 0.0017234131]), 'eval_loss': ListWrapper([1.9253931, 0.03782888, 0.047809638, 0.03784327, 0.041073553, 0.036610663, 0.04252299, 0.042122036, 0.05778258, 0.06587202, 0.044302635, 0.039331656, 0.06096518, 0.061404668, 0.04038199, 0.042285513, 0.041481104, 0.047032185, 0.047683608, 0.039331026]), 'train_acc': ListWrapper([0.511327, 0.64382976, 0.79159707, 0.8510404, 0.88384587, 0.90449756, 0.91869843, 0.92909586, 0.93700165, 0.942896, 0.9477774, 0.9520231, 0.9554863, 0.95817065, 0.96065927, 0.9630375, 0.9651429, 0.9669824, 0.9685206, 0.96993834]), 'val_acc': ListWrapper([0.5127375, 0.74242926, 0.8273435, 0.8700745, 0.8955231, 0.91236365, 0.92434376, 0.9334178, 0.940227, 0.9453684, 0.95004785, 0.9539041, 0.95690984, 0.95940155, 0.96188855, 0.96413904, 0.9661102, 0.96782595, 0.96920997, 0.9706541]), 'test_loss': ListWrapper([0.035087366]), 'test_acc': ListWrapper([0.970823])}), 59067: DictWrapper({'train_loss': ListWrapper([1.2502563, 0.021041134, 0.017178632, 0.013801823, 0.015474474, 0.009807847, 0.010794585, 0.014253734, 0.00922003, 0.012884728, 0.021634236, 0.020184204, 0.004521347, 0.0064503895, 0.0051841736, 0.004617943, 0.012081103, 0.0030138812, 0.008916215, 0.006165437]), 'eval_loss': ListWrapper([1.2577444, 0.03273757, 0.036670875, 0.0384994, 0.042667188, 0.041244414, 0.038859896, 0.047872107, 0.039199956, 0.05273366, 0.055061504, 0.06249409, 0.036199886, 0.036206193, 0.037383214, 0.037325893, 0.044704, 0.040016763, 0.051697936, 0.03992438]), 'train_acc': ListWrapper([0.62722296, 0.727342, 0.84056085, 0.88605267, 0.9107063, 0.9262536, 0.9370086, 0.94488955, 0.9507931, 0.9554948, 0.95908636, 0.9619658, 0.9645804, 0.96701765, 0.96910465, 0.9709319, 0.972474, 0.9738498, 0.97511095, 0.9761856]), 'val_acc': ListWrapper([0.6269845, 0.80252534, 0.8681075, 0.90042937, 0.91941386, 0.93224066, 0.94136745, 0.9480382, 0.95334995, 0.9574642, 0.9606027, 0.9632483, 0.965874, 0.9681095, 0.9700574, 0.97176707, 0.97315437, 0.974527, 0.9756549, 0.97670746]), 'test_loss': ListWrapper([0.03538838]), 'test_acc': ListWrapper([0.97682315])}), 35086: DictWrapper({'train_loss': ListWrapper([4.58432, 0.023814121, 0.015640818, 0.023872754, 0.012181457, 0.012874276, 0.013954945, 0.003824276, 0.005994054, 0.016149811, 0.010988433, 0.002642166, 0.0110676475, 0.0038199078, 0.0148529885, 0.010427804, 0.0036617126, 0.002775595, 0.000463051, 0.00031115432]), 'eval_loss': ListWrapper([4.5286455, 0.039316297, 0.034713287, 0.042504773, 0.04099333, 0.038841397, 0.04487645, 0.030416934, 0.04419655, 0.05093205, 0.050188582, 0.037814002, 0.05315744, 0.03835061, 0.05958383, 0.051132347, 0.03827545, 0.04215616, 0.031010779, 0.030297158]), 'train_acc': ListWrapper([0.156351, 0.3841557, 0.64303243, 0.74667686, 0.8027681, 0.8383484, 0.86272436, 0.88070863, 0.89459085, 0.9052711, 0.91383225, 0.9210316, 0.9271348, 0.93227017, 0.9366813, 0.9404561, 0.9438704, 0.9469623, 0.94974357, 0.95227134]), 'val_acc': ListWrapper([0.15579076, 0.5558894, 0.7061945, 0.7789762, 0.8228126, 0.8518502, 0.87242216, 0.8882309, 0.9003989, 0.9097963, 0.91757345, 0.9243015, 0.9297837, 0.9346329, 0.93862927, 0.94220096, 0.945473, 0.9483915, 0.9510472, 0.9534471]), 'test_loss': ListWrapper([0.022961156]), 'test_acc': ListWrapper([0.95377696])})}}\n"
          ]
        }
      ]
    },
    {
      "cell_type": "markdown",
      "source": [
        "# extracting test accuracies across seeds"
      ],
      "metadata": {
        "id": "YudDcLjNsgpv"
      }
    },
    {
      "cell_type": "code",
      "source": [
        "random_seeds"
      ],
      "metadata": {
        "colab": {
          "base_uri": "https://localhost:8080/"
        },
        "id": "J896qmtgll_N",
        "outputId": "2a775511-57e3-4b50-f9e4-14b3fc3d15a9"
      },
      "execution_count": 129,
      "outputs": [
        {
          "output_type": "execute_result",
          "data": {
            "text/plain": [
              "[93975, 59067, 35086]"
            ]
          },
          "metadata": {},
          "execution_count": 129
        }
      ]
    },
    {
      "cell_type": "code",
      "source": [
        "act = [\"preact\", \"postact\"]\n",
        "test_acc_dict = {}\n",
        "for cur_act in act:\n",
        "  test_acc_list = []\n",
        "  for seed in random_seeds:\n",
        "    test_acc_list.append(inference_result_final[cur_act][seed]['test_acc'][0])\n",
        "  test_acc_dict[cur_act] = test_acc_list\n",
        "test_acc_dict"
      ],
      "metadata": {
        "colab": {
          "base_uri": "https://localhost:8080/"
        },
        "id": "fnj1aAECqzgo",
        "outputId": "8b26ba96-b8ae-4bee-fb9a-87db734fc4b6"
      },
      "execution_count": 135,
      "outputs": [
        {
          "output_type": "execute_result",
          "data": {
            "text/plain": [
              "{'postact': [0.970823, 0.97682315, 0.95377696],\n",
              " 'preact': [0.9658489, 0.98344964, 0.9601051]}"
            ]
          },
          "metadata": {},
          "execution_count": 135
        }
      ]
    },
    {
      "cell_type": "code",
      "source": [
        "# Calculating variance in test accuracies across seeds between pre and post act\n",
        "preact_test_acc_var = np.var(test_acc_dict['preact'])\n",
        "postact_test_acc_var = np.var(test_acc_dict['postact'])\n",
        "preact_test_acc_var, postact_test_acc_var"
      ],
      "metadata": {
        "colab": {
          "base_uri": "https://localhost:8080/"
        },
        "id": "m7QWSBMavjEk",
        "outputId": "cb2e1b38-74a4-4157-e337-f5ea8643c352"
      },
      "execution_count": 144,
      "outputs": [
        {
          "output_type": "execute_result",
          "data": {
            "text/plain": [
              "(9.86381e-05, 9.52996e-05)"
            ]
          },
          "metadata": {},
          "execution_count": 144
        }
      ]
    },
    {
      "cell_type": "markdown",
      "source": [
        "# extracting test losses across seeds"
      ],
      "metadata": {
        "id": "lSV3X_owsp2C"
      }
    },
    {
      "cell_type": "code",
      "source": [
        "act = [\"preact\", \"postact\"]\n",
        "test_loss_dict = {}\n",
        "for cur_act in act:\n",
        "  test_loss_list = []\n",
        "  for seed in random_seeds:\n",
        "    test_loss_list.append(inference_result_final[cur_act][seed]['test_loss'][0])\n",
        "  test_loss_dict[cur_act] = test_loss_list\n",
        "test_loss_dict"
      ],
      "metadata": {
        "colab": {
          "base_uri": "https://localhost:8080/"
        },
        "id": "XjwFRcmMr7RS",
        "outputId": "8a74ec1b-dc85-47b7-c95e-53b742f5749a"
      },
      "execution_count": 137,
      "outputs": [
        {
          "output_type": "execute_result",
          "data": {
            "text/plain": [
              "{'postact': [0.035087366, 0.03538838, 0.022961156],\n",
              " 'preact': [0.03114769, 0.031808954, 0.040787797]}"
            ]
          },
          "metadata": {},
          "execution_count": 137
        }
      ]
    },
    {
      "cell_type": "code",
      "source": [
        "# Calculating variance in test loss across seeds between pre and post act\n",
        "preact_test_loss_var = np.var(test_loss_dict['preact'])\n",
        "postact_test_loss_var = np.var(test_loss_dict['postact'])\n",
        "preact_test_loss_var, postact_test_loss_var"
      ],
      "metadata": {
        "colab": {
          "base_uri": "https://localhost:8080/"
        },
        "id": "BS5ekdBBvNPi",
        "outputId": "3149bf19-381c-4bff-8113-e75ab9cb9382"
      },
      "execution_count": 143,
      "outputs": [
        {
          "output_type": "execute_result",
          "data": {
            "text/plain": [
              "(1.9332061e-05, 3.350794e-05)"
            ]
          },
          "metadata": {},
          "execution_count": 143
        }
      ]
    },
    {
      "cell_type": "markdown",
      "source": [
        "# Extracting train losses across seeds and obtaining average loss"
      ],
      "metadata": {
        "id": "GQHqZN4utSfn"
      }
    },
    {
      "cell_type": "code",
      "source": [
        "np.mean(inference_result_final[cur_act][seed]['train_loss'])"
      ],
      "metadata": {
        "colab": {
          "base_uri": "https://localhost:8080/"
        },
        "id": "Ndvrex9Fs5HM",
        "outputId": "c10c2c6d-237e-4e7f-9ac4-a50ec976c34b"
      },
      "execution_count": 139,
      "outputs": [
        {
          "output_type": "execute_result",
          "data": {
            "text/plain": [
              "0.23868184"
            ]
          },
          "metadata": {},
          "execution_count": 139
        }
      ]
    },
    {
      "cell_type": "code",
      "source": [
        "act = [\"preact\", \"postact\"]\n",
        "avg_train_loss_dict = {}\n",
        "for cur_act in act:\n",
        "  avg_train_loss_list = []\n",
        "  for seed in random_seeds:\n",
        "    avg_train_loss_list.append(np.mean(inference_result_final[cur_act][seed]['train_loss']))\n",
        "  avg_train_loss_dict[cur_act] = avg_train_loss_list\n",
        "avg_train_loss_dict"
      ],
      "metadata": {
        "colab": {
          "base_uri": "https://localhost:8080/"
        },
        "id": "QkSVQm38tmJo",
        "outputId": "0ab03c2d-8a9e-4489-c488-725a29fd8f90"
      },
      "execution_count": 141,
      "outputs": [
        {
          "output_type": "execute_result",
          "data": {
            "text/plain": [
              "{'postact': [0.108825244, 0.07337411, 0.23868184],\n",
              " 'preact': [0.09407832, 0.046354193, 0.10335843]}"
            ]
          },
          "metadata": {},
          "execution_count": 141
        }
      ]
    },
    {
      "cell_type": "code",
      "source": [
        "# Calculating variance in average loss across seeds between pre and post act\n",
        "preact_avg_loss_var = np.var(avg_train_loss_dict['preact'])\n",
        "postact_avg_loss_var = np.var(avg_train_loss_dict['postact'])\n",
        "preact_avg_loss_var, postact_avg_loss_var"
      ],
      "metadata": {
        "colab": {
          "base_uri": "https://localhost:8080/"
        },
        "id": "y14coWp1uWqQ",
        "outputId": "0768a1de-523b-4a9d-e06b-815bc91f2286"
      },
      "execution_count": 142,
      "outputs": [
        {
          "output_type": "execute_result",
          "data": {
            "text/plain": [
              "(0.00062368845, 0.0050495737)"
            ]
          },
          "metadata": {},
          "execution_count": 142
        }
      ]
    },
    {
      "cell_type": "markdown",
      "source": [
        "# Plotting accuracy vs epoch to show improvement across epochs"
      ],
      "metadata": {
        "id": "gbUKSAl3wfOe"
      }
    },
    {
      "cell_type": "code",
      "source": [
        "plt.figure(figsize=(10,15))\n",
        "act = [\"preact\", \"postact\"]\n",
        "train_loss_dict = {}\n",
        "for cur_act in act:\n",
        "  train_loss_list = []\n",
        "  for seed in random_seeds:\n",
        "    cur_lis = list(inference_result_final[cur_act][seed]['train_acc'])\n",
        "    train_loss_list.append(cur_lis)\n",
        "    plt.plot(list(range(20)),cur_lis,marker=\"o\")\n",
        "  train_loss_dict[cur_act] = train_loss_list"
      ],
      "metadata": {
        "colab": {
          "base_uri": "https://localhost:8080/",
          "height": 863
        },
        "id": "fAZjClPfvBn5",
        "outputId": "8f55bfe6-cbd5-415b-c0c2-7728d0cdff16"
      },
      "execution_count": 165,
      "outputs": [
        {
          "output_type": "display_data",
          "data": {
            "text/plain": [
              "<Figure size 720x1080 with 1 Axes>"
            ],
            "image/png": "[encoded data removed]"
          },
          "metadata": {
            "needs_background": "light"
          }
        }
      ]
    },
    {
      "cell_type": "code",
      "source": [
        ""
      ],
      "metadata": {
        "id": "KY8SVa9xw01L"
      },
      "execution_count": null,
      "outputs": []
    }
  ]
}